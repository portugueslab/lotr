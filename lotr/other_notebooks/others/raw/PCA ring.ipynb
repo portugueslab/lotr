{
 "cells": [
  {
   "cell_type": "code",
   "execution_count": null,
   "id": "58431c41",
   "metadata": {},
   "outputs": [],
   "source": [
    "%matplotlib inline\n",
    "from pathlib import Path\n",
    "from tqdm import tqdm\n",
    "import pandas as pd\n",
    "import numpy as np\n",
    "from matplotlib import pyplot as plt\n",
    "\n",
    "from lotr.experiment_class import LotrExperiment"
   ]
  },
  {
   "cell_type": "code",
   "execution_count": null,
   "id": "723088d3",
   "metadata": {},
   "outputs": [],
   "source": [
    "master_path = Path(\"/Users/luigipetrucco/Desktop/all_source_data/full_ring\")\n",
    "file_list = list(master_path.glob(\"*/*[0-9]_f*\"))"
   ]
  },
  {
   "cell_type": "code",
   "execution_count": null,
   "id": "e56abed1",
   "metadata": {},
   "outputs": [],
   "source": [
    "master_path = Path(\"/Users/luigipetrucco/Desktop/all_source_data/full_ring\")\n",
    "file_list = [f.parent for f in master_path.glob(\"*/*[0-9]_f*/selected.h5\")]"
   ]
  },
  {
   "cell_type": "code",
   "execution_count": null,
   "id": "3c27e1d1",
   "metadata": {},
   "outputs": [],
   "source": [
    "exp.pca_t_slice"
   ]
  },
  {
   "cell_type": "code",
   "execution_count": null,
   "id": "f4b7b19f",
   "metadata": {},
   "outputs": [],
   "source": [
    "pcaed.shape"
   ]
  },
  {
   "cell_type": "code",
   "execution_count": null,
   "id": "d9ab754a",
   "metadata": {},
   "outputs": [],
   "source": [
    "phase[t_slice]"
   ]
  },
  {
   "cell_type": "code",
   "execution_count": null,
   "id": "32039df1",
   "metadata": {},
   "outputs": [],
   "source": [
    "from lotr.pca import pca_and_phase\n",
    "\n",
    "for f in file_list:\n",
    "    exp = LotrExperiment(f)\n",
    "    traces = exp.traces \n",
    "    hdn_indexes = np.array(exp.hdn_indexes)\n",
    "    t_slice = exp.pca_t_slice\n",
    "\n",
    "    pcaed, phase = pca_and_phase(traces[t_slice, hdn_indexes].T)\n",
    "\n",
    "    fig, ax = plt.subplots(1, 1, figsize=(3., 3.))\n",
    "\n",
    "    ax.scatter(pcaed[:, 0], pcaed[:, 1], \n",
    "                 c=pcaed[:, 2], cmap=\"viridis\") \n",
    "    ax.set_title(f.name)\n",
    "    plt.axis(\"equal\")\n"
   ]
  },
  {
   "cell_type": "code",
   "execution_count": null,
   "id": "70bee656",
   "metadata": {},
   "outputs": [],
   "source": []
  }
 ],
 "metadata": {
  "kernelspec": {
   "display_name": "rplab",
   "language": "python",
   "name": "rplab"
  },
  "language_info": {
   "codemirror_mode": {
    "name": "ipython",
    "version": 3
   },
   "file_extension": ".py",
   "mimetype": "text/x-python",
   "name": "python",
   "nbconvert_exporter": "python",
   "pygments_lexer": "ipython3"
  }
 },
 "nbformat": 4,
 "nbformat_minor": 5
}

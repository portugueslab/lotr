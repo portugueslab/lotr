{
 "cells": [
  {
   "cell_type": "code",
   "execution_count": null,
   "metadata": {},
   "outputs": [],
   "source": [
    "%matplotlib widget"
   ]
  },
  {
   "cell_type": "code",
   "execution_count": null,
   "metadata": {},
   "outputs": [],
   "source": [
    "from pathlib import Path\n",
    "\n",
    "import flammkuchen as fl\n",
    "import numpy as np"
   ]
  },
  {
   "cell_type": "code",
   "execution_count": null,
   "metadata": {},
   "outputs": [],
   "source": [
    "df = fl.load(\"/Users/luigipetrucco/Desktop/source_data_batch1/210728_f6eyes_clol/083152_behavior_log.hdf5\", \"/data\")"
   ]
  },
  {
   "cell_type": "code",
   "execution_count": null,
   "metadata": {},
   "outputs": [],
   "source": [
    "import ipywidgets as widgets"
   ]
  },
  {
   "cell_type": "code",
   "execution_count": null,
   "metadata": {},
   "outputs": [],
   "source": [
    "plt.figure()\n",
    "# plt.plot(df[\"t\"], df[\"tail_sum\"])\n",
    "x = np.arange(0, 1000)\n",
    "params=dict(c=0.1, o=0.01)\n",
    "l = plt.plot(x, x*params[\"c\"] + params[\"o\"])\n",
    "s = plt.scatter(np.random.rand(100)*1000, np.random.rand(100)*1000,\n",
    "               c=np.random.rand(100)>0.5)\n",
    "\n",
    "@widgets.interact(c=(0.2, 8, 0.2), o=(0., 1, 0.05))\n",
    "def update(**kwargs):\n",
    "    [params.update({k: v}) for k, v in kwargs.items()]\n",
    "    l[0].set_data(x, x*params[\"c\"] + params[\"o\"])\n",
    "    sel=np.random.rand(100) > 0.5\n",
    "    s.set_array(sel)"
   ]
  },
  {
   "cell_type": "code",
   "execution_count": null,
   "metadata": {},
   "outputs": [],
   "source": [
    "params"
   ]
  },
  {
   "cell_type": "code",
   "execution_count": null,
   "metadata": {},
   "outputs": [],
   "source": []
  }
 ],
 "metadata": {
  "kernelspec": {
   "display_name": "rplab",
   "language": "python",
   "name": "rplab"
  },
  "language_info": {
   "codemirror_mode": {
    "name": "ipython",
    "version": 3
   },
   "file_extension": ".py",
   "mimetype": "text/x-python",
   "name": "python",
   "nbconvert_exporter": "python",
   "pygments_lexer": "ipython3"
  }
 },
 "nbformat": 4,
 "nbformat_minor": 4
}

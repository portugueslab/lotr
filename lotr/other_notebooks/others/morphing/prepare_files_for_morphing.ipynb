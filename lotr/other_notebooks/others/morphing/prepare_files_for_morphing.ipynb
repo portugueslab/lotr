{
 "cells": [
  {
   "cell_type": "code",
   "execution_count": null,
   "id": "empty-detector",
   "metadata": {},
   "outputs": [],
   "source": [
    "import numpy as np\n",
    "import nrrd\n",
    "import tifffile as tiff\n",
    "from pathlib import Path\n",
    "import flammkuchen as fl\n",
    "import os.path\n",
    "import json"
   ]
  },
  {
   "cell_type": "code",
   "execution_count": null,
   "id": "exclusive-residence",
   "metadata": {},
   "outputs": [],
   "source": [
    "master =  Path(r\"\\\\Funes\\Shared\\experiments\\E0071_lotr\\full_ring\")"
   ]
  },
  {
   "cell_type": "code",
   "execution_count": null,
   "id": "stainless-billion",
   "metadata": {},
   "outputs": [],
   "source": [
    "# find suite2p files: \n",
    "files_path = list(master.glob(\"*_f*/**/data_from_suite2p_unfiltered.h5\"))"
   ]
  },
  {
   "cell_type": "code",
   "execution_count": null,
   "id": "liberal-jefferson",
   "metadata": {},
   "outputs": [],
   "source": [
    "# For a single fish\n",
    "suite2p_file = fl.load(files_path[0])\n",
    "anatomy = suite2p_file['anatomy_stack']\n",
    "dir_path = os.path.dirname(str(files_path[0]))\n",
    "file_name = Path(dir_path) / 'anatomy_suite2p.tiff'\n",
    "tiff.imsave(file_name, anatomy)\n",
    "\n",
    "file_name = Path(dir_path) / 'anatomy_suite2p.nrrd'\n",
    "nrrd.write(str(file_name), anatomy, index_order='C')\n"
   ]
  },
  {
   "cell_type": "code",
   "execution_count": null,
   "id": "manufactured-probe",
   "metadata": {},
   "outputs": [],
   "source": [
    "file_name = Path(dir_path) / 'anatomy_suite2p.nrrd'\n",
    "file_name\n",
    "with open(next(Path(dir_path).glob(\"*metadata.json\")), \"r\") as f:\n",
    "        metadata = json.load(f)\n",
    "lsconfig = metadata[\"imaging\"][\"microscope_config\"]['lightsheet']['scanning']\n",
    "z_tot_span = lsconfig[\"z\"][\"piezo_max\"] - lsconfig[\"z\"][\"piezo_min\"]\n",
    "n_planes = lsconfig[\"triggering\"][\"n_planes\"]\n",
    "z_res = z_tot_span / n_planes\n",
    "#\n",
    "header = {'kinds': ['domain', 'domain', 'domain'], 'units': ['microns', 'microns', 'microns'], 'spacings': [z_res, 0.6, 0.6]}\n",
    "nrrd.write(str(file_name), anatomy, header, index_order='C')"
   ]
  },
  {
   "cell_type": "code",
   "execution_count": null,
   "id": "advised-popularity",
   "metadata": {},
   "outputs": [],
   "source": []
  },
  {
   "cell_type": "code",
   "execution_count": null,
   "id": "pending-buffer",
   "metadata": {},
   "outputs": [],
   "source": [
    "# For all fish in master \n",
    "for f in files_path:\n",
    "    print(f)\n",
    "    suite2p_file = fl.load(f)\n",
    "    anatomy = suite2p_file['anatomy_stack']\n",
    "    dir_path = os.path.dirname(str(f))\n",
    "    file_name = Path(dir_path) / 'anatomy_suite2p.tiff'\n",
    "    tiff.imsave(file_name, anatomy)\n",
    "    \n",
    "    file_name = Path(dir_path) / 'anatomy_suite2p_res.nrrd'\n",
    "    with open(next(Path(dir_path).glob(\"*metadata.json\")), \"r\") as f:\n",
    "        metadata = json.load(f)\n",
    "    lsconfig = metadata[\"imaging\"][\"microscope_config\"]['lightsheet']['scanning']\n",
    "    z_tot_span = lsconfig[\"z\"][\"piezo_max\"] - lsconfig[\"z\"][\"piezo_min\"]\n",
    "    n_planes = lsconfig[\"triggering\"][\"n_planes\"]\n",
    "    z_res = z_tot_span / n_planes\n",
    "    \n",
    "    header = {'kinds': ['domain', 'domain', 'domain'], 'units': ['microns', 'microns', 'microns'], 'spacings': [0.6, 0.6, z_res]}\n",
    "    nrrd.write(str(file_name), anatomy, header, index_order='C')"
   ]
  },
  {
   "cell_type": "code",
   "execution_count": null,
   "id": "subsequent-kennedy",
   "metadata": {},
   "outputs": [],
   "source": []
  },
  {
   "cell_type": "code",
   "execution_count": null,
   "id": "measured-living",
   "metadata": {},
   "outputs": [],
   "source": []
  },
  {
   "cell_type": "code",
   "execution_count": null,
   "id": "fuzzy-death",
   "metadata": {},
   "outputs": [],
   "source": []
  }
 ],
 "metadata": {
  "kernelspec": {
   "display_name": "Python 3",
   "language": "python",
   "name": "python3"
  },
  "language_info": {
   "codemirror_mode": {
    "name": "ipython",
    "version": 3
   },
   "file_extension": ".py",
   "mimetype": "text/x-python",
   "name": "python",
   "nbconvert_exporter": "python",
   "pygments_lexer": "ipython3"
  }
 },
 "nbformat": 4,
 "nbformat_minor": 5
}

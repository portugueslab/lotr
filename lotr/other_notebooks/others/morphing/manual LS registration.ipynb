{
 "cells": [
  {
   "cell_type": "markdown",
   "id": "81a14bf7-d3d9-4810-94bb-9fc3e41ba04b",
   "metadata": {},
   "source": [
    "# Anatomy of ring and motor-related neurons in the hindbrain"
   ]
  },
  {
   "cell_type": "code",
   "execution_count": null,
   "id": "19004331-d41d-439e-a63a-810a2cae7e23",
   "metadata": {},
   "outputs": [],
   "source": [
    "%matplotlib widget\n",
    "# %gui qt\n",
    "from pathlib import Path\n",
    "from shutil import copy\n",
    "\n",
    "import flammkuchen as fl\n",
    "import napari\n",
    "import numpy as np\n",
    "import pandas as pd\n",
    "from lotr import DATASET_LOCATION, LotrExperiment, dataset_folders\n",
    "from matplotlib import pyplot as plt\n",
    "from tqdm import tqdm"
   ]
  },
  {
   "cell_type": "code",
   "execution_count": null,
   "id": "17383367-ace3-4beb-9fc4-74fe29d35dd6",
   "metadata": {},
   "outputs": [],
   "source": [
    "new_dataset_folders = [d for d in dataset_folders if not (d / \"centroid.txt\").exists()]\n",
    "i = 0\n",
    "all_centroids = dict()"
   ]
  },
  {
   "cell_type": "code",
   "execution_count": null,
   "id": "cff4898c-97cb-42ea-870f-dfae8c60cc13",
   "metadata": {},
   "outputs": [],
   "source": [
    "path = new_dataset_folders[i]\n",
    "# for path in dataset_folders[:2]:\n",
    "exp = LotrExperiment(path)\n",
    "v = napari.Viewer()\n",
    "anatomy_stack = exp.anatomy_stack\n",
    "roi_stack = exp.rois_stack + 1\n",
    "\n",
    "v.add_image(anatomy_stack, contrast_limits=(0, 30))\n",
    "v.add_labels(roi_stack)\n",
    "pts = v.add_points([], ndim=3)"
   ]
  },
  {
   "cell_type": "code",
   "execution_count": null,
   "id": "ed007a74-6368-4a34-b670-8eedb7500f1e",
   "metadata": {},
   "outputs": [],
   "source": [
    "all_centroids[path.name] = pts.data\n",
    "i += 1\n",
    "v.close()"
   ]
  },
  {
   "cell_type": "code",
   "execution_count": null,
   "id": "add86f4d-7994-4f55-a04e-a68e6788194a",
   "metadata": {},
   "outputs": [],
   "source": [
    "all_centroids"
   ]
  },
  {
   "cell_type": "code",
   "execution_count": null,
   "id": "b1c428af-4c6c-4479-9bcf-09c8d7c38cfd",
   "metadata": {},
   "outputs": [],
   "source": [
    "fl.save(\"/Users/luigipetrucco/Desktop/centroids.h5\", all_centroids)"
   ]
  },
  {
   "cell_type": "code",
   "execution_count": null,
   "id": "aada0396-dd56-486f-af30-ecb7d65b72c2",
   "metadata": {},
   "outputs": [],
   "source": [
    "vals.shape"
   ]
  },
  {
   "cell_type": "code",
   "execution_count": null,
   "id": "d3eb7528-1724-4d79-bebe-7d33f59875e3",
   "metadata": {},
   "outputs": [],
   "source": [
    "for path, (name, vals) in zip(new_dataset_folders, all_centroids.items()):\n",
    "    assert path.name == name\n",
    "\n",
    "    with open(path / \"centroid.txt\", \"w\") as f:\n",
    "        f.writelines([f\"{vals[0, i]}\\n\" for i in [0, 2, 1]])\n",
    "\n",
    "    transform_mat = np.eye(4)\n",
    "    transform_mat[:3, 3] = -vals[:, [0, 2, 1]]\n",
    "\n",
    "    np.save(path / \"centering_mtx.npy\", transform_mat)"
   ]
  },
  {
   "cell_type": "markdown",
   "id": "9daf9b5a-e465-492f-abe2-18ef81ad4925",
   "metadata": {},
   "source": [
    "# Look at results"
   ]
  },
  {
   "cell_type": "code",
   "execution_count": null,
   "id": "54fa63a1-f9bc-43a5-9d4a-a4ec4e817f73",
   "metadata": {},
   "outputs": [],
   "source": [
    "data_df = []\n",
    "for path in tqdm(dataset_folders):\n",
    "    exp = LotrExperiment(path)\n",
    "    coords = exp.coords_um\n",
    "    cent_coords = exp.morphed_coords_um\n",
    "\n",
    "    data_dict = {f\"c{i}\": coords[:, i] for i in range(3)}\n",
    "    data_dict.update({f\"centered{i}\": cent_coords[:, i] for i in range(3)})\n",
    "    data_dict[\"fid\"] = path.name\n",
    "    # data_dict[\"new\"] = path in new_dataset_folders\n",
    "\n",
    "    data_df.append(pd.DataFrame(data_dict))\n",
    "\n",
    "data_df = pd.concat(data_df, ignore_index=1)"
   ]
  },
  {
   "cell_type": "code",
   "execution_count": null,
   "id": "1cabce65-4904-4b0d-87e1-9e60287ac6a8",
   "metadata": {},
   "outputs": [],
   "source": [
    "f, axs = plt.subplots(1, 2, figsize=(7, 3))\n",
    "sel = data_df  # [~data_df[\"new\"]]\n",
    "axs[0].scatter(\n",
    "    sel[\"centered1\"], sel[\"centered2\"], lw=0, s=5, alpha=0.03, color=(0.3,) * 3,\n",
    ")\n",
    "axs[1].scatter(\n",
    "    sel[\"centered1\"], sel[\"centered0\"] * 10, lw=0, s=5, alpha=0.03, color=(0.3,) * 3,\n",
    ")\n",
    "for i in range(2):\n",
    "    # axs[i].set_title(k)\n",
    "    # axs[i].axis(\"equal\")\n",
    "    axs[i].axis(\"off\")"
   ]
  },
  {
   "cell_type": "markdown",
   "id": "34c86257-c7b4-412e-9f8b-dcd41475f123",
   "metadata": {},
   "source": [
    "## Create average lighsheet anatomy"
   ]
  },
  {
   "cell_type": "code",
   "execution_count": null,
   "id": "aa9e7d40-f57c-4fec-8b3e-4088aa8bff4f",
   "metadata": {},
   "outputs": [],
   "source": [
    "from scipy.ndimage import affine_transform"
   ]
  },
  {
   "cell_type": "code",
   "execution_count": null,
   "id": "0137d5ff-081f-46cd-8785-9e614beabdbd",
   "metadata": {},
   "outputs": [],
   "source": [
    "def _to_uint255(stack, lower_percent=1, higher_percent=99.99):\n",
    "    new_stack = stack.copy()\n",
    "    new_stack -= np.percentile(new_stack, lower_percent)\n",
    "    new_stack[new_stack < 0] = 0\n",
    "\n",
    "    new_stack *= 255 / np.percentile(new_stack, higher_percent)\n",
    "    new_stack[new_stack > 255] = 255\n",
    "\n",
    "    return new_stack  # .astype(np.uint8)"
   ]
  },
  {
   "cell_type": "code",
   "execution_count": null,
   "id": "990fd0b4-e46c-41b1-a52e-a0e2e281723b",
   "metadata": {},
   "outputs": [],
   "source": [
    "final_res_um = 0.5\n",
    "final_shape_vox = (200, 600, 550)\n",
    "center_vox = (50, 450, 225)\n",
    "\n",
    "centering_mat = np.eye(4)\n",
    "centering_mat[:, 3] = np.concatenate([-np.array(center_vox), [1,]])"
   ]
  },
  {
   "cell_type": "code",
   "execution_count": null,
   "id": "0d69db8b-6785-4d9c-aba6-cefb45cd0c6c",
   "metadata": {},
   "outputs": [],
   "source": [
    "trasformed = np.zeros((len(dataset_folders),) + final_shape_vox, dtype=np.uint8)\n",
    "\n",
    "for i, path in tqdm(enumerate(dataset_folders)):\n",
    "    exp = LotrExperiment(path)\n",
    "    norm_stack = _to_uint255(exp.anatomy_stack)\n",
    "    res_mat = np.eye(4)\n",
    "    np.fill_diagonal(res_mat[:3, :3], np.array([final_res_um,] * 3) / exp.voxel_size_um)\n",
    "\n",
    "    # Invert values thought for point transformation:\n",
    "    trasf_mat = exp.trasform_mat_to_lsref.copy()\n",
    "    trasf_mat[1, 3] = exp.trasform_mat_to_lsref[2, 3]\n",
    "    trasf_mat[2, 3] = exp.trasform_mat_to_lsref[1, 3]\n",
    "\n",
    "    trasformed_stack = affine_transform(\n",
    "        norm_stack,\n",
    "        # np.eye(4),\n",
    "        np.linalg.inv(trasf_mat) @ res_mat @ centering_mat,\n",
    "        # trasf_mat,\n",
    "        output_shape=final_shape_vox,\n",
    "    )\n",
    "    # print(trasformed_stack.min(), trasformed_stack.max())\n",
    "    trasformed[i, :, :, :] = _to_uint255(trasformed_stack)\n",
    "\n",
    "\n",
    "trasformed = np.array(trasformed)  # .mean(0)"
   ]
  },
  {
   "cell_type": "code",
   "execution_count": null,
   "id": "9fc1172a-fcaf-4ba7-a9a7-098c5f3d0e3f",
   "metadata": {},
   "outputs": [],
   "source": [
    "mean_trasf = np.mean(trasformed, 0)"
   ]
  },
  {
   "cell_type": "code",
   "execution_count": null,
   "id": "fb1aa8bb-48c4-426b-9e72-567fbf3012f0",
   "metadata": {},
   "outputs": [],
   "source": [
    "v = napari.view_image(mean_trasf)"
   ]
  },
  {
   "cell_type": "code",
   "execution_count": null,
   "id": "b7e90fe0-3563-4ee1-8132-ec15ef9fc550",
   "metadata": {},
   "outputs": [],
   "source": [
    "v.close()"
   ]
  },
  {
   "cell_type": "code",
   "execution_count": null,
   "id": "60191863-bdb0-4060-9484-eeaff6a4e566",
   "metadata": {},
   "outputs": [],
   "source": [
    "np.save(mean_strasf,)"
   ]
  },
  {
   "cell_type": "code",
   "execution_count": null,
   "id": "dc094089-03d4-4911-8cd1-d563da5c1055",
   "metadata": {},
   "outputs": [],
   "source": [
    "from tifffile import imsave"
   ]
  },
  {
   "cell_type": "code",
   "execution_count": null,
   "id": "ba04c806-ee66-4e15-a661-0f6e57537642",
   "metadata": {},
   "outputs": [],
   "source": [
    "imsave(\n",
    "    DATASET_LOCATION / \"anatomy\" / \"mean_ls_anatomy.tiff\",\n",
    "    _to_uint255(mean_trasf),\n",
    ")"
   ]
  },
  {
   "cell_type": "markdown",
   "id": "0bfb6b5c-b3d8-45ca-9303-bc0d43c30801",
   "metadata": {},
   "source": [
    "### Trasform to ipn reference coordinates"
   ]
  },
  {
   "cell_type": "code",
   "execution_count": null,
   "id": "3a57d031-3b0c-4a5e-94fc-097a335ab861",
   "metadata": {},
   "outputs": [],
   "source": [
    "from bg_atlasapi.core import Atlas\n",
    "from bg_space import AnatomicalSpace\n",
    "from scipy.ndimage import affine_transform\n",
    "from tifffile import imread\n",
    "\n",
    "mean_trasf = imread(DATASET_LOCATION / \"anatomy\" / \"mean_ls_anatomy.tiff\",)\n",
    "final_res_um = 0.5\n",
    "final_shape_vox = mean_trasf.shape\n",
    "\n",
    "ipn_ref = Atlas(DATASET_LOCATION / \"anatomy\" / \"ipn_zfish_0.5um_v1.6\")"
   ]
  },
  {
   "cell_type": "code",
   "execution_count": null,
   "id": "35fe55f4-954c-4430-9f7f-750404fc4b95",
   "metadata": {},
   "outputs": [],
   "source": [
    "ls_functional_ref = AnatomicalSpace(\n",
    "    \"ipl\", shape=final_shape_vox, resolution=(final_res_um,) * 3\n",
    ")"
   ]
  },
  {
   "cell_type": "code",
   "execution_count": null,
   "id": "54e67419-ae25-4f7e-b387-4b6526e600cb",
   "metadata": {},
   "outputs": [],
   "source": [
    "ipn_ref.space.resolution"
   ]
  },
  {
   "cell_type": "code",
   "execution_count": null,
   "id": "cb0f7e06-ccec-4214-b3e8-017e2c438654",
   "metadata": {},
   "outputs": [],
   "source": [
    "mean_ls_in_ipn = ls_functional_ref.map_stack_to(ipn_ref.space, mean_trasf)"
   ]
  },
  {
   "cell_type": "code",
   "execution_count": null,
   "id": "7d08516a-c5a9-4a67-8ec9-3ea86a861628",
   "metadata": {},
   "outputs": [],
   "source": [
    "ls_functional_to_ipnref_coords = ls_functional_ref.transformation_matrix_to(\n",
    "    ipn_ref.space\n",
    ")"
   ]
  },
  {
   "cell_type": "code",
   "execution_count": null,
   "id": "9b77e149-4cd7-4eb8-8b27-539a5d0eb87a",
   "metadata": {},
   "outputs": [],
   "source": [
    "v = napari.view_image(ipn_ref.additional_references[\"gad1b_gal4\"], colormap=\"magenta\")\n",
    "v.add_image(mean_ls_in_ipn, colormap=\"green\", blending=\"additive\")"
   ]
  },
  {
   "cell_type": "code",
   "execution_count": null,
   "id": "0d2de8fa-0579-48d3-9298-93c9e980fe38",
   "metadata": {},
   "outputs": [],
   "source": [
    "v.close()"
   ]
  },
  {
   "cell_type": "code",
   "execution_count": null,
   "id": "c73d451e-d460-4ee1-a757-e0edc8fff0cc",
   "metadata": {},
   "outputs": [],
   "source": [
    "ls_functional_to_ipnref = np.eye(4)\n",
    "ls_functional_to_ipnref[:-1, 3] = [-90, 0, -120]"
   ]
  },
  {
   "cell_type": "code",
   "execution_count": null,
   "id": "ccbff983-bacd-4f80-ae29-e0febdecbf17",
   "metadata": {},
   "outputs": [],
   "source": [
    "v.layers[\"mean_ls_in_ipn\"].affine = ls_functional_to_ipnref"
   ]
  },
  {
   "cell_type": "markdown",
   "id": "b1bfaa9f-dd6d-4aff-8ce4-fe3027597125",
   "metadata": {},
   "source": [
    "## Test coords trasformation - ls_functional to ipnref"
   ]
  },
  {
   "cell_type": "code",
   "execution_count": null,
   "id": "9b9a847b-c7d2-443e-a302-32473afc5908",
   "metadata": {},
   "outputs": [],
   "source": [
    "from lotr.data_preprocessing.anatomy import transform_points"
   ]
  },
  {
   "cell_type": "code",
   "execution_count": null,
   "id": "4a5b356d-6a38-46de-98bd-8044bc03bd79",
   "metadata": {},
   "outputs": [],
   "source": [
    "test_pts = np.array([(50, 450, 225), [0, 0, 0], mean_trasf.shape])\n",
    "\n",
    "trasformed_pts = transform_points(\n",
    "    test_pts, ls_functional_to_ipnref @ ls_functional_to_ipnref_coords\n",
    ")"
   ]
  },
  {
   "cell_type": "code",
   "execution_count": null,
   "id": "2296ade3-c451-46db-ad99-7e9ea7818891",
   "metadata": {},
   "outputs": [],
   "source": [
    "v.close()"
   ]
  },
  {
   "cell_type": "code",
   "execution_count": null,
   "id": "79906842-6ac1-445d-8583-9dec40a2313b",
   "metadata": {},
   "outputs": [],
   "source": [
    "v = napari.view_image(ipn_ref.additional_references[\"gad1b_gal4\"], colormap=\"magenta\")\n",
    "v.add_image(\n",
    "    mean_ls_in_ipn,\n",
    "    colormap=\"green\",\n",
    "    blending=\"additive\",\n",
    "    affine=ls_functional_to_ipnref,\n",
    ")\n",
    "v.add_points(trasformed_pts, n_dimensional=True, size=30)"
   ]
  },
  {
   "cell_type": "markdown",
   "id": "704ab317-fd4a-42a5-b04b-56dfc4cf00ab",
   "metadata": {},
   "source": [
    "## Test coords trasformation - exp to ls_functional"
   ]
  },
  {
   "cell_type": "code",
   "execution_count": null,
   "id": "b0ec49a9-fb73-4670-9901-ac2a9f29f376",
   "metadata": {},
   "outputs": [],
   "source": [
    "exp = LotrExperiment(dataset_folders[0])\n",
    "pts = exp.morphed_coords_um"
   ]
  },
  {
   "cell_type": "code",
   "execution_count": null,
   "id": "bf20b1a3-e979-4440-af06-b50052520e15",
   "metadata": {},
   "outputs": [],
   "source": [
    "pts_centering_mat = centering_mat.copy()\n",
    "pts_centering_mat[:3, 3] = -pts_centering_mat[:3, 3]\n",
    "\n",
    "\n",
    "pts[:, [1, 2]] = pts[:, [2, 1]]\n",
    "trasf_pts = transform_points(pts, pts_centering_mat)"
   ]
  },
  {
   "cell_type": "code",
   "execution_count": null,
   "id": "91916098-7864-49b6-94a8-fedcaf833089",
   "metadata": {},
   "outputs": [],
   "source": [
    "v = napari.view_image(mean_trasf, colormap=\"magenta\")\n",
    "v.add_points(\n",
    "    trasf_pts, n_dimensional=True, size=30,\n",
    ")"
   ]
  },
  {
   "cell_type": "code",
   "execution_count": null,
   "id": "a9e1712f-b366-44fa-ac45-64e132794dca",
   "metadata": {},
   "outputs": [],
   "source": [
    "data_df = []\n",
    "for path in tqdm(dataset_folders):\n",
    "    exp = LotrExperiment(path)\n",
    "    coords = exp.coords_um\n",
    "    cent_coords = exp.morphed_coords_um\n",
    "\n",
    "    data_dict = {f\"c{i}\": coords[:, i] for i in range(3)}\n",
    "    data_dict.update({f\"centered{i}\": cent_coords[:, i] for i in range(3)})\n",
    "    data_dict[\"fid\"] = path.name\n",
    "    data_dict[\"hdn\"] = np.zeros(exp.n_rois)\n",
    "    data_dict[\"hdn\"][exp.hdn_indexes] = 1\n",
    "    # data_dict[\"new\"] = path in new_dataset_folders\n",
    "\n",
    "    data_df.append(pd.DataFrame(data_dict))\n",
    "\n",
    "data_df = pd.concat(data_df, ignore_index=1)"
   ]
  },
  {
   "cell_type": "code",
   "execution_count": null,
   "id": "135a775f-afef-453a-a21c-6a14b0138f98",
   "metadata": {},
   "outputs": [],
   "source": [
    "pts = data_df[[f\"centered{i}\" for i in range(3)]].values"
   ]
  },
  {
   "cell_type": "code",
   "execution_count": null,
   "id": "99b4dee9-f91e-43f9-a291-401125b47d69",
   "metadata": {},
   "outputs": [],
   "source": [
    "coords_to_ls_functional = np.zeros((4, 4))\n",
    "coords_to_ls_functional[0, 0] = 1 / final_res_um\n",
    "coords_to_ls_functional[-1, -1] = 1\n",
    "coords_to_ls_functional[1, 2] = 1 / final_res_um\n",
    "coords_to_ls_functional[2, 1] = 1 / final_res_um"
   ]
  },
  {
   "cell_type": "code",
   "execution_count": null,
   "id": "4f04b687-d929-4806-878c-01e10a344458",
   "metadata": {},
   "outputs": [],
   "source": [
    "pts_centering_mat = centering_mat.copy()\n",
    "pts_centering_mat[:3, 3] = -pts_centering_mat[:3, 3]\n",
    "\n",
    "trasf_pts = transform_points(pts, pts_centering_mat @ coords_to_ls_functional)"
   ]
  },
  {
   "cell_type": "code",
   "execution_count": null,
   "id": "fa3f8ed8-4703-4561-b628-75c93d52d03a",
   "metadata": {},
   "outputs": [],
   "source": [
    "v = napari.view_image(mean_trasf, colormap=\"magenta\")\n",
    "v.add_points(trasf_pts, n_dimensional=True, size=10)"
   ]
  },
  {
   "cell_type": "markdown",
   "id": "0dd06b68-2164-4892-8fa1-4346b39a4de0",
   "metadata": {},
   "source": [
    "## Experiment to IPN ref"
   ]
  },
  {
   "cell_type": "code",
   "execution_count": null,
   "id": "8ec354cb-4b99-4e51-8872-61148d101753",
   "metadata": {},
   "outputs": [],
   "source": [
    "final_scaling = np.zeros((4, 4))\n",
    "np.fill_diagonal(final_scaling, [0.5,] * 3)\n",
    "\n",
    "centered_to_ipnref = (\n",
    "    final_scaling\n",
    "    @ ls_functional_to_ipnref\n",
    "    @ ls_functional_to_ipnref_coords\n",
    "    @ pts_centering_mat\n",
    "    @ coords_to_ls_functional\n",
    ")"
   ]
  },
  {
   "cell_type": "code",
   "execution_count": null,
   "id": "ef327bef-e7bb-4af7-90b3-43ab942237ee",
   "metadata": {},
   "outputs": [],
   "source": [
    "centered_to_ipnref"
   ]
  },
  {
   "cell_type": "code",
   "execution_count": null,
   "id": "37340a85-09c6-4251-b4ca-ea5740e6dece",
   "metadata": {},
   "outputs": [],
   "source": [
    "trasf_pts = transform_points(pts, centered_to_ipnref)"
   ]
  },
  {
   "cell_type": "code",
   "execution_count": null,
   "id": "8ca4ef01-bee7-434d-8631-805dac8391e8",
   "metadata": {},
   "outputs": [],
   "source": [
    "v = napari.view_image(ipn_ref.additional_references[\"gad1b_gal4\"], scale=(0.5,) * 3)\n",
    "v.add_points(\n",
    "    trasf_pts,\n",
    "    n_dimensional=True,\n",
    "    size=6,\n",
    "    edge_width=0,\n",
    "    opacity=0.1,\n",
    "    blending=\"additive\",\n",
    "    face_color=\"blue\",\n",
    ")\n",
    "v.add_points(\n",
    "    trasf_pts[data_df[\"hdn\"].astype(bool), :],\n",
    "    n_dimensional=True,\n",
    "    size=6,\n",
    "    edge_width=0,\n",
    "    opacity=0.1,\n",
    "    face_color=\"magenta\",\n",
    "    blending=\"additive\",\n",
    ")"
   ]
  },
  {
   "cell_type": "markdown",
   "id": "c85433eb-b71f-441d-976f-6b209a546c12",
   "metadata": {},
   "source": [
    "## Test lightsheet to IPN ref with class method"
   ]
  },
  {
   "cell_type": "code",
   "execution_count": null,
   "id": "a1dd6f10-ebb1-455e-8bfa-4d41f23826c0",
   "metadata": {},
   "outputs": [],
   "source": [
    "exp = LotrExperiment(dataset_folders[0])"
   ]
  },
  {
   "cell_type": "code",
   "execution_count": null,
   "id": "09841f2f-a67a-4311-bb74-8012b70a233e",
   "metadata": {},
   "outputs": [],
   "source": [
    "v = napari.view_image(ipn_ref.additional_references[\"gad1b_gal4\"], scale=(0.5,) * 3)\n",
    "v.add_points(\n",
    "    exp.ipnref_coords_um,\n",
    "    n_dimensional=True,\n",
    "    size=6,\n",
    "    edge_width=0,\n",
    "    opacity=0.1,\n",
    "    blending=\"additive\",\n",
    "    face_color=\"blue\",\n",
    ")\n",
    "v.add_points(\n",
    "    exp.ipnref_coords_um[exp.hdn_indexes, :],\n",
    "    n_dimensional=True,\n",
    "    size=6,\n",
    "    edge_width=0,\n",
    "    opacity=0.1,\n",
    "    face_color=\"magenta\",\n",
    "    blending=\"additive\",\n",
    ")"
   ]
  },
  {
   "cell_type": "markdown",
   "id": "c7629006-9107-467a-8931-3a41cde78d6e",
   "metadata": {},
   "source": [
    "## IPN to MPIN trasformation"
   ]
  },
  {
   "cell_type": "code",
   "execution_count": null,
   "id": "0f58f193-0fbe-40b4-b996-6c5016c9f8de",
   "metadata": {},
   "outputs": [],
   "source": [
    "# Getting the transformation values:\n",
    "xform1_path = fish_path / \"anatomy_affine_res_2avg.xform\" / \"registration\"\n",
    "trans_values1 = get_xform_values(xform1_path)\n",
    "\n",
    "# Transforming the coordinates: \n",
    "t_matrix1 = values2matrix(trans_values1)\n",
    "center_vals1 = trans_values1[4]\n",
    "num_coords = np.shape(coords)[0]\n",
    "t_coords = np.ones_like(coords)\n",
    "tr_coords = np.ones_like(coords)\n",
    "\n",
    "# Removing center values: \n",
    "for i in range(num_coords):\n",
    "    t_coords[i,0] = coords[i,1] - center_vals1[0]\n",
    "    t_coords[i,1] = coords[i,2] - center_vals1[1]\n",
    "    t_coords[i,2] = coords[i,0] - center_vals1[2]\n",
    "\n",
    "t_coords = t_matrix1 @ t_coords.T\n",
    "t_coords = t_coords.T\n",
    "\n",
    "for i in range(num_coords):\n",
    "    tr_coords[i,0] = t_coords[i,2] + center_vals1[2]\n",
    "    tr_coords[i,1] = t_coords[i,0] + center_vals1[0]\n",
    "    tr_coords[i,2] = t_coords[i,1] + center_vals1[1]"
   ]
  }
 ],
 "metadata": {
  "kernelspec": {
   "display_name": "rplab",
   "language": "python",
   "name": "rplab"
  },
  "language_info": {
   "codemirror_mode": {
    "name": "ipython",
    "version": 3
   },
   "file_extension": ".py",
   "mimetype": "text/x-python",
   "name": "python",
   "nbconvert_exporter": "python",
   "pygments_lexer": "ipython3"
  }
 },
 "nbformat": 4,
 "nbformat_minor": 5
}

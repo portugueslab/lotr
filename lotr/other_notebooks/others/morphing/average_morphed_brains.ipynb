{
 "cells": [
  {
   "cell_type": "code",
   "execution_count": null,
   "id": "other-perry",
   "metadata": {},
   "outputs": [],
   "source": [
    "import numpy as np\n",
    "import nrrd\n",
    "import tifffile as tiff\n",
    "from pathlib import Path"
   ]
  },
  {
   "cell_type": "code",
   "execution_count": null,
   "id": "indie-associate",
   "metadata": {},
   "outputs": [],
   "source": [
    "master =  Path(r\"\\\\Funes\\Shared\\experiments\\E0071_lotr\\full_ring\")\n",
    "files_path = list(master.glob(\"*_f*/*f*/anatomy_affine_res_2avg2.tif\"))\n",
    "num_fish = len(files_path)\n",
    "print(num_fish)"
   ]
  },
  {
   "cell_type": "code",
   "execution_count": null,
   "id": "amino-evans",
   "metadata": {},
   "outputs": [],
   "source": [
    "f = files_path[1]\n",
    "reference_anatomy_fish = tiff.imread(f)\n",
    "img_size = np.shape(reference_anatomy_fish)\n",
    "print(f)\n",
    "img_size"
   ]
  },
  {
   "cell_type": "code",
   "execution_count": null,
   "id": "representative-method",
   "metadata": {},
   "outputs": [],
   "source": [
    "#anatomy_all = np.zeros((num_fish, np.shape(reference_anatomy_fish)[0], np.shape(reference_anatomy_fish)[1], np.shape(reference_anatomy_fish)[2]))\n",
    "anatomy_all = np.zeros((num_fish, img_size[0],img_size[1],img_size[2]))\n",
    "i=0\n",
    "for f in files_path:\n",
    "    print(i)\n",
    "    anatomy = tiff.imread(f)\n",
    "    anatomy_all[i] = anatomy\n",
    "    i+=1\n",
    "    \n",
    "   "
   ]
  },
  {
   "cell_type": "code",
   "execution_count": null,
   "id": "equal-diabetes",
   "metadata": {},
   "outputs": [],
   "source": [
    "avg_anatomy = np.mean(anatomy_all,axis=0)"
   ]
  },
  {
   "cell_type": "code",
   "execution_count": null,
   "id": "critical-encounter",
   "metadata": {},
   "outputs": [],
   "source": [
    "file_name = Path(master) / 'avg_anatomy_round2.tif'\n",
    "tiff.imsave(file_name, avg_anatomy)"
   ]
  },
  {
   "cell_type": "code",
   "execution_count": null,
   "id": "integrated-springfield",
   "metadata": {},
   "outputs": [],
   "source": []
  },
  {
   "cell_type": "code",
   "execution_count": null,
   "id": "executive-polls",
   "metadata": {},
   "outputs": [],
   "source": [
    "import json\n",
    "file_name = Path(master) / 'avg_anatomy_2p_round2.nrrd'\n",
    "dir_path = Path(r\"\\\\Funes\\Shared\\experiments\\E0071_lotr\\full_ring\\210715_f5\\210715_f5_clol\")\n",
    "with open(next(Path(dir_path).glob(\"*metadata.json\")), \"r\") as f:\n",
    "        metadata = json.load(f)\n",
    "lsconfig = metadata[\"imaging\"][\"microscope_config\"]['lightsheet']['scanning']\n",
    "z_tot_span = lsconfig[\"z\"][\"piezo_max\"] - lsconfig[\"z\"][\"piezo_min\"]\n",
    "n_planes = lsconfig[\"triggering\"][\"n_planes\"]\n",
    "z_res = z_tot_span / n_planes\n",
    "#\n",
    "header = {'kinds': ['domain', 'domain', 'domain'], 'units': ['microns', 'microns', 'microns'], 'spacings': [0.6, 0.6, 0.5]}\n",
    "nrrd.write(str(file_name), anatomy, header, index_order='C')"
   ]
  },
  {
   "cell_type": "code",
   "execution_count": null,
   "id": "announced-island",
   "metadata": {},
   "outputs": [],
   "source": []
  }
 ],
 "metadata": {
  "kernelspec": {
   "display_name": "Python 3",
   "language": "python",
   "name": "python3"
  },
  "language_info": {
   "codemirror_mode": {
    "name": "ipython",
    "version": 3
   },
   "file_extension": ".py",
   "mimetype": "text/x-python",
   "name": "python",
   "nbconvert_exporter": "python",
   "pygments_lexer": "ipython3"
  }
 },
 "nbformat": 4,
 "nbformat_minor": 5
}

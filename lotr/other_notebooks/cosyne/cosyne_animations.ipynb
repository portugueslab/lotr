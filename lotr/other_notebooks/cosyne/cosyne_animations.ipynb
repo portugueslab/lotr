{
 "cells": [
  {
   "cell_type": "markdown",
   "id": "c3d0b458-6d68-4412-ae1f-e4739cfe15b9",
   "metadata": {},
   "source": [
    "# EM dataset"
   ]
  },
  {
   "cell_type": "code",
   "execution_count": null,
   "id": "2712e332-00c3-4ba5-874a-606271579183",
   "metadata": {},
   "outputs": [],
   "source": [
    "%matplotlib widget"
   ]
  },
  {
   "cell_type": "code",
   "execution_count": null,
   "id": "dd01f9a5-f1d1-4191-9578-d324cbd2eef8",
   "metadata": {},
   "outputs": [],
   "source": [
    "from pathlib import Path\n",
    "\n",
    "import numpy as np\n",
    "from lotr import A_FISH, DATASET_LOCATION, LotrExperiment\n",
    "from lotr import plotting as pltltr\n",
    "from lotr.analysis.pool_cell_info import get_pooled_cell_info\n",
    "from lotr.em.core import MIDLINES\n",
    "from lotr.em.loading import load_skeletons_from_zip\n",
    "from lotr.result_logging import ResultsLogger\n",
    "from lotr.utils import linear_regression\n",
    "from matplotlib import cm\n",
    "from matplotlib import pyplot as plt\n",
    "from scipy.ndimage.filters import gaussian_filter\n",
    "from scipy.ndimage.morphology import binary_dilation\n",
    "from tqdm import tqdm\n",
    "\n",
    "logger = ResultsLogger()\n",
    "\n",
    "COLS = pltltr.COLS"
   ]
  },
  {
   "cell_type": "markdown",
   "id": "f7b3711f-0c34-4d1a-a772-2d3564384990",
   "metadata": {},
   "source": [
    "## Data loading"
   ]
  },
  {
   "cell_type": "code",
   "execution_count": null,
   "id": "a7b754fd-0bfe-4f92-bc97-7a87249c2de1",
   "metadata": {},
   "outputs": [],
   "source": [
    "# Reference:\n",
    "# Load the gad1b stack and the annotation from the IPN atlas:\n",
    "\n",
    "from bg_atlasapi.core import Atlas\n",
    "\n",
    "atlas = Atlas(DATASET_LOCATION / \"anatomy\" / \"ipn_zfish_0.5um_v1.8\")\n",
    "\n",
    "gad1b_stack = atlas.additional_references[\"gal4_gad1b\"]\n",
    "\n",
    "\n",
    "# Enlarge a bit the mask for the IPN (in the future we'll draw better masks):\n",
    "mask = np.zeros((3, 3, 3)).astype(bool)\n",
    "mask[:, 1, :] = True\n",
    "annotation = binary_dilation(\n",
    "    atlas.get_structure_mask(\"ipn\") > 0, iterations=7, structure=mask\n",
    ")\n",
    "annotation_dipn = binary_dilation(\n",
    "    atlas.get_structure_mask(\"dipn\") > 0, iterations=7, structure=mask\n",
    ")"
   ]
  },
  {
   "cell_type": "code",
   "execution_count": null,
   "id": "4b0de61e-2f6b-477a-926f-85ccfa1d2fcc",
   "metadata": {},
   "outputs": [],
   "source": [
    "# Load the EM and mirror neurons on one side:\n",
    "em_path = DATASET_LOCATION / \"anatomy\" / \"aHB_dIPN.k.zip\"\n",
    "\n",
    "sel_neurons = load_skeletons_from_zip(em_path)\n",
    "\n",
    "for n in sel_neurons:\n",
    "    n.mirror = \"right\""
   ]
  },
  {
   "cell_type": "markdown",
   "id": "0120dd15-1a0f-4ba5-b1ea-4e7264c4a9a9",
   "metadata": {},
   "source": [
    "## Projections with line anatomy"
   ]
  },
  {
   "cell_type": "code",
   "execution_count": null,
   "id": "893ec524-b9e4-4061-9b9b-3b59b11f0129",
   "metadata": {},
   "outputs": [],
   "source": [
    "from lotr import plotting as pltltr\n",
    "\n",
    "COLS = pltltr.COLS"
   ]
  },
  {
   "cell_type": "code",
   "execution_count": null,
   "id": "7ee82984-2cf7-4783-8971-41ad763ead1c",
   "metadata": {},
   "outputs": [],
   "source": [
    "#  Specify axes limits over all dimensions:\n",
    "bs = dict(frontal=(30, 180), vertical=(-4, 170), sagittal=(-50, 120))\n",
    "\n",
    "plotter = pltltr.AtlasPlotter(\n",
    "    atlas=atlas,\n",
    "    structures=[\"ipn\", \"dipn\"],\n",
    "    mask_slices=dict(frontal=slice(0, 120)),\n",
    "    bounds_dict=dict(\n",
    "        frontal=[bs[\"vertical\"], bs[\"frontal\"]],\n",
    "        horizontal=[bs[\"sagittal\"], bs[\"frontal\"]],\n",
    "        sagittal=[bs[\"vertical\"], bs[\"sagittal\"]],\n",
    "    ),\n",
    ")"
   ]
  },
  {
   "cell_type": "markdown",
   "id": "8c13adb4-a962-4995-8417-ff2a7086ea7a",
   "metadata": {},
   "source": [
    "## Calculate centroids"
   ]
  },
  {
   "cell_type": "code",
   "execution_count": null,
   "id": "27e50157-1cdf-48ff-8459-58a5f6ca525e",
   "metadata": {},
   "outputs": [],
   "source": [
    "centroids = []\n",
    "for n in sel_neurons:\n",
    "    centroids.append(\n",
    "        [n.find_centroid_bifurcation(select=s) for s in [\"dendrites\", \"axon\"]]\n",
    "    )\n",
    "\n",
    "centroids = np.array(centroids)\n",
    "norm_cm = centroids[:, 1, 2] - centroids[:, 1, 2].min()\n",
    "norm_cm = norm_cm + 5\n",
    "norm_cm = norm_cm / (norm_cm.max() + 0.01)"
   ]
  },
  {
   "cell_type": "code",
   "execution_count": null,
   "id": "07ab7d7f-4fb7-44a2-9c5d-b2a8322c9ece",
   "metadata": {},
   "outputs": [],
   "source": [
    "bs = dict(frontal=(30, 180), vertical=(-25, 170), sagittal=(-50, 120))\n",
    "plotter = pltltr.AtlasPlotter(\n",
    "    atlas=atlas,\n",
    "    structures=[\"ipn\", \"dipn\"],\n",
    "    mask_slices=dict(frontal=slice(0, 120)),\n",
    "    bounds_dict=dict(\n",
    "        frontal=[bs[\"vertical\"], bs[\"frontal\"]],\n",
    "        horizontal=[bs[\"sagittal\"], bs[\"frontal\"]],\n",
    "        sagittal=[bs[\"vertical\"], bs[\"sagittal\"]],\n",
    "    ),\n",
    ")"
   ]
  },
  {
   "cell_type": "code",
   "execution_count": null,
   "id": "91574bb0-6532-4f1a-8710-dbaadb94699e",
   "metadata": {},
   "outputs": [],
   "source": [
    "f, axs = plotter.generate_projection_plots()\n",
    "\n",
    "lw = 0.5\n",
    "for i, (neuron, c) in enumerate(zip(sel_neurons, norm_cm)):\n",
    "    if \"bilat\" in neuron.comments and \"dipn\" in neuron.comments.split(\"_\"):\n",
    "        main_c = cm.get_cmap(\"Reds\")(c)\n",
    "        plotter.plot_neurons(axs, neuron, c=main_c, lw=lw, rasterized=False)\n",
    "\n",
    "fake_im = axs[0].scatter([], [], c=[], cmap=\"Reds\")\n",
    "pltltr.add_cbar(\n",
    "    fake_im,\n",
    "    axs[1],\n",
    "    inset_loc=(0.425, 0.8, 0.3, 0.04),\n",
    "    ticks=[0.1, 0.9],\n",
    "    ticklabels=[\"lat\", \"med\"],\n",
    "    orientation=\"horizontal\",\n",
    "    title=\"Dendrite position\",\n",
    "    titlesize=8,\n",
    ")\n",
    "\n",
    "for i, (proj, pos) in enumerate(\n",
    "    zip(plotter.space.sections, [(35, 165), (35, 110), (5, 165)])\n",
    "):\n",
    "    pltltr.add_anatomy_scalebar(\n",
    "        axs[i], plane=proj, pos=pos, cartesian=True, equalize_axis=False, length=30,\n",
    "    )\n",
    "#f.savefig(\"/Users/luigipetrucco/Desktop/figures_cosyne/dipn_neurons_colcoded.pdf\")\n",
    "# pltltr.savefig(\"dipn_neurons_colcoded_allviews\", folder=\"S15\")"
   ]
  },
  {
   "cell_type": "markdown",
   "id": "96d43dad-5c7a-429b-8476-ed9179ac039e",
   "metadata": {},
   "source": [
    "# Gif: sequence of neurons"
   ]
  },
  {
   "cell_type": "code",
   "execution_count": null,
   "id": "f5e2dc3f-0f05-4cbb-9228-e804ee482cc0",
   "metadata": {},
   "outputs": [],
   "source": [
    "bs = dict(frontal=(50, 160), vertical=(70, 100), sagittal=(-50, 120))\n",
    "plotter = pltltr.AtlasPlotter(\n",
    "    atlas=atlas,\n",
    "    structures=[\"ipn\", \"dipn\"],\n",
    "    mask_slices=dict(frontal=slice(0, 120)),\n",
    "    bounds_dict=dict(\n",
    "        frontal=[bs[\"vertical\"], bs[\"frontal\"]],\n",
    "        horizontal=[bs[\"sagittal\"], bs[\"frontal\"]],\n",
    "        sagittal=[bs[\"vertical\"], bs[\"sagittal\"]],\n",
    "    ),\n",
    ")"
   ]
  },
  {
   "cell_type": "code",
   "execution_count": null,
   "id": "ea9f7ede-e9c1-47c3-9e61-156de4f2f858",
   "metadata": {},
   "outputs": [],
   "source": [
    "dest_path = Path(r\"/Users/luigipetrucco/Desktop/plotgif\")\n",
    "\n",
    "norm_cm = centroids[:, 1, 2] - centroids[:, 1, 2].min()\n",
    "norm_cm = norm_cm + 15\n",
    "norm_cm = norm_cm / (norm_cm.max() + 0.01)\n",
    "idxs = np.argsort(norm_cm)\n",
    "axlab = \"frontal\"\n",
    "figsize = (6, 6)\n",
    "lw = 2\n",
    "\n",
    "for i_plot in tqdm(range(len(sel_neurons))):  #\n",
    "    f, ax = plt.subplots(1, 1, figsize=figsize)\n",
    "    plotter.plot_on_axis(ax, axlab, labels=False, title=False)\n",
    "    for n, i in enumerate(idxs):\n",
    "        plotter.plot_neuron_projection(\n",
    "            ax,\n",
    "            sel_neurons[i],\n",
    "            axlab,\n",
    "            c=pltltr.shift_lum(cm.get_cmap(\"Reds\")(norm_cm[i]), 0.0),\n",
    "            lw=lw,\n",
    "            rasterized=True,\n",
    "            alpha=int(n < i_plot) * 0.5,  # exclude some neurons\n",
    "        )\n",
    "    plotter.plot_neuron_projection(\n",
    "        ax,\n",
    "        sel_neurons[idxs[i_plot]],\n",
    "        axlab,\n",
    "        c=pltltr.shift_lum(cm.get_cmap(\"Reds\")(norm_cm[idxs[i_plot]]), -0.0),\n",
    "        lw=lw,\n",
    "        rasterized=True,\n",
    "    )\n",
    "    ##  ax.axis(\"equal\")\n",
    "    f.savefig(dest_path / f\"plot_{i_plot:02d}.png\", dpi=600)\n",
    "    plt.close()\n",
    "\n",
    "f, ax = plt.subplots(1, 1, figsize=figsize)\n",
    "axlab = \"frontal\"\n",
    "plotter.plot_on_axis(ax, axlab, labels=False, title=False)\n",
    "for i in idxs:\n",
    "    plotter.plot_neuron_projection(\n",
    "        ax,\n",
    "        sel_neurons[i],\n",
    "        axlab,\n",
    "        c=cm.get_cmap(\"Reds\")(norm_cm[i]),\n",
    "        lw=lw,\n",
    "        rasterized=True,\n",
    "    )\n",
    "f.savefig(dest_path / f\"plot_{i_plot:02d}.png\", dpi=600)\n",
    "plt.close(\"all\")"
   ]
  },
  {
   "cell_type": "code",
   "execution_count": null,
   "id": "0c89319d-27a7-4576-9c91-528f15e932ef",
   "metadata": {},
   "outputs": [],
   "source": [
    "sorted_traces = exp.traces[:, exp.hdn_indexes][:, np.argsort(exp.rpc_angles)]\n",
    "# img_traces = ax_traces.imshow()\n",
    "tofill = np.full(sorted_traces.shape, np.nan)\n",
    "n = 500\n",
    "tofill[:n, :] = sorted_traces[:n, :]"
   ]
  },
  {
   "cell_type": "code",
   "execution_count": null,
   "id": "126a6b75-578b-4acd-bc5e-52cfe8c53ebe",
   "metadata": {},
   "outputs": [],
   "source": [
    "f, ax = plt.subplots()\n",
    "img_traces = plt.imshow(tofill.T, cmap=\"gray_r\", aspect=\"auto\", vmin=-1.5, vmax=1.5)"
   ]
  },
  {
   "cell_type": "code",
   "execution_count": null,
   "id": "f0a8ffec-9f77-4250-9071-580eaaa3dcb1",
   "metadata": {},
   "outputs": [],
   "source": [
    "plt.figure()\n",
    "(sc,) = plt.fill([1, 2, 3], [2, 3, 0])"
   ]
  },
  {
   "cell_type": "code",
   "execution_count": null,
   "id": "b5cb7ebf-893a-4ca3-a31d-97214b616d7c",
   "metadata": {},
   "outputs": [],
   "source": [
    "sc.get_xy()#set_xy(np.array([[1, 2, 3], [2, 3, -1]]).T)"
   ]
  },
  {
   "cell_type": "markdown",
   "id": "feddd350-6660-4be4-a35f-f49f35a5dce6",
   "metadata": {},
   "source": [
    "# Gif: activity propagation"
   ]
  },
  {
   "cell_type": "code",
   "execution_count": null,
   "id": "704b1297-1893-49ec-8c4f-00469662b348",
   "metadata": {},
   "outputs": [],
   "source": [
    "import matplotlib as mpl\n",
    "from lotr import A_FISH, LotrExperiment\n",
    "from lotr.analysis.activity_profile import resample_and_shift\n",
    "\n",
    "n_bins = 100\n",
    "exp = LotrExperiment(A_FISH)\n",
    "sorted_traces = exp.traces[:, exp.hdn_indexes[np.argsort(exp.rpc_angles)]]\n",
    "resamp, _ = resample_and_shift(exp, n_bins_resampling=n_bins)"
   ]
  },
  {
   "cell_type": "code",
   "execution_count": null,
   "id": "e122a51a-035c-4631-9a05-527793b83aad",
   "metadata": {},
   "outputs": [],
   "source": [
    "resamp_norm = (resamp.T - np.percentile(resamp, 2, axis=1)).T\n",
    "resamp_norm[resamp_norm < 0] = 0\n",
    "resamp_norm = (resamp_norm.T / np.percentile(resamp, 95, axis=1)).T\n",
    "resamp_norm[resamp_norm > 1] = 1"
   ]
  },
  {
   "cell_type": "code",
   "execution_count": null,
   "id": "07e227ea-d664-4f1b-bf1e-4e251d6c81b1",
   "metadata": {},
   "outputs": [],
   "source": [
    "bs = dict(frontal=(20, 190), vertical=(70, 100), sagittal=(-50, 120))\n",
    "plotter = pltltr.AtlasPlotter(\n",
    "    atlas=atlas,\n",
    "    structures=[\"ipn\", \"dipn\"],\n",
    "    mask_slices=dict(frontal=slice(0, 120)),\n",
    "    bounds_dict=dict(\n",
    "        frontal=[bs[\"vertical\"], bs[\"frontal\"]],\n",
    "        horizontal=[bs[\"sagittal\"], bs[\"frontal\"]],\n",
    "        sagittal=[bs[\"vertical\"], bs[\"sagittal\"]],\n",
    "    ),\n",
    ")"
   ]
  },
  {
   "cell_type": "code",
   "execution_count": null,
   "id": "b8b24cc8-bb93-4b9e-96a7-4b6fe62b1173",
   "metadata": {},
   "outputs": [],
   "source": [
    "f, axs = plotter.generate_projection_plots()\n",
    "selection = \"axon\"\n",
    "n_list = []\n",
    "for i, (neuron, c) in enumerate(zip(sel_neurons, norm_cm)):\n",
    "\n",
    "    orig_side = \"left\"\n",
    "    if neuron._coords_ipn[neuron.soma_idx, 2] > 115:\n",
    "        orig_side = \"right\"\n",
    "\n",
    "    for i_s, side in enumerate([\"left\", \"right\"]):\n",
    "        # dest_subfold = dest_dir / side\n",
    "        # dest_subfold.mkdir(exist_ok=True)\n",
    "\n",
    "        neuron.mirror = side\n",
    "        phase = np.pi * c * (1 - i_s * 2)\n",
    "        main_c = COLS[\"phase\"]((phase + np.pi) / (2 * np.pi))  # cm.get_cmap(\"Reds\")(c)\n",
    "        # plotter.plot_neurons(axs, neuron, c=main_c, lw=lw, rasterized=True)\n",
    "\n",
    "        dendrites = neuron.generate_plotlines_from_skeleton(\n",
    "            select=\"dendrites\", space=\"ipn\"\n",
    "        )\n",
    "        axon = neuron.generate_plotlines_from_skeleton(select=\"axon\", space=\"ipn\")\n",
    "\n",
    "        trace_i = int(((n_bins - 1) * (phase + np.pi) / (2 * np.pi)))\n",
    "        n_list.append(\n",
    "            # dest_subfold / neuron.id,\n",
    "            dict(\n",
    "                dendrites=dendrites,\n",
    "                axon=axon,\n",
    "                soma=neuron.coords_ipn[neuron.soma_idx],\n",
    "                orig_side=orig_side,\n",
    "                phase=phase,\n",
    "                norm_centroid_pos=c,\n",
    "                phase_color=main_c,\n",
    "                pseudo_activation=resamp_norm[:, trace_i],\n",
    "            )\n",
    "        )\n",
    "        plotter.plot_neurons(\n",
    "            axs, neuron, c=main_c, lw=lw, select=selection, soma_s=50, rasterized=False\n",
    "        )\n",
    "        # )\n",
    "np.random.shuffle(n_list)\n",
    "f.savefig(f\"/Users/luigipetrucco/Desktop/figures_cosyne/dipn_phasecol_{selection}.pdf\")"
   ]
  },
  {
   "cell_type": "code",
   "execution_count": null,
   "id": "d8feae05-b04b-41f6-8e4f-fc4a218a4db3",
   "metadata": {},
   "outputs": [],
   "source": [
    "f, axs = plotter.generate_projection_plots()\n",
    "\n",
    "lw = 0.5\n",
    "for i, (neuron, c) in enumerate(zip(sel_neurons, norm_cm)):\n",
    "    if \"bilat\" in neuron.comments and \"dipn\" in neuron.comments.split(\"_\"):\n",
    "        main_c = cm.get_cmap(\"Reds\")(c)\n",
    "        plotter.plot_neurons(axs, neuron, c=main_c, lw=lw, rasterized=False)\n",
    "\n",
    "fake_im = axs[0].scatter([], [], c=[], cmap=\"Reds\")\n",
    "pltltr.add_cbar(\n",
    "    fake_im,\n",
    "    axs[1],\n",
    "    inset_loc=(0.425, 0.8, 0.3, 0.04),\n",
    "    ticks=[0.1, 0.9],\n",
    "    ticklabels=[\"lat\", \"med\"],\n",
    "    orientation=\"horizontal\",\n",
    "    title=\"Dendrite position\",\n",
    "    titlesize=8,\n",
    ")\n",
    "\n",
    "for i, (proj, pos) in enumerate(\n",
    "    zip(plotter.space.sections, [(35, 165), (35, 110), (5, 165)])\n",
    "):\n",
    "    pltltr.add_anatomy_scalebar(\n",
    "        axs[i], plane=proj, pos=pos, cartesian=True, equalize_axis=False, length=30,\n",
    "    )\n",
    "# f.savefig(\"/Users/luigipetrucco/Desktop/figures_cosyne/dipn_neurons_colcoded.pdf\")\n",
    "# pltltr.savefig(\"dipn_neurons_colcoded_allviews\", folder=\"S15\")"
   ]
  },
  {
   "cell_type": "code",
   "execution_count": null,
   "id": "40581b98-415d-4cfb-b5a9-c756b20a1122",
   "metadata": {},
   "outputs": [],
   "source": []
  },
  {
   "cell_type": "code",
   "execution_count": null,
   "id": "f7c448fa-791c-4f47-b4f2-131feda58cae",
   "metadata": {},
   "outputs": [],
   "source": []
  },
  {
   "cell_type": "markdown",
   "id": "cadf11c6-c16e-4724-a5f1-3853db2c80ae",
   "metadata": {},
   "source": [
    "## Reconstructed activity gif"
   ]
  },
  {
   "cell_type": "code",
   "execution_count": null,
   "id": "349da15d-5c2e-45f2-a17f-bd6c90a8adad",
   "metadata": {},
   "outputs": [],
   "source": [
    "dest_path = Path(r\"/Users/luigipetrucco/Desktop/activation_gif_axons\")\n",
    "dest_path.mkdir(exist_ok=True)"
   ]
  },
  {
   "cell_type": "code",
   "execution_count": null,
   "id": "d4577872-6dbf-4d3e-adb4-b2d826a3caa6",
   "metadata": {},
   "outputs": [],
   "source": [
    "for i, t in tqdm(list(enumerate(range(0, 5000, 15)))):\n",
    "    # t = 0\n",
    "    plt.figure(figsize=(7, 4))\n",
    "    for n in n_list:\n",
    "        for s, cmap, off in zip(\n",
    "            [\"dendrites\", \"axon\",],\n",
    "            [cm.get_cmap(\"Blues\"), cm.get_cmap(\"Reds\")],\n",
    "            [0, -100],\n",
    "        ):\n",
    "            plt.plot(\n",
    "                n[s][:, 2],\n",
    "                -n[s][:, 1] + off,\n",
    "                c=cmap(norm(1)),\n",
    "                alpha=n[\"pseudo_activation\"][t] * 0.4,\n",
    "                lw=1,\n",
    "            )\n",
    "        plt.scatter(\n",
    "            n[\"soma\"][2],\n",
    "            -n[\"soma\"][0] + 100,\n",
    "            color=dff_colmap(norm(1)),  # dff_colmap(norm(n[\"pseudo_activation\"][t])),\n",
    "            alpha=n[\"pseudo_activation\"][t] * 0.7,\n",
    "            s=50,\n",
    "            lw=0,\n",
    "        )\n",
    "    plt.axis(\"equal\")\n",
    "    plt.axis(\"off\")\n",
    "    plt.savefig(dest_path / f\"frame_{i}.png\")\n",
    "    plt.close(\"all\")"
   ]
  },
  {
   "cell_type": "code",
   "execution_count": null,
   "id": "46398c76-26ba-45d4-a0a8-78fbd8787423",
   "metadata": {},
   "outputs": [],
   "source": []
  },
  {
   "cell_type": "code",
   "execution_count": null,
   "id": "1fec151b-38b6-41d7-b016-f18fe91e0e0f",
   "metadata": {},
   "outputs": [],
   "source": [
    "import os\n",
    "\n",
    "\n",
    "def save():\n",
    "    os.system(\n",
    "        f\"ffmpeg -r 1 -i {dest_path}/frame_*.png -vcodec mpeg4 -y {dest_path}/movie.mp4\"\n",
    "    )\n",
    "\n",
    "\n",
    "save()"
   ]
  },
  {
   "cell_type": "code",
   "execution_count": null,
   "id": "71330e0c-2deb-47b8-b943-a4828866dda6",
   "metadata": {},
   "outputs": [],
   "source": []
  },
  {
   "cell_type": "code",
   "execution_count": null,
   "id": "7b92a72a-fec9-4c68-b9d0-53aa56a3d8be",
   "metadata": {},
   "outputs": [],
   "source": [
    "import cv2\n",
    "\n",
    "image_folder = \"images\"\n",
    "video_name = \"video.avi\"\n",
    "\n",
    "images = sorted([img for img in dest_path.glob(\"*.png\")])\n",
    "frame = cv2.imread(str(images[0]))\n",
    "height, width, layers = frame.shape\n",
    "\n",
    "video = cv2.VideoWriter(video_name, 0, 1, (width, height))\n",
    "\n",
    "for image in tqdm(images):\n",
    "    video.write(cv2.imread(str(images)))\n",
    "\n",
    "cv2.destroyAllWindows()\n",
    "video.release()"
   ]
  },
  {
   "cell_type": "code",
   "execution_count": null,
   "id": "370768e4-4a5b-4e12-8109-c18942fc60cc",
   "metadata": {},
   "outputs": [],
   "source": [
    "save()"
   ]
  },
  {
   "cell_type": "code",
   "execution_count": null,
   "id": "b1ed89a2-87a6-4217-a66a-4c35dfcb7bfa",
   "metadata": {},
   "outputs": [],
   "source": []
  },
  {
   "cell_type": "code",
   "execution_count": null,
   "id": "9af03caf-a980-4cac-a39e-557fa77c5e59",
   "metadata": {},
   "outputs": [],
   "source": [
    "dest_path = Path(r\"/Users/luigipetrucco/Desktop/plotgif\")\n",
    "\n",
    "norm_cm = centroids[:, 1, 2] - centroids[:, 1, 2].min()\n",
    "norm_cm = norm_cm + 15\n",
    "norm_cm = norm_cm / (norm_cm.max() + 0.01)\n",
    "idxs = np.argsort(norm_cm)\n",
    "\n",
    "for i_plot in tqdm(range(len(sel_neurons))):  #\n",
    "    f, axs = plt.subplots(1, 2, figsize=(6.0, 4))\n",
    "    for axlab, ax in zip([\"frontal\", \"horizontal\"], axs):\n",
    "        plotter.plot_on_axis(ax, axlab)\n",
    "        for n, i in enumerate(idxs):\n",
    "            plotter.plot_neuron_projection(\n",
    "                ax,\n",
    "                sel_neurons[i],\n",
    "                axlab,\n",
    "                c=pltltr.shift_lum(cm.get_cmap(\"Reds\")(norm_cm[i]), 0.2),\n",
    "                lw=lw,\n",
    "                rasterized=True,\n",
    "                alpha=int(n < i_plot),  # exclude some neurons\n",
    "            )\n",
    "        plotter.plot_neuron_projection(\n",
    "            ax,\n",
    "            sel_neurons[idxs[i_plot]],\n",
    "            axlab,\n",
    "            c=pltltr.shift_lum(cm.get_cmap(\"Reds\")(norm_cm[idxs[i_plot]]), -0.2),\n",
    "            lw=lw,\n",
    "            rasterized=True,\n",
    "        )\n",
    "\n",
    "    f.savefig(dest_path / f\"plot_{i_plot}.png\")\n",
    "    plt.close()\n",
    "\n",
    "f, axs = plt.subplots(1, 2, figsize=(6.0, 4))\n",
    "for axlab, ax in zip([\"frontal\", \"horizontal\"], axs):\n",
    "    plotter.plot_on_axis(ax, axlab)\n",
    "    for i in idxs:\n",
    "        plotter.plot_neuron_projection(\n",
    "            ax,\n",
    "            sel_neurons[i],\n",
    "            axlab,\n",
    "            c=cm.get_cmap(\"Reds\")(norm_cm[i]),\n",
    "            lw=lw,\n",
    "            rasterized=True,\n",
    "        )\n",
    "f.savefig(dest_path / f\"plot_{i_plot+1}.png\")\n",
    "plt.close(\"all\")"
   ]
  },
  {
   "cell_type": "code",
   "execution_count": null,
   "id": "98436e76-8a4e-4c45-bd2f-32e7df4bb70e",
   "metadata": {},
   "outputs": [],
   "source": []
  },
  {
   "cell_type": "code",
   "execution_count": null,
   "id": "1ccf8c73-bf12-4420-9a9e-e346ad5a1047",
   "metadata": {},
   "outputs": [],
   "source": []
  },
  {
   "cell_type": "code",
   "execution_count": null,
   "id": "e499cb95-ebb6-4ca2-8be9-ee070945d994",
   "metadata": {},
   "outputs": [],
   "source": []
  },
  {
   "cell_type": "code",
   "execution_count": null,
   "id": "aa8653a3-eca2-4f14-ace3-1fdfc1e078e7",
   "metadata": {},
   "outputs": [],
   "source": [
    "f, axs = plotter.generate_projection_plots()\n",
    "\n",
    "lw = 0.5\n",
    "for i, (neuron, c) in enumerate(zip(sel_neurons, norm_cm)):\n",
    "    if \"bilat\" in neuron.comments and \"dipn\" in neuron.comments.split(\"_\"):\n",
    "        main_c = cm.get_cmap(\"Reds\")(c)\n",
    "        plotter.plot_neurons(axs, neuron, c=main_c, lw=0, rasterized=True)\n",
    "\n",
    "fake_im = axs[0].scatter([], [], c=[], cmap=\"Reds\")\n",
    "pltltr.add_cbar(\n",
    "    fake_im,\n",
    "    axs[1],\n",
    "    inset_loc=(0.425, 0.8, 0.3, 0.04),\n",
    "    ticks=[0.1, 0.9],\n",
    "    ticklabels=[\"lat\", \"med\"],\n",
    "    orientation=\"horizontal\",\n",
    "    title=\"Dendrite position\",\n",
    "    titlesize=8,\n",
    ")\n",
    "\n",
    "for i, (proj, pos) in enumerate(\n",
    "    zip(plotter.space.sections, [(35, 165), (35, 110), (5, 165)])\n",
    "):\n",
    "    pltltr.add_anatomy_scalebar(\n",
    "        axs[i], plane=proj, pos=pos, cartesian=True, equalize_axis=False, length=30,\n",
    "    )\n",
    "pltltr.savefig(\"dipn_neurons_colcoded_allviews_somaonly\", folder=\"S15\")"
   ]
  },
  {
   "cell_type": "code",
   "execution_count": null,
   "id": "1ce7317f-79f1-4655-ba17-bed663594959",
   "metadata": {},
   "outputs": [],
   "source": [
    "distances_from_midline = np.abs(centroids[:, :, 2] - MIDLINES[\"ipn\"])\n",
    "\n",
    "s = 8\n",
    "f, axs = plt.subplots(\n",
    "    1, 2, figsize=(4, 1.5), gridspec_kw=dict(bottom=0.3, left=0.3, wspace=0.5)\n",
    ")\n",
    "xline_lims = np.mean(distances_from_midline[:, 0]) + np.array(\n",
    "    [np.std(distances_from_midline[:, 0]) * 1.2 * s for s in [-1, 1]]\n",
    ")\n",
    "\n",
    "soma_pos = np.zeros(len(sel_neurons))\n",
    "for i, neuron in enumerate(sel_neurons):\n",
    "    soma_pos[i] = neuron.coords_ipn[neuron.soma_idx, 0]\n",
    "\n",
    "for i, (x, y) in enumerate(\n",
    "    [\n",
    "        (distances_from_midline[:, 0], distances_from_midline[:, 1]),\n",
    "        (distances_from_midline[:, 0], soma_pos),\n",
    "    ]\n",
    "):\n",
    "    axs[i].scatter(x, y, s=s, c=norm_cm, cmap=\"Reds\", vmin=0, vmax=1)\n",
    "    a, b = linear_regression(x, y)\n",
    "    axs[i].plot(xline_lims, a + xline_lims * b, lw=1, c=\".4\", zorder=-10)\n",
    "    ylims = axs[i].get_ylim()\n",
    "    cc = np.corrcoef(x, y)[0, 1]\n",
    "    axs[i].text(\n",
    "        np.mean(xline_lims),\n",
    "        ylims[1] - (ylims[1] - ylims[0]) * 0.1,\n",
    "        f\"R = {cc:0.2f}\",\n",
    "        ha=\"center\",\n",
    "    )\n",
    "\n",
    "axs[0].set(xlabel=\"Lat-med pos. dendrite\", ylabel=\"Lat-med pos. axon\")\n",
    "axs[1].set(xlabel=\"Lat-med pos. dendrite\", ylabel=\"Ant-post pos. soma\")\n",
    "\n",
    "for ax in axs:\n",
    "    pltltr.despine(ax)\n",
    "pltltr.savefig(\"dipn_neurons_scatterplots\")"
   ]
  },
  {
   "cell_type": "code",
   "execution_count": null,
   "id": "e0cb5a9b-ef15-44fa-8583-11b378192532",
   "metadata": {},
   "outputs": [],
   "source": [
    "logger"
   ]
  },
  {
   "cell_type": "code",
   "execution_count": null,
   "id": "28c179d6-7cf2-46ed-8c25-ce3786a707aa",
   "metadata": {},
   "outputs": [],
   "source": [
    "#  Specify axes limits over all dimensions:\n",
    "bs = dict(frontal=(50, 160), vertical=(-4, 170), sagittal=(-50, 120))\n",
    "\n",
    "plotter = pltltr.AtlasPlotter(\n",
    "    atlas=atlas,\n",
    "    structures=[\"ipn\", \"dipn\"],\n",
    "    mask_slices=dict(frontal=slice(0, 120)),\n",
    "    bounds_dict=dict(\n",
    "        frontal=[bs[\"vertical\"], bs[\"frontal\"]],\n",
    "        horizontal=[bs[\"sagittal\"], bs[\"frontal\"]],\n",
    "        sagittal=[bs[\"vertical\"], bs[\"sagittal\"]],\n",
    "    ),\n",
    ")"
   ]
  },
  {
   "cell_type": "markdown",
   "id": "91c67afc-16f7-4c10-b5e7-3a66ec7db512",
   "metadata": {},
   "source": [
    "# Plot pairs"
   ]
  },
  {
   "cell_type": "code",
   "execution_count": null,
   "id": "65799170-f2ea-4c78-b732-8e8cfef72591",
   "metadata": {},
   "outputs": [],
   "source": [
    "neurons_list_notmirr = load_skeletons_from_zip(em_path)\n",
    "\n",
    "# Select neurons with projections internal to the dIPN:\n",
    "\n",
    "sel_neurons_notmirr = [\n",
    "    n\n",
    "    for n in neurons_list_notmirr\n",
    "    if \"bilat\" in n.comments.split(\"_\") and \"dipn\" in n.comments.split(\"_\")\n",
    "]"
   ]
  },
  {
   "cell_type": "code",
   "execution_count": null,
   "id": "cd484098-2463-4bff-a013-2620b7dc1e8f",
   "metadata": {},
   "outputs": [],
   "source": [
    "sel_neurons_notmirr_dict.keys()"
   ]
  },
  {
   "cell_type": "code",
   "execution_count": null,
   "id": "ef550466-23c9-4ba3-89e4-194d933b4dc5",
   "metadata": {},
   "outputs": [],
   "source": [
    "sel_neurons_notmirr_dict = {n.id: n for n in sel_neurons_notmirr}\n",
    "cols = COLS[\"qualitative\"]\n",
    "\n",
    "off_x = 0\n",
    "off_y = 0\n",
    "s = 1.0\n",
    "f, ax = plt.subplots(figsize=(4, 4))\n",
    "\"\"\"\n",
    "ax.imshow(\n",
    "    gad1b_stack[20:170, :, :].max(0),\n",
    "    origin=\"lower\",\n",
    "    cmap=\"gray_r\",\n",
    "    vmin=450,\n",
    "    vmax=15000,\n",
    "    extent=(0, (gad1b_stack.shape[2] / 2) * s, 0, (gad1b_stack.shape[1] / 2) * s),\n",
    ")\n",
    "\"\"\"\n",
    "pltltr.plot_projection(\n",
    "    annotation[:120, :, :],\n",
    "    0,\n",
    "    ax=ax,\n",
    "    smooth_wnd=15,\n",
    "    linewidth=0.5,\n",
    "    fill=False,\n",
    "    edgecolor=\".3\",\n",
    ")\n",
    "pltltr.plot_projection(\n",
    "    annotation_dipn[:130, :, :],\n",
    "    0,\n",
    "    ax=ax,\n",
    "    smooth_wnd=15,\n",
    "    linewidth=0.5,\n",
    "    fill=False,\n",
    "    edgecolor=\".3\",\n",
    ")\n",
    "\n",
    "for i, neuron_id in enumerate([\"c017\", \"p084\", \"c011\", \"p077\", \"c018\", \"p085\"]):\n",
    "    neuron = sel_neurons_notmirr_dict[neuron_id]\n",
    "    if \"bilat\" in neuron.comments.split(\"_\") and \"dipn\" in neuron.comments.split(\"_\"):\n",
    "        main_c = COLS[\"phase\"](1 / 6 + i / 6)\n",
    "        lines = neuron.generate_plotlines_from_skeleton(space=\"ipn\", select=\"dendrites\")\n",
    "        (l,) = ax.plot(\n",
    "            lines[:, 2], lines[:, 1], lw=0.5, c=pltltr.shift_lum(main_c, 0.0)\n",
    "        )\n",
    "\n",
    "        lines = neuron.generate_plotlines_from_skeleton(space=\"ipn\", select=\"axon\")\n",
    "        (l,) = ax.plot(\n",
    "            lines[:, 2], lines[:, 1], lw=0.5, c=pltltr.shift_lum(main_c, 0.0)\n",
    "        )\n",
    "\n",
    "        soma = neuron.coords_ipn[neuron.soma_idx, :]\n",
    "        ax.scatter(soma[2], soma[1], s=30, color=pltltr.shift_lum(main_c, 0.0))\n",
    "        ax.axis(\"equal\")\n",
    "        ax.set(ylim=(170, -4), xlim=(50, 160))\n",
    "\n",
    "pltltr.despine(ax, \"all\")\n",
    "pltltr.add_scalebar(\n",
    "    ax, ylen=-20, xlen=20, ypos=140, xpos=40, xlabel=\"R. - L.\", ylabel=\"inf. sup.\"\n",
    ")\n",
    "pltltr.savefig(\"dipn_pairs\")"
   ]
  },
  {
   "cell_type": "markdown",
   "id": "55f341d9-9a9f-4975-a083-db368060ce8c",
   "metadata": {},
   "source": [
    "## Autocorrs"
   ]
  },
  {
   "cell_type": "code",
   "execution_count": null,
   "id": "4bb88d00-7e7e-4285-b608-73730be74fd2",
   "metadata": {},
   "outputs": [],
   "source": [
    "from lotr.em.tracing_tree import find_bifurcations\n",
    "\n",
    "all_centroids = []\n",
    "for n in sel_neurons:\n",
    "    all_centroids.append(\n",
    "        np.concatenate(\n",
    "            [\n",
    "                n.get_coords(\"ipn\")[find_bifurcations(n.edges_dict[s]), :][:, [0, 2]]\n",
    "                for s in [\"dendrites\", \"axon\"]\n",
    "            ]\n",
    "        )\n",
    "    )"
   ]
  },
  {
   "cell_type": "code",
   "execution_count": null,
   "id": "31916083-f64a-40c0-a0e0-0b7dfa3c70fc",
   "metadata": {},
   "outputs": [],
   "source": [
    "w = 130\n",
    "h = 70\n",
    "corrs = np.zeros((w, h, len(all_centroids)))\n",
    "\n",
    "for n_i, neuron in enumerate(all_centroids):\n",
    "    for i in range(neuron.shape[0]):\n",
    "        focal = neuron[i, :]\n",
    "        others = np.round(neuron - focal + np.array([h // 2, w // 2])).astype(int)\n",
    "        others[others < 0] = 0\n",
    "        others[others < 0] = 0\n",
    "        others[others[:, 0] >= h, 0] = h - 1\n",
    "        others[others[:, 1] >= w, 1] = w - 1\n",
    "        corrs[others[:, 1], others[:, 0], n_i] += 1"
   ]
  },
  {
   "cell_type": "code",
   "execution_count": null,
   "id": "ee0ddc3a-fe16-4a1b-ac82-990daa6850f1",
   "metadata": {},
   "outputs": [],
   "source": [
    "f, ax = plt.subplots(figsize=(3, 2), gridspec_kw=dict(left=0.2, bottom=0.2, right=0.85))\n",
    "c = plt.imshow(\n",
    "    gaussian_filter(corrs.sum(2).T, 1.5),\n",
    "    extent=[-w // 2, w // 2, -h // 2, h // 2],\n",
    "    cmap=\"Reds\",\n",
    "    vmin=1,\n",
    "    vmax=200,\n",
    ")\n",
    "ax.set_xlabel(\"Dist. from focal node-\\nfrontal ax. (μm)\", ha=\"center\")\n",
    "ax.set_ylabel(\"Dist. from focal node-\\nsagitt ax. (μm)\", va=\"center\")\n",
    "\n",
    "ax.set(xticks=[-60, -30, 0, 30, 60], yticks=[-30, 0, 30])\n",
    "\n",
    "pltltr.add_cbar(c, ax, inset_loc=(1.08, 0.0, 0.05, 0.5), ticks=[0, 100, 200])\n",
    "pltltr.savefig(\"dist_from_focal_node\")"
   ]
  },
  {
   "cell_type": "code",
   "execution_count": null,
   "id": "4126d513-e726-459a-a39e-3c71ae5f5152",
   "metadata": {},
   "outputs": [],
   "source": [
    "f, axs = plt.subplots(\n",
    "    4, 5, figsize=(8, 5), gridspec_kw=dict(left=0.25, bottom=0.2, right=0.85)\n",
    ")\n",
    "for i in range(len(all_centroids)):\n",
    "    ax = axs.flatten()[i]\n",
    "    c = ax.imshow(\n",
    "        gaussian_filter(corrs[:, :, i].T, 1.5),\n",
    "        extent=[-w // 2, w // 2, -h // 2, h // 2],\n",
    "        cmap=\"Reds\",\n",
    "        vmin=1,\n",
    "        vmax=15,\n",
    "    )\n",
    "    pltltr.despine(ax)\n",
    "    ax.set(xticks=[-60, -30, 0, 30, 60], yticks=[-30, 0, 30])\n",
    "    ax.set_title(sel_neurons[i].id, loc=\"left\", pad=-5)\n",
    "    if i != 15:\n",
    "        ax.set(xticklabels=[], yticklabels=[])\n",
    "    else:\n",
    "        ax.set_xlabel(\"Dist. from focal node-\\nfrontal ax. (μm)\", ha=\"center\")\n",
    "        ax.set_ylabel(\"Dist. from focal node-\\nsagitt ax. (μm)\", va=\"center\")\n",
    "\n",
    "[ax.axis(\"off\") for ax in axs.flatten()[i + 1 :]]\n",
    "\n",
    "\n",
    "# ax.set()\n",
    "\n",
    "pltltr.add_cbar(c, ax, inset_loc=(1.4, 0.0, 0.08, 0.6), ticks=[0, 15], label=\"Count\")\n",
    "pltltr.savefig(\"dist_from_focal_node_all_n\", folder=\"S15\")"
   ]
  },
  {
   "cell_type": "code",
   "execution_count": null,
   "id": "7418f3c1-a4b4-4fbb-8fef-922ae82cebc1",
   "metadata": {},
   "outputs": [],
   "source": []
  },
  {
   "cell_type": "markdown",
   "id": "3a0f4ea0-b5ea-4b44-bfa3-ea9b9c2a035b",
   "metadata": {},
   "source": [
    "## Coords in MPI space"
   ]
  },
  {
   "cell_type": "code",
   "execution_count": null,
   "id": "0902b477-9ffa-4b8c-ae64-93d6f89cb035",
   "metadata": {},
   "outputs": [],
   "source": [
    "pltltr.savefig(\"pairs\")\n",
    "from bg_atlasapi import BrainGlobeAtlas\n",
    "from tifffile import imread"
   ]
  },
  {
   "cell_type": "code",
   "execution_count": null,
   "id": "b00b312d-357b-4171-8faf-b5aec73c90d8",
   "metadata": {},
   "outputs": [],
   "source": [
    "mpin_atlas = BrainGlobeAtlas(\"mpin_zfish_1um\")\n",
    "mpin_atlas.annotation\n",
    "# Annoying fixes required to deal with the Baier annotation mess. Will be cleaned in next version of the atlas.\n",
    "mpin_atlas._annotation[[0, -1], :, :] = 0\n",
    "mpin_atlas._annotation[:, [0, -1], :] = 0\n",
    "mpin_atlas._annotation[:, :, [0, -1]] = 0\n",
    "mpin_atlas._annotation[atlas._annotation == 0] = 15000\n",
    "mpin_atlas.structures[\"root\"][\"id\"] = 1"
   ]
  },
  {
   "cell_type": "code",
   "execution_count": null,
   "id": "a3dcac20-c7fe-4334-9bad-d19357cefdf4",
   "metadata": {},
   "outputs": [],
   "source": [
    "import flammkuchen as fl\n",
    "from lotr.data_preprocessing.anatomy import transform_points\n",
    "\n",
    "matrices = fl.load(\n",
    "    \"/Volumes/Shared/experiments/E0044_spontaneous/gad1b/2p_anatomy/dendra/morphed anatomy files/xform_mat.h5\"\n",
    ")\n",
    "mat = matrices[\"to_mpin\"] @ np.linalg.inv(matrices[\"to_ipn\"])"
   ]
  },
  {
   "cell_type": "code",
   "execution_count": null,
   "id": "a9606f72-fd13-4cc5-ab60-c69f3a9ccde9",
   "metadata": {},
   "outputs": [],
   "source": [
    "coords = np.concatenate([neuron.coords_ipn[:, :] for neuron in sel_neurons_notmirr])\n",
    "# trasf_coords = transform_points(coords, mat)"
   ]
  },
  {
   "cell_type": "code",
   "execution_count": null,
   "id": "6048658b-35bd-4e5c-ae1f-c93f1722b47c",
   "metadata": {},
   "outputs": [],
   "source": [
    "#  Specify axes limits over all dimensions:\n",
    "bs = dict(\n",
    "    frontal=(0, mpin_atlas.shape[2] + 10),\n",
    "    vertical=(0, mpin_atlas.shape[1] + 10),\n",
    "    sagittal=(0, mpin_atlas.shape[0] + 10),\n",
    ")\n",
    "\n",
    "plotter = pltltr.AtlasPlotter(\n",
    "    atlas=mpin_atlas,\n",
    "    structures=[\"dorsal habenula\", \"root\", \"retina\", \"interpeduncular nucleus\"],\n",
    "    bounds_dict=dict(\n",
    "        frontal=[bs[\"vertical\"], bs[\"frontal\"]],\n",
    "        horizontal=[bs[\"sagittal\"], bs[\"frontal\"]],\n",
    "        sagittal=[bs[\"vertical\"], bs[\"sagittal\"]],\n",
    "    ),\n",
    "    smooth_wnd=50,\n",
    ")"
   ]
  },
  {
   "cell_type": "code",
   "execution_count": null,
   "id": "df2e94f6-d7d6-445d-b883-b2c896c246c4",
   "metadata": {},
   "outputs": [],
   "source": [
    "plt.figure()\n",
    "plt.scatter(coords[:, 2], coords[:, 1])"
   ]
  },
  {
   "cell_type": "code",
   "execution_count": null,
   "id": "57332291-0655-42e9-a890-2ff0e3be13ee",
   "metadata": {},
   "outputs": [],
   "source": []
  }
 ],
 "metadata": {
  "kernelspec": {
   "display_name": "rplab",
   "language": "python",
   "name": "rplab"
  },
  "language_info": {
   "codemirror_mode": {
    "name": "ipython",
    "version": 3
   },
   "file_extension": ".py",
   "mimetype": "text/x-python",
   "name": "python",
   "nbconvert_exporter": "python",
   "pygments_lexer": "ipython3"
  }
 },
 "nbformat": 4,
 "nbformat_minor": 5
}

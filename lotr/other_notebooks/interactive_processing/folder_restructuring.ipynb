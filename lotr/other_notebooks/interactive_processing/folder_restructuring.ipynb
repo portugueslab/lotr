{
 "cells": [
  {
   "cell_type": "code",
   "execution_count": null,
   "id": "217309a4",
   "metadata": {},
   "outputs": [],
   "source": [
    "from pathlib import Path\n",
    "import re\n",
    "from shutil import copy\n",
    "\n",
    "from lotr.file_utils import mirror_fish_folder, folder_2_fid\n",
    "from tqdm import tqdm\n",
    "import shutil"
   ]
  },
  {
   "cell_type": "markdown",
   "id": "3dd8d3db",
   "metadata": {},
   "source": [
    "### Cleanup folders from E0040 to E0071"
   ]
  },
  {
   "cell_type": "code",
   "execution_count": null,
   "id": "aaee1ef7",
   "metadata": {},
   "outputs": [],
   "source": [
    "master_source = Path(r\"\\\\FUNES\\Shared\\experiments\\E0040_motions_cardinal\")\n",
    "dest_master_folder = Path(r\"\\\\FUNES\\Shared\\experiments\\E0071_lotr\")"
   ]
  },
  {
   "cell_type": "code",
   "execution_count": null,
   "id": "868e282c",
   "metadata": {},
   "outputs": [],
   "source": [
    "all_folders_tomove = [f for f in master_source.glob(\"*/*[0-9]_f[0-9]*\") if f.is_dir()]"
   ]
  },
  {
   "cell_type": "code",
   "execution_count": null,
   "id": "0b0b4e26",
   "metadata": {},
   "outputs": [],
   "source": [
    "for f in tqdm(all_folders_tomove):\n",
    "    parent_dest_name = dest_master_folder / folder_2_fid(f)\n",
    "    parent_dest_name.mkdir(exist_ok=True)\n",
    "    \n",
    "    dest_name = parent_dest_name / f.name\n",
    "    dest_name.mkdir(exist_ok=True)\n",
    "    \n",
    "    mirror_fish_folder(\n",
    "            f, dest_name,\n",
    "            file_patterns=[\n",
    "                    \"*behavior_log*\",\n",
    "                    \"*stimulus_log*\",\n",
    "                    \"*metadata.json\",\n",
    "                    \"data_from_suite2p_unfiltered.h5\",\n",
    "                    \"*video.mp4\",\n",
    "                    \"*video_times.hdf5\",\n",
    "                    \"*img.png\",\n",
    "                    \"*select*\"\n",
    "                ]\n",
    "        )"
   ]
  },
  {
   "cell_type": "code",
   "execution_count": null,
   "id": "38b65875",
   "metadata": {},
   "outputs": [],
   "source": [
    "for f in tqdm(all_folders_tomove):\n",
    "    fid = \"\".join(re.split(r\"(\\d+)\", f.name.split(\"_\")[1])[:2])  # take only actuall fish id of date and fish number\n",
    "    date = f.name.split(\"_\")[0]\n",
    "    parent_dest_name = dest_master_folder / f\"{date}_{fid}\"\n",
    "    \n",
    "    print(parent_dest_name)"
   ]
  },
  {
   "cell_type": "markdown",
   "id": "93c36d06",
   "metadata": {},
   "source": [
    "### Move selected.h5 files from local to FUNES"
   ]
  },
  {
   "cell_type": "code",
   "execution_count": null,
   "id": "2f155919",
   "metadata": {},
   "outputs": [],
   "source": [
    "local_all_data = Path(\"/Users/luigipetrucco/Desktop/all_source_data\")\n",
    "dest_master_folder = Path(r\"/Volumes/Shared/experiments/E0071_lotr\")"
   ]
  },
  {
   "cell_type": "code",
   "execution_count": null,
   "id": "5af302f7",
   "metadata": {},
   "outputs": [],
   "source": [
    "all_folders_tomove = [f.parent for f in local_all_data.glob(\"*/*[0-9]_f[0-9]*/selected.h5\")]"
   ]
  },
  {
   "cell_type": "code",
   "execution_count": null,
   "id": "a314302e",
   "metadata": {},
   "outputs": [],
   "source": [
    "for f in tqdm(all_folders_tomove):\n",
    "    # print(f.name)\n",
    "    \n",
    "    parent_dest_name = dest_master_folder / folder_2_fid(f)\n",
    "    # print(parent_dest_name)\n",
    "    # parent_dest_name.mkdir(exist_ok=True)\n",
    "    \n",
    "    dest_name = parent_dest_name / f.name\n",
    "    # dest_name.mkdir(exist_ok=True)\n",
    "    if dest_name.exists():\n",
    "        mirror_fish_folder(\n",
    "                f, dest_name,\n",
    "                file_patterns=[\n",
    "                        \"*select*.h5\"\n",
    "                    ]\n",
    "            )\n",
    "        print(\"moving \", f)"
   ]
  },
  {
   "cell_type": "markdown",
   "id": "e53dece2",
   "metadata": {},
   "source": [
    "### Move valid fish to ring folder"
   ]
  },
  {
   "cell_type": "code",
   "execution_count": null,
   "id": "0594b403",
   "metadata": {},
   "outputs": [],
   "source": [
    "dest_master_folder = Path(\"/Users/luigipetrucco/Desktop/all_source_data\")\n",
    "all_valid = set([f.parent for f in dest_master_folder.glob(\"*/*\") if len(list(f.glob(\"*selected*\"))) > 0])\n",
    "dest_valid = Path(\"/Users/luigipetrucco/Desktop/all_source_data/full_ring\")"
   ]
  },
  {
   "cell_type": "code",
   "execution_count": null,
   "id": "b32b0bdc",
   "metadata": {},
   "outputs": [],
   "source": [
    "len(all_valid)"
   ]
  },
  {
   "cell_type": "code",
   "execution_count": null,
   "id": "c0d30147",
   "metadata": {},
   "outputs": [],
   "source": [
    "for f in (all_valid):\n",
    "    # print(dest_valid / f.name)\n",
    "    #if len(list(f.glob(\"*selected*\"))) > 0:\n",
    "    #    print(f.parent, f.parent.parent / full_ring / f.parent.name)\n",
    "    shutil.move(f, dest_valid / f.name)"
   ]
  },
  {
   "cell_type": "markdown",
   "id": "5371579c",
   "metadata": {},
   "source": [
    "### Restructure folder of raw acquisitions"
   ]
  },
  {
   "cell_type": "code",
   "execution_count": null,
   "id": "95a4b6ff",
   "metadata": {},
   "outputs": [],
   "source": [
    "master_folder = Path(\"/Users/luigipetrucco/Desktop/all_source_data\")\n",
    "dest_folder = Path(\"/Users/luigipetrucco/Desktop/all_source_data\")"
   ]
  },
  {
   "cell_type": "code",
   "execution_count": null,
   "id": "d9170a64",
   "metadata": {},
   "outputs": [],
   "source": [
    "for f in list(master_folder.glob(\"*[0-9]_f[0-9]*\")):\n",
    "    fid = folder_2_fid(f)\n",
    "    \n",
    "    dest_fid_folder = dest_folder / fid\n",
    "    dest_fid_folder.mkdir(exist_ok=True)\n",
    "    \n",
    "    shutil.move(f, dest_fid_folder / f.name)"
   ]
  },
  {
   "cell_type": "markdown",
   "id": "ca8d3d9a",
   "metadata": {},
   "source": [
    "### Mirror files on local and FUNES"
   ]
  },
  {
   "cell_type": "code",
   "execution_count": null,
   "id": "d9700474",
   "metadata": {},
   "outputs": [],
   "source": [
    "funes_folder = Path(\"/Volumes/Shared/experiments/E0071_lotr\")\n",
    "local_folder = Path(\"/Users/luigipetrucco/Desktop/all_source_data\")"
   ]
  },
  {
   "cell_type": "code",
   "execution_count": null,
   "id": "b8db95a1",
   "metadata": {},
   "outputs": [],
   "source": [
    "funes_dirs = set([f.name for f in (funes_folder / \"full_ring\").glob(\"*[0-9]_f[0-9]*\")])\n",
    "local_dirs = set([f.name for f in (local_folder / \"full_ring\").glob(\"*[0-9]_f[0-9]*\")])"
   ]
  },
  {
   "cell_type": "code",
   "execution_count": null,
   "id": "4f6f6612",
   "metadata": {},
   "outputs": [],
   "source": [
    "file_patterns=[\n",
    "                    \"*behavior_log*\",\n",
    "                    \"*stimulus_log*\",\n",
    "                    \"*metadata.json\",\n",
    "                    \"data_from_suite2p_unfiltered.h5\",\n",
    "                    \"*img.png\",\n",
    "                    \"*select*\"\n",
    "                ]\n",
    "\n",
    "for fid in tqdm(list(funes_dirs - local_dirs)):\n",
    "    dest_parent = local_folder / \"full_ring\" / fid\n",
    "    dest_parent.mkdir(exist_ok=True)\n",
    "    \n",
    "    for subf in (funes_folder / \"full_ring\" / fid).glob(\"*[0-9]_f[0-9]*\"):\n",
    "        mirror_fish_folder(\n",
    "                    subf, dest_parent / subf.name,\n",
    "                    file_patterns=file_patterns\n",
    "                )"
   ]
  },
  {
   "cell_type": "code",
   "execution_count": null,
   "id": "8901ef56",
   "metadata": {},
   "outputs": [],
   "source": []
  }
 ],
 "metadata": {
  "kernelspec": {
   "display_name": "rplab",
   "language": "python",
   "name": "rplab"
  },
  "language_info": {
   "codemirror_mode": {
    "name": "ipython",
    "version": 3
   },
   "file_extension": ".py",
   "mimetype": "text/x-python",
   "name": "python",
   "nbconvert_exporter": "python",
   "pygments_lexer": "ipython3"
  }
 },
 "nbformat": 4,
 "nbformat_minor": 5
}

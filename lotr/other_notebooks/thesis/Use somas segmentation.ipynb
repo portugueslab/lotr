{
 "cells": [
  {
   "cell_type": "code",
   "execution_count": null,
   "id": "f9ea3b46-5be5-4b1c-8f49-d0b410a95702",
   "metadata": {},
   "outputs": [],
   "source": [
    "%matplotlib widget\n",
    "%gui qt5\n",
    "from pathlib import Path\n",
    "\n",
    "import flammkuchen as fl\n",
    "import matplotlib as mpl\n",
    "import napari\n",
    "import numpy as np\n",
    "import pandas as pd\n",
    "import scipy.cluster.hierarchy as sch\n",
    "from bg_atlasapi import BrainGlobeAtlas\n",
    "from lotr import DATASET_LOCATION\n",
    "from lotr import plotting as pltltr\n",
    "from matplotlib import pyplot as plt\n",
    "from sklearn.metrics.pairwise import euclidean_distances\n",
    "from tqdm import tqdm\n",
    "\n",
    "cols = pltltr.COLS[\"qualitative\"] * 5\n",
    "mpl.rcParams[\"axes.prop_cycle\"] = mpl.cycler(color=cols)\n",
    "\n",
    "atlas = BrainGlobeAtlas(\"ipn_zfish_0.5um\")\n",
    "atlas_mpin = BrainGlobeAtlas(\"mpin_zfish_1um\")"
   ]
  },
  {
   "cell_type": "code",
   "execution_count": null,
   "id": "6ec62eee-86ac-4b19-97e9-c78188617730",
   "metadata": {},
   "outputs": [],
   "source": [
    "anatomy_location = DATASET_LOCATION / \"anatomy\"\n",
    "all_neurons = fl.load(\n",
    "    anatomy_location / \"annotated_traced_neurons\" / \"all_skeletons.h5\"\n",
    ")\n",
    "# include only ipn neurons:\n",
    "neurons_list = [\n",
    "    n\n",
    "    for n in all_neurons.values()\n",
    "    if (\n",
    "        (n.comments[0] == \"p\" and n.comments.split(\" - \")[1][0] == \"i\")\n",
    "        or (n.comments[0] == \"n\")\n",
    "    )\n",
    "    and \"??\" not in n.comments\n",
    "]"
   ]
  },
  {
   "cell_type": "code",
   "execution_count": null,
   "id": "dde4fddb-8a1f-486b-a02c-871c3d56544d",
   "metadata": {},
   "outputs": [],
   "source": [
    "labels = fl.load(anatomy_location / \"em_soma_segmentation\" / \"soma_labels_uint16.h5\")\n",
    "\n",
    "# make background 0 and cells starting with 1:\n",
    "labels[labels < 2] = 0\n",
    "labels[labels > 1] = labels[labels > 1] - 1"
   ]
  },
  {
   "cell_type": "code",
   "execution_count": null,
   "id": "6c0518ee-0230-462f-b019-1a48cd3ce85a",
   "metadata": {},
   "outputs": [],
   "source": [
    "data = fl.load(anatomy_location / \"em_soma_segmentation\" / \"coords.h5\")\n",
    "seg_somas_coords, seg_somas_areas = data[\"coords\"], data[\"areas\"]"
   ]
  },
  {
   "cell_type": "code",
   "execution_count": null,
   "id": "2a532e08-ceaa-4ce0-930f-eda11d440e93",
   "metadata": {},
   "outputs": [],
   "source": [
    "# offset of the columns:\n",
    "start_x = 17000  # 20000\n",
    "start_z = 17000  # 6000\n",
    "start_y = 5800  # 20000\n",
    "\n",
    "dwn = 1  # downsampling factor\n",
    "mag = 4  # magnification"
   ]
  },
  {
   "cell_type": "code",
   "execution_count": null,
   "id": "38907775-388a-4840-8f82-b7f6fb9255a7",
   "metadata": {},
   "outputs": [],
   "source": [
    "plt.figure()\n",
    "plt.imshow(labels.mean(0))"
   ]
  },
  {
   "cell_type": "code",
   "execution_count": null,
   "id": "2f334d03-6f8d-4b16-89d4-b69d7d07d7a0",
   "metadata": {},
   "outputs": [],
   "source": [
    "coords = np.concatenate(\n",
    "    [\n",
    "        all_neurons[k].coords_em[all_neurons[k].dendr_idxs, :]\n",
    "        for k in all_neurons\n",
    "        if all_neurons[k].comments[0] == \"n\"\n",
    "    ],\n",
    "    0,\n",
    ")"
   ]
  },
  {
   "cell_type": "code",
   "execution_count": null,
   "id": "5a27dacf-32ec-419e-902d-098d5e38af82",
   "metadata": {},
   "outputs": [],
   "source": [
    "coords = np.concatenate(\n",
    "    [\n",
    "        all_neurons[k].coords_em[all_neurons[k].soma_idx, :][np.newaxis, :]\n",
    "        for k in all_neurons\n",
    "        if all_neurons[k].comments[0] == \"n\"\n",
    "    ],\n",
    "    0,\n",
    ")"
   ]
  },
  {
   "cell_type": "code",
   "execution_count": null,
   "id": "a6d8bb83-7052-42c1-9ef8-677f4dfa9d1b",
   "metadata": {},
   "outputs": [],
   "source": [
    "stack_offset = np.array([17000, 17000, 5800])\n",
    "vox_vol = (0.014 * 0.014 * 0.025) * (\n",
    "    8 ** 3\n",
    ")  # voxel size in microns corrected for downsampling\n",
    "stack_shape_vox = np.array([s * 8 for s in labels.shape])\n",
    "\n",
    "# radii = ((areas * vox_vol) * 3 / (4 * np.pi)) ** (1 / 3)"
   ]
  },
  {
   "cell_type": "code",
   "execution_count": null,
   "id": "0ac74f7c-5415-428e-a4cf-17262039864c",
   "metadata": {},
   "outputs": [],
   "source": [
    "proj = 1\n",
    "d1, d2 = 2, 0\n",
    "plt.figure()\n",
    "plt.imshow(\n",
    "    labels.mean(proj),\n",
    "    extent=[\n",
    "        stack_offset[d1],\n",
    "        stack_offset[d1] + stack_shape_vox[d1],\n",
    "        stack_offset[d2],\n",
    "        stack_offset[d2] + stack_shape_vox[d2],\n",
    "    ],\n",
    ")\n",
    "# plt.scatter(coords[:, d1], coords[:, d2], s=1, c=\"r\", alpha=0.01)\n",
    "plt.scatter(coords[:, d1], coords[:, d2], s=15, c=\"r\")"
   ]
  },
  {
   "cell_type": "code",
   "execution_count": null,
   "id": "d9952662-b02c-4494-a5c3-9e5faaa10ac2",
   "metadata": {},
   "outputs": [],
   "source": []
  },
  {
   "cell_type": "code",
   "execution_count": null,
   "id": "fb3f8d9f-5775-4405-8673-03322e32c371",
   "metadata": {},
   "outputs": [],
   "source": [
    "from lotr.em.loading import neuron_from_xml\n",
    "\n",
    "data_path = Path(anatomy_location / \"em_soma_segmentation\" / \"cells_ipn.xml\")\n",
    "ipn_somas = neuron_from_xml(data_path)"
   ]
  },
  {
   "cell_type": "code",
   "execution_count": null,
   "id": "bcb01a88-beb8-43be-8e40-8f3d5c4dd414",
   "metadata": {},
   "outputs": [],
   "source": [
    "somas = ipn_somas.coords_em"
   ]
  },
  {
   "cell_type": "code",
   "execution_count": null,
   "id": "376af930-2c9c-4149-8b1d-0f462fb03cd8",
   "metadata": {},
   "outputs": [],
   "source": [
    "proj = 1\n",
    "d1, d2 = 2, 0\n",
    "plt.figure()\n",
    "plt.imshow(\n",
    "    labels.mean(proj),\n",
    "    extent=[\n",
    "        stack_offset[d1],\n",
    "        stack_offset[d1] + stack_shape_vox[d1],\n",
    "        stack_offset[d2],\n",
    "        stack_offset[d2] + stack_shape_vox[d2],\n",
    "    ],\n",
    ")\n",
    "plt.scatter(seg_somas_coords[:, d1], seg_somas_coords[:, d2], s=15, c=\"r\", alpha=1)\n",
    "# plt.scatter(somas[:, d1], somas[:, d2], s=15, c=\"r\")"
   ]
  },
  {
   "cell_type": "code",
   "execution_count": null,
   "id": "3d3e91bc-a305-4e88-871c-f60d7a93e8d0",
   "metadata": {},
   "outputs": [],
   "source": [
    "stack_offset = np.array([17000, 17000, 5800])\n",
    "\n",
    "label_dist = []\n",
    "soma_ids = []\n",
    "soma_labels = []\n",
    "for n in range(somas.shape[0]):\n",
    "    soma_coords = somas[n, :]  # n.coords_em[n.soma_idx, :]\n",
    "    distances = np.sqrt(np.sum((seg_somas_coords - soma_coords) ** 2, 1))\n",
    "\n",
    "    s_c = ((soma_coords - stack_offset) / 8).astype(np.int)\n",
    "    soma_labels.append(labels[s_c[0], s_c[1], s_c[2]])\n",
    "\n",
    "    idx = np.argmin(distances)\n",
    "    label_dist.append(distances[idx])\n",
    "    soma_ids.append(idx)"
   ]
  },
  {
   "cell_type": "code",
   "execution_count": null,
   "id": "9c9fdf88-366d-4d77-b218-3822596bb35f",
   "metadata": {},
   "outputs": [],
   "source": [
    "suppsedly = seg_somas_coords[soma_ids, :]"
   ]
  },
  {
   "cell_type": "code",
   "execution_count": null,
   "id": "02190d7e-1104-4d43-abdb-48d2bf4df401",
   "metadata": {},
   "outputs": [],
   "source": [
    "ipn_somas = np.zeros(labels.shape, dtype=np.uint8)"
   ]
  },
  {
   "cell_type": "code",
   "execution_count": null,
   "id": "0d7ce0ca-e241-4cf0-94c0-d07387145d14",
   "metadata": {},
   "outputs": [],
   "source": [
    "n_ids = [n.id for n in neurons_list]\n",
    "\n",
    "for n, soma_id in tqdm(list(enumerate(soma_ids))):\n",
    "    # n = int(n[1:]) if n[0] == \"n\" else int(n[1:]) + 100\n",
    "    # idxs = not_tr == int(n)\n",
    "    # not_tr[idxs] = -1\n",
    "    ipn_somas[labels == soma_id] = n"
   ]
  },
  {
   "cell_type": "code",
   "execution_count": null,
   "id": "c60a5e89-5f93-4ed1-aa2c-8a6b73abc14d",
   "metadata": {},
   "outputs": [],
   "source": [
    "plt.figure()\n",
    "plt.imshow(ipn_somas.max(1))"
   ]
  },
  {
   "cell_type": "code",
   "execution_count": null,
   "id": "f08e1330-d2e1-470d-9c5a-3f86f83b1506",
   "metadata": {},
   "outputs": [],
   "source": [
    "from scipy.ndimage import affine_transform"
   ]
  },
  {
   "cell_type": "code",
   "execution_count": null,
   "id": "03535b3a-2ae8-4f43-8973-decbdc77aff2",
   "metadata": {},
   "outputs": [],
   "source": [
    "from lotr.em.transformations import em_2_ipnref, transform_points"
   ]
  },
  {
   "cell_type": "code",
   "execution_count": null,
   "id": "08a78c76-cc57-417f-98e8-7891f6ee8866",
   "metadata": {},
   "outputs": [],
   "source": [
    "stack_to_em = np.array(\n",
    "    [\n",
    "        [8, 0, 0, stack_offset[0]],\n",
    "        [0, 8, 0, stack_offset[1]],\n",
    "        [0, 0, 8, stack_offset[2]],\n",
    "        [0, 0, 0, 1],\n",
    "    ]\n",
    ")\n",
    "# diagonal is 8 for the downsampling\n",
    "\n",
    "# Matrix to account for the fact that reference is 0.5 um in voxel size:\n",
    "res_matrix = np.eye(4)\n",
    "for i, r in enumerate(atlas.resolution):\n",
    "    res_matrix[i] = 1 / r"
   ]
  },
  {
   "cell_type": "code",
   "execution_count": null,
   "id": "6935f789-8207-485b-b9d2-a597c8d461d8",
   "metadata": {},
   "outputs": [],
   "source": [
    "test = np.ones((50, 50, 50))\n",
    "out = np.zeros(atlas.shape, dtype=np.uint16)\n",
    "output = affine_transform(\n",
    "    labels,\n",
    "    np.linalg.inv(resolution_mat @ em_2_ipnref @ stack_to_em),\n",
    "    output=out,\n",
    "    order=0,\n",
    ")"
   ]
  },
  {
   "cell_type": "code",
   "execution_count": null,
   "id": "a5473bf0-b483-4bd3-9160-7266b0fedd3b",
   "metadata": {},
   "outputs": [],
   "source": [
    "plt.figure()\n",
    "plt.imshow(output.mean(1))"
   ]
  },
  {
   "cell_type": "code",
   "execution_count": null,
   "id": "8ea99e9c-25c5-4fc8-91ed-751a74aa3ec7",
   "metadata": {},
   "outputs": [],
   "source": [
    "ipn_mask = (atlas.get_structure_mask(\"ipn\") / 2).astype(np.uint16)"
   ]
  },
  {
   "cell_type": "code",
   "execution_count": null,
   "id": "cc5838cf-122a-413f-82b5-bd0956aa6c0e",
   "metadata": {},
   "outputs": [],
   "source": [
    "import napari"
   ]
  },
  {
   "cell_type": "code",
   "execution_count": null,
   "id": "e21153af-dcbd-46ee-874a-7ea0b1d4ed4c",
   "metadata": {},
   "outputs": [],
   "source": [
    "napari.view_labels((output))"
   ]
  },
  {
   "cell_type": "code",
   "execution_count": null,
   "id": "c1ec992b-feb7-4e6d-822d-9ece2f152754",
   "metadata": {},
   "outputs": [],
   "source": []
  }
 ],
 "metadata": {
  "kernelspec": {
   "display_name": "rplab",
   "language": "python",
   "name": "rplab"
  },
  "language_info": {
   "codemirror_mode": {
    "name": "ipython",
    "version": 3
   },
   "file_extension": ".py",
   "mimetype": "text/x-python",
   "name": "python",
   "nbconvert_exporter": "python",
   "pygments_lexer": "ipython3"
  }
 },
 "nbformat": 4,
 "nbformat_minor": 5
}

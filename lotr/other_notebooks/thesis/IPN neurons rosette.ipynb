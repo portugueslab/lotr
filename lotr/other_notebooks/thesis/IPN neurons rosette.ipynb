{
 "cells": [
  {
   "cell_type": "markdown",
   "id": "4a370c71-6006-4967-852e-92618d45ed3f",
   "metadata": {},
   "source": [
    "# Define clusters for IPN neurons\n",
    "\n",
    "This is a finnicky notebook written in the rush of thesis finishing, careful when running."
   ]
  },
  {
   "cell_type": "code",
   "execution_count": null,
   "id": "19c95f0d-b768-4ec1-bd3f-522879560fbd",
   "metadata": {},
   "outputs": [],
   "source": [
    "%matplotlib widget\n",
    "from pathlib import Path\n",
    "\n",
    "import flammkuchen as fl\n",
    "import matplotlib as mpl\n",
    "import numpy as np\n",
    "import pandas as pd\n",
    "import scipy.cluster.hierarchy as sch\n",
    "from bg_atlasapi import BrainGlobeAtlas\n",
    "from lotr import DATASET_LOCATION\n",
    "from lotr import plotting as pltltr\n",
    "from matplotlib import pyplot as plt\n",
    "from scipy.ndimage import gaussian_filter\n",
    "from tqdm import tqdm\n",
    "\n",
    "cols = pltltr.COLS[\"qualitative\"] * 5\n",
    "cols2 = pltltr.COLS[\"fish_cols\"] * 5\n",
    "mpl.rcParams[\"axes.prop_cycle\"] = mpl.cycler(color=cols)\n",
    "\n",
    "atlas = BrainGlobeAtlas(\"ipn_zfish_0.5um\")"
   ]
  },
  {
   "cell_type": "code",
   "execution_count": null,
   "id": "9e58351b-e5e1-4a91-bf9a-ae95bb99686d",
   "metadata": {},
   "outputs": [],
   "source": [
    "anatomy_location = DATASET_LOCATION / \"anatomy\"\n",
    "\n",
    "= fl.load(anatomy_location / \"annotated_traced_neurons\" / \"all_skeletons.h5\")"
   ]
  },
  {
   "cell_type": "code",
   "execution_count": null,
   "id": "35597114-2b4d-461d-aca4-740a4f789408",
   "metadata": {},
   "outputs": [],
   "source": [
    "neurons_clust = fl.load(anatomy_location / \"ipn_morph_clust.h5\")"
   ]
  },
  {
   "cell_type": "code",
   "execution_count": null,
   "id": "a0f42c2d-38b3-4e50-93e6-24219c1faab2",
   "metadata": {},
   "outputs": [],
   "source": [
    "sel_clusters = [4, 5, 6, 10]\n",
    "neurons_rosette = [\n",
    "    neurons[nid] for nid, l in neurons_clust.items() if l in sel_clusters\n",
    "]"
   ]
  },
  {
   "cell_type": "code",
   "execution_count": null,
   "id": "e3cd3753-4a79-4fdf-8ba0-68229696fad6",
   "metadata": {},
   "outputs": [],
   "source": [
    "rosette_vol = np.zeros(atlas.shape, dtype=np.uint8)\n",
    "neurons_coords = np.concatenate(\n",
    "    [n.coords_ipn[n.dendr_idxs, :] for n in neurons_rosette], 0\n",
    ")\n",
    "n_coords_idxs = (neurons_coords * 2).astype(int)\n",
    "\n",
    "rosette_vol[n_coords_idxs[:, 0], n_coords_idxs[:, 1], n_coords_idxs[:, 2]] = 255\n",
    "# blur_rosette = gaussian_filter(rosette_vol, (7, 7, 7))"
   ]
  },
  {
   "cell_type": "code",
   "execution_count": null,
   "id": "53f76eb0-9c99-4b6c-9b89-b1ecdd872aac",
   "metadata": {},
   "outputs": [],
   "source": [
    "#  Specify axes limits over all dimensions:\n",
    "bs = dict(frontal=(40, 170), vertical=(20, 180), sagittal=(20, 120))\n",
    "lw = 0.4\n",
    "\n",
    "plotter = pltltr.AtlasPlotter(\n",
    "    structures=[\"ipn\", \"glomeruli\"],\n",
    "    mask_slices=dict(frontal=slice(0, 400)),\n",
    "    bounds_dict=dict(\n",
    "        frontal=[bs[\"vertical\"], bs[\"frontal\"]],\n",
    "        horizontal=[bs[\"sagittal\"], bs[\"frontal\"]],\n",
    "        sagittal=[bs[\"vertical\"], bs[\"sagittal\"]],\n",
    "    ),\n",
    ")\n",
    "plotter.fill_kw[\"linewidth\"] = 0.4\n",
    "\n",
    "bs = dict(frontal=(50, 160), vertical=(20, 180), sagittal=(20, 120))\n",
    "plotter_noglom = pltltr.AtlasPlotter(\n",
    "    structures=[\"ipn\"],\n",
    "    mask_slices=dict(frontal=slice(0, 400)),\n",
    "    bounds_dict=dict(\n",
    "        frontal=[bs[\"vertical\"], bs[\"frontal\"]],\n",
    "        horizontal=[bs[\"sagittal\"], bs[\"frontal\"]],\n",
    "        sagittal=[bs[\"vertical\"], bs[\"sagittal\"]],\n",
    "    ),\n",
    ")\n",
    "plotter_noglom.fill_kw[\"linewidth\"] = 0.4"
   ]
  },
  {
   "cell_type": "code",
   "execution_count": null,
   "id": "230ad901-5c19-4c7c-b8c4-391d9a7d2e9f",
   "metadata": {},
   "outputs": [],
   "source": [
    "clust_cols = dict(c4=0, c6=1, c5=2)\n",
    "f, axs = plt.subplots(1, 2, figsize=(4.16, 2), gridspec_kw=dict(top=1, left=0, right=1))\n",
    "axs[1].axis(\"off\")\n",
    "axs[1].axis(\"equal\")\n",
    "\n",
    "ax = axs[0]\n",
    "plotter_noglom.plot_on_axis(ax, projection=\"horizontal\", labels=True, title=False)\n",
    "all_coords = np.concatenate(\n",
    "    [neuron.coords_ipn[neuron.dendr_idxs, :] for neuron in neurons_rosette], 0\n",
    ")\n",
    "for cl_id, col_id in clust_cols.items():\n",
    "    for neuron in neurons_rosette:\n",
    "        if neurons_clust[neuron.id] == int(cl_id[1:]):\n",
    "            col = cols2[col_id + 3 * neuron.is_left - 1]\n",
    "            plotter.plot_neuron_projection(\n",
    "                ax,\n",
    "                neuron,\n",
    "                projection=\"horizontal\",\n",
    "                select=\"dendrites\",\n",
    "                c=pltltr.shift_lum(col, 0.15),\n",
    "                soma_s=0,\n",
    "                alpha=0.8,\n",
    "                lw=0.4,\n",
    "                zorder=-1,\n",
    "                rasterized=True,\n",
    "            )\n",
    "            plotter.plot_neuron_projection(\n",
    "                ax,\n",
    "                neuron,\n",
    "                projection=\"horizontal\",\n",
    "                select=\"dendrites\",\n",
    "                c=pltltr.shift_lum(col, -0.05),\n",
    "                soma_s=30,\n",
    "                lw=0,\n",
    "                zorder=1,\n",
    "                rasterized=True,\n",
    "            )\n",
    "\n",
    "ax = axs[1]\n",
    "plotter.plot_on_axis(ax, projection=\"horizontal\", labels=False, title=False)\n",
    "plotter.ax_scatterplot(\n",
    "    ax, \"horizontal\", all_coords, rasterized=True, alpha=0.004, c=\"k\", s=0.1\n",
    ")\n",
    "\n",
    "mid = 107\n",
    "dx = [7, 25, 14]\n",
    "dy = [54, 58, 85]\n",
    "\n",
    "for i in range(3):\n",
    "    for x in [mid - dx[i], mid + dx[i] + 3]:\n",
    "        tx = ax.text(\n",
    "            x,\n",
    "            dy[i],\n",
    "            f\"G{(i + 1)}\",\n",
    "            fontsize=8,\n",
    "            # fontweight=\"bold\",\n",
    "            va=\"center\",\n",
    "            ha=\"center\",\n",
    "            c=\"Maroon\",\n",
    "        )\n",
    "    # tx = ax.text(\n",
    "    #    mid - dx[i], dy[i], f\"G{(i + 1)}\", fontsize=8, va=\"center\", ha=\"center\"\n",
    "    # )\n",
    "    # tx.set_bbox(dict(facecolor=\"Maroon\", alpha=0.5, edgecolor=\"w\"))\n",
    "\n",
    "pltltr.savefig(\"rosette\")"
   ]
  },
  {
   "cell_type": "markdown",
   "id": "a71ed5a4-622f-4804-9fd4-276f716d9459",
   "metadata": {},
   "source": [
    "# From histology"
   ]
  },
  {
   "cell_type": "code",
   "execution_count": null,
   "id": "c4b2cc3b-e31b-40d0-b91e-d042982eee82",
   "metadata": {},
   "outputs": [],
   "source": [
    "from tifffile import imread"
   ]
  },
  {
   "cell_type": "code",
   "execution_count": null,
   "id": "32f5f43a-1762-43db-a620-5f11e024ea3d",
   "metadata": {},
   "outputs": [],
   "source": [
    "staining = imread(r\"/Volumes/Shared/Luigi/best_GAD67-Alexa488.tif\")"
   ]
  },
  {
   "cell_type": "code",
   "execution_count": null,
   "id": "d928a97d-8fef-4687-8a2a-e830ea957a9f",
   "metadata": {},
   "outputs": [],
   "source": [
    "#  Specify axes limits over all dimensions:\n",
    "bs = dict(frontal=(40, 170), vertical=(20, 180), sagittal=(20, 120))\n",
    "lw = 0.4\n",
    "\n",
    "plotter_r = pltltr.AtlasPlotter(\n",
    "    structures=[\"ipn\", \"glomeruli\"],\n",
    "    mask_slices=dict(frontal=slice(0, 400)),\n",
    "    bounds_dict=dict(\n",
    "        frontal=[bs[\"vertical\"], bs[\"frontal\"]],\n",
    "        horizontal=[bs[\"sagittal\"], bs[\"frontal\"]],\n",
    "        sagittal=[bs[\"vertical\"], bs[\"sagittal\"]],\n",
    "    ),\n",
    ")"
   ]
  },
  {
   "cell_type": "code",
   "execution_count": null,
   "id": "84295e38-32e8-4662-807d-e8fd61de1f54",
   "metadata": {},
   "outputs": [],
   "source": [
    "plotter_r.fill_kw[\"linewidth\"] = 0.5\n",
    "plotter_r.fill_kw[\"edgecolor\"] = pltltr.shift_lum(\"Maroon\", 0.3)\n",
    "plotter_r.fill_kw[\"alpha\"] = 0.8\n",
    "\n",
    "f, axs = plt.subplots(1, 1, figsize=(2, 2), gridspec_kw=dict(top=1, left=0, right=1))\n",
    "axs\n",
    "axs.imshow(\n",
    "    staining[11, 640:820, 420:610],\n",
    "    vmax=800,\n",
    "    cmap=\"gray\",\n",
    "    origin=\"lower\",\n",
    "    extent=[160, 55, 20, 120],\n",
    ")\n",
    "plotter_r.plot_on_axis(\n",
    "    axs, projection=\"horizontal\",\n",
    ")\n",
    "plt.text(\n",
    "    160, 20, \"antiGAD67-Alexa488\", fontsize=8, c=(0.4,) * 3, ha=\"right\", va=\"bottom\"\n",
    ")\n",
    "\n",
    "pltltr.savefig(\"rosette_staining\")"
   ]
  },
  {
   "cell_type": "markdown",
   "id": "823958e3-5b32-4dc5-a7bc-51b10d0c7f6b",
   "metadata": {},
   "source": [
    "# Glomeruli connections "
   ]
  },
  {
   "cell_type": "code",
   "execution_count": null,
   "id": "9918204d-94a3-48a6-9368-6d77018ae2bc",
   "metadata": {},
   "outputs": [],
   "source": [
    "neurons_g1 = []"
   ]
  },
  {
   "cell_type": "code",
   "execution_count": null,
   "id": "9133d31e-04fa-41bc-8b67-a5300b3529fc",
   "metadata": {},
   "outputs": [],
   "source": [
    "neurons_clust_ahb = fl.load(anatomy_location / \"ahb_morph_clust.h5\")"
   ]
  },
  {
   "cell_type": "code",
   "execution_count": null,
   "id": "48bb378a-756e-4eb0-81d9-03dfdec09fc5",
   "metadata": {},
   "outputs": [],
   "source": [
    "neurons_clust_ahb"
   ]
  },
  {
   "cell_type": "code",
   "execution_count": null,
   "id": "6e3e0377-1a85-4c3d-8a5e-9227a4f77e66",
   "metadata": {},
   "outputs": [],
   "source": [
    "#  Specify axes limits over all dimensions:\n",
    "bs = dict(frontal=(20, 190), vertical=(40, 180), sagittal=(-20, 120))\n",
    "\n",
    "plotter = pltltr.AtlasPlotter(\n",
    "    structures=[\"ipn\", \"dipn\"],\n",
    "    mask_slices=dict(frontal=slice(0, 120)),\n",
    "    bounds_dict=dict(\n",
    "        frontal=[bs[\"vertical\"], bs[\"frontal\"]],\n",
    "        horizontal=[bs[\"sagittal\"], bs[\"frontal\"]],\n",
    "        sagittal=[bs[\"vertical\"], bs[\"sagittal\"]],\n",
    "    ),\n",
    ")"
   ]
  },
  {
   "cell_type": "code",
   "execution_count": null,
   "id": "6cc6f25b-0e9d-4f67-84a5-05f2d42883ef",
   "metadata": {},
   "outputs": [],
   "source": [
    "[k for k, c in neurons_clust_ahb.items() if c == 1]"
   ]
  },
  {
   "cell_type": "code",
   "execution_count": null,
   "id": "3574bf77-b7b4-4af8-9182-29b46f6bf9bd",
   "metadata": {},
   "outputs": [],
   "source": [
    "f, axs = plotter.generate_projection_plots(figsize=(4.2, 2), labels=True)\n",
    "\n",
    "# i_a0\n",
    "plotter.plot_neurons(axs, neurons[\"p041\"], lw=0.4)\n",
    "plotter.plot_neurons(axs, neurons[\"p048\"], lw=0.4)\n",
    "plotter.plot_neurons(axs, neurons[\"p056\"], lw=0.4)\n",
    "plotter.plot_neurons(axs, neurons[\"p070\"], lw=0.4)"
   ]
  },
  {
   "cell_type": "code",
   "execution_count": null,
   "id": "477f3a16-bc64-4c2f-ba68-26ed78f2d87c",
   "metadata": {},
   "outputs": [],
   "source": [
    "def plot_bicol_n(\n",
    "    ax,\n",
    "    neuron,\n",
    "    plotter,\n",
    "    projection=\"horizontal\",\n",
    "    color=None,\n",
    "    shift=0.15,\n",
    "    linewidth=0.6,\n",
    "    alpha=1,\n",
    "    raster=True,\n",
    "    col_axon=None,\n",
    "):\n",
    "    shifted_col = pltltr.shift_lum(color, shift)\n",
    "    if col_axon is None:\n",
    "        col_axon = shifted_col\n",
    "    plotter.plot_neuron_projection(\n",
    "        ax,\n",
    "        neuron,\n",
    "        projection=projection,\n",
    "        select=\"dendrites\",\n",
    "        color=color,\n",
    "        linewidth=0,\n",
    "        rasterized=raster,\n",
    "        alpha=alpha,\n",
    "        soma_s=30,\n",
    "        zorder=-100,\n",
    "        label=\"__nolegend__\",\n",
    "    )\n",
    "    plotter.plot_neuron_projection(\n",
    "        ax,\n",
    "        neuron,\n",
    "        projection=projection,\n",
    "        select=\"dendrites\",\n",
    "        color=color,\n",
    "        linewidth=linewidth,\n",
    "        rasterized=raster,\n",
    "        alpha=alpha,\n",
    "        soma_s=0,\n",
    "        zorder=100,\n",
    "        label=\"__nolegend__\",\n",
    "    )\n",
    "    if neuron.has_axon:\n",
    "        plotter.plot_neuron_projection(\n",
    "            ax,\n",
    "            neuron,\n",
    "            projection=projection,\n",
    "            select=\"axon\",\n",
    "            color=col_axon,\n",
    "            linewidth=linewidth - 0.2,\n",
    "            rasterized=raster,\n",
    "            alpha=alpha,\n",
    "            soma_s=0,\n",
    "            zorder=-100,\n",
    "            label=\"__nolegend__\",\n",
    "        )"
   ]
  },
  {
   "cell_type": "code",
   "execution_count": null,
   "id": "bfc40ef9-5659-4b9c-b344-7f7786950bc6",
   "metadata": {},
   "outputs": [],
   "source": [
    "clust_cols = dict(c4=0, c6=1, c5=2)\n",
    "f, ax = plt.subplots(1, 1, figsize=(2, 1.5), gridspec_kw=dict(top=1, left=0.1, right=1))\n",
    "ax.axis(\"off\")\n",
    "ax.axis(\"equal\")\n",
    "p = \"horizontal\"\n",
    "plotter.plot_on_axis(ax, projection=p, labels=False, title=False)\n",
    "\n",
    "# plotter.plot_neurons(ax, neurons[\"p041\"], lw=0.4)\n",
    "plot_bicol_n(ax, neurons[\"p041\"], plotter, p, cols[0], shift=0.2)\n",
    "plot_bicol_n(ax, neurons[\"p048\"], plotter, p, cols[0], shift=0.2, alpha=0.2)\n",
    "plot_bicol_n(ax, neurons[\"p056\"], plotter, p, cols[1], shift=0.2, alpha=0.2)\n",
    "plot_bicol_n(ax, neurons[\"p070\"], plotter, p, cols[1], shift=0.2)\n",
    "\n",
    "pltltr.savefig(\"bidirect_connect_glom\")"
   ]
  },
  {
   "cell_type": "code",
   "execution_count": null,
   "id": "c64fffc4-690f-4459-8dc7-6cbc3fba849c",
   "metadata": {},
   "outputs": [],
   "source": []
  }
 ],
 "metadata": {
  "kernelspec": {
   "display_name": "rplab",
   "language": "python",
   "name": "rplab"
  },
  "language_info": {
   "codemirror_mode": {
    "name": "ipython",
    "version": 3
   },
   "file_extension": ".py",
   "mimetype": "text/x-python",
   "name": "python",
   "nbconvert_exporter": "python",
   "pygments_lexer": "ipython3"
  }
 },
 "nbformat": 4,
 "nbformat_minor": 5
}

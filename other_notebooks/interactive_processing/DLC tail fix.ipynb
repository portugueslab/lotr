{
 "cells": [
  {
   "cell_type": "code",
   "execution_count": null,
   "metadata": {},
   "outputs": [],
   "source": [
    "%matplotlib widget\n",
    "from pathlib import Path\n",
    "\n",
    "import flammkuchen as fl\n",
    "import numpy as np\n",
    "import tables\n",
    "from fimpylab.utils.suite2p_conv import export_suite2p\n",
    "from lotr import LotrExperiment\n",
    "from lotr.data_preprocessing.dlc_tracking import *\n",
    "from lotr.data_preprocessing.dlc_tracking import _get_angles\n",
    "from matplotlib import pyplot as plt\n",
    "from scipy.ndimage import morphology\n",
    "from tqdm import tqdm"
   ]
  },
  {
   "cell_type": "code",
   "execution_count": null,
   "metadata": {},
   "outputs": [],
   "source": [
    "master_path = Path()  # fish folder\n",
    "paths_list = []\n",
    "for f in paths_list:\n",
    "    export_dlc_behavior(f)"
   ]
  },
  {
   "cell_type": "code",
   "execution_count": null,
   "metadata": {},
   "outputs": [],
   "source": [
    "dlc_file_dir = Path()  # folder of file to fix\n",
    "exp = LotrExperiment(dlc_file_dir)\n",
    "tail_lh_thr = 0.8\n",
    "medfilt_wnd_s = 0.8"
   ]
  },
  {
   "cell_type": "code",
   "execution_count": null,
   "metadata": {},
   "outputs": [],
   "source": [
    "# Load DLC file:\n",
    "dlc_filename = next(dlc_file_dir.glob(\"*DLC*.h5\"))\n",
    "raw_data_df = fl.load(dlc_filename, \"/df_with_missing\")\n",
    "\n",
    "# Load stytra log, we'll need this to sync time:\n",
    "stytra_beh_log = fl.load(next(dlc_file_dir.glob(\"*behavior*.hdf5\")), \"/data\")\n",
    "stytra_time_arr = stytra_beh_log[\"t\"].values\n",
    "dt = np.diff(stytra_time_arr).mean()\n",
    "fs = 1 / dt\n",
    "\n",
    "# We used only one scorer, drop that level in the multiindex columns:\n",
    "df = raw_data_df.droplevel(\"scorer\", axis=1)\n",
    "\n",
    "# Calculate eye angles.\n",
    "# Keys of the eyes as they were named in the model:\n",
    "eyes_ks_dict = dict(\n",
    "    lf_eye=[f\"l_eye_{k}\" for k in [\"0\", \"1\", \"3\", \"4\"]],\n",
    "    rt_eye=[f\"r_eye_{k}\" for k in [\"0\", \"1\", \"3\", \"4\"]],\n",
    ")\n",
    "\n",
    "data_dict = dict()\n",
    "for s in eyes_ks_dict.keys():\n",
    "    k0 = eyes_ks_dict[s][0]  # first key of the eye:\n",
    "    th = np.zeros((len(df[k0]), 3))  # array to fill with angles\n",
    "\n",
    "    # loop over remaining points of the eye, and for each find angle with first\n",
    "    # point:\n",
    "    for i, k in enumerate(eyes_ks_dict[s][1:]):\n",
    "        th[:, i] = _get_angles(df[k0], df[k])\n",
    "\n",
    "    # reduce noise by taking median of the (3) angles series\n",
    "    median_th = np.median(th, 1)\n",
    "    data_dict[s] = median_th\n",
    "\n",
    "    # median filter eye theta:\n",
    "    # Perform median filtering in a window to remove 5 Hz microscope oscillation\n",
    "    medfilt_wnd_pts = int(medfilt_wnd_s * fs)\n",
    "    medfilt_wnd_pts += 1 - medfilt_wnd_pts % 2  # ensure it's odd\n",
    "    data_dict[s + \"_medfilt\"] = medfilt(median_th, medfilt_wnd_pts)\n",
    "\n",
    "# Calculate tail angles:\n",
    "# Keys of the tail as they were named in the model:\n",
    "tail_keys = [\"swim_b\"] + [f\"tail_{i}\" for i in range(10)]\n",
    "thetas = []\n",
    "for tail_key0, tail_key1 in zip(tail_keys[:-1], tail_keys[1:]):\n",
    "    thetas.append(_get_angles(df[tail_key0], df[tail_key1], lh_thr=tail_lh_thr))\n",
    "thetas = np.array(thetas).T\n",
    "\n",
    "# Use bouter function to fill missing tail segments and computing tail sum:\n",
    "thetas_fixes = predictive_tail_fill(thetas.copy())\n",
    "data_dict[\"tail_sum\"] = polynomial_tailsum(polynomial_tail_coefficients(thetas_fixes))\n",
    "\n",
    "# Get time array syncing it with the behavior log:\n",
    "data_dict[\"t\"] = stytra_time_arr[-data_dict[\"tail_sum\"].shape[0] :]\n",
    "\n",
    "# Wrap together data and put it in dataframe with columns:\n",
    "data_df = pd.DataFrame(data_dict)\n",
    "\n",
    "# There are some arbitrary sign changes here. This is require to match stytra angles\n",
    "data_df[\"tail_sum\"] = -data_df[\"tail_sum\"]\n",
    "fl.save(dlc_file_dir / \"behavior_from_dlc.h5\", dict(data=data_df))"
   ]
  },
  {
   "cell_type": "code",
   "execution_count": null,
   "metadata": {},
   "outputs": [],
   "source": [
    "plt.figure()\n",
    "plt.plot(stytra_beh_log[\"tail_sum\"])\n",
    "# plt.plot(data_dict[\"tail_sum\"])"
   ]
  },
  {
   "cell_type": "code",
   "execution_count": null,
   "metadata": {},
   "outputs": [],
   "source": [
    "exp"
   ]
  },
  {
   "cell_type": "code",
   "execution_count": null,
   "metadata": {},
   "outputs": [],
   "source": []
  }
 ],
 "metadata": {
  "kernelspec": {
   "display_name": "rplab",
   "language": "python",
   "name": "rplab"
  },
  "language_info": {
   "codemirror_mode": {
    "name": "ipython",
    "version": 3
   },
   "file_extension": ".py",
   "mimetype": "text/x-python",
   "name": "python",
   "nbconvert_exporter": "python",
   "pygments_lexer": "ipython3"
  }
 },
 "nbformat": 4,
 "nbformat_minor": 4
}

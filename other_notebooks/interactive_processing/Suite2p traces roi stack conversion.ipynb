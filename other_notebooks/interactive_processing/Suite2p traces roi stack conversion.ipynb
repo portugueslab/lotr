{
 "cells": [
  {
   "cell_type": "code",
   "execution_count": null,
   "metadata": {},
   "outputs": [],
   "source": [
    "from pathlib import Path\n",
    "\n",
    "from lotr.data_preprocessing.suite2p_conv import export_suite2p\n",
    "\n",
    "from tqdm import tqdm"
   ]
  },
  {
   "cell_type": "code",
   "execution_count": null,
   "metadata": {},
   "outputs": [],
   "source": [
    "master_path = Path(r\"/Volumes/Shared/experiments/E0040_motions_cardinal/v26\")\n",
    "paths_list = list(master_path.glob(\"*/suite2p/combined\"))\n",
    "unexported = [\n",
    "    f\n",
    "    for f in paths_list\n",
    "    if not (f.parent.parent / \"data_from_suite2p_unfiltered.h5\").exists()\n",
    "]\n",
    "print(len(unexported))\n",
    "for f in unexported:\n",
    "    print(f)"
   ]
  },
  {
   "cell_type": "code",
   "execution_count": null,
   "metadata": {},
   "outputs": [],
   "source": [
    "# unexported = paths_list  # reexport all\n",
    "\n",
    "for path in tqdm(unexported):\n",
    "    export_suite2p(\n",
    "        path, path.parent.parent / \"data_from_suite2p_unfiltered.h5\", include_all_rois=True\n",
    "    )"
   ]
  },
  {
   "cell_type": "code",
   "execution_count": null,
   "metadata": {},
   "outputs": [],
   "source": []
  }
 ],
 "metadata": {
  "kernelspec": {
   "display_name": "rplab",
   "language": "python",
   "name": "rplab"
  },
  "language_info": {
   "codemirror_mode": {
    "name": "ipython",
    "version": 3
   },
   "file_extension": ".py",
   "mimetype": "text/x-python",
   "name": "python",
   "nbconvert_exporter": "python",
   "pygments_lexer": "ipython3"
  }
 },
 "nbformat": 4,
 "nbformat_minor": 4
}

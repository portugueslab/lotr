{
 "cells": [
  {
   "cell_type": "markdown",
   "id": "c3d0b458-6d68-4412-ae1f-e4739cfe15b9",
   "metadata": {},
   "source": [
    "# EM dataset"
   ]
  },
  {
   "cell_type": "code",
   "execution_count": null,
   "id": "2712e332-00c3-4ba5-874a-606271579183",
   "metadata": {},
   "outputs": [],
   "source": [
    "%matplotlib widget"
   ]
  },
  {
   "cell_type": "code",
   "execution_count": null,
   "id": "dd01f9a5-f1d1-4191-9578-d324cbd2eef8",
   "metadata": {},
   "outputs": [],
   "source": [
    "from pathlib import Path\n",
    "\n",
    "import numpy as np\n",
    "from lotr import DATASET_LOCATION\n",
    "from lotr import plotting as pltltr\n",
    "from lotr.analysis.pool_cell_info import get_pooled_cell_info\n",
    "from lotr.em.core import MIDLINES\n",
    "from lotr.em.loading import load_skeletons_from_zip\n",
    "from matplotlib import pyplot as plt\n",
    "\n",
    "COLS = pltltr.COLS"
   ]
  },
  {
   "cell_type": "markdown",
   "id": "f7b3711f-0c34-4d1a-a772-2d3564384990",
   "metadata": {},
   "source": [
    "## Data loading"
   ]
  },
  {
   "cell_type": "code",
   "execution_count": null,
   "id": "a7b754fd-0bfe-4f92-bc97-7a87249c2de1",
   "metadata": {},
   "outputs": [],
   "source": [
    "# Reference:\n",
    "# Load the gad1b stack and the annotation from the IPN atlas:\n",
    "\n",
    "from bg_atlasapi.core import Atlas\n",
    "\n",
    "atlas = Atlas(DATASET_LOCATION / \"anatomy\" / \"ipn_zfish_0.5um_v1.8\")\n",
    "\n",
    "gad1b_stack = atlas.additional_references[\"gal4_gad1b\"]\n",
    "\n",
    "\n",
    "# Enlarge a bit the mask for the IPN (in the future we'll draw better masks):\n",
    "mask = np.zeros((3, 3, 3)).astype(bool)\n",
    "mask[:, 1, :] = True\n",
    "annotation = (\n",
    "    atlas.get_structure_mask(\"ipn\") > 0\n",
    ")  # binary_dilation(, iterations=7, structure=mask )\n",
    "annotation_dipn = (\n",
    "    atlas.get_structure_mask(\"dipn\") > 0\n",
    ")  # binary_dilation(, iterations=7, structure=mask)"
   ]
  },
  {
   "cell_type": "code",
   "execution_count": null,
   "id": "4b0de61e-2f6b-477a-926f-85ccfa1d2fcc",
   "metadata": {},
   "outputs": [],
   "source": [
    "# Load the EM and mirror neurons on one side:\n",
    "em_path = DATASET_LOCATION / \"anatomy\" / \"em_reconstructions\" / \"aHB_dIPN.k.zip\"\n",
    "\n",
    "sel_neurons = load_skeletons_from_zip(em_path)\n",
    "\n",
    "for n in sel_neurons:\n",
    "    n.mirror_right = True\n",
    "\n",
    "sel_neurons_not_mirr = load_skeletons_from_zip(em_path)\n"
   ]
  },
  {
   "cell_type": "code",
   "execution_count": null,
   "id": "5d491764-6f66-4947-b301-27f7bff86fab",
   "metadata": {},
   "outputs": [],
   "source": [
    "#  Specify axes limits over all dimensions:\n",
    "bs = dict(frontal=(30, 180), vertical=(-4, 170), sagittal=(-50, 120))\n",
    "\n",
    "plotter = pltltr.AtlasPlotter(\n",
    "    atlas=atlas,\n",
    "    structures=[\"ipn\", \"dipn\"],\n",
    "    mask_slices=dict(frontal=slice(0, 120)),\n",
    "    bounds_dict=dict(\n",
    "        frontal=[bs[\"vertical\"], bs[\"frontal\"]],\n",
    "        horizontal=[bs[\"sagittal\"], bs[\"frontal\"]],\n",
    "        sagittal=[bs[\"vertical\"], bs[\"sagittal\"]],\n",
    "    ),\n",
    ")"
   ]
  },
  {
   "cell_type": "markdown",
   "id": "784fb78f-f214-445d-9a69-fc29800f56c6",
   "metadata": {},
   "source": [
    "## All projections with anatomy"
   ]
  },
  {
   "cell_type": "code",
   "execution_count": null,
   "id": "40e6b323-694f-4786-9234-5d4dc76ca426",
   "metadata": {},
   "outputs": [],
   "source": [
    "from scipy.ndimage import gaussian_filter"
   ]
  },
  {
   "cell_type": "code",
   "execution_count": null,
   "id": "78fea8cf-8ee1-4524-a76e-7e5370c6ea4f",
   "metadata": {},
   "outputs": [],
   "source": [
    "cells_df = get_pooled_cell_info()"
   ]
  },
  {
   "cell_type": "code",
   "execution_count": null,
   "id": "e1ee4edf-9fbb-4f00-9287-4ccdd8bcd882",
   "metadata": {},
   "outputs": [],
   "source": [
    "coords_not_mirr = cells_df.loc[\n",
    "    cells_df[\"hdn\"], [f\"centered{i}\" for i in range(3)]\n",
    "].values\n",
    "coords_not_mirr[:, 1] += np.random.rand(coords_not_mirr.shape[0]) * 10\n",
    "\n",
    "coords = coords_not_mirr.copy()\n",
    "# Mirror on both sides\n",
    "\n",
    "density_stack = np.zeros(gad1b_stack.shape)\n",
    "\n",
    "left = coords[:, 2] < MIDLINES[\"ipn\"]\n",
    "coords[left, 2] = MIDLINES[\"ipn\"] + (MIDLINES[\"ipn\"] - coords[left, 2])\n",
    "idx_coords = (coords * 2).astype(int)\n",
    "density_stack[idx_coords[:, 0], idx_coords[:, 1], idx_coords[:, 2]] = 1\n",
    "\n",
    "coords[:, 2] = MIDLINES[\"ipn\"] - (coords[:, 2] - MIDLINES[\"ipn\"])\n",
    "idx_coords = (coords * 2).astype(int)\n",
    "density_stack[idx_coords[:, 0], idx_coords[:, 1], idx_coords[:, 2]] = 1"
   ]
  },
  {
   "cell_type": "code",
   "execution_count": null,
   "id": "ff64a1f8-064b-46ab-8f34-b571e167f3ee",
   "metadata": {},
   "outputs": [],
   "source": [
    "filt_dens = gaussian_filter(density_stack, 10)"
   ]
  },
  {
   "cell_type": "code",
   "execution_count": null,
   "id": "abeaddac-473e-45f8-ab9d-91ceddf1caf6",
   "metadata": {},
   "outputs": [],
   "source": [
    "thr = 0.001\n",
    "filt_dens_bin = filt_dens > thr  # [filt_dens < 0.0004] = 0\n",
    "filt_dens_bin_l = filt_dens_bin.copy()\n",
    "filt_dens_bin_l[:, :, : MIDLINES[\"ipn\"] * 2] = 0\n",
    "filt_dens_bin_r = filt_dens_bin.copy()\n",
    "filt_dens_bin_r[:, :, MIDLINES[\"ipn\"] * 2 :] = 0"
   ]
  },
  {
   "cell_type": "code",
   "execution_count": null,
   "id": "69ca054e-f9b7-40a7-abe4-7820a628cef8",
   "metadata": {},
   "outputs": [],
   "source": [
    "filt_dens_bin_l.shape"
   ]
  },
  {
   "cell_type": "code",
   "execution_count": null,
   "id": "617474db-e09d-44fa-bcd2-a25a3e395fb9",
   "metadata": {},
   "outputs": [],
   "source": [
    "plt.figure()\n",
    "plt.imshow(np.max(filt_dens_bin_l, 1))"
   ]
  },
  {
   "cell_type": "code",
   "execution_count": null,
   "id": "5a080d25-389a-4101-aba4-cf796dce146f",
   "metadata": {},
   "outputs": [],
   "source": [
    "%gui qt5"
   ]
  },
  {
   "cell_type": "code",
   "execution_count": null,
   "id": "6f9f68a8-56a4-405c-be03-a88015c328e3",
   "metadata": {},
   "outputs": [],
   "source": [
    "import napari\n",
    "from bg_atlasapi import BrainGlobeAtlas"
   ]
  },
  {
   "cell_type": "code",
   "execution_count": null,
   "id": "149ff52f-7d27-4800-a0f6-06306cc58400",
   "metadata": {},
   "outputs": [],
   "source": [
    "atlas = BrainGlobeAtlas(\"ipn_zfish_0.5um\")"
   ]
  },
  {
   "cell_type": "code",
   "execution_count": null,
   "id": "170b2a46-b69f-4e87-be52-5102c7aa7d3d",
   "metadata": {},
   "outputs": [],
   "source": [
    "v = napari.view_labels(filt_dens_bin_l, name=\"filt_dens_bin_l\")\n",
    "v.add_labels(filt_dens_bin_r, name=\"filt_dens_bin_r\")\n",
    "v.add_labels((atlas.annotation > 0).astype(int), name=\"ipn\")"
   ]
  },
  {
   "cell_type": "code",
   "execution_count": null,
   "id": "6ac0cf11-eb3d-49d5-b24e-7cc9629a4ae7",
   "metadata": {},
   "outputs": [],
   "source": [
    "import flammkuchen as fl\n",
    "\n",
    "temp_backup_f = Path() / \"ahb_ring.h5\"\n",
    "dict_to_save = {\"ahb_ring_l\": filt_dens_bin_l, \"ahb_ring_r\": filt_dens_bin_r}\n",
    "fl.save(temp_backup_f, dict_to_save)"
   ]
  },
  {
   "cell_type": "code",
   "execution_count": null,
   "id": "f40f41df-e97f-461e-b009-b640cc466ada",
   "metadata": {},
   "outputs": [],
   "source": []
  }
 ],
 "metadata": {
  "kernelspec": {
   "display_name": "rplab",
   "language": "python",
   "name": "rplab"
  },
  "language_info": {
   "codemirror_mode": {
    "name": "ipython",
    "version": 3
   },
   "file_extension": ".py",
   "mimetype": "text/x-python",
   "name": "python",
   "nbconvert_exporter": "python",
   "pygments_lexer": "ipython3"
  }
 },
 "nbformat": 4,
 "nbformat_minor": 5
}

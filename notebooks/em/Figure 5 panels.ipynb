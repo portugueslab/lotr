{
 "cells": [
  {
   "cell_type": "markdown",
   "id": "c3d0b458-6d68-4412-ae1f-e4739cfe15b9",
   "metadata": {},
   "source": [
    "# EM dataset"
   ]
  },
  {
   "cell_type": "code",
   "execution_count": null,
   "id": "2712e332-00c3-4ba5-874a-606271579183",
   "metadata": {},
   "outputs": [],
   "source": [
    "%matplotlib widget"
   ]
  },
  {
   "cell_type": "code",
   "execution_count": null,
   "id": "dd01f9a5-f1d1-4191-9578-d324cbd2eef8",
   "metadata": {},
   "outputs": [],
   "source": [
    "from pathlib import Path\n",
    "import numpy as np\n",
    "\n",
    "from lotr import DATASET_LOCATION\n",
    "from lotr import plotting as pltltr\n",
    "from lotr.analysis.pool_cell_info import get_pooled_cell_info\n",
    "from lotr.em.core import MIDLINES\n",
    "from lotr.em.loading import load_skeletons_from_zip\n",
    "from lotr.utils import linear_regression\n",
    "from matplotlib import cm\n",
    "from matplotlib import pyplot as plt\n",
    "from scipy.ndimage.morphology import binary_dilation\n",
    "from tqdm import tqdm\n",
    "\n",
    "from lotr.result_logging import ResultsLogger\n",
    "logger = ResultsLogger()\n",
    "\n",
    "COLS = pltltr.COLS"
   ]
  },
  {
   "cell_type": "markdown",
   "id": "f7b3711f-0c34-4d1a-a772-2d3564384990",
   "metadata": {},
   "source": [
    "## Data loading"
   ]
  },
  {
   "cell_type": "code",
   "execution_count": null,
   "id": "a7b754fd-0bfe-4f92-bc97-7a87249c2de1",
   "metadata": {},
   "outputs": [],
   "source": [
    "# Reference:\n",
    "# Load the gad1b stack and the annotation from the IPN atlas:\n",
    "\n",
    "from bg_atlasapi.core import Atlas\n",
    "\n",
    "atlas = Atlas(DATASET_LOCATION.parent / \"anatomy\" / \"ipn_zfish_0.5um_v1.6\")\n",
    "\n",
    "gad1b_stack = atlas.additional_references[\"gad1b_gal4\"]\n",
    "\n",
    "\n",
    "# Enlarge a bit the mask for the IPN (in the future we'll draw better masks):\n",
    "mask = np.zeros((3, 3, 3)).astype(bool)\n",
    "mask[:, 1, :] = True\n",
    "annotation = binary_dilation(\n",
    "    atlas.get_structure_mask(\"ipn\") > 0, iterations=7, structure=mask\n",
    ")\n",
    "annotation_dipn = binary_dilation(\n",
    "    atlas.get_structure_mask(\"dors_ipn\") > 0, iterations=7, structure=mask\n",
    ")"
   ]
  },
  {
   "cell_type": "code",
   "execution_count": null,
   "id": "4b0de61e-2f6b-477a-926f-85ccfa1d2fcc",
   "metadata": {},
   "outputs": [],
   "source": [
    "# Load the EM and mirror neurons on one side:\n",
    "em_path = DATASET_LOCATION.parent / \"anatomy\" / \"all_ahb.k.zip\"\n",
    "\n",
    "neurons_list = load_skeletons_from_zip(em_path)\n",
    "\n",
    "for n in neurons_list:\n",
    "    n.mirror_right = True\n",
    "\n",
    "# Select neurons with projections internal to the dIPN:\n",
    "\n",
    "sel_neurons = [\n",
    "    n\n",
    "    for n in neurons_list\n",
    "    if (\"bilat\" in n.comments or \"bilatdend\" in n.comments)\n",
    "    and not \"proj\" in n.comments\n",
    "    and \"dipn\" in n.comments.split(\"_\")\n",
    "]"
   ]
  },
  {
   "cell_type": "code",
   "execution_count": null,
   "id": "cccf8921-730b-4e40-b866-0cc2dabf81f6",
   "metadata": {},
   "outputs": [],
   "source": []
  },
  {
   "cell_type": "markdown",
   "id": "0120dd15-1a0f-4ba5-b1ea-4e7264c4a9a9",
   "metadata": {},
   "source": [
    "## Projections with line anatomy"
   ]
  },
  {
   "cell_type": "code",
   "execution_count": null,
   "id": "893ec524-b9e4-4061-9b9b-3b59b11f0129",
   "metadata": {},
   "outputs": [],
   "source": [
    "from lotr import plotting as pltltr\n",
    "\n",
    "COLS = pltltr.COLS"
   ]
  },
  {
   "cell_type": "code",
   "execution_count": null,
   "id": "7ee82984-2cf7-4783-8971-41ad763ead1c",
   "metadata": {},
   "outputs": [],
   "source": [
    "#  Specify axes limits over all dimensions:\n",
    "bs = dict(frontal=(30, 180), vertical=(-4, 170), sagittal=(-50, 120))\n",
    "\n",
    "plotter = pltltr.AtlasPlotter(\n",
    "    atlas=atlas,\n",
    "    structures=[\"ipn\", \"dors_ipn\"],\n",
    "    mask_slices=dict(frontal=slice(0, 120)),\n",
    "    bounds_dict=dict(\n",
    "        frontal=[bs[\"vertical\"], bs[\"frontal\"]],\n",
    "        horizontal=[bs[\"sagittal\"], bs[\"frontal\"]],\n",
    "        sagittal=[bs[\"vertical\"], bs[\"sagittal\"]],\n",
    "    ),\n",
    ")"
   ]
  },
  {
   "cell_type": "markdown",
   "id": "8c13adb4-a962-4995-8417-ff2a7086ea7a",
   "metadata": {},
   "source": [
    "## Calculate centroids"
   ]
  },
  {
   "cell_type": "code",
   "execution_count": null,
   "id": "27e50157-1cdf-48ff-8459-58a5f6ca525e",
   "metadata": {},
   "outputs": [],
   "source": [
    "centroids = []\n",
    "for n in sel_neurons:\n",
    "    centroids.append(\n",
    "        [n.find_centroid_bifurcation(select=s) for s in [\"dendrites\", \"axon\"]]\n",
    "    )\n",
    "\n",
    "centroids = np.array(centroids)\n",
    "norm_cm = centroids[:, 1, 2] - centroids[:, 1, 2].min()\n",
    "norm_cm = norm_cm + 5\n",
    "norm_cm = norm_cm / (norm_cm.max() + 0.01)"
   ]
  },
  {
   "cell_type": "code",
   "execution_count": null,
   "id": "07ab7d7f-4fb7-44a2-9c5d-b2a8322c9ece",
   "metadata": {},
   "outputs": [],
   "source": [
    "bs = dict(frontal=(30, 180), vertical=(-20, 170), sagittal=(-50, 120))\n",
    "plotter = pltltr.AtlasPlotter(\n",
    "    atlas=atlas,\n",
    "    structures=[\"ipn\", \"dors_ipn\"],\n",
    "    mask_slices=dict(frontal=slice(0, 120)),\n",
    "    bounds_dict=dict(\n",
    "        frontal=[bs[\"vertical\"], bs[\"frontal\"]],\n",
    "        horizontal=[bs[\"sagittal\"], bs[\"frontal\"]],\n",
    "        sagittal=[bs[\"vertical\"], bs[\"sagittal\"]],\n",
    "    ),\n",
    ")"
   ]
  },
  {
   "cell_type": "code",
   "execution_count": null,
   "id": "9ee0b039-b6d3-4c84-8015-07c9590b7d87",
   "metadata": {},
   "outputs": [],
   "source": [
    "len(sel_neurons)"
   ]
  },
  {
   "cell_type": "code",
   "execution_count": null,
   "id": "91574bb0-6532-4f1a-8710-dbaadb94699e",
   "metadata": {},
   "outputs": [],
   "source": [
    "f, axs = plotter.generate_projection_plots()\n",
    "\n",
    "lw = 0.5\n",
    "for i, (neuron, c) in enumerate(zip(sel_neurons, norm_cm)):\n",
    "    if \"bilat\" in neuron.comments and \"dipn\" in neuron.comments.split(\"_\"):\n",
    "        main_c = cm.get_cmap(\"Reds\")(c)\n",
    "        plotter.plot_neurons(axs, neuron, c=main_c, lw=lw, rasterized=True)\n",
    "\n",
    "fake_im = axs[0].scatter([], [], c=[], cmap=\"Reds\")\n",
    "pltltr.add_cbar(\n",
    "    fake_im,\n",
    "    axs[1],\n",
    "    inset_loc=(0.425, 0.8, 0.3, 0.04),\n",
    "    ticks=[0.1, 0.9],\n",
    "    ticklabels=[\"lat\", \"med\"],\n",
    "    orientation=\"horizontal\",\n",
    "    title=\"Dendrite position\",\n",
    "    titlesize=8,\n",
    ")\n",
    "\n",
    "for i, (proj, pos) in enumerate(\n",
    "    zip(plotter.space.sections, [(35, 165), (35, 110), (5, 165)])\n",
    "):\n",
    "    pltltr.add_anatomy_scalebar(\n",
    "        axs[i], plane=proj, pos=pos, cartesian=True, equalize_axis=False, length=30,\n",
    "    )\n",
    "pltltr.savefig(\"dipn_neurons_colcoded\")"
   ]
  },
  {
   "cell_type": "code",
   "execution_count": null,
   "id": "aa8653a3-eca2-4f14-ace3-1fdfc1e078e7",
   "metadata": {},
   "outputs": [],
   "source": []
  },
  {
   "cell_type": "code",
   "execution_count": null,
   "id": "1ce7317f-79f1-4655-ba17-bed663594959",
   "metadata": {},
   "outputs": [],
   "source": [
    "distances_from_midline = np.abs(centroids[:, :, 2] - MIDLINES[\"ipn\"])\n",
    "\n",
    "s = 8\n",
    "f, axs = plt.subplots(\n",
    "    1, 2, figsize=(4, 1.5), gridspec_kw=dict(bottom=0.3, left=0.3, wspace=0.5)\n",
    ")\n",
    "xline_lims = np.mean(distances_from_midline[:, 0]) + np.array(\n",
    "    [np.std(distances_from_midline[:, 0]) * 1.2 * s for s in [-1, 1]]\n",
    ")\n",
    "\n",
    "soma_pos = np.zeros(len(sel_neurons))\n",
    "for i, neuron in enumerate(sel_neurons):\n",
    "    soma_pos[i] = neuron.coords_ipn[neuron.soma_idx, 0]\n",
    "\n",
    "for i, (x, y) in enumerate(\n",
    "    [\n",
    "        (distances_from_midline[:, 0], distances_from_midline[:, 1]),\n",
    "        (distances_from_midline[:, 0], soma_pos),\n",
    "    ]\n",
    "):\n",
    "    axs[i].scatter(x, y, s=s, c=norm_cm, cmap=\"Reds\", vmin=0, vmax=1)\n",
    "    a, b = linear_regression(x, y)\n",
    "    axs[i].plot(xline_lims, a + xline_lims * b, lw=1, c=\".4\", zorder=-10)\n",
    "    ylims = axs[i].get_ylim()\n",
    "    cc = np.corrcoef(x, y)[0, 1]\n",
    "    axs[i].text(\n",
    "        np.mean(xline_lims),\n",
    "        ylims[1] - (ylims[1] - ylims[0]) * 0.1,\n",
    "        f\"R = {cc:0.2f}\",\n",
    "        ha=\"center\",\n",
    "    )\n",
    "\n",
    "axs[0].set(xlabel=\"Lat-med pos. dendrite\", ylabel=\"Lat-med pos. axon\")\n",
    "axs[1].set(xlabel=\"Lat-med pos. dendrite\", ylabel=\"Ant-post pos. soma\")\n",
    "\n",
    "for ax in axs:\n",
    "    pltltr.despine(ax)\n",
    "pltltr.savefig(\"dipn_neurons_scatterplots\")"
   ]
  },
  {
   "cell_type": "code",
   "execution_count": null,
   "id": "e0cb5a9b-ef15-44fa-8583-11b378192532",
   "metadata": {},
   "outputs": [],
   "source": [
    "logger"
   ]
  },
  {
   "cell_type": "code",
   "execution_count": null,
   "id": "28c179d6-7cf2-46ed-8c25-ce3786a707aa",
   "metadata": {},
   "outputs": [],
   "source": [
    "#  Specify axes limits over all dimensions:\n",
    "bs = dict(frontal=(50, 160), vertical=(-4, 170), sagittal=(-50, 120))\n",
    "\n",
    "plotter = pltltr.AtlasPlotter(\n",
    "    atlas=atlas,\n",
    "    structures=[\"ipn\", \"dors_ipn\"],\n",
    "    mask_slices=dict(frontal=slice(0, 120)),\n",
    "    bounds_dict=dict(\n",
    "        frontal=[bs[\"vertical\"], bs[\"frontal\"]],\n",
    "        horizontal=[bs[\"sagittal\"], bs[\"frontal\"]],\n",
    "        sagittal=[bs[\"vertical\"], bs[\"sagittal\"]],\n",
    "    ),\n",
    ")"
   ]
  },
  {
   "cell_type": "markdown",
   "id": "91c67afc-16f7-4c10-b5e7-3a66ec7db512",
   "metadata": {},
   "source": [
    "# Plot pairs"
   ]
  },
  {
   "cell_type": "code",
   "execution_count": null,
   "id": "65799170-f2ea-4c78-b732-8e8cfef72591",
   "metadata": {},
   "outputs": [],
   "source": [
    "neurons_list_notmirr = load_skeletons_from_zip(em_path)\n",
    "\n",
    "# Select neurons with projections internal to the dIPN:\n",
    "\n",
    "sel_neurons_notmirr = [\n",
    "    n\n",
    "    for n in neurons_list_notmirr\n",
    "    if \"bilat\" in n.comments.split(\"_\") and \"dipn\" in n.comments.split(\"_\")\n",
    "]"
   ]
  },
  {
   "cell_type": "code",
   "execution_count": null,
   "id": "cd484098-2463-4bff-a013-2620b7dc1e8f",
   "metadata": {},
   "outputs": [],
   "source": [
    "sel_neurons_notmirr_dict.keys()"
   ]
  },
  {
   "cell_type": "code",
   "execution_count": null,
   "id": "ef550466-23c9-4ba3-89e4-194d933b4dc5",
   "metadata": {},
   "outputs": [],
   "source": [
    "sel_neurons_notmirr_dict = {n.id: n for n in sel_neurons_notmirr}\n",
    "cols = COLS[\"qualitative\"]\n",
    "\n",
    "off_x = 0\n",
    "off_y = 0\n",
    "s = 1.0\n",
    "f, ax = plt.subplots(figsize=(4, 4))\n",
    "\"\"\"\n",
    "ax.imshow(\n",
    "    gad1b_stack[20:170, :, :].max(0),\n",
    "    origin=\"lower\",\n",
    "    cmap=\"gray_r\",\n",
    "    vmin=450,\n",
    "    vmax=15000,\n",
    "    extent=(0, (gad1b_stack.shape[2] / 2) * s, 0, (gad1b_stack.shape[1] / 2) * s),\n",
    ")\n",
    "\"\"\"\n",
    "pltltr.plot_projection(\n",
    "    annotation[:120, :, :],\n",
    "    0,\n",
    "    ax=ax,\n",
    "    smooth_wnd=15,\n",
    "    linewidth=0.5,\n",
    "    fill=False,\n",
    "    edgecolor=\".3\",\n",
    ")\n",
    "pltltr.plot_projection(\n",
    "    annotation_dipn[:130, :, :],\n",
    "    0,\n",
    "    ax=ax,\n",
    "    smooth_wnd=15,\n",
    "    linewidth=0.5,\n",
    "    fill=False,\n",
    "    edgecolor=\".3\",\n",
    ")\n",
    "\n",
    "for i, neuron_id in enumerate([\"c017\", \"p084\", \"c011\", \"p077\"]):\n",
    "    neuron = sel_neurons_notmirr_dict[neuron_id]\n",
    "    if \"bilat\" in neuron.comments.split(\"_\") and \"dipn\" in neuron.comments.split(\"_\"):\n",
    "        main_c = COLS[\"phase\"](1 / 4 + i / 4)\n",
    "        lines = neuron.generate_plotlines_from_skeleton(space=\"ipn\", select=\"dendrites\")\n",
    "        (l,) = ax.plot(\n",
    "            lines[:, 2], lines[:, 1], lw=0.5, c=pltltr.shift_lum(main_c, 0.0)\n",
    "        )\n",
    "\n",
    "        lines = neuron.generate_plotlines_from_skeleton(space=\"ipn\", select=\"axon\")\n",
    "        (l,) = ax.plot(\n",
    "            lines[:, 2], lines[:, 1], lw=0.5, c=pltltr.shift_lum(main_c, 0.0)\n",
    "        )\n",
    "\n",
    "        soma = neuron.coords_ipn[neuron.soma_idx, :]\n",
    "        ax.scatter(soma[2], soma[1], s=30, color=pltltr.shift_lum(main_c, 0.0))\n",
    "        ax.axis(\"equal\")\n",
    "        ax.set(ylim=(170, -4), xlim=(50, 160))\n",
    "\n",
    "pltltr.despine(ax, \"all\")\n",
    "pltltr.add_scalebar(\n",
    "    ax, ylen=-20, xlen=20, ypos=140, xpos=40, xlabel=\"R. - L.\", ylabel=\"inf. sup.\"\n",
    ")\n",
    "pltltr.savefig(\"dipn_pairs\")"
   ]
  },
  {
   "cell_type": "code",
   "execution_count": null,
   "id": "641f10ed-c0b1-44f2-895e-90bb591bb423",
   "metadata": {},
   "outputs": [],
   "source": []
  },
  {
   "cell_type": "code",
   "execution_count": null,
   "id": "4bb88d00-7e7e-4285-b608-73730be74fd2",
   "metadata": {},
   "outputs": [],
   "source": []
  },
  {
   "cell_type": "markdown",
   "id": "3a0f4ea0-b5ea-4b44-bfa3-ea9b9c2a035b",
   "metadata": {},
   "source": [
    "## Coords in MPI space"
   ]
  },
  {
   "cell_type": "code",
   "execution_count": null,
   "id": "0902b477-9ffa-4b8c-ae64-93d6f89cb035",
   "metadata": {},
   "outputs": [],
   "source": [
    "pltltr.savefig(\"pairs\")\n",
    "from bg_atlasapi import BrainGlobeAtlas\n",
    "from tifffile import imread"
   ]
  },
  {
   "cell_type": "code",
   "execution_count": null,
   "id": "b00b312d-357b-4171-8faf-b5aec73c90d8",
   "metadata": {},
   "outputs": [],
   "source": [
    "mpin_atlas = BrainGlobeAtlas(\"mpin_zfish_1um\")\n",
    "mpin_atlas.annotation\n",
    "# Annoying fixes required to deal with the Baier annotation mess. Will be cleaned in next version of the atlas.\n",
    "mpin_atlas._annotation[[0, -1], :, :] = 0\n",
    "mpin_atlas._annotation[:, [0, -1], :] = 0\n",
    "mpin_atlas._annotation[:, :, [0, -1]] = 0\n",
    "mpin_atlas._annotation[atlas._annotation == 0] = 15000\n",
    "mpin_atlas.structures[\"root\"][\"id\"] = 1"
   ]
  },
  {
   "cell_type": "code",
   "execution_count": null,
   "id": "a3dcac20-c7fe-4334-9bad-d19357cefdf4",
   "metadata": {},
   "outputs": [],
   "source": [
    "import flammkuchen as fl\n",
    "from lotr.data_preprocessing.anatomy import transform_points\n",
    "\n",
    "matrices = fl.load(\n",
    "    \"/Volumes/Shared/experiments/E0044_spontaneous/gad1b/2p_anatomy/dendra/morphed anatomy files/xform_mat.h5\"\n",
    ")\n",
    "mat = matrices[\"to_mpin\"] @ np.linalg.inv(matrices[\"to_ipn\"])"
   ]
  },
  {
   "cell_type": "code",
   "execution_count": null,
   "id": "a9606f72-fd13-4cc5-ab60-c69f3a9ccde9",
   "metadata": {},
   "outputs": [],
   "source": [
    "coords = np.concatenate([neuron.coords_ipn[:, :] for neuron in sel_neurons_notmirr])\n",
    "# trasf_coords = transform_points(coords, mat)"
   ]
  },
  {
   "cell_type": "code",
   "execution_count": null,
   "id": "6048658b-35bd-4e5c-ae1f-c93f1722b47c",
   "metadata": {},
   "outputs": [],
   "source": [
    "#  Specify axes limits over all dimensions:\n",
    "bs = dict(\n",
    "    frontal=(0, mpin_atlas.shape[2] + 10),\n",
    "    vertical=(0, mpin_atlas.shape[1] + 10),\n",
    "    sagittal=(0, mpin_atlas.shape[0] + 10),\n",
    ")\n",
    "\n",
    "plotter = pltltr.AtlasPlotter(\n",
    "    atlas=mpin_atlas,\n",
    "    structures=[\"dorsal habenula\", \"root\", \"retina\", \"interpeduncular nucleus\"],\n",
    "    bounds_dict=dict(\n",
    "        frontal=[bs[\"vertical\"], bs[\"frontal\"]],\n",
    "        horizontal=[bs[\"sagittal\"], bs[\"frontal\"]],\n",
    "        sagittal=[bs[\"vertical\"], bs[\"sagittal\"]],\n",
    "    ),\n",
    "    smooth_wnd=50,\n",
    ")"
   ]
  },
  {
   "cell_type": "code",
   "execution_count": null,
   "id": "df2e94f6-d7d6-445d-b883-b2c896c246c4",
   "metadata": {},
   "outputs": [],
   "source": [
    "plt.figure()\n",
    "plt.scatter(coords[:, 2], coords[:, 1])"
   ]
  },
  {
   "cell_type": "code",
   "execution_count": null,
   "id": "57332291-0655-42e9-a890-2ff0e3be13ee",
   "metadata": {},
   "outputs": [],
   "source": []
  }
 ],
 "metadata": {
  "kernelspec": {
   "display_name": "lotr",
   "language": "python",
   "name": "lotr"
  },
  "language_info": {
   "codemirror_mode": {
    "name": "ipython",
    "version": 3
   },
   "file_extension": ".py",
   "mimetype": "text/x-python",
   "name": "python",
   "nbconvert_exporter": "python",
   "pygments_lexer": "ipython3"
  }
 },
 "nbformat": 4,
 "nbformat_minor": 5
}

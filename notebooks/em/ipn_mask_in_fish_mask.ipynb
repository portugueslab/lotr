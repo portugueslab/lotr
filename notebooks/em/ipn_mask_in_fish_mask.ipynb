{
 "cells": [
  {
   "cell_type": "code",
   "execution_count": null,
   "id": "d1bc83cd-8a72-4cd3-9366-883196e401ca",
   "metadata": {},
   "outputs": [],
   "source": [
    "%load_ext autoreload\n",
    "%matplotlib widget"
   ]
  },
  {
   "cell_type": "code",
   "execution_count": null,
   "id": "1430d10b-76c9-496a-9424-bb9466c35fc9",
   "metadata": {},
   "outputs": [],
   "source": [
    "%autoreload\n",
    "from pathlib import Path\n",
    "\n",
    "import numpy as np\n",
    "from bg_atlasapi import BrainGlobeAtlas\n",
    "\n",
    "%autoreload\n",
    "from lotr import DATASET_LOCATION\n",
    "from lotr import plotting as pltltr\n",
    "from lotr.em.loading import load_skeletons_from_zip\n",
    "from lotr.utils import linear_regression\n",
    "from matplotlib import cm\n",
    "from matplotlib import pyplot as plt\n",
    "from scipy.ndimage.morphology import binary_dilation\n",
    "from skimage import measure\n",
    "from tifffile import imread\n",
    "from tqdm import tqdm\n",
    "\n",
    "COLS = pltltr.COLS"
   ]
  },
  {
   "cell_type": "code",
   "execution_count": null,
   "id": "419167ad-5da9-4d2a-902e-1d05fe76e552",
   "metadata": {},
   "outputs": [],
   "source": [
    "atlas = BrainGlobeAtlas(\"mpin_zfish_1um\")\n",
    "atlas.annotation\n",
    "# Annoying fixes required to deal with the Baier annotation mess. Will be cleaned in next version of the atlas.\n",
    "atlas._annotation[[0, -1], :, :] = 0\n",
    "atlas._annotation[:, [0, -1], :] = 0\n",
    "atlas._annotation[:, :, [0, -1]] = 0\n",
    "atlas._annotation[atlas._annotation == 0] = 15000\n",
    "atlas.structures[\"root\"][\"id\"] = 1"
   ]
  },
  {
   "cell_type": "code",
   "execution_count": null,
   "id": "df2eb77e-9616-4a78-a303-28a12a481ac8",
   "metadata": {},
   "outputs": [],
   "source": [
    "#  Specify axes limits over all dimensions:\n",
    "bs = dict(\n",
    "    frontal=(0, atlas.shape[2] + 10),\n",
    "    vertical=(0, atlas.shape[1] + 10),\n",
    "    sagittal=(0, atlas.shape[0] + 10),\n",
    ")\n",
    "\n",
    "plotter = pltltr.AtlasPlotter(\n",
    "    atlas=atlas,\n",
    "    structures=[\"root\", \"retina\", \"interpeduncular nucleus\"],\n",
    "    bounds_dict=dict(\n",
    "        frontal=[bs[\"vertical\"], bs[\"frontal\"]],\n",
    "        horizontal=[bs[\"sagittal\"], bs[\"frontal\"]],\n",
    "        sagittal=[bs[\"vertical\"], bs[\"sagittal\"]],\n",
    "    ),\n",
    "    smooth_wnd=50,\n",
    ")"
   ]
  },
  {
   "cell_type": "code",
   "execution_count": null,
   "id": "86b4bb54-9f99-4cde-9948-c7c12f94257c",
   "metadata": {},
   "outputs": [],
   "source": [
    "f, axs = plotter.generate_projection_plots()\n",
    "pltltr.savefig(\"fish_brain_outlines\")"
   ]
  },
  {
   "cell_type": "code",
   "execution_count": null,
   "id": "bafa844e-be97-4a21-97d0-51b381e2e919",
   "metadata": {},
   "outputs": [],
   "source": [
    "axs[0].set(xlim=(0, 1000), ylim=(0, 500))"
   ]
  },
  {
   "cell_type": "code",
   "execution_count": null,
   "id": "90fb79d1-a4a1-4134-9592-467d264b3a8a",
   "metadata": {},
   "outputs": [],
   "source": [
    "1l NaCl\n",
    "0.9 %"
   ]
  }
 ],
 "metadata": {
  "kernelspec": {
   "display_name": "rplab",
   "language": "python",
   "name": "rplab"
  },
  "language_info": {
   "codemirror_mode": {
    "name": "ipython",
    "version": 3
   },
   "file_extension": ".py",
   "mimetype": "text/x-python",
   "name": "python",
   "nbconvert_exporter": "python",
   "pygments_lexer": "ipython3"
  }
 },
 "nbformat": 4,
 "nbformat_minor": 5
}

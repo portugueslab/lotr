{
 "cells": [
  {
   "cell_type": "code",
   "execution_count": null,
   "id": "2712e332-00c3-4ba5-874a-606271579183",
   "metadata": {},
   "outputs": [],
   "source": [
    "%load_ext autoreload\n",
    "%matplotlib widget"
   ]
  },
  {
   "cell_type": "code",
   "execution_count": null,
   "id": "dd01f9a5-f1d1-4191-9578-d324cbd2eef8",
   "metadata": {},
   "outputs": [],
   "source": [
    "%autoreload\n",
    "from pathlib import Path\n",
    "\n",
    "import numpy as np\n",
    "from lotr import DATASET_LOCATION\n",
    "from lotr import plotting as pltltr\n",
    "from lotr.em.loading import load_skeletons_from_zip\n",
    "from matplotlib import cm\n",
    "from matplotlib import pyplot as plt\n",
    "from scipy.ndimage.morphology import binary_dilation\n",
    "from tqdm import tqdm"
   ]
  },
  {
   "cell_type": "code",
   "execution_count": null,
   "id": "d1c1c83e-b2c0-4017-a063-a2047d29574e",
   "metadata": {},
   "outputs": [],
   "source": [
    "em_path = DATASET_LOCATION.parent / \"anatomy\" / \"all_ahb.k.zip\"\n",
    "\n",
    "neurons_list = load_skeletons_from_zip(em_path)\n",
    "\n",
    "for n in neurons_list:\n",
    "    n.mirror_right = True"
   ]
  },
  {
   "cell_type": "code",
   "execution_count": null,
   "id": "beca8ab3-caf6-4ed6-996f-58b550076bc8",
   "metadata": {},
   "outputs": [],
   "source": [
    "f, axs = plt.subplots(1, 3, figsize=(9, 3))\n",
    "for ax, sel in zip(axs, [\"all\", \"dendrites\", \"axon\"]):\n",
    "    for neuron in neurons_list:\n",
    "        try:\n",
    "            lines = neuron.generate_plotlines_from_skeleton(space=\"ipn\", select=sel)\n",
    "            soma = neuron.coords_ipn[neuron.soma_idx, :]\n",
    "            # if soma[2] > inclusion:\n",
    "            # soma = midline - (midline - soma)\n",
    "            #     lines[:, 2] = m - (lines[:, 2] - m)\n",
    "            l = ax.plot(lines[:, 2], -lines[:, 1], lw=0.5)\n",
    "            ax.scatter(soma[2], -soma[1])\n",
    "        except ValueError:\n",
    "            pass\n",
    "    # ax.axis(\"equal\")\n",
    "    ax.set(title=sel, xlim=(-50, 150))"
   ]
  },
  {
   "cell_type": "code",
   "execution_count": null,
   "id": "0cc04e43-7950-4352-8ecb-0e1d2f1c9b97",
   "metadata": {},
   "outputs": [],
   "source": [
    "sel_neurons = [\n",
    "    n\n",
    "    for n in neurons_list\n",
    "    if \"bilat\" in n.comments.split(\"_\") and \"dipn\" in n.comments.split(\"_\")\n",
    "]"
   ]
  },
  {
   "cell_type": "code",
   "execution_count": null,
   "id": "f88dd698-dca7-4383-ba5b-ca23e2a528ed",
   "metadata": {},
   "outputs": [],
   "source": [
    "centroids = []\n",
    "for n in sel_neurons:\n",
    "    centroids.append(\n",
    "        [n.find_centroid_bifurcation(select=s) for s in [\"dendrites\", \"axon\"]]\n",
    "    )\n",
    "\n",
    "centroids = np.array(centroids)\n",
    "\n",
    "f, ax = plt.subplots(figsize=(2.0, 2.0), gridspec_kw=dict(bottom=0.2, left=0.2))\n",
    "ax.scatter(centroids[:, 0, 2], centroids[:, 1, 2], s=5)\n",
    "pltltr.despine(ax)\n",
    "ax.set(xlabel=\"L-R position dendrite\", ylabel=\"L-R position axon\")"
   ]
  },
  {
   "cell_type": "code",
   "execution_count": null,
   "id": "7e6e69f0-52a1-4808-8c0e-69c55818a027",
   "metadata": {},
   "outputs": [],
   "source": [
    "norm_cm = centroids[:, 1, 2] - centroids[:, 1, 2].min()\n",
    "norm_cm = norm_cm + 10\n",
    "norm_cm = norm_cm / (norm_cm.max() + 0.01)"
   ]
  },
  {
   "cell_type": "code",
   "execution_count": null,
   "id": "03ead6fd-8dd2-4c61-b19e-678e26d58d7d",
   "metadata": {},
   "outputs": [],
   "source": [
    "f, ax = plt.subplots(figsize=(3, 3))\n",
    "for i, (neuron, c) in enumerate(zip(sel_neurons, norm_cm)):\n",
    "    # if i == 1 or i == 6:\n",
    "    lines = neuron.generate_plotlines_from_skeleton(space=\"ipn\")\n",
    "    col = cm.get_cmap(\"Reds\")(c)\n",
    "    soma = neuron.coords_ipn[neuron.soma_idx, :]\n",
    "    fake_im = ax.scatter([], [], c=[], cmap=\"Reds\")\n",
    "    # if soma[2] > inclusion:\n",
    "    # soma = midline - (midline - soma)\n",
    "    #     lines[:, 2] = m - (lines[:, 2] - m)\n",
    "    l = plt.plot(lines[:, 2], -lines[:, 1], lw=0.5, c=col)\n",
    "    plt.scatter(soma[2], -soma[1], lw=0, fc=col)\n",
    "ax.axis(\"equal\")\n",
    "ax.set(xlabel=(\"left-right\"), ylabel=\"ventral - dorsal\")\n",
    "pltltr.despine(ax, \"all\")\n",
    "pltltr.add_cbar(\n",
    "    fake_im, ax, inset_loc=(0.9, 0.6, 0.035, 0.2), ticks=[], label=\"Dendrite pos\"\n",
    ")"
   ]
  },
  {
   "cell_type": "code",
   "execution_count": null,
   "id": "a18618e2-ace8-49e5-a298-718d2ea9fb26",
   "metadata": {},
   "outputs": [],
   "source": [
    "from bg_atlasapi.core import Atlas"
   ]
  },
  {
   "cell_type": "code",
   "execution_count": null,
   "id": "787ebc84-8070-4738-bb10-ed319ec172a6",
   "metadata": {},
   "outputs": [],
   "source": [
    "atlas = Atlas(DATASET_LOCATION.parent / \"anatomy\" / \"ipn_zfish_0.5_um_v1.6\")"
   ]
  },
  {
   "cell_type": "code",
   "execution_count": null,
   "id": "4a40c8c2-1b14-4470-a21a-ccf14625891b",
   "metadata": {},
   "outputs": [],
   "source": [
    "gad1b_stack = atlas.additional_references[\"gad1b_gal4\"]\n",
    "\n",
    "mask = np.zeros((3, 3, 3)).astype(bool)\n",
    "mask[:, 1, :] = True\n",
    "annotation = binary_dilation(\n",
    "    atlas.get_structure_mask(\"ipn\") > 0, iterations=7, structure=mask\n",
    ")\n",
    "annotation_dipn = binary_dilation(\n",
    "    atlas.get_structure_mask(\"dors_ipn\") > 0, iterations=7, structure=mask\n",
    ")"
   ]
  },
  {
   "cell_type": "code",
   "execution_count": null,
   "id": "80514443-0dfc-41ca-b32f-2b314b8da310",
   "metadata": {},
   "outputs": [],
   "source": [
    "[list(l) for l in np.round(\n",
    "    (\n",
    "        np.array(\n",
    "            [\n",
    "                [27, 158, 119],\n",
    "                [217, 95, 2],\n",
    "                [117, 112, 179],\n",
    "                [231, 41, 138],\n",
    "                [102, 166, 30],\n",
    "                [230, 171, 2],\n",
    "                [166, 118, 29],\n",
    "            ]\n",
    "        )\n",
    "        / 255\n",
    "    ), 2\n",
    ")]"
   ]
  },
  {
   "cell_type": "code",
   "execution_count": null,
   "id": "cd8c2698-ee0c-4ab7-b427-a3653d052445",
   "metadata": {},
   "outputs": [],
   "source": [
    "off_x = 0\n",
    "off_y = 0\n",
    "s = 1.0\n",
    "f, ax = plt.subplots(figsize=(4, 4))\n",
    "ax.imshow(\n",
    "    gad1b_stack[20:, :, :].max(0),\n",
    "    origin=\"lower\",\n",
    "    cmap=\"gray_r\",\n",
    "    vmin=450,\n",
    "    vmax=15000,\n",
    "    extent=(0, (gad1b_stack.shape[2] / 2) * s, 0, (gad1b_stack.shape[1] / 2) * s),\n",
    ")\n",
    "pltltr.plot_projection(\n",
    "    annotation[:120, :, :],\n",
    "    0,\n",
    "    ax=ax,\n",
    "    smooth_wnd=15,\n",
    "    linewidth=0.5,\n",
    "    fill=False,\n",
    "    edgecolor=\".3\",\n",
    ")\n",
    "pltltr.plot_projection(\n",
    "    annotation_dipn[:130, :, :],\n",
    "    0,\n",
    "    ax=ax,\n",
    "    smooth_wnd=15,\n",
    "    linewidth=0.5,\n",
    "    fill=False,\n",
    "    edgecolor=\".3\",\n",
    ")\n",
    "\n",
    "for i, neuron in enumerate(sel_neurons):\n",
    "    if \"bilat\" in neuron.comments.split(\"_\") and \"dipn\" in neuron.comments.split(\"_\"):\n",
    "        main_c = cols[i % len(cols)]\n",
    "        lines = neuron.generate_plotlines_from_skeleton(space=\"ipn\", select=\"dendrites\")\n",
    "        (l,) = ax.plot(\n",
    "            lines[:, 2], lines[:, 1], lw=0.5, c=pltltr.shift_lum(main_c, -0.15)\n",
    "        )\n",
    "\n",
    "        lines = neuron.generate_plotlines_from_skeleton(space=\"ipn\", select=\"axon\")\n",
    "        (l,) = ax.plot(\n",
    "            lines[:, 2], lines[:, 1], lw=0.5, c=pltltr.shift_lum(main_c, 0.15)\n",
    "        )\n",
    "\n",
    "        soma = neuron.coords_ipn[neuron.soma_idx, :]\n",
    "        ax.scatter(soma[2], soma[1], s=30, color=pltltr.shift_lum(main_c, -0.15))\n",
    "        ax.axis(\"equal\")\n",
    "        ax.set(ylim=(170, -4), xlim=(50, 160))\n",
    "\n",
    "pltltr.despine(ax, \"all\")\n",
    "pltltr.add_scalebar(\n",
    "    ax, ylen=-20, xlen=20, ypos=140, xpos=40, xlabel=\"R. - L.\", ylabel=\"inf. sup.\"\n",
    ")"
   ]
  },
  {
   "cell_type": "code",
   "execution_count": null,
   "id": "6ac0cf11-eb3d-49d5-b24e-7cc9629a4ae7",
   "metadata": {},
   "outputs": [],
   "source": []
  }
 ],
 "metadata": {
  "kernelspec": {
   "display_name": "rplab",
   "language": "python",
   "name": "rplab"
  },
  "language_info": {
   "codemirror_mode": {
    "name": "ipython",
    "version": 3
   },
   "file_extension": ".py",
   "mimetype": "text/x-python",
   "name": "python",
   "nbconvert_exporter": "python",
   "pygments_lexer": "ipython3"
  }
 },
 "nbformat": 4,
 "nbformat_minor": 5
}

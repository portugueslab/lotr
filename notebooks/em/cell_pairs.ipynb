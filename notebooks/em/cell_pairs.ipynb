{
 "cells": [
  {
   "cell_type": "code",
   "execution_count": null,
   "metadata": {},
   "outputs": [],
   "source": [
    "%matplotlib widget\n",
    "\n",
    "from collections import deque\n",
    "from copy import deepcopy\n",
    "from pathlib import Path\n",
    "\n",
    "import flammkuchen as fl\n",
    "import numpy as np\n",
    "import pandas as pd\n",
    "from bg_atlasapi import BrainGlobeAtlas\n",
    "from bg_atlasapi.core import Atlas\n",
    "from matplotlib import pyplot as plt\n",
    "from motions.em import NeuroSkeleton, load_skeletons_from_zip\n",
    "from motions.em.skeleton_mesh import make_full_neuron\n",
    "from scipy.ndimage import gaussian_filter\n",
    "from tqdm import tqdm\n",
    "\n",
    "atlas = Atlas(\"/Users/luigipetrucco/.brainglobe/ipn_zfish_0.5um_v1.4\")\n",
    "\n",
    "from numba import jit, prange\n",
    "\n",
    "\n",
    "@jit(nopython=True, parallel=True)\n",
    "def _set_voxels(stack, idxs):\n",
    "    for i in prange(idxs.shape[0]):\n",
    "        stack[idxs[i, 0], idxs[i, 1], idxs[i, 2]] += 1\n",
    "\n",
    "import lotr.plotting as pltltr\n",
    "\n",
    "# Neuron plotter\n",
    "from motions.em.plotting import AtlasPlotter\n",
    "\n",
    "plotter = AtlasPlotter(\n",
    "    structures=[\"lat_l_col\", \"ipn\", \"lat_r_col\", \"med_l_col\", \"med_r_col\"]\n",
    ")\n",
    "# plotter = AtlasPlotter(structures=[\"ipn\"])\n",
    "plotter.shape_color = None\n",
    "plotter.shape_fill = False\n",
    "plotter.shape_linewidth = 0.2\n",
    "plotter.shape_linecolor = (0.1,) * 3\n",
    "plotter.shape_alpha = 1\n",
    "plotter.font_size = 10"
   ]
  },
  {
   "cell_type": "code",
   "execution_count": null,
   "metadata": {},
   "outputs": [],
   "source": [
    "master_folder = Path(r\"J:\\_Shared\\experiments\\E0060_ipn_em_tracing\")\n",
    "# master_folder =  Path(r\"C:\\Users\\lpetrucco\\Desktop\")\n",
    "master_folder = Path(\"/Users/luigipetrucco/Google Drive/data/ipn_tracing/\")\n",
    "data_folder = master_folder / \"main_data_dir\"\n",
    "neurons_dict = fl.load(data_folder / \"all_skeletons.h5\")\n",
    "\n",
    "working_folder = master_folder / \"rosette\"\n",
    "rosette_volume = fl.load(working_folder / \"volume.h5\")"
   ]
  },
  {
   "cell_type": "markdown",
   "metadata": {},
   "source": [
    "# Cell plots"
   ]
  },
  {
   "cell_type": "code",
   "execution_count": null,
   "metadata": {},
   "outputs": [],
   "source": [
    "pairs = [\n",
    "    [\"n053\", \"n084\"],\n",
    "    [\"p041\", \"p048\"],\n",
    "    [\"p056\", \"p043\"],\n",
    "    [\"p052\", \"p042\"],\n",
    "    [\"n083\", \"n086\"],\n",
    "    [\"n006\", \"n039\"],\n",
    "    [\"n021\", \"n005\"],\n",
    "    [\"n049\", \"n064\"],\n",
    "    [\"n057\", \"n043\"],\n",
    "]\n",
    "labels = []"
   ]
  },
  {
   "cell_type": "code",
   "execution_count": null,
   "metadata": {},
   "outputs": [],
   "source": [
    "for _, sk in neurons_dict.items():\n",
    "    if \"four\" in sk.cell_comments:\n",
    "        print(sk.cell_comments)"
   ]
  },
  {
   "cell_type": "code",
   "execution_count": null,
   "metadata": {},
   "outputs": [],
   "source": [
    "[\"n017\", \"n006\", \"n039\"]"
   ]
  },
  {
   "cell_type": "code",
   "execution_count": null,
   "metadata": {},
   "outputs": [],
   "source": [
    "cols = cols = np.array([[209, 116, 146], [0, 183, 163]]) / 255"
   ]
  },
  {
   "cell_type": "code",
   "execution_count": null,
   "metadata": {},
   "outputs": [],
   "source": [
    "pair_combinations"
   ]
  },
  {
   "cell_type": "code",
   "execution_count": null,
   "metadata": {},
   "outputs": [],
   "source": [
    "pair_combinations = [[pairs[0],] + [pairs[3],], pairs[4:-2]]\n",
    "\n",
    "for n, pair_combo in enumerate(pair_combinations[:2]):\n",
    "    f, cols_axs = plt.subplots(len(pair_combo), 3, figsize=(6, 2.0 * len(pair_combo)))\n",
    "\n",
    "    for i, (axs, pair) in enumerate(zip(cols_axs, pair_combo)):\n",
    "        plotter.generate_projection_plots(\n",
    "            axs, labels=(i == len(pair_combo) - 1), edge=120, title=i == 0\n",
    "        )\n",
    "        print(pair)\n",
    "        for cid, col in zip(pair, cols):\n",
    "            plotter.plot_neurons(\n",
    "                axs,\n",
    "                neurons_dict[cid],\n",
    "                color=col,\n",
    "                linewidth=0.2,\n",
    "                select=\"axon\",\n",
    "                soma_s=0,\n",
    "                alpha=0.7,\n",
    "                rasterized=True,\n",
    "            )\n",
    "            plotter.plot_neurons(\n",
    "                axs,\n",
    "                neurons_dict[cid],\n",
    "                color=col,\n",
    "                linewidth=0.5,\n",
    "                select=\"dendrites\",\n",
    "                alpha=1,\n",
    "                rasterized=True,\n",
    "            )\n",
    "\n",
    "    #f.savefig(\n",
    "    #    f\"/Users/luigipetrucco/Desktop/labmeetingfigs/ipn_neurons_{n}.pdf\", dpi=300\n",
    "    #)"
   ]
  },
  {
   "cell_type": "code",
   "execution_count": null,
   "metadata": {},
   "outputs": [],
   "source": [
    "pair_combinations = [pairs[1:3]]\n",
    "\n",
    "for pair_combo in pair_combinations:\n",
    "    f, cols_axs = plt.subplots(len(pair_combo), 3, figsize=(8, 2.5 * len(pair_combo)))\n",
    "\n",
    "    for i, (axs, pair) in enumerate(zip(cols_axs, pair_combo)):\n",
    "        plotter.generate_projection_plots(\n",
    "            axs, labels=(i == len(pair_combo) - 1), edge=175, title=i == 0\n",
    "        )\n",
    "\n",
    "        for cid, col in zip(pair, cols):\n",
    "            plotter.plot_neurons(\n",
    "                axs,\n",
    "                neurons_dict[cid],\n",
    "                color=col,\n",
    "                linewidth=0.2,\n",
    "                select=\"axon\",\n",
    "                soma_s=0,\n",
    "                alpha=0.7,\n",
    "            )\n",
    "            plotter.plot_neurons(\n",
    "                axs,\n",
    "                neurons_dict[cid],\n",
    "                color=col,\n",
    "                linewidth=0.5,\n",
    "                select=\"dendrites\",\n",
    "                alpha=1,\n",
    "            )\n",
    "\n",
    "\n",
    "f.savefig(\"/Users/luigipetrucco/Desktop/labmeetingfigs/aHB_neurons.pdf\")"
   ]
  },
  {
   "cell_type": "markdown",
   "metadata": {},
   "source": [
    "# Diffuse projection"
   ]
  },
  {
   "cell_type": "code",
   "execution_count": null,
   "metadata": {},
   "outputs": [],
   "source": [
    "pairs = [\n",
    "    [\"n053\", \"n084\"],  # gad1b\n",
    "    [\"p041\", \"p048\"],\n",
    "    [\"p056\", \"p043\"],\n",
    "    [\"p052\", \"p042\"],\n",
    "    [\"n083\", \"n086\"],\n",
    "    [\"n006\", \"n039\"],\n",
    "    [\"n021\", \"n005\"],\n",
    "    [\"n049\", \"n064\"],  # posterior\n",
    "    [\"n057\", \"n043\"],\n",
    "]  # hemifield"
   ]
  },
  {
   "cell_type": "code",
   "execution_count": null,
   "metadata": {},
   "outputs": [],
   "source": [
    "f, axs = plt.subplots(1, 3, figsize=(8, 3))\n",
    "plotter.generate_projection_plots(axs, labels=True, edge=175)\n",
    "\n",
    "for cid, col in zip([\"n049\", \"n064\"], cols):  # zip([\"n056\", \"n078\"], cols):\n",
    "    plotter.plot_neurons(\n",
    "        axs,\n",
    "        neurons_dict[cid],\n",
    "        color=col,\n",
    "        linewidth=0.2,\n",
    "        select=\"axon\",\n",
    "        soma_s=0,\n",
    "        alpha=0.7,\n",
    "    )\n",
    "    plotter.plot_neurons(\n",
    "        axs, neurons_dict[cid], color=col, linewidth=0.5, select=\"dendrites\", alpha=1\n",
    "    )\n",
    "\n",
    "\n",
    "f.savefig(\"/Users/luigipetrucco/Desktop/test.pdf\")"
   ]
  },
  {
   "cell_type": "code",
   "execution_count": null,
   "metadata": {},
   "outputs": [],
   "source": []
  }
 ],
 "metadata": {
  "kernelspec": {
   "display_name": "rplab",
   "language": "python",
   "name": "rplab"
  },
  "language_info": {
   "codemirror_mode": {
    "name": "ipython",
    "version": 3
   },
   "file_extension": ".py",
   "mimetype": "text/x-python",
   "name": "python",
   "nbconvert_exporter": "python",
   "pygments_lexer": "ipython3"
  }
 },
 "nbformat": 4,
 "nbformat_minor": 4
}

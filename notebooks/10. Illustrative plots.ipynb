{
 "cells": [
  {
   "cell_type": "markdown",
   "id": "81a14bf7-d3d9-4810-94bb-9fc3e41ba04b",
   "metadata": {},
   "source": [
    "# Some bonus plots for illustrating stuff for A_FISH"
   ]
  },
  {
   "cell_type": "code",
   "execution_count": null,
   "id": "19004331-d41d-439e-a63a-810a2cae7e23",
   "metadata": {},
   "outputs": [],
   "source": [
    "%matplotlib widget\n",
    "from pathlib import Path\n",
    "from shutil import copy\n",
    "\n",
    "import flammkuchen as fl\n",
    "import lotr.plotting as pltltr\n",
    "import numpy as np\n",
    "import pandas as pd\n",
    "from lotr import A_FISH, LotrExperiment, dataset_folders\n",
    "from lotr.utils import zscore\n",
    "\n",
    "COLS = pltltr.COLS\n",
    "from matplotlib import pyplot as plt\n",
    "from tqdm import tqdm"
   ]
  },
  {
   "cell_type": "markdown",
   "id": "25002487-4c90-428f-ae07-6ffc0f1dd8c8",
   "metadata": {},
   "source": [
    "### Contour masks for a fish"
   ]
  },
  {
   "cell_type": "code",
   "execution_count": null,
   "id": "e4357897-70d4-4789-a2f9-38eaff30643b",
   "metadata": {},
   "outputs": [],
   "source": [
    "exp = LotrExperiment(A_FISH)\n",
    "\n",
    "rois = exp.rois_stack\n",
    "ring_rois = exp.color_rois_by(np.ones(exp.n_hdns))\n",
    "proj = ring_rois.max(0)[:, :, 0]"
   ]
  },
  {
   "cell_type": "code",
   "execution_count": null,
   "id": "144a3506-a6ad-4f6d-a036-0248a411a3f5",
   "metadata": {},
   "outputs": [],
   "source": [
    "plt.figure(figsize=(3, 3), facecolor=\"none\")\n",
    "plt.contour(proj, levels=1, colors=[COLS[\"ring\"]], linewidths=1)\n",
    "plt.axis(\"equal\")\n",
    "plt.axis(\"off\")\n",
    "pltltr.savefig(\"rois_mask\")"
   ]
  },
  {
   "cell_type": "code",
   "execution_count": null,
   "id": "c2709c3e-ed10-437f-835e-3ba1044da982",
   "metadata": {},
   "outputs": [],
   "source": [
    "np.random.choice(np.argwhere(exp.nonhdn_indexes)[:, 0], 5)"
   ]
  },
  {
   "cell_type": "code",
   "execution_count": null,
   "id": "913c0f6c-e552-485b-8629-09ad922a2827",
   "metadata": {},
   "outputs": [],
   "source": [
    "np.random.choice(exp.hdn_indexes, 5)"
   ]
  },
  {
   "cell_type": "code",
   "execution_count": null,
   "id": "74109b7f-2a0f-4133-9a67-0f062a5bb2bf",
   "metadata": {},
   "outputs": [],
   "source": [
    "idxs = [480, 44, 598, 363, 285] + [131, 503, 657, 188, 34]\n",
    "n = len(idxs) // 2  # number of neurons for each type\n",
    "s = 5\n",
    "lw = 0.5\n",
    "t_slice_s = (0, 1900)\n",
    "\n",
    "t_slice = slice(*[t * exp.fs for t in t_slice_s])\n",
    "\n",
    "f, ax = plt.subplots(figsize=(3, 1.5))\n",
    "plt.plot(\n",
    "    exp.time_arr,\n",
    "    zscore(exp.traces[:, idxs[:n]]) + np.arange(n) * s,\n",
    "    lw=lw,\n",
    "    c=COLS[\"ring\"],\n",
    ")\n",
    "plt.plot(\n",
    "    exp.time_arr,\n",
    "    zscore(exp.traces[:, idxs[n:]]) + np.arange(n) * s + n * s,\n",
    "    lw=lw,\n",
    "    c=\".3\",\n",
    ")\n",
    "\n",
    "pltltr.add_scalebar(\n",
    "    ax, xunits=\"s\", xlen=200, ylen=10, ylabel=\"ΔF z sc.\", lw=0.5, fontsize=5\n",
    ")\n",
    "plt.show()\n",
    "\n",
    "pltltr.savefig(\"traces\")"
   ]
  },
  {
   "cell_type": "code",
   "execution_count": null,
   "id": "51e6877e-fa4b-4303-bcc3-edd74f6e9c0a",
   "metadata": {},
   "outputs": [],
   "source": [
    "from sklearn.decomposition import PCA"
   ]
  },
  {
   "cell_type": "code",
   "execution_count": null,
   "id": "00d7ca86-4126-40ef-91b3-a793e6329e6f",
   "metadata": {},
   "outputs": [],
   "source": [
    "pcs = PCA(n_components=2).fit_transform(exp.traces[:, exp.hdn_indexes])\n",
    "pcs_t = PCA(n_components=2).fit_transform(exp.traces[:, exp.hdn_indexes].T)"
   ]
  },
  {
   "cell_type": "code",
   "execution_count": null,
   "id": "a47dc200-30fc-45bb-9ab5-ce92497ff09d",
   "metadata": {},
   "outputs": [],
   "source": [
    "f, axs = plt.subplots(\n",
    "    1, 2, figsize=(5, 2), gridspec_kw=dict(left=0.3, bottom=0.2, wspace=0.5)\n",
    ")\n",
    "axs[0].plot(pcs[:, 0], pcs[:, 1], lw=1, c=COLS[\"ring\"])\n",
    "axs[1].scatter(pcs_t[:, 0], pcs_t[:, 1], s=10, lw=0, color=COLS[\"ring\"])\n",
    "for ax in axs:\n",
    "    ax.set(xlabel=\"PC1\", ylabel=\"PC2\")\n",
    "    ax.axis(\"equal\")\n",
    "    pltltr.despine(ax)\n",
    "axs[1].set(yticks=[-100, 0, 100], xticks=[-100, 0, 100], xlim=(-110, 110))\n",
    "pltltr.savefig(\"pcs\")"
   ]
  },
  {
   "cell_type": "markdown",
   "id": "43525609-ab21-41ce-9a59-a3ffa922fdda",
   "metadata": {},
   "source": [
    "### Phase-sorted traces"
   ]
  },
  {
   "cell_type": "code",
   "execution_count": null,
   "id": "f160cb61-8a49-413c-acdc-2fda4aaaff5c",
   "metadata": {},
   "outputs": [],
   "source": [
    "sorted_traces = exp.traces[:, exp.hdn_indexes][:, np.argsort(exp.rpc_angles)]\n",
    "phase = exp.network_phase\n",
    "phase[1:][np.abs(np.diff(phase)) > np.pi] = np.nan\n",
    "phases = exp.rpc_angles[np.argsort(exp.rpc_angles), np.newaxis]"
   ]
  },
  {
   "cell_type": "code",
   "execution_count": null,
   "id": "1b7fb7ed-9224-4255-a3be-37ca23dbce02",
   "metadata": {},
   "outputs": [],
   "source": [
    "t_slice_s = (0, 1000)\n",
    "\n",
    "t_slice = slice(*[t * exp.fs for t in t_slice_s])\n",
    "f, axs = plt.subplots(\n",
    "    1,\n",
    "    2,\n",
    "    figsize=(5, 2),\n",
    "    gridspec_kw=dict(left=0.2, bottom=0.2, width_ratios=(0.03, 1), wspace=0),\n",
    ")\n",
    "\n",
    "ax = axs[1]\n",
    "im = ax.imshow(\n",
    "    sorted_traces[t_slice, :].T,\n",
    "    extent=[0, t_slice_s[1], 0, exp.n_hdns],\n",
    "    aspect=\"auto\",\n",
    "    cmap=COLS[\"dff_plot\"],\n",
    "    vmin=-1.7,\n",
    "    vmax=2.0,\n",
    ")\n",
    "ax.plot(\n",
    "    exp.time_arr[t_slice],\n",
    "    (phase[t_slice] / np.pi + 1) * exp.n_hdns / 2,\n",
    "    c=COLS[\"ph_plot\"],\n",
    "    lw=1,\n",
    "    label=\"Network phase\",\n",
    ")\n",
    "ax.legend(loc=2, bbox_to_anchor=(0.71, 1.15), fontsize=7)\n",
    "ax.set(xlabel=\"Time (s)\")\n",
    "pltltr.add_dff_cbar(\n",
    "    im,\n",
    "    ax,\n",
    "    (1.05, 0.04, 0.02, 0.15),\n",
    "    title=\"ΔF (Z.)\",\n",
    "    titlesize=6,\n",
    "    labelsize=5,\n",
    "    ticklabels=None,\n",
    ")\n",
    "pltltr.despine(ax, [\"left\", \"right\", \"top\"])\n",
    "\n",
    "axs[0].set(ylabel=\"ROI n. (phase sorted)\")\n",
    "axs[0].imshow(phases, cmap=COLS[\"phase\"], aspect=\"auto\")\n",
    "pltltr.despine(axs[0], [\"bottom\", \"right\", \"top\"])\n",
    "\n",
    "pltltr.savefig(\"traces_by_phase\")"
   ]
  },
  {
   "cell_type": "code",
   "execution_count": null,
   "id": "9e241509-30c5-42b5-bd2d-7be82a68f5b7",
   "metadata": {},
   "outputs": [],
   "source": [
    "plt.figure()\n",
    "plt.imshow(phases, cmap=COLS[\"phase\"])"
   ]
  },
  {
   "cell_type": "code",
   "execution_count": null,
   "id": "766fc02e-2e00-454d-8927-312beee1c360",
   "metadata": {},
   "outputs": [],
   "source": []
  }
 ],
 "metadata": {
  "kernelspec": {
   "display_name": "rplab",
   "language": "python",
   "name": "rplab"
  },
  "language_info": {
   "codemirror_mode": {
    "name": "ipython",
    "version": 3
   },
   "file_extension": ".py",
   "mimetype": "text/x-python",
   "name": "python",
   "nbconvert_exporter": "python",
   "pygments_lexer": "ipython3"
  }
 },
 "nbformat": 4,
 "nbformat_minor": 5
}

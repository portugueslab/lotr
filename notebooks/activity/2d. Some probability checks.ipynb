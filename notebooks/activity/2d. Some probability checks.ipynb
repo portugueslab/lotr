{
 "cells": [
  {
   "cell_type": "markdown",
   "id": "44af40b6-2cf3-4b45-a748-76eca95c1add",
   "metadata": {},
   "source": [
    "# Some probability checks\n",
    "\n",
    "So far, so good, our network seems to integrate directional motion over a range of tens of seconds. \n",
    "But there are some important sanity checks to do. In this brief notebook we will address the following:\n",
    " 1. **Are all network phases equally likely?** \n",
    " 2. **Is the probability of being in a certain phase given a bout left or right the same?**"
   ]
  },
  {
   "cell_type": "code",
   "execution_count": null,
   "id": "3a90407e-47d8-464b-9841-6a347d248513",
   "metadata": {},
   "outputs": [],
   "source": [
    "%matplotlib widget\n",
    "\n",
    "import numpy as np\n",
    "import pandas as pd\n",
    "from matplotlib import pyplot as plt\n",
    "from tqdm import tqdm\n",
    "\n",
    "import lotr.plotting as pltltr\n",
    "from lotr import LotrExperiment, dataset_folders\n",
    "\n",
    "COLS = pltltr.COLS"
   ]
  },
  {
   "cell_type": "markdown",
   "id": "2bddb444-7cd2-4b49-831a-2731207b5fc4",
   "metadata": {},
   "source": [
    "## Probability of different phases\n",
    "we expect all phases to be equally likely. To check this, we will load all phases and compute their histograms"
   ]
  },
  {
   "cell_type": "code",
   "execution_count": null,
   "id": "10be54d9-641e-4962-b579-980588e5d6e6",
   "metadata": {},
   "outputs": [],
   "source": [
    "# bins to compute histogram\n",
    "hist_base = np.linspace(-np.pi, np.pi, 25)\n",
    "\n",
    "# Load phases from all fish:\n",
    "phase_hists = []\n",
    "for path in tqdm(dataset_folders):\n",
    "    phase_hist, _ = np.histogram(\n",
    "        LotrExperiment(path).network_phase, hist_base, density=True\n",
    "    )\n",
    "    phase_hists.append(phase_hist)\n",
    "phase_hists = np.array(phase_hists)"
   ]
  },
  {
   "cell_type": "markdown",
   "id": "9c971bc1-c859-4c57-8662-3199b4816248",
   "metadata": {},
   "source": [
    "This looks quite flat! It is important to see that there is no location of consistent preferential activation across fish."
   ]
  },
  {
   "cell_type": "code",
   "execution_count": null,
   "id": "b852c170-e338-4586-8022-ac09b7ba3548",
   "metadata": {},
   "outputs": [],
   "source": [
    "hist_x = (hist_base[1:] + hist_base[:-1]) / 2\n",
    "\n",
    "f, ax = plt.subplots(figsize=(3, 2), gridspec_kw=dict(left=0.15, bottom=0.2))\n",
    "for h in phase_hists:\n",
    "    ax.bar(\n",
    "        hist_x,\n",
    "        h,\n",
    "        width=hist_x[1] - hist_x[0],\n",
    "        fc=pltltr.shift_lum(COLS[\"ph_plot\"], -0.1),\n",
    "        lw=0.0,\n",
    "        alpha=0.2,\n",
    "    )\n",
    "ax.step(\n",
    "    hist_x,\n",
    "    np.nanmean(phase_hists, 0),\n",
    "    lw=1.5,\n",
    "    c=pltltr.shift_lum(COLS[\"ph_plot\"], 0.1),\n",
    "    where=\"mid\",\n",
    ")\n",
    "ax.set(ylim=(0, 0.8), ylabel=r\"$P(\\Phi)$\")\n",
    "pltltr.despine(ax)\n",
    "\n",
    "ax.set(**pltltr.get_pi_labels(0.5), xlabel=r\"Network phase ($\\Phi$)\")\n",
    "\n",
    "pltltr.savefig(\"network_phase_probability\")"
   ]
  },
  {
   "cell_type": "markdown",
   "id": "c60f1134-ee46-4371-8c12-3606be4a1d45",
   "metadata": {},
   "source": [
    "The lower probability at $\\Phi=0$ and $\\Phi=\\pi$ might correspond to the fact that there are less cells along the midline?"
   ]
  },
  {
   "cell_type": "markdown",
   "id": "f2373983-eb3f-437b-b1e3-f71020e502e8",
   "metadata": {},
   "source": [
    "## Probability of phase given bout direction\n",
    "\n",
    "Let's see whether the directional bouts occurrence is related to the theta. If our network is only integrating past directional motion, this should not be the case (it would be, for example, in a region like the ARTR)."
   ]
  },
  {
   "cell_type": "code",
   "execution_count": null,
   "id": "3a8f3ec7-9fda-4bf5-9b28-ad717f65dbb8",
   "metadata": {},
   "outputs": [],
   "source": [
    "# For some fish, generate an histogram of phase given bouts for each possible bout direction\n",
    "hist_df = []  # df with info on all stacked histograms\n",
    "phase_given_bout_hists = []  # array of all stacked histograms\n",
    "\n",
    "for path in tqdm(dataset_folders):\n",
    "    exp = LotrExperiment(path)\n",
    "    phase_hist, _ = np.histogram(exp.network_phase, hist_base)\n",
    "    df = exp.bouts_df\n",
    "    df[\"phase\"] = exp.network_phase[exp.bouts_df[\"idx_imaging\"]]\n",
    "\n",
    "    for d in exp.bouts_df[\"direction\"].unique():\n",
    "        if sum(df[\"direction\"] == d) > 1:\n",
    "            bouts_hist, _ = np.histogram(\n",
    "                df.loc[df[\"direction\"] == d, \"phase\"], hist_base\n",
    "            )\n",
    "            ratio = bouts_hist / phase_hist\n",
    "            ratio = ratio / np.nansum(ratio)\n",
    "\n",
    "            # append histogram array and info to the dataframe:\n",
    "            hist_df.append(dict(fid=exp.dir_name, direction=d))\n",
    "            phase_given_bout_hists.append(ratio)\n",
    "\n",
    "hist_df = pd.DataFrame(hist_df)  # dataframe with info\n",
    "phase_given_bout_hists = np.array(phase_given_bout_hists)  # matrix of histograms"
   ]
  },
  {
   "cell_type": "code",
   "execution_count": null,
   "id": "8623dac3-1afe-4fa8-a4a9-08d0e531a604",
   "metadata": {},
   "outputs": [],
   "source": [
    "hist_x = (hist_base[1:] + hist_base[:-1]) / 2\n",
    "f, axs = plt.subplots(\n",
    "    1,\n",
    "    3,\n",
    "    figsize=(7, 1.5),\n",
    "    gridspec_kw=dict(left=0.075, bottom=0.25, wspace=0.35, right=0.98),\n",
    ")\n",
    "for ax, d in zip(axs, [\"lf\", \"rt\", \"fw\"]):\n",
    "    for h in phase_given_bout_hists[hist_df[\"direction\"] == d, :]:\n",
    "        ax.bar(\n",
    "            hist_x,\n",
    "            h,\n",
    "            width=hist_x[1] - hist_x[0],\n",
    "            fc=pltltr.shift_lum(COLS[\"sides\"][d], -0.1),\n",
    "            lw=0.0,\n",
    "            alpha=0.2,\n",
    "        )\n",
    "    ax.step(\n",
    "        hist_x,\n",
    "        np.nanmean(phase_given_bout_hists[hist_df[\"direction\"] == d, :], 0),\n",
    "        lw=1.5,\n",
    "        c=pltltr.shift_lum(COLS[\"sides\"][d], 0.1),\n",
    "        where=\"mid\",\n",
    "    )\n",
    "    ax.set(ylim=(0, 0.21), ylabel=r\"$P(\\Phi|bout_{\" + f\"{d}\" + \"})$\")\n",
    "    pltltr.despine(ax)\n",
    "\n",
    "    ax.set(**pltltr.get_pi_labels(0.5), xlabel=r\"Network phase ($\\Phi$)\")\n",
    "\n",
    "plt.show()\n",
    "pltltr.savefig(\"phase_given_bout_hists\", folder=\"S6\")"
   ]
  },
  {
   "cell_type": "markdown",
   "id": "4bfc52b3-be13-4ac6-93a6-fb47ca2c352e",
   "metadata": {},
   "source": [
    "Those look quite flat, as we were expecting them!"
   ]
  }
 ],
 "metadata": {
  "kernelspec": {
   "display_name": "lotr",
   "language": "python",
   "name": "lotr"
  },
  "language_info": {
   "codemirror_mode": {
    "name": "ipython",
    "version": 3
   },
   "file_extension": ".py",
   "mimetype": "text/x-python",
   "name": "python",
   "nbconvert_exporter": "python",
   "pygments_lexer": "ipython3"
  }
 },
 "nbformat": 4,
 "nbformat_minor": 5
}

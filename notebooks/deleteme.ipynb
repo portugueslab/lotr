{
 "cells": [
  {
   "cell_type": "code",
   "execution_count": null,
   "id": "5c9edfc0-4f26-473d-8742-82c87a95af3c",
   "metadata": {},
   "outputs": [],
   "source": [
    "from pathlib import Path\n",
    "from shutil import copy\n",
    "\n",
    "from lotr import dataset_folders\n",
    "from tqdm import tqdm"
   ]
  },
  {
   "cell_type": "code",
   "execution_count": null,
   "id": "4a22deed-323e-4eb2-b01b-9e15f89d0d27",
   "metadata": {},
   "outputs": [],
   "source": [
    "coords_loc = Path(\"/Volumes/Shared/experiments/E0071_lotr/full_ring/\")"
   ]
  },
  {
   "cell_type": "code",
   "execution_count": null,
   "id": "bcf57e4e-c9be-461d-a8f9-47be02225d35",
   "metadata": {},
   "outputs": [],
   "source": [
    "for path in tqdm(dataset_folders):\n",
    "    src = coords_loc / path.parent.name / path.name / \"transformaed_coords.h5\"\n",
    "    copy(src, path)"
   ]
  },
  {
   "cell_type": "code",
   "execution_count": null,
   "id": "79eb0a8d-1f37-49d4-8e92-138feb6df173",
   "metadata": {},
   "outputs": [],
   "source": [
    "?copy"
   ]
  },
  {
   "cell_type": "code",
   "execution_count": null,
   "id": "e16933b3-4ef3-4ab9-ac33-edd5d60c431b",
   "metadata": {},
   "outputs": [],
   "source": []
  }
 ],
 "metadata": {
  "kernelspec": {
   "display_name": "rplab",
   "language": "python",
   "name": "rplab"
  },
  "language_info": {
   "codemirror_mode": {
    "name": "ipython",
    "version": 3
   },
   "file_extension": ".py",
   "mimetype": "text/x-python",
   "name": "python",
   "nbconvert_exporter": "python",
   "pygments_lexer": "ipython3"
  }
 },
 "nbformat": 4,
 "nbformat_minor": 5
}

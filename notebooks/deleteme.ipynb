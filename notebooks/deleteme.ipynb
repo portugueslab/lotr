{
 "cells": [
  {
   "cell_type": "code",
   "execution_count": null,
   "id": "7ae10d4b",
   "metadata": {},
   "outputs": [],
   "source": [
    "%matplotlib widget\n",
    "from matplotlib import pyplot as plt\n",
    "import matplotlib as mp\n",
    "from matplotlib import cm\n",
    "import numpy as np\n",
    "import seaborn as sns\n",
    "import cmocean as cmo\n",
    "from cmocean import plots"
   ]
  },
  {
   "cell_type": "code",
   "execution_count": null,
   "id": "a1f8ae4b",
   "metadata": {},
   "outputs": [],
   "source": [
    "from lotr.plotting.colors import get_n_colors\n",
    "from matplotlib.colors import ListedColormap\n",
    "\n",
    "viridis = cm.get_cmap('viridis', 256)\n",
    "newcolors = viridis(np.linspace(0, 1, 256))\n",
    "pink = np.array([248/256, 24/256, 148/256, 1])\n",
    "newcolors[:25, :] = pink\n",
    "newcmp = ListedColormap(newcolors)\n",
    "\n",
    "newcmp = ListedColormap(newcolors)"
   ]
  },
  {
   "cell_type": "code",
   "execution_count": null,
   "id": "0c83590c",
   "metadata": {},
   "outputs": [],
   "source": [
    "f, ax = plt.subplots(figsize=(3, 3))\n",
    "plots.test(cmo.cm.phase, ax=ax)\n",
    "plt.ylim(0, 100)\n",
    "plt.tight_layout()"
   ]
  },
  {
   "cell_type": "code",
   "execution_count": null,
   "id": "a6179baf",
   "metadata": {},
   "outputs": [],
   "source": [
    "#60, 40\n",
    "# network_phase: lum=45, sat=70, hshift=90\n",
    "# pc_angle\n",
    "phase_cm = ListedColormap(get_n_colors(1000, lum=60, sat=45, hshift=90) / 255)\n",
    "f, ax = plt.subplots(figsize=(3, 3))\n",
    "plots.test(phase_cm, ax=ax)\n",
    "plots.test(cmo.cm.phase, ax=ax)\n",
    "plt.ylim(0, 100)\n",
    "plt.tight_layout()"
   ]
  },
  {
   "cell_type": "code",
   "execution_count": null,
   "id": "a122e0b4",
   "metadata": {},
   "outputs": [],
   "source": [
    "plt.figure()\n",
    "plt.imshow(np.random.rand(100, 20), cmap=phase_cm)"
   ]
  },
  {
   "cell_type": "code",
   "execution_count": null,
   "id": "c65b0a9e",
   "metadata": {},
   "outputs": [],
   "source": []
  }
 ],
 "metadata": {
  "kernelspec": {
   "display_name": "rplab",
   "language": "python",
   "name": "rplab"
  },
  "language_info": {
   "codemirror_mode": {
    "name": "ipython",
    "version": 3
   },
   "file_extension": ".py",
   "mimetype": "text/x-python",
   "name": "python",
   "nbconvert_exporter": "python",
   "pygments_lexer": "ipython3"
  }
 },
 "nbformat": 4,
 "nbformat_minor": 5
}

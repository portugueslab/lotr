{
 "cells": [
  {
   "cell_type": "code",
   "execution_count": null,
   "id": "ac2df2dd-8cb8-4129-9bdf-a24426ad13f8",
   "metadata": {},
   "outputs": [],
   "source": [
    "%matplotlib widget\n",
    "\n",
    "from pathlib import Path\n",
    "\n",
    "import lotr.plotting as pltltr\n",
    "import matplotlib.image as mpimg\n",
    "import numpy as np\n",
    "import pandas as pd\n",
    "from lotr import A_FISH, FIGURES_LOCATION, LotrExperiment, dataset_folders\n",
    "from lotr.behavior import get_bouts_props_array, get_fictive_heading\n",
    "from matplotlib import pyplot as plt\n",
    "from tqdm import tqdm\n",
    "\n",
    "COLS = pltltr.COLS"
   ]
  },
  {
   "cell_type": "code",
   "execution_count": null,
   "id": "2c4b7a4e-4e17-4e7a-ad8b-8b52d6fba910",
   "metadata": {},
   "outputs": [],
   "source": [
    "coll.get_paths()[0].vertices[:] = coll.get_paths()[0].vertices[:] + 1"
   ]
  },
  {
   "cell_type": "code",
   "execution_count": null,
   "id": "eee0ee20-9bdb-4ef8-bad7-5575836660ba",
   "metadata": {},
   "outputs": [],
   "source": [
    "coll.get_paths()[0].vertices = coll.get_paths()[0].vertices + 1"
   ]
  },
  {
   "cell_type": "code",
   "execution_count": null,
   "id": "a55435da-83d8-4b75-bff0-3af0b2390a75",
   "metadata": {},
   "outputs": [],
   "source": [
    "exp = LotrExperiment(A_FISH)\n",
    "stimulus_log = exp.stimulus_log\n",
    "stimulus_log.set_index(\"t\")\n",
    "bouts_df = exp.bouts_df\n",
    "\n",
    "fict_heading = get_fictive_heading(exp.n_pts, exp.bouts_df)  # / 3\n",
    "phase = np.unwrap(exp.network_phase)\n",
    "\n",
    "pink_noise_file = Path(\"/Users/luigipetrucco/Desktop/pink_noise_norm.png\")\n",
    "pink_noise = mpimg.imread(pink_noise_file)"
   ]
  },
  {
   "cell_type": "code",
   "execution_count": null,
   "id": "cbb9364a-0cdb-414e-a78c-9d5df7561b7b",
   "metadata": {},
   "outputs": [],
   "source": [
    "exp.bouts_df.columns"
   ]
  },
  {
   "cell_type": "code",
   "execution_count": null,
   "id": "16da6641-0e43-4729-aa63-442aadbd28bb",
   "metadata": {},
   "outputs": [],
   "source": [
    "dx = get_bouts_props_array(exp.n_pts, exp.bouts_df, min_bias=0, value=\"med_vig\")\n",
    "dtheta = get_bouts_props_array(exp.n_pts, exp.bouts_df, min_bias=0, value=\"bias\")"
   ]
  },
  {
   "cell_type": "code",
   "execution_count": null,
   "id": "3c566278-e5e6-477a-8474-0ae99dc23330",
   "metadata": {},
   "outputs": [],
   "source": [
    "exp[\"stimulus\"][\"log\"][2].keys()"
   ]
  },
  {
   "cell_type": "code",
   "execution_count": null,
   "id": "ae5e588f-3a7b-4e18-a532-69adfae50b30",
   "metadata": {},
   "outputs": [],
   "source": [
    "exp[\"stimulus\"][\"log\"][2][\"background_name\"]"
   ]
  },
  {
   "cell_type": "code",
   "execution_count": null,
   "id": "ba7bc00d-5c79-459d-9e70-63f946d311b3",
   "metadata": {},
   "outputs": [],
   "source": [
    "def convolve_with_tau(array, tau_fs, n_kernel_pts=1000):\n",
    "\n",
    "    kernel = np.exp(-np.arange(n_kernel_pts) / tau_fs)\n",
    "    kernel = kernel / np.sum(kernel)\n",
    "\n",
    "    return np.convolve(array, kernel)[: len(array)]"
   ]
  },
  {
   "cell_type": "code",
   "execution_count": null,
   "id": "824d1b4b-62f9-4fa5-bf13-24eb03fff7f1",
   "metadata": {},
   "outputs": [],
   "source": [
    "norm_fict_head = -(fict_heading / 1.15)\n",
    "\n",
    "plt.figure()\n",
    "plt.plot(norm_fict_head)\n",
    "plt.plot(convolve_with_tau(norm_fict_head, 30))\n",
    "plt.plot(phase)"
   ]
  },
  {
   "cell_type": "code",
   "execution_count": null,
   "id": "309bddcb-5b22-4482-adea-7ac7605bbbd4",
   "metadata": {},
   "outputs": [],
   "source": [
    "from lotr.utils import linear_regression"
   ]
  },
  {
   "cell_type": "code",
   "execution_count": null,
   "id": "880fc8b3-8ad9-48ea-87b0-28bb6822b8e4",
   "metadata": {},
   "outputs": [],
   "source": [
    "convolved_head = convolve_with_tau(fict_heading, 20)\n",
    "\n",
    "t_slice = slice(5180, 6540)\n",
    "o, c = linear_regression(phase[t_slice], convolved_head[t_slice])\n",
    "\n",
    "plt.figure(figsize=(5, 2))\n",
    "plt.plot(phase[t_slice])\n",
    "plt.plot((convolved_head[t_slice] - o) / c)\n",
    "plt.title(np.mean(np.abs((convolved_head[t_slice] - o) / c - phase[t_slice])))\n",
    "plt.tight_layout()"
   ]
  },
  {
   "cell_type": "code",
   "execution_count": null,
   "id": "4a014e01-8fc4-4886-a50b-3771291b9083",
   "metadata": {},
   "outputs": [],
   "source": [
    "convolved_head = convolve_with_tau(fict_heading, 20)\n",
    "\n",
    "t_slice = slice(6100, 6540)\n",
    "o, c = linear_regression(phase[t_slice], convolved_head[t_slice])\n",
    "\n",
    "plt.figure(figsize=(5, 2))\n",
    "plt.plot(phase[t_slice])\n",
    "plt.plot((convolved_head[t_slice] - o) / c)\n",
    "plt.title(np.mean(np.abs((convolved_head[t_slice] - o) / c - phase[t_slice])))\n",
    "plt.tight_layout()"
   ]
  },
  {
   "cell_type": "code",
   "execution_count": null,
   "id": "d71f8584-cfdf-48de-b46e-e27beaf64fd2",
   "metadata": {},
   "outputs": [],
   "source": [
    "convolved_head = convolve_with_tau(fict_heading, 30)\n",
    "\n",
    "t_slice = slice(0, 1300)\n",
    "o, c = linear_regression(phase[t_slice], convolved_head[t_slice])\n",
    "\n",
    "plt.figure(figsize=(5, 2))\n",
    "plt.plot(phase[t_slice])\n",
    "plt.plot((convolved_head[t_slice] - o) / c)\n",
    "plt.title(np.mean(np.abs((convolved_head[t_slice] - o) / c - phase[t_slice])))\n",
    "plt.tight_layout()"
   ]
  },
  {
   "cell_type": "code",
   "execution_count": null,
   "id": "5c9edfc0-4f26-473d-8742-82c87a95af3c",
   "metadata": {},
   "outputs": [],
   "source": []
  }
 ],
 "metadata": {
  "kernelspec": {
   "display_name": "rplab",
   "language": "python",
   "name": "rplab"
  },
  "language_info": {
   "codemirror_mode": {
    "name": "ipython",
    "version": 3
   },
   "file_extension": ".py",
   "mimetype": "text/x-python",
   "name": "python",
   "nbconvert_exporter": "python",
   "pygments_lexer": "ipython3"
  }
 },
 "nbformat": 4,
 "nbformat_minor": 5
}

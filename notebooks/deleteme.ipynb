{
 "cells": [
  {
   "cell_type": "code",
   "execution_count": null,
   "id": "c65b0a9e",
   "metadata": {},
   "outputs": [],
   "source": [
    "%matplotlib widget\n",
    "from pathlib import Path\n",
    "\n",
    "import matplotlib.gridspec as gridspec\n",
    "import numpy as np\n",
    "import pandas as pd\n",
    "from lotr import A_FISH, LotrExperiment\n",
    "from lotr.notebook_utils import print_source\n",
    "from lotr.pca import pca_and_phase\n",
    "from lotr.plotting import (\n",
    "    COLS,\n",
    "    add_cbar,\n",
    "    add_scalebar,\n",
    "    boxplot,\n",
    "    color_stack,\n",
    "    dark_col,\n",
    "    despine,\n",
    "    get_circle_xy,\n",
    ")\n",
    "from lotr.rpca_calculation import get_zero_mean_weights, reorient_pcs\n",
    "from matplotlib import pyplot as plt\n",
    "from scipy.optimize import curve_fit"
   ]
  },
  {
   "cell_type": "code",
   "execution_count": null,
   "id": "18eedb84-ce78-4f9c-a52a-451c2180cc70",
   "metadata": {},
   "outputs": [],
   "source": [
    "exp = LotrExperiment(A_FISH)\n",
    "rois = exp.rois_stack"
   ]
  },
  {
   "cell_type": "code",
   "execution_count": null,
   "id": "b9502aac-ff68-4068-8131-6da91eb6a021",
   "metadata": {},
   "outputs": [],
   "source": [
    "exp.pa_extent_um"
   ]
  },
  {
   "cell_type": "code",
   "execution_count": null,
   "id": "928d97f2-bb28-4e30-90dd-8ba8386544b0",
   "metadata": {},
   "outputs": [],
   "source": [
    "plt.figure()\n",
    "plt.imshow(exp.rois_stack.max(0), origin=\"lower\", extent=exp.plane_ext_um)\n",
    "plt.scatter(exp.coords_um[:, 1], exp.coords_um[:, 2])"
   ]
  },
  {
   "cell_type": "code",
   "execution_count": null,
   "id": "49b899d6-51cb-4616-b892-7a19acc3d015",
   "metadata": {},
   "outputs": [],
   "source": [
    "plt.imshow(exp.rois_stack.max(0), aspect=\"auto\", origin=\"lower\")\n",
    "plt.scatter(exp.coords[:, 1], exp.coords[:, 2])"
   ]
  },
  {
   "cell_type": "code",
   "execution_count": null,
   "id": "20ed3368-4b87-4fa4-8d31-abe443e10e18",
   "metadata": {},
   "outputs": [],
   "source": [
    "axis = 0\n",
    "ext_list = []\n",
    "for i in range(3):\n",
    "    print(i)\n",
    "    if i != axis:\n",
    "        shape, res = exp.rois_stack.shape[i], exp.voxel_size_um[i]\n",
    "        print(res)\n",
    "        ext_list.extend([0, shape * res])\n",
    "\n",
    "ext_list"
   ]
  },
  {
   "cell_type": "code",
   "execution_count": null,
   "id": "e4829353-14bf-426e-ab96-6b284543f58a",
   "metadata": {},
   "outputs": [],
   "source": []
  }
 ],
 "metadata": {
  "kernelspec": {
   "display_name": "rplab",
   "language": "python",
   "name": "rplab"
  },
  "language_info": {
   "codemirror_mode": {
    "name": "ipython",
    "version": 3
   },
   "file_extension": ".py",
   "mimetype": "text/x-python",
   "name": "python",
   "nbconvert_exporter": "python",
   "pygments_lexer": "ipython3"
  }
 },
 "nbformat": 4,
 "nbformat_minor": 5
}

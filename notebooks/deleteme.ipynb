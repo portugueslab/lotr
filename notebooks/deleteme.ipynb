{
 "cells": [
  {
   "cell_type": "code",
   "execution_count": null,
   "id": "5c9edfc0-4f26-473d-8742-82c87a95af3c",
   "metadata": {},
   "outputs": [],
   "source": [
    "%matplotlib widget\n",
    "from pathlib import Path\n",
    "from shutil import copy\n",
    "\n",
    "import flammkuchen as fl\n",
    "import numpy as np\n",
    "import pandas as pd\n",
    "from lotr import LotrExperiment, dataset_folders\n",
    "from matplotlib import pyplot as plt\n",
    "from tqdm import tqdm"
   ]
  },
  {
   "cell_type": "code",
   "execution_count": null,
   "id": "4a22deed-323e-4eb2-b01b-9e15f89d0d27",
   "metadata": {},
   "outputs": [],
   "source": [
    "coords_loc = Path(\"/Volumes/Shared/experiments/E0071_lotr/full_ring/\")"
   ]
  },
  {
   "cell_type": "code",
   "execution_count": null,
   "id": "93d5c45e-2f97-437c-9c77-ccbf2563edf1",
   "metadata": {},
   "outputs": [],
   "source": [
    "coords_loc.exists()"
   ]
  },
  {
   "cell_type": "code",
   "execution_count": null,
   "id": "0419e30c-6180-47d0-a893-749c745e2874",
   "metadata": {},
   "outputs": [],
   "source": [
    "for path in tqdm(dataset_folders[-4:]):\n",
    "    src = coords_loc / path.parent.name / path.name / \"transformaed_coords.h5\"\n",
    "    copy(src, path)"
   ]
  },
  {
   "cell_type": "code",
   "execution_count": null,
   "id": "399cf0c0-641c-4fc1-a559-5c88fc0dc8c1",
   "metadata": {},
   "outputs": [],
   "source": [
    "path = dataset_folders[0]\n",
    "exp = LotrExperiment(path)"
   ]
  },
  {
   "cell_type": "code",
   "execution_count": null,
   "id": "e16933b3-4ef3-4ab9-ac33-edd5d60c431b",
   "metadata": {},
   "outputs": [],
   "source": [
    "coords_df = []\n",
    "for path in tqdm(dataset_folders):\n",
    "    exp = LotrExperiment(path)\n",
    "    coords = exp.coords_um\n",
    "    cent_coords = coords - np.mean(coords, 0)\n",
    "    try:\n",
    "        morph_coords = exp.morphed_coords\n",
    "    except OSError:\n",
    "        morph_coords = np.full(coords.shape, np.nan)\n",
    "    data_dict = {f\"raw{i}\": coords[:, i] for i in range(3)}\n",
    "    data_dict.update({f\"morphed{i}\": morph_coords[:, i] for i in range(3)})\n",
    "    data_dict.update({f\"centered{i}\": cent_coords[:, i] for i in range(3)})\n",
    "    data_dict[\"fid\"] = path.name\n",
    "\n",
    "    coords_df.append(pd.DataFrame(data_dict))\n",
    "\n",
    "coords_df = pd.concat(coords_df, ignore_index=1)"
   ]
  },
  {
   "cell_type": "code",
   "execution_count": null,
   "id": "6a89fd37-dabd-4603-adf3-da485f94082f",
   "metadata": {},
   "outputs": [],
   "source": [
    "valid_coords_df = coords_df[~np.isnan(coords_df[\"morphed0\"])]"
   ]
  },
  {
   "cell_type": "code",
   "execution_count": null,
   "id": "b4fbbb87-4a73-404d-b547-aab288dc603a",
   "metadata": {},
   "outputs": [],
   "source": [
    "f, axs = plt.subplots(1, 3, figsize=(7, 3))\n",
    "for i, k in enumerate([\"raw\", \"morphed\", \"centered\"]):\n",
    "    axs[i].scatter(\n",
    "        valid_coords_df[k + \"1\"],\n",
    "        -valid_coords_df[k + \"0\"],\n",
    "        lw=0,\n",
    "        s=5,\n",
    "        alpha=0.03,\n",
    "        color=(0.3,) * 3,\n",
    "    )\n",
    "    axs[i].set_title(k)\n",
    "    axs[i].axis(\"equal\")\n",
    "    axs[i].axis(\"off\")"
   ]
  },
  {
   "cell_type": "code",
   "execution_count": null,
   "id": "bb13f411-169c-4c30-a159-a6d497ce200f",
   "metadata": {},
   "outputs": [],
   "source": []
  }
 ],
 "metadata": {
  "kernelspec": {
   "display_name": "rplab",
   "language": "python",
   "name": "rplab"
  },
  "language_info": {
   "codemirror_mode": {
    "name": "ipython",
    "version": 3
   },
   "file_extension": ".py",
   "mimetype": "text/x-python",
   "name": "python",
   "nbconvert_exporter": "python",
   "pygments_lexer": "ipython3"
  }
 },
 "nbformat": 4,
 "nbformat_minor": 5
}

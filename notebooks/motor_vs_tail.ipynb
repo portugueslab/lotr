{
 "cells": [
  {
   "cell_type": "code",
   "execution_count": null,
   "id": "2618c92c",
   "metadata": {},
   "outputs": [],
   "source": [
    "%matplotlib widget\n",
    "from pathlib import Path\n",
    "import numpy as np\n",
    "import pandas as pd\n",
    "from tqdm import tqdm\n",
    "from matplotlib import pyplot as plt\n",
    "from matplotlib import gridspec\n",
    "# import matplotlib.gridspec as gridspec\n",
    "# from scipy.optimize import curve_fit\n",
    "\n",
    "from lotr import LotrExperiment, DATASET_LOCATION\n",
    "\n",
    "from lotr.plotting import despine, add_scalebar, get_circle_xy, color_stack, add_cbar, dark_col\n",
    "from lotr.pca import pca_and_phase, fit_phase_neurons\n",
    "from lotr.rpca_calculation import get_normalized_coords, reorient_pcs, match_rpc_and_neuron_phases\n",
    "from lotr.utils import reduce_to_pi\n",
    "from lotr.pca import fictive_heading_and_fit \n",
    "from lotr.utils import zscore, get_vect_angle\n",
    "\n",
    "from itertools import product\n",
    "def match_rpc_and_neuron_phases(rpc_phases, neuron_phases):\n",
    "    \"\"\"Function to match phase fit from neuron's best activation\n",
    "    over network trajectory to neuron phase in rPC.\n",
    "\n",
    "    Parameters\n",
    "    ----------\n",
    "    rpc_phases\n",
    "    neuron_phases\n",
    "\n",
    "    Returns\n",
    "    -------\n",
    "\n",
    "    \"\"\"\n",
    "    shifts = np.arange(-np.pi, np.pi, 0.1)\n",
    "    coefs = [-1, 1]# np.arange(-2, 2, 0.2)\n",
    "    params_list = list(product(coefs, shifts))\n",
    "    residuals = np.zeros(len(params_list))\n",
    "    for i, (coef, shift) in enumerate(params_list):\n",
    "        new_phases = reduce_to_pi(neuron_phases * coef + shift)\n",
    "        residuals[i] = np.sum(np.abs(new_phases - rpc_phases))\n",
    "\n",
    "    return params_list[np.argmin(residuals)]"
   ]
  },
  {
   "cell_type": "code",
   "execution_count": null,
   "id": "407fb332",
   "metadata": {},
   "outputs": [],
   "source": [
    "# List all experiments\n",
    "master_path = Path(DATASET_LOCATION)\n",
    "file_list = sorted([f.parent for f in master_path.glob(\"*/*[0-9]_f*_gainmod/selected.h5\")])"
   ]
  },
  {
   "cell_type": "code",
   "execution_count": null,
   "id": "edc4098a",
   "metadata": {},
   "outputs": [],
   "source": [
    "path = master_path / \"210924_f1\" / \"210924_f1_gainmod\"\n",
    "exp=LotrExperiment(path)\n",
    "from bouter.utilities import predictive_tail_fill\n",
    "\n",
    "beh_df = exp.behavior_log\n",
    "theta_mat = beh_df.loc[:, [f\"theta_0{i}\" for i in range(9)]].values\n",
    "beh_df.loc[:, [f\"theta_0{i}\" for i in range(9)]] = predictive_tail_fill(\n",
    "    theta_mat\n",
    ")\n",
    "\n",
    "beh_df[\"tail_sum\"] = (beh_df[\"theta_07\"] + beh_df[\"theta_08\"]) - (\n",
    "    beh_df[\"theta_00\"] + beh_df[\"theta_01\"]\n",
    ")\n",
    "\n",
    "bouts_df = exp.bouts_df\n",
    "\n",
    "traces = exp.traces[:, exp.hdn_indexes]\n",
    "\n",
    "# Compute PCA in population dim\n",
    "pcaed, phase, pca, circle_params = pca_and_phase(traces)\n",
    "\n",
    "# Compute preferred phase of each neuron:\n",
    "neuron_phases, _ = fit_phase_neurons(traces, phase, disable_bar=True)\n",
    "\n",
    "# Compute PCA in time, fit circle and center projections:\n",
    "pcaed_t, phase_t, pca_t, circle_params_t = pca_and_phase(traces.T)\n",
    "cpc_scores = pcaed_t[:, :2] - circle_params_t[:2]\n",
    "\n",
    "coords = exp.coords[exp.hdn_indexes, :]\n",
    "w_coords = get_normalized_coords(coords)\n",
    "\n",
    "# rotate pcs:\n",
    "rpc_scores = reorient_pcs(cpc_scores, w_coords)\n",
    "\n",
    "# We can now calculate a phase for each neuron from their position in this rotated space:\n",
    "rpc_phases = np.angle(rpc_scores[:, 0] + 1j * rpc_scores[:, 1])\n",
    "\n",
    "min_params = match_rpc_and_neuron_phases(rpc_phases, neuron_phases)\n",
    "\n",
    "fict_head, params = fictive_heading_and_fit(np.unwrap(phase), bouts_df, fn=5, min_bias=0.05)\n",
    "\n",
    "norm_activity = get_normalized_coords(traces.T).T\n",
    "avg_vects = np.einsum(\"ij,ik->jk\", norm_activity.T, rpc_scores[:, :2])\n",
    "\n",
    "angles = get_vect_angle(avg_vects.T) #[:, 0], pcaed_t[:, 1]"
   ]
  },
  {
   "cell_type": "code",
   "execution_count": null,
   "id": "a7d75100",
   "metadata": {},
   "outputs": [],
   "source": [
    "def load_and_plot(exp):\n",
    "    # bad = [28, 26, 14, 2, 6, 19, 23, 25]\n",
    "\n",
    "    #plt.figure()\n",
    "    #plt.scatter(reduce_to_pi(min_params[0]*rpc_phases + min_params[1]), neuron_phases)\n",
    "    print(np.sum(np.abs(reduce_to_pi(min_params[0]*rpc_phases + min_params[1])-neuron_phases)),\n",
    "         min_params)\n",
    "    \n",
    "    fig = plt.figure(figsize=(8, 8))\n",
    "    gs = gridspec.GridSpec(4, 2, figure=fig)\n",
    "    \n",
    "    beh_plot = fig.add_subplot(gs[0, :])\n",
    "    beh_plot.plot(exp.behavior_log.t.values[::3], exp.behavior_log.tail_sum.values[::3])\n",
    "    beh_plot.set_xlim(0, exp.behavior_log.t.values[-1])\n",
    "    beh_traces = fig.add_subplot(gs[1, :], sharex=beh_plot)\n",
    "    beh_traces.imshow(traces[::4, np.argsort(rpc_phases)].T, extent=(0, exp.behavior_log.t.values[-1],\n",
    "                                                                  0, len(rpc_phases)), \n",
    "                      aspect=\"auto\", cmap=\"gray_r\")\n",
    "    \n",
    "    ax_plot = fig.add_subplot(gs[2, :], sharex=beh_plot)\n",
    "    axs_phase = fig.add_subplot(gs[3, 0])\n",
    "    axs_circle = fig.add_subplot(gs[3, 1])\n",
    "    \n",
    "    axs_circle.scatter(rpc_scores[:, 0], rpc_scores[:, 1], c=neuron_phases, cmap=\"twilight\")\n",
    "    axs_circle.axis(\"equal\")\n",
    "    axs_phase.scatter(pcaed[:, 0], pcaed[:, 1], c=angles, cmap=\"twilight\", s=8)\n",
    "    axs_phase.axis(\"equal\")\n",
    "    \n",
    "    x = np.arange(len(phase)) / exp.fn\n",
    "    ax_plot.plot(x, -zscore(np.unwrap(phase)))\n",
    "    ax_plot.plot(x, zscore(fict_head))\n",
    "    ax_plot.plot(x, -zscore(np.unwrap(angles)))\n",
    "    title = f\"{path.name}, {min_params[0]}\"\n",
    "\n",
    "    plt.suptitle(title)"
   ]
  },
  {
   "cell_type": "code",
   "execution_count": null,
   "id": "dc296a9e",
   "metadata": {},
   "outputs": [],
   "source": [
    "# path = master_path / \"210314_f1\" / \"210314_f1_natmov\"# \"210926_f0\" / \"210926_f0_gainmod\" \n",
    "# for i, path in enumerate(tqdm(file_list)):\n",
    "load_and_plot(exp)"
   ]
  },
  {
   "cell_type": "code",
   "execution_count": null,
   "id": "9f71793d",
   "metadata": {},
   "outputs": [],
   "source": [
    "bouts_df = exp.bouts_df\n",
    "regr_df = exp.motor_regressors\n",
    "\n",
    "THR_R = 0.3\n",
    "THR_L = 0.5\n",
    "\n",
    "OFF = 0.\n",
    "directions = \"lf\", \"rt\"\n",
    "bout_sel = dict(rt=(regr_df[\"right_1\"] > (regr_df[\"left_1\"] + OFF)) & (regr_df[\"right_1\"] > THR_R),\n",
    "                lf=(regr_df[\"left_1\"] > (regr_df[\"right_1\"] + OFF))  & (regr_df[\"left_1\"] > THR_L))"
   ]
  },
  {
   "cell_type": "code",
   "execution_count": null,
   "id": "7753a931",
   "metadata": {},
   "outputs": [],
   "source": [
    "f, axs = plt.subplots(1,2, figsize=(6, 3))\n",
    "s = 15\n",
    "for i, coords in enumerate([[regr_df[\"right_1\"], regr_df[\"left_1\"]],\n",
    "                           [exp.coords[:, 1], exp.coords[:, 2]]]):\n",
    "    axs[i].scatter(coords[0], coords[1], c=(0.8,)*3, s=s)\n",
    "    axs[i].scatter(coords[0][exp.hdn_indexes], coords[1][exp.hdn_indexes], fc=(0.8,)*3, ec=(0.3,)*3,\n",
    "                  lw=0.5, s=s, label=\"HDNs\")\n",
    "\n",
    "    for k, sel in bout_sel.items():\n",
    "        axs[i].scatter(coords[0][sel], coords[1][sel], s=s, label=k + \"_sel\")\n",
    "    axs[i].axis(\"equal\")\n",
    "\n",
    "\n",
    "axs[0].plot([0, 0.5], [0, 0.5], \"k\", lw=0.5)\n",
    "axs[0].legend(frameon=False, fontsize=7)\n",
    "axs[0].set(xlabel=\"Left bouts corr.\", ylabel=\"Right bouts corr.\")\n",
    "axs[1].axis(\"off\")\n",
    "plt.tight_layout()"
   ]
  },
  {
   "cell_type": "code",
   "execution_count": null,
   "id": "b0b2d8c2",
   "metadata": {},
   "outputs": [],
   "source": [
    "f, axs = plt.subplots(1, 1, figsize=(8, 2.5))\n",
    "x = np.arange(exp.n_pts) / exp.fn\n",
    "\n",
    "plt.plot(x, exp.traces[:, bout_sel[\"lf\"]], c=\"b\")\n",
    "plt.plot(x, exp.traces[:, bout_sel[\"rt\"]], c=\"r\")\n",
    "plt.plot(x, exp.traces[:, bout_sel[\"rt\"]], c=\"r\")\n",
    "plt.plot(x, np.unwrap(phase))\n",
    "plt.plot(exp.behavior_log.t.values[::3], exp.behavior_log.tail_sum.values[::3])"
   ]
  },
  {
   "cell_type": "code",
   "execution_count": null,
   "id": "782a9214",
   "metadata": {},
   "outputs": [],
   "source": [
    "head"
   ]
  },
  {
   "cell_type": "code",
   "execution_count": null,
   "id": "2dc922fa",
   "metadata": {},
   "outputs": [],
   "source": [
    "f, axs = plt.subplots(2, 1, figsize=(8, 6), sharex=True)\n",
    "\n",
    "for i, k in enumerate([\"rt\", \"lf\"]):\n",
    "    axs[i].plot(x, exp.traces[:, bout_sel[k]])\n",
    "    axs[i].plot(x[1:], np.diff(np.unwrap(phase))*50 - 5, c=(0.3,)*3)\n",
    "    # axs[i].axhline(5, lw=0.4)\n",
    "    axs[i].plot(x[1:], np.diff(fict_head) - 5, lw=0.5, c=\"r\")\n",
    "    \n",
    "    axs[i].plot(exp.behavior_log.t.values, exp.behavior_log.tail_sum.values + 5, c=(0.6,)*3)"
   ]
  },
  {
   "cell_type": "code",
   "execution_count": null,
   "id": "1553873d",
   "metadata": {},
   "outputs": [],
   "source": [
    "zscored_traces = exp.traces.copy()"
   ]
  },
  {
   "cell_type": "code",
   "execution_count": null,
   "id": "b6c64254",
   "metadata": {},
   "outputs": [],
   "source": [
    "zscored_traces = (zscored_traces - np.nanmean(zscored_traces, 0)) / np.nanstd(zscored_traces, 0)"
   ]
  },
  {
   "cell_type": "code",
   "execution_count": null,
   "id": "f3c73649",
   "metadata": {},
   "outputs": [],
   "source": [
    "diff_dir = zscored_traces[:, bout_sel[\"rt\"]].mean(1) - zscored_traces[:, bout_sel[\"lf\"]].mean(1)"
   ]
  },
  {
   "cell_type": "code",
   "execution_count": null,
   "id": "4a2f4c74",
   "metadata": {},
   "outputs": [],
   "source": [
    "from lotr.utils import pearson_regressors"
   ]
  },
  {
   "cell_type": "code",
   "execution_count": null,
   "id": "e2127a79",
   "metadata": {},
   "outputs": [],
   "source": []
  },
  {
   "cell_type": "code",
   "execution_count": null,
   "id": "dcdaacf0",
   "metadata": {},
   "outputs": [],
   "source": [
    "def sigmoid(x, t=1, amp=2):\n",
    "    return amp*(1 / (1 + np.exp(-t*x)) - 0.5)\n",
    "\n",
    "regressors = np.zeros((exp.n_pts, 1))\n",
    "\n",
    "regressors[1:, 0] = np.diff(np.unwrap(phase))\n",
    "\n",
    "reg_coefs = pearson_regressors(zscored_traces, regressors)\n",
    "reg_sorted_idxs = np.argsort(reg_coefs[0, :])\n",
    "n_best = 10\n",
    "neg = zscored_traces[:, reg_sorted_idxs[:n_best]].mean(1)\n",
    "pos = zscored_traces[:, reg_sorted_idxs[-n_best:]].mean(1)\n",
    "neg[neg < -20] = 0\n",
    "pos[pos < -20] = 0\n",
    "regr_based_diff = pos - neg# *0.5\n",
    "# regr_based_diff["
   ]
  },
  {
   "cell_type": "code",
   "execution_count": null,
   "id": "a88161b1",
   "metadata": {},
   "outputs": [],
   "source": [
    "tinkered_head = np.diff(fict_head)\n",
    "tinkered_head[tinkered_head < 0] = tinkered_head[tinkered_head < 0]*0.2\n",
    "tinkered_head = np.cumsum(tinkered_head)\n",
    "\n",
    "f, axs = plt.subplots(2, 1, figsize=(8, 9))\n",
    "\n",
    "t_arr = np.arange(exp.n_pts) / exp.fn\n",
    "\n",
    "\n",
    "axs[0].plot(t_arr, pos, label=\"best on lf.reg.\")\n",
    "axs[0].plot(t_arr, neg, label=\"best on rt.reg\")\n",
    "axs[0].plot(t_arr, regr_based_diff-5, label=\"motor ROIs. diff\")\n",
    "axs[0].plot(exp.behavior_log.t.values, exp.behavior_log.tail_sum.values + 10, c=(0.6,)*3, label=\"tail sum\")\n",
    "axs[0].plot(t_arr[1:], zscore(np.diff(np.unwrap(phase)))-10, label=\"d(phase)/dt\")\n",
    "\n",
    "axs[0].legend(frameon=False)\n",
    "add_scalebar(axs[0], xunits=\"s\", ylen=0, ylabel=\"\", xpos=1000)\n",
    "\n",
    "axs[1].plot(1, 1, label=\"_nolegend_\")\n",
    "axs[1].plot(1, 1, label=\"_nolegend_\")\n",
    "axs[1].plot(t_arr, zscore(np.cumsum(regr_based_diff)), label=\"motor ROIs. diff\")\n",
    "axs[1].plot(t_arr[1:], zscore(tinkered_head), c=(0.6,)*3, label=\"fictive head.\")\n",
    "axs[1].plot(t_arr, zscore(np.unwrap(phase)), label=\"phase\")\n",
    "\n",
    "axs[1].legend(frameon=False)\n",
    "add_scalebar(axs[1], xunits=\"s\", ylen=0, ylabel=\"\", xpos=1000)"
   ]
  },
  {
   "cell_type": "code",
   "execution_count": null,
   "id": "50b87b25",
   "metadata": {},
   "outputs": [],
   "source": [
    "tinkered_head = np.diff(fict_head)\n",
    "tinkered_head[tinkered_head < 0] = tinkered_head[tinkered_head < 0]*0.2\n",
    "tinkered_head = np.cumsum(tinkered_head)\n",
    "\n",
    "f, axs = plt.subplots(2, 1, figsize=(8, 5))\n",
    "\n",
    "t_arr = np.arange(exp.n_pts) / exp.fn\n",
    "\n",
    "axs[0].plot(t_arr, zscore(fict_head), c=(0.6,)*3, label=\"fictive head.\")\n",
    "axs[0].plot(t_arr, zscore(np.unwrap(phase)), label=\"phase\")\n",
    "despine(axs[0], \"all\")\n",
    "axs[0].set(xlim=(0, 2500), title=\"equal l/r bias\")\n",
    "\n",
    "axs[1].plot(t_arr[1:], zscore(tinkered_head), c=(0.6,)*3, label=\"fictive head.\")\n",
    "axs[1].plot(t_arr, zscore(np.unwrap(phase)), label=\"phase\")\n",
    "axs[1].set(xlim=(0, 2500), title=\"unequal l/r bias\")\n",
    "\n",
    "axs[1].legend(frameon=False)\n",
    "add_scalebar(axs[1], xunits=\"s\", ylen=0, ylabel=\"\", xpos=2000)"
   ]
  },
  {
   "cell_type": "code",
   "execution_count": null,
   "id": "44c29694",
   "metadata": {},
   "outputs": [],
   "source": [
    "f, axs = plt.subplots(2, 1, figsize=(8, 4))\n",
    "\n",
    "axs[0].plot(zscore(np.diff(np.unwrap(phase))))\n",
    "axs[1].plot(zscore((phase)))\n",
    "axs[1].plot(zscore(fict_head))\n",
    "\n",
    "for t in [0.1, 0.5, 1, 2, 3]:\n",
    "\n",
    "    predict = sigmoid(regr_based_diff, t=t)#(regr_based_diff)*np.sqrt(np.abs(regr_based_diff))\n",
    "    axs[0].plot(zscore(predict))\n",
    "\n",
    "    axs[1].plot(zscore(np.cumsum(predict)))\n",
    "# plt.plot(zscored_traces[:, )\n",
    "# plt.plot(zscored_traces[:, np.argsort(reg_coefs[0, :])[-10:]].mean(1))"
   ]
  },
  {
   "cell_type": "code",
   "execution_count": null,
   "id": "3b5f71f9",
   "metadata": {},
   "outputs": [],
   "source": [
    "plt.figure()\n",
    "plt.plot(zscore(np.cumsum(diff_dir)))\n",
    "plt.plot(zscore(np.unwrap(phase)))\n",
    "plt.plot(zscore(fict_head))"
   ]
  },
  {
   "cell_type": "code",
   "execution_count": null,
   "id": "9b7b64aa",
   "metadata": {},
   "outputs": [],
   "source": []
  }
 ],
 "metadata": {
  "kernelspec": {
   "display_name": "rplab",
   "language": "python",
   "name": "rplab"
  },
  "language_info": {
   "codemirror_mode": {
    "name": "ipython",
    "version": 3
   },
   "file_extension": ".py",
   "mimetype": "text/x-python",
   "name": "python",
   "nbconvert_exporter": "python",
   "pygments_lexer": "ipython3"
  }
 },
 "nbformat": 4,
 "nbformat_minor": 5
}

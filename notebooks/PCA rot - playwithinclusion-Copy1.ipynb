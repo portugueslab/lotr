{
 "cells": [
  {
   "cell_type": "code",
   "execution_count": null,
   "metadata": {},
   "outputs": [],
   "source": [
    "%matplotlib widget"
   ]
  },
  {
   "cell_type": "code",
   "execution_count": null,
   "metadata": {},
   "outputs": [],
   "source": [
    "from fimpylab import LightsheetExperiment"
   ]
  },
  {
   "cell_type": "code",
   "execution_count": null,
   "metadata": {},
   "outputs": [],
   "source": [
    "from pathlib import Path\n",
    "import numpy as np\n",
    "from matplotlib import  pyplot as plt\n",
    "import flammkuchen as fl\n",
    "import pandas as pd\n",
    "\n",
    "from fimpylab import autoload_experiment\n",
    "\n",
    "import pandas as pd\n",
    "\n",
    "import seaborn as sns\n",
    "from tqdm import tqdm\n",
    "sns.set(style=\"ticks\", palette=\"deep\")\n",
    "cols = sns.color_palette()\n",
    "\n",
    "plt.rcParams['figure.constrained_layout.use'] = True\n",
    "plt.rcParams['font.family'] = 'sans-serif'\n",
    "plt.rcParams['font.sans-serif'] = ['Libertinus Sans']\n",
    "\n",
    "# %autoreload\n",
    "from lotr.utils import zscore\n",
    "from lotr.data_loading import preprocess_traces\n",
    "from lotr.pca import pca_and_phase, get_fictive_trajectory, fictive_trajectory_and_fit"
   ]
  },
  {
   "cell_type": "code",
   "execution_count": null,
   "metadata": {},
   "outputs": [],
   "source": [
    "plt.close(\"all\")\n",
    "path = Path(\"/Users/luigipetrucco/Desktop/source_data_batch2/210805_f0_clol\")\n",
    "traces = fl.load(path / \"filtered_traces.h5\", \"/detr\")"
   ]
  },
  {
   "cell_type": "code",
   "execution_count": null,
   "metadata": {},
   "outputs": [],
   "source": [
    "df = fl.load(path / \"bouts_df.h5\")# exp.get_bout_properties()\n",
    "\n",
    "sel = (df[\"t_start\"] > 10) & (df[\"t_start\"] < 2020)\n",
    "plt.figure(figsize=(5, 2))\n",
    "plt.hist(df[\"bias\"], 10, density=True, zorder=-100)\n",
    "plt.scatter(df[\"bias\"], df[\"peak_vig\"], 100, c=cols[1])"
   ]
  },
  {
   "cell_type": "markdown",
   "metadata": {},
   "source": [
    "start = 0 #4800\n",
    "end = 7000\n",
    "traces = traces[start:end, :]\n",
    "idx_l = (df.loc[(df[\"bias\"] > 0.2) & (df[\"t_start\"] > 10), \n",
    "                \"t_start\"].values*5 - start).astype(np.int)\n",
    "idx_r = (df.loc[(df[\"bias\"] < -0.2) & (df[\"t_start\"] > 10), \n",
    "                \"t_start\"].values*5 - start).astype(np.int)\n",
    "idx_l = idx_l[(idx_l > 0) & (idx_l < traces.shape[0])]\n",
    "idx_r = idx_r[(idx_r > 0) & (idx_r < traces.shape[0])]\n",
    "bouts_traces = np.zeros(traces.shape[0])\n",
    "bouts_traces[idx_l] = 1\n",
    "bouts_traces[idx_r] = -1"
   ]
  },
  {
   "cell_type": "code",
   "execution_count": null,
   "metadata": {},
   "outputs": [],
   "source": [
    "reg_df = fl.load(path / \"motor_regressors.h5\")\n",
    "cc_motor = reg_df[\"all_bias_abs\"].values\n",
    "cc_motor_integr = reg_df[\"all_bias_abs_dfdt\"].values"
   ]
  },
  {
   "cell_type": "code",
   "execution_count": null,
   "metadata": {},
   "outputs": [],
   "source": [
    "t_lims = (1000, 5100)\n",
    "t_slice = slice(*t_lims)\n",
    "\n",
    "corr_mat = np.corrcoef(traces[t_slice, :].T)\n",
    "n_pairs = 5\n",
    "selected = []\n",
    "incl_cc = []\n",
    "for n in range(n_pairs):\n",
    "    pair = np.unravel_index(np.nanargmin(corr_mat), corr_mat.shape)\n",
    "    selected.extend(pair)\n",
    "    incl_cc.append(corr_mat[pair[0], pair[1]])\n",
    "    for p in pair:\n",
    "        corr_mat[p, :] = np.nan\n",
    "        corr_mat[:, p] = np.nan\n",
    "np.array((selected))\n",
    "\n",
    "corr_mat = np.corrcoef(traces[:, :].T)\n",
    "\n",
    "f = plt.figure(figsize=(3, 3))\n",
    "plt.scatter(cc_motor, cc_motor_integr, s=10, label=\"excluded\")\n",
    "#plt.scatter(cc_motor[selected], cc_motor_integr[selected])\n",
    "x = np.arange(-0.2, cc_motor.max(), 0.05)\n",
    "\n",
    "c = 0.5\n",
    "o = 0.05\n",
    "plt.plot(x, x*c +o, c=(0.3,)*3)\n",
    "selected = np.argwhere(np.min(corr_mat, 0) < -0.6)[:, 0]\n",
    "# selected = fl.load(path / \"selected_cc.h5\")\n",
    "# selected = np.argwhere((cc_motor_integr > 0.1) & (np.abs(cc_motor) < 0.3))[:, 0]\n",
    "#selected = np.argwhere((cc_motor_integr > cc_motor*c + o) & (np.abs(cc_motor) < 0.4))[:, 0]\n",
    "# selected = np.argwhere((cc_motor_integr > cc_motor*c + o))[:, 0]\n",
    "# selected = np.argwhere((np.abs(cc_motor) < 0.1))[:, 0]\n",
    "# selected = np.argwhere((np.min(corr_mat, 0) < -0.5)  & (np.abs(cc_motor) < 0.4))[:, 0]\n",
    "selected = np.argwhere(((cc_motor_integr > cc_motor*c + o) & (np.abs(cc_motor) < 0.8) & \\\n",
    "                        (np.abs(cc_motor_integr)> 0.05)) | \\\n",
    "                      (np.min(corr_mat, 0) < -0.7))[:, 0]\n",
    "#selected = [ 344,  518,  611,  775,  780,  905,  971,  976,  979,  980,  986,\n",
    "#       1067, 1078, 1100, 1112, 1188, 1234]\n",
    "#selected = np.concatenate([selected, np.argmin(corr_mat[selected, :], axis=1)])\n",
    "plt.ylim(-0.3, 0.8)\n",
    "plt.xlim(-0.6, 1)\n",
    "#selected = selected[(np.abs(cc_motor[selected]) < 0.2)]\n",
    "plt.scatter(cc_motor[selected], cc_motor_integr[selected], s=10, label=\"included\")\n",
    "# pcaed, phase = pca_and_phase(traces[2000:8000, selected], traces[:, selected])\n",
    "plt.legend(frameon=False)\n",
    "plt.xlabel(\"cc. traces - motor regressor\")\n",
    "plt.ylabel(\"cc. d(traces)/dt - regressor\")\n",
    "sns.despine()\n",
    "# f.savefig(\"/Users/luigipetrucco/Desktop/regbased_incl.pdf\")"
   ]
  },
  {
   "cell_type": "code",
   "execution_count": null,
   "metadata": {},
   "outputs": [],
   "source": [
    "pcaed_t, phase_t = pca_and_phase(traces[t_slice, selected].T, traces[t_slice, selected].T)\n",
    "\n",
    "plt.figure(figsize=(7, 3))\n",
    "thr = 35\n",
    "sel = (pcaed_t[:, 0]**2+pcaed_t[:, 1]**2)**(1/2) > thr\n",
    "plt.scatter(pcaed_t[:, 0], pcaed_t[:, 1], c=sel)\n",
    "plt.axis(\"equal\")\n",
    "\n",
    "#selected = selected[sel]\n",
    "# pcaed, phase = pca_and_phase(traces[t_slice, selected], traces[:, selected])\n",
    "#pcaed_spont, phase_spont = pca_and_phase(traces[t_slice, selected], traces[t_slice, selected])\n",
    "pcaed, phase = pca_and_phase(traces[t_slice, selected], traces[:, selected])"
   ]
  },
  {
   "cell_type": "code",
   "execution_count": null,
   "metadata": {},
   "outputs": [],
   "source": [
    "plt.figure(figsize=(7, 2.5))\n",
    "plt.plot(traces[:, selected] + 4)\n",
    "plt.plot(mot_reg_base, c=\"k\")\n",
    "print(len(selected))\n",
    "plt.show()"
   ]
  },
  {
   "cell_type": "code",
   "execution_count": null,
   "metadata": {},
   "outputs": [],
   "source": [
    "# plt.close(\"all\")\n",
    "mot_t_slice = slice(5100, 10200)\n",
    "plt.figure(figsize=(7., 3.))\n",
    "plt.subplot(1,2,1)\n",
    "phase = np.angle((pcaed[:, 0]) + 1j * (pcaed[:, 1]))\n",
    "plt.plot(pcaed[t_slice, 0], pcaed[t_slice, 1], \n",
    "         c=(0.6,)*3, lw=0.5, zorder=-100) # , c=phase, cmap=\"twilight\", lw=3)\n",
    "cb = plt.scatter(pcaed[t_slice, 0], pcaed[t_slice, 1], \n",
    "                 c=phase[t_slice], lw=0.5, s=5, cmap=\"twilight\",) \n",
    "plt.xlim(-15, 15)\n",
    "plt.ylim(-15, 15)\n",
    "\n",
    "plt.subplot(1,2,2)\n",
    "phase = np.angle((pcaed[:, 0]) + 1j * (pcaed[:, 1]))\n",
    "plt.plot(pcaed[mot_t_slice, 0], pcaed[mot_t_slice, 1], \n",
    "         c=(0.6,)*3, lw=0.5, zorder=-100) # , c=phase, cmap=\"twilight\", lw=3)\n",
    "cb = plt.scatter(pcaed[mot_t_slice, 0], pcaed[mot_t_slice, 1], \n",
    "                 c=phase[mot_t_slice], lw=0.5, s=5, cmap=\"twilight\",) \n",
    "plt.xlim(-15, 15)\n",
    "plt.ylim(-15, 15)\n",
    "# cbar = add_cbar((0.9, 0.83, 0.02, 0.12), cb, label=\"phase\", ticks=[-np.pi/1.1, np.pi/1.1], \n",
    "#         ticklabels=[\"-π\", \"π\"])\n",
    "sns.despine()"
   ]
  },
  {
   "cell_type": "code",
   "execution_count": null,
   "metadata": {},
   "outputs": [],
   "source": [
    "plt.figure()\n",
    "plt.imshow"
   ]
  },
  {
   "cell_type": "code",
   "execution_count": null,
   "metadata": {},
   "outputs": [],
   "source": [
    "unwrapped_phase = np.unwrap(phase)\n",
    "traj, params = fictive_trajectory_and_fit(unwrapped_phase[t_slice], df, min_bias=0.)\n",
    "print(params)"
   ]
  },
  {
   "cell_type": "code",
   "execution_count": null,
   "metadata": {},
   "outputs": [],
   "source": [
    "np.corrcoef(traj[:5100], unwrapped_phase[:5100])"
   ]
  },
  {
   "cell_type": "code",
   "execution_count": null,
   "metadata": {},
   "outputs": [],
   "source": [
    "plt.figure(figsize=(7, 3))\n",
    "plt.scatter(np.arange(len(traj[:5100])), unwrapped_phase[:5100]*params[1] + params[0], \n",
    "            c=phase[:5100], cmap=\"twilight\", s=1)\n",
    "plt.plot(traj[:5100], c=cols[1])"
   ]
  },
  {
   "cell_type": "code",
   "execution_count": null,
   "metadata": {},
   "outputs": [],
   "source": [
    "fl.save(path / \"selected.h5\", selected)"
   ]
  },
  {
   "cell_type": "code",
   "execution_count": null,
   "metadata": {},
   "outputs": [],
   "source": []
  },
  {
   "cell_type": "code",
   "execution_count": null,
   "metadata": {},
   "outputs": [],
   "source": [
    "from sklearn.decomposition import PCA\n",
    "from circle_fit import hyper_fit\n",
    "comp0, comp1 = 0, 1\n",
    "\n",
    "traces_fit = traces[2000:8000, selected].T\n",
    "traces_transform = traces_fit\n",
    "if traces_transform is None:\n",
    "    traces_transform = traces_fit\n",
    "\n",
    "# Compute PCA and transform traces:\n",
    "pca = PCA(n_components=5).fit(traces_fit)\n",
    "pcaed_t = pca.transform(traces_transform)\n",
    "\n",
    "# Fit circle:\n",
    "hf_c = hyper_fit(pcaed[:, [comp0, comp1]])\n",
    "\n",
    "# Compute phase, after subtracting center of the circle\n",
    "phase_t = np.angle((pcaed_t[:, 0] - hf_c[0]) + 1j * (pcaed_t[:, 1] - hf_c[1]))\n",
    "\n",
    "plt.figure(figsize=(7, 3))\n",
    "plt.scatter(pcaed_t[:, 0], pcaed_t[:, 1], c=phase_t, cmap=\"twilight\")\n",
    "plt.axis(\"equal\")"
   ]
  },
  {
   "cell_type": "code",
   "execution_count": null,
   "metadata": {},
   "outputs": [],
   "source": [
    "# plt.close(\"all\")\n",
    "plot_t_s = 10\n",
    "plot_t_pts = int(plot_t_s * fn)\n",
    "\n",
    "rot_wnd_s = 1\n",
    "rot_wnd_pts = int(rot_wnd_s * fn)\n",
    "\n",
    "f, axs = plt.subplots(1, 3, figsize=(8, 3), sharex=True, sharey=True)\n",
    "# [ax.set_xlabel(\"PC 1\") for ax in axs]\n",
    "# axs[0].set_ylabel(\"PC 2\")\n",
    "\n",
    "cbars = []\n",
    "for x, ax, idx_list, cmap, title in zip(np.arange(3), \n",
    "                                     axs, \n",
    "                                     [idx_l, idx_r, random_trig], \n",
    "                                     [\"Blues\", \"Reds\", \"gray_r\"],\n",
    "                                     [\"Left bouts\", \"Right bouts\", \"Shuffle\"]):   \n",
    "    for l in idx_list[:]:\n",
    "        try:\n",
    "            crop_seg = pcaed[l:l+plot_t_pts, :2]\n",
    "            crop_seg = crop_seg - crop_seg[0, :]\n",
    "            th = np.arctan2(crop_seg[rot_wnd_pts, 0] - crop_seg[0, 0], \n",
    "                            crop_seg[rot_wnd_pts, 1] - crop_seg[0, 1])\n",
    "\n",
    "            rot_mat = np.array([[np.cos(th), np.sin(th)], [-np.sin(th), np.cos(th)]]).T \n",
    "            crop_seg = (rot_mat @ crop_seg[:, :].T).T\n",
    "            ax.plot(crop_seg[::3, 0], crop_seg[::3, 1], c=(0.4,)*3, lw=0.3, zorder=-100)\n",
    "            ax.scatter(crop_seg[::3, 0], crop_seg[::3, 1], c=np.arange(len(crop_seg[::3, 1])), cmap=cmap, s=1)\n",
    "            #cp = color_plot(crop_seg[::3, 0], crop_seg[::3, 1], ax=ax,\n",
    "             #          cmap=cmap, lw=1)\n",
    "        except IndexError:\n",
    "            pass\n",
    "    cbars.append(add_cbar((0.93, 0.8 + 0.026*x, 0.06, 0.023), cp, label=\"time (s)\" if x==2 else \"\", \n",
    "                          ticks=[], orientation=\"horizontal\"))\n",
    "    ax.set_title(title)\n",
    "    # elif x == 1:\n",
    "    # elif x == 2:\n",
    "    ax.axvline(0, lw=0.5, c=(0.4,)*3)\n",
    "    ax.axhline(0, lw=0.5, c=(0.4,)*3)\n",
    "\n",
    "plt.tight_layout()\n",
    "sns.despine()\n",
    "\n",
    "cbars[0].set_ticks([0, 0.95])\n",
    "cbars[0].set_ticklabels([0, plot_t_s])"
   ]
  },
  {
   "cell_type": "code",
   "execution_count": null,
   "metadata": {},
   "outputs": [],
   "source": [
    "plt.close(\"all\")\n",
    "plot_t_s = 8\n",
    "plot_t_pts = int(plot_t_s * fn)\n",
    "\n",
    "f, axs = plt.subplots(1, 3, figsize=(8, 3), sharex=True, sharey=True)\n",
    "[ax.set_xlabel(\"PC 1\") for ax in axs]\n",
    "axs[0].set_ylabel(\"PC 2\")\n",
    "\n",
    "cbars = []\n",
    "for x, ax, idx_list, cmap, title in zip(np.arange(3), \n",
    "                                     axs, \n",
    "                                     [idx_l, idx_r, random_trig], \n",
    "                                     [\"Blues\", \"Reds\", \"gray_r\"],\n",
    "                                     [\"Left bouts\", \"Right bouts\", \"Shuffle\"]):   \n",
    "    for l in idx_list:\n",
    "        try:\n",
    "            crop_seg = pcaed[l:l+plot_t_pts, :2]\n",
    "            # crop_seg = crop_seg - crop_seg[0, :]\n",
    "            #cp = color_plot(crop_seg[::3, 0], crop_seg[::3, 1], ax=ax,\n",
    "            #           cmap=cmap, lw=1)\n",
    "            ax.plot(crop_seg[::3, 0], crop_seg[::3, 1], c=(0.4,)*3, lw=0.3, zorder=-100)\n",
    "            ax.scatter(crop_seg[::3, 0], crop_seg[::3, 1], c=np.arange(len(crop_seg[::3, 1])), cmap=cmap, s=1)\n",
    "            \n",
    "        except (IndexError, ValueError):\n",
    "            pass\n",
    "    cbars.append(add_cbar((0.92, 0.8 + 0.026*x, 0.06, 0.023), cp, label=\"time (s)\" if x==2 else \"\", \n",
    "                          ticks=[], orientation=\"horizontal\"))\n",
    "    ax.set_title(title)\n",
    "    # elif x == 1:\n",
    "    # elif x == 2:\n",
    "        \n",
    "plt.tight_layout()\n",
    "sns.despine()\n",
    "\n",
    "cbars[0].set_ticks([0, 0.8])\n",
    "cbars[0].set_ticklabels([0, plot_t_s])"
   ]
  },
  {
   "cell_type": "code",
   "execution_count": null,
   "metadata": {},
   "outputs": [],
   "source": [
    "path"
   ]
  },
  {
   "cell_type": "code",
   "execution_count": null,
   "metadata": {},
   "outputs": [],
   "source": [
    "fl.save(path / \"selected_new.h5\", selected)"
   ]
  },
  {
   "cell_type": "code",
   "execution_count": null,
   "metadata": {},
   "outputs": [],
   "source": [
    "master_path = Path(\"/Volumes/Shared/experiments/E0040_motions_cardinal_old/v15_playback\")\n",
    "all_list = list(master_path.glob(\"[0-9]*_f[0-9]*\"))\n",
    "all_valid = list(master_path.glob(\"[0-9]*_f[0-9]*/selected.h5\"))\n",
    "print(f\"{len(all_valid)}/{len(all_list)}\")"
   ]
  },
  {
   "cell_type": "code",
   "execution_count": null,
   "metadata": {},
   "outputs": [],
   "source": [
    "plt.close(\"all\")\n",
    "plot_t_s = 8\n",
    "plot_t_pts = int(plot_t_s * fn)\n",
    "\n",
    "f, axs = plt.subplots(1, 3, figsize=(8, 3), sharex=True, sharey=True)\n",
    "[ax.set_xlabel(\"PC 1\") for ax in axs]\n",
    "axs[0].set_ylabel(\"PC 2\")\n",
    "\n",
    "cbars = []\n",
    "for x, ax, idx_list, cmap, title in zip(np.arange(3), \n",
    "                                     axs, \n",
    "                                     [idx_l, idx_r, random_trig], \n",
    "                                     [\"Blues\", \"Reds\", \"gray_r\"],\n",
    "                                     [\"Left bouts\", \"Right bouts\", \"Shuffle\"]):   \n",
    "    for l in idx_list:\n",
    "        try:\n",
    "            crop_seg = pcaed[l:l+plot_t_pts, :2]\n",
    "            # crop_seg = crop_seg - crop_seg[0, :]\n",
    "            cp = color_plot(crop_seg[:, 0], crop_seg[:, 1], ax=ax,\n",
    "                       cmap=cmap, lw=1)\n",
    "        except IndexError:\n",
    "            pass\n",
    "    cbars.append(add_cbar((0.92, 0.8 + 0.026*x, 0.06, 0.023), cp, label=\"time (s)\" if x==2 else \"\", \n",
    "                          ticks=[], orientation=\"horizontal\"))\n",
    "    ax.set_title(title)\n",
    "    # elif x == 1:\n",
    "    # elif x == 2:\n",
    "        \n",
    "plt.tight_layout()\n",
    "sns.despine()\n",
    "\n",
    "cbars[0].set_ticks([0, 0.8])\n",
    "cbars[0].set_ticklabels([0, plot_t_s])"
   ]
  },
  {
   "cell_type": "code",
   "execution_count": null,
   "metadata": {},
   "outputs": [],
   "source": []
  }
 ],
 "metadata": {
  "kernelspec": {
   "display_name": "rplab",
   "language": "python",
   "name": "rplab"
  },
  "language_info": {
   "codemirror_mode": {
    "name": "ipython",
    "version": 3
   },
   "file_extension": ".py",
   "mimetype": "text/x-python",
   "name": "python",
   "nbconvert_exporter": "python",
   "pygments_lexer": "ipython3"
  }
 },
 "nbformat": 4,
 "nbformat_minor": 4
}

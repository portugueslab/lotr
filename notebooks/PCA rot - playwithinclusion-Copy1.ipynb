{
 "cells": [
  {
   "cell_type": "code",
   "execution_count": 1,
   "metadata": {},
   "outputs": [],
   "source": [
    "%matplotlib widget"
   ]
  },
  {
   "cell_type": "code",
   "execution_count": 2,
   "metadata": {},
   "outputs": [],
   "source": [
    "from fimpylab import LightsheetExperiment"
   ]
  },
  {
   "cell_type": "code",
   "execution_count": 3,
   "metadata": {},
   "outputs": [],
   "source": [
    "from pathlib import Path\n",
    "import numpy as np\n",
    "from matplotlib import  pyplot as plt\n",
    "import flammkuchen as fl\n",
    "import pandas as pd\n",
    "\n",
    "from fimpylab import autoload_experiment\n",
    "from circle_fit import hyper_fit\n",
    "\n",
    "\n",
    "\n",
    "import pandas as pd\n",
    "\n",
    "import seaborn as sns\n",
    "from tqdm import tqdm\n",
    "sns.set(style=\"ticks\", palette=\"deep\")\n",
    "cols = sns.color_palette()\n",
    "import ipywidgets as widgets\n",
    "\n",
    "plt.rcParams['figure.constrained_layout.use'] = True\n",
    "plt.rcParams['font.family'] = 'sans-serif'\n",
    "plt.rcParams['font.sans-serif'] = ['Libertinus Sans']\n",
    "\n",
    "# %autoreload\n",
    "from lotr.utils import zscore\n",
    "from lotr.data_loading import preprocess_traces\n",
    "from lotr.pca import pca_and_phase, get_fictive_trajectory, fictive_trajectory_and_fit, fit_phase_neurons\n",
    "\n",
    "import scipy.optimize as soo"
   ]
  },
  {
   "cell_type": "code",
   "execution_count": 118,
   "metadata": {},
   "outputs": [],
   "source": [
    "plt.close(\"all\")\n",
    "path = Path(\"/Users/luigipetrucco/Desktop/hagar_data/210810_f0\")\n",
    "traces = fl.load(path / \"filtered_traces.h5\", \"/detr\")\n",
    "time_slices_dict = dict(clol=(1000, 8000), cwccw=(1000, 5100))\n",
    "t_lims = (1000, 3060)# time_slices_dict[path.name.split(\"_\")[-1]]\n",
    "t_slice = slice(*t_lims)\n",
    "\n",
    "reg_df = fl.load(path / \"motor_regressors.h5\")\n",
    "cc_motor = reg_df[\"all_bias_abs\"].values\n",
    "cc_motor_integr = reg_df[\"all_bias_abs_dfdt\"].values\n",
    "coords = fl.load(path / \"data_from_suite2p_unfiltered.h5\", \"/coords\")\n",
    "anat = fl.load(path / \"data_from_suite2p_unfiltered.h5\", \"/anatomy_stack\")\n",
    "\n",
    "df = fl.load(path / \"bouts_df.h5\")# exp.get_bout_properties()\n",
    "exp = LightsheetExperiment(path)\n",
    "fn = int(exp.fn)\n",
    "beh_df = exp.behavior_log"
   ]
  },
  {
   "cell_type": "code",
   "execution_count": 119,
   "metadata": {},
   "outputs": [
    {
     "data": {
      "text/plain": [
       "3"
      ]
     },
     "execution_count": 119,
     "metadata": {},
     "output_type": "execute_result"
    }
   ],
   "source": [
    "fn"
   ]
  },
  {
   "cell_type": "code",
   "execution_count": 120,
   "metadata": {},
   "outputs": [
    {
     "data": {
      "application/vnd.jupyter.widget-view+json": {
       "model_id": "5f117eef2fc4458392ab3e737ef1e4fb",
       "version_major": 2,
       "version_minor": 0
      },
      "text/plain": [
       "Canvas(toolbar=Toolbar(toolitems=[('Home', 'Reset original view', 'home', 'home'), ('Back', 'Back to previous …"
      ]
     },
     "metadata": {},
     "output_type": "display_data"
    },
    {
     "name": "stderr",
     "output_type": "stream",
     "text": [
      "*c* argument looks like a single numeric RGB or RGBA sequence, which should be avoided as value-mapping will have precedence in case its length matches with *x* & *y*.  Please use the *color* keyword-argument or provide a 2D array with a single row if you intend to specify the same RGB or RGBA value for all points.\n"
     ]
    },
    {
     "data": {
      "text/plain": [
       "<matplotlib.collections.PathCollection at 0x7fd3880b4190>"
      ]
     },
     "execution_count": 120,
     "metadata": {},
     "output_type": "execute_result"
    }
   ],
   "source": [
    "sel = (df[\"t_start\"] > 10) & (df[\"t_start\"] < 2020)\n",
    "plt.figure(figsize=(5, 2))\n",
    "plt.hist(df[\"bias\"], 10, density=True, zorder=-100)\n",
    "plt.scatter(df[\"bias\"], df[\"peak_vig\"], 100, c=cols[1])"
   ]
  },
  {
   "cell_type": "code",
   "execution_count": 121,
   "metadata": {},
   "outputs": [
    {
     "data": {
      "application/vnd.jupyter.widget-view+json": {
       "model_id": "4e744fcc310b44e5982a2fe046760b2a",
       "version_major": 2,
       "version_minor": 0
      },
      "text/plain": [
       "Canvas(toolbar=Toolbar(toolitems=[('Home', 'Reset original view', 'home', 'home'), ('Back', 'Back to previous …"
      ]
     },
     "metadata": {},
     "output_type": "display_data"
    },
    {
     "data": {
      "text/plain": [
       "<matplotlib.lines.Line2D at 0x7fd388438af0>"
      ]
     },
     "execution_count": 121,
     "metadata": {},
     "output_type": "execute_result"
    }
   ],
   "source": [
    "plt.figure(figsize=(3, 3))\n",
    "plt.imshow(np.nanmean(anat, 0), vmax=10, vmin=0)\n",
    "#plt.scatter(coords[:, 1], coords[:, 2], c=(0.9,)*3)\n",
    "s1 = 120\n",
    "s2 = 250\n",
    "plt.axvline(s1)\n",
    "plt.axvline(s2)"
   ]
  },
  {
   "cell_type": "code",
   "execution_count": 122,
   "metadata": {},
   "outputs": [],
   "source": [
    "sel_to_nan = (coords[:, 2] < s1) | (coords[:, 2] > s2)\n",
    "traces[:, sel_to_nan] = 0\n",
    "cc_motor[sel_to_nan] = np.nan\n",
    "cc_motor_integr[sel_to_nan] = np.nan"
   ]
  },
  {
   "cell_type": "code",
   "execution_count": 123,
   "metadata": {},
   "outputs": [
    {
     "name": "stderr",
     "output_type": "stream",
     "text": [
      "/Users/luigipetrucco/anaconda3/envs/rplab/lib/python3.8/site-packages/numpy/lib/function_base.py:2559: RuntimeWarning: invalid value encountered in true_divide\n",
      "  c /= stddev[:, None]\n",
      "/Users/luigipetrucco/anaconda3/envs/rplab/lib/python3.8/site-packages/numpy/lib/function_base.py:2560: RuntimeWarning: invalid value encountered in true_divide\n",
      "  c /= stddev[None, :]\n"
     ]
    }
   ],
   "source": [
    "corr_mat = np.corrcoef(traces[t_slice, :].T)\n",
    "n_pairs = 80\n",
    "selected = []\n",
    "incl_cc = []\n",
    "for n in range(n_pairs):\n",
    "    pair = np.unravel_index(np.nanargmin(corr_mat), corr_mat.shape)\n",
    "    selected.extend(pair)\n",
    "    incl_cc.append(corr_mat[pair[0], pair[1]])\n",
    "    for p in pair:\n",
    "        corr_mat[p, :] = np.nan\n",
    "        corr_mat[:, p] = np.nan\n",
    "selected = np.array((selected))"
   ]
  },
  {
   "cell_type": "code",
   "execution_count": 124,
   "metadata": {},
   "outputs": [
    {
     "data": {
      "application/vnd.jupyter.widget-view+json": {
       "model_id": "f3754db52f574301bdeedb830d17e7f8",
       "version_major": 2,
       "version_minor": 0
      },
      "text/plain": [
       "Canvas(toolbar=Toolbar(toolitems=[('Home', 'Reset original view', 'home', 'home'), ('Back', 'Back to previous …"
      ]
     },
     "metadata": {},
     "output_type": "display_data"
    },
    {
     "data": {
      "application/vnd.jupyter.widget-view+json": {
       "model_id": "5b36ebeebfc74975acd2d809db6fb21a",
       "version_major": 2,
       "version_minor": 0
      },
      "text/plain": [
       "interactive(children=(FloatSlider(value=0.75, description='o', max=1.0, min=-0.5, step=0.02), FloatSlider(valu…"
      ]
     },
     "metadata": {},
     "output_type": "display_data"
    }
   ],
   "source": [
    "corr_mat = np.corrcoef(traces[t_slice, :].T)\n",
    "selection_arr = np.zeros(traces.shape[1])\n",
    "\n",
    "f = plt.figure(figsize=(3, 3))\n",
    "x = np.arange(-0.2, np.nanmax(cc_motor), 0.05)\n",
    "s = plt.scatter(cc_motor, cc_motor_integr, s=10, c=selection_arr, vmin=0, vmax=1)\n",
    "\n",
    "l_plot = plt.plot(x, x*0.2 + 0.15)\n",
    "l_max = plt.axvline(1)\n",
    "l_min = plt.axhline(0)\n",
    "\n",
    "@widgets.interact(c=(0.05, 2, 0.05), o=(-0.5, 1, 0.02), mot_max=(0, 1, 0.05),\n",
    "                 integr_min=(0, 1, 0.02), max_corr=(-1, 0, 0.05))\n",
    "def update(o=0.75, c=0.2, mot_max=1, integr_min=0, max_corr=-0.7):\n",
    "    l_plot[0].set_data(x, x*c + o)\n",
    "    print(cc_motor_integr.shape, cc_motor.shape, (cc_motor*c + o).shape)\n",
    "    selection_arr[:] = (cc_motor_integr > cc_motor*c + o) & \\\n",
    "                       (np.abs(cc_motor) < mot_max) & \\\n",
    "                       (np.abs(cc_motor_integr)> integr_min) | \\\n",
    "                       ((np.nanmin(corr_mat, 0) < max_corr) & \\\n",
    "                        (np.abs(cc_motor) < mot_max) & \\\n",
    "                        (np.abs(cc_motor_integr) > integr_min)) \n",
    "    l_max.set_xdata(mot_max)\n",
    "    l_min.set_ydata(integr_min)\n",
    "\n",
    "    \n",
    "    s.set_array(selection_arr)\n",
    "\n",
    "plt.ylim(-0.15, 0.4)\n",
    "plt.xlim(-0.3, 1.01)\n",
    "plt.xlabel(\"cc. traces - motor regressor\")\n",
    "plt.ylabel(\"cc. d(traces)/dt - regressor\")\n",
    "sns.despine()"
   ]
  },
  {
   "cell_type": "code",
   "execution_count": 137,
   "metadata": {},
   "outputs": [],
   "source": [
    "selected = np.argwhere(selection_arr)[:, 0]"
   ]
  },
  {
   "cell_type": "code",
   "execution_count": 138,
   "metadata": {},
   "outputs": [
    {
     "data": {
      "application/vnd.jupyter.widget-view+json": {
       "model_id": "c6ade365f4874c9aad43b7e507e0a5fc",
       "version_major": 2,
       "version_minor": 0
      },
      "text/plain": [
       "Canvas(toolbar=Toolbar(toolitems=[('Home', 'Reset original view', 'home', 'home'), ('Back', 'Back to previous …"
      ]
     },
     "metadata": {},
     "output_type": "display_data"
    },
    {
     "data": {
      "text/plain": [
       "[<matplotlib.lines.Line2D at 0x7fd38ea850a0>]"
      ]
     },
     "execution_count": 138,
     "metadata": {},
     "output_type": "execute_result"
    }
   ],
   "source": [
    "#selected = fl.load(path / \"selected.h5\")\n",
    "\n",
    "pcaed_t, phase_t = pca_and_phase(traces[t_slice, selected].T, traces[t_slice, selected].T)\n",
    "hf_c = hyper_fit(pcaed_t)\n",
    "pcaed_t_all, _ = pca_and_phase(traces[t_slice, selected].T, traces[t_slice, :].T)\n",
    "\n",
    "\n",
    "plt.figure(figsize=(7, 3))\n",
    "thr = 35\n",
    "sel = (pcaed_t[:, 0]**2+pcaed_t[:, 1]**2)**(1/2) > thr\n",
    "plt.scatter(pcaed_t_all[selected, 0], pcaed_t_all[selected, 1])\n",
    "plt.scatter(pcaed_t_all[:, 0], pcaed_t_all[:, 1], edgecolor=\"k\", facecolor=\"none\", lw=0.2)\n",
    "plt.axis(\"equal\")\n",
    "\n",
    "#selected = selected[sel]\n",
    "# pcaed, phase = pca_and_phase(traces[t_slice, selected], traces[:, selected])\n",
    "#pcaed_spont, phase_spont = pca_and_phase(traces[t_slice, selected], traces[t_slice, selected])\n",
    "pcaed, phase = pca_and_phase(traces[t_slice, selected], traces[:, selected])\n",
    "\n",
    "x1 = hf_c[2]*np.cos(np.linspace(0, 2*np.pi, 100)) + hf_c[0]\n",
    "x2 = hf_c[2]*np.sin(np.linspace(0, 2*np.pi, 100)) + hf_c[1]\n",
    "\n",
    "plt.plot(x1, x2)"
   ]
  },
  {
   "cell_type": "code",
   "execution_count": 127,
   "metadata": {},
   "outputs": [],
   "source": [
    "new_selection_arr = (np.abs(np.sqrt((pcaed_t_all[:, 0] - hf_c[0])**2 + \\\n",
    "                                    (pcaed_t_all[:, 1] - hf_c[1])**2) - hf_c[2]) < 5) & \\\n",
    "    ((np.sqrt((pcaed_t_all[:, 0] - hf_c[0])**2 + (pcaed_t_all[:, 1] - hf_c[1])**2) - hf_c[2]) < 0)\n",
    "selected = np.argwhere(new_selection_arr)[:, 0]"
   ]
  },
  {
   "cell_type": "code",
   "execution_count": 139,
   "metadata": {},
   "outputs": [
    {
     "data": {
      "text/plain": [
       "391"
      ]
     },
     "execution_count": 139,
     "metadata": {},
     "output_type": "execute_result"
    }
   ],
   "source": [
    "# selected = fl.load(path / \"selected.h5\")\n",
    "len(selected)"
   ]
  },
  {
   "cell_type": "code",
   "execution_count": 140,
   "metadata": {},
   "outputs": [
    {
     "data": {
      "application/vnd.jupyter.widget-view+json": {
       "model_id": "c2237e33d96a4007aa9f60c1d330bd5e",
       "version_major": 2,
       "version_minor": 0
      },
      "text/plain": [
       "Canvas(toolbar=Toolbar(toolitems=[('Home', 'Reset original view', 'home', 'home'), ('Back', 'Back to previous …"
      ]
     },
     "metadata": {},
     "output_type": "display_data"
    },
    {
     "name": "stdout",
     "output_type": "stream",
     "text": [
      "391\n"
     ]
    }
   ],
   "source": [
    "plt.figure(figsize=(7, 2.5))\n",
    "plt.plot(traces[:, selected] + 4)\n",
    "print(len(selected))\n",
    "plt.plot(beh_df[\"t\"]*fn, beh_df[\"tail_sum\"])\n",
    "plt.show()"
   ]
  },
  {
   "cell_type": "code",
   "execution_count": 141,
   "metadata": {},
   "outputs": [
    {
     "data": {
      "application/vnd.jupyter.widget-view+json": {
       "model_id": "bba207b50f9242fb9605c22ae0887fab",
       "version_major": 2,
       "version_minor": 0
      },
      "text/plain": [
       "Canvas(toolbar=Toolbar(toolitems=[('Home', 'Reset original view', 'home', 'home'), ('Back', 'Back to previous …"
      ]
     },
     "metadata": {},
     "output_type": "display_data"
    }
   ],
   "source": [
    "\n",
    "# plt.close(\"all\")\n",
    "pcaed, phase = pca_and_phase(traces[t_slice, selected], traces[:, selected])\n",
    "mot_t_slice = slice(5100, 10200)\n",
    "f, axs = plt.subplots(1, 3, figsize=(7., 3.), sharex=True, sharey=True)\n",
    "# plt.subplot(1,2,1)\n",
    "# phase = np.angle((pcaed[:, 0]) + 1j * (pcaed[:, 1]))\n",
    "axs[0].plot(pcaed[t_slice, 0], pcaed[t_slice, 1], \n",
    "         c=(0.6,)*3, lw=0.5, zorder=-100) # , c=phase, cmap=\"twilight\", lw=3)\n",
    "axs[0].scatter(pcaed[t_slice, 0], pcaed[t_slice, 1], \n",
    "                 c=phase[t_slice], lw=0.5, s=5, cmap=\"twilight\",) \n",
    "\n",
    "axs[1].plot(pcaed[mot_t_slice, 0], pcaed[mot_t_slice, 1], \n",
    "         c=(0.6,)*3, lw=0.5, zorder=-100) # , c=phase, cmap=\"twilight\", lw=3)\n",
    "axs[1].scatter(pcaed[mot_t_slice, 0], pcaed[mot_t_slice, 1], \n",
    "                 c=phase[mot_t_slice], lw=0.5, s=5, cmap=\"twilight\",) \n",
    "\n",
    "axs[2].plot(pcaed[:, 0], pcaed[:, 1], \n",
    "         c=(0.6,)*3, lw=0.5, zorder=-100) # , c=phase, cmap=\"twilight\", lw=3)\n",
    "axs[2].scatter(pcaed[:, 0], pcaed[:, 1], \n",
    "                 c=phase[:], lw=0.5, s=5, cmap=\"twilight\",) \n",
    "sns.despine()"
   ]
  },
  {
   "cell_type": "code",
   "execution_count": 142,
   "metadata": {},
   "outputs": [],
   "source": [
    "perm, com_phase = qap_sorting_and_phase(traces[:, selected], t_lims=t_lims)"
   ]
  },
  {
   "cell_type": "code",
   "execution_count": 143,
   "metadata": {},
   "outputs": [
    {
     "name": "stderr",
     "output_type": "stream",
     "text": [
      "100%|██████████| 391/391 [00:00<00:00, 658.85it/s]\n"
     ]
    }
   ],
   "source": [
    "phases_neuron, _ = fit_phase_neurons(traces[t_slice, selected], phase[t_slice])\n",
    "perm_pca = np.argsort(phases_neuron)"
   ]
  },
  {
   "cell_type": "code",
   "execution_count": 144,
   "metadata": {},
   "outputs": [
    {
     "data": {
      "application/vnd.jupyter.widget-view+json": {
       "model_id": "077b96ab5fc74948b309931223b2873b",
       "version_major": 2,
       "version_minor": 0
      },
      "text/plain": [
       "Canvas(toolbar=Toolbar(toolitems=[('Home', 'Reset original view', 'home', 'home'), ('Back', 'Back to previous …"
      ]
     },
     "metadata": {},
     "output_type": "display_data"
    },
    {
     "data": {
      "text/plain": [
       "<matplotlib.image.AxesImage at 0x7fd391e534f0>"
      ]
     },
     "execution_count": 144,
     "metadata": {},
     "output_type": "execute_result"
    }
   ],
   "source": [
    "l = 2\n",
    "f, axs = plt.subplots(2,2, figsize=(7, 7), sharey=True)\n",
    "# plt.subplot(121)\n",
    "axs[0, 0].imshow(np.corrcoef(traces[t_slice, selected].T)[perm, :][:, perm], \n",
    "           vmax=1, vmin=-1, cmap=\"RdBu_r\", aspect=\"auto\")\n",
    "\n",
    "axs[0, 1].imshow(traces[:, selected[perm]].T, cmap=\"gray_r\", interpolation=\"none\",\n",
    "              aspect=\"auto\", vmin=-l, vmax=l)\n",
    "\n",
    "axs[1, 0].imshow(np.corrcoef(traces[t_slice, selected].T)[perm_pca, :][:, perm_pca], \n",
    "           vmax=1, vmin=-1, cmap=\"RdBu_r\", aspect=\"auto\")\n",
    "\n",
    "axs[1,1].imshow(traces[:, selected[perm_pca]].T, cmap=\"gray_r\", interpolation=\"none\",\n",
    "              aspect=\"auto\", vmin=-l, vmax=l)\n",
    "\n"
   ]
  },
  {
   "cell_type": "code",
   "execution_count": 103,
   "metadata": {},
   "outputs": [
    {
     "ename": "IndexError",
     "evalue": "arrays used as indices must be of integer (or boolean) type",
     "output_type": "error",
     "traceback": [
      "\u001b[0;31m---------------------------------------------------------------------------\u001b[0m",
      "\u001b[0;31mIndexError\u001b[0m                                Traceback (most recent call last)",
      "\u001b[0;32m<ipython-input-103-088478efd8ff>\u001b[0m in \u001b[0;36m<module>\u001b[0;34m\u001b[0m\n\u001b[1;32m      1\u001b[0m \u001b[0mold_selected\u001b[0m \u001b[0;34m=\u001b[0m \u001b[0mselected\u001b[0m\u001b[0;34m.\u001b[0m\u001b[0mcopy\u001b[0m\u001b[0;34m(\u001b[0m\u001b[0;34m)\u001b[0m\u001b[0;34m\u001b[0m\u001b[0;34m\u001b[0m\u001b[0m\n\u001b[1;32m      2\u001b[0m \u001b[0mrm_from_selected\u001b[0m \u001b[0;34m=\u001b[0m \u001b[0mnp\u001b[0m\u001b[0;34m.\u001b[0m\u001b[0marray\u001b[0m\u001b[0;34m(\u001b[0m\u001b[0;34m[\u001b[0m\u001b[0;34m]\u001b[0m\u001b[0;34m)\u001b[0m\u001b[0;34m\u001b[0m\u001b[0;34m\u001b[0m\u001b[0m\n\u001b[0;32m----> 3\u001b[0;31m \u001b[0mselected\u001b[0m\u001b[0;34m[\u001b[0m\u001b[0mperm_pca\u001b[0m\u001b[0;34m[\u001b[0m\u001b[0mrm_from_selected\u001b[0m\u001b[0;34m]\u001b[0m\u001b[0;34m]\u001b[0m \u001b[0;34m=\u001b[0m \u001b[0;34m-\u001b[0m\u001b[0;36m1\u001b[0m\u001b[0;34m\u001b[0m\u001b[0;34m\u001b[0m\u001b[0m\n\u001b[0m\u001b[1;32m      4\u001b[0m \u001b[0;31m#for i in s:# [23,  64,  82, 110, 152, 193,  87, 127, 143,  57,  33, 226, 201,  89, 155,  92,  34]:\u001b[0m\u001b[0;34m\u001b[0m\u001b[0;34m\u001b[0m\u001b[0;34m\u001b[0m\u001b[0m\n\u001b[1;32m      5\u001b[0m \u001b[0;31m#    if i is not \" \" and i is not \"\":\u001b[0m\u001b[0;34m\u001b[0m\u001b[0;34m\u001b[0m\u001b[0;34m\u001b[0m\u001b[0m\n",
      "\u001b[0;31mIndexError\u001b[0m: arrays used as indices must be of integer (or boolean) type"
     ]
    }
   ],
   "source": [
    "old_selected = selected.copy()\n",
    "rm_from_selected = np.array([])\n",
    "selected[perm_pca[rm_from_selected]] = -1\n",
    "#for i in s:# [23,  64,  82, 110, 152, 193,  87, 127, 143,  57,  33, 226, 201,  89, 155,  92,  34]:\n",
    "#    if i is not \" \" and i is not \"\":\n",
    "#        selected[perm == int(i)] = -1\n",
    "selected = selected[selected > 0]"
   ]
  },
  {
   "cell_type": "code",
   "execution_count": 145,
   "metadata": {},
   "outputs": [
    {
     "name": "stdout",
     "output_type": "stream",
     "text": [
      "[-1.78650236 -1.46957137]\n"
     ]
    },
    {
     "data": {
      "application/vnd.jupyter.widget-view+json": {
       "model_id": "658a438c7458432685193711052c12aa",
       "version_major": 2,
       "version_minor": 0
      },
      "text/plain": [
       "Canvas(toolbar=Toolbar(toolitems=[('Home', 'Reset original view', 'home', 'home'), ('Back', 'Back to previous …"
      ]
     },
     "metadata": {},
     "output_type": "display_data"
    },
    {
     "data": {
      "text/plain": [
       "[<matplotlib.lines.Line2D at 0x7fd392696310>]"
      ]
     },
     "execution_count": 145,
     "metadata": {},
     "output_type": "execute_result"
    }
   ],
   "source": [
    "unwrapped_phase = np.unwrap(phase)\n",
    "unwrapped_com_phase = np.unwrap(com_phase)\n",
    "\n",
    "traj, params = fictive_trajectory_and_fit(unwrapped_phase, df, min_bias=0.01)\n",
    "print(params)\n",
    "\n",
    "plt.figure(figsize=(7, 3))\n",
    "plt.scatter(np.arange(len(traj[:])), -zscore(unwrapped_phase), \n",
    "            c=phase[:], cmap=\"twilight\", s=2)\n",
    "plt.scatter(np.arange(len(traj[:])), -zscore(unwrapped_com_phase), \n",
    "            c=com_phase[:], cmap=\"twilight\", s=0.2)\n",
    "plt.plot(zscore(traj), c=cols[1])"
   ]
  },
  {
   "cell_type": "code",
   "execution_count": 146,
   "metadata": {},
   "outputs": [
    {
     "data": {
      "application/vnd.jupyter.widget-view+json": {
       "model_id": "b61aef8871464dd08fa4012efccf1152",
       "version_major": 2,
       "version_minor": 0
      },
      "text/plain": [
       "Canvas(toolbar=Toolbar(toolitems=[('Home', 'Reset original view', 'home', 'home'), ('Back', 'Back to previous …"
      ]
     },
     "metadata": {},
     "output_type": "display_data"
    },
    {
     "name": "stderr",
     "output_type": "stream",
     "text": [
      "*c* argument looks like a single numeric RGB or RGBA sequence, which should be avoided as value-mapping will have precedence in case its length matches with *x* & *y*.  Please use the *color* keyword-argument or provide a 2D array with a single row if you intend to specify the same RGB or RGBA value for all points.\n",
      "*c* argument looks like a single numeric RGB or RGBA sequence, which should be avoided as value-mapping will have precedence in case its length matches with *x* & *y*.  Please use the *color* keyword-argument or provide a 2D array with a single row if you intend to specify the same RGB or RGBA value for all points.\n"
     ]
    },
    {
     "data": {
      "text/plain": [
       "(-11.227083333333333,\n",
       " 245.54652777777778,\n",
       " -11.62717105263158,\n",
       " 306.1179605263158)"
      ]
     },
     "execution_count": 146,
     "metadata": {},
     "output_type": "execute_result"
    }
   ],
   "source": [
    "f, axs = plt.subplots(1, 2, figsize=(8, 4))\n",
    "axs[0].scatter(coords[:, 1], coords[:, 2], c=(0.5,)*3)\n",
    "axs[0].scatter(coords[selected, 1], coords[selected, 2],\n",
    "            c=phases_neuron, cmap=\"twilight\")\n",
    "axs[0].axis(\"equal\")\n",
    "axs[0].axis(\"off\")\n",
    "\n",
    "axs[1].scatter(coords[:, 1], coords[:, 2], c=(0.5,)*3)\n",
    "axs[1].scatter(coords[selected, 1], coords[selected, 2],\n",
    "            c=np.linspace(-np.pi, np.pi, perm.max()+1)[np.argsort(perm)] , cmap=\"twilight\")\n",
    "axs[1].axis(\"equal\")\n",
    "axs[1].axis(\"off\")"
   ]
  },
  {
   "cell_type": "code",
   "execution_count": 147,
   "metadata": {},
   "outputs": [],
   "source": [
    "from tifffile import imread\n",
    "anatomy = imread(path / \"anatomy.tif\")"
   ]
  },
  {
   "cell_type": "code",
   "execution_count": 153,
   "metadata": {},
   "outputs": [
    {
     "data": {
      "text/plain": [
       "17"
      ]
     },
     "execution_count": 153,
     "metadata": {},
     "output_type": "execute_result"
    }
   ],
   "source": [
    "n_planes"
   ]
  },
  {
   "cell_type": "code",
   "execution_count": 160,
   "metadata": {},
   "outputs": [
    {
     "data": {
      "application/vnd.jupyter.widget-view+json": {
       "model_id": "ac57d23606dc41848c51ca3fc3496a02",
       "version_major": 2,
       "version_minor": 0
      },
      "text/plain": [
       "Canvas(toolbar=Toolbar(toolitems=[('Home', 'Reset original view', 'home', 'home'), ('Back', 'Back to previous …"
      ]
     },
     "metadata": {},
     "output_type": "display_data"
    }
   ],
   "source": [
    "row_n = 4\n",
    "n_planes = anatomy.shape[0]\n",
    "f, axs = plt.subplots(5, n_planes // row_n, figsize=(9, 14))\n",
    "c_array = phases_neuron #  np.linspace(-np.pi, np.pi, perm.max()+1)[np.argsort(perm)]\n",
    "s = 6\n",
    "for n in range(n_planes):\n",
    "    i = n // row_n\n",
    "    j = n % row_n\n",
    "    sel = coords[:, 0] == n\n",
    "    axs[i, j].imshow(anatomy[n, :, :].T, vmin=400, vmax=500, cmap=\"Greens\")\n",
    "    # axs[i, j].scatter(coords[sel, 1], coords[sel, 2], c=(0.5,)*3, s=s, alpha=0.2)\n",
    "    selected_in_plane = selected[sel[selected]]  # amazingly aweful\n",
    "    axs[i, j].scatter(coords[selected_in_plane, 1], coords[selected_in_plane, 2],\n",
    "                c=c_array[sel[selected]], cmap=\"twilight\", s=s)\n",
    "    axs[i, j].axis(\"equal\")\n",
    "    axs[i, j].axis(\"off\")"
   ]
  },
  {
   "cell_type": "code",
   "execution_count": 150,
   "metadata": {},
   "outputs": [
    {
     "data": {
      "text/plain": [
       "(391,)"
      ]
     },
     "execution_count": 150,
     "metadata": {},
     "output_type": "execute_result"
    }
   ],
   "source": [
    "c_array.shape"
   ]
  },
  {
   "cell_type": "code",
   "execution_count": null,
   "metadata": {},
   "outputs": [],
   "source": [
    "plt.figure(figsize=(8, 3.5))\n",
    "plt.subplot(221)\n",
    "#sel = # (coords[selected, 1] < 50 ) #& (coords[selected, 1] < 209) & \\\n",
    "        # (coords[selected, 2] > 206 ) & (coords[selected, 2] < 250)\n",
    "sel = (coords[selected, 2] < 167 )\n",
    "plt.scatter(coords[selected, 1], \n",
    "            np.linspace(-np.pi, np.pi, perm.max()+1)[np.argsort(perm)] )\n",
    "plt.subplot(222)\n",
    "plt.scatter(coords[selected, 1], perm)\n",
    "\n",
    "plt.subplot(223)\n",
    "plt.scatter(coords[selected[sel], 1], \n",
    "            np.linspace(-np.pi, np.pi, perm.max()+1)[np.argsort(perm)][sel] )\n",
    "plt.subplot(224)\n",
    "plt.scatter(coords[selected[sel], 1], perm[sel])\n",
    "print(perm[sel])"
   ]
  },
  {
   "cell_type": "code",
   "execution_count": null,
   "metadata": {},
   "outputs": [],
   "source": []
  },
  {
   "cell_type": "code",
   "execution_count": null,
   "metadata": {},
   "outputs": [],
   "source": []
  },
  {
   "cell_type": "code",
   "execution_count": 161,
   "metadata": {},
   "outputs": [],
   "source": [
    "fl.save(path / \"selected.h5\", selected)"
   ]
  },
  {
   "cell_type": "code",
   "execution_count": null,
   "metadata": {},
   "outputs": [],
   "source": []
  },
  {
   "cell_type": "code",
   "execution_count": 77,
   "metadata": {},
   "outputs": [
    {
     "data": {
      "application/vnd.jupyter.widget-view+json": {
       "model_id": "01d4362027cd4c92b1960a37148acb3c",
       "version_major": 2,
       "version_minor": 0
      },
      "text/plain": [
       "Canvas(toolbar=Toolbar(toolitems=[('Home', 'Reset original view', 'home', 'home'), ('Back', 'Back to previous …"
      ]
     },
     "metadata": {},
     "output_type": "display_data"
    },
    {
     "data": {
      "text/plain": [
       "(-89.43453865051269, 93.88069801330566, -60.719933319091794, 75.67397384643554)"
      ]
     },
     "execution_count": 77,
     "metadata": {},
     "output_type": "execute_result"
    }
   ],
   "source": [
    "from sklearn.decomposition import PCA\n",
    "from circle_fit import hyper_fit\n",
    "comp0, comp1 = 0, 1\n",
    "\n",
    "traces_fit = traces[2000:8000, selected].T\n",
    "traces_transform = traces_fit\n",
    "if traces_transform is None:\n",
    "    traces_transform = traces_fit\n",
    "\n",
    "# Compute PCA and transform traces:\n",
    "pca = PCA(n_components=5).fit(traces_fit)\n",
    "pcaed_t = pca.transform(traces_transform)\n",
    "\n",
    "# Fit circle:\n",
    "hf_c = hyper_fit(pcaed[:, [comp0, comp1]])\n",
    "\n",
    "# Compute phase, after subtracting center of the circle\n",
    "phase_t = np.angle((pcaed_t[:, 0] - hf_c[0]) + 1j * (pcaed_t[:, 1] - hf_c[1]))\n",
    "\n",
    "plt.figure(figsize=(7, 3))\n",
    "plt.scatter(pcaed_t[:, 0], pcaed_t[:, 1], c=phase_t, cmap=\"twilight\")\n",
    "plt.axis(\"equal\")"
   ]
  },
  {
   "cell_type": "code",
   "execution_count": 78,
   "metadata": {},
   "outputs": [
    {
     "data": {
      "application/vnd.jupyter.widget-view+json": {
       "model_id": "4389a24fc9f5472ca8df902e9a2152f7",
       "version_major": 2,
       "version_minor": 0
      },
      "text/plain": [
       "Canvas(toolbar=Toolbar(toolitems=[('Home', 'Reset original view', 'home', 'home'), ('Back', 'Back to previous …"
      ]
     },
     "metadata": {},
     "output_type": "display_data"
    },
    {
     "ename": "NameError",
     "evalue": "name 'idx_l' is not defined",
     "output_type": "error",
     "traceback": [
      "\u001b[0;31m---------------------------------------------------------------------------\u001b[0m",
      "\u001b[0;31mNameError\u001b[0m                                 Traceback (most recent call last)",
      "\u001b[0;32m<ipython-input-78-cc7c15732230>\u001b[0m in \u001b[0;36m<module>\u001b[0;34m\u001b[0m\n\u001b[1;32m     13\u001b[0m for x, ax, idx_list, cmap, title in zip(np.arange(3), \n\u001b[1;32m     14\u001b[0m                                      \u001b[0maxs\u001b[0m\u001b[0;34m,\u001b[0m\u001b[0;34m\u001b[0m\u001b[0;34m\u001b[0m\u001b[0m\n\u001b[0;32m---> 15\u001b[0;31m                                      \u001b[0;34m[\u001b[0m\u001b[0midx_l\u001b[0m\u001b[0;34m,\u001b[0m \u001b[0midx_r\u001b[0m\u001b[0;34m,\u001b[0m \u001b[0mrandom_trig\u001b[0m\u001b[0;34m]\u001b[0m\u001b[0;34m,\u001b[0m\u001b[0;34m\u001b[0m\u001b[0;34m\u001b[0m\u001b[0m\n\u001b[0m\u001b[1;32m     16\u001b[0m                                      \u001b[0;34m[\u001b[0m\u001b[0;34m\"Blues\"\u001b[0m\u001b[0;34m,\u001b[0m \u001b[0;34m\"Reds\"\u001b[0m\u001b[0;34m,\u001b[0m \u001b[0;34m\"gray_r\"\u001b[0m\u001b[0;34m]\u001b[0m\u001b[0;34m,\u001b[0m\u001b[0;34m\u001b[0m\u001b[0;34m\u001b[0m\u001b[0m\n\u001b[1;32m     17\u001b[0m                                      [\"Left bouts\", \"Right bouts\", \"Shuffle\"]):   \n",
      "\u001b[0;31mNameError\u001b[0m: name 'idx_l' is not defined"
     ]
    }
   ],
   "source": [
    "# plt.close(\"all\")\n",
    "plot_t_s = 10\n",
    "plot_t_pts = int(plot_t_s * fn)\n",
    "\n",
    "rot_wnd_s = 1\n",
    "rot_wnd_pts = int(rot_wnd_s * fn)\n",
    "\n",
    "f, axs = plt.subplots(1, 3, figsize=(8, 3), sharex=True, sharey=True)\n",
    "# [ax.set_xlabel(\"PC 1\") for ax in axs]\n",
    "# axs[0].set_ylabel(\"PC 2\")\n",
    "\n",
    "cbars = []\n",
    "for x, ax, idx_list, cmap, title in zip(np.arange(3), \n",
    "                                     axs, \n",
    "                                     [idx_l, idx_r, random_trig], \n",
    "                                     [\"Blues\", \"Reds\", \"gray_r\"],\n",
    "                                     [\"Left bouts\", \"Right bouts\", \"Shuffle\"]):   \n",
    "    for l in idx_list[:]:\n",
    "        try:\n",
    "            crop_seg = pcaed[l:l+plot_t_pts, :2]\n",
    "            crop_seg = crop_seg - crop_seg[0, :]\n",
    "            th = np.arctan2(crop_seg[rot_wnd_pts, 0] - crop_seg[0, 0], \n",
    "                            crop_seg[rot_wnd_pts, 1] - crop_seg[0, 1])\n",
    "\n",
    "            rot_mat = np.array([[np.cos(th), np.sin(th)], [-np.sin(th), np.cos(th)]]).T \n",
    "            crop_seg = (rot_mat @ crop_seg[:, :].T).T\n",
    "            ax.plot(crop_seg[::3, 0], crop_seg[::3, 1], c=(0.4,)*3, lw=0.3, zorder=-100)\n",
    "            ax.scatter(crop_seg[::3, 0], crop_seg[::3, 1], c=np.arange(len(crop_seg[::3, 1])), cmap=cmap, s=1)\n",
    "            #cp = color_plot(crop_seg[::3, 0], crop_seg[::3, 1], ax=ax,\n",
    "             #          cmap=cmap, lw=1)\n",
    "        except IndexError:\n",
    "            pass\n",
    "    cbars.append(add_cbar((0.93, 0.8 + 0.026*x, 0.06, 0.023), cp, label=\"time (s)\" if x==2 else \"\", \n",
    "                          ticks=[], orientation=\"horizontal\"))\n",
    "    ax.set_title(title)\n",
    "    # elif x == 1:\n",
    "    # elif x == 2:\n",
    "    ax.axvline(0, lw=0.5, c=(0.4,)*3)\n",
    "    ax.axhline(0, lw=0.5, c=(0.4,)*3)\n",
    "\n",
    "plt.tight_layout()\n",
    "sns.despine()\n",
    "\n",
    "cbars[0].set_ticks([0, 0.95])\n",
    "cbars[0].set_ticklabels([0, plot_t_s])"
   ]
  },
  {
   "cell_type": "code",
   "execution_count": 730,
   "metadata": {},
   "outputs": [
    {
     "data": {
      "application/vnd.jupyter.widget-view+json": {
       "model_id": "b24d7c8cd5384bc494238c11a559aeca",
       "version_major": 2,
       "version_minor": 0
      },
      "text/plain": [
       "Canvas(toolbar=Toolbar(toolitems=[('Home', 'Reset original view', 'home', 'home'), ('Back', 'Back to previous …"
      ]
     },
     "metadata": {},
     "output_type": "display_data"
    },
    {
     "name": "stderr",
     "output_type": "stream",
     "text": [
      "<ipython-input-730-ef9dc3fac9ea>:32: UserWarning: This figure includes Axes that are not compatible with tight_layout, so results might be incorrect.\n",
      "  plt.tight_layout()\n",
      "<ipython-input-730-ef9dc3fac9ea>:32: UserWarning: This figure was using constrained_layout==True, but that is incompatible with subplots_adjust and or tight_layout: setting constrained_layout==False. \n",
      "  plt.tight_layout()\n"
     ]
    }
   ],
   "source": [
    "plt.close(\"all\")\n",
    "plot_t_s = 8\n",
    "plot_t_pts = int(plot_t_s * fn)\n",
    "\n",
    "f, axs = plt.subplots(1, 3, figsize=(8, 3), sharex=True, sharey=True)\n",
    "[ax.set_xlabel(\"PC 1\") for ax in axs]\n",
    "axs[0].set_ylabel(\"PC 2\")\n",
    "\n",
    "cbars = []\n",
    "for x, ax, idx_list, cmap, title in zip(np.arange(3), \n",
    "                                     axs, \n",
    "                                     [idx_l, idx_r, random_trig], \n",
    "                                     [\"Blues\", \"Reds\", \"gray_r\"],\n",
    "                                     [\"Left bouts\", \"Right bouts\", \"Shuffle\"]):   \n",
    "    for l in idx_list:\n",
    "        try:\n",
    "            crop_seg = pcaed[l:l+plot_t_pts, :2]\n",
    "            # crop_seg = crop_seg - crop_seg[0, :]\n",
    "            #cp = color_plot(crop_seg[::3, 0], crop_seg[::3, 1], ax=ax,\n",
    "            #           cmap=cmap, lw=1)\n",
    "            ax.plot(crop_seg[::3, 0], crop_seg[::3, 1], c=(0.4,)*3, lw=0.3, zorder=-100)\n",
    "            ax.scatter(crop_seg[::3, 0], crop_seg[::3, 1], c=np.arange(len(crop_seg[::3, 1])), cmap=cmap, s=1)\n",
    "            \n",
    "        except (IndexError, ValueError):\n",
    "            pass\n",
    "    cbars.append(add_cbar((0.92, 0.8 + 0.026*x, 0.06, 0.023), cp, label=\"time (s)\" if x==2 else \"\", \n",
    "                          ticks=[], orientation=\"horizontal\"))\n",
    "    ax.set_title(title)\n",
    "    # elif x == 1:\n",
    "    # elif x == 2:\n",
    "        \n",
    "plt.tight_layout()\n",
    "sns.despine()\n",
    "\n",
    "cbars[0].set_ticks([0, 0.8])\n",
    "cbars[0].set_ticklabels([0, plot_t_s])"
   ]
  },
  {
   "cell_type": "code",
   "execution_count": 501,
   "metadata": {},
   "outputs": [
    {
     "data": {
      "text/plain": [
       "PosixPath('/Volumes/Shared/experiments/E0040_motions_cardinal/v15_playback/210511_f3b_natmov')"
      ]
     },
     "execution_count": 501,
     "metadata": {},
     "output_type": "execute_result"
    }
   ],
   "source": [
    "path"
   ]
  },
  {
   "cell_type": "code",
   "execution_count": 121,
   "metadata": {},
   "outputs": [],
   "source": [
    "fl.save(path / \"selected_new.h5\", selected)"
   ]
  },
  {
   "cell_type": "code",
   "execution_count": null,
   "metadata": {},
   "outputs": [],
   "source": [
    "master_path = Path(\"/Volumes/Shared/experiments/E0040_motions_cardinal_old/v15_playback\")\n",
    "all_list = list(master_path.glob(\"[0-9]*_f[0-9]*\"))\n",
    "all_valid = list(master_path.glob(\"[0-9]*_f[0-9]*/selected.h5\"))\n",
    "print(f\"{len(all_valid)}/{len(all_list)}\")"
   ]
  },
  {
   "cell_type": "code",
   "execution_count": 1160,
   "metadata": {},
   "outputs": [
    {
     "data": {
      "application/vnd.jupyter.widget-view+json": {
       "model_id": "1c3ddb25979240ccb923aba41e1d5393",
       "version_major": 2,
       "version_minor": 0
      },
      "text/plain": [
       "Canvas(toolbar=Toolbar(toolitems=[('Home', 'Reset original view', 'home', 'home'), ('Back', 'Back to previous …"
      ]
     },
     "metadata": {},
     "output_type": "display_data"
    },
    {
     "name": "stderr",
     "output_type": "stream",
     "text": [
      "<ipython-input-1160-f1976b198914>:29: UserWarning: This figure includes Axes that are not compatible with tight_layout, so results might be incorrect.\n",
      "  plt.tight_layout()\n",
      "<ipython-input-1160-f1976b198914>:29: UserWarning: This figure was using constrained_layout==True, but that is incompatible with subplots_adjust and or tight_layout: setting constrained_layout==False. \n",
      "  plt.tight_layout()\n"
     ]
    }
   ],
   "source": [
    "plt.close(\"all\")\n",
    "plot_t_s = 8\n",
    "plot_t_pts = int(plot_t_s * fn)\n",
    "\n",
    "f, axs = plt.subplots(1, 3, figsize=(8, 3), sharex=True, sharey=True)\n",
    "[ax.set_xlabel(\"PC 1\") for ax in axs]\n",
    "axs[0].set_ylabel(\"PC 2\")\n",
    "\n",
    "cbars = []\n",
    "for x, ax, idx_list, cmap, title in zip(np.arange(3), \n",
    "                                     axs, \n",
    "                                     [idx_l, idx_r, random_trig], \n",
    "                                     [\"Blues\", \"Reds\", \"gray_r\"],\n",
    "                                     [\"Left bouts\", \"Right bouts\", \"Shuffle\"]):   \n",
    "    for l in idx_list:\n",
    "        try:\n",
    "            crop_seg = pcaed[l:l+plot_t_pts, :2]\n",
    "            # crop_seg = crop_seg - crop_seg[0, :]\n",
    "            cp = color_plot(crop_seg[:, 0], crop_seg[:, 1], ax=ax,\n",
    "                       cmap=cmap, lw=1)\n",
    "        except IndexError:\n",
    "            pass\n",
    "    cbars.append(add_cbar((0.92, 0.8 + 0.026*x, 0.06, 0.023), cp, label=\"time (s)\" if x==2 else \"\", \n",
    "                          ticks=[], orientation=\"horizontal\"))\n",
    "    ax.set_title(title)\n",
    "    # elif x == 1:\n",
    "    # elif x == 2:\n",
    "        \n",
    "plt.tight_layout()\n",
    "sns.despine()\n",
    "\n",
    "cbars[0].set_ticks([0, 0.8])\n",
    "cbars[0].set_ticklabels([0, plot_t_s])"
   ]
  },
  {
   "cell_type": "code",
   "execution_count": null,
   "metadata": {},
   "outputs": [],
   "source": []
  }
 ],
 "metadata": {
  "kernelspec": {
   "display_name": "rplab",
   "language": "python",
   "name": "rplab"
  },
  "language_info": {
   "codemirror_mode": {
    "name": "ipython",
    "version": 3
   },
   "file_extension": ".py",
   "mimetype": "text/x-python",
   "name": "python",
   "nbconvert_exporter": "python",
   "pygments_lexer": "ipython3",
   "version": "3.8.3"
  }
 },
 "nbformat": 4,
 "nbformat_minor": 4
}

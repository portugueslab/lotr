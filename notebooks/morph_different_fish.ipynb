{
 "cells": [
  {
   "cell_type": "markdown",
   "metadata": {},
   "source": [
    "### Trying using CMTK to morph different LS fish"
   ]
  },
  {
   "cell_type": "code",
   "execution_count": null,
   "metadata": {},
   "outputs": [],
   "source": [
    "%%cmd\n",
    "cd C:\\Users\\lavian\\Desktop\\morphing\\full_ring\n",
    "registration --initxlate --dofs 6,9 --auto-multi-levels 4 -o f3_210601_affine.xform anatomy_210715_f5.nrrd anatomy_210601_f3.nrrd\n",
    "reformatx -o f3_210601_affine.nrrd --floating anatomy_210601_f3.nrrd anatomy_210715_f5.nrrd f3_210601_affine.xform\n",
    "\n",
    "warp -o f3_210601_warp.xform --grid-spacing 160 --exploration 60 --energy-weight 1e-0 --refine 6 --initial f3_210601_affine.xform anatomy_210715_f5.nrrd anatomy_210601_f3.nrrd\n",
    "reformatx -o f3_210601_warp.nrrd --floating anatomy_210601_f3.nrrd anatomy_210715_f5.nrrd f3_210601_warp.xform"
   ]
  },
  {
   "cell_type": "code",
   "execution_count": null,
   "metadata": {},
   "outputs": [],
   "source": [
    "%%cmd\n",
    "cd C:\\Users\\lavian\\Desktop\\morphing\\full_ring\n",
    "registration --initxlate --dofs 3,6 --auto-multi-levels 4 -o f0_210601_affine.xform anatomy_210715_f5.nrrd anatomy_210601_f0.nrrd\n",
    "reformatx -o f0_210601_affine.nrrd --floating anatomy_210601_f0.nrrd anatomy_210715_f5.nrrd f0_210601_affine.xform\n",
    "\n",
    "warp -o f0_210601_warp.xform --grid-spacing 160 --exploration 60 --energy-weight 1e-0 --refine 6 --initial f0_210601_affine.xform anatomy_210715_f5.nrrd anatomy_210601_f0.nrrd\n",
    "reformatx -o f0_210601_warp.nrrd --floating anatomy_210601_f0.nrrd anatomy_210715_f5.nrrd f0_210601_warp.xform"
   ]
  },
  {
   "cell_type": "code",
   "execution_count": null,
   "metadata": {},
   "outputs": [],
   "source": [
    "\n"
   ]
  },
  {
   "cell_type": "code",
   "execution_count": null,
   "metadata": {},
   "outputs": [],
   "source": [
    "%%cmd\n",
    "cd C:\\Users\\lavian\\Desktop\\morphing\\full_ring\n",
    "registration --initxlate --dofs 6,9 --auto-multi-levels 4 -o f1_210314_affine.xform anatomy_210715_f5.nrrd anatomy_210314_f1.nrrd\n",
    "reformatx -o f1_210314_affine.nrrd --floating anatomy_210314_f1.nrrd anatomy_210715_f5.nrrd f1_210314_affine.xform\n",
    "\n",
    "warp -o f1_210314_warp.xform --grid-spacing 160 --exploration 60 --energy-weight 1e-0 --refine 6 --initial f1_210314_affine.xform anatomy_210715_f5.nrrd anatomy_210314_f1.nrrd\n",
    "reformatx -o f1_210314_warp.nrrd --floating anatomy_210314_f1.nrrd anatomy_210715_f5.nrrd f1_210314_warp.xform"
   ]
  },
  {
   "cell_type": "code",
   "execution_count": null,
   "metadata": {},
   "outputs": [],
   "source": []
  }
 ],
 "metadata": {
  "kernelspec": {
   "display_name": "Python 3",
   "language": "python",
   "name": "python3"
  },
  "language_info": {
   "codemirror_mode": {
    "name": "ipython",
    "version": 3
   },
   "file_extension": ".py",
   "mimetype": "text/x-python",
   "name": "python",
   "nbconvert_exporter": "python",
   "pygments_lexer": "ipython3",
   "version": "3.8.5"
  }
 },
 "nbformat": 4,
 "nbformat_minor": 4
}

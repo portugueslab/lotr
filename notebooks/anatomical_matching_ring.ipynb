{
 "cells": [
  {
   "cell_type": "markdown",
   "id": "972e64cf",
   "metadata": {},
   "source": [
    "## Reorient temporal PCA to match anatomy\n",
    "In this notebook, we look at the anatomical distribution of head direction neurons across fish, to assess whether there is anatomical consistency over the anatomical location of cells w/r/t their position in the network activity topology. \n",
    "\n",
    "#### TODO\n",
    " - [ ] redefine the centering of the coordinates after morphing is done\n",
    " - [ ] discuss way of finding the two axis, might be suboptimal/not wor for all cases"
   ]
  },
  {
   "cell_type": "code",
   "execution_count": null,
   "id": "811ae005",
   "metadata": {},
   "outputs": [],
   "source": [
    "%matplotlib widget\n",
    "from pathlib import Path\n",
    "import numpy as np\n",
    "from matplotlib import pyplot as plt\n",
    "\n",
    "from lotr import LotrExperiment, DATASET_LOCATION\n",
    "\n",
    "from lotr.plotting import despine, add_scalebar, get_circle_xy, color_stack\n",
    "from lotr.pca import pca_and_phase\n",
    "from lotr.utils import reduce_to_pi, get_rot_matrix, get_vect_angle\n",
    "\n",
    "# import seaborn as sns\n",
    "# sns.set(style=\"ticks\", palette=\"deep\")\n",
    "# cols = sns.color_palette()"
   ]
  },
  {
   "cell_type": "code",
   "execution_count": null,
   "id": "b8693bd8",
   "metadata": {},
   "outputs": [],
   "source": [
    "# List all experiments\n",
    "master_path = Path(DATASET_LOCATION)\n",
    "file_list = [f.parent for f in master_path.glob(\"*/*[0-9]_f*/selected.h5\")]"
   ]
  },
  {
   "cell_type": "markdown",
   "id": "c816af87",
   "metadata": {},
   "source": [
    "### Showcase analysis for a single fish"
   ]
  },
  {
   "cell_type": "code",
   "execution_count": null,
   "id": "38bb2f45",
   "metadata": {},
   "outputs": [],
   "source": [
    "path = master_path / \"210926_f0\" / \"210926_f0_gainmod\"  # \"210314_f1\" / \"210314_f1_natmov\"\n",
    "exp = LotrExperiment(path)\n",
    "\n",
    "# Compute PCA in time and fit circle:\n",
    "traces = exp.traces[exp.pca_t_slice, exp.hdn_indexes]\n",
    "pcaed, phase, pca, circle_params = pca_and_phase(traces.T)\n",
    "\n",
    "# Center PCs on center of the fit circle:\n",
    "centered_pcs = pcaed[:, :2] - circle_params[:2]\n",
    "\n",
    "f, ax = plt.subplots(figsize=(2.5, 2.5))\n",
    "\n",
    "ax.scatter(centered_pcs[:, 0], centered_pcs[:, 1])\n",
    "ax.plot(*get_circle_xy((0, 0, circle_params[2])), c=(0.2,)*3)\n",
    "ax.axis(\"equal\")\n",
    "plt.show()\n",
    "add_scalebar(xlabel=\"PC1\", ylabel=\"PC2\", xlen=30, ylen=30)"
   ]
  },
  {
   "cell_type": "code",
   "execution_count": null,
   "id": "c789501d",
   "metadata": {},
   "outputs": [],
   "source": [
    "# !!! This will change with registered coordinates\n",
    "def get_normalized_coords(coords):\n",
    "    # Subtract the mean to coarsely register them for plotting:\n",
    "    centered_coords = coords - np.mean(coords, axis=0)\n",
    "\n",
    "    # For PCA registrastion, instead, convert coordinates in weights of mean 0 to be used as weights.\n",
    "    # Use percentiles along every axis to normalize them for removing outliers.\n",
    "    # w_coords = coords - np.percentile(coords, 2, axis=0)\n",
    "    # w_coords[w_coords < 0] = 0\n",
    "\n",
    "    #for i in range(coords.shape[1]):\n",
    "    #    thr = np.percentile(coords[:, i], 90)\n",
    "    #    coords[coords[:, i] > thr, i] = thr\n",
    "\n",
    "    # w_coords = (w_coords / np.sum(w_coords, 0))\n",
    "    # w_coords = w_coords - np.mean(w_coords, 0)\n",
    "    \n",
    "    norm_coords = coords - np.percentile(coords, 2, axis=0)\n",
    "    norm_coords[norm_coords < 0] = 0\n",
    "    norm_coords = (norm_coords / np.sum(norm_coords, 0)) # * 2 - 1\n",
    "    norm_coords = norm_coords - np.mean(norm_coords, 0)\n",
    "    \n",
    "    return centered_coords, norm_coords\n",
    "\n",
    "centered_coords, w_coords = get_normalized_coords(exp.coords[exp.hdn_indexes, :])"
   ]
  },
  {
   "cell_type": "code",
   "execution_count": null,
   "id": "6a540b25",
   "metadata": {},
   "outputs": [],
   "source": [
    "f, axs = plt.subplots(1, 3, figsize=(7.5, 2.5))\n",
    "\n",
    "for i, ax in enumerate(axs):\n",
    "    ax.scatter(centered_pcs[:, 0], centered_pcs[:, 1], c=w_coords[:, i], \n",
    "               cmap=\"viridis\")\n",
    "    ax.plot(*get_circle_xy((0, 0, circle_params[2])), c=(0.2,)*3)\n",
    "    ax.axis(\"equal\")\n",
    "    ax.set_title([\"pos. z\", \"pos. left-right\", \"pos. rostr.-caud.\"][i])\n",
    "    add_scalebar(ax, xlabel=\"PC1\", ylabel=\"PC2\", xlen=30, ylen=30, disable_axis=False)\n",
    "    despine(ax, \"all\")"
   ]
  },
  {
   "cell_type": "markdown",
   "id": "07636412",
   "metadata": {},
   "source": [
    "#### Fit to match anatomy "
   ]
  },
  {
   "cell_type": "code",
   "execution_count": null,
   "id": "88f9c8d7",
   "metadata": {},
   "outputs": [],
   "source": [
    "def reorient_pcs(centered_pcs, w_coords):\n",
    "    \n",
    "    FINAL_TH_SHIFT = 3*np.pi/4  # arbitrary final rotation for plotting purposes\n",
    "    \n",
    "    # We compute the PCs vector averages across the population using coordinates along \n",
    "    # each anatomical axis as weights.\n",
    "    # The result is a 3 x 2 matrix containing the average vector for each of the \n",
    "    # 3 anatomical axes used as weights\n",
    "    avg_vects = np.einsum('ij,ik->jk', centered_pcs, w_coords)\n",
    "    \n",
    "    # We then compute average angle for all axes:\n",
    "    avg_angles = get_vect_angle(avg_vects)\n",
    "    # and we take the mean between left-right and front-caud axes angles:\n",
    "    mean_angle = np.angle(np.sum(np.cos(avg_angles[1:])) + 1j * np.sum(np.sin(avg_angles[1:])))\n",
    "    \n",
    "    # Since PC signs can be arbitrary, we need to find whether left and right were flipped.\n",
    "    # This we decide based on the difference in sign from the angle between the lateral and sagittal axes\n",
    "    # fit in PC space:\n",
    "    s = -np.sign(reduce_to_pi(avg_angles[2] - avg_angles[1]))\n",
    "    invert_mat = np.array([[1, 0], [0, s]])\n",
    "\n",
    "    # Finally, we combine all transformation. The last rotation is an arbitrary one so that\n",
    "    #  the most rostral ROIs are in the upper part of the plot:\n",
    "    return  (get_rot_matrix(FINAL_TH_SHIFT) @ invert_mat @ get_rot_matrix(-mean_angle) @ centered_pcs.T).T\n",
    "\n",
    "rotated_pcs = reorient_pcs(centered_pcs, w_coords)"
   ]
  },
  {
   "cell_type": "code",
   "execution_count": null,
   "id": "70dcb91f",
   "metadata": {},
   "outputs": [],
   "source": [
    "f, ax = plt.subplots(figsize=(2.5, 2.5))\n",
    "\n",
    "ax.scatter(rotated_pcs[:, 0], rotated_pcs[:, 1], c=w_coords[:, 2])\n",
    "ax.plot(*get_circle_xy((0, 0, circle_params[2])), c=(0.2,)*3)\n",
    "ax.axis(\"equal\")\n",
    "plt.show()\n",
    "add_scalebar(xlabel=\"PC1 (lat.)\", ylabel=\"PC2 (sag.)\", xlen=60, ylen=60)"
   ]
  },
  {
   "cell_type": "code",
   "execution_count": null,
   "id": "ae2a64b8",
   "metadata": {},
   "outputs": [],
   "source": [
    "# We can now calculate a phase for each neuron from their position in this rotated space:\n",
    "rotated_pc_phase = np.angle(rotated_pcs[:, 0] + 1j * rotated_pcs[:, 1])\n",
    "\n",
    "# And, for plotting, computing an \"anatomical phase\", aka position around the anatomy:\n",
    "anatomical_phase = np.angle(w_coords[:, 1] + 1j * w_coords[:, 2])\n",
    "\n",
    "# And plot it over the anatomy:\n",
    "f, axs = plt.subplots(2, 3, figsize=(8, 4))\n",
    "for j, (color_scheme, lab) in enumerate(zip([rotated_pc_phase, anatomical_phase],\n",
    "                                         [\"color by phase\", \"color by anatomy\"])):\n",
    "    for i, scatter_vals in enumerate([rotated_pcs, centered_coords[:, 1:]]):\n",
    "        x = scatter_vals[:, 0] if i == 0 else -scatter_vals[:, 0]\n",
    "        axs[j, i].scatter(x, scatter_vals[:, 1],\n",
    "                      c=color_scheme, cmap=\"twilight\")\n",
    "        if i == 1:\n",
    "            add_scalebar(axs[j, i], xlabel=\"lf.-rt.\", ylabel=\"post.-ant.\", xlen=60, ylen=60, \n",
    "                         ypos=-60)\n",
    "        else:\n",
    "            add_scalebar(axs[j, i], xlabel=\"rPC1\", ylabel=\"rPC2\", xlen=45, ylen=45,\n",
    "                        disable_axis=False)\n",
    "        axs[j, i].axis(\"equal\")\n",
    "        despine(axs[j, i], \"all\")\n",
    "    n_phases = np.full(exp.n_rois, np.nan)\n",
    "    n_phases[exp.hdn_indexes] = color_scheme\n",
    "    colored = color_stack(exp.rois_stack, variable=n_phases, color_scheme=\"twilight\")\n",
    "\n",
    "    proj = np.zeros(colored.shape[:2] + (4,), dtype=np.uint8)\n",
    "    for i in range(colored.shape[2]):\n",
    "        this_plane = colored[:, :, i, :]\n",
    "        proj[this_plane > 0] = this_plane[this_plane > 0]\n",
    "    axs[j, 2].imshow(proj[-50:120:-1, -20:20:-1, :])\n",
    "    add_scalebar(axs[j, 2], xlabel=\"lf.-rt.\", ylabel=\"post.-ant.\", xlen=60, ypos=120, ylen=-60)\n",
    "\n",
    "    axs[j, 0].set_ylabel(lab)\n"
   ]
  },
  {
   "cell_type": "code",
   "execution_count": null,
   "id": "af31f6f7",
   "metadata": {},
   "outputs": [],
   "source": [
    "rois_proj = exp.rois_stack.max(2)"
   ]
  },
  {
   "cell_type": "code",
   "execution_count": null,
   "id": "6312d36c",
   "metadata": {},
   "outputs": [],
   "source": [
    "n_phases = np.full(exp.n_rois, np.nan)\n",
    "n_phases[exp.hdn_indexes] = rotated_pc_phase"
   ]
  },
  {
   "cell_type": "code",
   "execution_count": null,
   "id": "4dd6ffc0",
   "metadata": {},
   "outputs": [],
   "source": [
    "colored = color_stack(exp.rois_stack, variable=n_phases, color_scheme=\"twilight\")"
   ]
  },
  {
   "cell_type": "code",
   "execution_count": null,
   "id": "35749ca9",
   "metadata": {},
   "outputs": [],
   "source": [
    "proj = np.zeros(colored.shape[:2] + (4,), dtype=np.uint8)\n",
    "for i in range(colored.shape[2]):\n",
    "    this_plane = colored[:, :, i, :]\n",
    "    proj[this_plane > 0] = this_plane[this_plane > 0]"
   ]
  },
  {
   "cell_type": "code",
   "execution_count": null,
   "id": "e7aeb909",
   "metadata": {},
   "outputs": [],
   "source": [
    "# proj = \n",
    "plt.figure(figsize=(3, 2))\n",
    "plt.imshow(proj[:, :, :])"
   ]
  },
  {
   "cell_type": "markdown",
   "id": "ea85371a",
   "metadata": {},
   "source": [
    "# Perform analysis over all fish\n",
    "Here we run the same analysis over all fish:"
   ]
  },
  {
   "cell_type": "code",
   "execution_count": null,
   "id": "c86a8ba4",
   "metadata": {},
   "outputs": [],
   "source": [
    "from dataclasses import dataclass\n",
    "\n",
    "@dataclass\n",
    "class RotationResults:\n",
    "    rotated_pcs : np.array\n",
    "    centered_coords : np.array\n",
    "    rotated_pc_phase : np.array\n",
    "    anatomical_phase : np.array"
   ]
  },
  {
   "cell_type": "code",
   "execution_count": null,
   "id": "f9fdaedc",
   "metadata": {},
   "outputs": [],
   "source": [
    "results_dict = {}\n",
    "\n",
    "# Loop over all fish, and compute values for data and after shuffling coords itentity:\n",
    "for path in file_list:\n",
    "    fish_dict = {}\n",
    "    for k, shuf_f in zip([\"data\", \"shuf\"], \n",
    "                         [lambda x: x, np.random.shuffle]):\n",
    "        exp = LotrExperiment(path) \n",
    "        sequence = np.arange(len(exp.hdn_indexes))\n",
    "        shuf_f(sequence)\n",
    "\n",
    "        # Compute PCA in time, fit circle and center:\n",
    "        traces = exp.traces[exp.pca_t_slice, exp.hdn_indexes]\n",
    "        pcaed, phase, pca, circle_params = pca_and_phase(traces.T)\n",
    "        centered_pcs = pcaed[:, :2] - circle_params[:2]\n",
    "\n",
    "        # center coords:\n",
    "        coords = exp.coords[exp.hdn_indexes, :][sequence, :]  # shuffle if necessary\n",
    "        centered_coords, w_coords = get_normalized_coords(coords)\n",
    "\n",
    "        # rotate pcs:\n",
    "        rotated_pcs = reorient_pcs(centered_pcs, w_coords)\n",
    "\n",
    "        # We can now calculate a phase for each neuron from their position in this rotated space:\n",
    "        rotated_pc_phase = np.angle(rotated_pcs[:, 0] + 1j * rotated_pcs[:, 1])\n",
    "\n",
    "        # And, for plotting, computing an \"anatomical phase\", aka position around the anatomy:\n",
    "        anatomical_phase = np.angle(centered_coords[:, 1] + 1j * centered_coords[:, 2]) \n",
    "\n",
    "        fish_dict[k] = RotationResults(rotated_pcs=rotated_pcs,\n",
    "                                       centered_coords=centered_coords,\n",
    "                                       rotated_pc_phase=rotated_pc_phase,\n",
    "                                       anatomical_phase=anatomical_phase)\n",
    "            \n",
    "    results_dict[path.name] = fish_dict"
   ]
  },
  {
   "cell_type": "code",
   "execution_count": null,
   "id": "5308ede0",
   "metadata": {},
   "outputs": [],
   "source": [
    "f, axs = plt.subplots(2, 2, figsize=(5, 5))\n",
    "\n",
    "for k, res in results_dict.items():\n",
    "    result = res[\"data\"]\n",
    "    for j, (color_scheme, lab) in enumerate(zip([result.rotated_pc_phase, result.anatomical_phase],\n",
    "                                             [\"color by phase\", \"color by anatomy\"])):\n",
    "            for i, scatter_vals in enumerate([result.rotated_pcs, result.centered_coords[:, 1:]]):\n",
    "                axs[j, i].scatter(scatter_vals[:, 0], scatter_vals[:, 1], lw=0, \n",
    "                              c=color_scheme, cmap=\"twilight\", s=s, alpha=0.5)\n",
    "\n",
    "            axs[j, 0].set_ylabel(lab)\n",
    "            \n",
    "for j in range(2):\n",
    "    add_scalebar(axs[j, 1], xlabel=\"lf.-rt.\", ylabel=\"post.-ant.\", \n",
    "                 xlen=80, ylen=80, disable_axis=False)\n",
    "    despine(axs[j, 1], \"all\")\n",
    "    despine(axs[j, 0], \"all\")\n",
    "add_scalebar(axs[0, 0], xlabel=\"cPC1\", ylabel=\"cPC2\", \n",
    "                 xlen=30, ylen=30, disable_axis=False)\n",
    "add_scalebar(axs[1, 0], xlabel=\"rPC1\", ylabel=\"rPC2\", \n",
    "                 xlen=30, ylen=30, disable_axis=False)\n",
    "\n",
    "plt.tight_layout()"
   ]
  },
  {
   "cell_type": "code",
   "execution_count": null,
   "id": "e09f26ac",
   "metadata": {},
   "outputs": [],
   "source": [
    "f_scat, axs_scat = plt.subplots(1, 2, figsize=(6, 2.5), sharex=True)\n",
    "for col, d in zip([(0.8,)*3, (0.8, 0.3, 0.2)], [\"shuf\", \"data\"]):\n",
    "    for k, res in results_dict.items():\n",
    "        result = res[d]\n",
    "\n",
    "        for j, lab in enumerate([\"lateral pos. (um)\", \"sagittal pos. (um)\"]):\n",
    "            axs_scat[j].scatter(result.rotated_pc_phase, result.centered_coords[:, 1+j], \n",
    "                            color=col, s=5, alpha=0.8, lw=0) \n",
    "            \n",
    "            axs_scat[j].set(xlabel=\"rPC phase (rad)\", ylabel=lab) \n",
    "            despine(axs_scat[j])\n",
    "            \n",
    "axs_scat[0].set_ylim(-120, 120)\n",
    "axs_scat[1].set_ylim(-50, 60)\n",
    "\n",
    "plt.tight_layout()"
   ]
  },
  {
   "cell_type": "code",
   "execution_count": null,
   "id": "b1928be6",
   "metadata": {},
   "outputs": [],
   "source": []
  }
 ],
 "metadata": {
  "kernelspec": {
   "display_name": "rplab",
   "language": "python",
   "name": "rplab"
  },
  "language_info": {
   "codemirror_mode": {
    "name": "ipython",
    "version": 3
   },
   "file_extension": ".py",
   "mimetype": "text/x-python",
   "name": "python",
   "nbconvert_exporter": "python",
   "pygments_lexer": "ipython3"
  }
 },
 "nbformat": 4,
 "nbformat_minor": 5
}

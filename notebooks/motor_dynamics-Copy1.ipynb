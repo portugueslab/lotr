{
 "cells": [
  {
   "cell_type": "markdown",
   "id": "c768e6f6",
   "metadata": {},
   "source": [
    "## Motor-selective neurons vs. heading direction neurons\n",
    "In this notebook, we compare the activity/location of neurons that are left/right motion selective, and activity of heading direction selective neurons.\n",
    "\n",
    "#### TODO\n",
    " - [ ] make map including all fish after the morphing "
   ]
  },
  {
   "cell_type": "code",
   "execution_count": null,
   "id": "7dc102c0",
   "metadata": {},
   "outputs": [],
   "source": [
    "%matplotlib widget\n",
    "from pathlib import Path\n",
    "from tqdm import tqdm\n",
    "import pandas as pd\n",
    "import numpy as np\n",
    "from matplotlib import pyplot as plt\n",
    "\n",
    "from lotr import DATASET_LOCATION, LotrExperiment\n",
    "from bouter.utilities import crop"
   ]
  },
  {
   "cell_type": "code",
   "execution_count": null,
   "id": "d434a61c",
   "metadata": {},
   "outputs": [],
   "source": [
    "master_path = Path(DATASET_LOCATION)\n",
    "file_list = list(master_path.glob(\"*/*[0-9]_f*\"))"
   ]
  },
  {
   "cell_type": "code",
   "execution_count": null,
   "id": "c58ce0a5",
   "metadata": {},
   "outputs": [],
   "source": [
    "path = master_path / \"210314_f1\" / \"210314_f1_natmov\"\n",
    "exp = LotrExperiment(path)"
   ]
  },
  {
   "cell_type": "code",
   "execution_count": null,
   "id": "a261482e",
   "metadata": {},
   "outputs": [],
   "source": [
    "bouts_df = exp.bouts_df\n",
    "regr_df = exp.motor_regressors\n",
    "\n",
    "THR = 0.4\n",
    "OFF = 0.45\n",
    "directions = \"lf\", \"rt\"\n",
    "bout_sel = dict(rt=(regr_df[\"right_1\"] > (regr_df[\"left_1\"] + OFF)) & (regr_df[\"right_1\"] > THR),\n",
    "                lf=(regr_df[\"left_1\"] > (regr_df[\"right_1\"] + OFF))  & (regr_df[\"left_1\"] > THR))"
   ]
  },
  {
   "cell_type": "code",
   "execution_count": null,
   "id": "a28b565a",
   "metadata": {},
   "outputs": [],
   "source": [
    "f, axs = plt.subplots(1,2, figsize=(6, 3))\n",
    "s = 15\n",
    "for i, coords in enumerate([[regr_df[\"right_1\"], regr_df[\"left_1\"]],\n",
    "                           [exp.coords[:, 1], exp.coords[:, 2]]]):\n",
    "    axs[i].scatter(coords[0], coords[1], c=(0.8,)*3, s=s)\n",
    "    axs[i].scatter(coords[0][exp.hdn_indexes], coords[1][exp.hdn_indexes], fc=(0.8,)*3, ec=(0.3,)*3,\n",
    "                  lw=0.5, s=s, label=\"HDNs\")\n",
    "\n",
    "    for k, sel in bout_sel.items():\n",
    "        axs[i].scatter(coords[0][sel], coords[1][sel], s=s, label=k + \"_sel\")\n",
    "    axs[i].axis(\"equal\")\n",
    "\n",
    "\n",
    "axs[0].plot([0, 0.5], [0, 0.5], \"k\", lw=0.5)\n",
    "axs[0].legend(frameon=False, fontsize=7)\n",
    "axs[0].set(xlabel=\"Left bouts corr.\", ylabel=\"Right bouts corr.\")\n",
    "axs[1].axis(\"off\")\n",
    "plt.tight_layout()"
   ]
  },
  {
   "cell_type": "code",
   "execution_count": null,
   "id": "8fb1959d",
   "metadata": {},
   "outputs": [],
   "source": [
    "exp.hdn_indexes"
   ]
  },
  {
   "cell_type": "code",
   "execution_count": null,
   "id": "d7f63318",
   "metadata": {},
   "outputs": [],
   "source": [
    "pre_wnd_s = 10\n",
    "post_wnd_s = 20\n",
    "\n",
    "traces_resps = dict()\n",
    "for direction in directions:\n",
    "    idx = exp.bouts_df.loc[exp.bouts_df[\"direction\"] == direction, \"idx_imaging\"]\n",
    "    cropped = crop(exp.raw_traces, idx, \n",
    "                        pre_int=int(pre_wnd_s * exp.fn), post_int=int(post_wnd_s * exp.fn))\n",
    "    cropped = np.nanmean(cropped, 1)\n",
    "    \n",
    "    cropped = cropped - np.nanmean(cropped[:int(pre_wnd_s * exp.fn), :], 0)\n",
    "    \n",
    "    traces_resps[direction] = cropped"
   ]
  },
  {
   "cell_type": "code",
   "execution_count": null,
   "id": "c46dd580",
   "metadata": {},
   "outputs": [],
   "source": [
    "sortings = {sel:np.argsort(traces_resps[d][50:80, bout_sel[sel]].mean(0)) \n",
    "            for d, sel in zip(directions, directions[::-1])}"
   ]
  },
  {
   "cell_type": "code",
   "execution_count": null,
   "id": "e4babfa7",
   "metadata": {},
   "outputs": [],
   "source": [
    "f, axs = plt.subplots(2, 2, figsize=(8, 3))\n",
    "for i, d in enumerate(directions):\n",
    "    for j, sel in enumerate(directions):\n",
    "        axs[j, i].plot(traces_resps[d][:, bout_sel[sel]][:, sortings[sel]])"
   ]
  },
  {
   "cell_type": "code",
   "execution_count": null,
   "id": "ea31de65",
   "metadata": {},
   "outputs": [],
   "source": [
    "f, axs = plt.subplots(1, 2, figsize=(8, 3))\n",
    "for i, (d, sel) in enumerate(zip(directions, directions[::-1])):\n",
    "    axs[i].scatter(exp.coords[:, 1], exp.coords[:, 2],\n",
    "                  c=(0.6,)*3)\n",
    "    axs[i].scatter(exp.coords[bout_sel[d], 1], exp.coords[bout_sel[d], 2],\n",
    "                  c=traces_resps[d][80:100, bout_sel[d]].mean(0))\n",
    "    \n",
    "    axs[i].axis(\"equal\")"
   ]
  },
  {
   "cell_type": "code",
   "execution_count": null,
   "id": "5e5984c7",
   "metadata": {},
   "outputs": [],
   "source": [
    "from lotr.pca import pca_and_phase"
   ]
  },
  {
   "cell_type": "code",
   "execution_count": null,
   "id": "fe2472ab",
   "metadata": {},
   "outputs": [],
   "source": [
    "pcaed, phase, _ = pca_and_phase(exp.raw_traces[:, bout_sel[\"lf\"] | bout_sel[\"rt\"]])"
   ]
  },
  {
   "cell_type": "code",
   "execution_count": null,
   "id": "620ea67e",
   "metadata": {},
   "outputs": [],
   "source": [
    "plt.figure()\n",
    "plt.plot(pcaed[:, 0], pcaed[:, 1])"
   ]
  },
  {
   "cell_type": "code",
   "execution_count": null,
   "id": "b20f66e3",
   "metadata": {},
   "outputs": [],
   "source": []
  }
 ],
 "metadata": {
  "kernelspec": {
   "display_name": "rplab",
   "language": "python",
   "name": "rplab"
  },
  "language_info": {
   "codemirror_mode": {
    "name": "ipython",
    "version": 3
   },
   "file_extension": ".py",
   "mimetype": "text/x-python",
   "name": "python",
   "nbconvert_exporter": "python",
   "pygments_lexer": "ipython3"
  }
 },
 "nbformat": 4,
 "nbformat_minor": 5
}

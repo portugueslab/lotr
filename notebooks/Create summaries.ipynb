{
 "cells": [
  {
   "cell_type": "code",
   "execution_count": null,
   "id": "786d048d",
   "metadata": {},
   "outputs": [],
   "source": [
    "%load_ext autoreload"
   ]
  },
  {
   "cell_type": "code",
   "execution_count": null,
   "id": "15d3624a",
   "metadata": {},
   "outputs": [],
   "source": [
    "%matplotlib widget\n",
    "from pathlib import Path\n",
    "from tqdm import tqdm\n",
    "import pandas as pd\n",
    "import numpy as np\n",
    "\n",
    "from lotr.experiment_class import LotrExperiment"
   ]
  },
  {
   "cell_type": "code",
   "execution_count": null,
   "id": "77f4a63f",
   "metadata": {},
   "outputs": [],
   "source": [
    "master_path = Path(\"/Users/luigipetrucco/Desktop/all_source_data/full_ring\")\n",
    "file_list = list(master_path.glob(\"*/*[0-9]_f*\"))"
   ]
  },
  {
   "cell_type": "code",
   "execution_count": null,
   "id": "194c6f7d",
   "metadata": {},
   "outputs": [],
   "source": [
    "for f in file_list: \n",
    "    exp = LotrExperiment(f)\n",
    "    if exp[\"general\"][\"animal\"][\"genotype\"] != \"gad1b:GCaMP6s\":\n",
    "        print(f, exp[\"general\"][\"animal\"][\"genotype\"])"
   ]
  },
  {
   "cell_type": "code",
   "execution_count": null,
   "id": "510164ce",
   "metadata": {},
   "outputs": [],
   "source": [
    "expected=dict(gen=\"gad1b:GCaMP6s\", \n",
    "              name=\"Luigi Petrucco\",\n",
    "              area=\"aHB\",\n",
    "              setup=\"Lightsheet\")\n",
    "for f in file_list: \n",
    "    exp = LotrExperiment(f)\n",
    "    entries_dict = dict(gen=exp[\"general\"][\"animal\"][\"genotype\"],\n",
    "                        name = exp[\"general\"][\"basic\"][\"experimenter_name\"],\n",
    "                        area = exp[\"general\"][\"basic\"][\"imaging_area\"],\n",
    "                        setup = exp[\"general\"][\"basic\"][\"setup_name\"])\n",
    "    for k, val in entries_dict.items():\n",
    "        if val != expected[k]:\n",
    "            print(f.name, k, \": \", val)"
   ]
  },
  {
   "cell_type": "code",
   "execution_count": null,
   "id": "203c5bfe",
   "metadata": {},
   "outputs": [],
   "source": [
    "data = fl.load(\"/Users/luigipetrucco/Desktop/all_source_data/full_ring/210519_f6/210519_f6_2dvr/data_from_suite2p_unfiltered.h5\")"
   ]
  },
  {
   "cell_type": "code",
   "execution_count": null,
   "id": "8dbc6b1b",
   "metadata": {},
   "outputs": [],
   "source": [
    "master_path = Path(\"/Volumes/Shared/experiments/E0071_lotr/full_ring\")\n",
    "file_list_rem = list(master_path.glob(\"*[0-9]_f*/*[0-9]_f*\"))"
   ]
  },
  {
   "cell_type": "code",
   "execution_count": null,
   "id": "e1da2329",
   "metadata": {},
   "outputs": [],
   "source": []
  },
  {
   "cell_type": "code",
   "execution_count": null,
   "id": "acecdcee",
   "metadata": {},
   "outputs": [],
   "source": []
  },
  {
   "cell_type": "code",
   "execution_count": null,
   "id": "d17a7046",
   "metadata": {},
   "outputs": [],
   "source": []
  },
  {
   "cell_type": "code",
   "execution_count": null,
   "id": "7179c62d",
   "metadata": {},
   "outputs": [],
   "source": []
  },
  {
   "cell_type": "code",
   "execution_count": null,
   "id": "2e097425",
   "metadata": {},
   "outputs": [],
   "source": [
    "from lotr.pca import pca_and_phase\n",
    "\n",
    "t_start_s = 150"
   ]
  },
  {
   "cell_type": "code",
   "execution_count": null,
   "id": "fa778def",
   "metadata": {},
   "outputs": [],
   "source": [
    "file_list"
   ]
  },
  {
   "cell_type": "code",
   "execution_count": null,
   "id": "d26aabd7",
   "metadata": {},
   "outputs": [],
   "source": [
    "len(list(master_path.glob(\"*[0-9]_f*/*[0-9]_f*/selected.h5\")))"
   ]
  },
  {
   "cell_type": "code",
   "execution_count": null,
   "id": "c10230c3",
   "metadata": {},
   "outputs": [],
   "source": [
    "sum([LotrExperiment(f).has_hdn for f in file_list])"
   ]
  },
  {
   "cell_type": "code",
   "execution_count": null,
   "id": "b463df7b",
   "metadata": {},
   "outputs": [],
   "source": [
    "for f in file_list:\n",
    "    exp = LotrExperiment(f)\n",
    "    time_slices_dict = {\"natmov\": (t_start_s*exp.fn, exp.n_pts - t_start_s*exp.fn), \n",
    "                        \"clol\": (t_start_s*exp.fn, exp.n_pts - t_start_s*exp.fn), \n",
    "                        \"cwccw\": (t_start_s*exp.fn, exp.n_pts // 2),\n",
    "                        \"2dvr\": (t_start_s*exp.fn, 2000*exp.fn),\n",
    "                        \"2d\": (t_start_s*exp.fn, 2000*exp.fn),\n",
    "                        \"spont\": (t_start_s*exp.fn, exp.n_pts - t_start_s*exp.fn),\n",
    "                        \"gainmod\": (t_start_s*exp.fn, exp.n_pts - t_start_s*exp.fn)}\n",
    "    \n",
    "    if exp.has_hdn:\n",
    "        traces = exp.traces \n",
    "        hdn_indexes = np.array(exp.hdn_indexes)\n",
    "        t_slice = slice(*[int(t) for t in time_slices_dict[f.name.split(\"_\")[2]]])\n",
    "        \n",
    "        pcaed, phase = pca_and_phase(traces[t_slice, hdn_indexes], traces[:, hdn_indexes])\n",
    "\n",
    "        fig, ax = plt.subplots(1, 1, figsize=(3., 3.))\n",
    "        ax.plot(pcaed[t_slice, 0], pcaed[t_slice, 1], \n",
    "             c=(0.6,)*3, lw=0.5, zorder=-100) # , c=phase, cmap=\"twilight\", lw=3)\n",
    "        ax.scatter(pcaed[t_slice, 0], pcaed[t_slice, 1], \n",
    "                     c=phase[t_slice], lw=0.5, s=5, cmap=\"twilight\",) \n",
    "        ax.set_title(f.name + str(t_slice))\n",
    "        plt.axis(\"equal\")\n",
    "        "
   ]
  },
  {
   "cell_type": "code",
   "execution_count": null,
   "id": "e5dea6d0",
   "metadata": {},
   "outputs": [],
   "source": [
    "f"
   ]
  },
  {
   "cell_type": "code",
   "execution_count": null,
   "id": "9de9fc1c",
   "metadata": {},
   "outputs": [],
   "source": [
    "nexexp[\"stimulus\"][\"protocol\"].keys()"
   ]
  },
  {
   "cell_type": "code",
   "execution_count": null,
   "id": "61419e32",
   "metadata": {},
   "outputs": [],
   "source": [
    "%autoreload\n",
    "from lotr import LotrExperiment"
   ]
  },
  {
   "cell_type": "code",
   "execution_count": null,
   "id": "916caee3",
   "metadata": {},
   "outputs": [],
   "source": [
    "exp.protocol_name"
   ]
  },
  {
   "cell_type": "code",
   "execution_count": null,
   "id": "53720f9b",
   "metadata": {},
   "outputs": [],
   "source": [
    "exp.protocol_version"
   ]
  },
  {
   "cell_type": "code",
   "execution_count": null,
   "id": "6795054c",
   "metadata": {},
   "outputs": [],
   "source": [
    "dir(exp)"
   ]
  },
  {
   "cell_type": "code",
   "execution_count": null,
   "id": "8f666a6d",
   "metadata": {},
   "outputs": [],
   "source": []
  }
 ],
 "metadata": {
  "kernelspec": {
   "display_name": "rplab",
   "language": "python",
   "name": "rplab"
  },
  "language_info": {
   "codemirror_mode": {
    "name": "ipython",
    "version": 3
   },
   "file_extension": ".py",
   "mimetype": "text/x-python",
   "name": "python",
   "nbconvert_exporter": "python",
   "pygments_lexer": "ipython3"
  }
 },
 "nbformat": 4,
 "nbformat_minor": 5
}

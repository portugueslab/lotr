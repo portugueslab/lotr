{
 "cells": [
  {
   "cell_type": "code",
   "execution_count": null,
   "id": "9fa683d9",
   "metadata": {},
   "outputs": [],
   "source": [
    "%load_ext autoreload"
   ]
  },
  {
   "cell_type": "code",
   "execution_count": null,
   "id": "5a641f2c",
   "metadata": {},
   "outputs": [],
   "source": [
    "%matplotlib widget"
   ]
  },
  {
   "cell_type": "code",
   "execution_count": null,
   "id": "fc9afd62",
   "metadata": {},
   "outputs": [],
   "source": [
    "from pathlib import Path\n",
    "import flammkuchen as fl\n",
    "from bouter import EmbeddedExperiment\n",
    "from tqdm import tqdm \n",
    "import pandas as pd\n",
    "import numpy as np\n",
    "\n",
    "from matplotlib import pyplot as plt"
   ]
  },
  {
   "cell_type": "code",
   "execution_count": null,
   "id": "ae7651d4",
   "metadata": {},
   "outputs": [],
   "source": []
  },
  {
   "cell_type": "code",
   "execution_count": null,
   "id": "5a4c0425",
   "metadata": {},
   "outputs": [],
   "source": [
    "class LotrExperiment(EmbeddedExperiment):\n",
    "    def __init__(self, *args, **kwargs):\n",
    "        super().__init__(*args, **kwargs)\n",
    "\n",
    "        self.scope_config = self[\"imaging\"][\"microscope_config\"]\n",
    "\n",
    "        self._dt_imaging = None\n",
    "        self._resolution = None\n",
    "        self._n_planes = None\n",
    "        self._data_shape = None\n",
    "        self._fn = None\n",
    "        self._bouts_df = None\n",
    "        self._traces = None\n",
    "        self._hdn_indexes = None\n",
    "\n",
    "    @property\n",
    "    def fn(self):\n",
    "        if self._fn is None:\n",
    "            self._fn = self.scope_config[\"lightsheet\"][\"scanning\"][\"z\"][\"frequency\"]\n",
    "        return self._fn\n",
    "\n",
    "    @property\n",
    "    def dt_imaging(self):\n",
    "        return 1 / self.fn_imaging\n",
    "    \n",
    "    @property\n",
    "    def dir_name(self):\n",
    "        return self.root.name\n",
    "    \n",
    "    @property\n",
    "    def bouts_df(self):\n",
    "        if self._bouts_df is None:\n",
    "            self._bouts_df = fl.load(self.root / \"bouts_df.h5\")\n",
    "        return self._bouts_df\n",
    "    \n",
    "    @property\n",
    "    def traces(self):\n",
    "        if self._traces is None:\n",
    "            self._traces = fl.load(self.root / \"filtered_traces.h5\", \"/detr\")\n",
    "        return self._traces\n",
    "    \n",
    "    @property\n",
    "    def hdn_indexes(self):\n",
    "        if self._hdn_indexes is None:\n",
    "            self._hdn_indexes = fl.load(self.root / \"selected.h5\")\n",
    "        return self._hdn_indexes\n",
    "    \n",
    "    @property\n",
    "    def n_pts(self):\n",
    "        return self.traces.shape[0]\n",
    "    \n",
    "    @property\n",
    "    def n_rois(self):\n",
    "        return self.traces.shape[1]\n",
    "    \n",
    "    @property\n",
    "    def has_hdn(self):\n",
    "        return (self.root / \"selected.h5\").exists()# self.traces.shape[1]\n",
    "    \n",
    "    def find_mirror_dir(self, parent_folder):\n",
    "        parent_folder = Path(parent_folder)\n",
    "        matches = list(target_folder.rglob(self.dir_name))\n",
    "        if len(matches) > 1:\n",
    "            raise OSError(\"Multiple folders found for this experiment\")\n",
    "        return matches[0]"
   ]
  },
  {
   "cell_type": "code",
   "execution_count": null,
   "id": "3aba9d2e",
   "metadata": {},
   "outputs": [],
   "source": [
    "exp = LotrExperiment(file_list[0])"
   ]
  },
  {
   "cell_type": "code",
   "execution_count": null,
   "id": "5a113bcf",
   "metadata": {},
   "outputs": [],
   "source": [
    "target_folder = Path(\"/Users/luigipetrucco/Desktop/test_mirror\")"
   ]
  },
  {
   "cell_type": "code",
   "execution_count": null,
   "id": "91125f66",
   "metadata": {},
   "outputs": [],
   "source": [
    "for f in file_list: \n",
    "    exp = LotrExperiment(f)\n",
    "    if exp[\"general\"][\"animal\"][\"genotype\"] != \"gad1b:GCaMP6s\":\n",
    "        print(f, exp[\"general\"][\"animal\"][\"genotype\"])"
   ]
  },
  {
   "cell_type": "code",
   "execution_count": null,
   "id": "084546d1",
   "metadata": {},
   "outputs": [],
   "source": [
    "expected=dict(gen=\"gad1b:GCaMP6s\", \n",
    "              name=\"Luigi Petrucco\",\n",
    "              area=\"aHB\",\n",
    "              setup=\"Lightsheet\")\n",
    "for f in file_list: \n",
    "    exp = LotrExperiment(f)\n",
    "    entries_dict = dict(gen=exp[\"general\"][\"animal\"][\"genotype\"],\n",
    "                        name = exp[\"general\"][\"basic\"][\"experimenter_name\"],\n",
    "                        area = exp[\"general\"][\"basic\"][\"imaging_area\"],\n",
    "                        setup = exp[\"general\"][\"basic\"][\"setup_name\"])\n",
    "    for k, val in entries_dict.items():\n",
    "        if val != expected[k]:\n",
    "            print(f.name, k, \": \", val)"
   ]
  },
  {
   "cell_type": "code",
   "execution_count": null,
   "id": "ce7834b3",
   "metadata": {},
   "outputs": [],
   "source": [
    "data = fl.load(\"/Users/luigipetrucco/Desktop/all_source_data/full_ring/210519_f6/210519_f6_2dvr/data_from_suite2p_unfiltered.h5\")"
   ]
  },
  {
   "cell_type": "code",
   "execution_count": null,
   "id": "c0e48144",
   "metadata": {},
   "outputs": [],
   "source": [
    "master_path = Path(\"/Volumes/Shared/experiments/E0071_lotr/full_ring\")\n",
    "file_list = list(master_path.glob(\"*[0-9]_f*/*[0-9]_f*\"))"
   ]
  },
  {
   "cell_type": "code",
   "execution_count": null,
   "id": "b036c211",
   "metadata": {},
   "outputs": [],
   "source": [
    "dict_list = []\n",
    "\n",
    "for f in tqdm(file_list):\n",
    "    # print(f.name)\n",
    "    exp = LotrExperiment(f)\n",
    "    bouts_df = exp.bouts_df\n",
    "    ring_in_acquisition = (f / \"selected.h5\").exists()\n",
    "    exp_dict = dict(fid=f.parent.name,\n",
    "                    experiment_name=f.name,\n",
    "                    protocol_name=exp.protocol_name,\n",
    "                    protocol_version=exp.protocol_version,\n",
    "                    imaging_area=\"aHB\" if not \"ipn\" in f.name else \"IPN\",\n",
    "                    eyes=\"eye\" in f.name,\n",
    "                    genotype=\"gad1b:Gal4;UAS:GCaMP6s\",\n",
    "                    hdn_in_acquisition=exp.has_hdn,\n",
    "                    imaged_by=exp[\"general\"][\"basic\"][\"experimenter_name\"],\n",
    "                    n_bouts=len(bouts_df),\n",
    "                    n_turns=np.sum(np.abs(bouts_df[\"bias\"]) > 0.2),\n",
    "                    n_rois=exp.n_rois,\n",
    "                    n_hdns=len(exp.hdn_indexes) if exp.has_hdn else None)\n",
    "    \n",
    "    dict_list.append(exp_dict)"
   ]
  },
  {
   "cell_type": "code",
   "execution_count": null,
   "id": "926420b0",
   "metadata": {},
   "outputs": [],
   "source": [
    "exp_df = pd.DataFrame(dict_list)\n",
    "exp_df = exp_df.set_index(\"experiment_name\")"
   ]
  },
  {
   "cell_type": "code",
   "execution_count": null,
   "id": "af0fa6bc",
   "metadata": {},
   "outputs": [],
   "source": [
    "np.unique(np.array([f.name.split(\"_\")[2] for f in file_list]))"
   ]
  },
  {
   "cell_type": "code",
   "execution_count": null,
   "id": "a26a7949",
   "metadata": {},
   "outputs": [],
   "source": [
    "from lotr.pca import pca_and_phase\n",
    "\n",
    "t_start_s = 150"
   ]
  },
  {
   "cell_type": "code",
   "execution_count": null,
   "id": "da68cb32",
   "metadata": {},
   "outputs": [],
   "source": [
    "for f in file_list:\n",
    "    exp = LotrExperiment(f)\n",
    "    time_slices_dict = {\"natmov\": (t_start_s*exp.fn, exp.n_pts - t_start_s*exp.fn), \n",
    "                        \"clol\": (t_start_s*exp.fn, exp.n_pts - t_start_s*exp.fn), \n",
    "                        \"cwccw\": (t_start_s*exp.fn, exp.n_pts // 2),\n",
    "                        \"2dvr\": (t_start_s*exp.fn, 2000),\n",
    "                        \"spont\": (t_start_s*exp.fn, exp.n_pts - t_start_s*exp.fn),\n",
    "                        \"gainmod\": (t_start_s*exp.fn, exp.n_pts - t_start_s*exp.fn)}\n",
    "    \n",
    "    if exp.has_hdn:\n",
    "        traces = exp.traces \n",
    "        hdn_indexes = np.array(exp.hdn_indexes)\n",
    "        t_slice = slice(*[int(t) for t in time_slices_dict[f.name.split(\"_\")[2]]])\n",
    "        \n",
    "        pcaed, phase = pca_and_phase(traces[t_slice, hdn_indexes], traces[:, hdn_indexes])\n",
    "\n",
    "        fig, ax = plt.subplots(1, 1, figsize=(3., 3.))\n",
    "        ax.plot(pcaed[t_slice, 0], pcaed[t_slice, 1], \n",
    "             c=(0.6,)*3, lw=0.5, zorder=-100) # , c=phase, cmap=\"twilight\", lw=3)\n",
    "        ax.scatter(pcaed[t_slice, 0], pcaed[t_slice, 1], \n",
    "                     c=phase[t_slice], lw=0.5, s=5, cmap=\"twilight\",) \n",
    "        ax.set_title(f.name)\n",
    "        plt.axis(\"equal\")\n",
    "        "
   ]
  },
  {
   "cell_type": "code",
   "execution_count": null,
   "id": "6d1d056d",
   "metadata": {},
   "outputs": [],
   "source": [
    "f"
   ]
  },
  {
   "cell_type": "code",
   "execution_count": null,
   "id": "a4dce016",
   "metadata": {},
   "outputs": [],
   "source": [
    "nexexp[\"stimulus\"][\"protocol\"].keys()"
   ]
  },
  {
   "cell_type": "code",
   "execution_count": null,
   "id": "3d5debba",
   "metadata": {},
   "outputs": [],
   "source": [
    "%autoreload\n",
    "from lotr import LotrExperiment"
   ]
  },
  {
   "cell_type": "code",
   "execution_count": null,
   "id": "1edb5191",
   "metadata": {},
   "outputs": [],
   "source": [
    "exp.protocol_name"
   ]
  },
  {
   "cell_type": "code",
   "execution_count": null,
   "id": "49ce82f2",
   "metadata": {},
   "outputs": [],
   "source": [
    "exp.protocol_version"
   ]
  },
  {
   "cell_type": "code",
   "execution_count": null,
   "id": "f47a3d0b",
   "metadata": {},
   "outputs": [],
   "source": [
    "dir(exp)"
   ]
  },
  {
   "cell_type": "code",
   "execution_count": null,
   "id": "7ef500ba",
   "metadata": {},
   "outputs": [],
   "source": []
  }
 ],
 "metadata": {
  "kernelspec": {
   "display_name": "rplab",
   "language": "python",
   "name": "rplab"
  },
  "language_info": {
   "codemirror_mode": {
    "name": "ipython",
    "version": 3
   },
   "file_extension": ".py",
   "mimetype": "text/x-python",
   "name": "python",
   "nbconvert_exporter": "python",
   "pygments_lexer": "ipython3"
  }
 },
 "nbformat": 4,
 "nbformat_minor": 5
}

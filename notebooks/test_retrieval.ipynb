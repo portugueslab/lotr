{
 "cells": [
  {
   "cell_type": "code",
   "execution_count": null,
   "id": "e35ff03c",
   "metadata": {},
   "outputs": [],
   "source": [
    "from pooch import retrieve"
   ]
  },
  {
   "cell_type": "code",
   "execution_count": null,
   "id": "9394e12a",
   "metadata": {},
   "outputs": [],
   "source": [
    "file_path = retrieve(\n",
    "    # URL to one of Pooch's test files\n",
    "    url=\"https://zenodo.org/record/5560855/files/sample_dataset.zip\",\n",
    "    known_hash=\"md5:c316e09dc74cd4f25e9b5077b584e343\",\n",
    ")"
   ]
  },
  {
   "cell_type": "code",
   "execution_count": null,
   "id": "c4f7ae24",
   "metadata": {},
   "outputs": [],
   "source": [
    "file_path"
   ]
  },
  {
   "cell_type": "code",
   "execution_count": null,
   "id": "49b2b82d",
   "metadata": {},
   "outputs": [],
   "source": [
    "from pooch import Unzip, fetch"
   ]
  },
  {
   "cell_type": "code",
   "execution_count": null,
   "id": "ba398cfe",
   "metadata": {},
   "outputs": [],
   "source": [
    "import pooch\n",
    "from pooch import Unzip\n",
    "\n",
    "goodboy = pooch.create(\n",
    "    # Use the default cache folder for the OS\n",
    "    path=pooch.os_cache(\"lotr\"),\n",
    "    # The remote data is on Github\n",
    "    base_url=\"https://zenodo.org/record/5560855/files/\",\n",
    "    # The registry specifies the files that can be fetched from the local storage\n",
    "    registry={\n",
    "        \"sample_dataset.zip\": \"md5:c316e09dc74cd4f25e9b5077b584e343\"\n",
    "    },\n",
    ")"
   ]
  },
  {
   "cell_type": "code",
   "execution_count": null,
   "id": "d25e6263",
   "metadata": {},
   "outputs": [],
   "source": [
    "%%time\n",
    "unpack = Unzip(members=[\"210314_f1/210314_f1_natmov/170528_behavior_log.hdf5\"])\n",
    "fnames = goodboy.fetch(\"sample_dataset.zip\", processor=unpack)"
   ]
  },
  {
   "cell_type": "code",
   "execution_count": null,
   "id": "7165dab3",
   "metadata": {},
   "outputs": [],
   "source": [
    "goodboy.registry_files"
   ]
  },
  {
   "cell_type": "code",
   "execution_count": null,
   "id": "3cf22bc0",
   "metadata": {},
   "outputs": [],
   "source": [
    "goodboy.abspath"
   ]
  },
  {
   "cell_type": "code",
   "execution_count": null,
   "id": "1a987a8a",
   "metadata": {},
   "outputs": [],
   "source": [
    "dir(goodboy)"
   ]
  },
  {
   "cell_type": "code",
   "execution_count": null,
   "id": "f4648310",
   "metadata": {},
   "outputs": [],
   "source": []
  }
 ],
 "metadata": {
  "kernelspec": {
   "display_name": "rplab",
   "language": "python",
   "name": "rplab"
  },
  "language_info": {
   "codemirror_mode": {
    "name": "ipython",
    "version": 3
   },
   "file_extension": ".py",
   "mimetype": "text/x-python",
   "name": "python",
   "nbconvert_exporter": "python",
   "pygments_lexer": "ipython3"
  }
 },
 "nbformat": 4,
 "nbformat_minor": 5
}

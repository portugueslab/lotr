{
 "cells": [
  {
   "cell_type": "code",
   "execution_count": null,
   "id": "ea80cede-3e78-44ae-a1fc-48653dff1bad",
   "metadata": {},
   "outputs": [],
   "source": [
    "%matplotlib widget\n",
    "from pathlib import Path\n",
    "\n",
    "import flammkuchen as fl\n",
    "import matplotlib as mpl\n",
    "import numpy as np\n",
    "import pandas as pd\n",
    "import scipy.cluster.hierarchy as sch\n",
    "from bg_atlasapi import BrainGlobeAtlas\n",
    "from lotr import DATASET_LOCATION\n",
    "from lotr import plotting as pltltr\n",
    "from lotr.em.loading import load_skeletons_from_xml\n",
    "from matplotlib import pyplot as plt\n",
    "from scipy.ndimage import gaussian_filter\n",
    "from tqdm import tqdm\n",
    "\n",
    "cols = pltltr.COLS[\"qualitative\"] * 5\n",
    "cols2 = pltltr.COLS[\"fish_cols\"] * 5\n",
    "mpl.rcParams[\"axes.prop_cycle\"] = mpl.cycler(color=cols)\n",
    "\n",
    "atlas = BrainGlobeAtlas(\"ipn_zfish_0.5um\")"
   ]
  },
  {
   "cell_type": "code",
   "execution_count": null,
   "id": "36a0978e-e571-48be-9a55-91f43acd6eb0",
   "metadata": {},
   "outputs": [],
   "source": [
    "# master_folder = Path(r\"J:\\_Shared\\experiments\\E0060_ipn_em_tracing\")\n",
    "master_folder = DATASET_LOCATION.parent / \"anatomy\"\n",
    "data_folder = master_folder / \"synapse_annotations\""
   ]
  },
  {
   "cell_type": "code",
   "execution_count": null,
   "id": "a14d5d50-6596-4312-b7d4-ace742f028d4",
   "metadata": {},
   "outputs": [],
   "source": [
    "annotations_n = [53, 84]\n",
    "\n",
    "annotations_dict = dict()\n",
    "\n",
    "for annotation in annotations_n:\n",
    "    neuron_dict = dict()\n",
    "    neuron_and_synapses = load_skeletons_from_xml(\n",
    "        data_folder / f\"annotation_{annotation}.xml\"\n",
    "    )\n",
    "    print([n.id for n in neuron_and_synapses if \"Syna\" not in n.id])\n",
    "    neuron_dict[\"neuron\"] = [n for n in neuron_and_synapses if \"Syna\" not in n.id]\n",
    "    neuron_dict[\"synapses\"] = [n for n in neuron_and_synapses if \"Syna\" in n.id]\n",
    "\n",
    "    annotations_dict[annotation] = neuron_dict"
   ]
  },
  {
   "cell_type": "code",
   "execution_count": null,
   "id": "8f891f6d-87a0-4c59-912b-448a1da5f24e",
   "metadata": {},
   "outputs": [],
   "source": [
    "#  Specify axes limits over all dimensions:\n",
    "bs = dict(frontal=(30, 180), vertical=(20, 190), sagittal=(-20, 120))\n",
    "\n",
    "plotter = pltltr.AtlasPlotter(\n",
    "    structures=[\"ipn\", \"dipn\"],\n",
    "    mask_slices=dict(frontal=slice(0, 120)),\n",
    "    bounds_dict=dict(\n",
    "        frontal=[bs[\"vertical\"], bs[\"frontal\"]],\n",
    "        horizontal=[bs[\"sagittal\"], bs[\"frontal\"]],\n",
    "        sagittal=[bs[\"vertical\"], bs[\"sagittal\"]],\n",
    "    ),\n",
    ")"
   ]
  },
  {
   "cell_type": "code",
   "execution_count": null,
   "id": "4575b020-8dcf-46f5-8998-35f6c28acf1d",
   "metadata": {},
   "outputs": [],
   "source": [
    "f, axs = plt.subplots(\n",
    "    1,\n",
    "    3,\n",
    "    figsize=(6.2, 2.2),\n",
    "    gridspec_kw=dict(left=0.02, right=0.95, top=1, hspace=0, wspace=0.1),\n",
    ")\n",
    "f, axs = plotter.generate_projection_plots(axs, labels=True, edge=120,)\n",
    "for n, col in zip(annotations_n, cols):\n",
    "    print(n)\n",
    "    n_dict = annotations_dict[n]\n",
    "    plotter.plot_neurons(\n",
    "        axs, n_dict[\"neuron\"], select=\"all\", color=col, linewidth=0.5, rasterized=True\n",
    "    )\n",
    "    plotter.plot_neurons(\n",
    "        axs,\n",
    "        n_dict[\"synapses\"],\n",
    "        select=\"all\",\n",
    "        color=(0.1,) * 3,\n",
    "        linewidth=1,\n",
    "        rasterized=True,\n",
    "    )\n",
    "\n",
    "pltltr.savefig(\"synapses_traced\")"
   ]
  },
  {
   "cell_type": "code",
   "execution_count": null,
   "id": "4ef7989b-fe19-4f45-8ae3-d0908b2b5a67",
   "metadata": {},
   "outputs": [],
   "source": [
    "len(n_dict[\"synapses\"])"
   ]
  },
  {
   "cell_type": "code",
   "execution_count": null,
   "id": "cb6548b1-110f-4d94-a741-109fc1b05282",
   "metadata": {},
   "outputs": [],
   "source": [
    "neurons = fl.load(\n",
    "    DATASET_LOCATION.parent\n",
    "    / \"anatomy\"\n",
    "    / \"annotated_traced_neurons\"\n",
    "    / \"all_skeletons.h5\"\n",
    ")\n",
    "postsyn_partners = [neurons[f\"p0{i}\"] for i in range(41, 57)]"
   ]
  },
  {
   "cell_type": "code",
   "execution_count": null,
   "id": "0930f04c-3a03-4853-8adf-4327bb12a792",
   "metadata": {},
   "outputs": [],
   "source": [
    "f, axs = plt.subplots(\n",
    "    1,\n",
    "    3,\n",
    "    figsize=(6.2, 2.2),\n",
    "    gridspec_kw=dict(left=0.02, right=0.95, top=1, hspace=0, wspace=0.1),\n",
    ")\n",
    "f, axs = plotter.generate_projection_plots(axs, labels=True, edge=120,)\n",
    "for n, col in zip(annotations_n, cols):\n",
    "    print(n)\n",
    "    n_dict = annotations_dict[n]\n",
    "    plotter.plot_neurons(axs, n_dict[\"neuron\"], select=\"all\", color=col, linewidth=0.5)\n",
    "    plotter.plot_neurons(\n",
    "        axs, n_dict[\"synapses\"], select=\"all\", color=(0.1,) * 3, linewidth=1\n",
    "    )\n",
    "\n",
    "pltltr.savefig(\"synapses_traced\")"
   ]
  },
  {
   "cell_type": "code",
   "execution_count": null,
   "id": "551dd8ed-1a50-4133-8151-12a3ca96ac2d",
   "metadata": {},
   "outputs": [],
   "source": [
    "postsyn_dict = {\n",
    "    \"Habenular axons\": [n for n in postsyn_partners if \"hab\" in n.comments],\n",
    "    \"aHB neurons\": [n for n in postsyn_partners if \"ahb\" in n.comments],\n",
    "    \"IPN neurons\": [\n",
    "        n for n in postsyn_partners if n.comments.split(\" - \")[1][:3] == \"ipn\"\n",
    "    ],\n",
    "    \"others\": [\n",
    "        n\n",
    "        for n in postsyn_partners\n",
    "        if n.comments.split(\" - \")[1][:3] != \"ipn\"\n",
    "        and \"ahb\" not in n.comments\n",
    "        and \"hab\" not in n.comments\n",
    "    ],\n",
    "}"
   ]
  },
  {
   "cell_type": "code",
   "execution_count": null,
   "id": "fb24fc48-b6b9-4d67-bdfe-ef57e422de52",
   "metadata": {},
   "outputs": [],
   "source": [
    "f, axs = plt.subplots(\n",
    "    1,\n",
    "    3,\n",
    "    figsize=(6.2, 2.2),\n",
    "    gridspec_kw=dict(left=0.02, right=0.95, top=1, hspace=0, wspace=0.1),\n",
    ")\n",
    "f, axs = plotter.generate_projection_plots(axs, labels=True, edge=120,)\n",
    "\n",
    "for k, col in zip(postsyn_dict.keys(), cols):\n",
    "    neurons = postsyn_dict[k]\n",
    "    for n in neurons:\n",
    "        plotter.plot_neurons(axs, n, select=\"all\", color=col, linewidth=0.5, alpha=0.4)\n",
    "\n",
    "# for n, col in zip(annotations_n, cols):\n",
    "#    n_dict = annotations_dict[n]\n",
    "#    plotter.plot_neurons(axs, n_dict[\"neuron\"], select=\"all\", color=col, linewidth=0.5)\n",
    "\n",
    "pltltr.savefig(\"postsyn_partners\")"
   ]
  },
  {
   "cell_type": "code",
   "execution_count": null,
   "id": "0ac88c72-2f64-4245-8692-b0099f568d25",
   "metadata": {},
   "outputs": [],
   "source": [
    "for k, col in zip(postsyn_dict.keys(), cols):\n",
    "    neurons = postsyn_dict[k]\n",
    "    print(\"-------\")\n",
    "    for n in neurons:\n",
    "        print(n.comments)"
   ]
  },
  {
   "cell_type": "code",
   "execution_count": null,
   "id": "3e4e4b22-8aaa-412c-9b90-ea1b752c6c4d",
   "metadata": {},
   "outputs": [],
   "source": []
  },
  {
   "cell_type": "code",
   "execution_count": null,
   "id": "4c7f2802-46ef-4dec-b6b1-d200609b22fd",
   "metadata": {},
   "outputs": [],
   "source": []
  }
 ],
 "metadata": {
  "kernelspec": {
   "display_name": "rplab",
   "language": "python",
   "name": "rplab"
  },
  "language_info": {
   "codemirror_mode": {
    "name": "ipython",
    "version": 3
   },
   "file_extension": ".py",
   "mimetype": "text/x-python",
   "name": "python",
   "nbconvert_exporter": "python",
   "pygments_lexer": "ipython3"
  }
 },
 "nbformat": 4,
 "nbformat_minor": 5
}

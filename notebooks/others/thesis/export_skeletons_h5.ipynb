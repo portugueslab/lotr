{
 "cells": [
  {
   "cell_type": "code",
   "execution_count": null,
   "id": "12072b1d-d5aa-4ec5-b656-51a1a7a957e7",
   "metadata": {},
   "outputs": [],
   "source": [
    "from os import remove\n",
    "from pathlib import Path\n",
    "from zipfile import ZipFile\n",
    "\n",
    "import flammkuchen as fl\n",
    "import pandas as pd\n",
    "from motions.em import NeuroSkeleton, load_skeletons_from_zip\n",
    "from tqdm import tqdm\n",
    "\n",
    "master_folder = Path(\"/Users/luigipetrucco/Google Drive/data/ipn_tracing/\")\n",
    "data_folder = master_folder / \"main_data_dir\"\n",
    "\n",
    "files = list([f for f in data_folder.glob(\"*.zip\") if \"synapses\" not in f.name])\n",
    "for f in files:\n",
    "    print(f)\n",
    "\n",
    "# Make sure we don't have spurious annotations\n",
    "assert len(files) == 5\n",
    "remake = True\n",
    "\n",
    "h5_file = data_folder / \"all_skeletons.h5\"\n",
    "if h5_file.exists() and not remake:\n",
    "    fl.load(h5_file)\n",
    "else:\n",
    "    neurons_dict = dict()\n",
    "    for f in tqdm(files):\n",
    "        new_dict = {s.cell_id: s for s in load_skeletons_from_zip(f)}\n",
    "        print(new_dict.keys())\n",
    "        neurons_dict.update(new_dict)\n",
    "\n",
    "    fl.save(h5_file, neurons_dict)"
   ]
  }
 ],
 "metadata": {
  "kernelspec": {
   "display_name": "rplab",
   "language": "python",
   "name": "rplab"
  },
  "language_info": {
   "codemirror_mode": {
    "name": "ipython",
    "version": 3
   },
   "file_extension": ".py",
   "mimetype": "text/x-python",
   "name": "python",
   "nbconvert_exporter": "python",
   "pygments_lexer": "ipython3"
  }
 },
 "nbformat": 4,
 "nbformat_minor": 5
}

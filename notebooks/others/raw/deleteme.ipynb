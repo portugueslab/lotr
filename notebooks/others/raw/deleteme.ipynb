{
 "cells": [
  {
   "cell_type": "code",
   "execution_count": null,
   "id": "5c9edfc0-4f26-473d-8742-82c87a95af3c",
   "metadata": {},
   "outputs": [],
   "source": [
    "%matplotlib widget\n",
    "from pathlib import Path\n",
    "from shutil import copy\n",
    "\n",
    "import flammkuchen as fl\n",
    "import numpy as np\n",
    "import pandas as pd\n",
    "from lotr import A_FISH, LotrExperiment, dataset_folders\n",
    "from matplotlib import pyplot as plt\n",
    "from tqdm import tqdm"
   ]
  },
  {
   "cell_type": "code",
   "execution_count": null,
   "id": "49528a64-1a27-4423-a8f1-2efd1570ab02",
   "metadata": {},
   "outputs": [],
   "source": []
  },
  {
   "cell_type": "code",
   "execution_count": null,
   "id": "fc748f40-7a69-4e31-9348-9bb724675e99",
   "metadata": {},
   "outputs": [],
   "source": [
    "exp.morphed_coords"
   ]
  },
  {
   "cell_type": "code",
   "execution_count": null,
   "id": "84614fb6-041d-4f0c-a3e5-5c12bf5f47c4",
   "metadata": {},
   "outputs": [],
   "source": [
    "np.save(exp.root / \"centroid.npy\", offs)"
   ]
  },
  {
   "cell_type": "code",
   "execution_count": null,
   "id": "33224e8e-0b80-4931-a862-89fd50d8c45e",
   "metadata": {},
   "outputs": [],
   "source": [
    "np.load(exp.root / \"centroid.npy\")"
   ]
  },
  {
   "cell_type": "code",
   "execution_count": null,
   "id": "341491ae-24e4-4d42-bf92-e90efe6c17d5",
   "metadata": {},
   "outputs": [],
   "source": [
    "for path in tqdm(dataset_folders):\n",
    "    exp = LotrExperiment(path)\n",
    "    with open(exp.root / \"centroid.txt\", \"r\") as f:\n",
    "        centroids = f.readlines()\n",
    "    offs = np.array([float(f) for f in centroids])\n",
    "    transform_mat = np.eye(4)\n",
    "    transform_mat[:3, 3] = -offs\n",
    "\n",
    "    np.save(path / \"centering_mtx.npy\", transform_mat)"
   ]
  },
  {
   "cell_type": "code",
   "execution_count": null,
   "id": "96c1f46d-0228-498a-97c8-ba7ac62ec699",
   "metadata": {},
   "outputs": [],
   "source": []
  },
  {
   "cell_type": "code",
   "execution_count": null,
   "id": "60b96843-59f9-43f0-bcf0-2f1419273f57",
   "metadata": {},
   "outputs": [],
   "source": []
  },
  {
   "cell_type": "code",
   "execution_count": null,
   "id": "5fc9b133-0071-4422-b960-66dbb4459099",
   "metadata": {},
   "outputs": [],
   "source": [
    "transform_points(exp.coords, trasform_mat)"
   ]
  },
  {
   "cell_type": "code",
   "execution_count": null,
   "id": "28e95af3-374c-41b7-8121-e0965a55d414",
   "metadata": {},
   "outputs": [],
   "source": [
    "def transform_points(pts, mat):\n",
    "    \"\"\"Transform array of points using a 4x4 transformation matrix,\n",
    "    adding 1 column for the offset.\n",
    "    \"\"\"\n",
    "\n",
    "    pts = np.array(pts)\n",
    "    if len(pts.shape) == 1:\n",
    "        pts = pts[np.newaxis, :]\n",
    "    pts = np.insert(pts, pts.shape[1], np.ones(pts.shape[0]), axis=1)\n",
    "    return (mat @ pts.T).T[:, :3]"
   ]
  },
  {
   "cell_type": "code",
   "execution_count": null,
   "id": "0580bcfa-d69e-40f6-905d-4aa16c4574bc",
   "metadata": {},
   "outputs": [],
   "source": []
  },
  {
   "cell_type": "code",
   "execution_count": null,
   "id": "4a22deed-323e-4eb2-b01b-9e15f89d0d27",
   "metadata": {},
   "outputs": [],
   "source": [
    "coords_loc = Path(\"/Volumes/Shared/experiments/E0071_lotr/full_ring/\")"
   ]
  },
  {
   "cell_type": "code",
   "execution_count": null,
   "id": "93d5c45e-2f97-437c-9c77-ccbf2563edf1",
   "metadata": {},
   "outputs": [],
   "source": [
    "coords_loc.exists()"
   ]
  },
  {
   "cell_type": "code",
   "execution_count": null,
   "id": "0419e30c-6180-47d0-a893-749c745e2874",
   "metadata": {},
   "outputs": [],
   "source": [
    "for path in tqdm(dataset_folders):\n",
    "    try:\n",
    "        src = coords_loc / path.parent.name / path.name / \"transformaed_coord2s.h5\"\n",
    "        copy(src, path)\n",
    "    except:\n",
    "        print(\"could not copy \", path.name)"
   ]
  },
  {
   "cell_type": "code",
   "execution_count": null,
   "id": "399cf0c0-641c-4fc1-a559-5c88fc0dc8c1",
   "metadata": {},
   "outputs": [],
   "source": [
    "path = dataset_folders[0]\n",
    "exp = LotrExperiment(path)"
   ]
  },
  {
   "cell_type": "code",
   "execution_count": null,
   "id": "117bc983-0da1-4f40-ac8d-ae2a238e3971",
   "metadata": {},
   "outputs": [],
   "source": [
    "morph_coords.shape"
   ]
  },
  {
   "cell_type": "code",
   "execution_count": null,
   "id": "03efa653-7b52-4513-8216-c35ba9114389",
   "metadata": {},
   "outputs": [],
   "source": [
    "morph_coords2.shape"
   ]
  },
  {
   "cell_type": "code",
   "execution_count": null,
   "id": "06ebbba3-f143-46f7-bacb-16d2a524e13d",
   "metadata": {},
   "outputs": [],
   "source": [
    "path.name"
   ]
  },
  {
   "cell_type": "code",
   "execution_count": null,
   "id": "da25a492-1419-426b-af2a-89f49692f280",
   "metadata": {},
   "outputs": [],
   "source": []
  },
  {
   "cell_type": "code",
   "execution_count": null,
   "id": "e16933b3-4ef3-4ab9-ac33-edd5d60c431b",
   "metadata": {},
   "outputs": [],
   "source": [
    "coords_df = []\n",
    "for path in tqdm(dataset_folders):\n",
    "    exp = LotrExperiment(path)\n",
    "    coords = exp.coords_um\n",
    "    cent_coords = coords - np.mean(coords, 0)\n",
    "    try:\n",
    "        morph_coords = exp.morphed_coords\n",
    "        morph_coords2 = fl.load(path / \"transformaed_coord2s.h5\", \"/transformed_coords\")\n",
    "    except OSError:\n",
    "        morph_coords = np.full(coords.shape, np.nan)\n",
    "        morph_coords2 = np.full(morph_coords.shape, np.nan)\n",
    "    data_dict = {f\"morphed2{i}\": morph_coords2[:, i] for i in range(3)}\n",
    "    data_dict.update({f\"morphed{i}\": morph_coords[:, i] for i in range(3)})\n",
    "    data_dict.update({f\"centered{i}\": cent_coords[:, i] for i in range(3)})\n",
    "    data_dict[\"fid\"] = path.name\n",
    "\n",
    "    coords_df.append(pd.DataFrame(data_dict))\n",
    "\n",
    "coords_df = pd.concat(coords_df, ignore_index=1)"
   ]
  },
  {
   "cell_type": "code",
   "execution_count": null,
   "id": "6a89fd37-dabd-4603-adf3-da485f94082f",
   "metadata": {},
   "outputs": [],
   "source": [
    "valid_coords_df = coords_df[~np.isnan(coords_df[\"morphed0\"])]"
   ]
  },
  {
   "cell_type": "code",
   "execution_count": null,
   "id": "0e26af80-171f-40dd-a75a-f8a7c71118d7",
   "metadata": {},
   "outputs": [],
   "source": []
  },
  {
   "cell_type": "code",
   "execution_count": null,
   "id": "b4fbbb87-4a73-404d-b547-aab288dc603a",
   "metadata": {},
   "outputs": [],
   "source": [
    "f, axs = plt.subplots(1, 3, figsize=(7, 3))\n",
    "for i, k in enumerate([\"morphed\", \"centered\", \"morphed2\"]):\n",
    "    axs[i].scatter(\n",
    "        valid_coords_df[k + \"1\"],\n",
    "        valid_coords_df[k + \"2\"],\n",
    "        lw=0,\n",
    "        s=5,\n",
    "        alpha=0.03,\n",
    "        color=(0.3,) * 3,\n",
    "    )\n",
    "    axs[i].set_title(k)\n",
    "    axs[i].axis(\"equal\")\n",
    "    axs[i].axis(\"off\")"
   ]
  },
  {
   "cell_type": "code",
   "execution_count": null,
   "id": "bb13f411-169c-4c30-a159-a6d497ce200f",
   "metadata": {},
   "outputs": [],
   "source": []
  }
 ],
 "metadata": {
  "kernelspec": {
   "display_name": "rplab",
   "language": "python",
   "name": "rplab"
  },
  "language_info": {
   "codemirror_mode": {
    "name": "ipython",
    "version": 3
   },
   "file_extension": ".py",
   "mimetype": "text/x-python",
   "name": "python",
   "nbconvert_exporter": "python",
   "pygments_lexer": "ipython3"
  }
 },
 "nbformat": 4,
 "nbformat_minor": 5
}

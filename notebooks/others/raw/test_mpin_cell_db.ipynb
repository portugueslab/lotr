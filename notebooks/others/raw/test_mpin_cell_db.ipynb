{
 "cells": [
  {
   "cell_type": "markdown",
   "id": "cf269139-3b90-477c-81a1-5794c97e4cbf",
   "metadata": {},
   "source": [
    "## Draw mask with this upper part of the notebook:"
   ]
  },
  {
   "cell_type": "code",
   "execution_count": null,
   "id": "7a8ca236-1b98-4fb4-9819-df4185e74dbd",
   "metadata": {},
   "outputs": [],
   "source": [
    "%gui qt\n",
    "\n",
    "import napari\n",
    "from bg_atlasapi import BrainGlobeAtlas\n",
    "\n",
    "atlas = BrainGlobeAtlas(\"mpin_zfish_1um\")\n",
    "\n",
    "v = napari.view_image(atlas.reference)"
   ]
  },
  {
   "cell_type": "code",
   "execution_count": null,
   "id": "f294bdab-f5d3-4536-a57d-072e33a1776b",
   "metadata": {},
   "outputs": [],
   "source": [
    "lab_stack = v.layers[\"Labels\"].data"
   ]
  },
  {
   "cell_type": "code",
   "execution_count": null,
   "id": "3a9da614-35a4-41b4-9926-252126870284",
   "metadata": {},
   "outputs": [],
   "source": [
    "import numpy as np"
   ]
  },
  {
   "cell_type": "code",
   "execution_count": null,
   "id": "0b5b26d7-aea7-4cbc-89a3-0588a738a05c",
   "metadata": {},
   "outputs": [],
   "source": [
    "np.save(\"/Users/luigipetrucco/Desktop/mask.npy\", lab_stack)"
   ]
  },
  {
   "cell_type": "code",
   "execution_count": null,
   "id": "4a8aeb4e-0eed-4256-a7bf-5d6879e2c9ca",
   "metadata": {},
   "outputs": [],
   "source": []
  },
  {
   "cell_type": "markdown",
   "id": "30f41af0-c9b4-451f-8cce-1e86f3c1c65a",
   "metadata": {},
   "source": [
    "## Find neurons here"
   ]
  },
  {
   "cell_type": "code",
   "execution_count": null,
   "id": "ac72c20f-dd47-47dc-8c01-296015a33781",
   "metadata": {},
   "outputs": [],
   "source": [
    "%matplotlib widget\n",
    "from pathlib import Path\n",
    "\n",
    "import numpy as np\n",
    "import pandas as pd\n",
    "from bg_atlasapi import BrainGlobeAtlas\n",
    "from matplotlib import pyplot as plt\n",
    "from morphapi.api.mpin_celldb import MpinMorphologyAPI\n",
    "from tqdm import tqdm\n",
    "\n",
    "atlas = BrainGlobeAtlas(\"mpin_zfish_1um\")\n",
    "\n",
    "api = MpinMorphologyAPI()\n",
    "mask = np.load(\"/Users/luigipetrucco/Desktop/mask.npy\")"
   ]
  },
  {
   "cell_type": "markdown",
   "id": "7a55f760-84ce-4743-83e2-24cff59f7c36",
   "metadata": {},
   "source": [
    "neurons = []\n",
    "c = 0\n",
    "for neuron in tqdm(api.neurons_df.index):\n",
    "    try:\n",
    "        neurons.append(api.load_neurons(neuron)[0])\n",
    "    except:\n",
    "        c += 1\n",
    "\n",
    "print(\"problems on \", c, \" files, loaded \", len(neurons))"
   ]
  },
  {
   "cell_type": "code",
   "execution_count": null,
   "id": "cbcab35c-3b42-4307-8e2e-02798f22f674",
   "metadata": {},
   "outputs": [],
   "source": [
    "path = Path(\"/Users/luigipetrucco/.morphapi/Data/mpin_morphology/fixed\")\n",
    "\n",
    "\n",
    "neurons_dfs = []\n",
    "somas = []\n",
    "valid = []\n",
    "for k, neuron in enumerate(path.glob(\"*.swc\")):\n",
    "    neuron = pd.read_csv(neuron, sep=\" \", header=None, comment=\"#\")\n",
    "    soma = neuron.iloc[0, 2:5].values\n",
    "\n",
    "    try:\n",
    "        if mask[atlas._idx_from_coords(soma, False)] > 0:\n",
    "            valid.append(k)\n",
    "    except IndexError:\n",
    "        pass\n",
    "\n",
    "    somas.append(soma)\n",
    "    neurons_dfs.append(neuron)"
   ]
  },
  {
   "cell_type": "code",
   "execution_count": null,
   "id": "9c0b99cd-33e2-4162-958d-69b032a8066d",
   "metadata": {},
   "outputs": [],
   "source": [
    "all_somas = np.array(somas)"
   ]
  },
  {
   "cell_type": "code",
   "execution_count": null,
   "id": "f1114cf4-2284-4619-90eb-d7f5241162c4",
   "metadata": {},
   "outputs": [],
   "source": [
    "plt.figure()\n",
    "plt.scatter(all_somas[:, 0], all_somas[:, 1])\n",
    "plt.scatter(all_somas[valid, 0], all_somas[valid, 1])"
   ]
  },
  {
   "cell_type": "code",
   "execution_count": null,
   "id": "aea3757e-10ae-45ef-973f-2c1607be92bd",
   "metadata": {},
   "outputs": [],
   "source": [
    "sel_neurons = [neurons_dfs[k].values[:, 2:-2] for k in valid]\n",
    "n_neurons = len(sel_neurons)"
   ]
  },
  {
   "cell_type": "code",
   "execution_count": null,
   "id": "58355a48-fd8b-45ed-af36-59956d165352",
   "metadata": {},
   "outputs": [],
   "source": [
    "from sklearn.metrics.pairwise import euclidean_distances\n",
    "\n",
    "cell_dist = np.zeros((n_neurons,) * 2)\n",
    "\n",
    "for i in tqdm(range(n_neurons)):\n",
    "    for j in range(i + 1, n_neurons):\n",
    "        c1 = sel_neurons[i]  # coords of cell 1\n",
    "        c2 = sel_neurons[j]  # coords of cell 2\n",
    "        coords_dist = euclidean_distances(\n",
    "            c1, c2\n",
    "        )  # calculate pairwise Euclidean distance\n",
    "        d = np.median(np.concatenate([np.min(coords_dist, 0), np.min(coords_dist, 1)]))\n",
    "        # d = np.median(np.concatenate([np.median(coords_dist, 0), np.median(coords_dist, 1)]))\n",
    "        cell_dist[i, j], cell_dist[j, i] = d, d\n",
    "        # cell_dist[i, j] = np.median(np.min(coords_dist, 0))  # median of min distances for each coord cell 1\n",
    "        # cell_dist[j, i] = np.median(np.min(coords_dist, 1)) # median of min distances for each coord cell"
   ]
  },
  {
   "cell_type": "code",
   "execution_count": null,
   "id": "e9d3aa18-c203-4c0b-879b-ce8618ad305e",
   "metadata": {},
   "outputs": [],
   "source": [
    "for i in range(n_neurons):\n",
    "    for j in range(n_neurons):\n",
    "        cell_dist[j, i] = cell_dist[i, j]"
   ]
  },
  {
   "cell_type": "code",
   "execution_count": null,
   "id": "15328bff-a5ab-414b-bd84-0e217cda1172",
   "metadata": {},
   "outputs": [],
   "source": [
    "import scipy.cluster.hierarchy as sch\n",
    "import seaborn as sns\n",
    "\n",
    "linkage = sch.linkage(cell_dist, method=\"average\")"
   ]
  },
  {
   "cell_type": "code",
   "execution_count": null,
   "id": "910c07fc-bc2d-461d-a75f-20de009033ce",
   "metadata": {},
   "outputs": [],
   "source": [
    "f = plt.figure(figsize=(5, 9))\n",
    "f.add_axes((0.2, 0.6, 0.6, 0.3))\n",
    "dendrogram = sch.dendrogram(linkage)\n",
    "s_idxs = dendrogram[\"leaves\"]\n",
    "# plt.xticks([])\n",
    "# plt.yticks([])\n",
    "\n",
    "f.add_axes((0.2, 0.2, 0.6, 0.5))\n",
    "plt.imshow(cell_dist[s_idxs, :][:, s_idxs])\n",
    "# plt.xticks([])\n",
    "# plt.yticks([])\n",
    "plt.show()\n",
    "# sns.despine(left=True, bottom=True)"
   ]
  },
  {
   "cell_type": "code",
   "execution_count": null,
   "id": "7c8d78c2-afbc-4af9-82ea-0b377734e257",
   "metadata": {},
   "outputs": [],
   "source": [
    "plt.figure(figsize=(6, 3))\n",
    "thr = 200\n",
    "dendrogram = sch.dendrogram(linkage)\n",
    "plt.axhline(thr)"
   ]
  },
  {
   "cell_type": "code",
   "execution_count": null,
   "id": "5e306439-dc3e-48a8-9b3f-8ebb86f9acf1",
   "metadata": {},
   "outputs": [],
   "source": [
    "clusters = sch.cut_tree(linkage, height=thr).flatten()"
   ]
  },
  {
   "cell_type": "code",
   "execution_count": null,
   "id": "08c00b84-9b88-4bf5-bc78-bd753b5f6a97",
   "metadata": {},
   "outputs": [],
   "source": [
    "cols = sns.color_palette(n_colors=clusters.max() + 1)"
   ]
  },
  {
   "cell_type": "code",
   "execution_count": null,
   "id": "256efe62-43c1-4d05-a994-f27aaeed06e6",
   "metadata": {},
   "outputs": [],
   "source": [
    "plt.figure(figsize=(6, 3))\n",
    "# for i in range(clusters.max() + 1):  # [0]\n",
    "# n_val = n[(n[:, 1] > 100) & (n[:, 2] > 100), :]\n",
    "for c, n in zip(clusters, sel_neurons):\n",
    "    n = n[n[:, 0] < 800, :]\n",
    "    plt.scatter(n[:, 0], n[:, 2], s=2, color=cols[c])\n",
    "    plt.axis(\"equal\")\n",
    "\n",
    "plt.xlabel(\"A-P\")\n",
    "plt.ylabel(\"L-R\")\n",
    "plt.tight_layout()"
   ]
  },
  {
   "cell_type": "code",
   "execution_count": null,
   "id": "2062238f-6645-4102-9856-67e9b7fda01f",
   "metadata": {},
   "outputs": [],
   "source": [
    "-150 + 312  # +150"
   ]
  },
  {
   "cell_type": "code",
   "execution_count": null,
   "id": "46923c29-caa4-4fba-b63a-1ef31aeb9bfe",
   "metadata": {},
   "outputs": [],
   "source": [
    "n_clusts"
   ]
  },
  {
   "cell_type": "code",
   "execution_count": null,
   "id": "0daa78df-da96-479d-ace8-0163394fa5e6",
   "metadata": {},
   "outputs": [],
   "source": [
    "n_clusts = clusters.max() + 1\n",
    "f, axs = plt.subplots(n_clusts // 4, 4, figsize=(3, 8), sharex=True)\n",
    "\n",
    "\n",
    "bins = np.arange(-150, 150, 10)\n",
    "for c in range(n_clusts):\n",
    "    ax = axs[c // 4, c % 4]\n",
    "\n",
    "    thiss = np.concatenate(\n",
    "        [sel_neurons[i] for i in range(len(clusters)) if clusters[i] == c]\n",
    "    )\n",
    "    thiss = thiss[thiss[:, 0] < 800, :]\n",
    "    ax.hist(thiss[:, 2] - 312, bins, lw=0, fc=cols[c], alpha=0.3, density=True)\n",
    "    ax.axvline(0)\n",
    "    ax.set(yticks=[], ylabel=c)\n",
    "\n",
    "sns.despine"
   ]
  },
  {
   "cell_type": "code",
   "execution_count": null,
   "id": "252fc882-da91-4614-adae-0fbb17301895",
   "metadata": {},
   "outputs": [],
   "source": [
    "2, 4, 11, 19, 20, 17"
   ]
  },
  {
   "cell_type": "code",
   "execution_count": null,
   "id": "c2441c5b-bbde-4916-a3ff-95e69418f5aa",
   "metadata": {},
   "outputs": [],
   "source": [
    "%gui qt\n",
    "\n",
    "import napari"
   ]
  },
  {
   "cell_type": "code",
   "execution_count": null,
   "id": "eefcb541-00bc-4eb4-b53c-0f0ba43882f1",
   "metadata": {},
   "outputs": [],
   "source": [
    "napari.view_points"
   ]
  },
  {
   "cell_type": "code",
   "execution_count": null,
   "id": "57c9c1eb-c2b3-40a5-9969-7ba7235ab12c",
   "metadata": {},
   "outputs": [],
   "source": [
    "np.array(cols[c])"
   ]
  },
  {
   "cell_type": "code",
   "execution_count": null,
   "id": "47953e73-3a6e-44ef-a0a3-1c2b38c7ea61",
   "metadata": {},
   "outputs": [],
   "source": [
    "thiss.shape"
   ]
  },
  {
   "cell_type": "code",
   "execution_count": null,
   "id": "057ad05d-10f4-42ec-ad59-36e9b47cae26",
   "metadata": {},
   "outputs": [],
   "source": [
    "v = napari.Viewer(ndisplay=3)\n",
    "loop_over = [2, 4, 11, 19, 20, 17]  # range(clusters.max() + 1)\n",
    "\n",
    "for c in loop_over:\n",
    "    thiss = np.concatenate(\n",
    "        [sel_neurons[i][:1, :] for i in range(len(clusters)) if clusters[i] == c]\n",
    "    )\n",
    "    this_col = np.array(cols[c])\n",
    "    v.add_points(\n",
    "        thiss,\n",
    "        name=str(c) + \"_soma\",\n",
    "        edge_width=0,\n",
    "        size=15,\n",
    "        face_color=this_col,\n",
    "        n_dimensional=True,\n",
    "    )\n",
    "\n",
    "for c in loop_over:\n",
    "    thisc = np.concatenate(\n",
    "        [sel_neurons[i] for i in range(len(clusters)) if clusters[i] == c]\n",
    "    )\n",
    "    this_col = np.array(cols[c])\n",
    "    v.add_points(\n",
    "        thisc,\n",
    "        name=str(c),\n",
    "        edge_width=0,\n",
    "        size=3,\n",
    "        face_color=this_col,\n",
    "        n_dimensional=True,\n",
    "    )"
   ]
  },
  {
   "cell_type": "code",
   "execution_count": null,
   "id": "01fadeec-7a9a-4a0a-a3c2-4b11261a7b95",
   "metadata": {},
   "outputs": [],
   "source": [
    "v.add_image(atlas.reference)"
   ]
  },
  {
   "cell_type": "code",
   "execution_count": null,
   "id": "9dad4b9d-55ed-4508-9a2a-1d55b756a385",
   "metadata": {},
   "outputs": [],
   "source": [
    "v.add_image(mask)"
   ]
  },
  {
   "cell_type": "code",
   "execution_count": null,
   "id": "eb12750d-cbcb-47b8-a9b3-755a7c15e4dc",
   "metadata": {},
   "outputs": [],
   "source": []
  }
 ],
 "metadata": {
  "kernelspec": {
   "display_name": "rplab",
   "language": "python",
   "name": "rplab"
  },
  "language_info": {
   "codemirror_mode": {
    "name": "ipython",
    "version": 3
   },
   "file_extension": ".py",
   "mimetype": "text/x-python",
   "name": "python",
   "nbconvert_exporter": "python",
   "pygments_lexer": "ipython3"
  }
 },
 "nbformat": 4,
 "nbformat_minor": 5
}

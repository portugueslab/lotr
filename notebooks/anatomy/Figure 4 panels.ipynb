{
 "cells": [
  {
   "cell_type": "markdown",
   "id": "c3d0b458-6d68-4412-ae1f-e4739cfe15b9",
   "metadata": {},
   "source": [
    "# EM dataset"
   ]
  },
  {
   "cell_type": "markdown",
   "id": "6ec12112-9187-497f-865c-3ded689c4591",
   "metadata": {},
   "source": [
    "This notebook plots the overviews for the EM dataset in figure 4"
   ]
  },
  {
   "cell_type": "code",
   "execution_count": null,
   "id": "2712e332-00c3-4ba5-874a-606271579183",
   "metadata": {},
   "outputs": [],
   "source": [
    "%matplotlib widget"
   ]
  },
  {
   "cell_type": "code",
   "execution_count": null,
   "id": "dd01f9a5-f1d1-4191-9578-d324cbd2eef8",
   "metadata": {},
   "outputs": [],
   "source": [
    "import numpy as np\n",
    "\n",
    "from lotr import DATASET_LOCATION\n",
    "from lotr import plotting as pltltr\n",
    "from lotr.analysis.pool_cell_info import get_pooled_cell_info\n",
    "from lotr.em.core import MIDLINES\n",
    "from lotr.em.loading import load_skeletons_from_zip\n",
    "from matplotlib import pyplot as plt\n",
    "\n",
    "COLS = pltltr.COLS"
   ]
  },
  {
   "cell_type": "markdown",
   "id": "f7b3711f-0c34-4d1a-a772-2d3564384990",
   "metadata": {},
   "source": [
    "## Data loading"
   ]
  },
  {
   "cell_type": "code",
   "execution_count": null,
   "id": "a7b754fd-0bfe-4f92-bc97-7a87249c2de1",
   "metadata": {},
   "outputs": [],
   "source": [
    "# Reference:\n",
    "# Load the gad1b stack and the annotation from the IPN atlas:\n",
    "\n",
    "from bg_atlasapi.core import Atlas\n",
    "\n",
    "atlas = Atlas(DATASET_LOCATION / \"anatomy\" / \"ipn_zfish_0.5um_v1.8\")\n",
    "\n",
    "gad1b_stack = atlas.additional_references[\"gal4_gad1b\"]\n",
    "gad1b_stack[gad1b_stack > 2**16-1000] = 0  # ugly hardcoded fix for histogram normalization issue\n",
    "\n",
    "annotation = atlas.get_structure_mask(\"ipn\") > 0\n",
    "annotation_dipn = atlas.get_structure_mask(\"dipn\") > 0"
   ]
  },
  {
   "cell_type": "code",
   "execution_count": null,
   "id": "4b0de61e-2f6b-477a-926f-85ccfa1d2fcc",
   "metadata": {},
   "outputs": [],
   "source": [
    "# Load the EM and mirror neurons on one side:\n",
    "em_path = DATASET_LOCATION / \"anatomy\" / \"em_reconstructions\" / \"aHB_dIPN.k.zip\"\n",
    "\n",
    "sel_neurons = load_skeletons_from_zip(em_path)\n",
    "\n",
    "sel_neurons_not_mirr = sel_neurons.copy()\n",
    "for n in sel_neurons:\n",
    "    n.mirror_right = True"
   ]
  },
  {
   "cell_type": "code",
   "execution_count": null,
   "id": "5d491764-6f66-4947-b301-27f7bff86fab",
   "metadata": {},
   "outputs": [],
   "source": [
    "#  Specify axes limits over all dimensions:\n",
    "bs = dict(frontal=(30, 180), vertical=(-4, 170), sagittal=(-50, 120))\n",
    "\n",
    "plotter = pltltr.AtlasPlotter(\n",
    "    atlas=atlas,\n",
    "    structures=[\"ipn\", \"dipn\"],\n",
    "    mask_slices=dict(frontal=slice(0, 120)),\n",
    "    bounds_dict=dict(\n",
    "        frontal=[bs[\"vertical\"], bs[\"frontal\"]],\n",
    "        horizontal=[bs[\"sagittal\"], bs[\"frontal\"]],\n",
    "        sagittal=[bs[\"vertical\"], bs[\"sagittal\"]],\n",
    "    ),\n",
    ")"
   ]
  },
  {
   "cell_type": "markdown",
   "id": "784fb78f-f214-445d-9a69-fc29800f56c6",
   "metadata": {},
   "source": [
    "## All projections with anatomy"
   ]
  },
  {
   "cell_type": "markdown",
   "id": "0dc039a2-ee1f-4c81-9489-3cd017a41e4f",
   "metadata": {},
   "source": [
    "Load positions of all r1pi neurons in the IPN standard reference"
   ]
  },
  {
   "cell_type": "code",
   "execution_count": null,
   "id": "e1ee4edf-9fbb-4f00-9287-4ccdd8bcd882",
   "metadata": {},
   "outputs": [],
   "source": [
    "cells_df = get_pooled_cell_info()\n",
    "\n",
    "coords_not_mirr = cells_df.loc[cells_df[\"hdn\"], [f\"centered{i}\" for i in range(3)]].values\n",
    "coords_not_mirr[:, 1] += np.random.rand(coords_not_mirr.shape[0]) * 10\n",
    "\n",
    "coords = coords_not_mirr.copy()\n",
    "# Mirror on the right side\n",
    "left = coords[:, 2] < MIDLINES[\"ipn\"]\n",
    "coords[left, 2] = MIDLINES[\"ipn\"] + (MIDLINES[\"ipn\"] - coords[left, 2])\n",
    "idx_coords = (coords * 2).astype(int)"
   ]
  },
  {
   "cell_type": "code",
   "execution_count": null,
   "id": "9f1676fb-b2c8-4071-8d00-9ee85bd7d10c",
   "metadata": {},
   "outputs": [],
   "source": [
    "f, axs = plotter.generate_projection_plots()\n",
    "for n in sel_neurons:\n",
    "    n.mirror_right = True\n",
    "    \n",
    "lw = 0.5\n",
    "for i, neuron in enumerate(sel_neurons):\n",
    "    main_c = COLS[\"qualitative\"][i % len(COLS[\"qualitative\"])]\n",
    "    plotter.plot_neurons(\n",
    "        axs,\n",
    "        neuron,\n",
    "        select=\"dendrites\",\n",
    "        c=pltltr.shift_lum(main_c, -0.05),\n",
    "        lw=lw,\n",
    "        soma_s=30,\n",
    "    )\n",
    "    plotter.plot_neurons(\n",
    "        axs,\n",
    "        neuron,\n",
    "        select=\"axon\",\n",
    "        c=pltltr.shift_lum(main_c, 0.15),\n",
    "        lw=lw,\n",
    "        soma_s=0,\n",
    "        rasterized=True,\n",
    "    )\n",
    "\n",
    "for i, (proj, pos) in enumerate(\n",
    "    zip(plotter.space.sections, [(35, 165), (35, 110), (5, 165)])\n",
    "):\n",
    "    pltltr.add_anatomy_scalebar(\n",
    "        axs[i], plane=proj, pos=pos, cartesian=True, equalize_axis=False, length=30,\n",
    "    )\n",
    "#pltltr.savefig(\"dipn_neurons_noanat\", folder=\"S10\")"
   ]
  },
  {
   "cell_type": "code",
   "execution_count": null,
   "id": "bc3264b7-d23f-45e1-a8f0-985cceabe724",
   "metadata": {},
   "outputs": [],
   "source": [
    "import matplotlib.cm as cm\n",
    "\n",
    "cmap = cm.get_cmap(\"GnBu\").copy()\n",
    "cmap.set_under(\"none\")\n",
    "# cmap.set_over(\"none\")\n",
    "\n",
    "t = [False, False, True]\n",
    "\n",
    "\n",
    "gad1b_slices = [slice(20, 170), slice(None), slice(None)]\n",
    "plotter.axs_scatterplot(axs, coords, c=COLS[\"qualitative\"][0], alpha=0.08, s=10, lw=0, rasterized=True)\n",
    "for i in range(3):\n",
    "    slices = [slice(None, None),] * 3\n",
    "    slices[i] = gad1b_slices[i]\n",
    "    im = gad1b_stack[slices].max(i)\n",
    "    if t[i]:\n",
    "        im = im.T\n",
    "    axs[i].imshow(\n",
    "        im,\n",
    "        origin=\"lower\",\n",
    "        cmap=\"gray_r\",\n",
    "        vmin=450,\n",
    "        vmax=10000,\n",
    "        extent=(0, gad1b_stack.shape[2] / 2, 0, gad1b_stack.shape[1] / 2),\n",
    "    )\n",
    "\n",
    "pltltr.savefig(\"dipn_neurons_anat\")"
   ]
  },
  {
   "cell_type": "code",
   "execution_count": null,
   "id": "8fbaa699-5496-4c34-b799-4108e42a634d",
   "metadata": {},
   "outputs": [],
   "source": [
    "f, axs = plotter.generate_projection_plots()\n",
    "\n",
    "lw = 0.5\n",
    "for i, neuron in enumerate(sel_neurons_not_mirr):\n",
    "    main_c = COLS[\"qualitative\"][i % len(COLS[\"qualitative\"])]\n",
    "    plotter.plot_neurons(\n",
    "        axs,\n",
    "        neuron,\n",
    "        select=\"dendrites\",\n",
    "        c=pltltr.shift_lum(main_c, -0.05),\n",
    "        lw=lw,\n",
    "        soma_s=30,\n",
    "        rasterized=True\n",
    "    )\n",
    "    plotter.plot_neurons(\n",
    "        axs,\n",
    "        neuron,\n",
    "        select=\"axon\",\n",
    "        c=pltltr.shift_lum(main_c, 0.15),\n",
    "        lw=lw,\n",
    "        soma_s=0,\n",
    "        rasterized=True,\n",
    "    )\n",
    "\n",
    "for i, (proj, pos) in enumerate(\n",
    "    zip(plotter.space.sections, [(35, 165), (35, 110), (5, 165)])\n",
    "):\n",
    "    pltltr.add_anatomy_scalebar(\n",
    "        axs[i], plane=proj, pos=pos, cartesian=True, equalize_axis=False, length=30,\n",
    "    )\n",
    "pltltr.savefig(\"dipn_neurons_onlyem\", folder=\"S11\")"
   ]
  },
  {
   "cell_type": "code",
   "execution_count": null,
   "id": "a3e9b377-bfe8-4b58-89aa-36596a69da35",
   "metadata": {},
   "outputs": [],
   "source": [
    "f, axs = plotter.generate_projection_plots()\n",
    "plotter.axs_scatterplot(axs, coords_not_mirr, c=COLS[\"qualitative\"][0], alpha=0.08, s=10, lw=0, rasterized=True)\n",
    "pltltr.savefig(\"dipn_neurons_onlyring\", folder=\"S11\")"
   ]
  },
  {
   "cell_type": "code",
   "execution_count": null,
   "id": "8c880790-353b-4835-80bf-bcd672835413",
   "metadata": {},
   "outputs": [],
   "source": [
    "f, axs = plotter.generate_projection_plots()\n",
    "t = [False, False, True]\n",
    "gad1b_slices = [slice(20, 170), slice(None), slice(None)]\n",
    "for i in range(3):\n",
    "    slices = [slice(None, None),] * 3\n",
    "    slices[i] = gad1b_slices[i]\n",
    "    im = gad1b_stack[slices].max(i)\n",
    "    if t[i]:\n",
    "        im = im.T\n",
    "    axs[i].imshow(\n",
    "        im,\n",
    "        origin=\"lower\",\n",
    "        cmap=\"gray_r\",\n",
    "        vmin=0,\n",
    "        vmax=10000,\n",
    "        extent=(0, gad1b_stack.shape[2] / 2, 0, gad1b_stack.shape[1] / 2),\n",
    "    )\n",
    "pltltr.savefig(\"dipn_neurons_onlyanat\", folder=\"S11\")"
   ]
  },
  {
   "cell_type": "markdown",
   "id": "f1a69bbe-35ac-4187-87c2-ad1971756adc",
   "metadata": {},
   "source": [
    "## Single projection with anatomy"
   ]
  },
  {
   "cell_type": "code",
   "execution_count": null,
   "id": "634c1cca-f29b-4720-8218-373a4fee6f67",
   "metadata": {},
   "outputs": [],
   "source": [
    "def plot_bg(ax):\n",
    "    ax.imshow(\n",
    "    gad1b_stack[20:170, :, :].max(0),\n",
    "    origin=\"lower\",\n",
    "    cmap=\"gray_r\",\n",
    "    vmin=450,\n",
    "    vmax=15000,\n",
    "    extent=(0, (gad1b_stack.shape[2] / 2) * s, 0, (gad1b_stack.shape[1] / 2) * s),\n",
    "    )\n",
    "    pltltr.plot_projection(\n",
    "        annotation[:120, :, :],\n",
    "        0,\n",
    "        ax=ax,\n",
    "        smooth_wnd=15,\n",
    "        linewidth=0.5,\n",
    "        fill=False,\n",
    "        edgecolor=\".3\",\n",
    "    )\n",
    "    pltltr.plot_projection(\n",
    "        annotation_dipn[:120, :, :],\n",
    "        0,\n",
    "        ax=ax,\n",
    "        smooth_wnd=15,\n",
    "        linewidth=0.5,\n",
    "        fill=False,\n",
    "        edgecolor=\".3\",\n",
    "    )"
   ]
  },
  {
   "cell_type": "code",
   "execution_count": null,
   "id": "7b7f5d53-5a0a-4807-9304-59da508e12f8",
   "metadata": {},
   "outputs": [],
   "source": [
    "off_x = 0\n",
    "off_y = 0\n",
    "s = 1.0\n",
    "f, axs = plt.subplots(4, 5, figsize=(8, 8))\n",
    "\n",
    "for i, neuron in enumerate(sel_neurons_not_mirr):\n",
    "    ax = axs.flatten()[i]\n",
    "    plot_bg(ax)\n",
    "    main_c = COLS[\"qualitative\"][i % len(COLS[\"qualitative\"])]\n",
    "    lines = neuron.generate_plotlines_from_skeleton(space=\"ipn\", select=\"dendrites\")\n",
    "    (l,) = ax.plot(\n",
    "        lines[:, 2], lines[:, 1], lw=0.5, c=pltltr.shift_lum(main_c, -0.15)\n",
    "    )\n",
    "\n",
    "    lines = neuron.generate_plotlines_from_skeleton(space=\"ipn\", select=\"axon\")\n",
    "    (l,) = ax.plot(\n",
    "        lines[:, 2], lines[:, 1], lw=0.5, c=pltltr.shift_lum(main_c, 0.15)\n",
    "    )\n",
    "\n",
    "    soma = neuron.coords_ipn[neuron.soma_idx, :]\n",
    "    ax.scatter(soma[2], soma[1], s=30, color=pltltr.shift_lum(main_c, -0.15))\n",
    "    ax.axis(\"equal\")\n",
    "    ax.set_title(neuron.id, c=main_c, fontsize=7, pad=-0.1)\n",
    "    ax.set(ylim=(170, -25), xlim=(20, 190))\n",
    "    \n",
    "[pltltr.despine(ax, \"all\") for ax in axs.flatten()]\n",
    "\n",
    "pltltr.add_scalebar(\n",
    "    ax, ylen=-40, xlen=40, ypos=170, xpos=40, xlabel=\"L. - R.\", ylabel=\"inf. sup.\"\n",
    ")\n",
    "pltltr.savefig(\"dipn_neurons_individual_neurons\", folder=\"S12\")"
   ]
  },
  {
   "cell_type": "code",
   "execution_count": null,
   "id": "6ac0cf11-eb3d-49d5-b24e-7cc9629a4ae7",
   "metadata": {},
   "outputs": [],
   "source": []
  }
 ],
 "metadata": {
  "kernelspec": {
   "display_name": "rplab",
   "language": "python",
   "name": "rplab"
  },
  "language_info": {
   "codemirror_mode": {
    "name": "ipython",
    "version": 3
   },
   "file_extension": ".py",
   "mimetype": "text/x-python",
   "name": "python",
   "nbconvert_exporter": "python",
   "pygments_lexer": "ipython3"
  }
 },
 "nbformat": 4,
 "nbformat_minor": 5
}

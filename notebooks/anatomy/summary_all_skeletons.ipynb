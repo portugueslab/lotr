{
 "cells": [
  {
   "cell_type": "code",
   "execution_count": null,
   "metadata": {},
   "outputs": [],
   "source": [
    "%matplotlib widget\n",
    "\n",
    "from pathlib import Path\n",
    "\n",
    "import flammkuchen as fl\n",
    "import numpy as np\n",
    "from bg_atlasapi.core import Atlas\n",
    "from matplotlib import pyplot as plt\n",
    "from motions.em import NeuroSkeleton, load_skeletons_from_zip\n",
    "from motions.em.skeleton_mesh import make_full_neuron\n",
    "from tqdm import tqdm\n",
    "\n",
    "atlas = Atlas(\"/Users/luigipetrucco/.brainglobe/ipn_zfish_0.5um_v1.4\")\n",
    "\n",
    "import lotr.plotting as pltltr\n",
    "\n",
    "# Neuron plotter\n",
    "from motions.em.plotting import AtlasPlotter\n",
    "\n",
    "plotter = AtlasPlotter(\n",
    "    structures=[\"lat_l_col\", \"ipn\", \"lat_r_col\", \"med_l_col\", \"med_r_col\"]\n",
    ")\n",
    "# plotter = AtlasPlotter(structures=[\"ipn\"])\n",
    "plotter.shape_color = None\n",
    "plotter.shape_fill = False\n",
    "plotter.shape_linewidth = 0.2\n",
    "plotter.shape_linecolor = (0.1,) * 3\n",
    "plotter.shape_alpha = 1\n",
    "plotter.font_size = 10"
   ]
  },
  {
   "cell_type": "code",
   "execution_count": null,
   "metadata": {},
   "outputs": [],
   "source": [
    "master_folder = Path(r\"J:\\_Shared\\experiments\\E0060_ipn_em_tracing\")\n",
    "# master_folder =  Path(r\"C:\\Users\\lpetrucco\\Desktop\")\n",
    "master_folder = Path(\"/Users/luigipetrucco/Google Drive/data/ipn_tracing/\")\n",
    "data_folder = master_folder / \"main_data_dir\"\n",
    "neurons_dict = fl.load(data_folder / \"all_skeletons.h5\")"
   ]
  },
  {
   "cell_type": "markdown",
   "metadata": {},
   "source": [
    "# Cell plots"
   ]
  },
  {
   "cell_type": "code",
   "execution_count": null,
   "metadata": {},
   "outputs": [],
   "source": [
    "from matplotlib.backends.backend_pdf import PdfPages"
   ]
  },
  {
   "cell_type": "code",
   "execution_count": null,
   "metadata": {},
   "outputs": [],
   "source": [
    "with PdfPages(f\"/Users/luigipetrucco/Desktop/em_all_skeletons.pdf\") as pdf:\n",
    "    for cid in neurons_dict.keys():\n",
    "\n",
    "        f, axs = plt.subplots(1, 3, figsize=(6, 3))\n",
    "        plotter.generate_projection_plots(axs, labels=True, edge=250, title=True)\n",
    "        try:\n",
    "            plotter.plot_neurons(\n",
    "                axs,\n",
    "                neurons_dict[cid],\n",
    "                color=pltltr.COLS[\"fish_cols\"][5],\n",
    "                linewidth=0.5,\n",
    "                select=\"axon\",\n",
    "                soma_s=0,\n",
    "                alpha=1,\n",
    "                rasterized=True,\n",
    "            )\n",
    "        except ValueError:\n",
    "            pass\n",
    "        plotter.plot_neurons(\n",
    "            axs,\n",
    "            neurons_dict[cid],\n",
    "            color=pltltr.COLS[\"fish_cols\"][0],\n",
    "            linewidth=0.5,\n",
    "            select=\"dendrites\",\n",
    "            alpha=1,\n",
    "            rasterized=True,\n",
    "        )\n",
    "        plt.suptitle(cid, fontsize=8)\n",
    "        pdf.savefig(f, dpi=300)  # or you can pass a Figure object to pdf.savefig\n",
    "        plt.close()"
   ]
  },
  {
   "cell_type": "code",
   "execution_count": null,
   "metadata": {},
   "outputs": [],
   "source": []
  }
 ],
 "metadata": {
  "kernelspec": {
   "display_name": "rplab",
   "language": "python",
   "name": "rplab"
  },
  "language_info": {
   "codemirror_mode": {
    "name": "ipython",
    "version": 3
   },
   "file_extension": ".py",
   "mimetype": "text/x-python",
   "name": "python",
   "nbconvert_exporter": "python",
   "pygments_lexer": "ipython3",
   "version": "3.8.8"
  }
 },
 "nbformat": 4,
 "nbformat_minor": 4
}

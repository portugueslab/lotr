{
 "cells": [
  {
   "cell_type": "code",
   "execution_count": null,
   "metadata": {},
   "outputs": [],
   "source": [
    "%matplotlib widget"
   ]
  },
  {
   "cell_type": "code",
   "execution_count": null,
   "metadata": {},
   "outputs": [],
   "source": [
    "from pathlib import Path\n",
    "\n",
    "import numpy as np\n",
    "from lotr import DATASET_LOCATION\n",
    "from lotr import plotting as pltltr\n",
    "from lotr.analysis.pool_cell_info import get_pooled_cell_info\n",
    "from lotr.em.core import MIDLINES\n",
    "from lotr.em.loading import load_skeletons_from_zip\n",
    "from lotr.result_logging import ResultsLogger\n",
    "from lotr.utils import linear_regression\n",
    "from matplotlib import cm\n",
    "from matplotlib import pyplot as plt\n",
    "from scipy.ndimage.filters import gaussian_filter\n",
    "from scipy.ndimage.morphology import binary_dilation\n",
    "from tqdm import tqdm\n",
    "\n",
    "logger = ResultsLogger()\n",
    "\n",
    "COLS = pltltr.COLS\n",
    "import flammkuchen as fl"
   ]
  },
  {
   "cell_type": "code",
   "execution_count": null,
   "metadata": {},
   "outputs": [],
   "source": [
    "from bg_atlasapi.core import Atlas\n",
    "\n",
    "atlas = Atlas(DATASET_LOCATION.parent / \"anatomy\" / \"ipn_zfish_0.5um_v1.6\")\n",
    "\n",
    "# Reference:\n",
    "# Load the gad1b stack and the annotation from the IPN atlas:\n",
    "bs = dict(frontal=(30, 180), vertical=(-25, 170), sagittal=(-50, 120))\n",
    "plotter = pltltr.AtlasPlotter(\n",
    "    atlas=atlas,\n",
    "    structures=[\"ipn\", \"dors_ipn\"],\n",
    "    mask_slices=dict(frontal=slice(0, 120)),\n",
    "    bounds_dict=dict(\n",
    "        frontal=[bs[\"vertical\"], bs[\"frontal\"]],\n",
    "        horizontal=[bs[\"sagittal\"], bs[\"frontal\"]],\n",
    "        sagittal=[bs[\"vertical\"], bs[\"sagittal\"]],\n",
    "    ),\n",
    ")"
   ]
  },
  {
   "cell_type": "code",
   "execution_count": null,
   "metadata": {},
   "outputs": [],
   "source": [
    "# Load the EM and mirror neurons on one side:\n",
    "em_path = DATASET_LOCATION.parent / \"anatomy\" / \"all_ahb.k.zip\"\n",
    "\n",
    "neurons_list = load_skeletons_from_zip(em_path)\n",
    "\n",
    "# for n in neurons_list:\n",
    "#    n.mirror = True\n",
    "\n",
    "# Select neurons with projections internal to the dIPN:\n",
    "\n",
    "sel_neurons = [\n",
    "    n\n",
    "    for n in neurons_list\n",
    "    if (\"bilat\" in n.comments or \"bilatdend\" in n.comments)\n",
    "    and not \"proj\" in n.comments\n",
    "    and not \"diff\" in n.comments\n",
    "    and \"dipn\" in n.comments.split(\"_\")\n",
    "]"
   ]
  },
  {
   "cell_type": "code",
   "execution_count": null,
   "metadata": {},
   "outputs": [],
   "source": [
    "centroids = []\n",
    "for n in sel_neurons:\n",
    "    n.mirror = \"right\"\n",
    "    centroids.append(\n",
    "        [n.find_centroid_bifurcation(select=s) for s in [\"dendrites\", \"axon\"]]\n",
    "    )\n",
    "\n",
    "centroids = np.array(centroids)\n",
    "norm_cm = centroids[:, 1, 2] - centroids[:, 1, 2].min()\n",
    "norm_cm = norm_cm + 3\n",
    "norm_cm = norm_cm / (norm_cm.max() + 0.01)"
   ]
  },
  {
   "cell_type": "code",
   "execution_count": null,
   "metadata": {},
   "outputs": [],
   "source": [
    "f, axs = plotter.generate_projection_plots()\n",
    "\n",
    "lw = 0.5\n",
    "for i, (neuron, c) in enumerate(zip(sel_neurons, norm_cm)):\n",
    "    if \"bilat\" in neuron.comments and \"dipn\" in neuron.comments.split(\"_\"):\n",
    "        neuron.mirror = \"right\"\n",
    "        phase_r = np.pi * c\n",
    "        main_c = COLS[\"phase\"](\n",
    "            (phase_r + np.pi) / (2 * np.pi)\n",
    "        )  # cm.get_cmap(\"Reds\")(c)\n",
    "        plotter.plot_neurons(axs, neuron, c=main_c, lw=lw, rasterized=True)\n",
    "        neuron.mirror = \"left\"\n",
    "        phase_l = -np.pi * c\n",
    "        main_c = COLS[\"phase\"]((phase_l + np.pi) / (2 * np.pi))\n",
    "        plotter.plot_neurons(axs, neuron, c=main_c, lw=lw, rasterized=True)"
   ]
  },
  {
   "cell_type": "code",
   "execution_count": null,
   "metadata": {},
   "outputs": [],
   "source": [
    "dest_dir = Path(r\"/Users/luigipetrucco/Desktop/4_vilim_preprint\")\n",
    "dest_dir.mkdir(exist_ok=True)"
   ]
  },
  {
   "cell_type": "code",
   "execution_count": null,
   "metadata": {},
   "outputs": [],
   "source": [
    "from lotr import A_FISH, LotrExperiment\n",
    "from lotr.analysis.activity_profile import resample_and_shift\n",
    "\n",
    "n_bins = 100\n",
    "exp = LotrExperiment(A_FISH)\n",
    "sorted_traces = exp.traces[:, exp.hdn_indexes[np.argsort(exp.rpc_angles)]]\n",
    "resamp, _ = resample_and_shift(exp, n_bins_resampling=n_bins)"
   ]
  },
  {
   "cell_type": "code",
   "execution_count": null,
   "metadata": {},
   "outputs": [],
   "source": [
    "f, axs = plotter.generate_projection_plots()\n",
    "\n",
    "lw = 0.5\n",
    "for i, (neuron, c) in enumerate(zip(sel_neurons, norm_cm)):\n",
    "\n",
    "    orig_side = \"left\"\n",
    "    if neuron._coords_ipn[neuron.soma_idx, 2] > 115:\n",
    "        orig_side = \"right\"\n",
    "\n",
    "    for i_s, side in enumerate([\"left\", \"right\"]):\n",
    "        dest_subfold = dest_dir / side\n",
    "        dest_subfold.mkdir(exist_ok=True)\n",
    "\n",
    "        neuron.mirror = side\n",
    "        phase = np.pi * c * (1 - i_s * 2)\n",
    "        main_c = COLS[\"phase\"]((phase + np.pi) / (2 * np.pi))  # cm.get_cmap(\"Reds\")(c)\n",
    "        plotter.plot_neurons(axs, neuron, c=main_c, lw=lw, rasterized=True)\n",
    "\n",
    "        dendrites = neuron.generate_plotlines_from_skeleton(\n",
    "            select=\"dendrites\", space=\"ipn\"\n",
    "        )\n",
    "        axon = neuron.generate_plotlines_from_skeleton(select=\"axon\", space=\"ipn\")\n",
    "\n",
    "        trace_i = int(((n_bins - 1) * (ph + np.pi) / (2 * np.pi)))\n",
    "        fl.save(\n",
    "            dest_subfold / neuron.id,\n",
    "            dict(\n",
    "                dendrites=dendrites,\n",
    "                axon=axon,\n",
    "                soma=neuron.coords_ipn[neuron.soma_idx],\n",
    "                orig_side=orig_side,\n",
    "                phase=phase,\n",
    "                norm_centroid_pos=c,\n",
    "                phase_color=main_c,\n",
    "                pseudo_activation=resamp[:, trace_i],\n",
    "            ),\n",
    "        )"
   ]
  },
  {
   "cell_type": "code",
   "execution_count": null,
   "metadata": {},
   "outputs": [],
   "source": [
    "dendrites = []\n",
    "axon = []\n",
    "try:\n",
    "    dendrites = neuron.generate_plotlines_from_skeleton(select=\"dendrites\", space=\"ipn\")\n",
    "except ValueError:\n",
    "    print(\"error for dendrite of n. \", neuron_id)\n",
    "\n",
    "try:\n",
    "    axon = neuron.generate_plotlines_from_skeleton(select=\"axon\", space=\"ipn\")\n",
    "except ValueError:\n",
    "    print(\"error for axon of n. \", neuron_id)\n",
    "\n",
    "fl.save(\n",
    "    dest_subfold / neuron.cell_id,\n",
    "    dict(dendrites=dendrites, axon=axon, soma=neuron.coords_ipn[neuron.soma_idx]),\n",
    ")"
   ]
  },
  {
   "cell_type": "code",
   "execution_count": null,
   "metadata": {},
   "outputs": [],
   "source": []
  },
  {
   "cell_type": "markdown",
   "metadata": {},
   "source": [
    "## recomputing the meshes"
   ]
  },
  {
   "cell_type": "code",
   "execution_count": null,
   "metadata": {},
   "outputs": [],
   "source": [
    "all_coords = []\n",
    "for i, (neuron, c) in enumerate(zip(sel_neurons, norm_cm)):\n",
    "\n",
    "    for i_s, side in enumerate([\"left\", \"right\"]):\n",
    "        neuron.mirror = side\n",
    "        lines = neuron.generate_plotlines_from_skeleton(select=\"all\", space=\"ipn\")\n",
    "        all_coords.append(lines)\n",
    "        all_coords.append([[np.nan, np.nan, np.nan]])"
   ]
  },
  {
   "cell_type": "code",
   "execution_count": null,
   "metadata": {},
   "outputs": [],
   "source": [
    "all_coords = np.concatenate(all_coords)"
   ]
  },
  {
   "cell_type": "code",
   "execution_count": null,
   "metadata": {},
   "outputs": [],
   "source": [
    "import meshio"
   ]
  },
  {
   "cell_type": "code",
   "execution_count": null,
   "metadata": {},
   "outputs": [],
   "source": [
    "?meshio.write"
   ]
  },
  {
   "cell_type": "code",
   "execution_count": null,
   "metadata": {},
   "outputs": [],
   "source": [
    "mesh_ipn.points"
   ]
  },
  {
   "cell_type": "code",
   "execution_count": null,
   "metadata": {},
   "outputs": [],
   "source": [
    "source_dir = Path(\n",
    "    \"/Users/luigipetrucco/Google Drive/data/all_source_data/anatomy/ipn_zfish_0.5um_v1.6/meshes\"\n",
    ")\n",
    "dest_dir = Path(\n",
    "    \"/Users/luigipetrucco/Google Drive/data/all_source_data/anatomy/ipn_zfish_0.5um_v1.7/meshes\"\n",
    ")\n",
    "for path in source_dir.glob(\"*obj\"):\n",
    "    mesh_ipn = meshio.read(path)\n",
    "    mesh_ipn.points[:, 1] += 55\n",
    "    mesh_ipn.points[:, 2] += 50\n",
    "    meshio.write(dest_dir / (path.stem + \".stl\"), mesh_ipn, file_format=\"stl\")"
   ]
  },
  {
   "cell_type": "code",
   "execution_count": null,
   "metadata": {},
   "outputs": [],
   "source": [
    "mesh_ipn = trimesh.load(\"/Users/luigipetrucco/Google Drive/data/all_source_data/anatomy/ipn_zfish_0.5um_v1.7/meshes/4.obj\")"
   ]
  },
  {
   "cell_type": "code",
   "execution_count": null,
   "metadata": {},
   "outputs": [],
   "source": [
    "plt.figure(figsize=(2, 2))\n",
    "plt.plot(all_coords[:, 1], all_coords[:, 0], lw=0.1)\n",
    "plt.scatter(mesh_ipn.vertices[:, 1], mesh_ipn.vertices[:, 0], s=5, c=\".5\")\n",
    "plt.axis(\"equal\")"
   ]
  },
  {
   "cell_type": "code",
   "execution_count": null,
   "metadata": {},
   "outputs": [],
   "source": []
  },
  {
   "cell_type": "code",
   "execution_count": null,
   "metadata": {},
   "outputs": [],
   "source": []
  }
 ],
 "metadata": {
  "kernelspec": {
   "display_name": "rplab",
   "language": "python",
   "name": "rplab"
  },
  "language_info": {
   "codemirror_mode": {
    "name": "ipython",
    "version": 3
   },
   "file_extension": ".py",
   "mimetype": "text/x-python",
   "name": "python",
   "nbconvert_exporter": "python",
   "pygments_lexer": "ipython3",
   "version": "3.8.8"
  }
 },
 "nbformat": 4,
 "nbformat_minor": 4
}

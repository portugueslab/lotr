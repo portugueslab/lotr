{
 "cells": [
  {
   "cell_type": "markdown",
   "id": "ed6cf8cd-ea06-4b1b-b559-381b05da4ddb",
   "metadata": {},
   "source": [
    "##"
   ]
  },
  {
   "cell_type": "code",
   "execution_count": null,
   "id": "e370af89-21e2-4921-91d3-c3fd3ef9ff54",
   "metadata": {},
   "outputs": [],
   "source": [
    "%matplotlib widget\n",
    "import lotr.plotting as pltltr\n",
    "import numpy as np\n",
    "from matplotlib import pyplot as plt\n",
    "from tifffile import imread"
   ]
  },
  {
   "cell_type": "code",
   "execution_count": null,
   "id": "4de802a5-cfd1-4ffa-8aaf-3625cfd20488",
   "metadata": {},
   "outputs": [],
   "source": [
    "stack = imread(\n",
    "    r\"/Volumes/Shared/confocal/gad1b_gal4_6s_huc_h2b_mcherry/201002_f0_gad1b-gcamo6s_h2b-mcherry_2020_10_02__12_21_33.lsm\"\n",
    ")"
   ]
  },
  {
   "cell_type": "code",
   "execution_count": null,
   "id": "8e3db6eb-d671-4438-9ccc-a2d98313033c",
   "metadata": {},
   "outputs": [],
   "source": [
    "stack.shape"
   ]
  },
  {
   "cell_type": "code",
   "execution_count": null,
   "id": "61025c20-f583-4f57-aa4c-64da8876a3a1",
   "metadata": {},
   "outputs": [],
   "source": [
    "f, ax = plt.subplots(figsize=(3, 3))\n",
    "plt.imshow(stack[-300:-30, 1, :, :].max(0), origin=\"upper\", cmap=\"gray_r\")\n",
    "pltltr.add_scalebar(ax, ylen=-100, ypos=650, xlabel=\"lf.-rt.\", ylabel=\"post.-ant.\")\n",
    "plt.text(120, -10, \"Tg(gad1b:Gal4;UAS:GCaMP6s)\", c=\".5\", fontsize=8)\n",
    "pltltr.savefig(\"gad1b_confocal\")"
   ]
  },
  {
   "cell_type": "code",
   "execution_count": null,
   "id": "fa5083f4-75ec-43e0-b7ca-b64e1a2004f6",
   "metadata": {},
   "outputs": [],
   "source": []
  }
 ],
 "metadata": {
  "kernelspec": {
   "display_name": "rplab",
   "language": "python",
   "name": "rplab"
  },
  "language_info": {
   "codemirror_mode": {
    "name": "ipython",
    "version": 3
   },
   "file_extension": ".py",
   "mimetype": "text/x-python",
   "name": "python",
   "nbconvert_exporter": "python",
   "pygments_lexer": "ipython3"
  }
 },
 "nbformat": 4,
 "nbformat_minor": 5
}

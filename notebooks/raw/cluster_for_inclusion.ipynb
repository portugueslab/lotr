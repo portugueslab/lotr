{
 "cells": [
  {
   "cell_type": "code",
   "execution_count": null,
   "id": "07883d72-3122-4221-8a07-0d2934467246",
   "metadata": {},
   "outputs": [],
   "source": [
    "%matplotlib widget\n",
    "from pathlib import Path\n",
    "\n",
    "import lotr.plotting as pltltr\n",
    "import numpy as np\n",
    "import pandas as pd\n",
    "from bouter.utilities import crop\n",
    "from lotr import A_FISH, LotrExperiment, dataset_folders\n",
    "from matplotlib import pyplot as plt\n",
    "from sklearn.decomposition import PCA\n",
    "from tqdm import tqdm\n",
    "from scipy.special import binom\n",
    "COLS = pltltr.COLS"
   ]
  },
  {
   "cell_type": "code",
   "execution_count": null,
   "id": "a6a30276-9224-45d4-a663-af57d701fd92",
   "metadata": {},
   "outputs": [],
   "source": [
    "traces = LotrExperiment(A_FISH).traces\n",
    "\n",
    "pca = PCA(n_components=100).fit(traces)\n",
    "pca_scores = pca.transform(traces)"
   ]
  },
  {
   "cell_type": "code",
   "execution_count": null,
   "id": "2c07ed70-c87a-4297-9820-f2f9a00e21de",
   "metadata": {},
   "outputs": [],
   "source": [
    "trasformed.shape"
   ]
  },
  {
   "cell_type": "code",
   "execution_count": null,
   "id": "75735626-d718-43fb-b151-4f32002488c6",
   "metadata": {},
   "outputs": [],
   "source": [
    "np.sum(pca.explained_variance_ratio_)"
   ]
  },
  {
   "cell_type": "code",
   "execution_count": null,
   "id": "2d797e1b-2b29-48a8-bdfc-0dee3e59da80",
   "metadata": {},
   "outputs": [],
   "source": [
    "binom(200, 8)/(1000000000)"
   ]
  },
  {
   "cell_type": "code",
   "execution_count": null,
   "id": "b54a2269-a719-45f6-b28c-23c416ef1919",
   "metadata": {},
   "outputs": [],
   "source": []
  }
 ],
 "metadata": {
  "kernelspec": {
   "display_name": "rplab",
   "language": "python",
   "name": "rplab"
  },
  "language_info": {
   "codemirror_mode": {
    "name": "ipython",
    "version": 3
   },
   "file_extension": ".py",
   "mimetype": "text/x-python",
   "name": "python",
   "nbconvert_exporter": "python",
   "pygments_lexer": "ipython3"
  }
 },
 "nbformat": 4,
 "nbformat_minor": 5
}

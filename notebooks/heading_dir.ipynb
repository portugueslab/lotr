{
 "cells": [
  {
   "cell_type": "code",
   "execution_count": null,
   "id": "8047d22c",
   "metadata": {},
   "outputs": [],
   "source": [
    "%matplotlib widget"
   ]
  },
  {
   "cell_type": "code",
   "execution_count": null,
   "id": "3c2bf9a2",
   "metadata": {},
   "outputs": [],
   "source": [
    "from pathlib import Path\n",
    "import numpy as np\n",
    "from matplotlib import  pyplot as plt\n",
    "import flammkuchen as fl\n",
    "import pandas as pd\n",
    "\n",
    "from fimpylab import LightsheetExperiment\n",
    "import pandas as pd\n",
    "\n",
    "import seaborn as sns\n",
    "from tqdm import tqdm\n",
    "sns.set(style=\"ticks\", palette=\"deep\")\n",
    "cols = sns.color_palette()\n",
    "import ipywidgets as widgets\n",
    "\n",
    "plt.rcParams['figure.constrained_layout.use'] = True\n",
    "plt.rcParams['font.family'] = 'sans-serif'\n",
    "plt.rcParams['font.sans-serif'] = ['Libertinus Sans']\n",
    "\n",
    "# %autoreload\n",
    "from lotr.utils import zscore\n",
    "from lotr.data_loading import preprocess_traces\n",
    "from lotr.pca import pca_and_phase, get_fictive_trajectory, \\\n",
    "    fictive_trajectory_and_fit, qap_sorting_and_phase, fit_phase_neurons\n",
    "\n"
   ]
  },
  {
   "cell_type": "code",
   "execution_count": null,
   "id": "830047cf",
   "metadata": {},
   "outputs": [],
   "source": [
    "path = Path(\"/Users/luigipetrucco/Desktop/source_data_old/210314_f1_natmov\")"
   ]
  },
  {
   "cell_type": "code",
   "execution_count": null,
   "id": "b1ddd91f",
   "metadata": {},
   "outputs": [],
   "source": [
    "traces_raw = fl.load(path / \"filtered_traces.h5\", \"/detr\")\n",
    "\n",
    "selected = fl.load(path / \"selected_cc.h5\")\n",
    "df = fl.load(path / \"bouts_df.h5\")# exp.get_bout_properties()\n",
    "exp = LightsheetExperiment(path)\n",
    "fn = int(exp.fn)\n",
    "beh_df = exp.behavior_log"
   ]
  },
  {
   "cell_type": "code",
   "execution_count": null,
   "id": "e087fb6c",
   "metadata": {},
   "outputs": [],
   "source": []
  },
  {
   "cell_type": "code",
   "execution_count": null,
   "id": "a2a6627e",
   "metadata": {},
   "outputs": [],
   "source": [
    "t_lims = [300, 2000]\n",
    "t_slice = slice(*t_lims)\n",
    "traces = traces_raw[t_slice, selected]\n",
    "sel_bouts = df[(df[\"idx_imaging\"] > t_lims[0]) & (df[\"idx_imaging\"] < t_lims[1])].copy()\n",
    "sel_bouts[\"idx_imaging\"] = sel_bouts[\"idx_imaging\"] - t_lims[0]\n",
    "\n",
    "pcaed, phase = pca_and_phase(traces, \n",
    "                             traces)\n",
    "phases_neuron, scores = fit_phase_neurons(traces, phase)\n",
    "unwrapped_phase = np.unwrap(phase)\n",
    "traj, params = fictive_trajectory_and_fit(unwrapped_phase, sel_bouts, min_bias=0.01)"
   ]
  },
  {
   "cell_type": "code",
   "execution_count": null,
   "id": "b3c1a17a",
   "metadata": {},
   "outputs": [],
   "source": [
    "plt.close(\"all\")\n",
    "plt.figure()\n",
    "plt.subplot(polar=False)\n",
    "\n",
    "for l, i in enumerate([73, 41, 13, 39]):\n",
    "    #w, b = np.histogram(phase, np.arange(-np.pi, np.pi, 0.2), \n",
    "    #                weights=traces[:, i])\n",
    "    b = np.arange(-np.pi, np.pi, 0.2)\n",
    "    w = np.array([np.nanmean(traces[(phase > b[n-1]) & (phase < b[n]), i]) \n",
    "         for n in range(1, len(b))])\n",
    "    w = w-w.min()\n",
    "    w = w/w.sum()\n",
    "    plt.fill_between(b[1:], np.zeros(len(w)), w, step=\"mid\", lw=0, fc=cols[l],\n",
    "                     alpha=0.3)\n",
    "    plt.fill_between(b[1:], np.zeros(len(w)), w, step=\"mid\", lw=1, \n",
    "                     fc=(0, 0, 0, 0), ec=cols[l],\n",
    "                     )\n",
    "    \n",
    "#plt.ylim(-0.07, 0.04)"
   ]
  },
  {
   "cell_type": "code",
   "execution_count": null,
   "id": "d94e456e",
   "metadata": {},
   "outputs": [],
   "source": [
    "def de_unwrap(phases):\n",
    "    return (phases + np.pi) % (2 * np.pi) - np.pi\n",
    "\n",
    "fictive_hd = de_unwrap((traj + params[0]) / params[1])"
   ]
  },
  {
   "cell_type": "code",
   "execution_count": null,
   "id": "0bd94dd7",
   "metadata": {},
   "outputs": [],
   "source": [
    "plt.figure()\n",
    "plt.plot(fictive_hd)\n",
    "plt.plot(phase)"
   ]
  },
  {
   "cell_type": "code",
   "execution_count": null,
   "id": "42accbd9",
   "metadata": {},
   "outputs": [],
   "source": [
    "plt.figure()\n",
    "plt.scatter(fictive_hd, phase)"
   ]
  },
  {
   "cell_type": "code",
   "execution_count": null,
   "id": "03997a61",
   "metadata": {},
   "outputs": [],
   "source": [
    "b"
   ]
  },
  {
   "cell_type": "code",
   "execution_count": null,
   "id": "2e3fd5dc",
   "metadata": {},
   "outputs": [],
   "source": [
    "plt.close(\"all\")\n",
    "plt.figure()\n",
    "plt.subplot(polar=False)\n",
    "\n",
    "for l, i in enumerate([73, 41, 13, 39]):\n",
    "    #w, b = np.histogram(phase, np.arange(-np.pi, np.pi, 0.2), \n",
    "    #                weights=traces[:, i])\n",
    "    b = np.arange(-np.pi, np.pi, 0.4)\n",
    "    w = np.array([np.nanmean(traces[(fictive_hd > b[n-1]) & (fictive_hd < b[n]), i]) \n",
    "         for n in range(1, len(b))])\n",
    "    w = w-w.min()\n",
    "    w = w/w.sum()\n",
    "    plt.plot(b[1:], w)\n",
    "#plt.ylim(-0.07, 0.04)"
   ]
  },
  {
   "cell_type": "code",
   "execution_count": null,
   "id": "ffbf657b",
   "metadata": {},
   "outputs": [],
   "source": []
  }
 ],
 "metadata": {
  "kernelspec": {
   "display_name": "rplab",
   "language": "python",
   "name": "rplab"
  },
  "language_info": {
   "codemirror_mode": {
    "name": "ipython",
    "version": 3
   },
   "file_extension": ".py",
   "mimetype": "text/x-python",
   "name": "python",
   "nbconvert_exporter": "python",
   "pygments_lexer": "ipython3"
  }
 },
 "nbformat": 4,
 "nbformat_minor": 5
}

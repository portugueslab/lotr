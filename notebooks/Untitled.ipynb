{
 "cells": [
  {
   "cell_type": "code",
   "execution_count": null,
   "id": "8716d281",
   "metadata": {},
   "outputs": [],
   "source": [
    "import importlib_resources\n",
    "from pytest_notebook import example_nbs\n",
    "from pytest_notebook.nb_regression import NBRegressionFixture"
   ]
  },
  {
   "cell_type": "code",
   "execution_count": null,
   "id": "bfc9acb9",
   "metadata": {},
   "outputs": [],
   "source": [
    "fixture = NBRegressionFixture(exec_timeout=50)\n",
    "fixture.diff_color_words = False\n",
    "fixture"
   ]
  },
  {
   "cell_type": "code",
   "execution_count": null,
   "id": "49cd6450",
   "metadata": {},
   "outputs": [],
   "source": [
    "with importlib_resources.path(example_nbs, \"example1.ipynb\") as path:\n",
    "    result = fixture.check(str(path), raise_errors=False)\n",
    "\n",
    "result"
   ]
  },
  {
   "cell_type": "code",
   "execution_count": null,
   "id": "e3d1e68d",
   "metadata": {},
   "outputs": [],
   "source": [
    "result.diff_filtered"
   ]
  },
  {
   "cell_type": "code",
   "execution_count": null,
   "id": "97484ccf",
   "metadata": {},
   "outputs": [],
   "source": []
  }
 ],
 "metadata": {
  "kernelspec": {
   "display_name": "rplab",
   "language": "python",
   "name": "rplab"
  },
  "language_info": {
   "codemirror_mode": {
    "name": "ipython",
    "version": 3
   },
   "file_extension": ".py",
   "mimetype": "text/x-python",
   "name": "python",
   "nbconvert_exporter": "python",
   "pygments_lexer": "ipython3"
  }
 },
 "nbformat": 4,
 "nbformat_minor": 5
}

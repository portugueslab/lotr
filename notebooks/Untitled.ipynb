{
 "cells": [
  {
   "cell_type": "code",
   "execution_count": null,
   "id": "fbeb61bd-c79b-47b1-a2da-dcec87d20ec4",
   "metadata": {},
   "outputs": [],
   "source": [
    "%matplotlib widget\n",
    "from pathlib import Path\n",
    "\n",
    "import flammkuchen as fl\n",
    "import lotr.plotting as pltltr\n",
    "import numpy as np\n",
    "from lotr import LotrExperiment\n",
    "from lotr.utils import crop\n",
    "from matplotlib import pyplot as plt\n",
    "\n",
    "cols = pltltr.COLS"
   ]
  },
  {
   "cell_type": "code",
   "execution_count": null,
   "id": "3577cab1-90fb-40eb-ba76-fb1f35a25707",
   "metadata": {},
   "outputs": [],
   "source": [
    "exp = LotrExperiment(\n",
    "    \"/Users/luigipetrucco/Google Drive/data/all_source_data/full_ring/210314_f1/210314_f1_natmov\"\n",
    ")"
   ]
  },
  {
   "cell_type": "code",
   "execution_count": null,
   "id": "d9814b44-d926-46ff-9077-50c8ede071ba",
   "metadata": {},
   "outputs": [],
   "source": [
    "beh_log = exp.behavior_log"
   ]
  },
  {
   "cell_type": "code",
   "execution_count": null,
   "id": "7ac0cbaf-c539-4862-8d96-b2a9fff7e294",
   "metadata": {},
   "outputs": [],
   "source": [
    "bouts = exp.bouts_df"
   ]
  },
  {
   "cell_type": "code",
   "execution_count": null,
   "id": "9052eeb7-f013-4925-b652-60c4b248c707",
   "metadata": {},
   "outputs": [],
   "source": [
    "plt.figure()"
   ]
  },
  {
   "cell_type": "code",
   "execution_count": null,
   "id": "f2237e7a-ab68-4998-b455-2e588d642688",
   "metadata": {},
   "outputs": [],
   "source": [
    "left = bouts[bouts[\"direction\"] == \"lf\"].idx.values[1:5]\n",
    "right = bouts[bouts[\"direction\"] == \"rt\"].idx.values[1:5]\n",
    "fwd = bouts[bouts[\"direction\"] == \"fw\"].idx.values[1:5]"
   ]
  },
  {
   "cell_type": "code",
   "execution_count": null,
   "id": "33ef1c2a-d87a-4c44-ad2c-60eaaa4eed22",
   "metadata": {},
   "outputs": [],
   "source": [
    "fwd"
   ]
  },
  {
   "cell_type": "code",
   "execution_count": null,
   "id": "106b4527-9ee3-4455-a91e-58fe6b980253",
   "metadata": {},
   "outputs": [],
   "source": [
    "pre = 20\n",
    "post = 150\n",
    "fs = 400\n",
    "off = 0\n",
    "cropped_lf = crop(beh_log[\"tail_sum\"], left, pre_int=pre, post_int=post)\n",
    "cropped_rt = crop(beh_log[\"tail_sum\"], right, pre_int=pre, post_int=post)\n",
    "cropped_fwd = crop(beh_log[\"tail_sum\"], fwd, pre_int=pre, post_int=post)"
   ]
  },
  {
   "cell_type": "code",
   "execution_count": null,
   "id": "3fab23da-5c59-4b66-a1c1-9309ed8e7f5f",
   "metadata": {},
   "outputs": [],
   "source": [
    "times = (np.arange(pre + post) - pre - off) / fs"
   ]
  },
  {
   "cell_type": "code",
   "execution_count": null,
   "id": "e78461dd-7b8d-4fca-b8c8-e05360b7d96e",
   "metadata": {},
   "outputs": [],
   "source": [
    "f, ax = plt.subplots(figsize=(1.9, 1.9))\n",
    "plt.plot(times, cropped_fwd, c=cols[\"sides\"][\"fw\"], label=\"__nolegend__\")\n",
    "\n",
    "plt.plot(times, cropped_rt, c=cols[\"sides\"][\"lf\"], label=\"__nolegend__\")\n",
    "plt.plot(times, cropped_lf, c=cols[\"sides\"][\"rt\"], label=\"__nolegend__\")\n",
    "\n",
    "plt.plot([], c=cols[\"sides\"][\"fw\"], label=\"Forward swims\")\n",
    "plt.plot([], c=cols[\"sides\"][\"rt\"], label=\"Right swims\")\n",
    "plt.plot([], c=cols[\"sides\"][\"lf\"], label=\"Left swims\")\n",
    "\n",
    "plt.axvspan(0, 0.070, fc=\"C2\", lw=0, zorder=-100, alpha=0.3)\n",
    "pltltr.despine(ax)\n",
    "l = plt.legend(handlelength=0, labelcolor=\"linecolor\", labelspacing=0.03, loc=1)\n",
    "#for t in l.get_texts():\n",
    "#    t.set_ha('left') # ha is alias for horizontalalignment\n",
    "#    t.set_position((5,0))\n",
    "ax.set(\n",
    "    xlabel=\"Time (s)\", ylabel=\"Tail angle (rad)\", **pltltr.get_pi_labels(0.5, ax=\"y\")\n",
    ")\n",
    "plt.tight_layout()\n",
    "f.savefig(\"/Users/luigipetrucco/Desktop/tail.pdf\")"
   ]
  },
  {
   "cell_type": "code",
   "execution_count": null,
   "id": "12753fce-f7d7-4ee8-823b-553840386841",
   "metadata": {},
   "outputs": [],
   "source": [
    "bouts"
   ]
  },
  {
   "cell_type": "code",
   "execution_count": null,
   "id": "a8ba8b8c-9e0c-4761-a059-05873111bd52",
   "metadata": {},
   "outputs": [],
   "source": []
  }
 ],
 "metadata": {
  "kernelspec": {
   "display_name": "rplab",
   "language": "python",
   "name": "rplab"
  },
  "language_info": {
   "codemirror_mode": {
    "name": "ipython",
    "version": 3
   },
   "file_extension": ".py",
   "mimetype": "text/x-python",
   "name": "python",
   "nbconvert_exporter": "python",
   "pygments_lexer": "ipython3"
  }
 },
 "nbformat": 4,
 "nbformat_minor": 5
}

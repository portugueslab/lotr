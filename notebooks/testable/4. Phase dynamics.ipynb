{
 "cells": [
  {
   "cell_type": "markdown",
   "id": "62562a70-32ac-4690-b3cc-083f3df4b1fe",
   "metadata": {},
   "source": [
    "# Motor activity and phase dynamics\n",
    "\n",
    "How does the phase evolve over time? What happens to it when the fish is moving? This is what  we will investigate in this notebook."
   ]
  },
  {
   "cell_type": "code",
   "execution_count": null,
   "id": "6de7c32c-b085-4b79-994e-defc9e4c623e",
   "metadata": {},
   "outputs": [],
   "source": [
    "%matplotlib widget\n",
    "import lotr.plotting as pltltr\n",
    "import numpy as np\n",
    "import pandas as pd\n",
    "from lotr import A_FISH, FIGURES_LOCATION, LotrExperiment, dataset_folders\n",
    "from lotr.behavior import get_fictive_heading\n",
    "from matplotlib import pyplot as plt\n",
    "from tqdm import tqdm\n",
    "\n",
    "COLS = pltltr.COLS\n",
    "\n",
    "fig_location = FIGURES_LOCATION / \"4 - phase_dynamics\"\n",
    "fig_location.mkdir(exist_ok=True)"
   ]
  },
  {
   "cell_type": "markdown",
   "id": "3f2e9bbc-79ef-41ae-aab7-f042f5b10a5c",
   "metadata": {},
   "source": [
    "## Stability of the network over time\n",
    "\n",
    "First of all, we want to check whether the network crosses all phases with similar probability. We will use the function for calculating network phase defined in notebook 2.\n",
    "\n",
    "First of all, let's look at the histogram over the full experiment for all fish:"
   ]
  },
  {
   "cell_type": "code",
   "execution_count": null,
   "id": "1c474d63-5da4-451c-8131-836d5c4fb7d1",
   "metadata": {},
   "outputs": [],
   "source": [
    "# Load phases from all fish:\n",
    "phases = [LotrExperiment(path).network_phase for path in tqdm(dataset_folders)]"
   ]
  },
  {
   "cell_type": "code",
   "execution_count": null,
   "id": "f447dcdc-ed09-4a5c-a507-e640e43899ad",
   "metadata": {},
   "outputs": [],
   "source": [
    "f, ax = plt.subplots(figsize=(3, 2))\n",
    "hist_base = np.arange(-np.pi, np.pi, 0.3)\n",
    "for i, ph in enumerate(phases):\n",
    "    plt.hist(\n",
    "        ph,\n",
    "        hist_base,\n",
    "        fc=COLS[\"ph_plot\"],\n",
    "        lw=0,\n",
    "        density=True,\n",
    "        alpha=0.1,\n",
    "        label=\"fish\" if i == 0 else \"_nolegend_\",\n",
    "    )\n",
    "\n",
    "plt.hist(\n",
    "    np.concatenate(phases),\n",
    "    hist_base,\n",
    "    density=True,\n",
    "    histtype=\"step\",\n",
    "    lw=1,\n",
    "    label=\"mean\",\n",
    "    ec=pltltr.dark_col(COLS[\"ph_plot\"], 0.3),\n",
    ")\n",
    "ax.set(xlabel=\"phase\", ylabel=\"p. density\", ylim=(0, 0.8), **pltltr.get_pi_labels(0.5))\n",
    "pltltr.despine(ax)\n",
    "ax.legend()\n",
    "plt.show()\n",
    "plt.tight_layout()\n",
    "\n",
    "f.savefig(fig_location / \"all_network_phase_hist.pdf\")"
   ]
  },
  {
   "cell_type": "markdown",
   "id": "389d457b-b178-469f-a7ef-8eda38500da5",
   "metadata": {},
   "source": [
    "This looks quite flat! We'll come back later to this result. But for now, it is interesting to see that there is no location of consistent preferential activation across fish."
   ]
  },
  {
   "cell_type": "markdown",
   "id": "0bf5b2a8-59c9-408f-8c88-d5a7d6b9deb1",
   "metadata": {},
   "source": [
    "## Dynamics of the network and behavior\n",
    "\n",
    "Let's now get to the main point: what happens to the phase when the fish is performing directional motion?\n",
    "\n",
    "We will start with a very naive approach, simply cropping phase after every single directional bout to see how it changes. From now on, we will work with the [np.unwrap](https://numpy.org/doc/stable/reference/generated/numpy.unwrap.html)ed version of the phase, to avoid jumps from `-pi` to `pi`"
   ]
  },
  {
   "cell_type": "code",
   "execution_count": null,
   "id": "3fe0fe77-99bd-414f-ad60-b089093bf76f",
   "metadata": {},
   "outputs": [],
   "source": [
    "from lotr.utils import crop, resample_matrix"
   ]
  },
  {
   "cell_type": "code",
   "execution_count": null,
   "id": "79138a14-a865-4c04-a044-b5b2c6a9ab83",
   "metadata": {},
   "outputs": [],
   "source": [
    "exp = LotrExperiment(A_FISH)\n",
    "unwrapped_ph = np.unwrap(exp.network_phase)\n",
    "directions = [\"rt\", \"lf\", \"fw\"]\n",
    "\n",
    "pre_wnd_s, post_wnd_s = 10, 25"
   ]
  },
  {
   "cell_type": "code",
   "execution_count": null,
   "id": "60b945cf-3a51-4f86-aae2-ef0fdf48502f",
   "metadata": {},
   "outputs": [],
   "source": [
    "cropped_dict = dict()\n",
    "for d in directions:\n",
    "    idxs = exp.bouts_df.loc[exp.bouts_df[\"direction\"] == d, \"idx_imaging\"]\n",
    "    cropped = crop(\n",
    "        unwrapped_ph, idxs, pre_int=pre_wnd_s * exp.fn, post_int=post_wnd_s * exp.fn,\n",
    "    )\n",
    "    cropped_dict[d] = cropped - np.mean(cropped[: pre_wnd_s * exp.fn, :], 0)\n",
    "\n",
    "time_arr = np.arange(cropped.shape[0]) / exp.fn - pre_wnd_s"
   ]
  },
  {
   "cell_type": "code",
   "execution_count": null,
   "id": "e45a022f-870f-4734-a26b-21ea1a804640",
   "metadata": {},
   "outputs": [],
   "source": [
    "def dark_col(col, val=0.2):\n",
    "    if type(col) == str:\n",
    "        col = [float(col) for _ in range(3)]\n",
    "    return [max(0, c - val) for c in col]"
   ]
  },
  {
   "cell_type": "code",
   "execution_count": null,
   "id": "dfbed961-da9b-4b74-8dd9-3aaf967e2815",
   "metadata": {},
   "outputs": [],
   "source": [
    "f, ax = plt.subplots(figsize=(2, 3))\n",
    "for d in directions:\n",
    "    plt.plot(time_arr, cropped_dict[d], lw=0.3, c=COLS[\"sides\"][d], label=\"_nolabel_\")\n",
    "    plt.plot(\n",
    "        time_arr,\n",
    "        cropped_dict[d].mean(1),\n",
    "        lw=2,\n",
    "        c=pltltr.dark_col(COLS[\"sides\"][d]),\n",
    "        label=f\"{d} bouts\",\n",
    "    )\n",
    "\n",
    "\n",
    "pltltr.despine(ax)\n",
    "ax.set(xlabel=\"time from bout (s)\", ylabel=\"$phase-phase_{pre}$\", ylim=(-3.2, 3.2))\n",
    "ax.legend()\n",
    "plt.axvline(0, lw=0.5, c=\".5\")\n",
    "plt.tight_layout()\n",
    "\n",
    "f.savefig(fig_location / \"bout_trig_phase_change_onefish.pdf\")"
   ]
  },
  {
   "cell_type": "markdown",
   "id": "87dad565-751e-411c-ab99-0b6b75fe644b",
   "metadata": {},
   "source": [
    "## Crop phase changes across all fish\n",
    "\n",
    "We can crop in a similar way events from all fish in the dataset."
   ]
  },
  {
   "cell_type": "code",
   "execution_count": null,
   "id": "46f797eb-1b4f-4319-9758-2427c69ee84c",
   "metadata": {},
   "outputs": [],
   "source": [
    "FN = 5  # we impose a sampling frequency, this will exclude 1/31 fish\n",
    "\n",
    "directions = [\"rt\", \"lf\", \"fw\"]\n",
    "pre_wnd_s, post_wnd_s = 10, 25\n",
    "\n",
    "all_phase_cropped = []\n",
    "all_head_cropped = []\n",
    "\n",
    "# We will create a dataframe to keep track of events from all fish.\n",
    "# Mostly a way of keeping together the crop and the bouts:\n",
    "events_df = []\n",
    "\n",
    "time_arr = np.arange(1, ((pre_wnd_s + post_wnd_s) * FN) + 1) / exp.fn - pre_wnd_s\n",
    "for path in tqdm(dataset_folders):\n",
    "    exp = LotrExperiment(path)\n",
    "\n",
    "    unwrapped_ph = np.unwrap(exp.network_phase)\n",
    "    fictive_head = get_fictive_heading(exp.n_pts, exp.bouts_df)\n",
    "\n",
    "    for d in directions:\n",
    "        sel_bouts = exp.bouts_df.loc[exp.bouts_df[\"direction\"] == d, :]\n",
    "\n",
    "        events_df.append(sel_bouts.reindex())\n",
    "\n",
    "        for dest_list, to_crop in zip(\n",
    "            [all_phase_cropped, all_head_cropped], [unwrapped_ph, fictive_head]\n",
    "        ):\n",
    "\n",
    "            cropped = crop(\n",
    "                to_crop,\n",
    "                sel_bouts[\"idx_imaging\"],\n",
    "                pre_int=pre_wnd_s * exp.fn,\n",
    "                post_int=post_wnd_s * exp.fn,\n",
    "            )\n",
    "\n",
    "            # Subtract baseline:\n",
    "            cropped = cropped - np.mean(cropped[: pre_wnd_s * exp.fn, :], 0)\n",
    "\n",
    "            # Interpolate if necessary:\n",
    "            if exp.fn != FN:\n",
    "                fish_time_arr = np.arange(1, cropped.shape[0] + 1) / exp.fn - pre_wnd_s\n",
    "                cropped = resample_matrix(time_arr, fish_time_arr, cropped)\n",
    "\n",
    "            dest_list.append(cropped)\n",
    "\n",
    "all_phase_cropped = np.concatenate(all_phase_cropped, axis=1)\n",
    "all_head_cropped = np.concatenate(all_head_cropped, axis=1)\n",
    "events_df = pd.concat(events_df, ignore_index=True)"
   ]
  },
  {
   "cell_type": "code",
   "execution_count": null,
   "id": "29460cbc-5470-4e5f-8ce7-a0ddf1e16b45",
   "metadata": {},
   "outputs": [],
   "source": [
    "all_phase_cropped.shape"
   ]
  },
  {
   "cell_type": "code",
   "execution_count": null,
   "id": "fac3dc71-181b-40a6-9ed1-a1556c6e1601",
   "metadata": {},
   "outputs": [],
   "source": [
    "f, axs = plt.subplots(\n",
    "    1,\n",
    "    2,\n",
    "    figsize=(4, 2.5),\n",
    "    gridspec_kw=dict(left=0.15, bottom=0.15, top=0.8),\n",
    "    sharey=True,\n",
    ")\n",
    "\n",
    "for ax, lab, all_cropped in zip(\n",
    "    axs, [\"Δphase\", \"Δheading\"], [all_phase_cropped, all_head_cropped]\n",
    "):\n",
    "    for d in directions:\n",
    "        fish_means = []\n",
    "        for fid in events_df.fid.unique():\n",
    "            sel = (events_df[\"direction\"] == d) & (events_df[\"fid\"] == fid)\n",
    "            if sum(sel) > 0:\n",
    "                fish_means.append(all_cropped[:, sel].mean(1))\n",
    "        fish_means = np.array(fish_means)\n",
    "\n",
    "        ax.plot(\n",
    "            time_arr, fish_means.T, lw=0.3, c=COLS[\"sides\"][d], label=\"_nolabel_\",\n",
    "        )\n",
    "        ax.plot(\n",
    "            time_arr,\n",
    "            np.mean(fish_means, 0),\n",
    "            lw=2,\n",
    "            c=pltltr.dark_col(COLS[\"sides\"][d]),\n",
    "            label=f\"{d} (all fish + mn)\",\n",
    "            zorder=30,\n",
    "        )\n",
    "\n",
    "    pltltr.despine(ax)\n",
    "    ax.set(\n",
    "        xlabel=\"time from bout (s)\",\n",
    "        ylim=(-2.5, 2.5),\n",
    "        ylabel=lab,\n",
    "        **pltltr.get_pi_labels(0.5, ax=\"y\"),\n",
    "    )\n",
    "    ax.axvline(0, lw=0.5, c=\".5\")\n",
    "axs[0].legend(bbox_to_anchor=(1, 1), bbox_transform=plt.gcf().transFigure)\n",
    "# plt.tight_layout()\n",
    "\n",
    "f.savefig(fig_location / \"bout_trig_phase_head_change_onefish.pdf\")"
   ]
  },
  {
   "cell_type": "markdown",
   "id": "0ab9ea42-5269-49fb-8353-635e66cc6d84",
   "metadata": {},
   "source": [
    "Note that we have not introduced any arbitrary sign flip to get to this plot, we just imposed a registration with the anatomy, and for free we get such an agreement of phase changes across fish! \n",
    "If we consider the convention for phase definition:\n",
    " - **left bouts induce cw rotations**\n",
    " - **right bouts induce ccw rotations**\n",
    " \n",
    "In finalizing those statements we should make sure we cross check everything 10 times, but I looked again at the following:\n",
    " - definition of left and right bouts can be cross-checked using localization of motor selective ROIs as the reference. With our definition of left and right bouts, we get left bouts activating left side of aHB, and right bouts activating right side of aHB (consistent with e.g. Chen et al 2018)\n",
    " - our definition of phase rotation is consistent with visual inspection of data for A_FISH dataset"
   ]
  }
 ],
 "metadata": {
  "kernelspec": {
   "display_name": "rplab",
   "language": "python",
   "name": "rplab"
  },
  "language_info": {
   "codemirror_mode": {
    "name": "ipython",
    "version": 3
   },
   "file_extension": ".py",
   "mimetype": "text/x-python",
   "name": "python",
   "nbconvert_exporter": "python",
   "pygments_lexer": "ipython3"
  }
 },
 "nbformat": 4,
 "nbformat_minor": 5
}

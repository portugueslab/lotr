{
 "cells": [
  {
   "cell_type": "markdown",
   "id": "62562a70-32ac-4690-b3cc-083f3df4b1fe",
   "metadata": {},
   "source": [
    "# Start exploring phase dynamics\n",
    "\n",
    "How does the phase evolve over time? What happens to it when the fish is moving? This is what  we will investigate in this notebook."
   ]
  },
  {
   "cell_type": "code",
   "execution_count": null,
   "id": "6de7c32c-b085-4b79-994e-defc9e4c623e",
   "metadata": {},
   "outputs": [],
   "source": []
  }
 ],
 "metadata": {
  "kernelspec": {
   "display_name": "rplab",
   "language": "python",
   "name": "rplab"
  },
  "language_info": {
   "codemirror_mode": {
    "name": "ipython",
    "version": 3
   },
   "file_extension": ".py",
   "mimetype": "text/x-python",
   "name": "python",
   "nbconvert_exporter": "python",
   "pygments_lexer": "ipython3"
  }
 },
 "nbformat": 4,
 "nbformat_minor": 5
}

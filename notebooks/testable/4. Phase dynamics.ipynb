{
 "cells": [
  {
   "cell_type": "markdown",
   "id": "62562a70-32ac-4690-b3cc-083f3df4b1fe",
   "metadata": {},
   "source": [
    "# Motor activity and phase dynamics\n",
    "\n",
    "How does the phase evolve over time? What happens to it when the fish is moving? This is what  we will investigate in this notebook."
   ]
  },
  {
   "cell_type": "code",
   "execution_count": null,
   "id": "6de7c32c-b085-4b79-994e-defc9e4c623e",
   "metadata": {},
   "outputs": [],
   "source": [
    "%matplotlib widget\n",
    "import lotr.plotting as pltltr\n",
    "import numpy as np\n",
    "import pandas as pd\n",
    "from lotr import A_FISH, FIGURES_LOCATION, LotrExperiment, dataset_folders\n",
    "from lotr.behavior import get_fictive_heading\n",
    "from lotr.utils import linear_regression\n",
    "from matplotlib import pyplot as plt\n",
    "from scipy.stats import wilcoxon\n",
    "from tqdm import tqdm\n",
    "\n",
    "COLS = pltltr.COLS"
   ]
  },
  {
   "cell_type": "markdown",
   "id": "3f2e9bbc-79ef-41ae-aab7-f042f5b10a5c",
   "metadata": {},
   "source": [
    "## Overall probability of network phase over time\n",
    "\n",
    "First of all, we want to check whether the network crosses all phases with similar probability. We will use the function for calculating network phase defined in notebook 2.\n",
    "\n",
    "First of all, let's look at the histogram over the full experiment for all fish:"
   ]
  },
  {
   "cell_type": "code",
   "execution_count": null,
   "id": "1c474d63-5da4-451c-8131-836d5c4fb7d1",
   "metadata": {},
   "outputs": [],
   "source": [
    "# Load phases from all fish:\n",
    "phases = [LotrExperiment(path).network_phase for path in tqdm(dataset_folders)]"
   ]
  },
  {
   "cell_type": "code",
   "execution_count": null,
   "id": "f447dcdc-ed09-4a5c-a507-e640e43899ad",
   "metadata": {},
   "outputs": [],
   "source": [
    "f, ax = plt.subplots(figsize=(3, 2))\n",
    "hist_base = np.arange(-np.pi, np.pi, 0.3)\n",
    "for i, ph in enumerate(phases):\n",
    "    plt.hist(\n",
    "        ph,\n",
    "        hist_base,\n",
    "        fc=COLS[\"ph_plot\"],\n",
    "        lw=0,\n",
    "        density=True,\n",
    "        alpha=0.1,\n",
    "        label=\"fish\" if i == 0 else \"_nolegend_\",\n",
    "    )\n",
    "\n",
    "plt.hist(\n",
    "    np.concatenate(phases),\n",
    "    hist_base,\n",
    "    density=True,\n",
    "    histtype=\"step\",\n",
    "    lw=1,\n",
    "    label=\"mean\",\n",
    "    ec=pltltr.dark_col(COLS[\"ph_plot\"], 0.3),\n",
    ")\n",
    "ax.set(xlabel=\"phase\", ylabel=\"p. density\", ylim=(0, 0.8), **pltltr.get_pi_labels(0.5))\n",
    "pltltr.despine(ax)\n",
    "ax.legend()\n",
    "plt.show()\n",
    "plt.tight_layout()\n",
    "\n",
    "pltltr.savefig(\"all_network_phase_hist\")"
   ]
  },
  {
   "cell_type": "markdown",
   "id": "389d457b-b178-469f-a7ef-8eda38500da5",
   "metadata": {},
   "source": [
    "This looks quite flat! We'll come back later to this result. But for now, it is interesting to see that there is no location of consistent preferential activation across fish."
   ]
  },
  {
   "cell_type": "markdown",
   "id": "0bf5b2a8-59c9-408f-8c88-d5a7d6b9deb1",
   "metadata": {},
   "source": [
    "## Dynamics of the network and behavior\n",
    "\n",
    "Let's now get to the main point: what happens to the phase when the fish is performing directional motion?\n",
    "\n",
    "We will start with a very naive approach, simply cropping phase after every single directional bout to see how it changes. From now on, we will work with the [np.unwrap](https://numpy.org/doc/stable/reference/generated/numpy.unwrap.html)ed version of the phase, to avoid jumps from `-pi` to `pi`"
   ]
  },
  {
   "cell_type": "code",
   "execution_count": null,
   "id": "3fe0fe77-99bd-414f-ad60-b089093bf76f",
   "metadata": {},
   "outputs": [],
   "source": [
    "from lotr.default_vals import DEFAULT_FN, POST_BOUT_WND_S, PRE_BOUT_WND_S\n",
    "from lotr.utils import crop, resample_matrix"
   ]
  },
  {
   "cell_type": "code",
   "execution_count": null,
   "id": "60b945cf-3a51-4f86-aae2-ef0fdf48502f",
   "metadata": {},
   "outputs": [],
   "source": [
    "# Get unwrapped phase:\n",
    "exp = LotrExperiment(A_FISH)\n",
    "unwrapped_ph = np.unwrap(exp.network_phase)\n",
    "\n",
    "# Crop network phase:\n",
    "cropped_phase = crop(\n",
    "    unwrapped_ph,\n",
    "    exp.bouts_df[\"idx_imaging\"],\n",
    "    pre_int=PRE_BOUT_WND_S * exp.fn,\n",
    "    post_int=POST_BOUT_WND_S * exp.fn,\n",
    ")\n",
    "# Subtract baseline:\n",
    "cropped_phase = cropped_phase - np.mean(cropped_phase[: PRE_BOUT_WND_S * exp.fn, :], 0)\n",
    "\n",
    "# Same, for heading direction:\n",
    "cropped_head = crop(\n",
    "    exp.fictive_heading,\n",
    "    exp.bouts_df[\"idx_imaging\"],\n",
    "    pre_int=PRE_BOUT_WND_S * exp.fn,\n",
    "    post_int=POST_BOUT_WND_S * exp.fn,\n",
    ")\n",
    "cropped_head = cropped_head - np.mean(cropped_head[: PRE_BOUT_WND_S * exp.fn, :], 0)\n",
    "\n",
    "\n",
    "time_arr = np.arange(cropped_phase.shape[0]) / exp.fn - PRE_BOUT_WND_S"
   ]
  },
  {
   "cell_type": "code",
   "execution_count": null,
   "id": "e292af68-094c-422d-bb60-2193839c0675",
   "metadata": {},
   "outputs": [],
   "source": [
    "def plot_bout_trig(\n",
    "    events_df, cropped_list, labels_list, ylims=(-4.2, 4.2), legend_lab=\"{} bouts\"\n",
    "):\n",
    "\n",
    "    f, axs = plt.subplots(\n",
    "        1,\n",
    "        2,\n",
    "        figsize=(5, 2.5),\n",
    "        gridspec_kw=dict(left=0.08, bottom=0.15, top=0.9, right=0.73),\n",
    "        sharey=True,\n",
    "    )\n",
    "\n",
    "    for ax, lab, cropped in zip(axs, labels_list, cropped_list):\n",
    "        for d in events_df[\"direction\"].unique():\n",
    "            sel = events_df[\"direction\"] == d\n",
    "            ax.plot(\n",
    "                time_arr,\n",
    "                cropped[:, sel],\n",
    "                lw=0.3,\n",
    "                c=COLS[\"sides\"][d],\n",
    "                label=\"_nolabel_\",\n",
    "            )\n",
    "            ax.plot(\n",
    "                time_arr,\n",
    "                np.mean(cropped[:, sel], 1),\n",
    "                lw=2,\n",
    "                c=pltltr.dark_col(COLS[\"sides\"][d]),\n",
    "                label=legend_lab.format(d),\n",
    "                zorder=30,\n",
    "            )\n",
    "\n",
    "        pltltr.despine(ax)\n",
    "        ax.set(\n",
    "            xlabel=\"time from bout (s)\",\n",
    "            ylim=ylims,\n",
    "            **pltltr.get_pi_labels(0.5, ax=\"y\"),\n",
    "        )\n",
    "        ax.set_title(lab, weight=\"bold\")\n",
    "        ax.axvline(0, lw=0.5, c=\".5\")\n",
    "    axs[1].legend(bbox_to_anchor=(1.05, 0.8, 0.2, 0.2))\n",
    "\n",
    "    return f, axs\n",
    "\n",
    "\n",
    "f, axs = plot_bout_trig(\n",
    "    exp.bouts_df, [cropped_phase, cropped_head], [\"Δphase\", \"Δheading\"]\n",
    ")\n",
    "pltltr.savefig(\"bout_trig_phase_change_onefish\")"
   ]
  },
  {
   "cell_type": "markdown",
   "id": "87dad565-751e-411c-ab99-0b6b75fe644b",
   "metadata": {},
   "source": [
    "## Crop phase changes across all fish\n",
    "\n",
    "We can crop in a similar way events from all fish in the dataset. As we will be doing this also in other notebooks, we will use the function defined in `lotr.analysis.shift_cropping`, performing for all experiments the operations below plus some additional step for interpolation of experiments with different sampling freq. For the first fish, we will check that results are consistent."
   ]
  },
  {
   "cell_type": "code",
   "execution_count": null,
   "id": "46f797eb-1b4f-4319-9758-2427c69ee84c",
   "metadata": {},
   "outputs": [],
   "source": [
    "from lotr.analysis.shift_cropping import crop_shifts_all_dataset\n",
    "\n",
    "all_phase_cropped, all_head_cropped, events_df, time_arr = crop_shifts_all_dataset()\n",
    "\n",
    "# Control consistency with notebook pipeline:\n",
    "sel = events_df[\"fid\"] == exp.dir_name\n",
    "assert np.allclose(all_phase_cropped[:, sel], cropped_phase, rtol=0.001)\n",
    "assert np.allclose(all_head_cropped[:, sel], cropped_head, rtol=0.001)"
   ]
  },
  {
   "cell_type": "code",
   "execution_count": null,
   "id": "d6b0e4f2-04ab-49ee-a7a7-0182f6c77770",
   "metadata": {},
   "outputs": [],
   "source": [
    "# For every fish, compute average response for each direction:\n",
    "all_phase_means = []\n",
    "all_head_means = []\n",
    "mean_events_df = []\n",
    "for fid in events_df[\"fid\"].unique():\n",
    "    for d in events_df[\"direction\"].unique():\n",
    "        sel = (events_df[\"direction\"] == d) & (events_df[\"fid\"] == fid)\n",
    "\n",
    "        if sum(sel) > 0:\n",
    "            all_phase_means.append(all_phase_cropped[:, sel].mean(1))\n",
    "            all_head_means.append(all_head_cropped[:, sel].mean(1))\n",
    "            mean_events_df.append(events_df[sel].iloc[0, :])\n",
    "\n",
    "all_phase_means = np.stack(all_phase_means).T\n",
    "all_head_means = np.stack(all_head_means).T\n",
    "mean_events_df = pd.DataFrame(mean_events_df)"
   ]
  },
  {
   "cell_type": "code",
   "execution_count": null,
   "id": "4835f819-10fb-42e6-8942-1b4a29362481",
   "metadata": {},
   "outputs": [],
   "source": [
    "f, axs = plot_bout_trig(\n",
    "    mean_events_df,\n",
    "    [all_phase_means, all_head_means],\n",
    "    [\"Δphase\", \"Δheading\"],\n",
    "    legend_lab=\"{} (all fish + mn)\",\n",
    "    ylims=(-np.pi, np.pi),\n",
    ")\n",
    "pltltr.savefig(\"bout_trig_phase_change_allfish\")"
   ]
  },
  {
   "cell_type": "markdown",
   "id": "0ab9ea42-5269-49fb-8353-635e66cc6d84",
   "metadata": {},
   "source": [
    "Note that we have not introduced any arbitrary sign flip to get to this plot, we just imposed a registration with the anatomy, and for free we get such an agreement of phase changes across fish! \n",
    "If we consider the convention for phase definition:\n",
    " - **left bouts induce cw rotations**\n",
    " - **right bouts induce ccw rotations**\n",
    " \n",
    "In finalizing those statements we should make sure we cross check everything 10 times, but I looked again at the following:\n",
    " - definition of left and right bouts can be cross-checked using localization of motor selective ROIs as the reference. With our definition of left and right bouts, we get left bouts activating left side of aHB, and right bouts activating right side of aHB (consistent with e.g. Chen et al 2018)\n",
    " - our definition of phase rotation is consistent with visual inspection of data for A_FISH dataset"
   ]
  },
  {
   "cell_type": "markdown",
   "id": "65c066ca-82c8-4e79-94b1-a5657b3f411c",
   "metadata": {},
   "source": [
    "## Phase vs. theta turned correlation"
   ]
  },
  {
   "cell_type": "code",
   "execution_count": null,
   "id": "401f80af-8403-43d1-b57b-924bad6a73cc",
   "metadata": {},
   "outputs": [],
   "source": [
    "# window in which we will calculate the delta change\n",
    "WND_DELTA_S = np.array([15, 20])\n",
    "wnd_pts = (PRE_BOUT_WND_S + WND_DELTA_S) * DEFAULT_FN"
   ]
  },
  {
   "cell_type": "code",
   "execution_count": null,
   "id": "a3419d03-2abd-477f-9277-946486dd87ca",
   "metadata": {},
   "outputs": [],
   "source": [
    "events_df[\"Δphase\"] = np.nanmean(all_phase_cropped[slice(*wnd_pts), :], 0)\n",
    "events_df[\"Δhead\"] = np.nanmean(all_head_cropped[slice(*wnd_pts), :], 0)"
   ]
  },
  {
   "cell_type": "code",
   "execution_count": null,
   "id": "d7c3cbe9-9098-4b96-b9d0-69f03c771528",
   "metadata": {},
   "outputs": [],
   "source": [
    "np.random.seed(60)\n",
    "results_df = []\n",
    "for fid in events_df[\"fid\"].unique():\n",
    "    sel_df = events_df[(events_df[\"fid\"] == fid) & (events_df[\"direction\"] != \"fw\")]\n",
    "    shuffle = np.arange(len(sel_df))\n",
    "    np.random.shuffle(shuffle)\n",
    "    # corr = np.corrcoef(sel_df[\"Δphase\"], sel_df[\"Δhead\"])[0, 1]\n",
    "    # shuf = np.corrcoef(sel_df[\"Δphase\"].values[shuffle], sel_df[\"Δhead\"])[0, 1]\n",
    "    _, corr = linear_regression(sel_df[\"Δphase\"], sel_df[\"Δhead\"])\n",
    "    _, shuf = linear_regression(sel_df[\"Δphase\"].values[shuffle], sel_df[\"Δhead\"])\n",
    "    results_df.append({\"Data\": corr, \"Shuffle\": shuf})\n",
    "results_df = pd.DataFrame(results_df)"
   ]
  },
  {
   "cell_type": "code",
   "execution_count": null,
   "id": "80754a47-20ce-40d7-9732-e23a5a6b53ec",
   "metadata": {},
   "outputs": [],
   "source": [
    "f, axs = plt.subplots(\n",
    "    1,\n",
    "    2,\n",
    "    figsize=(5, 2.5),\n",
    "    gridspec_kw=dict(left=0.2, bottom=0.15, wspace=0.5, width_ratios=[1, 0.5]),\n",
    ")\n",
    "\n",
    "\n",
    "for fid, col in zip(events_df.fid.unique(), COLS[\"fish_cols\"]):\n",
    "    sel_df = events_df[(events_df[\"fid\"] == fid) & (events_df[\"direction\"] != \"fw\")]\n",
    "    axs[0].scatter(\n",
    "        sel_df[\"Δphase\"],\n",
    "        sel_df[\"Δhead\"],\n",
    "        alpha=0.5,\n",
    "        facecolors=\"none\",\n",
    "        edgecolors=col,\n",
    "        lw=0.5,\n",
    "        s=3,\n",
    "    )\n",
    "    o, c = linear_regression(sel_df[\"Δphase\"], sel_df[\"Δhead\"])\n",
    "    axs[0].plot(sel_df[\"Δphase\"], sel_df[\"Δphase\"] * c + o, lw=1, c=col, zorder=100)\n",
    "pltltr.despine(axs[0])\n",
    "axs[0].set(\n",
    "    xlabel=r\"$Δphase_{15-20s}(\\phi)$\",\n",
    "    ylabel=r\"$Δhead_{15-20s} (\\theta)$\",\n",
    "    **pltltr.get_pi_labels(coefs=(-4, -2, 0, 2, 4), ax=\"y\"),\n",
    "    **pltltr.get_pi_labels(coefs=(-2, 0, 2), ax=\"x\")\n",
    ")\n",
    "axs[0].text(2, 10, r\"$\\theta=\\alpha \\phi + \\beta$\", fontsize=8)\n",
    "\n",
    "\n",
    "axs[1].plot(results_df.T, lw=1, c=\".7\", alpha=0.5, zorder=100)\n",
    "axs[1].axhline(0, linestyle=\"dashed\", c=\".5\")\n",
    "pltltr.bar_with_bars(\n",
    "    results_df, axs[1], cols=[COLS[\"ph_plot\"], \".3\"], empty=False, lw=1.0\n",
    ")\n",
    "axs[1].set(ylabel=(r\"$\\alpha$\"), xlim=(-0.3, 1.3))\n",
    "pltltr.despine(axs[1])\n",
    "\n",
    "test_res = wilcoxon(results_df[\"Data\"], results_df[\"Shuffle\"])\n",
    "axs[1].text(0.5, -2, pltltr.get_pval_stars(test_res), ha=\"center\")\n",
    "\n",
    "pltltr.savefig(\"correlation_quantification.pdf\")"
   ]
  },
  {
   "cell_type": "code",
   "execution_count": null,
   "id": "8247f0a3-ff0e-4d9e-909e-d20fce9c62b2",
   "metadata": {},
   "outputs": [],
   "source": [
    "(30 * 78 * 2) / 120"
   ]
  },
  {
   "cell_type": "code",
   "execution_count": null,
   "id": "79f32c72-b7f5-48be-971f-62e8f3be4d91",
   "metadata": {},
   "outputs": [],
   "source": []
  }
 ],
 "metadata": {
  "kernelspec": {
   "display_name": "rplab",
   "language": "python",
   "name": "rplab"
  },
  "language_info": {
   "codemirror_mode": {
    "name": "ipython",
    "version": 3
   },
   "file_extension": ".py",
   "mimetype": "text/x-python",
   "name": "python",
   "nbconvert_exporter": "python",
   "pygments_lexer": "ipython3"
  }
 },
 "nbformat": 4,
 "nbformat_minor": 5
}

{
 "cells": [
  {
   "cell_type": "code",
   "execution_count": null,
   "id": "ac2df2dd-8cb8-4129-9bdf-a24426ad13f8",
   "metadata": {},
   "outputs": [],
   "source": [
    "%matplotlib widget\n",
    "\n",
    "import lotr.plotting as pltltr\n",
    "import numpy as np\n",
    "import pandas as pd\n",
    "from lotr import A_FISH, FIGURES_LOCATION, LotrExperiment, dataset_folders\n",
    "from lotr.behavior import get_fictive_heading\n",
    "from matplotlib import pyplot as plt\n",
    "from tqdm import tqdm\n",
    "\n",
    "COLS = pltltr.COLS"
   ]
  },
  {
   "cell_type": "code",
   "execution_count": null,
   "id": "a55435da-83d8-4b75-bff0-3af0b2390a75",
   "metadata": {},
   "outputs": [],
   "source": [
    "all_stim_logs = [LotrExperiment(path).stim_trials_df for path in dataset_folders]"
   ]
  },
  {
   "cell_type": "code",
   "execution_count": null,
   "id": "77589bb4-0ae6-45fd-b6f0-3e740c8b1fec",
   "metadata": {},
   "outputs": [],
   "source": [
    "all_stim_sequences = pd.concat(all_stim_logs, ignore_index=True, sort=True)"
   ]
  },
  {
   "cell_type": "code",
   "execution_count": null,
   "id": "ee75fa8c-90dc-45e7-a43a-a6ed180f7334",
   "metadata": {},
   "outputs": [],
   "source": [
    "stim_cols = dict(darkness=\".4\", natural_mot=\"g\", closed_loop=\"b\", directional_mot=\"r\")"
   ]
  },
  {
   "cell_type": "code",
   "execution_count": null,
   "id": "fb784dd1-0abd-442b-85c0-b7ccb7a09b87",
   "metadata": {},
   "outputs": [],
   "source": [
    "for fid in all_stim_sequences.fid.unique():\n",
    "    sel_df = all_stim_sequences[all_stim_sequences.fid == fid]\n",
    "    plt.figure(figsize=(7, 1))\n",
    "    for s in sel_df.index:\n",
    "        t_start, t_stop = (\n",
    "            sel_df.loc[s, \"t_start\"],\n",
    "            sel_df.loc[s, \"t_stop\"],\n",
    "        )\n",
    "\n",
    "        plt.axvspan(\n",
    "            t_start, t_stop, lw=0, alpha=0.6, fc=stim_cols[sel_df.loc[s, \"condition\"]]\n",
    "        )\n",
    "        plt.title(fid)\n",
    "        plt.tight_layout()"
   ]
  },
  {
   "cell_type": "code",
   "execution_count": null,
   "id": "566ec8d9-da28-4af4-ba3e-4e61800be3c2",
   "metadata": {},
   "outputs": [],
   "source": []
  }
 ],
 "metadata": {
  "kernelspec": {
   "display_name": "rplab",
   "language": "python",
   "name": "rplab"
  },
  "language_info": {
   "codemirror_mode": {
    "name": "ipython",
    "version": 3
   },
   "file_extension": ".py",
   "mimetype": "text/x-python",
   "name": "python",
   "nbconvert_exporter": "python",
   "pygments_lexer": "ipython3"
  }
 },
 "nbformat": 4,
 "nbformat_minor": 5
}

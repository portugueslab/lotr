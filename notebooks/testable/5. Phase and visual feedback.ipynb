{
 "cells": [
  {
   "cell_type": "markdown",
   "id": "cc9ba817-b740-4853-a9fa-895e1dc5c887",
   "metadata": {},
   "source": [
    "# Phase dynamics and visual feedback\n",
    "\n",
    "In this notebook, we will build upon the previous quantifications on the relationship between phase and directional swimming and see whether visual feedback is necessary / involved in the rotation of the network."
   ]
  },
  {
   "cell_type": "code",
   "execution_count": null,
   "id": "ac2df2dd-8cb8-4129-9bdf-a24426ad13f8",
   "metadata": {},
   "outputs": [],
   "source": [
    "%matplotlib widget\n",
    "\n",
    "import lotr.plotting as pltltr\n",
    "import numpy as np\n",
    "import pandas as pd\n",
    "from lotr import A_FISH, FIGURES_LOCATION, LotrExperiment, dataset_folders\n",
    "from lotr.behavior import get_fictive_heading\n",
    "from lotr.utils import crop, interpolate, linear_regression, resample_matrix\n",
    "from matplotlib import pyplot as plt\n",
    "from scipy.stats import wilcoxon\n",
    "from tqdm import tqdm\n",
    "\n",
    "COLS = pltltr.COLS\n",
    "COLS[\"sides\"][\"fw\"] = (np.float(COLS[\"sides\"][\"fw\"]),) * 3"
   ]
  },
  {
   "cell_type": "markdown",
   "id": "9f2a3f64-43a2-4739-85d8-921be5bf08fa",
   "metadata": {},
   "source": [
    "## Load stimulus information\n",
    "\n",
    "We will use the `LotrExperiment.stim_trials_df` method to load from each experiment a dictionary describing the sequence of stimuli and the concatenate all of them in a single dataframe.\n",
    "The `all_stim_conds` will contain a `condition` column that can be one of the following:\n",
    " - **`darkness`**: black screen, fish swimming in the darkness\n",
    " - **`closed_loop`**: fish experiences visual feedback when moving. This consists in a pink noise pattern that, every time the fish performa a bout, rotates proportionally to the laterality index for the bout (with inverted sign), and translates backward up with an average speed of approx. 10 mm/s. In the gainmod experiments, a gain factor that changes the amount of rotation  induced by each directional bout is alternated between 0.5 (**low gain**), 1.0 (**normal gain**), 2.0 (**high gain**), -1 (**inverted motion**).\n",
    " - **`natural_mot`**: pink noise that is translated/rotated independently of the fish motion in ways similar to what the fish would experience swimming over the pattern - a sort of playback of a closed loop experiment. This stimulus induces very small responses in visual directional motion/rotation cells as every movement is very brief.\n",
    " - **`directional_mot`**: pink noise that moves in 8 equally spaced directions on the plane below the fish in periods of 10s, spaced by pause periods of 10s where the pattern is static. As the fish is mostly moving during directional motion, for the sake of this quantification for now all bouts during both the motion and the static times are pooled in the \"directional_mot\" condition # TODO maybe split them"
   ]
  },
  {
   "cell_type": "code",
   "execution_count": null,
   "id": "a55435da-83d8-4b75-bff0-3af0b2390a75",
   "metadata": {},
   "outputs": [],
   "source": [
    "all_stim_logs = [LotrExperiment(path).stim_trials_df for path in tqdm(dataset_folders)]\n",
    "all_stim_conds = pd.concat(all_stim_logs, ignore_index=True, sort=True)"
   ]
  },
  {
   "cell_type": "markdown",
   "id": "1047e755-4ea7-41cb-a9ad-3d4c39511b23",
   "metadata": {},
   "source": [
    "### Visualize all experiment types\n",
    "\n",
    "Let's have a quick look at all the experiment types:"
   ]
  },
  {
   "cell_type": "code",
   "execution_count": null,
   "id": "8eace34b-73f7-4f2e-89bc-b20e5a8023c6",
   "metadata": {},
   "outputs": [],
   "source": [
    "all_exp_types = all_stim_conds.exp_type.unique()\n",
    "\n",
    "f, axs = plt.subplots(\n",
    "    len(all_exp_types) + 1,\n",
    "    1,\n",
    "    figsize=(5, 4),\n",
    "    gridspec_kw=dict(top=0.8, right=0.8, hspace=2),\n",
    ")\n",
    "for i, exp_type in enumerate(all_exp_types):\n",
    "    # Get an example fish for the experiment:\n",
    "    fids = all_stim_conds.loc[all_stim_conds[\"exp_type\"] == exp_type, \"fid\"].unique()\n",
    "    fid = fids[0]\n",
    "\n",
    "    # Plot with custom lotr function:\n",
    "    pltltr.plot_exp_condition(\n",
    "        all_stim_conds[all_stim_conds[\"fid\"] == fid], ax=axs[i], alpha=1\n",
    "    )\n",
    "\n",
    "    axs[i].set(title=exp_type + f\" (n={len(fids)})\", xlim=(0.0, 2500))\n",
    "\n",
    "for ax in axs[:-1]:\n",
    "    pltltr.despine(ax, \"all\")\n",
    "pltltr.despine(axs[-1], [\"left\", \"top\", \"right\"])\n",
    "\n",
    "axs[-1].set(xlabel=\"Time (s)\", xlim=(0.0, 2500))\n",
    "\n",
    "ax = f.add_axes((0.75, 0.95, 0.2, 0.2))\n",
    "ax.axis(\"off\")\n",
    "v_space = -0.17\n",
    "v_o, h_o = 0, 0.01\n",
    "\n",
    "for text, item in COLS[\"stim_conditions\"].items():\n",
    "    lab = \" \".join(text.split(\"_\")).capitalize()\n",
    "    if text != \"closed_loop\":\n",
    "        ax.text(h_o, v_o, lab, c=item, weight=\"bold\", fontsize=8)\n",
    "        v_o += v_space\n",
    "    else:\n",
    "        for g, col in item.items():\n",
    "            ax.text(h_o, v_o, f\"{lab} (gain {g})\", c=col, weight=\"bold\", fontsize=8)\n",
    "            v_o += v_space\n",
    "\n",
    "pltltr.savefig(\"experiment_types\")"
   ]
  },
  {
   "cell_type": "markdown",
   "id": "c150ff79-e26c-48b9-a790-872bb48e6071",
   "metadata": {},
   "source": [
    "## Bout-induced phase changes w/ and w/o visual feedback \n",
    "\n",
    "First of all, we crop phase shifts and cumulative theta turned around all bouts as we did in the previous notebook. Then, for every bout we will add a label specifying what was the ongoing stimulus at its onset time:"
   ]
  },
  {
   "cell_type": "code",
   "execution_count": null,
   "id": "5032741c-c00c-49dc-9b98-503aff82e8a9",
   "metadata": {},
   "outputs": [],
   "source": [
    "from lotr.analysis.shift_cropping import crop_shifts_all_dataset\n",
    "from lotr.default_vals import (\n",
    "    DEFAULT_FN,\n",
    "    POST_BOUT_WND_S,\n",
    "    PRE_BOUT_WND_S,\n",
    "    WND_DELTA_PHASE_S,\n",
    ")\n",
    "\n",
    "(\n",
    "    all_phase_cropped,\n",
    "    all_head_cropped,\n",
    "    all_stim_cropped,\n",
    "    events_df,\n",
    "    time_arr,\n",
    ") = crop_shifts_all_dataset(crop_stimulus=True)\n",
    "\n",
    "# TODO: fix this misnaming in actual preprocessing\n",
    "events_df.loc[events_df[\"fid\"] == \"210601_f0_2d_vr_eyes\", \"fid\"] = \"210601_f0_2dvr_eyes\"\n",
    "\n",
    "# add label for condition and gain to every bout:\n",
    "events_df[\"condition\"] = \"-\"\n",
    "events_df[\"gain\"] = np.nan\n",
    "\n",
    "for i in tqdm(events_df.index):\n",
    "    sel_trial = (\n",
    "        (all_stim_conds[\"t_start\"] < events_df.loc[i, \"t_start\"])\n",
    "        & (all_stim_conds[\"t_stop\"] > events_df.loc[i, \"t_start\"])\n",
    "        & (all_stim_conds[\"fid\"] == events_df.loc[i, \"fid\"])\n",
    "    )\n",
    "    events_df.loc[i, \"condition\"] = all_stim_conds.loc[sel_trial, \"condition\"].values\n",
    "    events_df.loc[i, \"exp_type\"] = all_stim_conds.loc[sel_trial, \"exp_type\"].values\n",
    "\n",
    "    if events_df.loc[i, \"condition\"] == \"closed_loop\":\n",
    "        events_df.loc[i, \"gain_theta\"] = all_stim_conds.loc[\n",
    "            sel_trial, \"gain_theta\"\n",
    "        ].values\n",
    "\n",
    "# Calculate amount of shift around each motor event:\n",
    "wnd_pts = (PRE_BOUT_WND_S + WND_DELTA_PHASE_S) * DEFAULT_FN\n",
    "events_df[\"delta_phase\"] = np.nanmean(all_phase_cropped[slice(*wnd_pts), :], 0)\n",
    "events_df[\"delta_head\"] = np.nanmean(all_head_cropped[slice(*wnd_pts), :], 0)"
   ]
  },
  {
   "cell_type": "markdown",
   "id": "70665883-2316-4a8f-a241-386cf19f20ec",
   "metadata": {},
   "source": [
    "### Effects of gain modulation\n",
    "\n",
    "Now, for `gainmod` experiments, we can calculate whether gain has an effect on peri-event heading-to-phase correlation"
   ]
  },
  {
   "cell_type": "code",
   "execution_count": null,
   "id": "bb33b873-4372-4bd8-a364-a5b900fce2f8",
   "metadata": {},
   "outputs": [],
   "source": [
    "MIN_BOUTS_N = 10  # minimum number of bouts to compute regression\n",
    "gains = [0.5, 1, 2, -1]  # fix sequence for consistency\n",
    "\n",
    "# select gainmod stimuli:\n",
    "gainmod_df = events_df[events_df[\"exp_type\"] == \"gainmod\"]\n",
    "gain_results_df = []\n",
    "\n",
    "if len(gainmod_df) > 0:\n",
    "    for fid in gainmod_df[\"fid\"].unique():\n",
    "        gdict = dict(fid=fid)\n",
    "        for g in gains:\n",
    "            sel_df = events_df[\n",
    "                (events_df[\"gain_theta\"] == g)\n",
    "                & (events_df[\"fid\"] == fid)\n",
    "                & ((events_df[\"direction\"] == \"rt\") | (events_df[\"direction\"] == \"lf\"))\n",
    "            ]\n",
    "            if len(sel_df) > MIN_BOUTS_N:\n",
    "                _, corr = linear_regression(sel_df[\"delta_phase\"], sel_df[\"delta_head\"])\n",
    "            else:\n",
    "                corr = np.nan\n",
    "            gdict[g] = corr\n",
    "            # results_df.append({\"gain\": g, \"fid\": fid, \"corr\": corr})\n",
    "        gain_results_df.append(gdict)\n",
    "\n",
    "    gain_results_df = pd.DataFrame(gain_results_df).set_index(\"fid\")"
   ]
  },
  {
   "cell_type": "code",
   "execution_count": null,
   "id": "905985dc-7652-40bc-846a-676257532db7",
   "metadata": {},
   "outputs": [],
   "source": [
    "events_df[\"direction\"].unique()"
   ]
  },
  {
   "cell_type": "code",
   "execution_count": null,
   "id": "02321617-35b6-4e67-90ae-d8167e03e015",
   "metadata": {},
   "outputs": [],
   "source": [
    "if len(gainmod_df) > 0:\n",
    "    cols = [c for _, c in COLS[\"stim_conditions\"][\"closed_loop\"].items()]\n",
    "\n",
    "    f, ax = plt.subplots(figsize=(2.0, 2))\n",
    "    pltltr.tick_with_bars(\n",
    "        gain_results_df, cols=cols, lw=1.5, s=0.08,\n",
    "    )\n",
    "    plt.plot(gain_results_df.values.T, lw=1, c=\".8\")\n",
    "    ax.set(\n",
    "        ylabel=(r\"Δhead Δphase $\\alpha$\"),\n",
    "        xlabel=\"Gain\",\n",
    "        xticks=[0, 1, 2, 3],\n",
    "        xticklabels=[0.5, 1, 2, -1],\n",
    "        xlim=(-0.3, 3.3),\n",
    "        ylim=(-4, 0.5),\n",
    "    )\n",
    "    pltltr.despine(ax)\n",
    "    plt.tight_layout()\n",
    "\n",
    "    # run all possible pair-wise tests:\n",
    "    all_res = []\n",
    "    for i in range(len(gains)):\n",
    "        for j in range(i + 1, len(gains)):\n",
    "            test_res = wilcoxon(*[gain_results_df[k] for k in [gains[i], gains[j]]])\n",
    "            all_res.append(test_res.pvalue)\n",
    "\n",
    "    ax.text(\n",
    "        1.5,\n",
    "        0.5,\n",
    "        pltltr.get_pval_stars(min(all_res)) + \" on all comparisons\",\n",
    "        ha=\"center\",\n",
    "    )\n",
    "\n",
    "    pltltr.savefig(\"different_gains_comparison\")"
   ]
  },
  {
   "cell_type": "markdown",
   "id": "8ace9eb3-27f1-4408-999f-0da526f8411c",
   "metadata": {},
   "source": [
    "There seem to be no effect of the gain!"
   ]
  },
  {
   "cell_type": "markdown",
   "id": "b01f31cd-03b7-46ae-8d49-a47f5f65c64a",
   "metadata": {},
   "source": [
    "### Effects of closed- vs. open-loop stimuli"
   ]
  },
  {
   "cell_type": "code",
   "execution_count": null,
   "id": "d95f6ba0-df15-4002-afd0-ff1a15bd06a1",
   "metadata": {},
   "outputs": [],
   "source": [
    "# Select fish that have closed loop:\n",
    "# included_fish = events_df.loc[events_df[\"condition\"] == \"closed_loop\", \"fid\"].unique()\n",
    "included_fish = events_df.loc[events_df[\"exp_type\"] == \"clol\", \"fid\"].unique()\n",
    "\n",
    "\n",
    "clol_results_df = []\n",
    "for fid in included_fish:\n",
    "    gdict = dict()\n",
    "    for cl_sel, k in zip(\n",
    "        [\n",
    "            (events_df[\"condition\"] == \"closed_loop\"),\n",
    "            (events_df[\"condition\"] != \"closed_loop\"),\n",
    "        ],\n",
    "        [\"cl\", \"ol\"],\n",
    "    ):\n",
    "        sel_df = events_df[cl_sel & (events_df[\"fid\"] == fid)]\n",
    "        if len(sel_df) > 10:\n",
    "            _, corr = linear_regression(sel_df[\"delta_phase\"], sel_df[\"delta_head\"])\n",
    "        else:\n",
    "            corr = np.nan\n",
    "        gdict[k] = corr\n",
    "\n",
    "    clol_results_df.append(gdict)\n",
    "clol_results_df = pd.DataFrame(clol_results_df).dropna()"
   ]
  },
  {
   "cell_type": "code",
   "execution_count": null,
   "id": "cde86fc4-1dcb-4273-8862-262dc6d433e2",
   "metadata": {},
   "outputs": [],
   "source": [
    "if len(clol_results_df) > 0:\n",
    "    cols = [\n",
    "        COLS[\"stim_conditions\"][\"closed_loop\"][1],\n",
    "        COLS[\"stim_conditions\"][\"natural_motion\"],\n",
    "    ]\n",
    "\n",
    "    f, ax = plt.subplots(figsize=(1.5, 2))\n",
    "    pltltr.tick_with_bars(\n",
    "        clol_results_df, cols=cols, lw=1.5,\n",
    "    )\n",
    "    plt.plot(clol_results_df.values.T, lw=1, c=\".8\")\n",
    "    ax.set(\n",
    "        ylabel=(r\"Δhead Δphase $\\alpha$\"),\n",
    "        xticks=[0, 1],\n",
    "        xticklabels=[\"closed \\nloop\", \"open \\nloop\"],\n",
    "        xlim=(-0.3, 1.3),\n",
    "        ylim=(-3, 1),\n",
    "    )\n",
    "    test_res = wilcoxon(*[clol_results_df[k] for k in [\"cl\", \"ol\"]])\n",
    "    ax.text(0.5, 0.5, pltltr.get_pval_stars(test_res), ha=\"center\")\n",
    "    pltltr.despine(ax)\n",
    "    plt.tight_layout()\n",
    "\n",
    "    pltltr.savefig(\"cl_ol_comparison\")"
   ]
  },
  {
   "cell_type": "markdown",
   "id": "3c55f044-577e-40d3-b7da-e53e58c7b3c0",
   "metadata": {},
   "source": [
    "Also closed vs. open loop does not really seem to have any effect!"
   ]
  },
  {
   "cell_type": "markdown",
   "id": "83b3e51d-dfc7-444f-9dcd-b167db333e2f",
   "metadata": {},
   "source": [
    "# Phase bout-triggered averages in closed loop experiments"
   ]
  },
  {
   "cell_type": "code",
   "execution_count": null,
   "id": "559cbcf8-48cc-49fe-9199-9bd65e0d6a3d",
   "metadata": {},
   "outputs": [],
   "source": [
    "all_stim_cropped = np.concatenate(all_stim_cropped, axis=1)"
   ]
  },
  {
   "cell_type": "code",
   "execution_count": null,
   "id": "ad21d9d9-a820-488f-bd7e-6f49ae975411",
   "metadata": {},
   "outputs": [],
   "source": [
    "all_stim_cropped.shape"
   ]
  },
  {
   "cell_type": "code",
   "execution_count": null,
   "id": "6e18dcad-3913-40fd-8674-5f0a16469484",
   "metadata": {},
   "outputs": [],
   "source": [
    "included_fish = events_df.loc[events_df[\"exp_type\"] == \"gainmod\", \"fid\"].unique()\n",
    "# clol_results_df = []\n",
    "\n",
    "f, axs = plt.subplots(1, 3, figsize=(9, 3), gridspec_kw=dict(right=0.8))\n",
    "\n",
    "for d in [\"fw\", \"lf\", \"rt\"]:\n",
    "    for gain, lum_c in zip(\n",
    "        [0.5, 1, 2, -1],\n",
    "        [pltltr.shift_lum(COLS[\"sides\"][d], s) for s in [0, 0.2, 0.4]]\n",
    "        + [np.array(COLS[\"sides\"][d])[[2, 0, 1]],],\n",
    "    ):\n",
    "        avgs = [[], [], []]\n",
    "        for fid in included_fish:\n",
    "            sel_df = events_df[\n",
    "                (events_df[\"gain_theta\"] == gain)\n",
    "                & (events_df[\"direction\"] == d)\n",
    "                & (events_df[\"fid\"] == fid)\n",
    "            ]\n",
    "            # plt.plot(np.nanmean(all_phase_cropped[:, sel_df.index], 1), c=COLS[\"sides\"][d], lw=0.5)\n",
    "            # avgs.append(np.nanmean(all_phase_cropped[:, sel_df.index], 1))\n",
    "            # if len()\n",
    "            if len(sel_df) > 5:\n",
    "                for i, to_crop in enumerate(\n",
    "                    [all_phase_cropped, -all_head_cropped, all_stim_cropped]\n",
    "                ):\n",
    "                    avgs[i].append(np.nanmedian(to_crop[:, sel_df.index], 1))\n",
    "                    # avgs = np.nanmean(\n",
    "                    #    to_crop[:, sel_df.index], 1\n",
    "                    # np.nanmean(np.array(avgs), 0)\n",
    "\n",
    "        for i, (ax, title) in enumerate(zip(axs, [\"phase\", \"heading\", \"stim\"])):\n",
    "            ax.plot(\n",
    "                np.nanmean(avgs[i], 0), c=lum_c, lw=2, label=f\"gain {gain}, dir {d}\"\n",
    "            )\n",
    "            pltltr.despine(ax)\n",
    "            ax.set_title(title)\n",
    "\n",
    "        axs[2].legend(loc=2, bbox_to_anchor=(1, 1))"
   ]
  },
  {
   "cell_type": "code",
   "execution_count": null,
   "id": "4f8446c7-d059-4770-9038-4f38aa95c479",
   "metadata": {},
   "outputs": [],
   "source": [
    "np.array(COLS[\"sides\"][d])"
   ]
  },
  {
   "cell_type": "code",
   "execution_count": null,
   "id": "a5f04f76-a879-4fd8-8b97-73c53abdd944",
   "metadata": {},
   "outputs": [],
   "source": [
    "included_fish = events_df.loc[events_df[\"exp_type\"] == \"gainmod\", \"fid\"].unique()\n",
    "# clol_results_df = []\n",
    "plt.figure()\n",
    "for d in [\"fw\", \"lf\", \"rt\"]:\n",
    "    for gain in [0.5, 1, 2, -1]:\n",
    "        avgs = []\n",
    "        for fid in included_fish:\n",
    "            sel_df = events_df[\n",
    "                (events_df[\"gain_theta\"] == gain)\n",
    "                & (events_df[\"direction\"] == d)\n",
    "                & (events_df[\"fid\"] == fid)\n",
    "            ]\n",
    "            # plt.plot(np.nanmean(all_phase_cropped[:, sel_df.index], 1), c=COLS[\"sides\"][d], lw=0.5)\n",
    "            avgs.append(np.nanmean(all_head_cropped[:, sel_df.index], 1))\n",
    "\n",
    "        avgs = np.nanmean(np.array(avgs), 0)\n",
    "        plt.plot(avgs, c=COLS[\"sides\"][d], lw=2)"
   ]
  },
  {
   "cell_type": "code",
   "execution_count": null,
   "id": "e1f943ef-76f3-4181-a1e5-3dfe5240ce94",
   "metadata": {},
   "outputs": [],
   "source": [
    "included_fish = events_df.loc[events_df[\"exp_type\"] == \"gainmod\", \"fid\"].unique()\n",
    "# clol_results_df = []\n",
    "plt.figure()\n",
    "for d in [\"fw\", \"lf\", \"rt\"]:\n",
    "    for gain in [0.5, 1, 2, -1]:\n",
    "        avgs = []\n",
    "        for fid in included_fish:\n",
    "            sel_df = events_df[\n",
    "                (events_df[\"gain_theta\"] == gain)\n",
    "                & (events_df[\"direction\"] == d)\n",
    "                & (events_df[\"fid\"] == fid)\n",
    "            ]\n",
    "            # plt.plot(np.nanmean(all_phase_cropped[:, sel_df.index], 1), c=COLS[\"sides\"][d], lw=0.5)\n",
    "            avgs.append(np.nanmean(all_phase_cropped[:, sel_df.index], 1))\n",
    "\n",
    "        avgs = np.nanmean(np.array(avgs), 0)\n",
    "        plt.plot(avgs, c=COLS[\"sides\"][d], lw=2)"
   ]
  },
  {
   "cell_type": "code",
   "execution_count": null,
   "id": "cfe7f321-3679-46c2-b80b-79c03b148b04",
   "metadata": {},
   "outputs": [],
   "source": [
    "plt.plot(avgs.T)\n",
    "plt.show()"
   ]
  },
  {
   "cell_type": "code",
   "execution_count": null,
   "id": "46a616a5-9ee9-4939-9974-4cc13d04fabf",
   "metadata": {},
   "outputs": [],
   "source": [
    "plt.figure()\n",
    "plt.plot()"
   ]
  }
 ],
 "metadata": {
  "kernelspec": {
   "display_name": "rplab",
   "language": "python",
   "name": "rplab"
  },
  "language_info": {
   "codemirror_mode": {
    "name": "ipython",
    "version": 3
   },
   "file_extension": ".py",
   "mimetype": "text/x-python",
   "name": "python",
   "nbconvert_exporter": "python",
   "pygments_lexer": "ipython3"
  }
 },
 "nbformat": 4,
 "nbformat_minor": 5
}

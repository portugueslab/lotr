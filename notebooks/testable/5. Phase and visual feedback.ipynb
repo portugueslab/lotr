{
 "cells": [
  {
   "cell_type": "markdown",
   "id": "cc9ba817-b740-4853-a9fa-895e1dc5c887",
   "metadata": {},
   "source": [
    "# Phase dynamics and visual feedback\n",
    "\n",
    "In this notebook, we will build upon the previous quantifications on the relationship between phase and directional swimming and see whether visual feedback is necessary / involved in the rotation of the network."
   ]
  },
  {
   "cell_type": "code",
   "execution_count": null,
   "id": "ac2df2dd-8cb8-4129-9bdf-a24426ad13f8",
   "metadata": {},
   "outputs": [],
   "source": [
    "%matplotlib widget\n",
    "\n",
    "import lotr.plotting as pltltr\n",
    "import numpy as np\n",
    "import pandas as pd\n",
    "from lotr import A_FISH, FIGURES_LOCATION, LotrExperiment, dataset_folders\n",
    "from lotr.behavior import get_fictive_heading\n",
    "from lotr.utils import crop, resample_matrix\n",
    "from matplotlib import pyplot as plt\n",
    "from tqdm import tqdm\n",
    "\n",
    "COLS = pltltr.COLS"
   ]
  },
  {
   "cell_type": "markdown",
   "id": "9f2a3f64-43a2-4739-85d8-921be5bf08fa",
   "metadata": {},
   "source": [
    "## Load stimulus information\n",
    "\n",
    "We will use the `LotrExperiment.stim_trials_df` method to load from each experiment a dictionary describing the sequence of stimuli and the concatenate all of them in a single dataframe.\n",
    "The `all_stim_conds` will contain a `condition` column that can be one of the following:\n",
    " - **`darkness`**: black screen, fish swimming in the darkness\n",
    " - **`closed_loop`**: fish experiences visual feedback when moving. This consists in a pink noise pattern that, every time the fish performa a bout, rotates proportionally to the laterality index for the bout (with inverted sign), and translates backward up with an average speed of approx. 10 mm/s. In the gainmod experiments, a gain factor that changes the amount of rotation  induced by each directional bout is alternated between 0.5 (**low gain**), 1.0 (**normal gain**), 2.0 (**high gain**), -1 (**inverted motion**).\n",
    " - **`natural_mot`**: pink noise that is translated/rotated independently of the fish motion in ways similar to what the fish would experience swimming over the pattern - a sort of playback of a closed loop experiment. This stimulus induces very small responses in visual directional motion/rotation cells as every movement is very brief.\n",
    " - **`directional_mot`**: pink noise that moves in 8 equally spaced directions on the plane below the fish in periods of 10s, spaced by pause periods of 10s where the pattern is static. As the fish is mostly moving during directional motion, for the sake of this quantification for now all bouts during both the motion and the static times are pooled in the \"directional_mot\" condition # TODO maybe split them"
   ]
  },
  {
   "cell_type": "code",
   "execution_count": null,
   "id": "a55435da-83d8-4b75-bff0-3af0b2390a75",
   "metadata": {},
   "outputs": [],
   "source": [
    "all_stim_logs = [LotrExperiment(path).stim_trials_df for path in tqdm(dataset_folders)]\n",
    "all_stim_conds = pd.concat(all_stim_logs, ignore_index=True, sort=True)"
   ]
  },
  {
   "cell_type": "markdown",
   "id": "1047e755-4ea7-41cb-a9ad-3d4c39511b23",
   "metadata": {},
   "source": [
    "### Visualize all experiment types\n",
    "\n",
    "Let's have a quick look at all the experiment types:"
   ]
  },
  {
   "cell_type": "code",
   "execution_count": null,
   "id": "8eace34b-73f7-4f2e-89bc-b20e5a8023c6",
   "metadata": {},
   "outputs": [],
   "source": [
    "all_exp_types = all_stim_conds.exp_type.unique()\n",
    "\n",
    "f, axs = plt.subplots(\n",
    "    len(all_exp_types),\n",
    "    1,\n",
    "    figsize=(5, 4),\n",
    "    gridspec_kw=dict(top=0.8, right=0.8, hspace=1),\n",
    ")\n",
    "for i, exp_type in enumerate(all_exp_types):\n",
    "    # Get an example fish for the experiment:\n",
    "    fid = all_stim_conds.loc[all_stim_conds[\"exp_type\"] == exp_type, \"fid\"].unique()[0]\n",
    "\n",
    "    # Plot with custom lotr function:\n",
    "    pltltr.plot_exp_condition(\n",
    "        all_stim_conds[all_stim_conds[\"fid\"] == fid], ax=axs[i], alpha=1\n",
    "    )\n",
    "    axs[i].set(title=exp_type, xlim=(0.0, 2500))\n",
    "\n",
    "for ax in axs[:-1]:\n",
    "    pltltr.despine(ax, \"all\")\n",
    "pltltr.despine(axs[-1], [\"left\", \"top\", \"right\"])\n",
    "\n",
    "axs[-1].set_xlabel(\"Time (s)\")\n",
    "\n",
    "ax = f.add_axes((0.75, 0.95, 0.2, 0.2))\n",
    "ax.axis(\"off\")\n",
    "v_space = -0.17\n",
    "v_o, h_o = 0, 0.01\n",
    "\n",
    "for text, item in COLS[\"stim_conditions\"].items():\n",
    "    lab = \" \".join(text.split(\"_\")).capitalize()\n",
    "    if text != \"closed_loop\":\n",
    "        ax.text(h_o, v_o, lab, c=item, weight=\"bold\", fontsize=8)\n",
    "        v_o += v_space\n",
    "    else:\n",
    "        for g, col in item.items():\n",
    "            ax.text(h_o, v_o, f\"{lab} (gain {g})\", c=col, weight=\"bold\", fontsize=8)\n",
    "            v_o += v_space\n",
    "\n",
    "pltltr.savefig(\"experiment_types\")"
   ]
  },
  {
   "cell_type": "markdown",
   "id": "c150ff79-e26c-48b9-a790-872bb48e6071",
   "metadata": {},
   "source": [
    "## Bout-induced phase changes w/ and w/o visual feedback \n",
    "\n",
    "First of all, let's crop phase shifts and cumulative theta turned around all bouts as we did in the previous notebook:"
   ]
  },
  {
   "cell_type": "code",
   "execution_count": null,
   "id": "9020103c-60a0-446b-b597-62bedf56fa4f",
   "metadata": {},
   "outputs": [],
   "source": [
    "from lotr.analysis.shift_cropping import crop_shifts_all_dataset\n",
    "\n",
    "all_phase_cropped, all_head_cropped, events_df, time_arr = crop_shifts_all_dataset()"
   ]
  },
  {
   "cell_type": "code",
   "execution_count": null,
   "id": "ee75fa8c-90dc-45e7-a43a-a6ed180f7334",
   "metadata": {},
   "outputs": [],
   "source": []
  },
  {
   "cell_type": "code",
   "execution_count": null,
   "id": "fb784dd1-0abd-442b-85c0-b7ccb7a09b87",
   "metadata": {},
   "outputs": [],
   "source": [
    "FN = 5  # we impose a sampling frequency, fish with a different one will be resampled\n",
    "\n",
    "directions = [\"rt\", \"lf\", \"fw\"]\n",
    "pre_wnd_s, post_wnd_s = 10, 25\n",
    "\n",
    "all_phase_cropped = []\n",
    "all_head_cropped = []\n",
    "\n",
    "# We will create a dataframe to keep track of events from all fish.\n",
    "# Mostly a way of keeping together the crop and the bouts:\n",
    "events_df = []\n",
    "\n",
    "time_arr = np.arange(1, ((pre_wnd_s + post_wnd_s) * FN) + 1) / FN - pre_wnd_s\n",
    "for path in tqdm(dataset_folders):\n",
    "    exp = LotrExperiment(path)\n",
    "\n",
    "    unwrapped_ph = np.unwrap(exp.network_phase)\n",
    "    fictive_head = get_fictive_heading(exp.n_pts, exp.bouts_df)\n",
    "\n",
    "    for d in directions:\n",
    "        sel_bouts = exp.bouts_df.loc[exp.bouts_df[\"direction\"] == d, :]\n",
    "\n",
    "        events_df.append(sel_bouts.reindex())\n",
    "\n",
    "        for dest_list, to_crop in zip(\n",
    "            [all_phase_cropped, all_head_cropped], [unwrapped_ph, fictive_head]\n",
    "        ):\n",
    "\n",
    "            cropped = crop(\n",
    "                to_crop,\n",
    "                sel_bouts[\"idx_imaging\"],\n",
    "                pre_int=pre_wnd_s * exp.fn,\n",
    "                post_int=post_wnd_s * exp.fn,\n",
    "            )\n",
    "\n",
    "            # Subtract baseline:\n",
    "            cropped = cropped - np.mean(cropped[: pre_wnd_s * exp.fn, :], 0)\n",
    "\n",
    "            # Interpolate if necessary:\n",
    "            if exp.fn != FN:\n",
    "                fish_time_arr = np.arange(1, cropped.shape[0] + 1) / exp.fn - pre_wnd_s\n",
    "                cropped = resample_matrix(time_arr, fish_time_arr, cropped)\n",
    "\n",
    "            dest_list.append(cropped)\n",
    "\n",
    "all_phase_cropped = np.concatenate(all_phase_cropped, axis=1)\n",
    "all_head_cropped = np.concatenate(all_head_cropped, axis=1)\n",
    "events_df = pd.concat(events_df, ignore_index=True)"
   ]
  },
  {
   "cell_type": "code",
   "execution_count": null,
   "id": "5032741c-c00c-49dc-9b98-503aff82e8a9",
   "metadata": {},
   "outputs": [],
   "source": [
    "# TODO: fix this in actual preprocessing\n",
    "events_df.loc[events_df[\"fid\"] == \"210601_f0_2d_vr_eyes\", \"fid\"] = \"210601_f0_2dvr_eyes\"\n",
    "\n",
    "events_df[\"condition\"] = \"-\"\n",
    "events_df[\"gain\"] = np.nan\n",
    "\n",
    "for i in tqdm(events_df.index):\n",
    "    sel_trial = (\n",
    "        (all_stim_conds[\"t_start\"] < events_df.loc[i, \"t_start\"])\n",
    "        & (all_stim_conds[\"t_stop\"] > events_df.loc[i, \"t_start\"])\n",
    "        & (all_stim_conds[\"fid\"] == events_df.loc[i, \"fid\"])\n",
    "    )\n",
    "    events_df.loc[i, \"condition\"] = all_stim_conds.loc[sel_trial, \"condition\"].values\n",
    "    events_df.loc[i, \"exp_type\"] = all_stim_conds.loc[sel_trial, \"exp_type\"].values\n",
    "\n",
    "    if events_df.loc[i, \"condition\"] == \"closed_loop\":\n",
    "        events_df.loc[i, \"gain_theta\"] = all_stim_conds.loc[\n",
    "            sel_trial, \"gain_theta\"\n",
    "        ].values"
   ]
  },
  {
   "cell_type": "code",
   "execution_count": null,
   "id": "4e089a8b-f2ee-44df-b7e1-d25d4122e2f4",
   "metadata": {},
   "outputs": [],
   "source": [
    "t_slice = slice(160, None)\n",
    "\n",
    "cols = (\"r\", \"k\", \"b\", \"y\")\n",
    "plt.figure(figsize=(3, 3))\n",
    "for g, c in zip([0.5, 1, 2, -1], cols):\n",
    "    sel = (events_df[\"exp_type\"] == \"gainmod\") & (events_df[\"gain_theta\"] == g)\n",
    "    print(sum(sel))\n",
    "    plt.scatter(\n",
    "        all_phase_cropped[t_slice, sel].mean(0),\n",
    "        all_head_cropped[t_slice, sel].mean(0),\n",
    "        c=c,\n",
    "        alpha=0.1,\n",
    "        lw=0,\n",
    "    )\n",
    "plt.axis(\"equal\")\n",
    "plt.xlabel(\"delta_phase\")\n",
    "plt.ylabel(\"delta_head\")\n",
    "plt.tight_layout()"
   ]
  },
  {
   "cell_type": "code",
   "execution_count": null,
   "id": "99db2607-76b9-41ad-86ee-b64dc63c8512",
   "metadata": {},
   "outputs": [],
   "source": [
    "import statsmodels.formula.api as sm\n",
    "\n",
    "all_coefs = []\n",
    "for g, c in zip([0.5, 1, 2, -1], cols):\n",
    "    sel = (events_df[\"exp_type\"] == \"gainmod\") & (events_df[\"gain_theta\"] == g)\n",
    "    gain_arr = []\n",
    "    for fid in events_df[sel].fid.unique():\n",
    "        fish_sel = sel & (events_df[\"fid\"] == fid)\n",
    "        data_df = pd.DataFrame(\n",
    "            {\n",
    "                \"x\": all_phase_cropped[t_slice, fish_sel].mean(0),\n",
    "                \"y\": all_head_cropped[t_slice, fish_sel].mean(0),\n",
    "            }\n",
    "        )\n",
    "        ols_model = sm.ols(formula=\"y ~ x\", data=data_df)\n",
    "        results = ols_model.fit()\n",
    "        # coefficients\n",
    "        # gain_arr.append(np.corrcoef(data_df.values.T)[0, 1])\n",
    "        # print(\"Intercept, x-Slope : {}\".format(results.params))\n",
    "        # y_pred = ols_model.fit().predict(data_df[\"x\"])\n",
    "        gain_arr.append(results.params[\"x\"])\n",
    "\n",
    "    all_coefs.append(gain_arr)"
   ]
  },
  {
   "cell_type": "code",
   "execution_count": null,
   "id": "6214aca4-b39c-4672-8c3e-9c28fca394fe",
   "metadata": {},
   "outputs": [],
   "source": [
    "plt.figure()\n",
    "plt.scatter(\n",
    "    data_df.x, data_df.y, c=c, alpha=0.1, lw=0,\n",
    ")\n",
    "# x_fit = np.arange(-2*np.pi, 2*np.pi, 0.1)\n",
    "# plt.plot(x_fit, x_fit * results.params[\"x\"] + results.params[\"Intercept\"])\n",
    "plt.plot(data_df[\"x\"], ols_model.fit().predict(data_df[\"x\"]))"
   ]
  },
  {
   "cell_type": "code",
   "execution_count": null,
   "id": "de5ddb70-8d87-4dc0-b173-051a27f52ad2",
   "metadata": {},
   "outputs": [],
   "source": [
    "included_fish"
   ]
  },
  {
   "cell_type": "code",
   "execution_count": null,
   "id": "a858d5a5-76e4-435b-8b02-55eeee41ed6b",
   "metadata": {},
   "outputs": [],
   "source": [
    "data_df"
   ]
  },
  {
   "cell_type": "code",
   "execution_count": null,
   "id": "0252827d-023f-4251-9179-1176d126888a",
   "metadata": {},
   "outputs": [],
   "source": [
    "included_fish = events_df.loc[events_df[\"condition\"] == \"closed_loop\", \"fid\"].unique()\n",
    "\n",
    "all_coefs = []\n",
    "for fid in included_fish:\n",
    "    cond_arr = []\n",
    "    for cl_sel in [\n",
    "        (events_df[\"condition\"] == \"closed_loop\"),\n",
    "        (events_df[\"condition\"] != \"closed_loop\"),\n",
    "    ]:\n",
    "        sel = cl_sel & (events_df[\"fid\"] == fid)\n",
    "        # print(sum(sel))\n",
    "        data_df = pd.DataFrame(\n",
    "            {\n",
    "                \"x\": all_phase_cropped[t_slice, sel].mean(0),\n",
    "                \"y\": all_head_cropped[t_slice, sel].mean(0),\n",
    "            }\n",
    "        )\n",
    "        if len(data_df > 10):\n",
    "            ols_model = sm.ols(formula=\"y ~ x\", data=data_df)\n",
    "            results = ols_model.fit()\n",
    "            # coefficients\n",
    "            # cond_arr.append(np.corrcoef(data_df.values.T)[0, 1])\n",
    "            # print(\"Intercept, x-Slope : {}\".format(results.params))\n",
    "            # y_pred = ols_model.fit().predict(data_df[\"x\"])\n",
    "            cond_arr.append(results.params[\"x\"])\n",
    "        else:\n",
    "            cond_arr.append(np.nan)\n",
    "\n",
    "    all_coefs.append(cond_arr)"
   ]
  },
  {
   "cell_type": "code",
   "execution_count": null,
   "id": "32e9914b-48b9-48b8-8b0f-e99e7f9ca28b",
   "metadata": {},
   "outputs": [],
   "source": [
    "plt.figure()\n",
    "plt.plot(np.array(all_coefs).T, \"-o\")\n",
    "plt.show()"
   ]
  },
  {
   "cell_type": "code",
   "execution_count": null,
   "id": "4158c33f-4781-415c-81ee-1a90e77ce478",
   "metadata": {},
   "outputs": [],
   "source": [
    "for con in [\"closed_loop\", \"natural_mot\", \"directional_mot\", \"darkness\"]:\n",
    "    sel = events_df[\"condition\"] == con\n",
    "\n",
    "    data_df = pd.DataFrame(\n",
    "        {\n",
    "            \"x\": all_phase_cropped[t_slice, sel].mean(0),\n",
    "            \"y\": all_head_cropped[t_slice, sel].mean(0),\n",
    "        }\n",
    "    )\n",
    "    ols_model = sm.ols(formula=\"y ~ x\", data=data_df)\n",
    "    results = ols_model.fit()\n",
    "    # coefficients\n",
    "    print(np.corrcoef(data_df.values.T)[0, 1])"
   ]
  },
  {
   "cell_type": "code",
   "execution_count": null,
   "id": "174df566-5f36-4e2e-a32a-bd6d98d2cb50",
   "metadata": {},
   "outputs": [],
   "source": []
  },
  {
   "cell_type": "code",
   "execution_count": null,
   "id": "30d03d45-ad73-4994-b241-f099a8757cfa",
   "metadata": {},
   "outputs": [],
   "source": [
    "for g, c in zip([0.5, 1, 2], cols):\n",
    "    sel = (events_df[\"condition\"] == \"closed_loop\") & (events_df[\"gain\"] == g)\n",
    "\n",
    "    data_df = pd.DataFrame(\n",
    "        {\n",
    "            \"x\": all_phase_cropped[t_slice, sel].mean(0),\n",
    "            \"y\": all_head_cropped[t_slice, sel].mean(0),\n",
    "        }\n",
    "    )\n",
    "    ols_model = sm.ols(formula=\"y ~ x\", data=data_df)\n",
    "    results = ols_model.fit()\n",
    "    # coefficients\n",
    "    print(np.corrcoef(data_df.values.T)[0, 1])"
   ]
  },
  {
   "cell_type": "code",
   "execution_count": null,
   "id": "1c6d6904-1636-4aa3-b3ad-884d2e08e856",
   "metadata": {},
   "outputs": [],
   "source": []
  },
  {
   "cell_type": "code",
   "execution_count": null,
   "id": "5784fe41-5e39-4890-bf42-a7b2f599da7f",
   "metadata": {},
   "outputs": [],
   "source": [
    "t_slice = slice(160, None)\n",
    "\n",
    "cols = (\"r\", \"k\", \"b\")\n",
    "plt.figure(figsize=(3, 3))\n",
    "# for g, c in zip([0.5, 1, 2], cols):\n",
    "#     # sel = (events_df[\"condition\"] == \"closed_loop\") & (events_df[\"gain\"] == g)\n",
    "plt.scatter(\n",
    "    all_phase_cropped[t_slice, :].mean(0),\n",
    "    all_head_cropped[t_slice, :].mean(0) / 2,\n",
    "    c=\"k\",\n",
    "    alpha=0.5,\n",
    "    lw=0,\n",
    ")\n",
    "\n",
    "s = np.abs(events_df[\"bias\"]) < 0.001\n",
    "plt.scatter(\n",
    "    all_phase_cropped[t_slice, s].mean(0),\n",
    "    all_head_cropped[t_slice, s].mean(0) / 2,\n",
    "    c=\"r\",\n",
    "    alpha=0.5,\n",
    "    lw=0,\n",
    ")\n",
    "\n",
    "plt.axis(\"equal\")\n",
    "plt.xlabel(\"delta_phase\")\n",
    "plt.ylabel(\"delta_head\")\n",
    "plt.tight_layout()"
   ]
  },
  {
   "cell_type": "code",
   "execution_count": null,
   "id": "63273c70-d3ef-483d-9fd8-106cb25f7225",
   "metadata": {},
   "outputs": [],
   "source": [
    "events_df"
   ]
  },
  {
   "cell_type": "code",
   "execution_count": null,
   "id": "70784896-5b0b-43ba-a26f-9d171ab841a5",
   "metadata": {},
   "outputs": [],
   "source": []
  }
 ],
 "metadata": {
  "kernelspec": {
   "display_name": "rplab",
   "language": "python",
   "name": "rplab"
  },
  "language_info": {
   "codemirror_mode": {
    "name": "ipython",
    "version": 3
   },
   "file_extension": ".py",
   "mimetype": "text/x-python",
   "name": "python",
   "nbconvert_exporter": "python",
   "pygments_lexer": "ipython3"
  }
 },
 "nbformat": 4,
 "nbformat_minor": 5
}

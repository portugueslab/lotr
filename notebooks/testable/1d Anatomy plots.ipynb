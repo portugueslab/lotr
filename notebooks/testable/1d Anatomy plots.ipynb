{
 "cells": [
  {
   "cell_type": "markdown",
   "id": "81a14bf7-d3d9-4810-94bb-9fc3e41ba04b",
   "metadata": {},
   "source": [
    "# Anatomy of ring and motor-related neurons in the hindbrain\n",
    "\n",
    "!! Require v1.0 of the MPIN atlas!"
   ]
  },
  {
   "cell_type": "code",
   "execution_count": null,
   "id": "19004331-d41d-439e-a63a-810a2cae7e23",
   "metadata": {},
   "outputs": [],
   "source": [
    "%matplotlib widget\n",
    "from pathlib import Path\n",
    "from shutil import copy\n",
    "\n",
    "import flammkuchen as fl\n",
    "import numpy as np\n",
    "import pandas as pd\n",
    "\n",
    "import lotr.plotting as pltltr\n",
    "from lotr import A_FISH, LotrExperiment, dataset_folders\n",
    "\n",
    "COLS = pltltr.COLS\n",
    "from matplotlib import pyplot as plt\n",
    "from tqdm import tqdm"
   ]
  },
  {
   "cell_type": "markdown",
   "id": "e99955be-b5c2-4532-b183-d2335fd1fad4",
   "metadata": {},
   "source": [
    "## Localization of ring neurons\n",
    "First, let's have a look at the positions of ring neurons. We will also load information about the motor regressors, as later we will also plot the localizations of the motor-selective neurons."
   ]
  },
  {
   "cell_type": "code",
   "execution_count": null,
   "id": "54fa63a1-f9bc-43a5-9d4a-a4ec4e817f73",
   "metadata": {},
   "outputs": [],
   "source": [
    "Z_SCATTER_FACTOR = 10  # add some random dispersion in z to make all rois visible\n",
    "data_df = []\n",
    "for path in tqdm(dataset_folders):\n",
    "    exp = LotrExperiment(path)\n",
    "    cent_coords = exp.morphed_coords_um\n",
    "    data_dict = dict()\n",
    "    for i, lab in enumerate([\"s_i\", \"l_r\", \"a_p\"]):\n",
    "        data_dict.update({lab: cent_coords[:, i]})\n",
    "    data_dict[\"s_i\"] = (\n",
    "        data_dict[\"s_i\"] + np.random.rand(len(data_dict[\"a_p\"])) * Z_SCATTER_FACTOR\n",
    "    )\n",
    "    # data_dict[\"fid\"] = path.name\n",
    "    data_dict[\"hdn\"] = ~exp.nonhdn_indexes\n",
    "\n",
    "    new_df = pd.concat([pd.DataFrame(data_dict), exp.motor_regressors], axis=1)\n",
    "    new_df[\"fid\"] = path.name\n",
    "    data_df.append(new_df)\n",
    "\n",
    "data_df = pd.concat(data_df, ignore_index=1)"
   ]
  },
  {
   "cell_type": "markdown",
   "id": "8122b8b0-191d-4bcc-b897-fc2682f6fb58",
   "metadata": {},
   "source": [
    "First, a nice horizontal view:"
   ]
  },
  {
   "cell_type": "code",
   "execution_count": null,
   "id": "5b10f6c4-4e51-4e02-9dec-230d0efda5a8",
   "metadata": {},
   "outputs": [],
   "source": [
    "f, ax = plt.subplots(figsize=(3, 3.5))\n",
    "s = 8\n",
    "ax.scatter(\n",
    "    data_df[\"l_r\"],\n",
    "    data_df[\"a_p\"],\n",
    "    lw=0,\n",
    "    s=s,\n",
    "    alpha=0.03,\n",
    "    color=(0.3,) * 3,\n",
    "    rasterized=True,\n",
    ")\n",
    "loc = [-110, -138]\n",
    "ax.axis(\"equal\")\n",
    "pltltr.add_anatomy_scalebar(ax, pos=loc, length=40, fontsize=6)\n",
    "\n",
    "pltltr.savefig(\"horview_allneurons_noring\")\n",
    "ax.scatter(\n",
    "    data_df[\"l_r\"][data_df[\"hdn\"]],\n",
    "    data_df[\"a_p\"][data_df[\"hdn\"]],\n",
    "    color=COLS[\"ring\"],\n",
    "    lw=0,\n",
    "    s=s,\n",
    "    alpha=0.1,\n",
    "    rasterized=True,\n",
    ")\n",
    "pltltr.savefig(\"horview_allneurons\")"
   ]
  },
  {
   "cell_type": "markdown",
   "id": "b33dcb3a-033a-4286-a84b-5a8dd38346f9",
   "metadata": {},
   "source": [
    "Then, all projections:"
   ]
  },
  {
   "cell_type": "code",
   "execution_count": null,
   "id": "1cabce65-4904-4b0d-87e1-9e60287ac6a8",
   "metadata": {},
   "outputs": [],
   "source": [
    "f, axs = plt.subplots(1, 3, figsize=(9, 3))\n",
    "sel = data_df[\"hdn\"]\n",
    "planes = \"frontal\", \"horizontal\", \"sagittal\"\n",
    "ax_labs = \"inf.  sup.\", \"pos.  ant.\", \"inf.  sup.\"\n",
    "locs = [[-20, -150], [-20, -200], [-52, -156]]\n",
    "s_lab = 20\n",
    "for i, coords in enumerate(\n",
    "    [\n",
    "        [data_df[\"l_r\"], data_df[\"s_i\"]],\n",
    "        [data_df[\"l_r\"], data_df[\"a_p\"]],\n",
    "        [data_df[\"a_p\"], data_df[\"s_i\"]],\n",
    "    ]\n",
    "):\n",
    "    axs[i].scatter(\n",
    "        coords[0],\n",
    "        -coords[1],\n",
    "        lw=0,\n",
    "        s=s,\n",
    "        alpha=0.03,\n",
    "        color=(0.3,) * 3,\n",
    "        label=\"__nolegend__\",\n",
    "        rasterized=True,\n",
    "    )\n",
    "    axs[i].scatter(\n",
    "        [], [], lw=0, s=s_lab, color=(0.3,) * 3, label=\"ROIs\",\n",
    "    )\n",
    "    axs[i].scatter(\n",
    "        [], [], color=COLS[\"ring\"], lw=0, s=s_lab, label=\"Ring ROIs\",\n",
    "    )\n",
    "    axs[i].scatter(\n",
    "        coords[0][sel],\n",
    "        -coords[1][sel],\n",
    "        color=COLS[\"ring\"],\n",
    "        lw=0,\n",
    "        s=s,\n",
    "        alpha=0.05,\n",
    "        label=\"__nolegend__\",\n",
    "        rasterized=True,\n",
    "    )\n",
    "\n",
    "    axs[i].axis(\"equal\")\n",
    "    axs[i].axis(\"off\")\n",
    "    axs[i].set_title(planes[i].capitalize() + \" view\")\n",
    "\n",
    "    # pltltr.add_anatomy_scalebar(axs[i], plane=planes[i], pos=locs[i], length=30)\n",
    "    xpos, ypos = locs[i]\n",
    "    pltltr.add_scalebar(\n",
    "        axs[i],\n",
    "        xpos=xpos,\n",
    "        ypos=ypos,\n",
    "        xlen=50,\n",
    "        ylen=50,\n",
    "        xlabel=\"50 μm\",\n",
    "        ylabel=ax_labs[i],\n",
    "        text_spacing_coef=0.15,\n",
    "    )\n",
    "\n",
    "axs[2].legend(loc=2, bbox_to_anchor=(0.6, 0.35))\n",
    "pltltr.savefig(\"allviews_allneurons\", folder=\"S1\")"
   ]
  },
  {
   "cell_type": "markdown",
   "id": "4ccc05be-074b-4be4-9160-0c875a62b034",
   "metadata": {},
   "source": [
    "## MPIN projections"
   ]
  },
  {
   "cell_type": "code",
   "execution_count": null,
   "id": "a53b8f2b-60f4-4f54-b1f2-bcff9f1b54bb",
   "metadata": {},
   "outputs": [],
   "source": [
    "Z_SCATTER_FACTOR = 0  # 10  # add some random dispersion in z to make all rois visible\n",
    "data_df = []\n",
    "for path in tqdm(dataset_folders):\n",
    "    exp = LotrExperiment(path)\n",
    "    cent_coords = exp.ipnref_coords_um\n",
    "    data_dict = dict()\n",
    "    for i, lab in enumerate([\"a_p\", \"s_i\", \"l_r\"]):\n",
    "        data_dict.update({lab: cent_coords[:, i]})\n",
    "    data_dict[\"s_i\"] = (\n",
    "        data_dict[\"s_i\"] + np.random.rand(len(data_dict[\"a_p\"])) * Z_SCATTER_FACTOR\n",
    "    )\n",
    "    data_dict[\"fid\"] = exp.exp_code  # path.name\n",
    "    data_dict[\"hdn\"] = ~exp.nonhdn_indexes\n",
    "    data_dict[\"rpc_angle\"] = np.full(exp.n_rois, np.nan)\n",
    "    data_dict[\"rpc_angle\"][exp.hdn_indexes] = exp.rpc_angles\n",
    "\n",
    "    data_df.append(pd.DataFrame(data_dict))\n",
    "\n",
    "data_df = pd.concat(data_df, ignore_index=1)"
   ]
  },
  {
   "cell_type": "code",
   "execution_count": null,
   "id": "156b1472-a017-474a-a1cf-baee0e6e8a9f",
   "metadata": {},
   "outputs": [],
   "source": [
    "from bg_atlasapi import BrainGlobeAtlas\n",
    "\n",
    "from lotr.data_preprocessing.anatomy import transform_points\n",
    "from lotr.em.transformations import ipn_to_mpin\n",
    "from lotr.plotting.anatomy import AtlasPlotter\n",
    "\n",
    "atlas = BrainGlobeAtlas(\"mpin_zfish_1um\")\n",
    "atlas.annotation\n",
    "# Annoying fixes required to deal with the Baier annotation mess. Will be cleaned in next version of the atlas.\n",
    "atlas._annotation[[0, -1], :, :] = 0\n",
    "atlas._annotation[:, [0, -1], :] = 0\n",
    "atlas._annotation[:, :, [0, -1]] = 0\n",
    "atlas._annotation[atlas._annotation == 0] = 15000\n",
    "atlas.structures[\"root\"][\"id\"] = 1\n",
    "\n",
    "#  Specify axes limits over all dimensions:\n",
    "bs = dict(\n",
    "    frontal=(-10, atlas.shape[2] + 10),\n",
    "    vertical=(-10, atlas.shape[1] + 10),\n",
    "    sagittal=(-10, atlas.shape[0] + 10),\n",
    ")\n",
    "\n",
    "plotter = pltltr.AtlasPlotter(\n",
    "    atlas=atlas,\n",
    "    structures=[\"root\", \"hindbrain\", \"retina\", \"interpeduncular nucleus\"],\n",
    "    bounds_dict=dict(\n",
    "        frontal=[bs[\"vertical\"], bs[\"frontal\"]],\n",
    "        horizontal=[bs[\"sagittal\"], bs[\"frontal\"]],\n",
    "        sagittal=[bs[\"vertical\"], bs[\"sagittal\"]],\n",
    "    ),\n",
    "    mask_slices=dict(\n",
    "        frontal=slice(460, 470), horizontal=slice(225, 235), sagittal=slice(270, 280)\n",
    "    ),\n",
    "    smooth_wnd=50,\n",
    ")"
   ]
  },
  {
   "cell_type": "code",
   "execution_count": null,
   "id": "abd49300-92c2-45f4-a78a-ac62057665ff",
   "metadata": {},
   "outputs": [],
   "source": [
    "ipn_c = data_df[[\"a_p\", \"s_i\", \"l_r\"]].values\n",
    "mpin_c = transform_points(ipn_c, ipn_to_mpin)"
   ]
  },
  {
   "cell_type": "code",
   "execution_count": null,
   "id": "776a715b-e868-43b3-8eb4-2b9c77151fc0",
   "metadata": {},
   "outputs": [],
   "source": [
    "f, axs = plotter.generate_projection_plots(title=True, labels=True)\n",
    "plotter.axs_scatterplot(axs, mpin_c, alpha=0.08, s=2, lw=0, rasterized=True, c=\".6\")\n",
    "plotter.axs_scatterplot(\n",
    "    axs,\n",
    "    mpin_c[data_df[\"hdn\"], :],\n",
    "    c=COLS[\"ring\"],\n",
    "    alpha=0.08,\n",
    "    s=2,\n",
    "    lw=0,\n",
    "    rasterized=True,\n",
    ")\n",
    "pltltr.savefig(\"rois_in_mpin_ref\", folder=\"S1\")"
   ]
  },
  {
   "cell_type": "code",
   "execution_count": null,
   "id": "5e725d1b-2cea-44f2-aac5-3987e55afc36",
   "metadata": {},
   "outputs": [],
   "source": [
    "for i, ax in enumerate([\"ap\", \"si\", \"lr\"]):\n",
    "    data_df[ax + \"_mpin\"] = mpin_c[:, i]"
   ]
  },
  {
   "cell_type": "code",
   "execution_count": null,
   "id": "d48610a0-550e-436e-ae4d-8b9b1b99ed2a",
   "metadata": {},
   "outputs": [],
   "source": [
    "data_df.loc[\n",
    "    :, [ax + \"_mpin\" for ax in [\"ap\", \"si\", \"lr\"]] + [\"hdn\", \"fid\", \"rpc_angle\"]\n",
    "].to_csv(\"/Users/luigipetrucco/Desktop/r1pi_mpin_coords.csv\")"
   ]
  },
  {
   "cell_type": "code",
   "execution_count": null,
   "id": "7e193723-600a-4e70-8e67-cee131f3764c",
   "metadata": {},
   "outputs": [],
   "source": [
    "np.nansum(data_df[\"rpc_angle\"] < 0)"
   ]
  },
  {
   "cell_type": "code",
   "execution_count": null,
   "id": "4cedd50b-4d0b-421b-b2a0-105532b7df38",
   "metadata": {},
   "outputs": [],
   "source": [
    "data_df[\"rpc_angle\"] < 0"
   ]
  },
  {
   "cell_type": "code",
   "execution_count": null,
   "id": "36c96fe8-4cf4-457e-ac95-215a9639a6bf",
   "metadata": {},
   "outputs": [],
   "source": []
  }
 ],
 "metadata": {
  "kernelspec": {
   "display_name": "rplab",
   "language": "python",
   "name": "rplab"
  },
  "language_info": {
   "codemirror_mode": {
    "name": "ipython",
    "version": 3
   },
   "file_extension": ".py",
   "mimetype": "text/x-python",
   "name": "python",
   "nbconvert_exporter": "python",
   "pygments_lexer": "ipython3"
  }
 },
 "nbformat": 4,
 "nbformat_minor": 5
}

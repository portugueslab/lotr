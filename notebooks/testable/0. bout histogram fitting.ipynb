{
 "cells": [
  {
   "cell_type": "markdown",
   "id": "6b03a5b9-a32e-43bb-b039-a2f14e1e94a5",
   "metadata": {
    "pycharm": {
     "name": "#%% md\n"
    }
   },
   "source": [
    "## Fit gaussians to the bouts distribution to define directionality"
   ]
  },
  {
   "cell_type": "code",
   "execution_count": 1,
   "id": "44258aba-de2e-42f7-9c06-f1d6f7d86400",
   "metadata": {
    "pycharm": {
     "name": "#%%\n"
    }
   },
   "outputs": [],
   "source": [
    "%matplotlib widget\n",
    "from pathlib import Path\n",
    "\n",
    "import lotr.plotting as pltltr\n",
    "import numpy as np\n",
    "import pandas as pd\n",
    "from bouter.utilities import crop\n",
    "from lotr import A_FISH, DATASET_LOCATION, LotrExperiment, dataset_folders\n",
    "from matplotlib import pyplot as plt\n",
    "from scipy.optimize import curve_fit\n",
    "from tqdm import tqdm\n",
    "\n",
    "COLS = pltltr.COLS"
   ]
  },
  {
   "cell_type": "code",
   "execution_count": 11,
   "outputs": [
    {
     "data": {
      "text/plain": "PosixPath('/Users/vigji/Library/CloudStorage/GoogleDrive-luigi.petrucco@gmail.com/My Drive/data/all_source_data/full_ring')"
     },
     "execution_count": 11,
     "metadata": {},
     "output_type": "execute_result"
    }
   ],
   "source": [
    "DATASET_LOCATION"
   ],
   "metadata": {
    "collapsed": false,
    "pycharm": {
     "name": "#%%\n"
    }
   }
  },
  {
   "cell_type": "code",
   "execution_count": 8,
   "outputs": [],
   "source": [
    "dataset_folders = sorted(\n",
    "    [f.parent for f in DATASET_LOCATION.glob(\"*[0-9]_f[0-9]*/*/selected.h5\")]\n",
    ")\n"
   ],
   "metadata": {
    "collapsed": false,
    "pycharm": {
     "name": "#%%\n"
    }
   }
  },
  {
   "cell_type": "code",
   "execution_count": 15,
   "outputs": [],
   "source": [
    "newpath = Path(\"/Users/vigji/Library/CloudStorage/GoogleDrive-luigi.petrucco@gmail.com/.My Drive/data/all_source_data/full_ring\")"
   ],
   "metadata": {
    "collapsed": false,
    "pycharm": {
     "name": "#%%\n"
    }
   }
  },
  {
   "cell_type": "code",
   "execution_count": 16,
   "outputs": [
    {
     "data": {
      "text/plain": "[PosixPath('/Users/vigji/Library/CloudStorage/GoogleDrive-luigi.petrucco@gmail.com/.My Drive/data/all_source_data/full_ring/210314_f1/210314_f1_natmov/selected.h5'),\n PosixPath('/Users/vigji/Library/CloudStorage/GoogleDrive-luigi.petrucco@gmail.com/.My Drive/data/all_source_data/full_ring/211207_f5/211207_f5beyes_natmov/selected.h5'),\n PosixPath('/Users/vigji/Library/CloudStorage/GoogleDrive-luigi.petrucco@gmail.com/.My Drive/data/all_source_data/full_ring/210728_f1/210728_f1eyes_clol/selected.h5'),\n PosixPath('/Users/vigji/Library/CloudStorage/GoogleDrive-luigi.petrucco@gmail.com/.My Drive/data/all_source_data/full_ring/211118_f0/211118_f0_spont/selected.h5'),\n PosixPath('/Users/vigji/Library/CloudStorage/GoogleDrive-luigi.petrucco@gmail.com/.My Drive/data/all_source_data/full_ring/210926_f2/210926_f2_gainmod/selected.h5'),\n PosixPath('/Users/vigji/Library/CloudStorage/GoogleDrive-luigi.petrucco@gmail.com/.My Drive/data/all_source_data/full_ring/210314_f0/210314_f0_natmov/selected.h5'),\n PosixPath('/Users/vigji/Library/CloudStorage/GoogleDrive-luigi.petrucco@gmail.com/.My Drive/data/all_source_data/full_ring/210601_f3/210601_f3_natmov_spont/selected.h5'),\n PosixPath('/Users/vigji/Library/CloudStorage/GoogleDrive-luigi.petrucco@gmail.com/.My Drive/data/all_source_data/full_ring/211207_f3/211207_f3eyes_natmov/selected.h5'),\n PosixPath('/Users/vigji/Library/CloudStorage/GoogleDrive-luigi.petrucco@gmail.com/.My Drive/data/all_source_data/full_ring/210715_f5/210715_f5_clol/selected.h5'),\n PosixPath('/Users/vigji/Library/CloudStorage/GoogleDrive-luigi.petrucco@gmail.com/.My Drive/data/all_source_data/full_ring/210729_f6/210729_f6_clol/selected.h5'),\n PosixPath('/Users/vigji/Library/CloudStorage/GoogleDrive-luigi.petrucco@gmail.com/.My Drive/data/all_source_data/full_ring/210716_f6/210716_f6_clol/selected.h5'),\n PosixPath('/Users/vigji/Library/CloudStorage/GoogleDrive-luigi.petrucco@gmail.com/.My Drive/data/all_source_data/full_ring/210924_f1/210924_f1_gainmod/selected.h5'),\n PosixPath('/Users/vigji/Library/CloudStorage/GoogleDrive-luigi.petrucco@gmail.com/.My Drive/data/all_source_data/full_ring/210716_f7/210716_f7_clol/selected.h5'),\n PosixPath('/Users/vigji/Library/CloudStorage/GoogleDrive-luigi.petrucco@gmail.com/.My Drive/data/all_source_data/full_ring/210511_f0/210511_f0b_natmov/selected.h5'),\n PosixPath('/Users/vigji/Library/CloudStorage/GoogleDrive-luigi.petrucco@gmail.com/.My Drive/data/all_source_data/full_ring/210511_f1/210511_f1_natmov/selected.h5'),\n PosixPath('/Users/vigji/Library/CloudStorage/GoogleDrive-luigi.petrucco@gmail.com/.My Drive/data/all_source_data/full_ring/210602_f0/210602_f0_natmov_spont/selected.h5'),\n PosixPath('/Users/vigji/Library/CloudStorage/GoogleDrive-luigi.petrucco@gmail.com/.My Drive/data/all_source_data/full_ring/210810_f0/210810_f0_cwccw/selected.h5'),\n PosixPath('/Users/vigji/Library/CloudStorage/GoogleDrive-luigi.petrucco@gmail.com/.My Drive/data/all_source_data/full_ring/211207_f1/211207_f1eyes_natmov/selected.h5'),\n PosixPath('/Users/vigji/Library/CloudStorage/GoogleDrive-luigi.petrucco@gmail.com/.My Drive/data/all_source_data/full_ring/210728_f2/210728_f2_clol/selected.h5'),\n PosixPath('/Users/vigji/Library/CloudStorage/GoogleDrive-luigi.petrucco@gmail.com/.My Drive/data/all_source_data/full_ring/211203_f0/211203_f0beyes_cl/selected.h5'),\n PosixPath('/Users/vigji/Library/CloudStorage/GoogleDrive-luigi.petrucco@gmail.com/.My Drive/data/all_source_data/full_ring/210601_f0/210601_f0_natmov_noeyes/selected.h5'),\n PosixPath('/Users/vigji/Library/CloudStorage/GoogleDrive-luigi.petrucco@gmail.com/.My Drive/data/all_source_data/full_ring/210601_f0/210601_f0_2dvr_eyes/selected.h5'),\n PosixPath('/Users/vigji/Library/CloudStorage/GoogleDrive-luigi.petrucco@gmail.com/.My Drive/data/all_source_data/full_ring/210923_f1/210923_f1b_gainmod/selected.h5'),\n PosixPath('/Users/vigji/Library/CloudStorage/GoogleDrive-luigi.petrucco@gmail.com/.My Drive/data/all_source_data/full_ring/210923_f0/210923_f0_gainmod/selected.h5'),\n PosixPath('/Users/vigji/Library/CloudStorage/GoogleDrive-luigi.petrucco@gmail.com/.My Drive/data/all_source_data/full_ring/210716_f2/210716_f2_clol/selected.h5'),\n PosixPath('/Users/vigji/Library/CloudStorage/GoogleDrive-luigi.petrucco@gmail.com/.My Drive/data/all_source_data/full_ring/210716_f3/210716_f3_clol/selected.h5'),\n PosixPath('/Users/vigji/Library/CloudStorage/GoogleDrive-luigi.petrucco@gmail.com/.My Drive/data/all_source_data/full_ring/210805_f3/210805_f3_cwccw/selected.h5'),\n PosixPath('/Users/vigji/Library/CloudStorage/GoogleDrive-luigi.petrucco@gmail.com/.My Drive/data/all_source_data/full_ring/210508_f1/210508_f1_spont/selected.h5'),\n PosixPath('/Users/vigji/Library/CloudStorage/GoogleDrive-luigi.petrucco@gmail.com/.My Drive/data/all_source_data/full_ring/210924_f2/210924_f2_gainmod/selected.h5'),\n PosixPath('/Users/vigji/Library/CloudStorage/GoogleDrive-luigi.petrucco@gmail.com/.My Drive/data/all_source_data/full_ring/210511_f3/210511_f3b_natmov/selected.h5'),\n PosixPath('/Users/vigji/Library/CloudStorage/GoogleDrive-luigi.petrucco@gmail.com/.My Drive/data/all_source_data/full_ring/210602_f3/210602_f3_natmov_eyes/selected.h5')]"
     },
     "execution_count": 16,
     "metadata": {},
     "output_type": "execute_result"
    }
   ],
   "source": [
    "list(newpath.glob(\"*/*/selected.h5\"))"
   ],
   "metadata": {
    "collapsed": false,
    "pycharm": {
     "name": "#%%\n"
    }
   }
  },
  {
   "cell_type": "markdown",
   "id": "5767966f-5444-46c0-9abc-7eb1cec04887",
   "metadata": {
    "pycharm": {
     "name": "#%% md\n"
    }
   },
   "source": [
    "## Load all bout data and compute histograms:"
   ]
  },
  {
   "cell_type": "code",
   "execution_count": 2,
   "id": "6a07d7b8-f44b-4674-afac-c196d6878795",
   "metadata": {
    "pycharm": {
     "name": "#%%\n"
    }
   },
   "outputs": [
    {
     "name": "stderr",
     "output_type": "stream",
     "text": [
      "/var/folders/wp/q156lfy924zg6bqc48v9j2800000gn/T/ipykernel_36938/3067050905.py:12: RuntimeWarning: Mean of empty slice.\n",
      "  mean_hist = bout_bias_hists.mean(0)\n",
      "/Users/vigji/miniforge3/envs/rplab/lib/python3.8/site-packages/numpy/core/_methods.py:189: RuntimeWarning: invalid value encountered in double_scalars\n",
      "  ret = ret.dtype.type(ret / rcount)\n"
     ]
    }
   ],
   "source": [
    "n_bins = 50  # number of bins in the -pi to +pi interval\n",
    "\n",
    "# Load all bout dataframes:\n",
    "hist_base_bouts = np.linspace(-np.pi, np.pi, n_bins)\n",
    "bout_bias_hists = []\n",
    "for path in dataset_folders:\n",
    "    exp = LotrExperiment(path)\n",
    "    h, _ = np.histogram(exp.bouts_df[\"bias\"], hist_base_bouts, density=True)\n",
    "    bout_bias_hists.append(h)\n",
    "\n",
    "bout_bias_hists = np.array(bout_bias_hists)\n",
    "mean_hist = bout_bias_hists.mean(0)\n",
    "\n",
    "hist_x = (hist_base_bouts[1:] + hist_base_bouts[:-1]) / 2"
   ]
  },
  {
   "cell_type": "markdown",
   "id": "33ec88ac-2ffa-4a33-9939-8a5ff1128f08",
   "metadata": {
    "pycharm": {
     "name": "#%% md\n"
    }
   },
   "source": [
    "## Fit trimodal distribution to the histogram.\n",
    "\n",
    "Constrains:\n",
    " - Lateral distributions should have the same (absolute) mean and standard deviation\n",
    " - Center distribution should have mean 0\n",
    " \n",
    "Initial guesses:\n",
    " - Central curve: `mean=0`, `std=0.1` (conservatively low), `amplitude=max(hist)`\n",
    " - Lateral curves: `mean=pi` (conservatively high), `std=pi` (conservatively high), `amplitude=max(hist)/50` (conservatively high)"
   ]
  },
  {
   "cell_type": "code",
   "execution_count": 3,
   "id": "40a7014a-ed5a-4f2e-8dd6-566d87fa7c57",
   "metadata": {
    "pycharm": {
     "name": "#%%\n"
    }
   },
   "outputs": [
    {
     "ename": "ValueError",
     "evalue": "array must not contain infs or NaNs",
     "output_type": "error",
     "traceback": [
      "\u001B[0;31m---------------------------------------------------------------------------\u001B[0m",
      "\u001B[0;31mValueError\u001B[0m                                Traceback (most recent call last)",
      "Input \u001B[0;32mIn [3]\u001B[0m, in \u001B[0;36m<cell line: 16>\u001B[0;34m()\u001B[0m\n\u001B[1;32m     13\u001B[0m \u001B[38;5;66;03m# Amp (center), amp (lateral), mean (center), mean (lateral), std (center), std (lateral)\u001B[39;00m\n\u001B[1;32m     14\u001B[0m initial_guesses \u001B[38;5;241m=\u001B[39m [np\u001B[38;5;241m.\u001B[39mmax(mean_hist), np\u001B[38;5;241m.\u001B[39mmax(mean_hist) \u001B[38;5;241m/\u001B[39m \u001B[38;5;241m50\u001B[39m, np\u001B[38;5;241m.\u001B[39mpi, \u001B[38;5;241m0.1\u001B[39m, np\u001B[38;5;241m.\u001B[39mpi]\n\u001B[0;32m---> 16\u001B[0m popt, pcov \u001B[38;5;241m=\u001B[39m \u001B[43mcurve_fit\u001B[49m\u001B[43m(\u001B[49m\u001B[43mtri_gaus\u001B[49m\u001B[43m,\u001B[49m\u001B[43m \u001B[49m\u001B[43mhist_x\u001B[49m\u001B[43m,\u001B[49m\u001B[43m \u001B[49m\u001B[43mmean_hist\u001B[49m\u001B[43m,\u001B[49m\u001B[43m \u001B[49m\u001B[43mp0\u001B[49m\u001B[38;5;241;43m=\u001B[39;49m\u001B[43minitial_guesses\u001B[49m\u001B[43m)\u001B[49m\n\u001B[1;32m     18\u001B[0m \u001B[38;5;66;03m# Define turning bias as the intercept between the center and the lateral distributions:\u001B[39;00m\n\u001B[1;32m     19\u001B[0m min_search \u001B[38;5;241m=\u001B[39m np\u001B[38;5;241m.\u001B[39marange(\u001B[38;5;241m-\u001B[39mnp\u001B[38;5;241m.\u001B[39mpi, np\u001B[38;5;241m.\u001B[39mpi, \u001B[38;5;241m0.0001\u001B[39m)\n",
      "File \u001B[0;32m~/miniforge3/envs/rplab/lib/python3.8/site-packages/scipy/optimize/_minpack_py.py:735\u001B[0m, in \u001B[0;36mcurve_fit\u001B[0;34m(f, xdata, ydata, p0, sigma, absolute_sigma, check_finite, bounds, method, jac, **kwargs)\u001B[0m\n\u001B[1;32m    731\u001B[0m \u001B[38;5;66;03m# optimization may produce garbage for float32 inputs, cast them to float64\u001B[39;00m\n\u001B[1;32m    732\u001B[0m \n\u001B[1;32m    733\u001B[0m \u001B[38;5;66;03m# NaNs cannot be handled\u001B[39;00m\n\u001B[1;32m    734\u001B[0m \u001B[38;5;28;01mif\u001B[39;00m check_finite:\n\u001B[0;32m--> 735\u001B[0m     ydata \u001B[38;5;241m=\u001B[39m \u001B[43mnp\u001B[49m\u001B[38;5;241;43m.\u001B[39;49m\u001B[43masarray_chkfinite\u001B[49m\u001B[43m(\u001B[49m\u001B[43mydata\u001B[49m\u001B[43m,\u001B[49m\u001B[43m \u001B[49m\u001B[38;5;28;43mfloat\u001B[39;49m\u001B[43m)\u001B[49m\n\u001B[1;32m    736\u001B[0m \u001B[38;5;28;01melse\u001B[39;00m:\n\u001B[1;32m    737\u001B[0m     ydata \u001B[38;5;241m=\u001B[39m np\u001B[38;5;241m.\u001B[39masarray(ydata, \u001B[38;5;28mfloat\u001B[39m)\n",
      "File \u001B[0;32m~/miniforge3/envs/rplab/lib/python3.8/site-packages/numpy/lib/function_base.py:603\u001B[0m, in \u001B[0;36masarray_chkfinite\u001B[0;34m(a, dtype, order)\u001B[0m\n\u001B[1;32m    601\u001B[0m a \u001B[38;5;241m=\u001B[39m asarray(a, dtype\u001B[38;5;241m=\u001B[39mdtype, order\u001B[38;5;241m=\u001B[39morder)\n\u001B[1;32m    602\u001B[0m \u001B[38;5;28;01mif\u001B[39;00m a\u001B[38;5;241m.\u001B[39mdtype\u001B[38;5;241m.\u001B[39mchar \u001B[38;5;129;01min\u001B[39;00m typecodes[\u001B[38;5;124m'\u001B[39m\u001B[38;5;124mAllFloat\u001B[39m\u001B[38;5;124m'\u001B[39m] \u001B[38;5;129;01mand\u001B[39;00m \u001B[38;5;129;01mnot\u001B[39;00m np\u001B[38;5;241m.\u001B[39misfinite(a)\u001B[38;5;241m.\u001B[39mall():\n\u001B[0;32m--> 603\u001B[0m     \u001B[38;5;28;01mraise\u001B[39;00m \u001B[38;5;167;01mValueError\u001B[39;00m(\n\u001B[1;32m    604\u001B[0m         \u001B[38;5;124m\"\u001B[39m\u001B[38;5;124marray must not contain infs or NaNs\u001B[39m\u001B[38;5;124m\"\u001B[39m)\n\u001B[1;32m    605\u001B[0m \u001B[38;5;28;01mreturn\u001B[39;00m a\n",
      "\u001B[0;31mValueError\u001B[0m: array must not contain infs or NaNs"
     ]
    }
   ],
   "source": [
    "def _gaus(x, a, mn, sigma):\n",
    "    return a * np.exp(-((x - mn) ** 2) / (2 * sigma ** 2))\n",
    "\n",
    "\n",
    "def tri_gaus(x, fwd_a, turn_a, turn_mn, fwd_sigma, turn_sigma):\n",
    "    return (\n",
    "        _gaus(x, fwd_a, 0, fwd_sigma)\n",
    "        + _gaus(x, turn_a, turn_mn, turn_sigma)\n",
    "        + _gaus(x, turn_a, -turn_mn, turn_sigma)\n",
    "    )\n",
    "\n",
    "\n",
    "# Amp (center), amp (lateral), mean (center), mean (lateral), std (center), std (lateral)\n",
    "initial_guesses = [np.max(mean_hist), np.max(mean_hist) / 50, np.pi, 0.1, np.pi]\n",
    "\n",
    "popt, pcov = curve_fit(tri_gaus, hist_x, mean_hist, p0=initial_guesses)\n",
    "\n",
    "# Define turning bias as the intercept between the center and the lateral distributions:\n",
    "min_search = np.arange(-np.pi, np.pi, 0.0001)\n",
    "turn_bias = min_search[2:][\n",
    "    (np.diff(tri_gaus(min_search, *popt))[1:] > 0)\n",
    "    & (np.diff(tri_gaus(min_search, *popt))[:-1] < 0)\n",
    "][1]\n",
    "print(np.round(turn_bias, 3))"
   ]
  },
  {
   "cell_type": "code",
   "execution_count": null,
   "id": "7c4527e9-0ec1-4132-90fa-1482350ec377",
   "metadata": {
    "pycharm": {
     "name": "#%%\n"
    }
   },
   "outputs": [],
   "source": [
    "f, ax = plt.subplots(figsize=(3, 2), gridspec_kw=dict(bottom=0.2, left=0.2))\n",
    "for i, h in enumerate(bout_bias_hists):\n",
    "    ax.bar(\n",
    "        hist_x,\n",
    "        h,\n",
    "        width=hist_x[1] - hist_x[0],\n",
    "        fc=COLS[\"ph_plot\"],\n",
    "        lw=0.0,\n",
    "        alpha=0.08,\n",
    "        label=\"_nolabel_\",\n",
    "    )\n",
    "ax.bar(\n",
    "    hist_x,\n",
    "    h,\n",
    "    width=hist_x[1] - hist_x[0],\n",
    "    fc=COLS[\"qualitative\"][0],\n",
    "    lw=0.0,\n",
    "    alpha=0.2,\n",
    "    label=\"single fish\",\n",
    ")\n",
    "ax.step(\n",
    "    hist_x,\n",
    "    np.nanmean(bout_bias_hists, 0),\n",
    "    lw=1.0,\n",
    "    c=pltltr.shift_lum(COLS[\"qualitative\"][0], -0.1),\n",
    "    where=\"mid\",\n",
    "    label=\"mean\",\n",
    ")\n",
    "ax.set(\n",
    "    # yscale=\"log\",\n",
    "    **pltltr.get_pi_labels(0.5),\n",
    "    xlabel=\"Laterality index\",\n",
    "    ylabel=\"Prob. density (log(p))\",\n",
    "    ylim=(0, 1.5)\n",
    ")\n",
    "plt.plot(hist_x, tri_gaus(hist_x, *popt), lw=1, c=COLS[\"qualitative\"][3], label=\"fit\")\n",
    "\n",
    "ax.legend(loc=2, bbox_to_anchor=(0.7, 1.1), fontsize=7)\n",
    "pltltr.despine(ax)\n",
    "pltltr.savefig(\"all_bouts_ps_nothresholds\")\n",
    "\n",
    "for l in [-turn_bias, turn_bias]:\n",
    "    plt.axvline(l, lw=0.5, c=\".1\")\n",
    "plt.show()\n",
    "pltltr.savefig(\"all_bouts_ps\")"
   ]
  }
 ],
 "metadata": {
  "kernelspec": {
   "display_name": "rplab",
   "language": "python",
   "name": "rplab"
  },
  "language_info": {
   "codemirror_mode": {
    "name": "ipython",
    "version": 3
   },
   "file_extension": ".py",
   "mimetype": "text/x-python",
   "name": "python",
   "nbconvert_exporter": "python",
   "pygments_lexer": "ipython3"
  }
 },
 "nbformat": 4,
 "nbformat_minor": 5
}
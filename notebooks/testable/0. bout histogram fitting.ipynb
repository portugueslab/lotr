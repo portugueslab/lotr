{
 "cells": [
  {
   "cell_type": "markdown",
   "id": "6b03a5b9-a32e-43bb-b039-a2f14e1e94a5",
   "metadata": {},
   "source": [
    "## Fit gaussians to the bouts distribution to define directionality"
   ]
  },
  {
   "cell_type": "code",
   "execution_count": null,
   "id": "44258aba-de2e-42f7-9c06-f1d6f7d86400",
   "metadata": {},
   "outputs": [],
   "source": [
    "%matplotlib widget\n",
    "from pathlib import Path\n",
    "\n",
    "import lotr.plotting as pltltr\n",
    "import numpy as np\n",
    "import pandas as pd\n",
    "from bouter.utilities import crop\n",
    "from lotr import A_FISH, DATASET_LOCATION, LotrExperiment, dataset_folders\n",
    "from matplotlib import pyplot as plt\n",
    "from scipy.optimize import curve_fit\n",
    "from tqdm import tqdm\n",
    "\n",
    "COLS = pltltr.COLS"
   ]
  },
  {
   "cell_type": "markdown",
   "id": "5767966f-5444-46c0-9abc-7eb1cec04887",
   "metadata": {},
   "source": [
    "## Load all bout data and compute histograms:"
   ]
  },
  {
   "cell_type": "code",
   "execution_count": null,
   "id": "6a07d7b8-f44b-4674-afac-c196d6878795",
   "metadata": {},
   "outputs": [],
   "source": [
    "n_bins = 50  # number of bins in the -pi to +pi interval\n",
    "\n",
    "# Load all bout dataframes:\n",
    "hist_base_bouts = np.linspace(-np.pi, np.pi, n_bins)\n",
    "bout_bias_hists = []\n",
    "for path in dataset_folders:\n",
    "    exp = LotrExperiment(path)\n",
    "    h, _ = np.histogram(exp.bouts_df[\"bias\"], hist_base_bouts, density=True)\n",
    "    bout_bias_hists.append(h)\n",
    "\n",
    "bout_bias_hists = np.array(bout_bias_hists)\n",
    "mean_hist = bout_bias_hists.mean(0)\n",
    "\n",
    "hist_x = (hist_base_bouts[1:] + hist_base_bouts[:-1]) / 2"
   ]
  },
  {
   "cell_type": "markdown",
   "id": "33ec88ac-2ffa-4a33-9939-8a5ff1128f08",
   "metadata": {},
   "source": [
    "## Fit trimodal distribution to the histogram.\n",
    "\n",
    "Constrains:\n",
    " - Lateral distributions should have the same (absolute) mean and standard deviation\n",
    " - Center distribution should have mean 0\n",
    " \n",
    "Initial guesses:\n",
    " - Central curve: `mean=0`, `std=0.1` (conservatively low), `amplitude=max(hist)`\n",
    " - Lateral curves: `mean=pi` (conservatively high), `std=pi` (conservatively high), `amplitude=max(hist)/50` (conservatively high)"
   ]
  },
  {
   "cell_type": "code",
   "execution_count": null,
   "id": "40a7014a-ed5a-4f2e-8dd6-566d87fa7c57",
   "metadata": {},
   "outputs": [],
   "source": [
    "def _gaus(x, a, mn, sigma):\n",
    "    return a * np.exp(-((x - mn) ** 2) / (2 * sigma ** 2))\n",
    "\n",
    "\n",
    "def tri_gaus(x, fwd_a, turn_a, turn_mn, fwd_sigma, turn_sigma):\n",
    "    return (\n",
    "        _gaus(x, fwd_a, 0, fwd_sigma)\n",
    "        + _gaus(x, turn_a, turn_mn, turn_sigma)\n",
    "        + _gaus(x, turn_a, -turn_mn, turn_sigma)\n",
    "    )\n",
    "\n",
    "\n",
    "# Amp (center), amp (lateral), mean (center), mean (lateral), std (center), std (lateral)\n",
    "initial_guesses = [np.max(mean_hist), np.max(mean_hist) / 50, np.pi, 0.1, np.pi]\n",
    "\n",
    "popt, pcov = curve_fit(tri_gaus, hist_x, mean_hist, p0=initial_guesses)\n",
    "\n",
    "# Define turning bias as the intercept between the center and the lateral distributions:\n",
    "min_search = np.arange(-np.pi, np.pi, 0.0001)\n",
    "turn_bias = min_search[2:][\n",
    "    (np.diff(tri_gaus(min_search, *popt))[1:] > 0)\n",
    "    & (np.diff(tri_gaus(min_search, *popt))[:-1] < 0)\n",
    "][1]\n",
    "print(np.round(turn_bias, 3))"
   ]
  },
  {
   "cell_type": "code",
   "execution_count": null,
   "id": "7c4527e9-0ec1-4132-90fa-1482350ec377",
   "metadata": {},
   "outputs": [],
   "source": [
    "f, ax = plt.subplots(figsize=(3, 2), gridspec_kw=dict(bottom=0.2, left=0.2))\n",
    "for i, h in enumerate(bout_bias_hists):\n",
    "    ax.bar(\n",
    "        hist_x,\n",
    "        h,\n",
    "        width=hist_x[1] - hist_x[0],\n",
    "        fc=COLS[\"ph_plot\"],\n",
    "        lw=0.0,\n",
    "        alpha=0.08,\n",
    "        label=\"_nolabel_\",\n",
    "    )\n",
    "ax.bar(\n",
    "    hist_x,\n",
    "    h,\n",
    "    width=hist_x[1] - hist_x[0],\n",
    "    fc=COLS[\"qualitative\"][0],\n",
    "    lw=0.0,\n",
    "    alpha=0.2,\n",
    "    label=\"single fish\",\n",
    ")\n",
    "ax.step(\n",
    "    hist_x,\n",
    "    np.nanmean(bout_bias_hists, 0),\n",
    "    lw=1.0,\n",
    "    c=pltltr.shift_lum(COLS[\"qualitative\"][0], -0.1),\n",
    "    where=\"mid\",\n",
    "    label=\"mean\",\n",
    ")\n",
    "ax.set(\n",
    "    # yscale=\"log\",\n",
    "    **pltltr.get_pi_labels(0.5),\n",
    "    xlabel=\"Laterality index\",\n",
    "    ylabel=\"Prob. density (log(p))\",\n",
    "    ylim=(0, 1.5)\n",
    ")\n",
    "plt.plot(hist_x, tri_gaus(hist_x, *popt), lw=1, c=COLS[\"qualitative\"][3], label=\"fit\")\n",
    "\n",
    "ax.legend(loc=2, bbox_to_anchor=(0.7, 1.1), fontsize=7)\n",
    "pltltr.despine(ax)\n",
    "pltltr.savefig(\"all_bouts_ps_nothresholds\")\n",
    "\n",
    "for l in [-turn_bias, turn_bias]:\n",
    "    plt.axvline(l, lw=0.5, c=\".1\")\n",
    "plt.show()\n",
    "pltltr.savefig(\"all_bouts_ps\")"
   ]
  }
 ],
 "metadata": {
  "kernelspec": {
   "display_name": "rplab",
   "language": "python",
   "name": "rplab"
  },
  "language_info": {
   "codemirror_mode": {
    "name": "ipython",
    "version": 3
   },
   "file_extension": ".py",
   "mimetype": "text/x-python",
   "name": "python",
   "nbconvert_exporter": "python",
   "pygments_lexer": "ipython3"
  }
 },
 "nbformat": 4,
 "nbformat_minor": 5
}

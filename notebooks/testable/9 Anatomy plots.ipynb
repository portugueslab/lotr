{
 "cells": [
  {
   "cell_type": "markdown",
   "id": "81a14bf7-d3d9-4810-94bb-9fc3e41ba04b",
   "metadata": {},
   "source": [
    "# Anatomy of ring and motor-related neurons in the hindbrain"
   ]
  },
  {
   "cell_type": "code",
   "execution_count": null,
   "id": "19004331-d41d-439e-a63a-810a2cae7e23",
   "metadata": {},
   "outputs": [],
   "source": [
    "%matplotlib widget\n",
    "from pathlib import Path\n",
    "from shutil import copy\n",
    "\n",
    "import flammkuchen as fl\n",
    "import lotr.plotting as pltltr\n",
    "import numpy as np\n",
    "import pandas as pd\n",
    "from lotr import A_FISH, LotrExperiment, dataset_folders\n",
    "\n",
    "COLS = pltltr.COLS\n",
    "from matplotlib import pyplot as plt\n",
    "from tqdm import tqdm"
   ]
  },
  {
   "cell_type": "markdown",
   "id": "e99955be-b5c2-4532-b183-d2335fd1fad4",
   "metadata": {},
   "source": [
    "## Localization of ring neurons\n",
    "First, let's have a look at the positions of ring neurons. We will also load information about the motor regressors, as later we will also plot the localizations of the motor-selective neurons."
   ]
  },
  {
   "cell_type": "code",
   "execution_count": null,
   "id": "54fa63a1-f9bc-43a5-9d4a-a4ec4e817f73",
   "metadata": {},
   "outputs": [],
   "source": [
    "Z_SCATTER_FACTOR = 10  # add some random dispersion in z to make all rois visible\n",
    "data_df = []\n",
    "for path in tqdm(dataset_folders):\n",
    "    exp = LotrExperiment(path)\n",
    "    cent_coords = exp.morphed_coords_um\n",
    "    data_dict = dict()\n",
    "    for i, lab in enumerate([\"s_i\", \"l_r\", \"a_p\"]):\n",
    "        data_dict.update({lab: cent_coords[:, i]})\n",
    "    data_dict[\"s_i\"] = (\n",
    "        data_dict[\"s_i\"] + np.random.rand(len(data_dict[\"a_p\"])) * Z_SCATTER_FACTOR\n",
    "    )\n",
    "    data_dict[\"fid\"] = path.name\n",
    "    data_dict[\"hdn\"] = ~exp.nonhdn_indexes\n",
    "\n",
    "    data_df.append(pd.concat([pd.DataFrame(data_dict), exp.motor_regressors], axis=1))\n",
    "\n",
    "data_df = pd.concat(data_df, ignore_index=1)"
   ]
  },
  {
   "cell_type": "markdown",
   "id": "8122b8b0-191d-4bcc-b897-fc2682f6fb58",
   "metadata": {},
   "source": [
    "First, a nice horizontal view:"
   ]
  },
  {
   "cell_type": "code",
   "execution_count": null,
   "id": "5b10f6c4-4e51-4e02-9dec-230d0efda5a8",
   "metadata": {},
   "outputs": [],
   "source": [
    "f, ax = plt.subplots(figsize=(3, 3.5))\n",
    "s = 8\n",
    "ax.scatter(\n",
    "    data_df[\"l_r\"], data_df[\"a_p\"], lw=0, s=s, alpha=0.03, color=(0.3,) * 3,\n",
    ")\n",
    "loc = [-110, -138]\n",
    "ax.axis(\"equal\")\n",
    "pltltr.add_anatomy_scalebar(ax, pos=loc, length=40, fontsize=6)\n",
    "\n",
    "pltltr.savefig(\"horview_allneurons_noring\")\n",
    "ax.scatter(\n",
    "    data_df[\"l_r\"][data_df[\"hdn\"]],\n",
    "    data_df[\"a_p\"][data_df[\"hdn\"]],\n",
    "    color=COLS[\"ring\"],\n",
    "    lw=0,\n",
    "    s=s,\n",
    "    alpha=0.1,\n",
    ")\n",
    "pltltr.savefig(\"horview_allneurons\")"
   ]
  },
  {
   "cell_type": "markdown",
   "id": "b33dcb3a-033a-4286-a84b-5a8dd38346f9",
   "metadata": {},
   "source": [
    "Then, all projections:"
   ]
  },
  {
   "cell_type": "code",
   "execution_count": null,
   "id": "1cabce65-4904-4b0d-87e1-9e60287ac6a8",
   "metadata": {},
   "outputs": [],
   "source": [
    "f, axs = plt.subplots(1, 3, figsize=(7, 2.5))\n",
    "sel = data_df[\"hdn\"]\n",
    "planes = \"horizontal\", \"sagittal\", \"frontal\"\n",
    "locs = [[-110, -138], [-52, -156], [-105, -71]]\n",
    "for i, coords in enumerate(\n",
    "    [\n",
    "        [data_df[\"l_r\"], data_df[\"a_p\"]],\n",
    "        [data_df[\"s_i\"], data_df[\"a_p\"]],\n",
    "        [data_df[\"l_r\"], data_df[\"s_i\"]],\n",
    "    ]\n",
    "):\n",
    "    axs[i].scatter(\n",
    "        coords[0], coords[1], lw=0, s=s, alpha=0.03, color=(0.3,) * 3,\n",
    "    )\n",
    "    axs[i].scatter(\n",
    "        coords[0][sel], coords[1][sel], color=COLS[\"ring\"], lw=0, s=s, alpha=0.1,\n",
    "    )\n",
    "\n",
    "    axs[i].axis(\"equal\")\n",
    "    axs[i].axis(\"off\")\n",
    "    axs[i].set_title(planes[i].capitalize() + \" view\")\n",
    "\n",
    "    pltltr.add_anatomy_scalebar(\n",
    "        axs[i], plane=planes[i], pos=locs[i], length=30, fontsize=6\n",
    "    )\n",
    "\n",
    "pltltr.savefig(\"allviews_allneurons\")"
   ]
  },
  {
   "cell_type": "markdown",
   "id": "f44a7733-681f-4db7-8250-7d4c4456bd49",
   "metadata": {},
   "source": [
    "## Motor selectivity\n",
    "\n",
    "Now we look at how much motor selective are neurons"
   ]
  },
  {
   "cell_type": "code",
   "execution_count": null,
   "id": "97131da5-fa2f-41dd-a92a-6f369f8750ed",
   "metadata": {},
   "outputs": [],
   "source": []
  },
  {
   "cell_type": "code",
   "execution_count": null,
   "id": "44ea176f-09c2-4d0a-a19d-a8651a93a598",
   "metadata": {},
   "outputs": [],
   "source": [
    "f, ax = plt.subplots(figsize=(3.5, 4))\n",
    "ax.scatter(\n",
    "    data_df[\"l_r\"], data_df[\"a_p\"], lw=0, s=s, alpha=0.05, color=(0.3,) * 3,\n",
    ")\n",
    "thr = 0.7\n",
    "s = 10\n",
    "for reg, regnot, c in zip(\n",
    "    [\"right_1\", \"left_1\"],\n",
    "    [\"left_1\", \"right_1\"],\n",
    "    [COLS[\"sides\"][\"rt\"], COLS[\"sides\"][\"lf\"]],\n",
    "):\n",
    "    motor_sel = (data_df[reg] > thr) & (data_df[regnot] < thr)\n",
    "    lab = reg.split(\"_\")[0]\n",
    "    ax.scatter(\n",
    "        data_df[\"l_r\"][motor_sel],\n",
    "        data_df[\"a_p\"][motor_sel],\n",
    "        # c=data_df[reg][motor_sel],\n",
    "        label=f\"mot. {lab} > {thr}\",\n",
    "        color=c,\n",
    "        # cmap=cmap,\n",
    "        lw=0,\n",
    "        vmin=0.0,\n",
    "        vmax=1,\n",
    "        s=s,\n",
    "        alpha=0.3,\n",
    "    )\n",
    "loc = [-110, -138]\n",
    "ax.axis(\"equal\")\n",
    "ax.set_title(planes[i].capitalize() + \" view\")\n",
    "l = ax.legend(loc=2, bbox_to_anchor=(0.8, -0.2))\n",
    "for lh in l.legendHandles:\n",
    "    lh.set_alpha(1)\n",
    "pltltr.add_anatomy_scalebar(ax, pos=loc, length=30, fontsize=6)\n",
    "pltltr.savefig(\"horview_motorneurons\")\n",
    "\n",
    "ax.scatter(\n",
    "    data_df[\"l_r\"][data_df[\"hdn\"]],\n",
    "    data_df[\"a_p\"][data_df[\"hdn\"]],\n",
    "    color=COLS[\"ring\"],\n",
    "    lw=0,\n",
    "    s=s,\n",
    "    alpha=0.1,\n",
    "    label=\"ring\",\n",
    ")\n",
    "l = ax.legend(loc=2, bbox_to_anchor=(0.7, 0.2))\n",
    "for lh in l.legendHandles:\n",
    "    lh.set_alpha(1)\n",
    "pltltr.savefig(\"horview_motorneurons_andring\")"
   ]
  },
  {
   "cell_type": "code",
   "execution_count": null,
   "id": "2bd00b93-6d08-4838-aa26-0a7e780fc330",
   "metadata": {},
   "outputs": [],
   "source": [
    "f, axs = plt.subplots(1, 3, figsize=(7, 2.5))\n",
    "s = 8\n",
    "sel = data_df[\"hdn\"]\n",
    "planes = \"horizontal\", \"sagittal\", \"frontal\"\n",
    "locs = [[-110, -138], [-52, -156], [-105, -71]]\n",
    "for i, coords in enumerate(\n",
    "    [\n",
    "        [data_df[\"l_r\"], data_df[\"a_p\"]],\n",
    "        [data_df[\"s_i\"], data_df[\"a_p\"]],\n",
    "        [data_df[\"l_r\"], data_df[\"s_i\"]],\n",
    "    ]\n",
    "):\n",
    "    axs[i].scatter(\n",
    "        coords[0], coords[1], lw=0, s=s, alpha=0.03, color=(0.3,) * 3,\n",
    "    )\n",
    "    for reg, regnot, c in zip(\n",
    "        [\"right_1\", \"left_1\"],\n",
    "        [\"left_1\", \"right_1\"],\n",
    "        [COLS[\"sides\"][\"rt\"], COLS[\"sides\"][\"lf\"]],\n",
    "    ):\n",
    "        motor_sel = (data_df[reg] > thr) & (data_df[regnot] < thr)\n",
    "        lab = reg.split(\"_\")[0]\n",
    "        axs[i].scatter(\n",
    "            coords[0][motor_sel],\n",
    "            coords[1][motor_sel],\n",
    "            # c=data_df[reg][motor_sel],\n",
    "            label=f\"mot. {lab} > {thr}\",\n",
    "            color=c,\n",
    "            # cmap=cmap,\n",
    "            lw=0,\n",
    "            vmin=0.0,\n",
    "            vmax=1,\n",
    "            s=s,\n",
    "            alpha=0.3,\n",
    "        )\n",
    "\n",
    "    axs[i].axis(\"equal\")\n",
    "    axs[i].axis(\"off\")\n",
    "    axs[i].set_title(planes[i].capitalize() + \" view\")\n",
    "\n",
    "    pltltr.add_anatomy_scalebar(\n",
    "        axs[i], plane=planes[i], pos=locs[i], length=30, fontsize=6\n",
    "    )\n",
    "\n",
    "pltltr.savefig(\"allviews_allneurons_motor\")"
   ]
  },
  {
   "cell_type": "markdown",
   "id": "25002487-4c90-428f-ae07-6ffc0f1dd8c8",
   "metadata": {},
   "source": [
    "Contour masks for a fish"
   ]
  },
  {
   "cell_type": "code",
   "execution_count": null,
   "id": "e4357897-70d4-4789-a2f9-38eaff30643b",
   "metadata": {},
   "outputs": [],
   "source": [
    "exp = LotrExperiment(A_FISH)"
   ]
  },
  {
   "cell_type": "code",
   "execution_count": null,
   "id": "71d99a90-628f-4025-b8f2-3628f5e98bba",
   "metadata": {},
   "outputs": [],
   "source": [
    "rois = exp.rois_stack\n",
    "\n",
    "ring_rois = exp.color_rois_by(np.ones(exp.n_hdns))"
   ]
  },
  {
   "cell_type": "code",
   "execution_count": null,
   "id": "c24e2e46-fad3-4bfb-b3ff-f36ec9339412",
   "metadata": {},
   "outputs": [],
   "source": [
    "proj = ring_rois.max(0)[:, :, 0]"
   ]
  },
  {
   "cell_type": "code",
   "execution_count": null,
   "id": "ae96553d-a238-459e-87ee-fcdc45a1b740",
   "metadata": {},
   "outputs": [],
   "source": [
    "proj.shape"
   ]
  },
  {
   "cell_type": "code",
   "execution_count": null,
   "id": "144a3506-a6ad-4f6d-a036-0248a411a3f5",
   "metadata": {},
   "outputs": [],
   "source": [
    "plt.figure(facecolor=\"none\")\n",
    "plt.contour(proj, levels=1, colors=[COLS[\"ring\"]], linewidths=1)\n",
    "plt.axis(\"equal\")\n",
    "plt.axis(\"off\")\n",
    "pltltr.savefig(\"rois_mask\")"
   ]
  },
  {
   "cell_type": "code",
   "execution_count": null,
   "id": "74109b7f-2a0f-4133-9a67-0f062a5bb2bf",
   "metadata": {},
   "outputs": [],
   "source": []
  }
 ],
 "metadata": {
  "kernelspec": {
   "display_name": "rplab",
   "language": "python",
   "name": "rplab"
  },
  "language_info": {
   "codemirror_mode": {
    "name": "ipython",
    "version": 3
   },
   "file_extension": ".py",
   "mimetype": "text/x-python",
   "name": "python",
   "nbconvert_exporter": "python",
   "pygments_lexer": "ipython3"
  }
 },
 "nbformat": 4,
 "nbformat_minor": 5
}

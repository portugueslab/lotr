{
 "cells": [
  {
   "cell_type": "markdown",
   "id": "7c04cd14",
   "metadata": {},
   "source": [
    "Test notebooks"
   ]
  },
  {
   "cell_type": "code",
   "execution_count": null,
   "id": "23f7bd41",
   "metadata": {},
   "outputs": [],
   "source": [
    "a=1"
   ]
  },
  {
   "cell_type": "code",
   "execution_count": null,
   "id": "05b9e76f",
   "metadata": {},
   "outputs": [],
   "source": [
    "assert a==1"
   ]
  },
  {
   "cell_type": "code",
   "execution_count": null,
   "id": "61d1d9f7",
   "metadata": {},
   "outputs": [],
   "source": []
  }
 ],
 "metadata": {
  "kernelspec": {
   "display_name": "rplab",
   "language": "python",
   "name": "rplab"
  },
  "language_info": {
   "codemirror_mode": {
    "name": "ipython",
    "version": 3
   },
   "file_extension": ".py",
   "mimetype": "text/x-python",
   "name": "python",
   "nbconvert_exporter": "python",
   "pygments_lexer": "ipython3"
  }
 },
 "nbformat": 4,
 "nbformat_minor": 5
}

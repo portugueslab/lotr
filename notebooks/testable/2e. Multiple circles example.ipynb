{
 "cells": [
  {
   "cell_type": "markdown",
   "id": "78f1dd18-5a7d-4374-9692-9b282b15373c",
   "metadata": {},
   "source": [
    "# The aHB circuit tracks fictive trajectories\n",
    "\n",
    "We have seen in the previous notebooks that the aHB integrator could be capabable of keep track of past motion over a significant amount of time. In this notebook, we will see how much it can keep track of past trajectories over significant amounts of time."
   ]
  },
  {
   "cell_type": "markdown",
   "id": "b60c0332-0fac-4b62-b727-7ca37821764c",
   "metadata": {},
   "source": [
    "## A first look at cumulative directional motion and network phase"
   ]
  },
  {
   "cell_type": "code",
   "execution_count": null,
   "id": "3a90407e-47d8-464b-9841-6a347d248513",
   "metadata": {},
   "outputs": [],
   "source": [
    "%matplotlib widget\n",
    "from pathlib import Path\n",
    "\n",
    "import lotr.plotting as pltltr\n",
    "import numpy as np\n",
    "import pandas as pd\n",
    "from bouter.utilities import crop\n",
    "from lotr import A_FISH, DATASET_LOCATION, LotrExperiment\n",
    "from lotr.behavior import get_bouts_props_array\n",
    "from lotr.default_vals import REGRESSOR_TAU_S\n",
    "from lotr.utils import convolve_with_tau, linear_regression, nan_phase_jumps\n",
    "from matplotlib import pyplot as plt\n",
    "from scipy.stats import pearsonr, spearmanr, wilcoxon\n",
    "from tqdm import tqdm\n",
    "\n",
    "COLS = pltltr.COLS"
   ]
  },
  {
   "cell_type": "code",
   "execution_count": null,
   "id": "e947a2ad-d7b6-4fe7-a732-141e79cc6f2c",
   "metadata": {},
   "outputs": [],
   "source": [
    "exp = LotrExperiment(DATASET_LOCATION / \"210601_f0\" / \"210601_f0_natmov_noeyes\")"
   ]
  },
  {
   "cell_type": "code",
   "execution_count": null,
   "id": "1a83d867-d5cf-4aab-ad6d-a8b7f9b2b2df",
   "metadata": {},
   "outputs": [],
   "source": [
    "bias_arr = get_bouts_props_array(exp.n_pts, exp.bouts_df)"
   ]
  },
  {
   "cell_type": "code",
   "execution_count": null,
   "id": "71a7761a-fa16-4d85-a06f-e1a563c28497",
   "metadata": {},
   "outputs": [],
   "source": [
    "t_lims = (900, 1500)  # (1500, 1900)  #\n",
    "f, axs = plt.subplots(\n",
    "    2,\n",
    "    1,\n",
    "    figsize=(5, 2),\n",
    "    gridspec_kw=dict(hspace=0.1, height_ratios=[0.3, 1], bottom=0.2),\n",
    ")\n",
    "\n",
    "for i in exp.bouts_df.index:\n",
    "    if (exp.bouts_df.loc[i, \"t_start\"] > t_lims[0]) & (\n",
    "        exp.bouts_df.loc[i, \"t_start\"] < t_lims[1]\n",
    "    ):\n",
    "        for d in [\"lf\", \"rt\", \"fw\"]:\n",
    "            if exp.bouts_df.loc[i, \"direction\"] == d:\n",
    "                axs[0].axvline(\n",
    "                    exp.bouts_df.loc[i, \"t_start\"],\n",
    "                    c=COLS[\"sides\"][d],\n",
    "                    lw=0.0,\n",
    "                    # label=\"left bouts\" if leftlab else \"__nolegend__\",\n",
    "                )\n",
    "            # leftlab = False\n",
    "t_sel = (exp.behavior_log[\"t\"] > t_lims[0]) & (exp.behavior_log[\"t\"] < t_lims[1])\n",
    "axs[0].plot(\n",
    "    exp.time_arr,  # exp.behavior_log.loc[t_sel, \"t\"],\n",
    "    bias_arr,  # exp.behavior_log.loc[t_sel, \"tail_sum\"],\n",
    "    c=\".5\",\n",
    "    lw=1.5,\n",
    "    rasterized=True,\n",
    ")\n",
    "\n",
    "axs[1].imshow(\n",
    "    exp.traces[:, exp.hdn_indexes][:, np.argsort(exp.rpc_angles)].T,\n",
    "    cmap=COLS[\"dff_plot\"],\n",
    "    aspect=\"auto\",\n",
    "    vmax=1.4,\n",
    "    vmin=-1.4,\n",
    "    extent=(0, exp.time_arr[-1], -np.pi, np.pi),\n",
    ")\n",
    "\n",
    "phase = exp.network_phase.copy()\n",
    "phase[1:][np.abs(np.diff(phase)) > np.pi] = np.nan\n",
    "axs[1].plot(exp.time_arr, phase, c=COLS[\"ph_plot\"])\n",
    "axs[0].set(\n",
    "    xlim=t_lims,\n",
    "    ylim=(-0.5, 0.5),\n",
    "    xticklabels=[],\n",
    "    ylabel=\"Angle \\n turned\",\n",
    "    **pltltr.get_pi_labels(coefs=[-0.125, 0, 0.125], ax=\"y\")\n",
    ")\n",
    "axs[1].set(\n",
    "    xlim=t_lims,\n",
    "    xlabel=\"Time (s)\",\n",
    "    ylabel=\"Phase (rad)\",\n",
    "    **pltltr.get_pi_labels(coefs=[-0.5, 0, 0.5], ax=\"y\")\n",
    ")\n",
    "pltltr.despine(axs[0], [\"top\", \"right\", \"bottom\"])\n",
    "pltltr.despine(axs[0])\n",
    "\n",
    "pltltr.savefig(\"multiple_turns\", folder=\"supplementary/S2\")"
   ]
  },
  {
   "cell_type": "code",
   "execution_count": null,
   "id": "581a66dc-1584-4f6a-ad3d-0c664be9501e",
   "metadata": {},
   "outputs": [],
   "source": []
  }
 ],
 "metadata": {
  "kernelspec": {
   "display_name": "Python 3 (ipykernel)",
   "language": "python",
   "name": "python3"
  },
  "language_info": {
   "codemirror_mode": {
    "name": "ipython",
    "version": 3
   },
   "file_extension": ".py",
   "mimetype": "text/x-python",
   "name": "python",
   "nbconvert_exporter": "python",
   "pygments_lexer": "ipython3"
  }
 },
 "nbformat": 4,
 "nbformat_minor": 5
}

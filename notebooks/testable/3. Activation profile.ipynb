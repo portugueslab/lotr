{
 "cells": [
  {
   "cell_type": "markdown",
   "id": "265c2926-233f-49e4-b318-c0edc225816a",
   "metadata": {},
   "source": [
    "# Explore network activity profile"
   ]
  },
  {
   "cell_type": "markdown",
   "id": "1f58cc2d-d3a6-4e38-a764-45ad65a185ab",
   "metadata": {},
   "source": [
    "We will now explore how consistent in time seems to be the wave of activation that spreads through our ring of neurons."
   ]
  },
  {
   "cell_type": "code",
   "execution_count": null,
   "id": "e787fb94-1f51-43ae-9137-971b33328050",
   "metadata": {},
   "outputs": [],
   "source": [
    "%matplotlib widget\n",
    "from pathlib import Path\n",
    "\n",
    "import flammkuchen as fl\n",
    "import lotr.plotting as ltrplt\n",
    "import numpy as np\n",
    "import pandas as pd\n",
    "import seaborn as sns\n",
    "from bouter.utilities import crop\n",
    "from lotr import A_FISH, DATASET_LOCATION, LotrExperiment\n",
    "from lotr.pca import fit_phase_neurons, pca_and_phase\n",
    "from lotr.utils import interpolate, zscore\n",
    "from matplotlib import pyplot as plt\n",
    "from tqdm import tqdm\n",
    "\n",
    "COLS = ltrplt.COLS"
   ]
  },
  {
   "cell_type": "code",
   "execution_count": null,
   "id": "6a563150-8ba8-46a8-99ac-18dd5c7d9fc0",
   "metadata": {},
   "outputs": [],
   "source": [
    "exp = LotrExperiment(A_FISH)\n",
    "\n",
    "# Compute preferred phase of each neuron:\n",
    "rpc_angles = exp.rpc_angles\n",
    "\n",
    "# Find sorting over neurons according to angles...\n",
    "sort = np.argsort(rpc_angles)\n",
    "\n",
    "# ...and apply it to sort the traces:\n",
    "sorted_traces = exp.traces[:, exp.hdn_indexes[sort]]\n",
    "\n",
    "# From phase array, compute amount of shift in number of neurons units:\n",
    "phase_bins = np.round(\n",
    "    ((exp.network_phase / (2 * np.pi)) + 0.5) * (exp.n_hdns - 1)\n",
    ").astype(int)\n",
    "\n",
    "# Shift every timepoint column of the traces matrix by an amount speficied by the phase:\n",
    "shifted = np.zeros((exp.n_pts, exp.n_hdns))\n",
    "for i in range(exp.n_pts):\n",
    "    shifted[i, :] = np.roll(exp.traces[i, exp.hdn_indexes[sort]], -phase_bins[i])\n",
    "\n",
    "\n",
    "PHASE_BINS_S = 20\n",
    "# Bin in small temporal chunks of PHASE_BINS_S seconds:\n",
    "bin_wnd = int(PHASE_BINS_S * exp.fn)  # binning window, in timepoints units\n",
    "shifted_all_binned = np.array(\n",
    "    [\n",
    "        shifted[i * bin_wnd : (i + 1) * bin_wnd, :].mean(0)\n",
    "        for i in range(exp.n_pts // bin_wnd)\n",
    "    ]\n",
    ")"
   ]
  },
  {
   "cell_type": "code",
   "execution_count": null,
   "id": "1fb9e3a0-0e4c-4578-97b4-7929f1e990c3",
   "metadata": {},
   "outputs": [],
   "source": [
    "f_lims = dict(vmin=-1.7, vmax=1.7)\n",
    "f, axs = plt.subplots(2, 1, figsize=(6, 4))\n",
    "\n",
    "for i, traces in enumerate([sorted_traces, shifted]):\n",
    "    axs[i].imshow(traces.T, cmap=COLS[\"dff_plot\"], aspect=\"auto\", **f_lims)\n",
    "    ltrplt.despine(axs[i])"
   ]
  },
  {
   "cell_type": "code",
   "execution_count": null,
   "id": "d2de7b41-7cfe-4a59-afb1-bd0c0d5897d9",
   "metadata": {},
   "outputs": [],
   "source": [
    "plt.figure()\n",
    "plt.plot(-np.unwrap(exp.network_phase))"
   ]
  },
  {
   "cell_type": "code",
   "execution_count": null,
   "id": "52c3717c-309f-4fb6-bcfe-cf3b762054d3",
   "metadata": {},
   "outputs": [],
   "source": []
  },
  {
   "cell_type": "code",
   "execution_count": null,
   "id": "79c838ab-9a4f-4de8-941d-ed7ef7785254",
   "metadata": {},
   "outputs": [],
   "source": []
  },
  {
   "cell_type": "code",
   "execution_count": null,
   "id": "47728165",
   "metadata": {},
   "outputs": [],
   "source": [
    "master_path = Path(DATASET_LOCATION)\n",
    "file_list = [\n",
    "    A_FISH\n",
    "]  # sorted([f.parent for f in master_path.glob(\"*/*[0-9]_f*/selected.h5\")])"
   ]
  },
  {
   "cell_type": "code",
   "execution_count": null,
   "id": "bc169ced",
   "metadata": {},
   "outputs": [],
   "source": [
    "PHASE_BINS_S = 10\n",
    "\n",
    "all_profiles = []\n",
    "all_phases = []\n",
    "for path in tqdm(file_list):\n",
    "    exp = LotrExperiment(path)\n",
    "    n_pts, n_cells = exp.n_pts, exp.n_rois\n",
    "    n_sel = len(exp.hdn_indexes)\n",
    "\n",
    "    # Compute network phase with the usual fit of the ring over PCA space:\n",
    "    pcaed, phase, _, _ = pca_and_phase(\n",
    "        exp.traces[exp.pca_t_slice, exp.hdn_indexes], exp.traces[:, exp.hdn_indexes]\n",
    "    )\n",
    "\n",
    "    # Compute preferred phase of each neuron:\n",
    "    neuron_phases, _ = fit_phase_neurons(\n",
    "        exp.traces[:, exp.hdn_indexes], phase, disable_bar=True\n",
    "    )\n",
    "\n",
    "    # Find sorting over neurons according to phases...\n",
    "    sort = np.argsort(neuron_phases)\n",
    "    # ...and apply it to sort the traces:\n",
    "    sorted_traces = exp.traces[:, exp.hdn_indexes[sort]]\n",
    "\n",
    "    # From phase array, compute amount of shift in number of neurons units:\n",
    "    phase_bins = np.round(((phase / (2 * np.pi)) + 0.5) * (n_sel - 1)).astype(int)\n",
    "\n",
    "    # Shift every timepoint column of the traces matrix by an amount speficied by the phase:\n",
    "    shifted = np.zeros((n_pts, n_sel))\n",
    "    for i in range(n_pts):\n",
    "        shifted[i, :] = np.roll(exp.traces[i, exp.hdn_indexes[sort]], phase_bins[i])\n",
    "\n",
    "    # Bin in small temporal chunks of PHASE_BINS_S seconds:\n",
    "    bin_wnd = int(PHASE_BINS_S * exp.fn)  # binning window, in timepoints units\n",
    "    shifted_all_binned = np.array(\n",
    "        [\n",
    "            shifted[i * bin_wnd : (i + 1) * bin_wnd, :].mean(0)\n",
    "            for i in range(n_pts // bin_wnd)\n",
    "        ]\n",
    "    )\n",
    "\n",
    "    all_profiles.append(shifted_all_binned)\n",
    "    all_phases.append(neuron_phases)"
   ]
  },
  {
   "cell_type": "code",
   "execution_count": null,
   "id": "06e56739",
   "metadata": {},
   "outputs": [],
   "source": [
    "all_mean_profiles = [np.mean(p, 0) for p in all_profiles]\n",
    "\n",
    "all_interpd = []\n",
    "new_x = np.arange(0, 1, 0.01)\n",
    "\n",
    "fig, axs = plt.subplots(2, 1, constrained_layout=True, figsize=(4, 5), sharex=True)\n",
    "\n",
    "all_interpd\n",
    "for i, p in enumerate(all_profiles):\n",
    "    med_p = np.mean(p, 0)\n",
    "    std_p = np.std(p, 0)\n",
    "    n_rois = len(med_p)\n",
    "    roll_pts = -np.argmax(med_p) + n_rois // 4\n",
    "    circ_perm_mn = np.roll(med_p, roll_pts)\n",
    "    circ_perm_std = np.roll(std_p, roll_pts)\n",
    "\n",
    "    x = np.arange(n_rois) / n_rois\n",
    "    interp_mn = interpolate(x, circ_perm_mn, new_x)\n",
    "    interp_std = interpolate(x, circ_perm_std, new_x)\n",
    "\n",
    "    axs[1].fill_between(\n",
    "        new_x, interp_mn - interp_std, interp_mn + interp_std, lw=0, alpha=0.1\n",
    "    )\n",
    "    axs[1].plot(new_x, interp_mn)\n",
    "\n",
    "    all_interpd.append(interp_mn)\n",
    "\n",
    "axs[1].axvline(0.5, lw=1.0, c=(0.2,) * 3)\n",
    "axs[1].set(xlabel=\"Norm. network position\", ylabel=\"mean dF\")\n",
    "axs[0].imshow(\n",
    "    all_interpd, aspect=\"auto\", extent=[0, 1, len(all_interpd), 0],\n",
    ")\n",
    "axs[0].set(ylabel=\"Fish n.\")\n",
    "\n",
    "plt.tight_layout()"
   ]
  },
  {
   "cell_type": "code",
   "execution_count": null,
   "id": "10852521",
   "metadata": {},
   "outputs": [],
   "source": []
  }
 ],
 "metadata": {
  "kernelspec": {
   "display_name": "rplab",
   "language": "python",
   "name": "rplab"
  },
  "language_info": {
   "codemirror_mode": {
    "name": "ipython",
    "version": 3
   },
   "file_extension": ".py",
   "mimetype": "text/x-python",
   "name": "python",
   "nbconvert_exporter": "python",
   "pygments_lexer": "ipython3"
  }
 },
 "nbformat": 4,
 "nbformat_minor": 5
}

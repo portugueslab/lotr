{
 "cells": [
  {
   "cell_type": "markdown",
   "id": "265c2926-233f-49e4-b318-c0edc225816a",
   "metadata": {},
   "source": [
    "# Explore network activity profile"
   ]
  },
  {
   "cell_type": "markdown",
   "id": "1f58cc2d-d3a6-4e38-a764-45ad65a185ab",
   "metadata": {},
   "source": [
    "We will now explore how consistent in time seems to be the wave of activation that spreads through our ring of neurons."
   ]
  },
  {
   "cell_type": "code",
   "execution_count": null,
   "id": "e787fb94-1f51-43ae-9137-971b33328050",
   "metadata": {},
   "outputs": [],
   "source": [
    "%matplotlib widget\n",
    "from pathlib import Path\n",
    "\n",
    "import flammkuchen as fl\n",
    "import lotr.plotting as pltltr\n",
    "import numpy as np\n",
    "import pandas as pd\n",
    "import seaborn as sns\n",
    "from bouter.utilities import crop\n",
    "from lotr import A_FISH, FIGURES_LOCATION, LotrExperiment, dataset_folders\n",
    "from lotr.pca import fit_phase_neurons, pca_and_phase\n",
    "from lotr.utils import interpolate, roll_columns_jit, zscore\n",
    "from matplotlib import pyplot as plt\n",
    "from tqdm import tqdm\n",
    "\n",
    "COLS = pltltr.COLS\n",
    "\n",
    "fig_location = FIGURES_LOCATION / \"3 - activity_prof\"\n",
    "fig_location.mkdir(exist_ok=True)"
   ]
  },
  {
   "cell_type": "markdown",
   "id": "1c9a049f-2ae0-4da8-973b-dc2b0074b54c",
   "metadata": {},
   "source": [
    "## Profile over time\n",
    "\n",
    "First, we will find a way of shifting columns of the activation matrix over time so that the peak of the network activation is always in the same roughly consistent position"
   ]
  },
  {
   "cell_type": "code",
   "execution_count": null,
   "id": "f2ef6e0a-7e65-49e5-b0d7-f9f5bf5338d2",
   "metadata": {},
   "outputs": [],
   "source": [
    "exp = LotrExperiment(A_FISH)\n",
    "\n",
    "# Find sorting over neurons according to angles...\n",
    "sort_idxs = np.argsort(exp.rpc_angles)\n",
    "\n",
    "# ...and apply it to sort the traces:\n",
    "sorted_traces = exp.traces[:, exp.hdn_indexes[sort_idxs]]\n",
    "\n",
    "# Find the right amount of shift over time to have the bump centered:\n",
    "# by first stretching phase to (-0.5, 0.5) interval and then\n",
    "# to (-n_rois//2, n_rois//2) interval. In this way, we will center\n",
    "# phase 0 of the network on position of angle 0:\n",
    "phase_shifts = (exp.network_phase / (2 * np.pi)) * (exp.n_hdns - 1)\n",
    "\n",
    "# Then, apply shifts to traces:\n",
    "shifted_traces = roll_columns_jit(sorted_traces, -np.round(phase_shifts))"
   ]
  },
  {
   "cell_type": "code",
   "execution_count": null,
   "id": "2ad67da2-35ad-46d3-a9a1-23201cd1752c",
   "metadata": {},
   "outputs": [],
   "source": [
    "flims = 1.7\n",
    "\n",
    "f, axs = plt.subplots(2, 1, figsize=(4, 4))\n",
    "\n",
    "for i, traces in enumerate([sorted_traces, shifted_traces]):\n",
    "    c = axs[i].imshow(\n",
    "        traces.T,\n",
    "        aspect=\"auto\",\n",
    "        extent=(0, exp.n_pts / exp.fn, 0, exp.n_hdns),\n",
    "        vmin=-flims,\n",
    "        vmax=flims,\n",
    "        cmap=COLS[\"dff_plot\"],\n",
    "    )\n",
    "for i, line in enumerate(\n",
    "    [phase_shifts + exp.n_hdns / 2, np.ones(exp.n_pts) * exp.n_hdns / 2]\n",
    "):\n",
    "    axs[i].plot(exp.time_arr, line, lw=0.5, c=COLS[\"ph_plot\"])\n",
    "\n",
    "pltltr.despine(axs[0], \"all\")\n",
    "pltltr.despine(axs[1], [\"left\", \"right\", \"top\"])\n",
    "pltltr.add_dff_cbar(c, axs[0], (1.05, 0.78, 0.02, 0.22))\n",
    "\n",
    "axs[1].set(xlabel=\"time (s)\", ylabel=\"dist. from peak\")\n",
    "axs[0].set(ylabel=\"sorted ROI n.\")\n",
    "f.savefig(fig_location / \"phase_centered_traces.pdf\")"
   ]
  },
  {
   "cell_type": "markdown",
   "id": "9fb9021e-e82b-4050-99ae-b0a7d601b2e6",
   "metadata": {},
   "source": [
    "### Improve shift by interpolation\n",
    "\n",
    "This looks nice, but we could potentially improve it! Above, we were shifting the activation bump assuming that neurons where equally spaced across all possible angles in rPC space. However, this might not be the case, and we actually know that we can have non-homogeneous distribution on neurons along the circle.\n",
    "Let's see if we can improve things by interpolating the traces to sample homogeneously along the circle before shifting:"
   ]
  },
  {
   "cell_type": "code",
   "execution_count": null,
   "id": "142b21d8-179a-486d-8358-55f0d9d66ec7",
   "metadata": {},
   "outputs": [],
   "source": [
    "# arbitrary number of bins for the resampling:\n",
    "N_BINS_RESAMPLED = 100\n",
    "\n",
    "# we will resample over the (-pi, pi) interval\n",
    "resampling_base = np.linspace(-np.pi, np.pi, N_BINS_RESAMPLED)\n",
    "\n",
    "angle_resampled_traces = np.zeros((exp.n_pts, N_BINS_RESAMPLED))\n",
    "for i in range(exp.n_pts):\n",
    "    angle_resampled_traces[i, :] = np.interp(\n",
    "        resampling_base,\n",
    "        exp.rpc_angles[sort_idxs],\n",
    "        exp.traces[i, exp.hdn_indexes[sort_idxs]],\n",
    "    )\n",
    "\n",
    "# Then, we repeat:\n",
    "phase_shifts_resamp = (exp.network_phase / (2 * np.pi)) * (N_BINS_RESAMPLED - 1)\n",
    "shifted_traces_resamp = roll_columns_jit(\n",
    "    angle_resampled_traces, -np.round(phase_shifts_resamp)\n",
    ")"
   ]
  },
  {
   "cell_type": "code",
   "execution_count": null,
   "id": "cc964bb8-48e2-4fb6-b547-df81081f6aba",
   "metadata": {},
   "outputs": [],
   "source": [
    "f_lims = dict(vmin=-1.7, vmax=1.7)\n",
    "f, ax = plt.subplots(1, 1, figsize=(3.5, 2))\n",
    "\n",
    "for i, (lab, x, traces) in enumerate(\n",
    "    zip(\n",
    "        [\"not resamp.\", \"resamp.\"],\n",
    "        [exp.rpc_angles[sort_idxs], resampling_base],\n",
    "        [shifted_traces, shifted_traces_resamp],\n",
    "    )\n",
    "):\n",
    "\n",
    "    mn, sd = traces.mean(0), traces.std(0)\n",
    "    (p,) = ax.plot(x, mn, lw=2, label=lab)\n",
    "    ax.fill_between(x, mn - sd, mn + sd, lw=0, alpha=0.5, label=\"_nolegend_\")\n",
    "\n",
    "\n",
    "ax.set(\n",
    "    xlabel=\"phase dist. from peak\",\n",
    "    ylabel=\"avg. ΔF\",\n",
    "    ylim=(-2, 2),\n",
    "    **pltltr.get_pi_labels(d=0.5)\n",
    ")\n",
    "ax.legend(bbox_to_anchor=(1.3, 1, 0.01, 0.0))\n",
    "for l in [-1 / 2, 0, 1 / 2]:\n",
    "    plt.axvline(l * np.pi, lw=0.5, c=\".7\", zorder=-100)\n",
    "plt.axhline(0, lw=0.5, c=\".7\", zorder=-100)\n",
    "pltltr.despine(ax)\n",
    "\n",
    "plt.tight_layout()\n",
    "f.savefig(fig_location / \"pre_post_interp.pdf\")"
   ]
  },
  {
   "cell_type": "markdown",
   "id": "8e0785aa-45ac-43b4-a69e-c9b1ca42b49b",
   "metadata": {},
   "source": [
    "This looks definitively better!"
   ]
  },
  {
   "cell_type": "markdown",
   "id": "a9712f41-f5de-4202-80e3-d8bbfc79fac1",
   "metadata": {},
   "source": [
    "## Loop over all fish \n",
    "Now, let's compare phase activations across fish from the entire dataset. The steps have been wrapped in the `lotr.analysis.activity_profile.resample_and_shift()` function:"
   ]
  },
  {
   "cell_type": "code",
   "execution_count": null,
   "id": "acbb5c32-1297-480d-b8b5-c5b8b165291e",
   "metadata": {},
   "outputs": [],
   "source": [
    "from lotr.analysis.activity_profile import resample_and_shift\n",
    "\n",
    "resamp, reshaped = resample_and_shift(exp)\n",
    "assert np.allclose(angle_resampled_traces, resamp, rtol=0.001)\n",
    "assert np.allclose(shifted_traces_resamp, reshaped, rtol=0.001)"
   ]
  },
  {
   "cell_type": "code",
   "execution_count": null,
   "id": "e1fdffda-293e-496c-9ced-405410aa42f5",
   "metadata": {},
   "outputs": [],
   "source": [
    "N_BINS_RESAMP = 100\n",
    "\n",
    "all_mn_profiles = []\n",
    "all_std_profiles = []\n",
    "\n",
    "for path in tqdm(dataset_folders):\n",
    "    _, shifted_resamp_traces = resample_and_shift(\n",
    "        LotrExperiment(path), n_bins_resampling=N_BINS_RESAMP\n",
    "    )\n",
    "\n",
    "    all_mn_profiles.append(shifted_resamp_traces.mean(0))\n",
    "    all_std_profiles.append(shifted_resamp_traces.std(0))\n",
    "\n",
    "all_mn_profiles = np.array(all_mn_profiles)\n",
    "all_std_profiles = np.array(all_std_profiles)"
   ]
  },
  {
   "cell_type": "code",
   "execution_count": null,
   "id": "5e4878f7-f19b-472e-a596-b10695d54a80",
   "metadata": {},
   "outputs": [],
   "source": [
    "all_mn_profiles = np.array(all_mn_profiles)\n",
    "all_std_profiles = np.array(all_std_profiles)"
   ]
  },
  {
   "cell_type": "code",
   "execution_count": null,
   "id": "73c9995b-5f5d-4826-9bac-92ed1c417b60",
   "metadata": {},
   "outputs": [],
   "source": [
    "fig, axs = plt.subplots(\n",
    "    2,\n",
    "    1,\n",
    "    gridspec_kw=dict(left=0.15, bottom=0.15, right=0.8),\n",
    "    figsize=(3, 3),\n",
    "    sharex=True,\n",
    ")\n",
    "\n",
    "\n",
    "for mn, std in zip(all_mn_profiles, all_std_profiles):\n",
    "    axs[1].fill_between(\n",
    "        resampling_base,\n",
    "        mn - std,\n",
    "        mn + std,\n",
    "        lw=0,\n",
    "        fc=\".0\",\n",
    "        alpha=0.05,\n",
    "        label=\"_nolegend_\",\n",
    "    )\n",
    "axs[1].fill_between([], [], [], lw=0, fc=\".0\", alpha=0.2, label=\"fish (mn+/-sd)\")\n",
    "axs[1].plot(resampling_base, all_mn_profiles.mean(0), label=\"mean\")\n",
    "axs[1].legend()\n",
    "axs[1].set(\n",
    "    xlabel=\"Norm. network position\",\n",
    "    ylabel=\"mean dF\",\n",
    "    ylim=(-2.2, 2.2),\n",
    "    **pltltr.get_pi_labels(d=0.5)\n",
    ")\n",
    "axs[0].imshow(\n",
    "    all_mn_profiles,\n",
    "    aspect=\"auto\",\n",
    "    extent=[-np.pi, np.pi, all_mn_profiles.shape[0], 0],\n",
    "    cmap=COLS[\"dff_plot\"],\n",
    ")\n",
    "pltltr.add_dff_cbar(c, axs[0], (1.1, 0.8, 0.03, 0.25))\n",
    "axs[0].set(ylabel=\"Fish n.\")\n",
    "[pltltr.despine(ax) for ax in axs]\n",
    "\n",
    "f.savefig(fig_location / \"all_fish_profiles.pdf\")"
   ]
  },
  {
   "cell_type": "markdown",
   "id": "80d18a96-6c4d-453d-9786-d7b5f3651890",
   "metadata": {},
   "source": [
    "## Activation profile and behavior\n",
    "Next interesting question is: is the bump sustained also when fish is not swimming? How much can it persist after last bout?\n",
    "\n",
    "We will proceed in the following way: we will create an array that specifies for each frame how much time elapsed from the last bout, and we will then average frames by such distance."
   ]
  },
  {
   "cell_type": "code",
   "execution_count": null,
   "id": "88e47ff3-70c7-42f8-bcb2-e97a539b783b",
   "metadata": {},
   "outputs": [],
   "source": [
    "from lotr.behavior import get_bouts_props_array\n",
    "\n",
    "exp = LotrExperiment(A_FISH)\n",
    "\n",
    "bouts_arr = get_bouts_props_array(\n",
    "    exp.n_pts, exp.bouts_df, min_bias=0, selection=\"all\", value=1\n",
    ")\n",
    "\n",
    "frames_elapsed = np.zeros(bouts_arr.shape)\n",
    "\n",
    "for t in range(1, len(bouts_arr)):\n",
    "    if bouts_arr[t] == 1:\n",
    "        frames_elapsed[t] = 0\n",
    "    else:\n",
    "        frames_elapsed[t] = frames_elapsed[t - 1] + 1"
   ]
  },
  {
   "cell_type": "code",
   "execution_count": null,
   "id": "c315e473-4486-42a5-9a48-a6fcc0419fe4",
   "metadata": {},
   "outputs": [],
   "source": [
    "f, ax = plt.subplots(figsize=(6, 2))\n",
    "ax.plot(exp.time_arr, frames_elapsed / exp.fn)\n",
    "\n",
    "for t in range(1, len(bouts_arr)):\n",
    "    if bouts_arr[t] == 1:\n",
    "        ax.axvline(t / exp.fn, lw=0.2, c=\".4\")\n",
    "ax.set(xlabel=\"time (s)\", ylabel=\"time since last bout (s)\")\n",
    "\n",
    "pltltr.despine(ax)\n",
    "plt.tight_layout()\n",
    "f.savefig(fig_location / \"time_elapsed_expl.pdf\")"
   ]
  },
  {
   "cell_type": "code",
   "execution_count": null,
   "id": "262e993e-e24c-4a92-a9cd-431601611543",
   "metadata": {},
   "outputs": [],
   "source": [
    "# Now, loop over possible distances and average all activation profiles corresponding that\n",
    "# distance. We well also keep track of how many frames we have for each elapsed time.\n",
    "# As a control, we look at the not- reshaped array, to both get a noise level and\n",
    "# make sure there is not just a stable activation profile to which the network converges.\n",
    "\n",
    "max_el_count = 600  # maximum elapsed count, in frames\n",
    "\n",
    "mean_activations = np.zeros((max_el_count, shifted_traces_resamp.shape[1]))\n",
    "cnt_activations = np.zeros((max_el_count, angle_resampled_traces.shape[1]))\n",
    "\n",
    "elapsed_hist = np.zeros(max_el_count)\n",
    "\n",
    "for f_count in range(max_el_count):\n",
    "    frames_sel = frames_elapsed == f_count\n",
    "    mean_activations[f_count, :] = shifted_traces_resamp[frames_sel, :].mean(0)\n",
    "    cnt_activations[f_count, :] = angle_resampled_traces[frames_sel, :].mean(0)\n",
    "\n",
    "    elapsed_hist[f_count] = np.sum(frames_sel)"
   ]
  },
  {
   "cell_type": "code",
   "execution_count": null,
   "id": "39dc68e7-6852-49a2-8328-e12ff42f3783",
   "metadata": {},
   "outputs": [],
   "source": [
    "plt.figure(figsize=(3, 4))\n",
    "plt.imshow(\n",
    "    cnt_activations.T,\n",
    "    aspect=\"auto\",\n",
    "    extent=[-np.pi, np.pi, mean_activations.shape[0], 0],\n",
    "    cmap=COLS[\"dff_plot\"],\n",
    ")"
   ]
  },
  {
   "cell_type": "code",
   "execution_count": null,
   "id": "9134a31b-bf31-4beb-adce-490b48d65699",
   "metadata": {},
   "outputs": [],
   "source": [
    "max_el_count = 900\n",
    "\n",
    "all_cnt = []\n",
    "all_counts = []\n",
    "\n",
    "for path in tqdm(dataset_folders):\n",
    "    exp = LotrExperiment(A_FISH)\n",
    "\n",
    "    sort_idxs = np.argsort(exp.rpc_angles)\n",
    "\n",
    "    angle_resampled_traces = np.zeros((exp.n_pts, N_BINS_RESAMPLED))\n",
    "    for i in range(exp.n_pts):\n",
    "        angle_resampled_traces[i, :] = np.interp(\n",
    "            resampling_base,\n",
    "            exp.rpc_angles[sort_idxs],\n",
    "            exp.traces[i, exp.hdn_indexes[sort_idxs]],\n",
    "        )\n",
    "\n",
    "    # Find the right amount of shift over time to have the bump centered:\n",
    "    # by first stretching phase to 0-1 interval and then to 0-n_rois interval\n",
    "    phase_shifts_res = (exp.network_phase / (2 * np.pi)) * (N_BINS_RESAMPLED - 1)\n",
    "\n",
    "    # Then, apply shifts to traces:\n",
    "    shifted_resamp_traces = roll_columns_jit(\n",
    "        angle_resampled_traces, -np.round(phase_shifts_res)\n",
    "    )\n",
    "\n",
    "    bouts_arr = get_bouts_props_array(\n",
    "        exp.n_pts, exp.bouts_df, min_bias=0, selection=\"all\", value=1\n",
    "    )\n",
    "\n",
    "    frames_elapsed = np.zeros(bouts_arr.shape)\n",
    "\n",
    "    for t in range(1, len(bouts_arr)):\n",
    "        if bouts_arr[t] == 1:\n",
    "            frames_elapsed[t] = 0\n",
    "        else:\n",
    "            frames_elapsed[t] = frames_elapsed[t - 1] + 1\n",
    "\n",
    "    mean_activations = np.full((max_el_count, shifted_resamp_traces.shape[1]), np.nan)\n",
    "    cnt_activations = np.full((max_el_count, shifted_resamp_traces.shape[1]), np.nan)\n",
    "\n",
    "    for f_count in range(max_el_count):\n",
    "        frames_sel = frames_elapsed == f_count\n",
    "        mean_activations[f_count, :] = shifted_resamp_traces[frames_sel, :].mean(0)\n",
    "        cnt_activations[f_count, :] = angle_resampled_traces[frames_sel, :].mean(0)\n",
    "\n",
    "    all_counts.append(mean_activations)\n",
    "\n",
    "    all_cnt.append(cnt_activations)"
   ]
  },
  {
   "cell_type": "code",
   "execution_count": null,
   "id": "fc8b0d09-b477-4cda-9814-7553c4328659",
   "metadata": {},
   "outputs": [],
   "source": [
    "%%time\n",
    "for f_count in range(max_el_count):\n",
    "    frames_sel = frames_elapsed == f_count\n",
    "    mean_activations[f_count, :] = shifted_resamp_traces[frames_sel, :].mean(0)\n",
    "    cnt_activations[f_count, :] = angle_resampled_traces[frames_sel, :].mean(0)"
   ]
  },
  {
   "cell_type": "code",
   "execution_count": null,
   "id": "c89b5efa-3cbb-4f44-8af6-1d0eabcbd78f",
   "metadata": {},
   "outputs": [],
   "source": [
    "all_counts = np.array(all_counts)\n",
    "all_cnt = np.array(all_cnt)"
   ]
  },
  {
   "cell_type": "code",
   "execution_count": null,
   "id": "314945e9-5c61-4008-9050-b478e0195f16",
   "metadata": {},
   "outputs": [],
   "source": [
    "[LotrExperiment(path).fn for path in dataset_folders]"
   ]
  },
  {
   "cell_type": "code",
   "execution_count": null,
   "id": "682bbcbb-c81c-440a-be70-75ee0a9de2e6",
   "metadata": {},
   "outputs": [],
   "source": [
    "plt.figure()\n",
    "plt.imshow(np.nanmean(all_counts, 0).T, aspect=\"auto\")"
   ]
  },
  {
   "cell_type": "code",
   "execution_count": null,
   "id": "3713ec87-54f0-49be-8ee3-3e0414aea0e6",
   "metadata": {},
   "outputs": [],
   "source": [
    "mn = np.nanmean(all_counts, 0)\n",
    "\n",
    "plt.figure()\n",
    "plt.plot(mn.T, \"r\")\n",
    "plt.plot(np.nanmean(all_cnt, 0).T, \"k\")\n",
    "\n",
    "plt.show()"
   ]
  },
  {
   "cell_type": "code",
   "execution_count": null,
   "id": "d8418f1b-2fe7-42c5-bfe0-c2cd098de4d0",
   "metadata": {},
   "outputs": [],
   "source": []
  },
  {
   "cell_type": "code",
   "execution_count": null,
   "id": "a2b5183a-da9d-4053-805b-45adcec7820f",
   "metadata": {},
   "outputs": [],
   "source": []
  },
  {
   "cell_type": "code",
   "execution_count": null,
   "id": "51a4d1d4-aa53-4288-bf31-6230a15bab07",
   "metadata": {},
   "outputs": [],
   "source": []
  },
  {
   "cell_type": "code",
   "execution_count": null,
   "id": "5398e524-4d7e-459c-9c91-58b7292a9441",
   "metadata": {},
   "outputs": [],
   "source": []
  },
  {
   "cell_type": "code",
   "execution_count": null,
   "id": "71bfec1c-e63d-40dd-aea4-46af69a3e308",
   "metadata": {},
   "outputs": [],
   "source": []
  },
  {
   "cell_type": "code",
   "execution_count": null,
   "id": "1a910aeb-b201-4838-870c-2592896aca1b",
   "metadata": {},
   "outputs": [],
   "source": [
    "all_phases = [LotrExperiment(path).network_phase for path in dataset_folders]"
   ]
  },
  {
   "cell_type": "code",
   "execution_count": null,
   "id": "4d649626-a4a5-4e9a-b68d-7c225d21298a",
   "metadata": {},
   "outputs": [],
   "source": [
    "all_angles = [LotrExperiment(path).rpc_angles for path in dataset_folders]"
   ]
  },
  {
   "cell_type": "code",
   "execution_count": null,
   "id": "76681258-8ce5-4d13-9718-2e5377eb19f6",
   "metadata": {},
   "outputs": [],
   "source": [
    "plt.figure()\n",
    "plt.hist(np.concatenate(all_angles), 50)\n",
    "plt.show()"
   ]
  },
  {
   "cell_type": "code",
   "execution_count": null,
   "id": "b2b5bf0d-4e81-4261-8bb7-a915f522c15b",
   "metadata": {},
   "outputs": [],
   "source": []
  }
 ],
 "metadata": {
  "kernelspec": {
   "display_name": "rplab",
   "language": "python",
   "name": "rplab"
  },
  "language_info": {
   "codemirror_mode": {
    "name": "ipython",
    "version": 3
   },
   "file_extension": ".py",
   "mimetype": "text/x-python",
   "name": "python",
   "nbconvert_exporter": "python",
   "pygments_lexer": "ipython3"
  }
 },
 "nbformat": 4,
 "nbformat_minor": 5
}

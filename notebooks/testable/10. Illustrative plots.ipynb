{
 "cells": [
  {
   "cell_type": "markdown",
   "id": "81a14bf7-d3d9-4810-94bb-9fc3e41ba04b",
   "metadata": {},
   "source": [
    "# Some bonus plots for illustrating stuff for A_FISH"
   ]
  },
  {
   "cell_type": "code",
   "execution_count": null,
   "id": "19004331-d41d-439e-a63a-810a2cae7e23",
   "metadata": {},
   "outputs": [],
   "source": [
    "%matplotlib widget\n",
    "from pathlib import Path\n",
    "from shutil import copy\n",
    "\n",
    "import flammkuchen as fl\n",
    "import lotr.plotting as pltltr\n",
    "import numpy as np\n",
    "import pandas as pd\n",
    "from lotr import A_FISH, LotrExperiment, dataset_folders\n",
    "from lotr.utils import zscore\n",
    "\n",
    "COLS = pltltr.COLS\n",
    "from matplotlib import pyplot as plt\n",
    "from tqdm import tqdm"
   ]
  },
  {
   "cell_type": "markdown",
   "id": "25002487-4c90-428f-ae07-6ffc0f1dd8c8",
   "metadata": {},
   "source": [
    "### Contour masks for a fish"
   ]
  },
  {
   "cell_type": "code",
   "execution_count": null,
   "id": "e4357897-70d4-4789-a2f9-38eaff30643b",
   "metadata": {},
   "outputs": [],
   "source": [
    "exp = LotrExperiment(A_FISH)\n",
    "\n",
    "rois = exp.rois_stack\n",
    "ring_rois = exp.color_rois_by(np.ones(exp.n_hdns))\n",
    "proj = ring_rois.max(0)[:, :, 0]"
   ]
  },
  {
   "cell_type": "code",
   "execution_count": null,
   "id": "144a3506-a6ad-4f6d-a036-0248a411a3f5",
   "metadata": {},
   "outputs": [],
   "source": [
    "plt.figure(figsize=(3, 3), facecolor=\"none\")\n",
    "plt.contour(proj, levels=1, colors=[COLS[\"ring\"]], linewidths=1)\n",
    "plt.axis(\"equal\")\n",
    "plt.axis(\"off\")\n",
    "pltltr.savefig(\"rois_mask\")"
   ]
  },
  {
   "cell_type": "code",
   "execution_count": null,
   "id": "c2709c3e-ed10-437f-835e-3ba1044da982",
   "metadata": {},
   "outputs": [],
   "source": [
    "np.random.choice(np.argwhere(exp.nonhdn_indexes)[:, 0], 5)"
   ]
  },
  {
   "cell_type": "code",
   "execution_count": null,
   "id": "913c0f6c-e552-485b-8629-09ad922a2827",
   "metadata": {},
   "outputs": [],
   "source": [
    "np.random.choice(exp.hdn_indexes, 5)"
   ]
  },
  {
   "cell_type": "code",
   "execution_count": null,
   "id": "74109b7f-2a0f-4133-9a67-0f062a5bb2bf",
   "metadata": {},
   "outputs": [],
   "source": [
    "idxs = [480, 44, 598, 363, 285] + [131, 503, 657, 188, 34]\n",
    "n = len(idxs) // 2  # number of neurons for each type\n",
    "s = 5\n",
    "lw = 0.5\n",
    "t_slice_s = (0, 1900)\n",
    "\n",
    "t_slice = slice(*[t * exp.fs for t in t_slice_s])\n",
    "\n",
    "f, ax = plt.subplots(figsize=(3, 1.5))\n",
    "plt.plot(\n",
    "    exp.time_arr,\n",
    "    zscore(exp.traces[:, idxs[:n]]) + np.arange(n) * s,\n",
    "    lw=lw,\n",
    "    c=COLS[\"ring\"],\n",
    ")\n",
    "plt.plot(\n",
    "    exp.time_arr,\n",
    "    zscore(exp.traces[:, idxs[n:]]) + np.arange(n) * s + n * s,\n",
    "    lw=lw,\n",
    "    c=\".3\",\n",
    ")\n",
    "# plt.plot(\n",
    "#    exp.time_arr[t_slice],\n",
    "#    zscore(exp.raw_traces[t_slice, idxs]) + np.arange(len(idxs)) * s,\n",
    "#    lw=0.5,\n",
    "# )\n",
    "pltltr.add_scalebar(ax, xunits=\"s\", xlen=200, ylen=10, ylabel=\"ΔF z sc.\", lw=0.5, fontsize=5)\n",
    "plt.show()\n",
    "\n",
    "pltltr.savefig(\"traces\")"
   ]
  },
  {
   "cell_type": "code",
   "execution_count": null,
   "id": "51e6877e-fa4b-4303-bcc3-edd74f6e9c0a",
   "metadata": {},
   "outputs": [],
   "source": []
  }
 ],
 "metadata": {
  "kernelspec": {
   "display_name": "rplab",
   "language": "python",
   "name": "rplab"
  },
  "language_info": {
   "codemirror_mode": {
    "name": "ipython",
    "version": 3
   },
   "file_extension": ".py",
   "mimetype": "text/x-python",
   "name": "python",
   "nbconvert_exporter": "python",
   "pygments_lexer": "ipython3"
  }
 },
 "nbformat": 4,
 "nbformat_minor": 5
}

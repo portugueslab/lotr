{
 "cells": [
  {
   "cell_type": "markdown",
   "id": "d19206f4",
   "metadata": {},
   "source": [
    "## Reorient temporal PCA to match anatomy\n",
    "In this notebook, we look at the anatomical distribution of head direction neurons across fish, to assess whether there is anatomical consistency over the anatomical location of cells w/r/t their position in the network activity topology. \n",
    "\n",
    "#### TODO\n",
    " - [ ] redefine the centering of the coordinates after morphing is done\n",
    " - [ ] discuss way of finding the two axis, might be suboptimal/not wor for all cases"
   ]
  },
  {
   "cell_type": "code",
   "execution_count": null,
   "id": "8590be04",
   "metadata": {},
   "outputs": [],
   "source": [
    "%matplotlib widget\n",
    "from pathlib import Path\n",
    "import numpy as np\n",
    "import pandas as pd\n",
    "from matplotlib import pyplot as plt\n",
    "import matplotlib.gridspec as gridspec\n",
    "from scipy.optimize import curve_fit\n",
    "\n",
    "from lotr import LotrExperiment, DATASET_LOCATION\n",
    "from lotr.notebook_utils import print_source\n",
    "\n",
    "from lotr.plotting import despine, add_scalebar, get_circle_xy, color_stack, add_cbar, dark_col, boxplot\n",
    "from lotr.pca import pca_and_phase\n",
    "from lotr.rpca_calculation import get_normalized_coords, reorient_pcs\n",
    "# from lotr.utils import # reduce_to_pi, get_rot_matrix, get_vect_angle"
   ]
  },
  {
   "cell_type": "code",
   "execution_count": null,
   "id": "15134b00",
   "metadata": {},
   "outputs": [],
   "source": [
    "# List all experiments\n",
    "master_path = Path(DATASET_LOCATION)\n",
    "file_list = [f.parent for f in master_path.glob(\"*/*[0-9]_f*/selected.h5\")]"
   ]
  },
  {
   "cell_type": "markdown",
   "id": "463921f7",
   "metadata": {},
   "source": [
    "### Showcase analysis for a single fish"
   ]
  },
  {
   "cell_type": "code",
   "execution_count": null,
   "id": "0a3cbcbc",
   "metadata": {},
   "outputs": [],
   "source": [
    "path = master_path / \"210314_f1\" / \"210314_f1_natmov\"# \"210926_f0\" / \"210926_f0_gainmod\" \n",
    "exp = LotrExperiment(path)\n",
    "\n",
    "# Compute PCA in time and fit circle:\n",
    "traces = exp.traces[exp.pca_t_slice, exp.hdn_indexes]\n",
    "pcaed, phase, pca, circle_params = pca_and_phase(traces.T)\n",
    "\n",
    "# Center PCs on center of the fit circle:\n",
    "centered_pcs = pcaed[:, :2] - circle_params[:2]\n",
    "\n",
    "f, ax = plt.subplots(figsize=(2.5, 2.5))\n",
    "\n",
    "ax.scatter(centered_pcs[:, 0], centered_pcs[:, 1])\n",
    "ax.plot(*get_circle_xy((0, 0, circle_params[2])), c=(0.2,)*3)\n",
    "ax.axis(\"equal\")\n",
    "plt.show()\n",
    "add_scalebar(xlabel=\"PC1\", ylabel=\"PC2\", xlen=30, ylen=30)"
   ]
  },
  {
   "cell_type": "markdown",
   "id": "3e73c860",
   "metadata": {},
   "source": [
    "### Normalize coordinates"
   ]
  },
  {
   "cell_type": "code",
   "execution_count": null,
   "id": "d5a5c989",
   "metadata": {},
   "outputs": [],
   "source": [
    "print_source(get_normalized_coords)"
   ]
  },
  {
   "cell_type": "code",
   "execution_count": null,
   "id": "69b7eadd",
   "metadata": {},
   "outputs": [],
   "source": [
    "coords = exp.coords[exp.hdn_indexes, :]\n",
    "centered_coords = coords - np.mean(coords, axis=0)\n",
    "w_coords = get_normalized_coords(coords)"
   ]
  },
  {
   "cell_type": "code",
   "execution_count": null,
   "id": "233e6a03",
   "metadata": {},
   "outputs": [],
   "source": [
    "f, axs = plt.subplots(1, 3, figsize=(7.5, 2.5))\n",
    "\n",
    "for i, ax in enumerate(axs):\n",
    "    sc = ax.scatter(centered_pcs[:, 0], centered_pcs[:, 1], c=w_coords[:, i], \n",
    "               cmap=\"viridis\")\n",
    "    ax.plot(*get_circle_xy((0, 0, circle_params[2])), c=(0.2,)*3)\n",
    "    ax.axis(\"equal\")\n",
    "    add_cbar((0.35 + 0.28*i, 0.7, 0.015, 0.18), sc, ticks=[], \n",
    "             label=[\"pos. z\", \"pos. left-right\", \"pos. rostr.-caud.\"][i], \n",
    "             titlesize=9)\n",
    "    # ax.set_title([\"pos. z\", \"pos. left-right\", \"pos. rostr.-caud.\"][i])\n",
    "    add_scalebar(ax, xlabel=\"PC1\", ylabel=\"PC2\", xlen=30, ylen=30, disable_axis=False)\n",
    "    despine(ax, \"all\")"
   ]
  },
  {
   "cell_type": "markdown",
   "id": "79fac6e1",
   "metadata": {},
   "source": [
    "#### Fit to match anatomy \n",
    "\n",
    "The following function is then used to reorient the PC axes to match anatomy:"
   ]
  },
  {
   "cell_type": "code",
   "execution_count": null,
   "id": "9836b49f",
   "metadata": {},
   "outputs": [],
   "source": [
    "print_source(reorient_pcs)"
   ]
  },
  {
   "cell_type": "code",
   "execution_count": null,
   "id": "74512e39",
   "metadata": {},
   "outputs": [],
   "source": [
    "rotated_pcs = reorient_pcs(centered_pcs, w_coords)"
   ]
  },
  {
   "cell_type": "code",
   "execution_count": null,
   "id": "779a5df3",
   "metadata": {},
   "outputs": [],
   "source": [
    "f, ax = plt.subplots(figsize=(2.5, 2.5))\n",
    "\n",
    "sc = ax.scatter(rotated_pcs[:, 0], rotated_pcs[:, 1], c=w_coords[:, 2])\n",
    "ax.plot(*get_circle_xy((0, 0, circle_params[2])), c=(0.2,)*3)\n",
    "ax.axis(\"equal\")\n",
    "# ax.set_title(\"Color by rostro.-caud.\")\n",
    "plt.show()\n",
    "add_scalebar(xlabel=\"rPC1\", ylabel=\"rPC2\", xlen=60, ylen=60)\n",
    "\n",
    "add_cbar((0.87, 0.7, 0.04, 0.18), sc, ticks=[], label=\"sagitt. ax.\", titlesize=9)"
   ]
  },
  {
   "cell_type": "code",
   "execution_count": null,
   "id": "aae77023",
   "metadata": {},
   "outputs": [],
   "source": [
    "# We can now calculate a phase for each neuron from their position in this rotated space:\n",
    "rotated_pc_phase = np.angle(rotated_pcs[:, 0] + 1j * rotated_pcs[:, 1])\n",
    "\n",
    "# And, for plotting, computing an \"anatomical phase\", aka position around the anatomy:\n",
    "anatomical_phase = np.angle(-w_coords[:, 1] + 1j * w_coords[:, 2])\n",
    "\n",
    "# And plot it over the anatomy:\n",
    "f, axs = plt.subplots(2, 3, figsize=(8, 4))\n",
    "for j, (color_scheme, lab) in enumerate(zip([rotated_pc_phase, anatomical_phase],\n",
    "                                         [\"col. by rPC phase\", \"col. by anatomy phase\"])):\n",
    "    for i, scatter_vals in enumerate([rotated_pcs, centered_coords[:, 1:]]):\n",
    "        x = scatter_vals[:, 0] # if i == 0\n",
    "        axs[j, i].scatter(x, scatter_vals[:, 1],\n",
    "                      c=color_scheme, cmap=\"twilight\")\n",
    "        if i == 1:\n",
    "            add_scalebar(axs[j, i], xlabel=\"lf.-rt.\", ylabel=\"post.-ant.\", xlen=60, ylen=60, \n",
    "                         ypos=-60)\n",
    "        else:\n",
    "            add_scalebar(axs[j, i], xlabel=\"rPC1\", ylabel=\"rPC2\", xlen=45, ylen=45,\n",
    "                        disable_axis=False)\n",
    "        axs[j, i].axis(\"equal\")\n",
    "        despine(axs[j, i], \"all\")\n",
    "    n_phases = np.full(exp.n_rois, np.nan)\n",
    "    n_phases[exp.hdn_indexes] = color_scheme\n",
    "    colored = color_stack(exp.rois_stack, variable=n_phases, color_scheme=\"twilight\")\n",
    "\n",
    "    proj = colored.max(0)\n",
    "\n",
    "    axs[j, 2].imshow(proj[80:260,20:-20, :])\n",
    "    add_scalebar(axs[j, 2], xlabel=\"lf.-rt.\", ylabel=\"post.-ant.\", xlen=60, ypos=120, ylen=-60)\n",
    "\n",
    "    axs[j, 0].set_ylabel(lab)\n",
    "\n",
    "plt.suptitle(path.name)"
   ]
  },
  {
   "cell_type": "markdown",
   "id": "8aada841",
   "metadata": {},
   "source": [
    "# Perform analysis over all fish\n",
    "Here we run the same analysis over all fish:"
   ]
  },
  {
   "cell_type": "code",
   "execution_count": null,
   "id": "c12a1a2e",
   "metadata": {},
   "outputs": [],
   "source": [
    "results_list = []\n",
    "\n",
    "# Loop over all fish, and compute values for data and after shuffling coords itentity:\n",
    "for path in file_list:\n",
    "    for group, shuf_f in zip([\"data\", \"shuf\"], \n",
    "                         [lambda x: x, np.random.shuffle]):\n",
    "        exp = LotrExperiment(path) \n",
    "        sequence = np.arange(len(exp.hdn_indexes))\n",
    "        shuf_f(sequence)\n",
    "\n",
    "        # Compute PCA in time, fit circle and center:\n",
    "        traces = exp.traces[exp.pca_t_slice, exp.hdn_indexes]\n",
    "        pcaed, phase, pca, circle_params = pca_and_phase(traces.T)\n",
    "        centered_pcs = pcaed[:, :2] - circle_params[:2]\n",
    "\n",
    "        # center coords:\n",
    "        coords = exp.coords[exp.hdn_indexes, :][sequence, :]  # shuffle if necessary\n",
    "        centered_coords = coords - np.mean(coords, axis=0)\n",
    "        w_coords = get_normalized_coords(coords)\n",
    "\n",
    "        # rotate pcs:\n",
    "        rotated_pcs = reorient_pcs(centered_pcs, w_coords)\n",
    "\n",
    "        # We can now calculate a phase for each neuron from their position in this rotated space:\n",
    "        rotated_pc_phase = np.angle(rotated_pcs[:, 0] + 1j * rotated_pcs[:, 1])\n",
    "\n",
    "        # And, for plotting, computing an \"anatomical phase\", aka position around the anatomy:\n",
    "        anatomical_phase = np.angle(-centered_coords[:, 1] + 1j * centered_coords[:, 2]) \n",
    "\n",
    "        results_list.append(pd.DataFrame(dict(rpc1_proj=rotated_pcs[:, 0],\n",
    "                                              rpc2_proj=rotated_pcs[:, 1],\n",
    "                                              lr_pos=-centered_coords[:, 1],  # invert for scatterplots\n",
    "                                              ap_pos=centered_coords[:, 2],\n",
    "                                              rpc_phase=rotated_pc_phase,\n",
    "                                              anatomical_phase=anatomical_phase,\n",
    "                                              exp_id=path.name,\n",
    "                                              group=group)))\n",
    "\n",
    "pooled_df = pd.concat(results_list, axis=0).reset_index()"
   ]
  },
  {
   "cell_type": "code",
   "execution_count": null,
   "id": "c240b6cd",
   "metadata": {},
   "outputs": [],
   "source": [
    "f, axs = plt.subplots(2, 2, figsize=(5, 5))\n",
    "s = 8\n",
    "\n",
    "pooled_data = pooled_df[pooled_df[\"group\"] == \"data\"]\n",
    "\n",
    "for j, (color_k, lab) in enumerate(zip([\"rpc_phase\", \"anatomical_phase\"],\n",
    "                                     [\"color by phase\", \"color by anatomy\"])):\n",
    "        for ax, scatt_ks in zip(axs[j, :], \n",
    "                                [[\"rpc1_proj\", \"rpc2_proj\"], [\"lr_pos\", \"ap_pos\"]]):\n",
    "            ax.scatter(pooled_data[scatt_ks[0]], \n",
    "                       pooled_data[scatt_ks[1]], lw=0, \n",
    "                          c=pooled_data[color_k], cmap=\"twilight\", s=s, alpha=0.5)\n",
    "\n",
    "        axs[j, 0].set_ylabel(lab)\n",
    "            \n",
    "for j in range(2):\n",
    "    add_scalebar(axs[j, 1], xlabel=\"lf.-rt.\", ylabel=\"post.-ant.\", \n",
    "                 xlen=80, ylen=80, disable_axis=False)\n",
    "    despine(axs[j, 1], \"all\")\n",
    "    despine(axs[j, 0], \"all\")\n",
    "\n",
    "    add_scalebar(axs[j, 0], xlabel=\"rPC1\", ylabel=\"rPC2\", \n",
    "                 xlen=40, ylen=40, disable_axis=False)\n",
    "\n",
    "plt.tight_layout()"
   ]
  },
  {
   "cell_type": "code",
   "execution_count": null,
   "id": "27781fc0",
   "metadata": {},
   "outputs": [],
   "source": [
    "n_rois = len(pooled_df[pooled_df[\"group\"] == \"data\"])\n",
    "\n",
    "# create the function we want to fit\n",
    "def my_cos(x, amplitude, phase, offset, freq):\n",
    "    return np.cos(x*freq + phase) * amplitude + offset\n",
    "\n",
    "# Perform the fit. \n",
    "# We will fit on the first half of the data, and then measure R^2 over the left outs:\n",
    "initial_guesses = dict(lr_pos=(80, np.pi, 0, 1),\n",
    "                       ap_pos=(80, np.pi/2, 0, 1))\n",
    "\n",
    "fit_data_slice = slice(0, n_rois // 2)\n",
    "test_slice = slice(n_rois // 2, None)\n",
    "assert hash(group_data.values.tobytes()) == \"3711274885499956936\"\n",
    "fit_results = []\n",
    "for group in [\"data\", \"shuf\"]:\n",
    "    group_data = pooled_df[pooled_df[\"group\"] == group]\n",
    "    \n",
    "    for ax in [\"lr_pos\", \"ap_pos\"]:\n",
    "        \n",
    "        fit = curve_fit(my_cos, \n",
    "                        group_data[\"rpc_phase\"].values[fit_data_slice],\n",
    "                        group_data[ax].values[fit_data_slice],\n",
    "                        p0=initial_guesses[ax])\n",
    "        \n",
    "        fit_results.append(dict(group=group, \n",
    "                                ax=ax,\n",
    "                                amp=fit[0][0],\n",
    "                                ph=fit[0][1],\n",
    "                                off=fit[0][2],\n",
    "                                freq=fit[0][3]))\n",
    "        \n",
    "fit_results = pd.DataFrame(fit_results)"
   ]
  },
  {
   "cell_type": "code",
   "execution_count": null,
   "id": "b4f10ccd",
   "metadata": {},
   "outputs": [],
   "source": [
    "hash(group_data.values.tostring()) == 7813179039248863082"
   ]
  },
  {
   "cell_type": "code",
   "execution_count": null,
   "id": "fdb8a8e4",
   "metadata": {},
   "outputs": [],
   "source": [
    "#from pandas import utils as putils\n",
    "pd.util.hash_pandas_object(group_data, categorize=True)"
   ]
  },
  {
   "cell_type": "code",
   "execution_count": null,
   "id": "0ca51a80",
   "metadata": {},
   "outputs": [],
   "source": [
    "n_bins = 40\n",
    "cols = [(0.8,)*3, (0.8, 0.4, 0.3)]\n",
    "\n",
    "ax_labels = dict(lr_pos=\"l-r pos. (μm)\",\n",
    "                 ap_pos=\"a-p pos. (μm)\")\n",
    "\n",
    "fig = plt.figure( figsize=(6, 3.5))\n",
    "\n",
    "gs = gridspec.GridSpec(4, 6, figure=fig)\n",
    "axs_scat = [fig.add_subplot(gs[1:, :3]), fig.add_subplot(gs[1:, 3:])]\n",
    "axs_comp = [fig.add_subplot(gs[0, 1:3]), fig.add_subplot(gs[0, 4:])]\n",
    "# ax2 = ax1\n",
    "\n",
    "x_array = np.arange(-np.pi, np.pi, 0.1)\n",
    "\n",
    "res = []\n",
    "    \n",
    "for j, ax in enumerate([\"lr_pos\", \"ap_pos\"]):\n",
    "    residuals = []\n",
    "    for i, group in enumerate([\"shuf\", \"data\"]):\n",
    "        group_data = pooled_df[pooled_df[\"group\"] == group]\n",
    "        \n",
    "        axs_scat[j].scatter(group_data[\"rpc_phase\"], group_data[ax], \n",
    "                        color=cols[i], s=5, alpha=0.8, lw=0, label=group) \n",
    "        \n",
    "        fit_params = fit_results[(fit_results[\"group\"]==group) & (fit_results[\"ax\"]==ax)]\n",
    "        y = my_cos(x_array, *list(fit_params.iloc[0, 2:].values))\n",
    "        axs_scat[j].plot(x_array, y, color=dark_col(cols[i]), label=\"_nolegend_\") \n",
    "\n",
    "        axs_scat[j].set(xlabel=\"rPC phase (rad)\", ylabel=ax_labels[ax]) \n",
    "        despine(axs_scat[j])\n",
    "        \n",
    "        group_data = pooled_df[pooled_df[\"group\"] == group]\n",
    "\n",
    "        # fit_params = fit_results[(fit_results[\"group\"]==group) & (fit_results[\"ax\"]==ax)]\n",
    "        predicted = my_cos(group_data[\"rpc_phase\"].values[test_slice], \n",
    "                           *list(fit_params.iloc[0, 2:].values))\n",
    "        \n",
    "        # h_range = (np.percentile(pooled_df[ax]**2, (1, 98)))\n",
    "        residuals.append((predicted - group_data[ax].values[test_slice])**2)\n",
    "            \n",
    "    boxplot(residuals, cols=cols, ax=axs_comp[j], widths=0.6, ec=(0.3,)*3)\n",
    "        \n",
    "    axs_comp[j].set_yticklabels([\"shuf\", \"data\"])\n",
    "    axs_comp[j].tick_params(axis='both', which='both', labelsize=8)\n",
    "    axs_comp[j].xaxis.tick_top()\n",
    "    axs_comp[j].xaxis.set_label_position('top') \n",
    "    axs_comp[j].set_xlabel(\"residuals (cross. val.)\")\n",
    "\n",
    "    [axs_comp[j].axes.spines[s].set_visible(False) for s in [\"bottom\", \"right\"]]\n",
    "\n",
    "            \n",
    "axs_scat[0].set_ylim(-120, 140)\n",
    "axs_scat[1].set_ylim(-50, 80)\n",
    "axs_scat[1].legend(frameon=False, fontsize=10, markerscale=2, #bbox_to_anchor=(0.8, 0.9),\n",
    "                  handletextpad=-0.3)\n",
    "\n",
    "plt.tight_layout()"
   ]
  },
  {
   "cell_type": "code",
   "execution_count": null,
   "id": "f9bb2e5a",
   "metadata": {},
   "outputs": [],
   "source": []
  }
 ],
 "metadata": {
  "kernelspec": {
   "display_name": "rplab",
   "language": "python",
   "name": "rplab"
  },
  "language_info": {
   "codemirror_mode": {
    "name": "ipython",
    "version": 3
   },
   "file_extension": ".py",
   "mimetype": "text/x-python",
   "name": "python",
   "nbconvert_exporter": "python",
   "pygments_lexer": "ipython3"
  }
 },
 "nbformat": 4,
 "nbformat_minor": 5
}

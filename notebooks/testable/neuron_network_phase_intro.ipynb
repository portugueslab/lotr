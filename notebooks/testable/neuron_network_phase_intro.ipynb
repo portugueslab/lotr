{
 "cells": [
  {
   "cell_type": "markdown",
   "id": "5d0a733b",
   "metadata": {},
   "source": [
    "# Definition of neuron angle and network phase"
   ]
  },
  {
   "cell_type": "markdown",
   "id": "1e6c6df3",
   "metadata": {},
   "source": [
    "Intro to PC space phases"
   ]
  },
  {
   "cell_type": "code",
   "execution_count": null,
   "id": "a9136745",
   "metadata": {},
   "outputs": [],
   "source": [
    "%matplotlib widget\n",
    "import numpy as np\n",
    "from sklearn.decomposition import PCA\n",
    "\n",
    "from matplotlib import pyplot as plt\n",
    "\n",
    "from lotr import FIGURES_LOCATION, A_FISH, LotrExperiment\n",
    "from lotr.pca import pca_and_phase\n",
    "from lotr.notebook_utils import print_source\n",
    "\n",
    "from lotr.plotting import add_scalebar, add_cbar, color_plot, get_circle_xy, despine, COLS, plot_arrow, \\\n",
    "    get_default_phase_col"
   ]
  },
  {
   "cell_type": "code",
   "execution_count": null,
   "id": "3ca5e99c",
   "metadata": {},
   "outputs": [],
   "source": [
    "exp = LotrExperiment(A_FISH)"
   ]
  },
  {
   "cell_type": "code",
   "execution_count": null,
   "id": "5d32406a",
   "metadata": {},
   "outputs": [],
   "source": [
    "non_hdns = np.ones(exp.n_rois, dtype=bool)"
   ]
  },
  {
   "cell_type": "code",
   "execution_count": null,
   "id": "eab33a19",
   "metadata": {},
   "outputs": [],
   "source": [
    "t_end = 1500  # crop to half experiment for clarity\n",
    "pca_scores = PCA(n_components=5).fit_transform(exp.traces[:t_end*exp.fn, exp.hdn_indexes])"
   ]
  },
  {
   "cell_type": "code",
   "execution_count": null,
   "id": "e8751b62",
   "metadata": {},
   "outputs": [],
   "source": [
    "f, ax = plt.subplots(figsize=(3, 3))\n",
    "s = color_plot(pca_scores[:, 0], pca_scores[:, 1], c=np.arange(pca_scores.shape[0])/exp.fn, ax=ax, \n",
    "               cmap=COLS[\"time\"], lw=2)\n",
    "add_scalebar(ax, xlabel=\"PC1\", ylabel=\"PC2\", xlen=5, ylen=5)\n",
    "\n",
    "add_cbar(s, ax, inset_loc=(0.85, 0.95, .2, .04), ticks=(0, t_end-100), ticklabels=(0, t_end), \n",
    "         orientation=\"horizontal\", label=\"Time (s)\", labelsize=8)\n",
    "ax.axis(\"equal\")\n",
    "plt.show()\n",
    "\n",
    "f.savefig(FIGURES_LOCATION / \"population_trajectory.pdf\")"
   ]
  },
  {
   "cell_type": "markdown",
   "id": "1c0ef093",
   "metadata": {},
   "source": [
    "## PCA over time and neuron angles"
   ]
  },
  {
   "cell_type": "markdown",
   "id": "e0b2ecca",
   "metadata": {},
   "source": [
    "If we now look at PCs computed over time, we get a similar circular pattern:"
   ]
  },
  {
   "cell_type": "code",
   "execution_count": null,
   "id": "7ca2b8a9",
   "metadata": {},
   "outputs": [],
   "source": [
    "# Find principal components from selected neurons:\n",
    "pca = PCA(n_components=5).fit(exp.traces[:, exp.hdn_indexes].T)\n",
    "\n",
    "# Compute scores for all neurons:\n",
    "pca_scores_t = pca.transform(exp.traces[:, :].T)"
   ]
  },
  {
   "cell_type": "code",
   "execution_count": null,
   "id": "b30a4398",
   "metadata": {},
   "outputs": [],
   "source": [
    "f, ax = plt.subplots(figsize=(3, 3))\n",
    "s = ax.scatter(pca_scores_t[exp.hdn_indexes, 0], pca_scores_t[exp.hdn_indexes, 1], \n",
    "               color=COLS[\"ring\"], label=\"ring ROIs\", lw=0.2)\n",
    "s = ax.scatter(pca_scores_t[exp.nonhdn_indexes, 0], pca_scores_t[exp.nonhdn_indexes, 1], \n",
    "               label=\"non-ring ROIs\", fc=\"none\", ec=\"k\", lw=0.2, zorder=-100)\n",
    "\n",
    "plt.legend(frameon=False, bbox_to_anchor=(1.1, -0.1, .04, .2), bbox_transform=ax.transAxes,\n",
    "           markerscale=1, handletextpad=-0.3, fontsize=8)\n",
    "add_scalebar(ax, xlabel=\"PC1\", ylabel=\"PC2\", xlen=30, ylen=30)\n",
    "ax.axis(\"equal\")\n",
    "#plt.tight_layout()\n",
    "plt.subplots_adjust(bottom=0.2)\n",
    "plt.show()\n",
    "\n",
    "f.savefig(FIGURES_LOCATION / \"individual_rois_pcs_cnt.pdf\")"
   ]
  },
  {
   "cell_type": "markdown",
   "id": "019b81c7",
   "metadata": {},
   "source": [
    "### Neuron angles\n",
    "\n",
    "On these data, it is simple to fit a circle and define for every ROI a \"PC angle\" as the angle from the center of such circle. \n",
    "For $i^{th}$ ROI,\n",
    "\n",
    "$$ \n",
    "{PCangle}_i = arctan(\\frac{PC1_i - center_x}{PC2_i - center_y}) \n",
    "$$\n",
    "\n",
    "For this, we use the `pca_and_phase` function:"
   ]
  },
  {
   "cell_type": "code",
   "execution_count": null,
   "id": "77bae0af",
   "metadata": {},
   "outputs": [],
   "source": [
    "print_source(pca_and_phase)"
   ]
  },
  {
   "cell_type": "code",
   "execution_count": null,
   "id": "d5362604",
   "metadata": {},
   "outputs": [],
   "source": [
    "pca_scores_t, roi_pc_angles, _, circle_params = pca_and_phase(exp.traces[:, exp.hdn_indexes].T)\n",
    "\n",
    "# To simplify plotting, we just center the circle on 0:\n",
    "pca_scores_t[:, :2] = pca_scores_t[:, :2] - circle_params[:2]"
   ]
  },
  {
   "cell_type": "code",
   "execution_count": null,
   "id": "7a92e2da",
   "metadata": {},
   "outputs": [],
   "source": [
    "f, ax = plt.subplots(figsize=(3, 3))\n",
    "s = ax.scatter(pca_scores_t[:, 0], pca_scores_t[:, 1], \n",
    "               c=roi_pc_angles, cmap=COLS[\"phase_light\"], label=\"ring ROIs\", lw=0.2)\n",
    "ax.plot(*get_circle_xy((0, 0, circle_params[2])), c=(0.2,)*3, lw=1)\n",
    "add_scalebar(ax, xlabel=\"PC1\", ylabel=\"PC2\", xlen=30, ylen=30)\n",
    "ax.axis(\"equal\")\n",
    "\n",
    "add_cbar(s, ax, (0.92, 1.1, .2, .04), ticks=(-np.pi+0.2, 0, np.pi-0.2), ticklabels=(\"-π\", 0, \"π\"), \n",
    "         label=\"PC angle\", orientation=\"horizontal\")\n",
    "plt.show()\n",
    "\n",
    "f.savefig(FIGURES_LOCATION / \"rois_angles.pdf\")"
   ]
  },
  {
   "cell_type": "markdown",
   "id": "32bcc27c",
   "metadata": {},
   "source": [
    "## From neuron angles to network phase"
   ]
  },
  {
   "cell_type": "markdown",
   "id": "c81a00c7",
   "metadata": {},
   "source": [
    "Now, we can start from the fit of neuron angles in PC space to get to a reasonable notion of \"phase\" in time of the network. At every timepoint, we will take an average vector sum over the neurons of the circle, weighted by the intensity of their fluorescence. At every timepoint, the fluorescence intensity is normalized to have 0 sum. This mean that a neuron can have negative weight and hence negative contribution. Zero-sum normalization help reducing biases that might come from non homogeneous distribution of ROIs along the circle. "
   ]
  },
  {
   "cell_type": "code",
   "execution_count": null,
   "id": "cae54c64",
   "metadata": {},
   "outputs": [],
   "source": [
    "from lotr.utils import get_vect_angle\n",
    "from lotr.rpca_calculation import get_normalized_coords \n",
    "\n",
    "norm_activity = get_normalized_coords(exp.traces[:, exp.hdn_indexes].T).T\n",
    "avg_vects = np.einsum(\"ij,ik->jk\", norm_activity.T, pca_scores_t[:, :2])\n",
    "\n",
    "network_phase = get_vect_angle(avg_vects.T)"
   ]
  },
  {
   "cell_type": "code",
   "execution_count": null,
   "id": "7551e3d4",
   "metadata": {},
   "outputs": [],
   "source": [
    "scale_arr = 5000\n",
    "scale_mn = 60\n",
    "f_lim = 0.01\n",
    "f, axs = plt.subplots(1, 3, figsize=(8, 3))\n",
    "for n, (i, ax) in enumerate(zip([900, 1000, 3400], axs)):\n",
    "    s = ax.scatter(pca_scores_t[:, 0], pca_scores_t[:, 1], \n",
    "                   c=norm_activity[i, :], cmap=COLS[\"dff_opp\"], vmin=-f_lim, vmax=f_lim, lw=0.)\n",
    "    \n",
    "    for r in range(len(exp.hdn_indexes)):\n",
    "        angle, length = roi_pc_angles[r], norm_activity[i, r]*scale_arr\n",
    "        ax.plot([0, np.cos(angle)*length], [0, np.sin(angle)*length], c=(0.7,)*3, lw=0.2)\n",
    "    \n",
    "    angle, length = network_phase[i], scale_mn\n",
    "    ax.plot([0, np.cos(angle)*length], [0, np.sin(angle)*length], \n",
    "            c=get_default_phase_col(network_phase[i]), lw=1)\n",
    "    \n",
    "    # timestamp:\n",
    "    ax.text(-100, 100, f\"t = {i / exp.fn} s\", fontsize=8)\n",
    "\n",
    "    if n == 0:\n",
    "        add_scalebar(ax, xlabel=\"PC1\", ylabel=\"PC2\", xlen=30, ylen=30)\n",
    "        cbar = add_cbar(s, ax, (1.1, 0.2, .2, .04), ticks=(-f_lim+0.001, f_lim-0.001), \n",
    "                 ticklabels=(\"-\", \"+\"), titlesize=8,  title=\"ΔF weight\", orientation=\"horizontal\")\n",
    "    else:  # dummy for scaling:\n",
    "        add_scalebar(ax, xlabel=\"\", ylabel=\"\", xlen=30, ylen=30, line_params=dict(lw=0))\n",
    "        \n",
    "    ax.axis(\"equal\")\n",
    "    \n",
    "f.savefig(FIGURES_LOCATION / \"network_phase_explanation.pdf\")"
   ]
  },
  {
   "cell_type": "code",
   "execution_count": null,
   "id": "35d7ce89",
   "metadata": {},
   "outputs": [],
   "source": [
    "from lotr.plotting.gifs_gen.network_phase import network_phase_animation"
   ]
  },
  {
   "cell_type": "code",
   "execution_count": null,
   "id": "a7677576",
   "metadata": {},
   "outputs": [],
   "source": [
    "f = network_phase_animation()\n",
    "# plt.show()"
   ]
  },
  {
   "cell_type": "code",
   "execution_count": null,
   "id": "4852f1d3",
   "metadata": {},
   "outputs": [],
   "source": []
  }
 ],
 "metadata": {
  "kernelspec": {
   "display_name": "rplab",
   "language": "python",
   "name": "rplab"
  },
  "language_info": {
   "codemirror_mode": {
    "name": "ipython",
    "version": 3
   },
   "file_extension": ".py",
   "mimetype": "text/x-python",
   "name": "python",
   "nbconvert_exporter": "python",
   "pygments_lexer": "ipython3"
  }
 },
 "nbformat": 4,
 "nbformat_minor": 5
}

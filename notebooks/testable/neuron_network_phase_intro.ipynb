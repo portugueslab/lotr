{
 "cells": [
  {
   "cell_type": "markdown",
   "id": "51e1fa4b",
   "metadata": {},
   "source": [
    "# Definition of neuron angle and network phase"
   ]
  },
  {
   "cell_type": "markdown",
   "id": "63d2e125",
   "metadata": {},
   "source": [
    "Intro to PC space phases"
   ]
  },
  {
   "cell_type": "code",
   "execution_count": null,
   "id": "0ef78241",
   "metadata": {},
   "outputs": [],
   "source": [
    "%matplotlib widget\n",
    "import numpy as np\n",
    "import cmocean\n",
    "from sklearn.decomposition import PCA\n",
    "\n",
    "from matplotlib import pyplot as plt\n",
    "from mpl_toolkits.axes_grid1.inset_locator import inset_axes\n",
    "\n",
    "from lotr import FIGURES_LOCATION, A_FISH, LotrExperiment\n",
    "from lotr.pca import pca_and_phase\n",
    "from lotr.notebook_utils import print_source\n",
    "\n",
    "from lotr.plotting import add_scalebar, add_cbar, color_plot, get_circle_xy, despine, COLS, plot_arrow\n",
    "from lotr.plotting.stack_coloring import _get_continuous_colors"
   ]
  },
  {
   "cell_type": "code",
   "execution_count": null,
   "id": "4223db54",
   "metadata": {},
   "outputs": [],
   "source": [
    "exp = LotrExperiment(A_FISH)"
   ]
  },
  {
   "cell_type": "code",
   "execution_count": null,
   "id": "ba2abccc",
   "metadata": {},
   "outputs": [],
   "source": [
    "non_hdns = np.ones(exp.n_rois, dtype=bool)"
   ]
  },
  {
   "cell_type": "code",
   "execution_count": null,
   "id": "722cf940",
   "metadata": {},
   "outputs": [],
   "source": [
    "t_end = 1500  # crop to half experiment for clarity\n",
    "pca_scores = PCA(n_components=5).fit_transform(exp.traces[:t_end*exp.fn, exp.hdn_indexes])"
   ]
  },
  {
   "cell_type": "code",
   "execution_count": null,
   "id": "699b633f",
   "metadata": {},
   "outputs": [],
   "source": [
    "f, ax = plt.subplots(figsize=(3, 3))\n",
    "s = color_plot(pca_scores[:, 0], pca_scores[:, 1], c=np.arange(pcaed.shape[0])/exp.fn, ax=ax, \n",
    "               cmap=COLS[\"time\"], lw=2)\n",
    "add_scalebar(ax, xlabel=\"PC1\", ylabel=\"PC2\", xlen=5, ylen=5)\n",
    "\n",
    "ax_cbar = inset_axes(ax, width=\"100%\", height=\"100%\",\n",
    "                   bbox_to_anchor=(0.85, 0.95, .2, .04),\n",
    "                   bbox_transform=ax.transAxes)\n",
    "add_cbar(ax_cbar, s, ticks=(0, t_end-100), ticklabels=(0, t_end), \n",
    "         orientation=\"horizontal\", label=\"Time (s)\", labelsize=8)\n",
    "ax.axis(\"equal\")\n",
    "plt.show()\n",
    "\n",
    "f.savefig(FIGURES_LOCATION / \"population_trajectory.pdf\")"
   ]
  },
  {
   "cell_type": "markdown",
   "id": "c0c00331",
   "metadata": {},
   "source": [
    "## PCA over time and neuron angles"
   ]
  },
  {
   "cell_type": "markdown",
   "id": "d9e4da65",
   "metadata": {},
   "source": [
    "If we now look at PCs computed over time, we get a similar circular pattern:"
   ]
  },
  {
   "cell_type": "code",
   "execution_count": null,
   "id": "5559d92f",
   "metadata": {},
   "outputs": [],
   "source": [
    "# Find principal components from selected neurons:\n",
    "pca = PCA(n_components=5).fit(exp.traces[:, exp.hdn_indexes].T)\n",
    "\n",
    "# Compute scores for all neurons:\n",
    "pca_scores_t = pca.transform(exp.traces[:, :].T)"
   ]
  },
  {
   "cell_type": "code",
   "execution_count": null,
   "id": "1cc4adee",
   "metadata": {},
   "outputs": [],
   "source": [
    "f, ax = plt.subplots(figsize=(3, 3))\n",
    "s = ax.scatter(pca_scores_t[exp.hdn_indexes, 0], pca_scores_t[exp.hdn_indexes, 1], \n",
    "               color=COLS[\"ring\"], label=\"ring ROIs\", lw=0.2)\n",
    "s = ax.scatter(pca_scores_t[exp.nonhdn_indexes, 0], pca_scores_t[exp.nonhdn_indexes, 1], \n",
    "               label=\"non-ring ROIs\", fc=\"none\", ec=\"k\", lw=0.2, zorder=-100)\n",
    "\n",
    "plt.legend(frameon=False, bbox_to_anchor=(1.1, -0.1, .04, .2), bbox_transform=ax.transAxes,\n",
    "           markerscale=1, handletextpad=-0.3, fontsize=8)\n",
    "add_scalebar(ax, xlabel=\"PC1\", ylabel=\"PC2\", xlen=30, ylen=30)\n",
    "ax.axis(\"equal\")\n",
    "#plt.tight_layout()\n",
    "plt.subplots_adjust(bottom=0.2)\n",
    "plt.show()\n",
    "\n",
    "f.savefig(FIGURES_LOCATION / \"individual_rois_pcs_cnt.pdf\")"
   ]
  },
  {
   "cell_type": "markdown",
   "id": "c50432d2",
   "metadata": {},
   "source": [
    "### Neuron angles\n",
    "\n",
    "On these data, it is simple to fit a circle and define for every ROI a \"PC angle\" as the angle from the center of such circle. \n",
    "For $i^{th}$ ROI,\n",
    "\n",
    "$$ \n",
    "{PCangle}_i = arctan(\\frac{PC1_i - center_x}{PC2_i - center_y}) \n",
    "$$\n",
    "\n",
    "For this, we use the `pca_and_phase` function:"
   ]
  },
  {
   "cell_type": "code",
   "execution_count": null,
   "id": "55fed424",
   "metadata": {},
   "outputs": [],
   "source": [
    "print_source(pca_and_phase)"
   ]
  },
  {
   "cell_type": "code",
   "execution_count": null,
   "id": "19643696",
   "metadata": {},
   "outputs": [],
   "source": [
    "pca_scores_t, roi_pc_angles, _, circle_params = pca_and_phase(exp.traces[:, exp.hdn_indexes].T)\n",
    "\n",
    "# To simplify plotting, we just center the circle on 0:\n",
    "pca_scores_t[:, :2] = pca_scores_t[:, :2] - circle_params[:2]"
   ]
  },
  {
   "cell_type": "code",
   "execution_count": null,
   "id": "249d7f6e",
   "metadata": {},
   "outputs": [],
   "source": [
    "f, ax = plt.subplots(figsize=(3, 3))\n",
    "s = ax.scatter(pca_scores_t[:, 0], pca_scores_t[:, 1], \n",
    "               c=roi_pc_angles, cmap=\"twilight\", label=\"ring ROIs\", lw=0.2)\n",
    "ax.plot(*get_circle_xy((0, 0, circle_params[2])), c=(0.2,)*3, lw=1)\n",
    "add_scalebar(ax, xlabel=\"PC1\", ylabel=\"PC2\", xlen=30, ylen=30)\n",
    "ax.axis(\"equal\")\n",
    "\n",
    "ax_cbar = inset_axes(ax, width=\"100%\", height=\"100%\",\n",
    "                    bbox_to_anchor=(0.9, 1.05, .2, .04),\n",
    "                    bbox_transform=ax.transAxes)\n",
    "add_cbar(ax_cbar, s, ticks=(-np.pi+0.2, 0, np.pi-0.2), ticklabels=(\"-π\", 0, \"π\"), \n",
    "         label=\"PC angle\", labelsize=10, orientation=\"horizontal\")\n",
    "plt.show()\n",
    "\n",
    "f.savefig(FIGURES_LOCATION / \"rois_angles.pdf\")"
   ]
  },
  {
   "cell_type": "markdown",
   "id": "ad9ecd09",
   "metadata": {},
   "source": [
    "## From neuron angles to network phase"
   ]
  },
  {
   "cell_type": "markdown",
   "id": "4d13c588",
   "metadata": {},
   "source": [
    "Now, we can start from the fit of neuron angles in PC space to get to a reasonable notion of \"phase\" in time of the network. At every timepoint, we will take an average vector sum over the neurons of the circle, weighted by the intensity of their fluorescence. At every timepoint, the fluorescence intensity is normalized to have 0 sum. This mean that a neuron can have negative weight and hence negative contribution. Zero-sum normalization help reducing biases that might come from non homogeneous distribution of ROIs along the circle. "
   ]
  },
  {
   "cell_type": "code",
   "execution_count": null,
   "id": "506d725a",
   "metadata": {},
   "outputs": [],
   "source": [
    "from lotr.utils import get_vect_angle\n",
    "from lotr.rpca_calculation import get_normalized_coords \n",
    "\n",
    "norm_activity = get_normalized_coords(exp.traces[:, exp.hdn_indexes].T).T\n",
    "avg_vects = np.einsum(\"ij,ik->jk\", norm_activity.T, pca_scores_t[:, :2])\n",
    "\n",
    "angles = get_vect_angle(avg_vects.T)"
   ]
  },
  {
   "cell_type": "code",
   "execution_count": null,
   "id": "5e9a61ff",
   "metadata": {},
   "outputs": [],
   "source": [
    "cols_angles = _get_continuous_colors(roi_pc_angles, \"twilight\") / 255\n",
    "scale_arrows = 5000\n",
    "scale_mn = 60\n",
    "f_lim = 0.01\n",
    "f, axs = plt.subplots(1, 3, figsize=(8, 3))\n",
    "for i, ax in zip([1000, 900, 3400], axs):\n",
    "    s = ax.scatter(pca_scores_t[:, 0], pca_scores_t[:, 1], \n",
    "                   c=norm_activity[i, :], cmap=\"Greens\", vmin=-f_lim, vmax=f_lim, lw=0.)\n",
    "    # ax.plot(*get_circle_xy((0, 0, circle_params[2])), c=(0.2,)*3, lw=1)\n",
    "    for r in range(len(exp.hdn_indexes)):\n",
    "        ax.plot([0, np.cos(roi_pc_angles[r])*norm_activity[i, r]*scale_arrows], \n",
    "                [0, np.sin(roi_pc_angles[r])*norm_activity[i, r]*scale_arrows],  \n",
    "                c=(0.7,)*3, lw=0.2)\n",
    "        ax.plot([0, np.cos(angles[i])*scale_mn], \n",
    "                [0, np.sin(angles[i])*scale_mn],  \n",
    "                c=_get_continuous_colors([angles[i]], \"twilight\", vlims=(-np.pi, np.pi)) / 255, \n",
    "                        lw=1)\n",
    "    despine(ax, \"all\")\n",
    "    ax.axis(\"equal\")\n",
    "add_scalebar(axs[0], xlabel=\"PC1\", ylabel=\"PC2\", xlen=30, ylen=30)"
   ]
  },
  {
   "cell_type": "code",
   "execution_count": null,
   "id": "7953d572",
   "metadata": {},
   "outputs": [],
   "source": []
  }
 ],
 "metadata": {
  "kernelspec": {
   "display_name": "rplab",
   "language": "python",
   "name": "rplab"
  },
  "language_info": {
   "codemirror_mode": {
    "name": "ipython",
    "version": 3
   },
   "file_extension": ".py",
   "mimetype": "text/x-python",
   "name": "python",
   "nbconvert_exporter": "python",
   "pygments_lexer": "ipython3"
  }
 },
 "nbformat": 4,
 "nbformat_minor": 5
}

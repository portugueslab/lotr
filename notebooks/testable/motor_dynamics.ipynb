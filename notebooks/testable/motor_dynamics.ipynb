{
 "cells": [
  {
   "cell_type": "markdown",
   "id": "0b8c5261",
   "metadata": {},
   "source": [
    "## Motor-selective neurons vs. heading direction neurons\n",
    "In this notebook, we compare the activity/location of neurons that are left/right motion selective, and activity of heading direction selective neurons.\n",
    "\n",
    "#### TODO\n",
    " - [ ] make map including all fish after the morphing "
   ]
  },
  {
   "cell_type": "code",
   "execution_count": null,
   "id": "3ae8221a",
   "metadata": {},
   "outputs": [],
   "source": [
    "%matplotlib widget\n",
    "from pathlib import Path\n",
    "\n",
    "import numpy as np\n",
    "import pandas as pd\n",
    "from bouter.utilities import crop\n",
    "from lotr import A_FISH, LotrExperiment, dataset_folders\n",
    "from matplotlib import pyplot as plt\n",
    "from tqdm import tqdm"
   ]
  },
  {
   "cell_type": "code",
   "execution_count": null,
   "id": "753e4e56",
   "metadata": {},
   "outputs": [],
   "source": [
    "# path = # master_path / \"210314_f1\" / \"210314_f1_natmov\"\n",
    "exp = LotrExperiment(A_FISH)"
   ]
  },
  {
   "cell_type": "code",
   "execution_count": null,
   "id": "3d9bbcb1",
   "metadata": {},
   "outputs": [],
   "source": [
    "bouts_df = exp.bouts_df\n",
    "regr_df = exp.motor_regressors\n",
    "\n",
    "THR = 0.4\n",
    "OFF = 0.45\n",
    "directions = \"lf\", \"rt\"\n",
    "bout_sel = dict(\n",
    "    rt=(regr_df[\"right_1\"] > (regr_df[\"left_1\"] + OFF)) & (regr_df[\"right_1\"] > THR),\n",
    "    lf=(regr_df[\"left_1\"] > (regr_df[\"right_1\"] + OFF)) & (regr_df[\"left_1\"] > THR),\n",
    ")"
   ]
  },
  {
   "cell_type": "code",
   "execution_count": null,
   "id": "65cfe78c",
   "metadata": {},
   "outputs": [],
   "source": [
    "f, axs = plt.subplots(1, 2, figsize=(6, 3))\n",
    "s = 15\n",
    "for i, coords in enumerate(\n",
    "    [[regr_df[\"right_1\"], regr_df[\"left_1\"]], [exp.coords[:, 1], exp.coords[:, 2]]]\n",
    "):\n",
    "    axs[i].scatter(coords[0], coords[1], c=(0.8,) * 3, s=s)\n",
    "    axs[i].scatter(\n",
    "        coords[0][exp.hdn_indexes],\n",
    "        coords[1][exp.hdn_indexes],\n",
    "        fc=(0.8,) * 3,\n",
    "        ec=(0.3,) * 3,\n",
    "        lw=0.5,\n",
    "        s=s,\n",
    "        label=\"HDNs\",\n",
    "    )\n",
    "\n",
    "    for k, sel in bout_sel.items():\n",
    "        axs[i].scatter(coords[0][sel], coords[1][sel], s=s, label=k + \"_sel\")\n",
    "    axs[i].axis(\"equal\")\n",
    "\n",
    "\n",
    "axs[0].plot([0, 0.5], [0, 0.5], \"k\", lw=0.5)\n",
    "axs[0].legend(frameon=False, fontsize=7)\n",
    "axs[0].set(xlabel=\"Left bouts corr.\", ylabel=\"Right bouts corr.\")\n",
    "axs[1].axis(\"off\")\n",
    "plt.tight_layout()"
   ]
  },
  {
   "cell_type": "code",
   "execution_count": null,
   "id": "e5e3368f-bb35-48ff-ac7e-829c510e8d7a",
   "metadata": {},
   "outputs": [],
   "source": []
  }
 ],
 "metadata": {
  "kernelspec": {
   "display_name": "Python 3 (ipykernel)",
   "language": "python",
   "name": "python3"
  },
  "language_info": {
   "codemirror_mode": {
    "name": "ipython",
    "version": 3
   },
   "file_extension": ".py",
   "mimetype": "text/x-python",
   "name": "python",
   "nbconvert_exporter": "python",
   "pygments_lexer": "ipython3"
  }
 },
 "nbformat": 4,
 "nbformat_minor": 5
}

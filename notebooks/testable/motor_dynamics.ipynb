{
 "cells": [
  {
   "cell_type": "markdown",
   "id": "0b8c5261",
   "metadata": {},
   "source": [
    "## Motor-selective neurons vs. heading direction neurons\n",
    "In this notebook, we compare the activity/location of neurons that are left/right motion selective, and activity of heading direction selective neurons.\n",
    "\n",
    "#### TODO\n",
    " - [ ] make map including all fish after the morphing "
   ]
  },
  {
   "cell_type": "code",
   "execution_count": null,
   "id": "3ae8221a",
   "metadata": {},
   "outputs": [],
   "source": [
    "%matplotlib widget\n",
    "from pathlib import Path\n",
    "\n",
    "import numpy as np\n",
    "import pandas as pd\n",
    "from bouter.utilities import crop\n",
    "from lotr import A_FISH, LotrExperiment, dataset_folders\n",
    "from matplotlib import pyplot as plt\n",
    "from tqdm import tqdm"
   ]
  },
  {
   "cell_type": "code",
   "execution_count": null,
   "id": "753e4e56",
   "metadata": {},
   "outputs": [],
   "source": [
    "# path = # master_path / \"210314_f1\" / \"210314_f1_natmov\"\n",
    "exp = LotrExperiment(A_FISH)"
   ]
  },
  {
   "cell_type": "code",
   "execution_count": null,
   "id": "3d9bbcb1",
   "metadata": {},
   "outputs": [],
   "source": [
    "bouts_df = exp.bouts_df\n",
    "regr_df = exp.motor_regressors\n",
    "\n",
    "THR = 0.4\n",
    "OFF = 0.45\n",
    "directions = \"lf\", \"rt\"\n",
    "bout_sel = dict(\n",
    "    rt=(regr_df[\"right_1\"] > (regr_df[\"left_1\"] + OFF)) & (regr_df[\"right_1\"] > THR),\n",
    "    lf=(regr_df[\"left_1\"] > (regr_df[\"right_1\"] + OFF)) & (regr_df[\"left_1\"] > THR),\n",
    ")"
   ]
  },
  {
   "cell_type": "code",
   "execution_count": null,
   "id": "31f91c7f-366b-46da-8a34-6d1cb4795c4c",
   "metadata": {},
   "outputs": [],
   "source": [
    "concat = exp.traces[:, regr_df[\"all_1\"]>0.7]"
   ]
  },
  {
   "cell_type": "code",
   "execution_count": null,
   "id": "44e07205-1368-49b2-bf80-e5548e168ca1",
   "metadata": {},
   "outputs": [],
   "source": [
    "from sklearn.decomposition import PCA\n",
    "\n",
    "pca = PCA(n_components=2).fit(concat.T)\n",
    "pcaed = pca.transform(concat.T)"
   ]
  },
  {
   "cell_type": "code",
   "execution_count": null,
   "id": "fa5eeea0-7192-4f43-a148-b16a5e8d19db",
   "metadata": {},
   "outputs": [],
   "source": [
    "pca.explained_variance_ratio_"
   ]
  },
  {
   "cell_type": "code",
   "execution_count": null,
   "id": "95cf5478-3061-4156-a078-a40438d2d338",
   "metadata": {},
   "outputs": [],
   "source": [
    "plt.figure()\n",
    "plt.scatter(pcaed[:, 0], pcaed[:, 1])"
   ]
  },
  {
   "cell_type": "code",
   "execution_count": null,
   "id": "1eb57720-84b7-44b4-a283-90eee4683932",
   "metadata": {},
   "outputs": [],
   "source": [
    "regressor_df = []\n",
    "for path in dataset_folders:\n",
    "    exp = LotrExperiment(path)\n",
    "    reg_df = exp.motor_regressors\n",
    "    reg_df[\"fid\"] = exp.dir_name\n",
    "    reg_df[\"hdn\"] = False\n",
    "    reg_df.loc[exp.hdn_indexes, \"hdn\"] = True\n",
    "\n",
    "    regressor_df.append(reg_df)\n",
    "\n",
    "regressor_df = pd.concat(regressor_df, ignore_index=True)"
   ]
  },
  {
   "cell_type": "code",
   "execution_count": null,
   "id": "6c59b9db-eb39-4866-842d-c6d577766348",
   "metadata": {},
   "outputs": [],
   "source": [
    "plt.figure(figsize=(3, 3))\n",
    "plt.scatter(regressor_df[\"left_1\"], regressor_df[\"right_1\"], alpha=0.1, lw=0)\n",
    "plt.scatter(\n",
    "    regressor_df.loc[regressor_df[\"hdn\"], \"left_1\"],\n",
    "    regressor_df.loc[regressor_df[\"hdn\"], \"right_1\"],\n",
    "    alpha=0.1,\n",
    "    lw=0,\n",
    ")\n",
    "plt.axis(\"equal\")"
   ]
  },
  {
   "cell_type": "code",
   "execution_count": null,
   "id": "d9b28d69-9aa5-4e5c-b351-12356b19d2fe",
   "metadata": {},
   "outputs": [],
   "source": [
    "plt.figure(figsize=(3, 3))\n",
    "plt.scatter(\n",
    "    regressor_df.loc[~regressor_df[\"hdn\"], \"all_1\"],\n",
    "    regressor_df.loc[~regressor_df[\"hdn\"], \"all_1_dfdt\"],\n",
    "    alpha=0.1,\n",
    "    lw=0,\n",
    ")\n",
    "plt.scatter(\n",
    "    regressor_df.loc[regressor_df[\"hdn\"], \"all_1\"],\n",
    "    regressor_df.loc[regressor_df[\"hdn\"], \"all_1_dfdt\"],\n",
    "    alpha=0.1,\n",
    "    lw=0,\n",
    ")\n",
    "# plt.axis(\"equal\")"
   ]
  },
  {
   "cell_type": "code",
   "execution_count": null,
   "id": "ef35648b-aef1-4060-991c-c424a6b1bab9",
   "metadata": {},
   "outputs": [],
   "source": [
    "regressor_df.columns"
   ]
  },
  {
   "cell_type": "code",
   "execution_count": null,
   "id": "65cfe78c",
   "metadata": {},
   "outputs": [],
   "source": [
    "f, axs = plt.subplots(1, 2, figsize=(6, 3))\n",
    "s = 15\n",
    "for i, coords in enumerate(\n",
    "    [[regr_df[\"right_1\"], regr_df[\"left_1\"]], [exp.coords[:, 1], exp.coords[:, 2]]]\n",
    "):\n",
    "    axs[i].scatter(coords[0], coords[1], c=(0.8,) * 3, s=s)\n",
    "    axs[i].scatter(\n",
    "        coords[0][exp.hdn_indexes],\n",
    "        coords[1][exp.hdn_indexes],\n",
    "        fc=(0.8,) * 3,\n",
    "        ec=(0.3,) * 3,\n",
    "        lw=0.5,\n",
    "        s=s,\n",
    "        label=\"HDNs\",\n",
    "    )\n",
    "\n",
    "    for k, sel in bout_sel.items():\n",
    "        axs[i].scatter(coords[0][sel], coords[1][sel], s=s, label=k + \"_sel\")\n",
    "    axs[i].axis(\"equal\")\n",
    "\n",
    "\n",
    "axs[0].plot([0, 0.5], [0, 0.5], \"k\", lw=0.5)\n",
    "axs[0].legend(frameon=False, fontsize=7)\n",
    "axs[0].set(xlabel=\"Left bouts corr.\", ylabel=\"Right bouts corr.\")\n",
    "axs[1].axis(\"off\")\n",
    "plt.tight_layout()"
   ]
  },
  {
   "cell_type": "code",
   "execution_count": null,
   "id": "e5e3368f-bb35-48ff-ac7e-829c510e8d7a",
   "metadata": {},
   "outputs": [],
   "source": []
  }
 ],
 "metadata": {
  "kernelspec": {
   "display_name": "Python 3 (ipykernel)",
   "language": "python",
   "name": "python3"
  },
  "language_info": {
   "codemirror_mode": {
    "name": "ipython",
    "version": 3
   },
   "file_extension": ".py",
   "mimetype": "text/x-python",
   "name": "python",
   "nbconvert_exporter": "python",
   "pygments_lexer": "ipython3"
  }
 },
 "nbformat": 4,
 "nbformat_minor": 5
}

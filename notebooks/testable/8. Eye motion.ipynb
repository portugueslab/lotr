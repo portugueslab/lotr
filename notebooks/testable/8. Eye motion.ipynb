{
 "cells": [
  {
   "cell_type": "code",
   "execution_count": null,
   "metadata": {},
   "outputs": [],
   "source": [
    "%matplotlib widget\n",
    "import flammkuchen as fl\n",
    "import lotr.plotting as pltltr\n",
    "import numpy as np\n",
    "import pandas as pd\n",
    "from lotr import DATASET_LOCATION, LotrExperiment, dataset_folders\n",
    "from lotr.data_preprocessing.dlc_tracking import export_dlc_behavior\n",
    "from lotr.utils import convolve_with_tau, interpolate, nan_phase_jumps, zscore\n",
    "from matplotlib import pyplot as plt\n",
    "from sklearn.linear_model import LinearRegression\n",
    "from sklearn.metrics import r2_score"
   ]
  },
  {
   "cell_type": "code",
   "execution_count": null,
   "metadata": {},
   "outputs": [],
   "source": [
    "from lotr import DATASET_LOCATION\n",
    "\n",
    "fish_with_eyes = [f.parent for f in DATASET_LOCATION.glob(\"*/*/behavior_from_dlc.h5\")]\n",
    "fish_with_eyes"
   ]
  },
  {
   "cell_type": "code",
   "execution_count": null,
   "metadata": {},
   "outputs": [],
   "source": []
  },
  {
   "cell_type": "code",
   "execution_count": null,
   "metadata": {},
   "outputs": [],
   "source": []
  },
  {
   "cell_type": "code",
   "execution_count": null,
   "metadata": {},
   "outputs": [],
   "source": [
    "def _process_reg(reg):\n",
    "    reg = convolve_with_tau(reg, int(TAU_S * exp.fs))\n",
    "    return zscore(reg)\n",
    "\n",
    "\n",
    "def draw_train_test(n_pts, wnd):\n",
    "    indexes = np.arange(n_pts - wnd, dtype=np.float)\n",
    "\n",
    "    # Draw beginning of training window:\n",
    "    train_i_start = np.random.randint(0, n_pts - wnd)\n",
    "    train_i_end = train_i_start + wnd\n",
    "\n",
    "    # Exclude training window from possible choiches:\n",
    "    indexes[train_i_start:train_i_end] = np.nan\n",
    "    # Exclude beginning and end if we are to close to limits:\n",
    "    if train_i_start < wnd:\n",
    "        indexes[:train_i_start] = np.nan\n",
    "    if n_pts - train_i_end < wnd:\n",
    "        indexes[train_i_end:] = np.nan\n",
    "\n",
    "    indexes = indexes[~np.isnan(indexes)]  # .astype(np.int)\n",
    "    test_i_start = int(np.random.choice(indexes))\n",
    "\n",
    "    return slice(train_i_start, train_i_end), slice(test_i_start, test_i_start + wnd)"
   ]
  },
  {
   "cell_type": "code",
   "execution_count": null,
   "metadata": {},
   "outputs": [],
   "source": [
    "TAU_S = 5\n",
    "\n",
    "path = fish_with_eyes[0]\n",
    "exp = LotrExperiment(path)\n",
    "dlc_df = fl.load(path / \"behavior_from_dlc.h5\", \"/data\")\n",
    "\n",
    "fictive_head = exp.fictive_heading\n",
    "phase = exp.network_phase\n",
    "\n",
    "eyes_arr = dlc_df[\"rt_eye_medfilt\"] + dlc_df[\"lf_eye_medfilt\"]\n",
    "interp_eye = interpolate(dlc_df[\"t\"], eyes_arr, exp.time_arr)\n",
    "\n",
    "data_diff_df = pd.DataFrame(\n",
    "    dict(\n",
    "        phase=_process_reg(np.diff(np.unwrap(phase))),\n",
    "        mov_regr=_process_reg(np.diff(fictive_head)),\n",
    "        eye_pos_regr=_process_reg(interp_eye[1:]),\n",
    "        eye_vel_regr=_process_reg(np.diff(interp_eye)),\n",
    "    )\n",
    ")\n",
    "data_df = pd.DataFrame(\n",
    "    dict(\n",
    "        phase=np.unwrap(phase),\n",
    "        mov_regr=_process_reg(fictive_head),\n",
    "        eye_pos_regr=_process_reg(interp_eye),\n",
    "    )\n",
    ")\n",
    "\n",
    "to_fit = data_diff_df\n",
    "\n",
    "all_coefs = []\n",
    "for _ in range(500):\n",
    "    train, test = draw_train_test(len(phase), 300 * exp.fs)\n",
    "\n",
    "    regr = LinearRegression()\n",
    "    regr.fit(\n",
    "        to_fit[[\"mov_regr\", \"eye_pos_regr\"]].values[train, :],\n",
    "        to_fit[\"phase\"].values[train],\n",
    "    )\n",
    "    pred_fit = regr.predict(to_fit[[\"mov_regr\", \"eye_pos_regr\"]].values[train, :])\n",
    "    prediction = regr.predict(to_fit[[\"mov_regr\", \"eye_pos_regr\"]].values[test, :])\n",
    "\n",
    "    # pred_r2 = r2_score(prediction, to_fit[\"phase\"][test])\n",
    "    # train_r2 = r2_score(pred_fit, to_fit[\"phase\"][train])\n",
    "\n",
    "    train_corrs = np.stack(\n",
    "        [\n",
    "            to_fit[\"phase\"][train],\n",
    "            pred_fit,\n",
    "            to_fit[\"mov_regr\"][train] * regr.coef_[0],\n",
    "            to_fit[\"eye_pos_regr\"][train] * regr.coef_[1],\n",
    "        ]\n",
    "    )\n",
    "\n",
    "    test_corrs = np.stack(\n",
    "        [\n",
    "            to_fit[\"phase\"][test],\n",
    "            prediction,\n",
    "            to_fit[\"mov_regr\"][test] * regr.coef_[0],\n",
    "            to_fit[\"eye_pos_regr\"][test] * regr.coef_[1],\n",
    "        ]\n",
    "    )\n",
    "\n",
    "    all_coefs.append(\n",
    "        np.stack([np.corrcoef(train_corrs)[0, 1:], np.corrcoef(test_corrs)[0, 1:]])\n",
    "    )\n",
    "\n",
    "all_coefs = np.array(all_coefs)"
   ]
  },
  {
   "cell_type": "code",
   "execution_count": null,
   "metadata": {},
   "outputs": [],
   "source": [
    "b = np.arange(-1, 1, 0.05)\n",
    "plt.figure()\n",
    "for i in range(3):\n",
    "    plt.hist(all_coefs[:, 0, i], b, alpha=0.3)"
   ]
  },
  {
   "cell_type": "code",
   "execution_count": null,
   "metadata": {},
   "outputs": [],
   "source": []
  },
  {
   "cell_type": "code",
   "execution_count": null,
   "metadata": {},
   "outputs": [],
   "source": []
  },
  {
   "cell_type": "code",
   "execution_count": null,
   "metadata": {},
   "outputs": [],
   "source": [
    "f, axs = plt.subplots(2, 1, figsize=(6, 4))\n",
    "axs[0].plot(\n",
    "    to_fit[[\"mov_regr\", \"eye_pos_regr\"]].values[train, :] * regr.coef_ + regr.intercept_\n",
    ")\n",
    "axs[0].plot(pred_fit)\n",
    "axs[0].plot(to_fit[\"phase\"][train].values)\n",
    "axs[0].set_title(f\"{train_r2:3.3f}, ({regr.coef_})\")\n",
    "\n",
    "axs[1].plot(\n",
    "    to_fit[[\"mov_regr\", \"eye_pos_regr\"]].values[test, :] * regr.coef_ + regr.intercept_\n",
    ")\n",
    "axs[1].plot(prediction)\n",
    "axs[1].plot(to_fit[\"phase\"][test].values)\n",
    "axs[1].set_title(f\"{pred_r2:3.3f}, ({regr.coef_})\")\n",
    "\n",
    "plt.tight_layout()"
   ]
  },
  {
   "cell_type": "code",
   "execution_count": null,
   "metadata": {},
   "outputs": [],
   "source": [
    "dir(regr)"
   ]
  },
  {
   "cell_type": "code",
   "execution_count": null,
   "metadata": {},
   "outputs": [],
   "source": [
    "plt.figure()\n",
    "plt.plot(prediction)\n",
    "plt.plot(data_df[\"phase\"][train].values)\n",
    "plt.plot(data_df.loc[:, [\"mov_regr\", \"eye_pos_regr\"]].values[train, :])"
   ]
  },
  {
   "cell_type": "code",
   "execution_count": null,
   "metadata": {},
   "outputs": [],
   "source": []
  },
  {
   "cell_type": "code",
   "execution_count": null,
   "metadata": {},
   "outputs": [],
   "source": [
    "f, axs = plt.subplots(figsize=(5, 5))\n",
    "axs.scatter(\n",
    "    data_df[\"eye_pos_regr\"],\n",
    "    data_df[\"mov_regr\"],\n",
    "    c=data_df[\"phase\"],\n",
    "    cmap=\"RdBu_r\",\n",
    "    s=5,\n",
    ")"
   ]
  },
  {
   "cell_type": "code",
   "execution_count": null,
   "metadata": {},
   "outputs": [],
   "source": [
    "f, axs = plt.subplots(2, 2, figsize=(5, 5))\n",
    "axs[0, 0].scatter(\n",
    "    phase_diff, mov_regr, c=eye_pos_regr, vmin=-1.5, vmax=1.5, cmap=\"RdBu_r\", s=5\n",
    ")\n",
    "axs[0, 1].scatter(\n",
    "    phase_diff, mov_regr, c=eye_vel_regr, vmin=-1.5, vmax=1.5, cmap=\"RdBu_r\", s=5\n",
    ")\n",
    "axs[1, 0].scatter(phase_diff, eye_pos_regr, c=mov_regr, cmap=\"RdBu_r\", s=5)\n",
    "axs[1, 1].scatter(phase_diff, eye_vel_regr, c=mov_regr, cmap=\"RdBu_r\", s=5)"
   ]
  },
  {
   "cell_type": "code",
   "execution_count": null,
   "metadata": {},
   "outputs": [],
   "source": [
    "plt.figure()\n",
    "plt.plot(zscore(mov_regr))\n",
    "plt.plot(zscore(eye_pos_regr))\n",
    "plt.plot(zscore(eye_vel_regr))\n",
    "# plt.plot(zscore(phase_diff))"
   ]
  },
  {
   "cell_type": "code",
   "execution_count": null,
   "metadata": {},
   "outputs": [],
   "source": [
    "plt.figure()\n",
    "plt.plot(exp.time_arr[1:], interp_eye)\n",
    "plt.plot(dlc_df[\"t\"], eyes_arr)"
   ]
  },
  {
   "cell_type": "code",
   "execution_count": null,
   "metadata": {},
   "outputs": [],
   "source": []
  }
 ],
 "metadata": {
  "kernelspec": {
   "display_name": "rplab",
   "language": "python",
   "name": "rplab"
  },
  "language_info": {
   "codemirror_mode": {
    "name": "ipython",
    "version": 3
   },
   "file_extension": ".py",
   "mimetype": "text/x-python",
   "name": "python",
   "nbconvert_exporter": "python",
   "pygments_lexer": "ipython3"
  }
 },
 "nbformat": 4,
 "nbformat_minor": 4
}

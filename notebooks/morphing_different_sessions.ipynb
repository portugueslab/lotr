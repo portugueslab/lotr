{
 "cells": [
  {
   "cell_type": "markdown",
   "metadata": {},
   "source": [
    "#### Morphing different session of fish 210728_f1 together "
   ]
  },
  {
   "cell_type": "code",
   "execution_count": null,
   "metadata": {},
   "outputs": [],
   "source": [
    "%%cmd\n",
    "cd C:\\Users\\lavian\\Desktop\\morphing\\f1_210728\n",
    "registration --initxlate --dofs 6,9 --auto-multi-levels 4 -o f1clol_2_f1cwccw_affine.xform anatomy_1_cwccw.nrrd anatomy_1_clol.nrrd\n",
    "reformatx -o f1clol_2_f1cwccw_affine.nrrd --floating anatomy_1_clol.nrrd anatomy_1_cwccw.nrrd f1clol_2_f1cwccw_affine.xform\n",
    "\n",
    "warp -o f1clol_2_f1cwccw_warp.xform --grid-spacing 160 --exploration 60 --energy-weight 1e-0 --refine 6 --initial f1clol_2_f1cwccw_affine.xform anatomy_1_cwccw.nrrd anatomy_1_clol.nrrd\n",
    "reformatx -o f1clol_2_f1cwccw_warp.nrrd --floating anatomy_1_clol.nrrd anatomy_1_cwccw.nrrd f1clol_2_f1cwccw_warp.xform"
   ]
  },
  {
   "cell_type": "code",
   "execution_count": null,
   "metadata": {},
   "outputs": [],
   "source": [
    "%%cmd\n",
    "cd C:\\Users\\lavian\\Desktop\\morphing\\f1_210728\n",
    "registration --initxlate --dofs 6,9 --auto-multi-levels 4 -o f1bclol_2_f1cwccw_affine.xform anatomy_1_cwccw.nrrd anatomy_1b_clol.nrrd\n",
    "reformatx -o f1bclol_2_f1cwccw_affine.nrrd --floating anatomy_1b_clol.nrrd anatomy_1_cwccw.nrrd f1bclol_2_f1cwccw_affine.xform\n",
    "\n",
    "warp -o f1bclol_2_f1cwccw_warp.xform --grid-spacing 160 --exploration 60 --energy-weight 1e-0 --refine 6 --initial f1bclol_2_f1cwccw_affine.xform anatomy_1_cwccw.nrrd anatomy_1b_clol.nrrd\n",
    "reformatx -o f1bclol_2_f1cwccw_warp.nrrd --floating anatomy_1b_clol.nrrd anatomy_1_cwccw.nrrd f1bclol_2_f1cwccw_warp.xform"
   ]
  },
  {
   "cell_type": "code",
   "execution_count": null,
   "metadata": {},
   "outputs": [],
   "source": [
    "%%cmd\n",
    "cd C:\\Users\\lavian\\Desktop\\morphing\\f1_210728\n",
    "registration --initxlate --dofs 6,9 --auto-multi-levels 4 -o f1bcwccw_2_f1cwccw_affine.xform anatomy_1_cwccw.nrrd anatomy_1b_cwccw.nrrd\n",
    "reformatx -o f1bcwccw_2_f1cwccw_affine.nrrd --floating anatomy_1b_cwccw.nrrd anatomy_1_cwccw.nrrd f1bcwccw_2_f1cwccw_affine.xform\n",
    "\n",
    "warp -o f1bcwccw_2_f1cwccw_warp.xform --grid-spacing 160 --exploration 60 --energy-weight 1e-0 --refine 6 --initial f1bcwccw_2_f1cwccw_affine.xform anatomy_1_cwccw.nrrd anatomy_1b_cwccw.nrrd\n",
    "reformatx -o f1bcwccw_2_f1cwccw_warp.nrrd --floating anatomy_1b_cwccw.nrrd anatomy_1_cwccw.nrrd f1bcwccw_2_f1cwccw_warp.xform"
   ]
  },
  {
   "cell_type": "code",
   "execution_count": null,
   "metadata": {},
   "outputs": [],
   "source": []
  }
 ],
 "metadata": {
  "kernelspec": {
   "display_name": "Python 3",
   "language": "python",
   "name": "python3"
  },
  "language_info": {
   "codemirror_mode": {
    "name": "ipython",
    "version": 3
   },
   "file_extension": ".py",
   "mimetype": "text/x-python",
   "name": "python",
   "nbconvert_exporter": "python",
   "pygments_lexer": "ipython3"
  }
 },
 "nbformat": 4,
 "nbformat_minor": 4
}

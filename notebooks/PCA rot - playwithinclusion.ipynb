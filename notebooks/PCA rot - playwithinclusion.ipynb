{
 "cells": [
  {
   "cell_type": "code",
   "execution_count": 1127,
   "metadata": {},
   "outputs": [],
   "source": [
    "%matplotlib widget\n",
    "\n",
    "from pathlib import Path\n",
    "import numpy as np\n",
    "import flammkuchen as fl\n",
    "import pandas as pd\n",
    "\n",
    "from fimpylab import LightsheetExperiment\n",
    "\n",
    "from matplotlib import  pyplot as plt\n",
    "import seaborn as sns\n",
    "from tqdm import tqdm\n",
    "sns.set(style=\"ticks\", palette=\"deep\")\n",
    "cols = sns.color_palette()\n",
    "import ipywidgets as widgets\n",
    "\n",
    "from lotr.utils import zscore\n",
    "from lotr.data_loading import preprocess_traces\n",
    "from lotr.pca import pca_and_phase, get_fictive_trajectory, fictive_trajectory_and_fit, fit_phase_neurons,qap_sorting_and_phase\n",
    "from circle_fit import hyper_fit"
   ]
  },
  {
   "cell_type": "code",
   "execution_count": 1252,
   "metadata": {},
   "outputs": [],
   "source": [
    "plt.close(\"all\")\n",
    "path = Path(\"/Users/luigipetrucco/Desktop/batch_210922/210927_f3eyes_gainmod\")\n",
    "traces = fl.load(path / \"filtered_traces.h5\", \"/detr\")\n",
    "\n",
    "reg_df = fl.load(path / \"motor_regressors.h5\")\n",
    "cc_motor = reg_df[\"all_bias_abs\"].values\n",
    "cc_motor_integr = reg_df[\"all_bias_abs_dfdt\"].values\n",
    "coords = fl.load(path / \"data_from_suite2p_unfiltered.h5\", \"/coords\")\n",
    "anat = fl.load(path / \"data_from_suite2p_unfiltered.h5\", \"/anatomy_stack\")\n",
    "traces[np.isnan(traces)] = 0\n",
    "\n",
    "df = fl.load(path / \"bouts_df.h5\")# exp.get_bout_properties()\n",
    "exp = LightsheetExperiment(path)\n",
    "fn = int(exp.fn)\n",
    "beh_df = exp.behavior_log\n",
    "\n",
    "t_start = 150\n",
    "time_slices_dict = dict(clol=(t_start*fn, 8000), \n",
    "                        cwccw=(t_start*fn, traces.shape[0] // 2),\n",
    "                        gainmod=(t_start*fn, traces.shape[0] - t_start*fn))\n",
    "t_lims = time_slices_dict[path.name.split(\"_\")[-1]]\n",
    "t_slice = slice(*t_lims)"
   ]
  },
  {
   "cell_type": "code",
   "execution_count": 1253,
   "metadata": {},
   "outputs": [
    {
     "data": {
      "application/vnd.jupyter.widget-view+json": {
       "model_id": "017c48bd2a1248028d3a44539dc241ca",
       "version_major": 2,
       "version_minor": 0
      },
      "text/plain": [
       "Canvas(toolbar=Toolbar(toolitems=[('Home', 'Reset original view', 'home', 'home'), ('Back', 'Back to previous …"
      ]
     },
     "metadata": {},
     "output_type": "display_data"
    },
    {
     "name": "stderr",
     "output_type": "stream",
     "text": [
      "*c* argument looks like a single numeric RGB or RGBA sequence, which should be avoided as value-mapping will have precedence in case its length matches with *x* & *y*.  Please use the *color* keyword-argument or provide a 2D array with a single row if you intend to specify the same RGB or RGBA value for all points.\n"
     ]
    },
    {
     "data": {
      "text/plain": [
       "(0.0, 3.0)"
      ]
     },
     "execution_count": 1253,
     "metadata": {},
     "output_type": "execute_result"
    }
   ],
   "source": [
    "sel = (df[\"t_start\"] > 10) & (df[\"t_start\"] < 2020)\n",
    "plt.figure(figsize=(5, 2))\n",
    "plt.hist(df[\"bias\"], 10, density=True, zorder=-100)\n",
    "plt.scatter(df[\"bias\"], df[\"peak_vig\"], 100, c=cols[1])\n",
    "plt.ylim(0., 3)"
   ]
  },
  {
   "cell_type": "code",
   "execution_count": 1254,
   "metadata": {},
   "outputs": [
    {
     "data": {
      "application/vnd.jupyter.widget-view+json": {
       "model_id": "e5286189bfdc4ef5a72b2924e77ec87d",
       "version_major": 2,
       "version_minor": 0
      },
      "text/plain": [
       "Canvas(toolbar=Toolbar(toolitems=[('Home', 'Reset original view', 'home', 'home'), ('Back', 'Back to previous …"
      ]
     },
     "metadata": {},
     "output_type": "display_data"
    },
    {
     "data": {
      "text/plain": [
       "<matplotlib.lines.Line2D at 0x7fbc8f9d6fd0>"
      ]
     },
     "execution_count": 1254,
     "metadata": {},
     "output_type": "execute_result"
    }
   ],
   "source": [
    "plt.figure(figsize=(3, 3))\n",
    "plt.imshow(anat.mean(0), vmax=10, vmin=0)\n",
    "#plt.scatter(coords[:, 1], coords[:, 2], c=(0.9,)*3)\n",
    "s1 = 100\n",
    "s2 = 280\n",
    "plt.axvline(s1)\n",
    "plt.axvline(s2)"
   ]
  },
  {
   "cell_type": "code",
   "execution_count": 1255,
   "metadata": {},
   "outputs": [],
   "source": [
    "sel_to_nan = (coords[:, 2] < s1) | (coords[:, 2] > s2)\n",
    "traces[:, sel_to_nan] = 0\n",
    "cc_motor[sel_to_nan] = np.nan\n",
    "cc_motor_integr[sel_to_nan] = np.nan"
   ]
  },
  {
   "cell_type": "code",
   "execution_count": 1256,
   "metadata": {},
   "outputs": [
    {
     "name": "stderr",
     "output_type": "stream",
     "text": [
      "/Users/luigipetrucco/anaconda3/envs/rplab/lib/python3.8/site-packages/numpy/lib/function_base.py:2559: RuntimeWarning: invalid value encountered in true_divide\n",
      "  c /= stddev[:, None]\n",
      "/Users/luigipetrucco/anaconda3/envs/rplab/lib/python3.8/site-packages/numpy/lib/function_base.py:2560: RuntimeWarning: invalid value encountered in true_divide\n",
      "  c /= stddev[None, :]\n",
      "<ipython-input-1256-c4b39c380f61>:7: RuntimeWarning: Mean of empty slice\n",
      "  corr_mat = np.nanmean(cc_mats, 2)\n"
     ]
    },
    {
     "data": {
      "application/vnd.jupyter.widget-view+json": {
       "model_id": "46641220f41048ff993a8f3b4a208cd5",
       "version_major": 2,
       "version_minor": 0
      },
      "text/plain": [
       "Canvas(toolbar=Toolbar(toolitems=[('Home', 'Reset original view', 'home', 'home'), ('Back', 'Back to previous …"
      ]
     },
     "metadata": {},
     "output_type": "display_data"
    },
    {
     "data": {
      "application/vnd.jupyter.widget-view+json": {
       "model_id": "95219d12909b4e00b55120c3c64eb511",
       "version_major": 2,
       "version_minor": 0
      },
      "text/plain": [
       "interactive(children=(FloatSlider(value=0.3, description='o', max=1.0, min=-0.5, step=0.02), FloatSlider(value…"
      ]
     },
     "metadata": {},
     "output_type": "display_data"
    }
   ],
   "source": [
    "cc_wnd = 500\n",
    "i_array = np.arange(t_slice.start, t_slice.stop, cc_wnd*fn)\n",
    "cc_mats = np.zeros((traces.shape[1], traces.shape[1], len(i_array)))\n",
    "\n",
    "for n, i in enumerate(i_array):\n",
    "    cc_mats[:, :, n] = np.corrcoef(traces[i:i + cc_wnd*fn, :].T)\n",
    "corr_mat = np.nanmean(cc_mats, 2)\n",
    "\n",
    "selection_arr = np.zeros(traces.shape[1])\n",
    "\n",
    "f = plt.figure(figsize=(3, 3))\n",
    "x = np.arange(-0.2, np.nanmax(cc_motor), 0.05)\n",
    "s = plt.scatter(cc_motor, cc_motor_integr, s=10, c=selection_arr, vmin=0, vmax=1)\n",
    "\n",
    "l_plot = plt.plot(x, x*0.2 + 0.15)\n",
    "l_max = plt.axvline(1)\n",
    "l_min = plt.axhline(0)\n",
    "\n",
    "@widgets.interact(c=(0.05, 2, 0.05), o=(-0.5, 1, 0.02), mot_max=(0, 1, 0.05),\n",
    "                 integr_min=(0, 1, 0.02), max_corr=(-1, 0, 0.05))\n",
    "def update(o=0.3, c=0.2, mot_max=1, integr_min=0, max_corr=-0.7):\n",
    "    l_plot[0].set_data(x, x*c + o)\n",
    "    print(cc_motor_integr.shape, cc_motor.shape, (cc_motor*c + o).shape)\n",
    "    selection_arr[:] = (cc_motor_integr > cc_motor*c + o) & \\\n",
    "                       (np.abs(cc_motor) < mot_max) & \\\n",
    "                       (np.abs(cc_motor_integr)> integr_min) | \\\n",
    "                       ((np.nanmin(corr_mat, 0) < max_corr) & \\\n",
    "                        (np.abs(cc_motor) < mot_max) & \\\n",
    "                        (np.abs(cc_motor_integr) > integr_min)) \n",
    "    l_max.set_xdata(mot_max)\n",
    "    l_min.set_ydata(integr_min)\n",
    "\n",
    "    \n",
    "    s.set_array(selection_arr)\n",
    "\n",
    "plt.ylim(-0.15, 0.4)\n",
    "plt.xlim(-0.3, 1.01)\n",
    "plt.xlabel(\"cc. traces - motor regressor\")\n",
    "plt.ylabel(\"cc. d(traces)/dt - regressor\")\n",
    "sns.despine()"
   ]
  },
  {
   "cell_type": "code",
   "execution_count": 1257,
   "metadata": {},
   "outputs": [],
   "source": [
    "selected = np.argwhere(selection_arr)[:, 0]"
   ]
  },
  {
   "cell_type": "code",
   "execution_count": 1308,
   "metadata": {},
   "outputs": [
    {
     "data": {
      "application/vnd.jupyter.widget-view+json": {
       "model_id": "177f15cd7e2348d495390313d7e12486",
       "version_major": 2,
       "version_minor": 0
      },
      "text/plain": [
       "Canvas(toolbar=Toolbar(toolitems=[('Home', 'Reset original view', 'home', 'home'), ('Back', 'Back to previous …"
      ]
     },
     "metadata": {},
     "output_type": "display_data"
    },
    {
     "data": {
      "text/plain": [
       "[<matplotlib.lines.Line2D at 0x7fbc7a42b640>]"
      ]
     },
     "execution_count": 1308,
     "metadata": {},
     "output_type": "execute_result"
    }
   ],
   "source": [
    "# selected = fl.load(path / \"selected.h5\")\n",
    "pcaed_t, phase_t = pca_and_phase(traces[t_slice, selected].T, traces[t_slice, selected].T)\n",
    "hf_c = hyper_fit(pcaed_t)\n",
    "pcaed_t_all, _ = pca_and_phase(traces[t_slice, selected].T, traces[t_slice, :].T)\n",
    "\n",
    "\n",
    "plt.figure(figsize=(7, 3))\n",
    "thr = 35\n",
    "sel = (pcaed_t[:, 0]**2+pcaed_t[:, 1]**2)**(1/2) > thr\n",
    "plt.scatter(pcaed_t[:, 0], pcaed_t[:, 1], c=sel)\n",
    "plt.scatter(pcaed_t_all[:, 0], pcaed_t_all[:, 1], edgecolor=\"k\", facecolor=\"none\", lw=0.2)\n",
    "plt.axis(\"equal\")\n",
    "\n",
    "#selected = selected[sel]\n",
    "# pcaed, phase = pca_and_phase(traces[t_slice, selected], traces[:, selected])\n",
    "#pcaed_spont, phase_spont = pca_and_phase(traces[t_slice, selected], traces[t_slice, selected])\n",
    "pcaed, phase = pca_and_phase(traces[t_slice, selected], traces[:, selected])\n",
    "\n",
    "x1 = hf_c[2]*np.cos(np.linspace(0, 2*np.pi, 100)) + hf_c[0]\n",
    "x2 = hf_c[2]*np.sin(np.linspace(0, 2*np.pi, 100)) + hf_c[1]\n",
    "\n",
    "plt.plot(x1, x2)"
   ]
  },
  {
   "cell_type": "code",
   "execution_count": 1272,
   "metadata": {},
   "outputs": [],
   "source": [
    "new_selection_arr = (np.abs(np.sqrt((pcaed_t_all[:, 0] - hf_c[0])**2 + (pcaed_t_all[:, 1] - hf_c[1])**2) - hf_c[2]) < 15) | \\\n",
    "    ((np.sqrt((pcaed_t_all[:, 0] - hf_c[0])**2 + (pcaed_t_all[:, 1] - hf_c[1])**2) - hf_c[2]) > 0)\n",
    "selected = np.argwhere(new_selection_arr)[:, 0]"
   ]
  },
  {
   "cell_type": "code",
   "execution_count": 1274,
   "metadata": {},
   "outputs": [
    {
     "data": {
      "application/vnd.jupyter.widget-view+json": {
       "model_id": "bb9234a78fa7423e8f099e794a09f33f",
       "version_major": 2,
       "version_minor": 0
      },
      "text/plain": [
       "Canvas(toolbar=Toolbar(toolitems=[('Home', 'Reset original view', 'home', 'home'), ('Back', 'Back to previous …"
      ]
     },
     "metadata": {},
     "output_type": "display_data"
    },
    {
     "name": "stdout",
     "output_type": "stream",
     "text": [
      "141\n"
     ]
    }
   ],
   "source": [
    "plt.figure(figsize=(7, 2.5))\n",
    "plt.plot(traces[:, selected] + 4)\n",
    "print(len(selected))\n",
    "plt.plot(beh_df[\"t\"]*fn, beh_df[\"tail_sum\"])\n",
    "plt.show()"
   ]
  },
  {
   "cell_type": "code",
   "execution_count": 1303,
   "metadata": {},
   "outputs": [
    {
     "data": {
      "application/vnd.jupyter.widget-view+json": {
       "model_id": "9efd1d7e88044e0da87c76503e3589f5",
       "version_major": 2,
       "version_minor": 0
      },
      "text/plain": [
       "Canvas(toolbar=Toolbar(toolitems=[('Home', 'Reset original view', 'home', 'home'), ('Back', 'Back to previous …"
      ]
     },
     "metadata": {},
     "output_type": "display_data"
    }
   ],
   "source": [
    "# plt.close(\"all\")\n",
    "pcaed, phase = pca_and_phase(traces[t_slice, selected], traces[:, selected])\n",
    "mot_t_slice = slice(traces.shape[0] // 2, traces.shape[0])\n",
    "f, axs = plt.subplots(1, 3, figsize=(7., 3.), sharex=True, sharey=True)\n",
    "# plt.subplot(1,2,1)\n",
    "phase = np.angle((pcaed[:, 0] - 2) + 1j * (pcaed[:, 1] - 3))\n",
    "for i, s in enumerate([t_slice, mot_t_slice,  slice(None, None, None)]):\n",
    "    \n",
    "    axs[i].plot(pcaed[s, 0], pcaed[s, 1], \n",
    "             c=(0.6,)*3, lw=0.5, zorder=-100) # , c=phase, cmap=\"twilight\", lw=3)\n",
    "    axs[i].scatter(pcaed[s, 0], pcaed[s, 1], \n",
    "                     c=phase[s], lw=0.5, s=5, cmap=\"twilight\",) \n",
    "    # plt.axis(\"equal\")\n",
    "sns.despine()"
   ]
  },
  {
   "cell_type": "code",
   "execution_count": 1300,
   "metadata": {},
   "outputs": [
    {
     "name": "stderr",
     "output_type": "stream",
     "text": [
      "100%|██████████| 94/94 [00:00<00:00, 180.02it/s]\n"
     ]
    },
    {
     "name": "stdout",
     "output_type": "stream",
     "text": [
      "CPU times: user 33 s, sys: 760 ms, total: 33.8 s\n",
      "Wall time: 10.3 s\n"
     ]
    },
    {
     "data": {
      "text/plain": [
       "0"
      ]
     },
     "execution_count": 1300,
     "metadata": {},
     "output_type": "execute_result"
    }
   ],
   "source": [
    "%%time\n",
    "import os\n",
    "perm, com_phase = qap_sorting_and_phase(traces[:, selected], t_lims=t_lims)\n",
    "\n",
    "phases_neuron, _ = fit_phase_neurons(traces[t_slice, selected], phase[t_slice])\n",
    "perm_pca = np.argsort(phases_neuron)\n",
    "os.system('say \"Fit completed\"')"
   ]
  },
  {
   "cell_type": "code",
   "execution_count": 1307,
   "metadata": {},
   "outputs": [
    {
     "data": {
      "application/vnd.jupyter.widget-view+json": {
       "model_id": "b28ec03dada84b38bf819eb36f6b44b5",
       "version_major": 2,
       "version_minor": 0
      },
      "text/plain": [
       "Canvas(toolbar=Toolbar(toolitems=[('Home', 'Reset original view', 'home', 'home'), ('Back', 'Back to previous …"
      ]
     },
     "metadata": {},
     "output_type": "display_data"
    },
    {
     "data": {
      "text/plain": [
       "<matplotlib.image.AxesImage at 0x7fbc7b8207f0>"
      ]
     },
     "execution_count": 1307,
     "metadata": {},
     "output_type": "execute_result"
    }
   ],
   "source": [
    "l = 2\n",
    "f, axs = plt.subplots(2,2, figsize=(7, 7), sharey=True)\n",
    "# plt.subplot(121)\n",
    "axs[0, 0].imshow(np.corrcoef(traces[t_slice, selected].T)[perm, :][:, perm], \n",
    "           vmax=1, vmin=-1, cmap=\"RdBu_r\", aspect=\"auto\")\n",
    "\n",
    "axs[0, 1].imshow(traces[:, selected[perm]].T, cmap=\"gray_r\", interpolation=\"none\",\n",
    "              aspect=\"auto\", vmin=-l, vmax=l)\n",
    "\n",
    "axs[1, 0].imshow(np.corrcoef(traces[t_slice, selected].T)[perm_pca, :][:, perm_pca], \n",
    "           vmax=1, vmin=-1, cmap=\"RdBu_r\", aspect=\"auto\")\n",
    "\n",
    "axs[1,1].imshow(traces[:, selected[perm_pca]].T, cmap=\"gray_r\", interpolation=\"none\",\n",
    "              aspect=\"auto\", vmin=-l, vmax=l)\n"
   ]
  },
  {
   "cell_type": "code",
   "execution_count": 1299,
   "metadata": {},
   "outputs": [],
   "source": [
    "# old_selected = selected.copy()\n",
    "rm_from_selected = np.array([11, 13, 18, 19, 21, 23, 25, 28, 30, 32, 37])\n",
    "selected[perm[rm_from_selected]] = -1\n",
    "##for i in s:# [23,  64,  82, 110, 152, 193,  87, 127, 143,  57,  33, 226, 201,  89, 155,  92,  34]:\n",
    "#    if i is not \" \" and i is not \"\":\n",
    "#        selected[perm == int(i)] = -1\n",
    "selected = selected[selected > 0]"
   ]
  },
  {
   "cell_type": "code",
   "execution_count": 1302,
   "metadata": {},
   "outputs": [
    {
     "name": "stdout",
     "output_type": "stream",
     "text": [
      "[-7.34254097 -2.567252  ]\n"
     ]
    },
    {
     "data": {
      "application/vnd.jupyter.widget-view+json": {
       "model_id": "39063d8cf26446208f73a4a1e9acc300",
       "version_major": 2,
       "version_minor": 0
      },
      "text/plain": [
       "Canvas(toolbar=Toolbar(toolitems=[('Home', 'Reset original view', 'home', 'home'), ('Back', 'Back to previous …"
      ]
     },
     "metadata": {},
     "output_type": "display_data"
    },
    {
     "data": {
      "text/plain": [
       "[<matplotlib.lines.Line2D at 0x7fbc74d105e0>]"
      ]
     },
     "execution_count": 1302,
     "metadata": {},
     "output_type": "execute_result"
    }
   ],
   "source": [
    "unwrapped_phase = np.unwrap(phase)\n",
    "unwrapped_com_phase = np.unwrap(com_phase)\n",
    "\n",
    "traj, params = fictive_trajectory_and_fit(unwrapped_phase, df, min_bias=0.1)\n",
    "print(params)\n",
    "\n",
    "plt.figure(figsize=(7, 3))\n",
    "plt.scatter(np.arange(len(traj[:])), zscore(unwrapped_phase), \n",
    "            c=phase[:], cmap=\"twilight\", s=2)\n",
    "plt.scatter(np.arange(len(traj[:])), zscore(unwrapped_com_phase), \n",
    "            c=com_phase[:], cmap=\"twilight\", s=0.2)\n",
    "plt.plot(-zscore(traj), c=cols[1])"
   ]
  },
  {
   "cell_type": "code",
   "execution_count": 1309,
   "metadata": {},
   "outputs": [
    {
     "data": {
      "application/vnd.jupyter.widget-view+json": {
       "model_id": "3c8079f2992a49e0a343867b5861dcf1",
       "version_major": 2,
       "version_minor": 0
      },
      "text/plain": [
       "Canvas(toolbar=Toolbar(toolitems=[('Home', 'Reset original view', 'home', 'home'), ('Back', 'Back to previous …"
      ]
     },
     "metadata": {},
     "output_type": "display_data"
    },
    {
     "name": "stderr",
     "output_type": "stream",
     "text": [
      "*c* argument looks like a single numeric RGB or RGBA sequence, which should be avoided as value-mapping will have precedence in case its length matches with *x* & *y*.  Please use the *color* keyword-argument or provide a 2D array with a single row if you intend to specify the same RGB or RGBA value for all points.\n",
      "*c* argument looks like a single numeric RGB or RGBA sequence, which should be avoided as value-mapping will have precedence in case its length matches with *x* & *y*.  Please use the *color* keyword-argument or provide a 2D array with a single row if you intend to specify the same RGB or RGBA value for all points.\n"
     ]
    },
    {
     "data": {
      "text/plain": [
       "(11.974509803921569, 254.53529411764706, 39.21630097087379, 302.0887475728155)"
      ]
     },
     "execution_count": 1309,
     "metadata": {},
     "output_type": "execute_result"
    }
   ],
   "source": [
    "f, axs = plt.subplots(1, 2, figsize=(6, 3))\n",
    "s = coords[:, 0] > 0\n",
    "selection = np.full(coords.shape[0], False)\n",
    "selection[selected] = True\n",
    "all_phases = np.zeros(coords.shape[0])\n",
    "all_phases[selected] = phases_neuron\n",
    "\n",
    "all_perm = -np.ones(coords.shape[0])\n",
    "all_perm[selected] = perm\n",
    "\n",
    "axs[0].scatter(coords[s, 1], coords[s, 2], c=(0.5,)*3)\n",
    "axs[0].scatter(coords[s, :][selection[s], 1], coords[s, :][selection[s], 2],\n",
    "            c=all_phases[s][selection[s]], cmap=\"twilight\")\n",
    "axs[0].axis(\"equal\")\n",
    "axs[0].axis(\"off\")\n",
    "\n",
    "axs[1].scatter(coords[s, 1], coords[s, 2], c=(0.5,)*3)\n",
    "axs[1].scatter(coords[s, :][selection[s], 1], coords[s, :][selection[s], 2],\n",
    "            c=np.linspace(-np.pi, np.pi, sum(all_perm[s] >= 0)+1)[np.argsort(all_perm[s][all_perm[s] >= 0])] , \n",
    "               cmap=\"twilight\")\n",
    "axs[1].axis(\"equal\")\n",
    "axs[1].axis(\"off\")"
   ]
  },
  {
   "cell_type": "code",
   "execution_count": null,
   "metadata": {},
   "outputs": [],
   "source": [
    "plt.figure(figsize=(8, 3.5))\n",
    "plt.subplot(221)\n",
    "#sel = # (coords[selected, 1] < 50 ) #& (coords[selected, 1] < 209) & \\\n",
    "        # (coords[selected, 2] > 206 ) & (coords[selected, 2] < 250)\n",
    "sel = (coords[selected, 2] < 167 )\n",
    "plt.scatter(coords[selected, 1], \n",
    "            np.linspace(-np.pi, np.pi, perm.max()+1)[np.argsort(perm)] )\n",
    "plt.subplot(222)\n",
    "plt.scatter(coords[selected, 1], perm)\n",
    "\n",
    "plt.subplot(223)\n",
    "plt.scatter(coords[selected[sel], 1], \n",
    "            np.linspace(-np.pi, np.pi, perm.max()+1)[np.argsort(perm)][sel] )\n",
    "plt.subplot(224)\n",
    "plt.scatter(coords[selected[sel], 1], perm[sel])\n",
    "print(perm[sel])"
   ]
  },
  {
   "cell_type": "code",
   "execution_count": null,
   "metadata": {},
   "outputs": [],
   "source": []
  },
  {
   "cell_type": "code",
   "execution_count": 1310,
   "metadata": {},
   "outputs": [],
   "source": [
    "fl.save(path / \"selected.h5\", selected)"
   ]
  },
  {
   "cell_type": "code",
   "execution_count": null,
   "metadata": {},
   "outputs": [],
   "source": []
  },
  {
   "cell_type": "code",
   "execution_count": 77,
   "metadata": {},
   "outputs": [
    {
     "data": {
      "application/vnd.jupyter.widget-view+json": {
       "model_id": "01d4362027cd4c92b1960a37148acb3c",
       "version_major": 2,
       "version_minor": 0
      },
      "text/plain": [
       "Canvas(toolbar=Toolbar(toolitems=[('Home', 'Reset original view', 'home', 'home'), ('Back', 'Back to previous …"
      ]
     },
     "metadata": {},
     "output_type": "display_data"
    },
    {
     "data": {
      "text/plain": [
       "(-89.43453865051269, 93.88069801330566, -60.719933319091794, 75.67397384643554)"
      ]
     },
     "execution_count": 77,
     "metadata": {},
     "output_type": "execute_result"
    }
   ],
   "source": [
    "from sklearn.decomposition import PCA\n",
    "from circle_fit import hyper_fit\n",
    "comp0, comp1 = 0, 1\n",
    "\n",
    "traces_fit = traces[2000:8000, selected].T\n",
    "traces_transform = traces_fit\n",
    "if traces_transform is None:\n",
    "    traces_transform = traces_fit\n",
    "\n",
    "# Compute PCA and transform traces:\n",
    "pca = PCA(n_components=5).fit(traces_fit)\n",
    "pcaed_t = pca.transform(traces_transform)\n",
    "\n",
    "# Fit circle:\n",
    "hf_c = hyper_fit(pcaed[:, [comp0, comp1]])\n",
    "\n",
    "# Compute phase, after subtracting center of the circle\n",
    "phase_t = np.angle((pcaed_t[:, 0] - hf_c[0]) + 1j * (pcaed_t[:, 1] - hf_c[1]))\n",
    "\n",
    "plt.figure(figsize=(7, 3))\n",
    "plt.scatter(pcaed_t[:, 0], pcaed_t[:, 1], c=phase_t, cmap=\"twilight\")\n",
    "plt.axis(\"equal\")"
   ]
  },
  {
   "cell_type": "code",
   "execution_count": 78,
   "metadata": {},
   "outputs": [
    {
     "data": {
      "application/vnd.jupyter.widget-view+json": {
       "model_id": "4389a24fc9f5472ca8df902e9a2152f7",
       "version_major": 2,
       "version_minor": 0
      },
      "text/plain": [
       "Canvas(toolbar=Toolbar(toolitems=[('Home', 'Reset original view', 'home', 'home'), ('Back', 'Back to previous …"
      ]
     },
     "metadata": {},
     "output_type": "display_data"
    },
    {
     "ename": "NameError",
     "evalue": "name 'idx_l' is not defined",
     "output_type": "error",
     "traceback": [
      "\u001b[0;31m---------------------------------------------------------------------------\u001b[0m",
      "\u001b[0;31mNameError\u001b[0m                                 Traceback (most recent call last)",
      "\u001b[0;32m<ipython-input-78-cc7c15732230>\u001b[0m in \u001b[0;36m<module>\u001b[0;34m\u001b[0m\n\u001b[1;32m     13\u001b[0m for x, ax, idx_list, cmap, title in zip(np.arange(3), \n\u001b[1;32m     14\u001b[0m                                      \u001b[0maxs\u001b[0m\u001b[0;34m,\u001b[0m\u001b[0;34m\u001b[0m\u001b[0;34m\u001b[0m\u001b[0m\n\u001b[0;32m---> 15\u001b[0;31m                                      \u001b[0;34m[\u001b[0m\u001b[0midx_l\u001b[0m\u001b[0;34m,\u001b[0m \u001b[0midx_r\u001b[0m\u001b[0;34m,\u001b[0m \u001b[0mrandom_trig\u001b[0m\u001b[0;34m]\u001b[0m\u001b[0;34m,\u001b[0m\u001b[0;34m\u001b[0m\u001b[0;34m\u001b[0m\u001b[0m\n\u001b[0m\u001b[1;32m     16\u001b[0m                                      \u001b[0;34m[\u001b[0m\u001b[0;34m\"Blues\"\u001b[0m\u001b[0;34m,\u001b[0m \u001b[0;34m\"Reds\"\u001b[0m\u001b[0;34m,\u001b[0m \u001b[0;34m\"gray_r\"\u001b[0m\u001b[0;34m]\u001b[0m\u001b[0;34m,\u001b[0m\u001b[0;34m\u001b[0m\u001b[0;34m\u001b[0m\u001b[0m\n\u001b[1;32m     17\u001b[0m                                      [\"Left bouts\", \"Right bouts\", \"Shuffle\"]):   \n",
      "\u001b[0;31mNameError\u001b[0m: name 'idx_l' is not defined"
     ]
    }
   ],
   "source": [
    "# plt.close(\"all\")\n",
    "plot_t_s = 10\n",
    "plot_t_pts = int(plot_t_s * fn)\n",
    "\n",
    "rot_wnd_s = 1\n",
    "rot_wnd_pts = int(rot_wnd_s * fn)\n",
    "\n",
    "f, axs = plt.subplots(1, 3, figsize=(8, 3), sharex=True, sharey=True)\n",
    "# [ax.set_xlabel(\"PC 1\") for ax in axs]\n",
    "# axs[0].set_ylabel(\"PC 2\")\n",
    "\n",
    "cbars = []\n",
    "for x, ax, idx_list, cmap, title in zip(np.arange(3), \n",
    "                                     axs, \n",
    "                                     [idx_l, idx_r, random_trig], \n",
    "                                     [\"Blues\", \"Reds\", \"gray_r\"],\n",
    "                                     [\"Left bouts\", \"Right bouts\", \"Shuffle\"]):   \n",
    "    for l in idx_list[:]:\n",
    "        try:\n",
    "            crop_seg = pcaed[l:l+plot_t_pts, :2]\n",
    "            crop_seg = crop_seg - crop_seg[0, :]\n",
    "            th = np.arctan2(crop_seg[rot_wnd_pts, 0] - crop_seg[0, 0], \n",
    "                            crop_seg[rot_wnd_pts, 1] - crop_seg[0, 1])\n",
    "\n",
    "            rot_mat = np.array([[np.cos(th), np.sin(th)], [-np.sin(th), np.cos(th)]]).T \n",
    "            crop_seg = (rot_mat @ crop_seg[:, :].T).T\n",
    "            ax.plot(crop_seg[::3, 0], crop_seg[::3, 1], c=(0.4,)*3, lw=0.3, zorder=-100)\n",
    "            ax.scatter(crop_seg[::3, 0], crop_seg[::3, 1], c=np.arange(len(crop_seg[::3, 1])), cmap=cmap, s=1)\n",
    "            #cp = color_plot(crop_seg[::3, 0], crop_seg[::3, 1], ax=ax,\n",
    "             #          cmap=cmap, lw=1)\n",
    "        except IndexError:\n",
    "            pass\n",
    "    cbars.append(add_cbar((0.93, 0.8 + 0.026*x, 0.06, 0.023), cp, label=\"time (s)\" if x==2 else \"\", \n",
    "                          ticks=[], orientation=\"horizontal\"))\n",
    "    ax.set_title(title)\n",
    "    # elif x == 1:\n",
    "    # elif x == 2:\n",
    "    ax.axvline(0, lw=0.5, c=(0.4,)*3)\n",
    "    ax.axhline(0, lw=0.5, c=(0.4,)*3)\n",
    "\n",
    "plt.tight_layout()\n",
    "sns.despine()\n",
    "\n",
    "cbars[0].set_ticks([0, 0.95])\n",
    "cbars[0].set_ticklabels([0, plot_t_s])"
   ]
  },
  {
   "cell_type": "code",
   "execution_count": 730,
   "metadata": {},
   "outputs": [
    {
     "data": {
      "application/vnd.jupyter.widget-view+json": {
       "model_id": "b24d7c8cd5384bc494238c11a559aeca",
       "version_major": 2,
       "version_minor": 0
      },
      "text/plain": [
       "Canvas(toolbar=Toolbar(toolitems=[('Home', 'Reset original view', 'home', 'home'), ('Back', 'Back to previous …"
      ]
     },
     "metadata": {},
     "output_type": "display_data"
    },
    {
     "name": "stderr",
     "output_type": "stream",
     "text": [
      "<ipython-input-730-ef9dc3fac9ea>:32: UserWarning: This figure includes Axes that are not compatible with tight_layout, so results might be incorrect.\n",
      "  plt.tight_layout()\n",
      "<ipython-input-730-ef9dc3fac9ea>:32: UserWarning: This figure was using constrained_layout==True, but that is incompatible with subplots_adjust and or tight_layout: setting constrained_layout==False. \n",
      "  plt.tight_layout()\n"
     ]
    }
   ],
   "source": [
    "plt.close(\"all\")\n",
    "plot_t_s = 8\n",
    "plot_t_pts = int(plot_t_s * fn)\n",
    "\n",
    "f, axs = plt.subplots(1, 3, figsize=(8, 3), sharex=True, sharey=True)\n",
    "[ax.set_xlabel(\"PC 1\") for ax in axs]\n",
    "axs[0].set_ylabel(\"PC 2\")\n",
    "\n",
    "cbars = []\n",
    "for x, ax, idx_list, cmap, title in zip(np.arange(3), \n",
    "                                     axs, \n",
    "                                     [idx_l, idx_r, random_trig], \n",
    "                                     [\"Blues\", \"Reds\", \"gray_r\"],\n",
    "                                     [\"Left bouts\", \"Right bouts\", \"Shuffle\"]):   \n",
    "    for l in idx_list:\n",
    "        try:\n",
    "            crop_seg = pcaed[l:l+plot_t_pts, :2]\n",
    "            # crop_seg = crop_seg - crop_seg[0, :]\n",
    "            #cp = color_plot(crop_seg[::3, 0], crop_seg[::3, 1], ax=ax,\n",
    "            #           cmap=cmap, lw=1)\n",
    "            ax.plot(crop_seg[::3, 0], crop_seg[::3, 1], c=(0.4,)*3, lw=0.3, zorder=-100)\n",
    "            ax.scatter(crop_seg[::3, 0], crop_seg[::3, 1], c=np.arange(len(crop_seg[::3, 1])), cmap=cmap, s=1)\n",
    "            \n",
    "        except (IndexError, ValueError):\n",
    "            pass\n",
    "    cbars.append(add_cbar((0.92, 0.8 + 0.026*x, 0.06, 0.023), cp, label=\"time (s)\" if x==2 else \"\", \n",
    "                          ticks=[], orientation=\"horizontal\"))\n",
    "    ax.set_title(title)\n",
    "    # elif x == 1:\n",
    "    # elif x == 2:\n",
    "        \n",
    "plt.tight_layout()\n",
    "sns.despine()\n",
    "\n",
    "cbars[0].set_ticks([0, 0.8])\n",
    "cbars[0].set_ticklabels([0, plot_t_s])"
   ]
  },
  {
   "cell_type": "code",
   "execution_count": 501,
   "metadata": {},
   "outputs": [
    {
     "data": {
      "text/plain": [
       "PosixPath('/Volumes/Shared/experiments/E0040_motions_cardinal/v15_playback/210511_f3b_natmov')"
      ]
     },
     "execution_count": 501,
     "metadata": {},
     "output_type": "execute_result"
    }
   ],
   "source": [
    "path"
   ]
  },
  {
   "cell_type": "code",
   "execution_count": 121,
   "metadata": {},
   "outputs": [],
   "source": [
    "fl.save(path / \"selected_new.h5\", selected)"
   ]
  },
  {
   "cell_type": "code",
   "execution_count": null,
   "metadata": {},
   "outputs": [],
   "source": [
    "master_path = Path(\"/Volumes/Shared/experiments/E0040_motions_cardinal_old/v15_playback\")\n",
    "all_list = list(master_path.glob(\"[0-9]*_f[0-9]*\"))\n",
    "all_valid = list(master_path.glob(\"[0-9]*_f[0-9]*/selected.h5\"))\n",
    "print(f\"{len(all_valid)}/{len(all_list)}\")"
   ]
  },
  {
   "cell_type": "code",
   "execution_count": 1160,
   "metadata": {},
   "outputs": [
    {
     "data": {
      "application/vnd.jupyter.widget-view+json": {
       "model_id": "1c3ddb25979240ccb923aba41e1d5393",
       "version_major": 2,
       "version_minor": 0
      },
      "text/plain": [
       "Canvas(toolbar=Toolbar(toolitems=[('Home', 'Reset original view', 'home', 'home'), ('Back', 'Back to previous …"
      ]
     },
     "metadata": {},
     "output_type": "display_data"
    },
    {
     "name": "stderr",
     "output_type": "stream",
     "text": [
      "<ipython-input-1160-f1976b198914>:29: UserWarning: This figure includes Axes that are not compatible with tight_layout, so results might be incorrect.\n",
      "  plt.tight_layout()\n",
      "<ipython-input-1160-f1976b198914>:29: UserWarning: This figure was using constrained_layout==True, but that is incompatible with subplots_adjust and or tight_layout: setting constrained_layout==False. \n",
      "  plt.tight_layout()\n"
     ]
    }
   ],
   "source": [
    "plt.close(\"all\")\n",
    "plot_t_s = 8\n",
    "plot_t_pts = int(plot_t_s * fn)\n",
    "\n",
    "f, axs = plt.subplots(1, 3, figsize=(8, 3), sharex=True, sharey=True)\n",
    "[ax.set_xlabel(\"PC 1\") for ax in axs]\n",
    "axs[0].set_ylabel(\"PC 2\")\n",
    "\n",
    "cbars = []\n",
    "for x, ax, idx_list, cmap, title in zip(np.arange(3), \n",
    "                                     axs, \n",
    "                                     [idx_l, idx_r, random_trig], \n",
    "                                     [\"Blues\", \"Reds\", \"gray_r\"],\n",
    "                                     [\"Left bouts\", \"Right bouts\", \"Shuffle\"]):   \n",
    "    for l in idx_list:\n",
    "        try:\n",
    "            crop_seg = pcaed[l:l+plot_t_pts, :2]\n",
    "            # crop_seg = crop_seg - crop_seg[0, :]\n",
    "            cp = color_plot(crop_seg[:, 0], crop_seg[:, 1], ax=ax,\n",
    "                       cmap=cmap, lw=1)\n",
    "        except IndexError:\n",
    "            pass\n",
    "    cbars.append(add_cbar((0.92, 0.8 + 0.026*x, 0.06, 0.023), cp, label=\"time (s)\" if x==2 else \"\", \n",
    "                          ticks=[], orientation=\"horizontal\"))\n",
    "    ax.set_title(title)\n",
    "    # elif x == 1:\n",
    "    # elif x == 2:\n",
    "        \n",
    "plt.tight_layout()\n",
    "sns.despine()\n",
    "\n",
    "cbars[0].set_ticks([0, 0.8])\n",
    "cbars[0].set_ticklabels([0, plot_t_s])"
   ]
  },
  {
   "cell_type": "code",
   "execution_count": null,
   "metadata": {},
   "outputs": [],
   "source": []
  }
 ],
 "metadata": {
  "kernelspec": {
   "display_name": "rplab",
   "language": "python",
   "name": "rplab"
  },
  "language_info": {
   "codemirror_mode": {
    "name": "ipython",
    "version": 3
   },
   "file_extension": ".py",
   "mimetype": "text/x-python",
   "name": "python",
   "nbconvert_exporter": "python",
   "pygments_lexer": "ipython3",
   "version": "3.8.3"
  }
 },
 "nbformat": 4,
 "nbformat_minor": 4
}

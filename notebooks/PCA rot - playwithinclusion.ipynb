{
 "cells": [
  {
   "cell_type": "code",
   "execution_count": 611,
   "metadata": {},
   "outputs": [],
   "source": [
    "%matplotlib widget"
   ]
  },
  {
   "cell_type": "code",
   "execution_count": 612,
   "metadata": {},
   "outputs": [],
   "source": [
    "from fimpylab import LightsheetExperiment"
   ]
  },
  {
   "cell_type": "code",
   "execution_count": 613,
   "metadata": {},
   "outputs": [],
   "source": [
    "from pathlib import Path\n",
    "import numpy as np\n",
    "from matplotlib import  pyplot as plt\n",
    "import flammkuchen as fl\n",
    "import pandas as pd\n",
    "\n",
    "from fimpylab import autoload_experiment\n",
    "\n",
    "import pandas as pd\n",
    "\n",
    "import seaborn as sns\n",
    "from tqdm import tqdm\n",
    "sns.set(style=\"ticks\", palette=\"deep\")\n",
    "cols = sns.color_palette()\n",
    "import ipywidgets as widgets\n",
    "\n",
    "plt.rcParams['figure.constrained_layout.use'] = True\n",
    "plt.rcParams['font.family'] = 'sans-serif'\n",
    "plt.rcParams['font.sans-serif'] = ['Libertinus Sans']\n",
    "\n",
    "# %autoreload\n",
    "from lotr.utils import zscore\n",
    "from lotr.data_loading import preprocess_traces\n",
    "from lotr.pca import pca_and_phase, get_fictive_trajectory, fictive_trajectory_and_fit\n",
    "\n",
    "import scipy.optimize as soo\n",
    "\n",
    "def qap_sorting_and_phase(traces, t_lims=None):\n",
    "    n_pts, n = traces.shape\n",
    "    \n",
    "    if t_lims is None:\n",
    "        t_lims = (0, n_pts)\n",
    "    \n",
    "    distance = np.corrcoef(traces[t_lims[0]:t_lims[1], :].T)\n",
    "\n",
    "    flow = np.zeros((n, n))\n",
    "    toshift = np.cos(np.linspace(-np.pi, np.pi, n))\n",
    "    for i in range(n):\n",
    "        flow[i, :] = np.roll(toshift, i)\n",
    "\n",
    "    options = {\"P0\": \"randomized\"}\n",
    "    res = min([soo.quadratic_assignment(flow, distance, method=\"faq\", options = options) \n",
    "                 for i in range(1000)], key=lambda x: x.fun)\n",
    "\n",
    "    options = {\"partial_guess\": np.array([np.arange(n), res.col_ind]).T}\n",
    "    res = soo.quadratic_assignment(flow, distance, method=\"2opt\", options=options)\n",
    "\n",
    "    perm = res[\"col_ind\"]\n",
    "    \n",
    "    traces_sorted = traces[:, perm]\n",
    "\n",
    "    base = np.linspace(0, 2*np.pi, traces_sorted.shape[1])\n",
    "    com_phase = np.arctan2(np.sum(np.sin(base) * traces_sorted, 1), \n",
    "                           np.sum(np.cos(base) * traces_sorted, 1)) \n",
    "    \n",
    "    return perm, com_phase"
   ]
  },
  {
   "cell_type": "code",
   "execution_count": 763,
   "metadata": {},
   "outputs": [],
   "source": [
    "plt.close(\"all\")\n",
    "path = Path(\"/Users/luigipetrucco/Desktop/source_data_batch1/210728_f1_cwccw\")\n",
    "traces = fl.load(path / \"filtered_traces.h5\", \"/detr\")\n",
    "\n",
    "reg_df = fl.load(path / \"motor_regressors.h5\")\n",
    "cc_motor = reg_df[\"all_bias_abs\"].values\n",
    "cc_motor_integr = reg_df[\"all_bias_abs_dfdt\"].values\n",
    "\n",
    "df = fl.load(path / \"bouts_df.h5\")# exp.get_bout_properties()\n",
    "exp = LightsheetExperiment(path)\n",
    "fn = int(exp.fn)\n",
    "beh_df = exp.behavior_log"
   ]
  },
  {
   "cell_type": "code",
   "execution_count": 764,
   "metadata": {},
   "outputs": [
    {
     "data": {
      "application/vnd.jupyter.widget-view+json": {
       "model_id": "1587822689ac422e9fdf6574821544f5",
       "version_major": 2,
       "version_minor": 0
      },
      "text/plain": [
       "Canvas(toolbar=Toolbar(toolitems=[('Home', 'Reset original view', 'home', 'home'), ('Back', 'Back to previous …"
      ]
     },
     "metadata": {},
     "output_type": "display_data"
    },
    {
     "name": "stderr",
     "output_type": "stream",
     "text": [
      "*c* argument looks like a single numeric RGB or RGBA sequence, which should be avoided as value-mapping will have precedence in case its length matches with *x* & *y*.  Please use the *color* keyword-argument or provide a 2D array with a single row if you intend to specify the same RGB or RGBA value for all points.\n"
     ]
    },
    {
     "data": {
      "text/plain": [
       "<matplotlib.collections.PathCollection at 0x7fdff3c1f220>"
      ]
     },
     "execution_count": 764,
     "metadata": {},
     "output_type": "execute_result"
    }
   ],
   "source": [
    "sel = (df[\"t_start\"] > 10) & (df[\"t_start\"] < 2020)\n",
    "plt.figure(figsize=(5, 2))\n",
    "plt.hist(df[\"bias\"], 10, density=True, zorder=-100)\n",
    "plt.scatter(df[\"bias\"], df[\"peak_vig\"], 100, c=cols[1])"
   ]
  },
  {
   "cell_type": "code",
   "execution_count": 765,
   "metadata": {},
   "outputs": [
    {
     "data": {
      "application/vnd.jupyter.widget-view+json": {
       "model_id": "e1b19bf5cf3f4c5aa9492819301a9c6f",
       "version_major": 2,
       "version_minor": 0
      },
      "text/plain": [
       "Canvas(toolbar=Toolbar(toolitems=[('Home', 'Reset original view', 'home', 'home'), ('Back', 'Back to previous …"
      ]
     },
     "metadata": {},
     "output_type": "display_data"
    },
    {
     "data": {
      "application/vnd.jupyter.widget-view+json": {
       "model_id": "af7adf90e36640f98961cdc107ecf21a",
       "version_major": 2,
       "version_minor": 0
      },
      "text/plain": [
       "interactive(children=(FloatSlider(value=0.15, description='o', max=1.0, min=-0.5, step=0.02), FloatSlider(valu…"
      ]
     },
     "metadata": {},
     "output_type": "display_data"
    }
   ],
   "source": [
    "t_lims = (1000, 5100)\n",
    "t_slice = slice(*t_lims)\n",
    "\n",
    "corr_mat = np.corrcoef(traces[t_slice, :].T)\n",
    "selection_arr = np.zeros(traces.shape[1])\n",
    "\n",
    "f = plt.figure(figsize=(3, 3))\n",
    "x = np.arange(-0.2, cc_motor.max(), 0.05)\n",
    "s = plt.scatter(cc_motor, cc_motor_integr, s=10, c=selection_arr, vmin=0, vmax=1)\n",
    "\n",
    "l = plt.plot(x, x*0.2 + 0.15)\n",
    "l_max = plt.axvline(1)\n",
    "l_min = plt.axhline(0)\n",
    "\n",
    "@widgets.interact(c=(0.05, 2, 0.05), o=(-0.5, 1, 0.02), mot_max=(0, 1, 0.05),\n",
    "                 integr_min=(0, 1, 0.05), max_corr=(-1, 0, 0.05))\n",
    "def update(o=0.15, c=0.2, mot_max=1, integr_min=0, max_corr=-1):\n",
    "    l[0].set_data(x, x*c + o)\n",
    "    print(cc_motor_integr.shape, cc_motor.shape, (cc_motor*c + o).shape)\n",
    "    selection_arr[:] = (cc_motor_integr > cc_motor*c + o) & \\\n",
    "                       (np.abs(cc_motor) < mot_max) & \\\n",
    "                       (np.abs(cc_motor_integr)> integr_min) | \\\n",
    "                       ((np.min(corr_mat, 0) < max_corr) & (np.abs(cc_motor) < mot_max)) \n",
    "    l_max.set_xdata(mot_max)\n",
    "    l_min.set_ydata(integr_min)\n",
    "\n",
    "    \n",
    "    s.set_array(selection_arr)\n",
    "\n",
    "plt.ylim(-0.15, 0.4)\n",
    "plt.xlim(-0.3, 1.01)\n",
    "plt.xlabel(\"cc. traces - motor regressor\")\n",
    "plt.ylabel(\"cc. d(traces)/dt - regressor\")\n",
    "sns.despine()"
   ]
  },
  {
   "cell_type": "code",
   "execution_count": 774,
   "metadata": {},
   "outputs": [
    {
     "data": {
      "application/vnd.jupyter.widget-view+json": {
       "model_id": "85d57a38862b48c69ebb369a9bf416f6",
       "version_major": 2,
       "version_minor": 0
      },
      "text/plain": [
       "Canvas(toolbar=Toolbar(toolitems=[('Home', 'Reset original view', 'home', 'home'), ('Back', 'Back to previous …"
      ]
     },
     "metadata": {},
     "output_type": "display_data"
    }
   ],
   "source": [
    "selected = np.argwhere(selection_arr)[:, 0]\n",
    "#selected = fl.load(path / \"selected.h5\")\n",
    "\n",
    "pcaed_t, phase_t = pca_and_phase(traces[t_slice, selected].T, traces[t_slice, selected].T)\n",
    "\n",
    "plt.figure(figsize=(7, 3))\n",
    "thr = 35\n",
    "sel = (pcaed_t[:, 0]**2+pcaed_t[:, 1]**2)**(1/2) > thr\n",
    "plt.scatter(pcaed_t[:, 0], pcaed_t[:, 1], c=sel)\n",
    "plt.axis(\"equal\")\n",
    "\n",
    "#selected = selected[sel]\n",
    "# pcaed, phase = pca_and_phase(traces[t_slice, selected], traces[:, selected])\n",
    "#pcaed_spont, phase_spont = pca_and_phase(traces[t_slice, selected], traces[t_slice, selected])\n",
    "pcaed, phase = pca_and_phase(traces[2000:8000, selected], traces[:, selected])"
   ]
  },
  {
   "cell_type": "code",
   "execution_count": 775,
   "metadata": {},
   "outputs": [
    {
     "data": {
      "application/vnd.jupyter.widget-view+json": {
       "model_id": "e63077bed8344580a046afa1367d7ba2",
       "version_major": 2,
       "version_minor": 0
      },
      "text/plain": [
       "Canvas(toolbar=Toolbar(toolitems=[('Home', 'Reset original view', 'home', 'home'), ('Back', 'Back to previous …"
      ]
     },
     "metadata": {},
     "output_type": "display_data"
    },
    {
     "name": "stdout",
     "output_type": "stream",
     "text": [
      "106\n"
     ]
    }
   ],
   "source": [
    "plt.figure(figsize=(7, 2.5))\n",
    "plt.plot(traces[:, selected] + 4)\n",
    "print(len(selected))\n",
    "plt.plot(beh_df[\"t\"]*5, beh_df[\"tail_sum\"])\n",
    "plt.show()"
   ]
  },
  {
   "cell_type": "code",
   "execution_count": 776,
   "metadata": {},
   "outputs": [
    {
     "data": {
      "application/vnd.jupyter.widget-view+json": {
       "model_id": "ecf253ffc2b747cdabacff54bac1b1e5",
       "version_major": 2,
       "version_minor": 0
      },
      "text/plain": [
       "Canvas(toolbar=Toolbar(toolitems=[('Home', 'Reset original view', 'home', 'home'), ('Back', 'Back to previous …"
      ]
     },
     "metadata": {},
     "output_type": "display_data"
    }
   ],
   "source": [
    "# plt.close(\"all\")\n",
    "mot_t_slice = slice(5100, 10200)\n",
    "f, axs = plt.subplots(1, 3, figsize=(7., 3.), sharex=True, sharey=True)\n",
    "# plt.subplot(1,2,1)\n",
    "# phase = np.angle((pcaed[:, 0]) + 1j * (pcaed[:, 1]))\n",
    "axs[0].plot(pcaed[t_slice, 0], pcaed[t_slice, 1], \n",
    "         c=(0.6,)*3, lw=0.5, zorder=-100) # , c=phase, cmap=\"twilight\", lw=3)\n",
    "axs[0].scatter(pcaed[t_slice, 0], pcaed[t_slice, 1], \n",
    "                 c=phase[t_slice], lw=0.5, s=5, cmap=\"twilight\",) \n",
    "\n",
    "axs[1].plot(pcaed[mot_t_slice, 0], pcaed[mot_t_slice, 1], \n",
    "         c=(0.6,)*3, lw=0.5, zorder=-100) # , c=phase, cmap=\"twilight\", lw=3)\n",
    "axs[1].scatter(pcaed[mot_t_slice, 0], pcaed[mot_t_slice, 1], \n",
    "                 c=phase[mot_t_slice], lw=0.5, s=5, cmap=\"twilight\",) \n",
    "\n",
    "axs[2].plot(pcaed[:, 0], pcaed[:, 1], \n",
    "         c=(0.6,)*3, lw=0.5, zorder=-100) # , c=phase, cmap=\"twilight\", lw=3)\n",
    "axs[2].scatter(pcaed[:, 0], pcaed[:, 1], \n",
    "                 c=phase[:], lw=0.5, s=5, cmap=\"twilight\",) \n",
    "sns.despine()"
   ]
  },
  {
   "cell_type": "code",
   "execution_count": 777,
   "metadata": {},
   "outputs": [],
   "source": [
    "perm, com_phase = qap_sorting_and_phase(traces[:, selected], t_lims=(1000, 5100))"
   ]
  },
  {
   "cell_type": "code",
   "execution_count": 778,
   "metadata": {},
   "outputs": [
    {
     "data": {
      "application/vnd.jupyter.widget-view+json": {
       "model_id": "27cffe9ede114d0581c34b643daa2ad8",
       "version_major": 2,
       "version_minor": 0
      },
      "text/plain": [
       "Canvas(toolbar=Toolbar(toolitems=[('Home', 'Reset original view', 'home', 'home'), ('Back', 'Back to previous …"
      ]
     },
     "metadata": {},
     "output_type": "display_data"
    },
    {
     "data": {
      "text/plain": [
       "<matplotlib.image.AxesImage at 0x7fdff1f171f0>"
      ]
     },
     "execution_count": 778,
     "metadata": {},
     "output_type": "execute_result"
    }
   ],
   "source": [
    "plt.figure(figsize=(7, 3))\n",
    "plt.subplot(121)\n",
    "plt.imshow(np.corrcoef(traces[1000:5100, selected].T)[perm, :][:, perm], \n",
    "           vmax=1, vmin=-1, cmap=\"RdBu_r\")\n",
    "\n",
    "plt.subplot(122)\n",
    "plt.imshow(traces[:, selected[perm]].T, cmap=\"gray_r\", aspect=\"auto\")"
   ]
  },
  {
   "cell_type": "code",
   "execution_count": 781,
   "metadata": {},
   "outputs": [
    {
     "name": "stdout",
     "output_type": "stream",
     "text": [
      "[13.48404596 -2.068904  ]\n"
     ]
    },
    {
     "data": {
      "application/vnd.jupyter.widget-view+json": {
       "model_id": "7f62f5e103b14f129e3261d61a86d203",
       "version_major": 2,
       "version_minor": 0
      },
      "text/plain": [
       "Canvas(toolbar=Toolbar(toolitems=[('Home', 'Reset original view', 'home', 'home'), ('Back', 'Back to previous …"
      ]
     },
     "metadata": {},
     "output_type": "display_data"
    },
    {
     "data": {
      "text/plain": [
       "[<matplotlib.lines.Line2D at 0x7fdff0a48790>]"
      ]
     },
     "execution_count": 781,
     "metadata": {},
     "output_type": "execute_result"
    }
   ],
   "source": [
    "unwrapped_phase = np.unwrap(phase)\n",
    "unwrapped_com_phase = np.unwrap(com_phase)\n",
    "\n",
    "traj, params = fictive_trajectory_and_fit(unwrapped_phase, df, min_bias=0.01)\n",
    "print(params)\n",
    "\n",
    "plt.figure(figsize=(7, 3))\n",
    "#plt.scatter(np.arange(len(traj[:])), -zscore(unwrapped_phase), \n",
    "#            c=phase[:], cmap=\"twilight\", s=2)\n",
    "plt.scatter(np.arange(len(traj[:])), -zscore(unwrapped_com_phase), \n",
    "            c=com_phase[:], cmap=\"twilight\", s=0.2)\n",
    "plt.plot(zscore(traj), c=cols[1])"
   ]
  },
  {
   "cell_type": "code",
   "execution_count": 782,
   "metadata": {},
   "outputs": [],
   "source": [
    "coords = fl.load(path / \"data_from_suite2p_unfiltered.h5\", \"/coords\")"
   ]
  },
  {
   "cell_type": "code",
   "execution_count": 783,
   "metadata": {},
   "outputs": [
    {
     "data": {
      "application/vnd.jupyter.widget-view+json": {
       "model_id": "7ac7fa302cd9447ab8dcd5f6d07dce9d",
       "version_major": 2,
       "version_minor": 0
      },
      "text/plain": [
       "Canvas(toolbar=Toolbar(toolitems=[('Home', 'Reset original view', 'home', 'home'), ('Back', 'Back to previous …"
      ]
     },
     "metadata": {},
     "output_type": "display_data"
    },
    {
     "name": "stderr",
     "output_type": "stream",
     "text": [
      "*c* argument looks like a single numeric RGB or RGBA sequence, which should be avoided as value-mapping will have precedence in case its length matches with *x* & *y*.  Please use the *color* keyword-argument or provide a 2D array with a single row if you intend to specify the same RGB or RGBA value for all points.\n"
     ]
    },
    {
     "data": {
      "text/plain": [
       "(7.40472074468085, 291.37586436170216, 5.819523809523808, 283.56777777777774)"
      ]
     },
     "execution_count": 783,
     "metadata": {},
     "output_type": "execute_result"
    }
   ],
   "source": [
    "plt.figure(figsize=(4, 4))\n",
    "plt.scatter(coords[:, 1], coords[:, 2], c=(0.9,)*3)\n",
    "plt.scatter(coords[selected, 1], coords[selected, 2],\n",
    "            c=np.linspace(-np.pi, np.pi, perm.max()+1)[np.argsort(perm)] , cmap=\"twilight\")\n",
    "plt.axis(\"equal\")\n",
    "plt.axis(\"off\")"
   ]
  },
  {
   "cell_type": "code",
   "execution_count": null,
   "metadata": {},
   "outputs": [],
   "source": []
  },
  {
   "cell_type": "code",
   "execution_count": null,
   "metadata": {},
   "outputs": [],
   "source": []
  },
  {
   "cell_type": "code",
   "execution_count": 366,
   "metadata": {},
   "outputs": [],
   "source": [
    "fl.save(path / \"selected.h5\", selected)"
   ]
  },
  {
   "cell_type": "code",
   "execution_count": null,
   "metadata": {},
   "outputs": [],
   "source": []
  },
  {
   "cell_type": "code",
   "execution_count": 77,
   "metadata": {},
   "outputs": [
    {
     "data": {
      "application/vnd.jupyter.widget-view+json": {
       "model_id": "01d4362027cd4c92b1960a37148acb3c",
       "version_major": 2,
       "version_minor": 0
      },
      "text/plain": [
       "Canvas(toolbar=Toolbar(toolitems=[('Home', 'Reset original view', 'home', 'home'), ('Back', 'Back to previous …"
      ]
     },
     "metadata": {},
     "output_type": "display_data"
    },
    {
     "data": {
      "text/plain": [
       "(-89.43453865051269, 93.88069801330566, -60.719933319091794, 75.67397384643554)"
      ]
     },
     "execution_count": 77,
     "metadata": {},
     "output_type": "execute_result"
    }
   ],
   "source": [
    "from sklearn.decomposition import PCA\n",
    "from circle_fit import hyper_fit\n",
    "comp0, comp1 = 0, 1\n",
    "\n",
    "traces_fit = traces[2000:8000, selected].T\n",
    "traces_transform = traces_fit\n",
    "if traces_transform is None:\n",
    "    traces_transform = traces_fit\n",
    "\n",
    "# Compute PCA and transform traces:\n",
    "pca = PCA(n_components=5).fit(traces_fit)\n",
    "pcaed_t = pca.transform(traces_transform)\n",
    "\n",
    "# Fit circle:\n",
    "hf_c = hyper_fit(pcaed[:, [comp0, comp1]])\n",
    "\n",
    "# Compute phase, after subtracting center of the circle\n",
    "phase_t = np.angle((pcaed_t[:, 0] - hf_c[0]) + 1j * (pcaed_t[:, 1] - hf_c[1]))\n",
    "\n",
    "plt.figure(figsize=(7, 3))\n",
    "plt.scatter(pcaed_t[:, 0], pcaed_t[:, 1], c=phase_t, cmap=\"twilight\")\n",
    "plt.axis(\"equal\")"
   ]
  },
  {
   "cell_type": "code",
   "execution_count": 78,
   "metadata": {},
   "outputs": [
    {
     "data": {
      "application/vnd.jupyter.widget-view+json": {
       "model_id": "4389a24fc9f5472ca8df902e9a2152f7",
       "version_major": 2,
       "version_minor": 0
      },
      "text/plain": [
       "Canvas(toolbar=Toolbar(toolitems=[('Home', 'Reset original view', 'home', 'home'), ('Back', 'Back to previous …"
      ]
     },
     "metadata": {},
     "output_type": "display_data"
    },
    {
     "ename": "NameError",
     "evalue": "name 'idx_l' is not defined",
     "output_type": "error",
     "traceback": [
      "\u001b[0;31m---------------------------------------------------------------------------\u001b[0m",
      "\u001b[0;31mNameError\u001b[0m                                 Traceback (most recent call last)",
      "\u001b[0;32m<ipython-input-78-cc7c15732230>\u001b[0m in \u001b[0;36m<module>\u001b[0;34m\u001b[0m\n\u001b[1;32m     13\u001b[0m for x, ax, idx_list, cmap, title in zip(np.arange(3), \n\u001b[1;32m     14\u001b[0m                                      \u001b[0maxs\u001b[0m\u001b[0;34m,\u001b[0m\u001b[0;34m\u001b[0m\u001b[0;34m\u001b[0m\u001b[0m\n\u001b[0;32m---> 15\u001b[0;31m                                      \u001b[0;34m[\u001b[0m\u001b[0midx_l\u001b[0m\u001b[0;34m,\u001b[0m \u001b[0midx_r\u001b[0m\u001b[0;34m,\u001b[0m \u001b[0mrandom_trig\u001b[0m\u001b[0;34m]\u001b[0m\u001b[0;34m,\u001b[0m\u001b[0;34m\u001b[0m\u001b[0;34m\u001b[0m\u001b[0m\n\u001b[0m\u001b[1;32m     16\u001b[0m                                      \u001b[0;34m[\u001b[0m\u001b[0;34m\"Blues\"\u001b[0m\u001b[0;34m,\u001b[0m \u001b[0;34m\"Reds\"\u001b[0m\u001b[0;34m,\u001b[0m \u001b[0;34m\"gray_r\"\u001b[0m\u001b[0;34m]\u001b[0m\u001b[0;34m,\u001b[0m\u001b[0;34m\u001b[0m\u001b[0;34m\u001b[0m\u001b[0m\n\u001b[1;32m     17\u001b[0m                                      [\"Left bouts\", \"Right bouts\", \"Shuffle\"]):   \n",
      "\u001b[0;31mNameError\u001b[0m: name 'idx_l' is not defined"
     ]
    }
   ],
   "source": [
    "# plt.close(\"all\")\n",
    "plot_t_s = 10\n",
    "plot_t_pts = int(plot_t_s * fn)\n",
    "\n",
    "rot_wnd_s = 1\n",
    "rot_wnd_pts = int(rot_wnd_s * fn)\n",
    "\n",
    "f, axs = plt.subplots(1, 3, figsize=(8, 3), sharex=True, sharey=True)\n",
    "# [ax.set_xlabel(\"PC 1\") for ax in axs]\n",
    "# axs[0].set_ylabel(\"PC 2\")\n",
    "\n",
    "cbars = []\n",
    "for x, ax, idx_list, cmap, title in zip(np.arange(3), \n",
    "                                     axs, \n",
    "                                     [idx_l, idx_r, random_trig], \n",
    "                                     [\"Blues\", \"Reds\", \"gray_r\"],\n",
    "                                     [\"Left bouts\", \"Right bouts\", \"Shuffle\"]):   \n",
    "    for l in idx_list[:]:\n",
    "        try:\n",
    "            crop_seg = pcaed[l:l+plot_t_pts, :2]\n",
    "            crop_seg = crop_seg - crop_seg[0, :]\n",
    "            th = np.arctan2(crop_seg[rot_wnd_pts, 0] - crop_seg[0, 0], \n",
    "                            crop_seg[rot_wnd_pts, 1] - crop_seg[0, 1])\n",
    "\n",
    "            rot_mat = np.array([[np.cos(th), np.sin(th)], [-np.sin(th), np.cos(th)]]).T \n",
    "            crop_seg = (rot_mat @ crop_seg[:, :].T).T\n",
    "            ax.plot(crop_seg[::3, 0], crop_seg[::3, 1], c=(0.4,)*3, lw=0.3, zorder=-100)\n",
    "            ax.scatter(crop_seg[::3, 0], crop_seg[::3, 1], c=np.arange(len(crop_seg[::3, 1])), cmap=cmap, s=1)\n",
    "            #cp = color_plot(crop_seg[::3, 0], crop_seg[::3, 1], ax=ax,\n",
    "             #          cmap=cmap, lw=1)\n",
    "        except IndexError:\n",
    "            pass\n",
    "    cbars.append(add_cbar((0.93, 0.8 + 0.026*x, 0.06, 0.023), cp, label=\"time (s)\" if x==2 else \"\", \n",
    "                          ticks=[], orientation=\"horizontal\"))\n",
    "    ax.set_title(title)\n",
    "    # elif x == 1:\n",
    "    # elif x == 2:\n",
    "    ax.axvline(0, lw=0.5, c=(0.4,)*3)\n",
    "    ax.axhline(0, lw=0.5, c=(0.4,)*3)\n",
    "\n",
    "plt.tight_layout()\n",
    "sns.despine()\n",
    "\n",
    "cbars[0].set_ticks([0, 0.95])\n",
    "cbars[0].set_ticklabels([0, plot_t_s])"
   ]
  },
  {
   "cell_type": "code",
   "execution_count": 730,
   "metadata": {},
   "outputs": [
    {
     "data": {
      "application/vnd.jupyter.widget-view+json": {
       "model_id": "b24d7c8cd5384bc494238c11a559aeca",
       "version_major": 2,
       "version_minor": 0
      },
      "text/plain": [
       "Canvas(toolbar=Toolbar(toolitems=[('Home', 'Reset original view', 'home', 'home'), ('Back', 'Back to previous …"
      ]
     },
     "metadata": {},
     "output_type": "display_data"
    },
    {
     "name": "stderr",
     "output_type": "stream",
     "text": [
      "<ipython-input-730-ef9dc3fac9ea>:32: UserWarning: This figure includes Axes that are not compatible with tight_layout, so results might be incorrect.\n",
      "  plt.tight_layout()\n",
      "<ipython-input-730-ef9dc3fac9ea>:32: UserWarning: This figure was using constrained_layout==True, but that is incompatible with subplots_adjust and or tight_layout: setting constrained_layout==False. \n",
      "  plt.tight_layout()\n"
     ]
    }
   ],
   "source": [
    "plt.close(\"all\")\n",
    "plot_t_s = 8\n",
    "plot_t_pts = int(plot_t_s * fn)\n",
    "\n",
    "f, axs = plt.subplots(1, 3, figsize=(8, 3), sharex=True, sharey=True)\n",
    "[ax.set_xlabel(\"PC 1\") for ax in axs]\n",
    "axs[0].set_ylabel(\"PC 2\")\n",
    "\n",
    "cbars = []\n",
    "for x, ax, idx_list, cmap, title in zip(np.arange(3), \n",
    "                                     axs, \n",
    "                                     [idx_l, idx_r, random_trig], \n",
    "                                     [\"Blues\", \"Reds\", \"gray_r\"],\n",
    "                                     [\"Left bouts\", \"Right bouts\", \"Shuffle\"]):   \n",
    "    for l in idx_list:\n",
    "        try:\n",
    "            crop_seg = pcaed[l:l+plot_t_pts, :2]\n",
    "            # crop_seg = crop_seg - crop_seg[0, :]\n",
    "            #cp = color_plot(crop_seg[::3, 0], crop_seg[::3, 1], ax=ax,\n",
    "            #           cmap=cmap, lw=1)\n",
    "            ax.plot(crop_seg[::3, 0], crop_seg[::3, 1], c=(0.4,)*3, lw=0.3, zorder=-100)\n",
    "            ax.scatter(crop_seg[::3, 0], crop_seg[::3, 1], c=np.arange(len(crop_seg[::3, 1])), cmap=cmap, s=1)\n",
    "            \n",
    "        except (IndexError, ValueError):\n",
    "            pass\n",
    "    cbars.append(add_cbar((0.92, 0.8 + 0.026*x, 0.06, 0.023), cp, label=\"time (s)\" if x==2 else \"\", \n",
    "                          ticks=[], orientation=\"horizontal\"))\n",
    "    ax.set_title(title)\n",
    "    # elif x == 1:\n",
    "    # elif x == 2:\n",
    "        \n",
    "plt.tight_layout()\n",
    "sns.despine()\n",
    "\n",
    "cbars[0].set_ticks([0, 0.8])\n",
    "cbars[0].set_ticklabels([0, plot_t_s])"
   ]
  },
  {
   "cell_type": "code",
   "execution_count": 501,
   "metadata": {},
   "outputs": [
    {
     "data": {
      "text/plain": [
       "PosixPath('/Volumes/Shared/experiments/E0040_motions_cardinal/v15_playback/210511_f3b_natmov')"
      ]
     },
     "execution_count": 501,
     "metadata": {},
     "output_type": "execute_result"
    }
   ],
   "source": [
    "path"
   ]
  },
  {
   "cell_type": "code",
   "execution_count": 121,
   "metadata": {},
   "outputs": [],
   "source": [
    "fl.save(path / \"selected_new.h5\", selected)"
   ]
  },
  {
   "cell_type": "code",
   "execution_count": null,
   "metadata": {},
   "outputs": [],
   "source": [
    "master_path = Path(\"/Volumes/Shared/experiments/E0040_motions_cardinal_old/v15_playback\")\n",
    "all_list = list(master_path.glob(\"[0-9]*_f[0-9]*\"))\n",
    "all_valid = list(master_path.glob(\"[0-9]*_f[0-9]*/selected.h5\"))\n",
    "print(f\"{len(all_valid)}/{len(all_list)}\")"
   ]
  },
  {
   "cell_type": "code",
   "execution_count": 1160,
   "metadata": {},
   "outputs": [
    {
     "data": {
      "application/vnd.jupyter.widget-view+json": {
       "model_id": "1c3ddb25979240ccb923aba41e1d5393",
       "version_major": 2,
       "version_minor": 0
      },
      "text/plain": [
       "Canvas(toolbar=Toolbar(toolitems=[('Home', 'Reset original view', 'home', 'home'), ('Back', 'Back to previous …"
      ]
     },
     "metadata": {},
     "output_type": "display_data"
    },
    {
     "name": "stderr",
     "output_type": "stream",
     "text": [
      "<ipython-input-1160-f1976b198914>:29: UserWarning: This figure includes Axes that are not compatible with tight_layout, so results might be incorrect.\n",
      "  plt.tight_layout()\n",
      "<ipython-input-1160-f1976b198914>:29: UserWarning: This figure was using constrained_layout==True, but that is incompatible with subplots_adjust and or tight_layout: setting constrained_layout==False. \n",
      "  plt.tight_layout()\n"
     ]
    }
   ],
   "source": [
    "plt.close(\"all\")\n",
    "plot_t_s = 8\n",
    "plot_t_pts = int(plot_t_s * fn)\n",
    "\n",
    "f, axs = plt.subplots(1, 3, figsize=(8, 3), sharex=True, sharey=True)\n",
    "[ax.set_xlabel(\"PC 1\") for ax in axs]\n",
    "axs[0].set_ylabel(\"PC 2\")\n",
    "\n",
    "cbars = []\n",
    "for x, ax, idx_list, cmap, title in zip(np.arange(3), \n",
    "                                     axs, \n",
    "                                     [idx_l, idx_r, random_trig], \n",
    "                                     [\"Blues\", \"Reds\", \"gray_r\"],\n",
    "                                     [\"Left bouts\", \"Right bouts\", \"Shuffle\"]):   \n",
    "    for l in idx_list:\n",
    "        try:\n",
    "            crop_seg = pcaed[l:l+plot_t_pts, :2]\n",
    "            # crop_seg = crop_seg - crop_seg[0, :]\n",
    "            cp = color_plot(crop_seg[:, 0], crop_seg[:, 1], ax=ax,\n",
    "                       cmap=cmap, lw=1)\n",
    "        except IndexError:\n",
    "            pass\n",
    "    cbars.append(add_cbar((0.92, 0.8 + 0.026*x, 0.06, 0.023), cp, label=\"time (s)\" if x==2 else \"\", \n",
    "                          ticks=[], orientation=\"horizontal\"))\n",
    "    ax.set_title(title)\n",
    "    # elif x == 1:\n",
    "    # elif x == 2:\n",
    "        \n",
    "plt.tight_layout()\n",
    "sns.despine()\n",
    "\n",
    "cbars[0].set_ticks([0, 0.8])\n",
    "cbars[0].set_ticklabels([0, plot_t_s])"
   ]
  },
  {
   "cell_type": "code",
   "execution_count": null,
   "metadata": {},
   "outputs": [],
   "source": []
  }
 ],
 "metadata": {
  "kernelspec": {
   "display_name": "rplab",
   "language": "python",
   "name": "rplab"
  },
  "language_info": {
   "codemirror_mode": {
    "name": "ipython",
    "version": 3
   },
   "file_extension": ".py",
   "mimetype": "text/x-python",
   "name": "python",
   "nbconvert_exporter": "python",
   "pygments_lexer": "ipython3",
   "version": "3.8.3"
  }
 },
 "nbformat": 4,
 "nbformat_minor": 4
}

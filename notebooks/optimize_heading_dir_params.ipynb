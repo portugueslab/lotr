{
 "cells": [
  {
   "cell_type": "code",
   "execution_count": null,
   "id": "1b06603a",
   "metadata": {},
   "outputs": [],
   "source": [
    "%matplotlib widget\n",
    "from pathlib import Path\n",
    "import numpy as np\n",
    "import pandas as pd\n",
    "from tqdm import tqdm\n",
    "from matplotlib import pyplot as plt\n",
    "from matplotlib import gridspec\n",
    "# import matplotlib.gridspec as gridspec\n",
    "# from scipy.optimize import curve_fit\n",
    "from bouter.utilities import predictive_tail_fill, crop\n",
    "\n",
    "from lotr import LotrExperiment, DATASET_LOCATION\n",
    "\n",
    "# from lotr.plotting import despine, add_scalebar, get_circle_xy, color_stack, add_cbar, dark_col\n",
    "from lotr.pca import pca_and_phase, fit_phase_neurons\n",
    "from lotr.rpca_calculation import get_normalized_coords, reorient_pcs, match_rpc_and_neuron_phases\n",
    "from lotr.plotting import dark_col\n",
    "from lotr.utils import zscore, get_vect_angle, reduce_to_pi\n",
    "from lotr.behavior import get_fictive_heading\n",
    "\n",
    "from itertools import product\n",
    "def match_rpc_and_neuron_phases(rpc_phases, neuron_phases):\n",
    "    \"\"\"Function to match phase fit from neuron's best activation\n",
    "    over network trajectory to neuron phase in rPC.\n",
    "\n",
    "    Parameters\n",
    "    ----------\n",
    "    rpc_phases\n",
    "    neuron_phases\n",
    "\n",
    "    Returns\n",
    "    -------\n",
    "\n",
    "    \"\"\"\n",
    "    shifts = np.arange(-np.pi, np.pi, 0.1)\n",
    "    coefs = [-1, 1]# np.arange(-2, 2, 0.2)\n",
    "    params_list = list(product(coefs, shifts))\n",
    "    residuals = np.zeros(len(params_list))\n",
    "    for i, (coef, shift) in enumerate(params_list):\n",
    "        new_phases = reduce_to_pi(neuron_phases * coef + shift)\n",
    "        residuals[i] = np.sum(np.abs(new_phases - rpc_phases))\n",
    "\n",
    "    return params_list[np.argmin(residuals)]"
   ]
  },
  {
   "cell_type": "code",
   "execution_count": null,
   "id": "d847915b",
   "metadata": {},
   "outputs": [],
   "source": [
    "# List all experiments\n",
    "master_path = Path(DATASET_LOCATION)\n",
    "file_list = sorted([f.parent for f in master_path.glob(\"*/*[0-9]_f*/selected.h5\")])"
   ]
  },
  {
   "cell_type": "code",
   "execution_count": null,
   "id": "61558a3f",
   "metadata": {},
   "outputs": [],
   "source": [
    "pooled_bouts = []\n",
    "for path in file_list:\n",
    "    exp = LotrExperiment(path)\n",
    "    pooled_bouts.append(exp.bouts_df)"
   ]
  },
  {
   "cell_type": "code",
   "execution_count": null,
   "id": "9c685ba3",
   "metadata": {},
   "outputs": [],
   "source": [
    "pooled_bouts = []\n",
    "for path in file_list:\n",
    "    exp = LotrExperiment(path)\n",
    "    pooled_bouts.append(exp.bouts_df)\n",
    "    \n",
    "pooled_bouts = pd.concat(pooled_bouts, axis=0)"
   ]
  },
  {
   "cell_type": "code",
   "execution_count": null,
   "id": "3ee9abd6",
   "metadata": {},
   "outputs": [],
   "source": [
    "plt.figure(figsize=(4, 4))\n",
    "\n",
    "plt.scatter(pooled_bouts[\"bias\"], pooled_bouts[\"bias_total\"], \n",
    "            c=(pooled_bouts[\"n_pos_peaks\"]+pooled_bouts[\"n_neg_peaks\"])>4, \n",
    "            s=5, lw=0)\n",
    "# plt.scatter(pooled_bouts[\"med_vig\"], pooled_bouts[\"peak_vig\"],\n",
    "#             vmax=2, vmin=0.1, s=5, lw=0)\n",
    "    \n",
    "plt.axvline(0, c=(0.4,)*3)\n",
    "plt.axhline(0, c=(0.4,)*3)"
   ]
  },
  {
   "cell_type": "code",
   "execution_count": null,
   "id": "301bd6a9",
   "metadata": {},
   "outputs": [],
   "source": [
    "plt.figure(figsize=(4, 3))\n",
    "plt.hist(pooled_bouts.loc[:, \"bias\"], \n",
    "         np.arange(-2, 2, 0.05), alpha=0.2, density=True)\n",
    "plt.yscale(\"log\")"
   ]
  },
  {
   "cell_type": "code",
   "execution_count": null,
   "id": "821d4c27",
   "metadata": {},
   "outputs": [],
   "source": [
    "def load_and_phase(path):    \n",
    "    exp = LotrExperiment(path)\n",
    "    traces = exp.traces[:, exp.hdn_indexes]\n",
    "\n",
    "    # Compute PCA in population dim\n",
    "    pcaed, phase, pca, circle_params = pca_and_phase(traces)\n",
    "\n",
    "    # Compute preferred phase of each neuron:\n",
    "    neuron_phases, _ = fit_phase_neurons(traces, phase, disable_bar=True)\n",
    "\n",
    "    # Compute PCA in time, fit circle and center projections:\n",
    "    pcaed_t, phase_t, pca_t, circle_params_t = pca_and_phase(traces.T)\n",
    "    cpc_scores = pcaed_t[:, :2] - circle_params_t[:2]\n",
    "\n",
    "    coords = exp.coords[exp.hdn_indexes, :]\n",
    "    w_coords = get_normalized_coords(coords)\n",
    "\n",
    "    # rotate pcs:\n",
    "    rpc_scores = reorient_pcs(cpc_scores, w_coords)\n",
    "\n",
    "    # We can now calculate a phase for each neuron from their position in this rotated space:\n",
    "    rpc_phases = np.angle(rpc_scores[:, 0] + 1j * rpc_scores[:, 1])\n",
    "\n",
    "    min_params = match_rpc_and_neuron_phases(rpc_phases, neuron_phases)\n",
    "    \n",
    "    norm_activity = get_normalized_coords(traces.T).T\n",
    "    avg_vects = np.einsum(\"ij,ik->jk\", norm_activity.T, rpc_scores[:, :2])\n",
    "\n",
    "    angles = get_vect_angle(avg_vects.T) #[:, 0], pcaed_t[:, 1]\n",
    "    return phase, angles"
   ]
  },
  {
   "cell_type": "code",
   "execution_count": null,
   "id": "30537caa",
   "metadata": {},
   "outputs": [],
   "source": [
    "pooled_phases = []\n",
    "pooled_angles = []\n",
    "for path in file_list:\n",
    "    exp = LotrExperiment(path)\n",
    "    phase, angle = load_and_phase(path)\n",
    "    pooled_phases.append(phase)\n",
    "    pooled_angles.append(angle)"
   ]
  },
  {
   "cell_type": "code",
   "execution_count": null,
   "id": "86ff7882",
   "metadata": {},
   "outputs": [],
   "source": [
    "pooled_headings = []\n",
    "for path in file_list:\n",
    "    exp = LotrExperiment(path)\n",
    "    pooled_headings.append(get_fictive_heading(\n",
    "        exp.n_pts, exp.bouts_df, min_bias=0\n",
    "    ))\n",
    "#    dicts_for_df.append(exp_id=path.name,\n",
    "#                        )"
   ]
  },
  {
   "cell_type": "code",
   "execution_count": null,
   "id": "5716df04",
   "metadata": {},
   "outputs": [],
   "source": [
    "from numba import njit, prange\n",
    "\n",
    "@njit(parallel=True)\n",
    "def quantify_corr_with_heading(phase, fictive_heading, wnd_pts=500):\n",
    "    n_pts = len(fictive_heading)\n",
    "\n",
    "    correlations = np.zeros(len(phase) - 2*wnd_pts)\n",
    "    for i in prange(len(correlations)):\n",
    "        t_slice = slice(i, i+wnd_pts*2)\n",
    "        correlations[i] = np.corrcoef(phase[t_slice], \n",
    "                                      fictive_heading[t_slice])[0, 1]\n",
    "\n",
    "    return correlations"
   ]
  },
  {
   "cell_type": "code",
   "execution_count": null,
   "id": "e75f94e3",
   "metadata": {},
   "outputs": [],
   "source": [
    "vals_list = []\n",
    "bad = [28, 26, 14, 2, 6, 19, 23, 25]\n",
    "for i, (phase, angle, head, exp) in tqdm(enumerate(\n",
    "    zip(pooled_phases, pooled_angles, pooled_headings, file_list))):\n",
    "    f, ax = plt.subplots(2, 1, figsize=(8, 4), sharex=True)\n",
    "    ax[1].plot(zscore(head), label=\"heading dir.\")\n",
    "    for wnd in (range(50, 2000, 200)):\n",
    "        \n",
    "        for data, k, c in zip([phase, angle], [\"phase\", \"angle\"], [(0.8, 0.2,0.3), (0.2, 0.8, 0.3)]):\n",
    "            corrs = quantify_corr_with_heading(-np.unwrap(data), head, wnd_pts=wnd)\n",
    "\n",
    "            vals_list.append({\"wnd\": wnd,\n",
    "                                  \"bad\": i in bad,\n",
    "                                  \"exp_id\": exp.name,\n",
    "                                  k + \"_mn\": np.nanmean(corrs),\n",
    "                                  k + \"_md\": np.nanmedian(corrs),\n",
    "                                  k + \"_q1\": np.nanpercentile(corrs, 25),\n",
    "                                  k + \"_q3\": np.nanpercentile(corrs, 75)})\n",
    "        \n",
    "            if wnd == 850:\n",
    "                sgn = np.sign(np.mean(corrs))\n",
    "                ax[1].plot(zscore(-np.unwrap(data))*sgn, label=k, c=c)\n",
    "                ax[0].plot(np.arange(len(corrs)) + wnd, corrs*sgn, c=c, label=k + \" corr\")\n",
    "                \n",
    "                ax[0].set_ylabel(\"Correlation in 200s wnd\")\n",
    "                ax[1].set_xlabel(\"Time (frame n.)\")\n",
    "                ax[0].axhline(np.corrcoef(np.unwrap(data), head)[0, 1], c=dark_col(c), \n",
    "                              label=\"tot. corr.\")\n",
    "                \n",
    "                ax[1].legend(frameon=False, fontsize=8)\n",
    "                ax[0].legend(frameon=False, fontsize=8)\n",
    "\n",
    "                for l in [-1, 0, 1]:\n",
    "                    ax[0].axhline(l, lw=0.5)\n",
    "                ax[0].axhline(np.mean(corrs)*sgn, linestyle=\"dashed\", c=c, lw=1)\n",
    "                plt.suptitle(f\"{i}, {exp.name}\")\n",
    "    \n",
    "vals_df = pd.DataFrame(vals_list)"
   ]
  },
  {
   "cell_type": "code",
   "execution_count": null,
   "id": "e20062f5",
   "metadata": {},
   "outputs": [],
   "source": [
    "np.corrcoef(data, head)[0, 1]"
   ]
  },
  {
   "cell_type": "code",
   "execution_count": null,
   "id": "91ea73f6",
   "metadata": {},
   "outputs": [],
   "source": [
    "plt.figure()\n",
    "all_lines = []\n",
    "for fid in vals_df.exp_id.unique():\n",
    "    sel = vals_df[vals_df.exp_id==fid]\n",
    "    c = \"r\" if sel.iloc[0, 1] else \"k\"\n",
    "    plt.plot(sel.wnd, sel.mn * np.sign(sel.mn[-1:].mean()), c=c)\n",
    "    all_lines.append(sel.mn * np.sign(sel.mn[-1:].mean()))\n",
    "    \n",
    "all_lines = np.array(all_lines)\n",
    "\n",
    "plt.plot(sel.wnd, np.median(all_lines, 0), lw=5)"
   ]
  },
  {
   "cell_type": "code",
   "execution_count": null,
   "id": "1cfedcfc",
   "metadata": {},
   "outputs": [],
   "source": []
  },
  {
   "cell_type": "code",
   "execution_count": null,
   "id": "6067b5d0",
   "metadata": {},
   "outputs": [],
   "source": [
    "plt.figure()\n",
    "plt.plot(zscore(np.unwrap(phase)))\n",
    "plt.plot(zscore(head))\n",
    "plt.plot(np.arange(len(corrs)) + wnd, corrs)"
   ]
  },
  {
   "cell_type": "code",
   "execution_count": null,
   "id": "cdf6faa8",
   "metadata": {},
   "outputs": [],
   "source": [
    "plt.figure()\n",
    "plt.plot(correlate(zscore(angle), zscore(head), mode=\"full\"))\n",
    "plt.plot(correlate(zscore(-phase), zscore(head), mode=\"full\"))\n",
    "plt.plot(correlate(zscore(head), zscore(head), mode=\"full\"))"
   ]
  },
  {
   "cell_type": "code",
   "execution_count": null,
   "id": "1a282d9b",
   "metadata": {},
   "outputs": [],
   "source": [
    "plt.figure()\n",
    "plt.plot(np.unwrap(phase))\n",
    "plt.plot(head)"
   ]
  },
  {
   "cell_type": "code",
   "execution_count": null,
   "id": "8de8ab44",
   "metadata": {},
   "outputs": [],
   "source": []
  },
  {
   "cell_type": "code",
   "execution_count": null,
   "id": "1436dcc5",
   "metadata": {},
   "outputs": [],
   "source": [
    "plt.figure()\n",
    "for f in fictive_trajectories:\n",
    "    plt.hist(np.mod(f, 2*np.pi) - np.pi, np.arange(-np.pi, np.pi, 0.3), alpha=0.2)"
   ]
  },
  {
   "cell_type": "code",
   "execution_count": null,
   "id": "00b5b7d3",
   "metadata": {},
   "outputs": [],
   "source": [
    "plt.figure()\n",
    "# [plt.plot(f) for f in fictive_trajectories]"
   ]
  },
  {
   "cell_type": "code",
   "execution_count": null,
   "id": "61259edb",
   "metadata": {},
   "outputs": [],
   "source": [
    "plt.figure()\n",
    "plt.plot(counts.mean(0))"
   ]
  },
  {
   "cell_type": "code",
   "execution_count": null,
   "id": "c7b5138b",
   "metadata": {},
   "outputs": [],
   "source": []
  },
  {
   "cell_type": "code",
   "execution_count": null,
   "id": "dc13e11f",
   "metadata": {},
   "outputs": [],
   "source": []
  },
  {
   "cell_type": "code",
   "execution_count": null,
   "id": "7a9a43dd",
   "metadata": {},
   "outputs": [],
   "source": []
  },
  {
   "cell_type": "code",
   "execution_count": null,
   "id": "b5440bb0",
   "metadata": {},
   "outputs": [],
   "source": [
    "def load_and_plot(path):\n",
    "    bad = [3, 17, 33, 36, 38, 19]\n",
    "    \n",
    "    exp = LotrExperiment(path)\n",
    "    bouts_df = exp.bouts_df\n",
    "\n",
    "    traces = exp.traces[:, exp.hdn_indexes]\n",
    "\n",
    "    # Compute PCA in population dim\n",
    "    pcaed, phase, pca, circle_params = pca_and_phase(traces)\n",
    "\n",
    "    # Compute preferred phase of each neuron:\n",
    "    neuron_phases, _ = fit_phase_neurons(traces, phase, disable_bar=True)\n",
    "\n",
    "    # Compute PCA in time, fit circle and center projections:\n",
    "    pcaed_t, phase_t, pca_t, circle_params_t = pca_and_phase(traces.T)\n",
    "    cpc_scores = pcaed_t[:, :2] - circle_params_t[:2]\n",
    "\n",
    "    coords = exp.coords[exp.hdn_indexes, :]\n",
    "    w_coords = get_normalized_coords(coords)\n",
    "\n",
    "    # rotate pcs:\n",
    "    rpc_scores = reorient_pcs(cpc_scores, w_coords)\n",
    "\n",
    "    # We can now calculate a phase for each neuron from their position in this rotated space:\n",
    "    rpc_phases = np.angle(rpc_scores[:, 0] + 1j * rpc_scores[:, 1])\n",
    "\n",
    "    min_params = match_rpc_and_neuron_phases(rpc_phases, neuron_phases)\n",
    "    \n",
    "    fict_traj, params = fictive_trajectory_and_fit(np.unwrap(phase), bouts_df, fn=5, min_bias=0.05)\n",
    "\n",
    "    norm_activity = get_normalized_coords(traces.T).T\n",
    "    avg_vects = np.einsum(\"ij,ik->jk\", norm_activity.T, rpc_scores[:, :2])\n",
    "\n",
    "    angles = get_vect_angle(avg_vects.T) #[:, 0], pcaed_t[:, 1]\n",
    "\n",
    "    #plt.figure()\n",
    "    #plt.scatter(reduce_to_pi(min_params[0]*rpc_phases + min_params[1]), neuron_phases)\n",
    "    print(np.sum(np.abs(reduce_to_pi(min_params[0]*rpc_phases + min_params[1])-neuron_phases)),\n",
    "         min_params)\n",
    "    \n",
    "    fig = plt.figure(figsize=(8, 8))\n",
    "    gs = gridspec.GridSpec(4, 2, figure=fig)\n",
    "    \n",
    "    beh_plot = fig.add_subplot(gs[0, :])\n",
    "    beh_plot.plot(exp.behavior_log.t.values[::3], exp.behavior_log.tail_sum.values[::3])\n",
    "    beh_plot.set_xlim(0, exp.behavior_log.t.values[-1])\n",
    "    beh_traces = fig.add_subplot(gs[1, :], sharex=beh_plot)\n",
    "    beh_traces.imshow(traces[::4, np.argsort(rpc_phases)].T, extent=(0, exp.behavior_log.t.values[-1],\n",
    "                                                                  0, len(rpc_phases)), \n",
    "                      aspect=\"auto\", cmap=\"gray_r\")\n",
    "    \n",
    "    ax_plot = fig.add_subplot(gs[2, :], sharex=beh_plot)\n",
    "    axs_phase = fig.add_subplot(gs[3, 0])\n",
    "    axs_circle = fig.add_subplot(gs[3, 1])\n",
    "    \n",
    "    axs_circle.scatter(rpc_scores[:, 0], rpc_scores[:, 1], c=neuron_phases, cmap=\"twilight\")\n",
    "    axs_circle.axis(\"equal\")\n",
    "    axs_phase.scatter(pcaed[:, 0], pcaed[:, 1], c=angles, cmap=\"twilight\", s=8)\n",
    "    axs_phase.axis(\"equal\")\n",
    "    \n",
    "    x = np.arange(len(phase)) / exp.fn\n",
    "    ax_plot.plot(x, -zscore(np.unwrap(phase)))\n",
    "    ax_plot.plot(x, zscore(fict_traj))\n",
    "    ax_plot.plot(x, -zscore(np.unwrap(angles)))\n",
    "    title = f\"{i}. {path.name}, {min_params[0]}\"\n",
    "    if i in bad:\n",
    "        title = title + \"bad\"\n",
    "    plt.suptitle(title)"
   ]
  },
  {
   "cell_type": "code",
   "execution_count": null,
   "id": "ac910865",
   "metadata": {},
   "outputs": [],
   "source": [
    "\n",
    "\n",
    "# path = master_path / \"210314_f1\" / \"210314_f1_natmov\"# \"210926_f0\" / \"210926_f0_gainmod\" \n",
    "path = master_path / \"210924_f1\" / \"210924_f1b_gainmod\"\n",
    "for i, path in enumerate(tqdm(file_list)):\n",
    "    load_and_plot(path)"
   ]
  },
  {
   "cell_type": "code",
   "execution_count": null,
   "id": "e6b56875",
   "metadata": {},
   "outputs": [],
   "source": [
    "plt.figure(figsize=(3, 3))\n",
    "plt.scatter(pcaed_t[:, 0], pcaed_t[:, 1])\n",
    ".scatter(pcaed[:, 0], pcaed[:, 1], c=phase, cmap=\"twilight\")"
   ]
  },
  {
   "cell_type": "code",
   "execution_count": null,
   "id": "af66e8c8",
   "metadata": {},
   "outputs": [],
   "source": [
    "plt.figure(figsize=(3, 3))\n",
    "plt.scatter(pcaed[:, 0], pcaed[:, 1], c=phase, cmap=\"twilight\")"
   ]
  },
  {
   "cell_type": "code",
   "execution_count": null,
   "id": "a03c941d",
   "metadata": {},
   "outputs": [],
   "source": [
    "\n"
   ]
  },
  {
   "cell_type": "code",
   "execution_count": null,
   "id": "3c78a416",
   "metadata": {},
   "outputs": [],
   "source": [
    "plt.figure()\n",
    "plt.plot((phase))\n",
    "plt.plot(-zscore(fict_traj))"
   ]
  },
  {
   "cell_type": "code",
   "execution_count": null,
   "id": "8071e3e6",
   "metadata": {},
   "outputs": [],
   "source": []
  },
  {
   "cell_type": "code",
   "execution_count": null,
   "id": "4443e67b",
   "metadata": {},
   "outputs": [],
   "source": [
    "\n",
    "plt.figure(figsize=(7, 2.5))\n",
    "for n, i in enumerate([500, 2000, 7000]):\n",
    "    plt.subplot(1,3, 1+n)\n",
    "    plt.scatter(rpc_scores[:, 0], rpc_scores[:, 1], c=traces[i, :])\n",
    "    plt.plot([0, np.cos(angles[i])*100], [0, np.sin(angles[i])*100])\n",
    "    plt.axis(\"equal\")"
   ]
  },
  {
   "cell_type": "code",
   "execution_count": null,
   "id": "dca26b7a",
   "metadata": {},
   "outputs": [],
   "source": [
    "beh_df = exp.behavior_log"
   ]
  },
  {
   "cell_type": "code",
   "execution_count": null,
   "id": "ebbd005f",
   "metadata": {},
   "outputs": [],
   "source": [
    "plt.figure()\n",
    "#plt.plot(beh_df.t, beh_df.tail_sum)\n",
    "plt.plot(beh_df.t, beh_df.tail_sum)"
   ]
  },
  {
   "cell_type": "code",
   "execution_count": null,
   "id": "b0ea34ed",
   "metadata": {},
   "outputs": [],
   "source": []
  },
  {
   "cell_type": "code",
   "execution_count": null,
   "id": "fff82509",
   "metadata": {},
   "outputs": [],
   "source": []
  },
  {
   "cell_type": "code",
   "execution_count": null,
   "id": "69af22a7",
   "metadata": {},
   "outputs": [],
   "source": [
    "from bouter.utilities import predictive_tail_fill\n",
    "\n",
    "beh_df = exp.behavior_log\n",
    "theta_mat = beh_df.loc[:, [f\"theta_0{i}\" for i in range(9)]].values\n",
    "beh_df.loc[:, [f\"theta_0{i}\" for i in range(9)]] = predictive_tail_fill(\n",
    "    theta_mat\n",
    ")\n",
    "\n",
    "beh_df[\"tail_sum\"] = (beh_df[\"theta_07\"] + beh_df[\"theta_08\"]) - (\n",
    "    beh_df[\"theta_00\"] + beh_df[\"theta_01\"]\n",
    ")"
   ]
  },
  {
   "cell_type": "code",
   "execution_count": null,
   "id": "1a15f057",
   "metadata": {},
   "outputs": [],
   "source": []
  }
 ],
 "metadata": {
  "kernelspec": {
   "display_name": "rplab",
   "language": "python",
   "name": "rplab"
  },
  "language_info": {
   "codemirror_mode": {
    "name": "ipython",
    "version": 3
   },
   "file_extension": ".py",
   "mimetype": "text/x-python",
   "name": "python",
   "nbconvert_exporter": "python",
   "pygments_lexer": "ipython3"
  }
 },
 "nbformat": 4,
 "nbformat_minor": 5
}

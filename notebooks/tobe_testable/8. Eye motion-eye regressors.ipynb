{
 "cells": [
  {
   "cell_type": "code",
   "execution_count": null,
   "metadata": {},
   "outputs": [],
   "source": [
    "%matplotlib widget\n",
    "import flammkuchen as fl\n",
    "import lotr.plotting as pltltr\n",
    "import numpy as np\n",
    "import pandas as pd\n",
    "from lotr import DATASET_LOCATION, LotrExperiment, dataset_folders\n",
    "from lotr.data_preprocessing.dlc_tracking import export_dlc_behavior\n",
    "from lotr.utils import convolve_with_tau, interpolate, nan_phase_jumps, zscore\n",
    "from matplotlib import pyplot as plt\n",
    "from scipy.stats import ttest_rel, wilcoxon\n",
    "from sklearn.linear_model import LinearRegression\n",
    "from sklearn.metrics import r2_score\n",
    "from tqdm import tqdm\n",
    "from lotr.utils import crop\n",
    "\n",
    "COLS = pltltr.COLS\n",
    "from lotr.utils import pearson_regressors\n",
    "\n",
    "def _process_reg(reg, tau_s=3):\n",
    "    reg = convolve_with_tau(reg, int(tau_s * exp.fs))\n",
    "    return zscore(reg)"
   ]
  },
  {
   "cell_type": "code",
   "execution_count": null,
   "metadata": {},
   "outputs": [],
   "source": [
    "from lotr import DATASET_LOCATION\n",
    "\n",
    "fish_with_eyes = [\n",
    "    f.parent\n",
    "    for f in DATASET_LOCATION.glob(\"*/*eyes*/selected.h5\")\n",
    "    if \"noeyes\" not in f.parent.name\n",
    "]\n",
    "fish_with_eyes"
   ]
  },
  {
   "cell_type": "code",
   "execution_count": null,
   "metadata": {},
   "outputs": [],
   "source": [
    "exp.motor_regressors"
   ]
  },
  {
   "cell_type": "code",
   "execution_count": null,
   "metadata": {},
   "outputs": [],
   "source": [
    "res_df = []\n",
    "\n",
    "for path in tqdm(fish_with_eyes):\n",
    "    exp = LotrExperiment(path)\n",
    "    dlc_df = fl.load(path / \"behavior_from_dlc.h5\", \"/data\")\n",
    "\n",
    "    fictive_head = exp.fictive_heading\n",
    "    phase = exp.network_phase\n",
    "\n",
    "    eyes_arr = dlc_df[\"rt_eye_medfilt\"] + dlc_df[\"lf_eye_medfilt\"]\n",
    "    interp_eye = _process_reg(interpolate(dlc_df[\"t\"], eyes_arr, exp.time_arr))\n",
    "    \n",
    "    eye_r_scores = pearson_regressors(exp.traces, interp_eye[:, np.newaxis])[0, :]\n",
    "    eye_vel = np.zeros(len(interp_eye))\n",
    "    eye_vel[1:] = np.diff(interp_eye)\n",
    "    eye_vel_scores = pearson_regressors(exp.traces, eye_vel[:, np.newaxis])[0, :]\n",
    "    \n",
    "    hdn = np.full(len(eye_r_scores), False)\n",
    "    hdn[exp.hdn_indexes] = True\n",
    "    \n",
    "    res_df.append(pd.DataFrame(dict(fid=path.name, \n",
    "                                    hdn=hdn,\n",
    "                                    scores=eye_r_scores, \n",
    "                                    scores_vel=eye_vel_scores,\n",
    "                                    left=exp.motor_regressors[\"left_1\"],\n",
    "                                    right=exp.motor_regressors[\"right_1\"],\n",
    "                                    any_motor=np.max([exp.motor_regressors[\"right_1\"], exp.motor_regressors[\"right_1\"]], axis=0),\n",
    "                                    ax0=exp.morphed_coords_um[:, 0], \n",
    "                                    ax1=exp.morphed_coords_um[:, 1], \n",
    "                                    ax2=exp.morphed_coords_um[:, 2])))\n",
    "    \n",
    "res_df = pd.concat(res_df).reset_index()"
   ]
  },
  {
   "cell_type": "code",
   "execution_count": null,
   "metadata": {},
   "outputs": [],
   "source": [
    "\n",
    "f, ax = plt.subplots(figsize=(3, 2), gridspec_kw=dict(left=0.2, bottom=0.2))\n",
    "bins=np.arange(0, 1, 0.05)\n",
    "plt.hist(np.abs(res_df[\"scores\"]), bins, density=False, fc=\".6\", label=\"All ROIs\")\n",
    "plt.hist(np.abs(res_df.loc[res_df[\"hdn\"], \"scores\"]), bins, density=False, fc=COLS[\"ring\"], label=\"Ring ROIs\")\n",
    "ax.set(yscale=\"log\", ylabel=\"Eye corr.\", xlabel=\"Count\")\n",
    "ax.legend()\n",
    "plt.show()\n",
    "pltltr.despine(ax)\n",
    "pltltr.savefig(\"histogram_eyecorr\", folder=\"S9\")"
   ]
  },
  {
   "cell_type": "code",
   "execution_count": null,
   "metadata": {},
   "outputs": [],
   "source": [
    "f, ax = plt.subplots(figsize=(2.5, 2.5))\n",
    "s=8\n",
    "ax.scatter(res_df[\"ax1\"], res_df[\"ax2\"], lw=0, s=s, alpha=0.1, color=(0.3,) * 3,)\n",
    "\n",
    "l = 0.8\n",
    "s = ax.scatter(res_df[\"ax1\"], res_df[\"ax2\"], lw=0, s=s, alpha=np.abs(res_df[\"scores\"]) > 0.25, c=res_df[\"scores\"], vmin=-l, vmax=l, cmap=\"RdBu_r\")\n",
    "# plt.scatter(res_df[\"l_r\"], -res_df[\"a_p\"], c=res_df[\"scores\"], vmin=-1, vmax=1, cmap=\"RdBu_r\")\n",
    "\n",
    "loc = [-110, -138]\n",
    "ax.axis(\"equal\")\n",
    "pltltr.add_anatomy_scalebar(ax, pos=loc, length=40, fontsize=6)\n",
    "pltltr.add_cbar(s, ax, (0.85, 0, 0.2, 0.05), ticks=(-l, l), ticklabels=(\"-0.8 (lf.)\", \"0.8 (rt.)\"),\n",
    "                orientation=\"horizontal\", title=\"Corr. with eyes pos.\", titlesize=7, labelsize=6)\n",
    "pltltr.savefig(\"colormap_eyeregr\", folder=\"S9\")"
   ]
  },
  {
   "cell_type": "code",
   "execution_count": null,
   "metadata": {},
   "outputs": [],
   "source": [
    "f, ax = plt.subplots(figsize=(2.5, 2.5))\n",
    "s=8\n",
    "ax.scatter(res_df[\"ax1\"], res_df[\"ax2\"], lw=0, s=s, alpha=0.1, color=(0.3,) * 3,)\n",
    "\n",
    "l = 0.3\n",
    "s = ax.scatter(res_df[\"ax1\"], res_df[\"ax2\"], lw=0, s=s, alpha=np.abs(res_df[\"scores_vel\"]) > 0.1, c=res_df[\"scores_vel\"], vmin=-l, vmax=l, cmap=\"RdBu_r\")\n",
    "# plt.scatter(res_df[\"l_r\"], -res_df[\"a_p\"], c=res_df[\"scores\"], vmin=-1, vmax=1, cmap=\"RdBu_r\")\n",
    "\n",
    "loc = [-110, -138]\n",
    "ax.axis(\"equal\")\n",
    "pltltr.add_anatomy_scalebar(ax, pos=loc, length=40, fontsize=6)\n",
    "pltltr.add_cbar(s, ax, (0.85, 0, 0.2, 0.05), ticks=(-l, l), ticklabels=(\"-0.8 (lf.)\", \"0.8 (rt.)\"),\n",
    "                orientation=\"horizontal\", title=\"Corr. with eyes vel.\", titlesize=7, labelsize=6)\n",
    "pltltr.savefig(\"colormap_eyeregr_vel\", folder=\"S9\")"
   ]
  },
  {
   "cell_type": "code",
   "execution_count": null,
   "metadata": {},
   "outputs": [],
   "source": []
  }
 ],
 "metadata": {
  "kernelspec": {
   "display_name": "lotr",
   "language": "python",
   "name": "lotr"
  },
  "language_info": {
   "codemirror_mode": {
    "name": "ipython",
    "version": 3
   },
   "file_extension": ".py",
   "mimetype": "text/x-python",
   "name": "python",
   "nbconvert_exporter": "python",
   "pygments_lexer": "ipython3"
  }
 },
 "nbformat": 4,
 "nbformat_minor": 4
}

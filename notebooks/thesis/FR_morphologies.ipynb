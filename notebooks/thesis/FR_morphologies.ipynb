{
 "cells": [
  {
   "cell_type": "code",
   "execution_count": 2,
   "id": "df23c2ed-597c-4f4a-93a3-9261d5860b89",
   "metadata": {},
   "outputs": [],
   "source": [
    "%matplotlib widget\n",
    "\n",
    "import lotr.plotting as pltltr\n",
    "import numpy as np\n",
    "import pandas as pd\n",
    "from lotr import DATASET_LOCATION\n",
    "from lotr.em.core import EmNeuron\n",
    "from lotr.em.loading import load_skeletons_from_zip\n",
    "from matplotlib import pyplot as plt\n",
    "\n",
    "anatomy_location = DATASET_LOCATION.parent / \"anatomy\""
   ]
  },
  {
   "cell_type": "code",
   "execution_count": 3,
   "id": "30a807c9-04b8-4c4a-89dd-92fd66483c56",
   "metadata": {},
   "outputs": [],
   "source": [
    "skeletons = load_skeletons_from_zip(anatomy_location / \"p001_p040_hab_axons.k.zip\")"
   ]
  },
  {
   "cell_type": "markdown",
   "id": "905efe31-917a-47b6-b19d-c38255e1077e",
   "metadata": {},
   "source": [
    "# Quantify projections in the IPN"
   ]
  },
  {
   "cell_type": "code",
   "execution_count": 4,
   "id": "c038b2c0-d0e0-4ae9-96e9-722f80d69320",
   "metadata": {},
   "outputs": [],
   "source": [
    "projection_df = pd.DataFrame(\n",
    "    dict(\n",
    "        side=[s.comments.split(\" - \")[1][0] for s in skeletons],\n",
    "        projection=[s.comments.split(\" - \")[1][5] for s in skeletons],\n",
    "    )\n",
    ")\n",
    "# Exclude not fully traced values:\n",
    "projection_df = projection_df.loc[projection_df[\"projection\"] != \"[\"]"
   ]
  },
  {
   "cell_type": "code",
   "execution_count": 5,
   "id": "5dddbf3d-d412-46dd-9c61-c444e341675c",
   "metadata": {},
   "outputs": [],
   "source": [
    "counts_df = pd.DataFrame(\n",
    "    {\n",
    "        s: projection_df.loc[projection_df[\"side\"] == s, \"projection\"].value_counts()\n",
    "        for s in [\"l\", \"r\"]\n",
    "    }\n",
    ")"
   ]
  },
  {
   "cell_type": "code",
   "execution_count": 6,
   "id": "fcb206a5-154d-44dc-9c35-cf5496a77162",
   "metadata": {},
   "outputs": [
    {
     "data": {
      "text/html": [
       "<div>\n",
       "<style scoped>\n",
       "    .dataframe tbody tr th:only-of-type {\n",
       "        vertical-align: middle;\n",
       "    }\n",
       "\n",
       "    .dataframe tbody tr th {\n",
       "        vertical-align: top;\n",
       "    }\n",
       "\n",
       "    .dataframe thead th {\n",
       "        text-align: right;\n",
       "    }\n",
       "</style>\n",
       "<table border=\"1\" class=\"dataframe\">\n",
       "  <thead>\n",
       "    <tr style=\"text-align: right;\">\n",
       "      <th></th>\n",
       "      <th>l</th>\n",
       "      <th>r</th>\n",
       "    </tr>\n",
       "  </thead>\n",
       "  <tbody>\n",
       "    <tr>\n",
       "      <th>d</th>\n",
       "      <td>14.0</td>\n",
       "      <td>NaN</td>\n",
       "    </tr>\n",
       "    <tr>\n",
       "      <th>i</th>\n",
       "      <td>1.0</td>\n",
       "      <td>NaN</td>\n",
       "    </tr>\n",
       "    <tr>\n",
       "      <th>p</th>\n",
       "      <td>NaN</td>\n",
       "      <td>2.0</td>\n",
       "    </tr>\n",
       "    <tr>\n",
       "      <th>v</th>\n",
       "      <td>6.0</td>\n",
       "      <td>17.0</td>\n",
       "    </tr>\n",
       "  </tbody>\n",
       "</table>\n",
       "</div>"
      ],
      "text/plain": [
       "      l     r\n",
       "d  14.0   NaN\n",
       "i   1.0   NaN\n",
       "p   NaN   2.0\n",
       "v   6.0  17.0"
      ]
     },
     "execution_count": 6,
     "metadata": {},
     "output_type": "execute_result"
    }
   ],
   "source": [
    "counts_df"
   ]
  },
  {
   "cell_type": "code",
   "execution_count": 7,
   "id": "5be6962c-692e-4254-8f8a-eeffbca9d502",
   "metadata": {},
   "outputs": [
    {
     "data": {
      "text/html": [
       "<div>\n",
       "<style scoped>\n",
       "    .dataframe tbody tr th:only-of-type {\n",
       "        vertical-align: middle;\n",
       "    }\n",
       "\n",
       "    .dataframe tbody tr th {\n",
       "        vertical-align: top;\n",
       "    }\n",
       "\n",
       "    .dataframe thead th {\n",
       "        text-align: right;\n",
       "    }\n",
       "</style>\n",
       "<table border=\"1\" class=\"dataframe\">\n",
       "  <thead>\n",
       "    <tr style=\"text-align: right;\">\n",
       "      <th></th>\n",
       "      <th>l</th>\n",
       "      <th>r</th>\n",
       "    </tr>\n",
       "  </thead>\n",
       "  <tbody>\n",
       "    <tr>\n",
       "      <th>d</th>\n",
       "      <td>66.7</td>\n",
       "      <td>NaN</td>\n",
       "    </tr>\n",
       "    <tr>\n",
       "      <th>i</th>\n",
       "      <td>4.8</td>\n",
       "      <td>NaN</td>\n",
       "    </tr>\n",
       "    <tr>\n",
       "      <th>p</th>\n",
       "      <td>NaN</td>\n",
       "      <td>10.5</td>\n",
       "    </tr>\n",
       "    <tr>\n",
       "      <th>v</th>\n",
       "      <td>28.6</td>\n",
       "      <td>89.5</td>\n",
       "    </tr>\n",
       "  </tbody>\n",
       "</table>\n",
       "</div>"
      ],
      "text/plain": [
       "      l     r\n",
       "d  66.7   NaN\n",
       "i   4.8   NaN\n",
       "p   NaN  10.5\n",
       "v  28.6  89.5"
      ]
     },
     "execution_count": 7,
     "metadata": {},
     "output_type": "execute_result"
    }
   ],
   "source": [
    "((counts_df / projection_df[\"side\"].value_counts()) * 100).round(1)"
   ]
  },
  {
   "cell_type": "code",
   "execution_count": null,
   "id": "dca52e56-10c9-4571-bff0-66ae22d4033f",
   "metadata": {},
   "outputs": [],
   "source": []
  }
 ],
 "metadata": {
  "kernelspec": {
   "display_name": "rplab",
   "language": "python",
   "name": "rplab"
  },
  "language_info": {
   "codemirror_mode": {
    "name": "ipython",
    "version": 3
   },
   "file_extension": ".py",
   "mimetype": "text/x-python",
   "name": "python",
   "nbconvert_exporter": "python",
   "pygments_lexer": "ipython3",
   "version": "3.8.12"
  }
 },
 "nbformat": 4,
 "nbformat_minor": 5
}

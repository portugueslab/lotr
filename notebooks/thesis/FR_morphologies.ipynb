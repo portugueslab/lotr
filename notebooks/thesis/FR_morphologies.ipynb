{
 "cells": [
  {
   "cell_type": "code",
   "execution_count": null,
   "id": "df23c2ed-597c-4f4a-93a3-9261d5860b89",
   "metadata": {},
   "outputs": [],
   "source": [
    "%matplotlib widget\n",
    "\n",
    "import flammkuchen as fl\n",
    "import lotr.plotting as pltltr\n",
    "import numpy as np\n",
    "import pandas as pd\n",
    "from lotr import DATASET_LOCATION\n",
    "from lotr.em.core import EmNeuron\n",
    "from lotr.em.loading import load_skeletons_from_zip\n",
    "from matplotlib import pyplot as plt\n",
    "\n",
    "anatomy_location = DATASET_LOCATION.parent / \"anatomy\""
   ]
  },
  {
   "cell_type": "markdown",
   "id": "905efe31-917a-47b6-b19d-c38255e1077e",
   "metadata": {},
   "source": [
    "# Quantify projections in the IPN"
   ]
  },
  {
   "cell_type": "code",
   "execution_count": null,
   "id": "c038b2c0-d0e0-4ae9-96e9-722f80d69320",
   "metadata": {},
   "outputs": [],
   "source": [
    "skeletons = load_skeletons_from_zip(\n",
    "    anatomy_location / \"annotated_traced_neurons\" / \"all_habaxons_p000-p040.k.zip\"\n",
    ")\n",
    "\n",
    "projection_df = pd.DataFrame(\n",
    "    dict(\n",
    "        side=[s.comments.split(\" - \")[1][0] for s in skeletons],\n",
    "        projection=[s.comments.split(\" - \")[1][5] for s in skeletons],\n",
    "    )\n",
    ")\n",
    "# Exclude not fully traced values:\n",
    "projection_df = projection_df.loc[projection_df[\"projection\"] != \"[\"]"
   ]
  },
  {
   "cell_type": "code",
   "execution_count": null,
   "id": "5dddbf3d-d412-46dd-9c61-c444e341675c",
   "metadata": {},
   "outputs": [],
   "source": [
    "counts_df = pd.DataFrame(\n",
    "    {\n",
    "        s: projection_df.loc[projection_df[\"side\"] == s, \"projection\"].value_counts()\n",
    "        for s in [\"l\", \"r\"]\n",
    "    }\n",
    ")"
   ]
  },
  {
   "cell_type": "code",
   "execution_count": null,
   "id": "0f0ab915-5a0f-41a5-82cb-d91b133e5266",
   "metadata": {},
   "outputs": [],
   "source": [
    "counts_df"
   ]
  },
  {
   "cell_type": "code",
   "execution_count": null,
   "id": "5be6962c-692e-4254-8f8a-eeffbca9d502",
   "metadata": {},
   "outputs": [],
   "source": [
    "((counts_df / projection_df[\"side\"].value_counts()) * 100).round(1)"
   ]
  },
  {
   "cell_type": "markdown",
   "id": "11c39834-846b-4e3a-93d7-b469d117da93",
   "metadata": {},
   "source": [
    "# Plots of all axons"
   ]
  },
  {
   "cell_type": "code",
   "execution_count": null,
   "id": "dca52e56-10c9-4571-bff0-66ae22d4033f",
   "metadata": {},
   "outputs": [],
   "source": [
    "%load_ext autoreload"
   ]
  },
  {
   "cell_type": "code",
   "execution_count": null,
   "id": "3cee6270-3924-43bf-bf44-5cde7fdb73fe",
   "metadata": {},
   "outputs": [],
   "source": [
    "%autoreload\n",
    "from bg_atlasapi import BrainGlobeAtlas\n",
    "from lotr.plotting import AtlasPlotter"
   ]
  },
  {
   "cell_type": "code",
   "execution_count": null,
   "id": "55dd5fea-92d1-49e3-b465-47d3b5dfb557",
   "metadata": {},
   "outputs": [],
   "source": [
    "#  Specify axes limits over all dimensions:\n",
    "bs = dict(frontal=(30, 180), vertical=(40, 180), sagittal=(-20, 120))\n",
    "\n",
    "plotter = pltltr.AtlasPlotter(\n",
    "    structures=[\"ipn\", \"dipn\"],\n",
    "    mask_slices=dict(frontal=slice(0, 120)),\n",
    "    bounds_dict=dict(\n",
    "        frontal=[bs[\"vertical\"], bs[\"frontal\"]],\n",
    "        horizontal=[bs[\"sagittal\"], bs[\"frontal\"]],\n",
    "        sagittal=[bs[\"vertical\"], bs[\"sagittal\"]],\n",
    "    ),\n",
    ")"
   ]
  },
  {
   "cell_type": "code",
   "execution_count": null,
   "id": "12c71248-04d1-41a7-8f5d-e613c0e24d34",
   "metadata": {},
   "outputs": [],
   "source": [
    "neurons_dict = fl.load(\n",
    "    anatomy_location / \"annotated_traced_neurons\" / \"all_skeletons.h5\"\n",
    ")"
   ]
  },
  {
   "cell_type": "code",
   "execution_count": null,
   "id": "b02d01c7-9351-4038-b51e-fbd250a06a12",
   "metadata": {},
   "outputs": [],
   "source": [
    "r_hab_ids = [s.id for s in neurons_dict.values() if \"rhab\" in s.comments]\n",
    "l_hab_ids = [s.id for s in neurons_dict.values() if \"lhab\" in s.comments]"
   ]
  },
  {
   "cell_type": "code",
   "execution_count": null,
   "id": "faed99d7-25f0-4e69-86ba-8b061ba26f9b",
   "metadata": {},
   "outputs": [],
   "source": [
    "from scipy.stats import gaussian_kde\n",
    "\n",
    "kde_list = []\n",
    "\n",
    "for id_list in [r_hab_ids, l_hab_ids]:\n",
    "    all_coords = np.concatenate([neurons_dict[cid].coords_ipn for cid in id_list])\n",
    "    all_coords = all_coords[all_coords[:, 0] > 30] * 2\n",
    "\n",
    "    kde_list.append(gaussian_kde(all_coords[:, 1]))"
   ]
  },
  {
   "cell_type": "code",
   "execution_count": null,
   "id": "c7c4ef00-1fd3-49e2-80c9-64e5e2bad13f",
   "metadata": {},
   "outputs": [],
   "source": [
    "raster = True\n",
    "\n",
    "gridspec_kw = dict(left=0.05, right=1, top=1, bottom=0.1, hspace=0.01)\n",
    "figsize = (4.2, 1.3)\n",
    "\n",
    "kde_axs = []\n",
    "f, axs = plt.subplots(1, 3, figsize=figsize, gridspec_kw=gridspec_kw)\n",
    "plotter.generate_projection_plots(axs, labels=True)\n",
    "\n",
    "pos = np.array(axs[2].get_position())\n",
    "\n",
    "for i, (kde, cids, col, lab) in enumerate(\n",
    "    zip(\n",
    "        kde_list,\n",
    "        [r_hab_ids, l_hab_ids],\n",
    "        [pltltr.COLS[\"fish_cols\"][3], pltltr.COLS[\"fish_cols\"][5]],\n",
    "        [\"left Hb\", \"right Hb\"],\n",
    "    )\n",
    "):\n",
    "    # ax.margins(1, tight=True)\n",
    "    # ax.fill_betweenx(x, kde(x), alpha=0.8, facecolor=col)\n",
    "    # ax.set_ylim(plotter.space.shape[1], 0)\n",
    "    # ax.set_xlim(0, max([k(x).max() for k in kde_list]))\n",
    "\n",
    "    for axs_i in [i, 2]:\n",
    "        for cid in cids:\n",
    "            n_dict = neurons_dict[cid]\n",
    "\n",
    "            plotter.plot_neurons(\n",
    "                axs,\n",
    "                n_dict,\n",
    "                color=col,\n",
    "                linewidth=0.4,\n",
    "                rasterized=raster,\n",
    "                alpha=0.5,\n",
    "                # zorder=100,\n",
    "                label=\"__nolegend__\",\n",
    "            )\n",
    "    axs[2].plot([], [], label=lab, color=col, linewidth=0)\n",
    "\n",
    "axs[2].legend(frameon=False, labelcolor=\"linecolor\", handlelength=0)\n",
    "axs[0].text(75, 80, \"dIPN\")\n",
    "axs[0].text(130, 180, \"vIPN\")\n",
    "\n",
    "\n",
    "pltltr.savefig(\"hab_projections\")"
   ]
  },
  {
   "cell_type": "code",
   "execution_count": null,
   "id": "5632c537-beee-4733-95dc-45cce999b08b",
   "metadata": {},
   "outputs": [],
   "source": [
    "#  Specify axes limits over all dimensions:\n",
    "bs = dict(frontal=(50, 160), vertical=(40, 180), sagittal=(0, 120))\n",
    "\n",
    "dipn_plotter = pltltr.AtlasPlotter(\n",
    "    structures=[\"ipn\", \"dipn\"],\n",
    "    mask_slices=dict(frontal=slice(0, 120)),\n",
    "    bounds_dict=dict(\n",
    "        frontal=[bs[\"vertical\"], bs[\"frontal\"]],\n",
    "        horizontal=[bs[\"sagittal\"], bs[\"frontal\"]],\n",
    "        sagittal=[bs[\"vertical\"], bs[\"sagittal\"]],\n",
    "    ),\n",
    ")"
   ]
  },
  {
   "cell_type": "code",
   "execution_count": null,
   "id": "8a9f9843-0446-4e58-9e66-5c27484c9d68",
   "metadata": {},
   "outputs": [],
   "source": [
    "gridspec_kw = dict(left=0.05, right=1, top=1, bottom=0.1, hspace=0.01)\n",
    "\n",
    "f, axs = plt.subplots(2, 4, figsize=(4.16, 2), gridspec_kw=gridspec_kw)\n",
    "\n",
    "lhab_ids_2plot = [l_hab_ids[i] for i in [3, 2]]  # [6, 1, 2, 3]]\n",
    "rhab_ids_2plot = [r_hab_ids[i] for i in [4, 3]]  # [0, 13, 4, 3]]\n",
    "\n",
    "for i, p in enumerate([\"horizontal\", \"sagittal\"]):\n",
    "    for j in range(2):\n",
    "\n",
    "        for plot_column, neuron_list, col_i in zip(\n",
    "            [j, j + 2], [lhab_ids_2plot, rhab_ids_2plot], [5, 3]\n",
    "        ):\n",
    "            dipn_plotter.plot_on_axis(\n",
    "                axs[i, plot_column], projection=p, labels=False, title=False\n",
    "            )\n",
    "\n",
    "            dipn_plotter.plot_neuron_projection(\n",
    "                axs[i, plot_column],\n",
    "                neurons_dict[neuron_list[j]],\n",
    "                projection=p,\n",
    "                color=pltltr.COLS[\"fish_cols\"][col_i],\n",
    "                lw=0.4,\n",
    "                rasterized=True\n",
    "            )\n",
    "        # axs[i, j].axis(\"equal\")\n",
    "        # axs[i, j+2].axis(\"equal\")\n",
    "        \n",
    "pltltr.savefig(\"single_hab_projections\")"
   ]
  },
  {
   "cell_type": "code",
   "execution_count": null,
   "id": "087a514e-f086-498e-8f54-67fa2fdfdc6c",
   "metadata": {},
   "outputs": [],
   "source": [
    "vipn_plotter = pltltr.AtlasPlotter(\n",
    "    structures=[\"vipn\"],\n",
    "    mask_slices=dict(frontal=slice(0, 120)),\n",
    "    bounds_dict=dict(\n",
    "        frontal=[bs[\"vertical\"], bs[\"frontal\"]],\n",
    "        horizontal=[bs[\"sagittal\"], bs[\"frontal\"]],\n",
    "        sagittal=[bs[\"vertical\"], bs[\"sagittal\"]],\n",
    "    ),\n",
    ")"
   ]
  },
  {
   "cell_type": "code",
   "execution_count": null,
   "id": "4cfdab36-2c06-4f4c-be19-3272edcbc8ea",
   "metadata": {},
   "outputs": [],
   "source": []
  },
  {
   "cell_type": "code",
   "execution_count": null,
   "id": "81d806db-b384-45bf-953a-9e594a373402",
   "metadata": {},
   "outputs": [],
   "source": [
    "pltltr.COLS[\"fish_cols\"][3]"
   ]
  },
  {
   "cell_type": "code",
   "execution_count": null,
   "id": "abf218d8-070e-429f-8499-4acb9b44754b",
   "metadata": {},
   "outputs": [],
   "source": [
    "np.array(BrainGlobeAtlas(\"allen_mouse_25um\").shape) * 25"
   ]
  },
  {
   "cell_type": "code",
   "execution_count": null,
   "id": "06984d40-130f-49fe-925b-1d40f456adc4",
   "metadata": {},
   "outputs": [],
   "source": [
    "7760, -31645, -5943"
   ]
  },
  {
   "cell_type": "code",
   "execution_count": null,
   "id": "74534667-f744-4025-8df4-71331ba81984",
   "metadata": {},
   "outputs": [],
   "source": [
    "np.array(plotter.atlas.shape) / 2"
   ]
  },
  {
   "cell_type": "code",
   "execution_count": null,
   "id": "e2a4dd33-9d0b-40ae-b629-9da29fce5528",
   "metadata": {},
   "outputs": [],
   "source": [
    "plotter.atlas.structures"
   ]
  },
  {
   "cell_type": "code",
   "execution_count": null,
   "id": "04f06f86-a738-4aaf-8222-4c159a29c572",
   "metadata": {},
   "outputs": [],
   "source": [
    "np.unique(plotter.atlas.annotation)"
   ]
  },
  {
   "cell_type": "code",
   "execution_count": null,
   "id": "791ae0f2-7187-45b5-bdec-4cf63ca48499",
   "metadata": {},
   "outputs": [],
   "source": [
    "# for i, ax in enumerate(axs):\n",
    "#    if i < 2:\n",
    "#        ax.imshow(rosette_volume.mean(i), cmap=\"gray_r\")\n",
    "#    else:\n",
    "#        ax.imshow(rosette_volume.mean(i).T, cmap=\"gray_r\")\n",
    "\n",
    "x = np.arange(plotter.space.shape[1])\n",
    "for i, (kde, cids, col) in enumerate(\n",
    "    zip(kde_list, [r_hab_ids, l_hab_ids], [[0.8, 0.14, 0.25], [0.2, 0.39, 0.85]])\n",
    "):\n",
    "    for axs_i in [i, 2]:\n",
    "        for cid in cids:\n",
    "            n_dict = neurons_dict[cid]\n",
    "\n",
    "            plotter.plot_neurons(\n",
    "                all_axs[axs_i], n_dict, color=col, linewidth=0.2, rasterized=raster\n",
    "            )\n",
    "\n",
    "        x = np.arange(plotter.space.shape[1])\n",
    "\n",
    "        axs = kde_axs[axs_i]\n",
    "        axs.fill_betweenx(x, kde(x), alpha=0.8, facecolor=col)\n",
    "        axs.set_ylim(plotter.space.shape[1], 0)\n",
    "        axs.set_xlim(0, max([k(x).max() for k in kde_list]))\n",
    "        # axs.set_xlabel(\"Dens.\")\n",
    "        axs.spines[\"left\"].set_linewidth(0.2)\n",
    "        [axs.spines[k].set_visible(False) for k in [\"right\", \"top\", \"bottom\"]]\n",
    "        axs.set_xticks([])\n",
    "        axs.set_yticks([])\n",
    "\n",
    "k = [\"\", \"rast\"][raster]"
   ]
  },
  {
   "cell_type": "code",
   "execution_count": null,
   "id": "2f07ed08-559e-4c04-8d06-61402d7e17b9",
   "metadata": {},
   "outputs": [],
   "source": [
    "fliplabels = False\n",
    "(1 - fliplabels, int(fliplabels))  # [i for i in range(1-fliplabels, fliplabels)]"
   ]
  },
  {
   "cell_type": "code",
   "execution_count": null,
   "id": "1d3476ab-0fdd-4369-afdb-dbb87ce6f669",
   "metadata": {},
   "outputs": [],
   "source": []
  }
 ],
 "metadata": {
  "kernelspec": {
   "display_name": "rplab",
   "language": "python",
   "name": "rplab"
  },
  "language_info": {
   "codemirror_mode": {
    "name": "ipython",
    "version": 3
   },
   "file_extension": ".py",
   "mimetype": "text/x-python",
   "name": "python",
   "nbconvert_exporter": "python",
   "pygments_lexer": "ipython3"
  }
 },
 "nbformat": 4,
 "nbformat_minor": 5
}

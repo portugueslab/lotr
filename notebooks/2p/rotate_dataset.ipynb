{
 "cells": [
  {
   "cell_type": "code",
   "execution_count": 1,
   "metadata": {},
   "outputs": [],
   "source": [
    "from pathlib import Path\n",
    "from split_dataset import SplitDataset\n",
    "import flammkuchen as fl\n",
    "from skimage import io\n",
    "import shutil\n",
    "import numpy as np\n",
    "from scipy.ndimage import affine_transform\n",
    "from fimpy.pipeline.alignment import align_2p_volume\n",
    "\n",
    "def tf_mx(shift):\n",
    "    return np.array([[1,0,shift[0]],[0,1,shift[1]],[0,0,1]])\n",
    "\n",
    "def rot_mx(theta):\n",
    "    return np.array([[np.cos(theta),-np.sin(theta),0],[np.sin(theta),np.cos(theta),0],[0,0,1]])"
   ]
  },
  {
   "cell_type": "code",
   "execution_count": 2,
   "metadata": {},
   "outputs": [],
   "source": [
    "path = Path(r'C:\\Users\\You\\Documents\\test')"
   ]
  },
  {
   "cell_type": "code",
   "execution_count": null,
   "metadata": {},
   "outputs": [],
   "source": [
    "src = SplitDataset(path/'original')\n",
    "align_2p_volume(src, across_planes=False, n_jobs=5)"
   ]
  },
  {
   "cell_type": "code",
   "execution_count": 3,
   "metadata": {},
   "outputs": [],
   "source": [
    "src = SplitDataset(path/'original')\n",
    "aligned = sorted(list((path/'aligned').glob('*.h5')))\n",
    "rot_theta = fl.load(path/\"rot_theta.h5\")\n",
    "(path/\"rotated\").mkdir()\n",
    "shutil.copy(path/\"aligned/stack_metadata.json\", path/\"rotated/stack_metadata.json\")\n",
    "\n",
    "for plane in range(src.shape[1]):\n",
    "    theta = rot_theta[plane]\n",
    "    if theta == 0:\n",
    "        shutil.copy(path/\"aligned/{:04d}.h5\".format(plane), path/\"rotated/{:04d}.h5\".format(plane))\n",
    "    else:\n",
    "        data = src[:, plane:plane+1, :, :]\n",
    "        transformed = np.empty(data.shape)\n",
    "        shifts = fl.load(aligned[plane])['shifts']\n",
    "        rotate = rot_mx(theta * np.pi/180)\n",
    "        for i in range(data.shape[0]): \n",
    "            this = data[i,0,:,:]\n",
    "            shift = shifts[i,0,:]\n",
    "            affine = tf_mx((data.shape[-1]//2,)*2) @ (rotate @ tf_mx(shift - data.shape[-1]//2))\n",
    "            transformed[i,0,:,:] = affine_transform(this, affine)\n",
    "        fl.save(path/\"rotated/{:04d}.h5\".format(plane), dict(stack_4D=transformed), compression=\"blosc\")"
   ]
  },
  {
   "cell_type": "code",
   "execution_count": 4,
   "metadata": {},
   "outputs": [],
   "source": [
    "mask = io.imread(path/\"mask.tif\", plugin='tifffile')\n",
    "transformed = np.empty(mask.shape)\n",
    "\n",
    "for plane in range(mask.shape[0]):\n",
    "    this = mask[plane, :, :]\n",
    "    theta = rot_theta[plane]\n",
    "    if theta == 0:\n",
    "        transformed[plane,:,:] = this\n",
    "    else:\n",
    "        rotate = rot_mx(theta * np.pi/180)\n",
    "        affine = tf_mx((mask.shape[-1]//2,)*2) @ (rotate @ tf_mx((-mask.shape[-1]//2,)*2))\n",
    "        transformed[plane,:,:] = affine_transform(this, affine)\n",
    "io.imsave(path/\"mask_rotated.tif\", transformed, plugin='tifffile')"
   ]
  },
  {
   "cell_type": "code",
   "execution_count": null,
   "metadata": {},
   "outputs": [],
   "source": []
  }
 ],
 "metadata": {
  "kernelspec": {
   "display_name": "Python 3",
   "language": "python",
   "name": "python3"
  },
  "language_info": {
   "codemirror_mode": {
    "name": "ipython",
    "version": 3
   },
   "file_extension": ".py",
   "mimetype": "text/x-python",
   "name": "python",
   "nbconvert_exporter": "python",
   "pygments_lexer": "ipython3",
   "version": "3.7.10"
  }
 },
 "nbformat": 4,
 "nbformat_minor": 4
}

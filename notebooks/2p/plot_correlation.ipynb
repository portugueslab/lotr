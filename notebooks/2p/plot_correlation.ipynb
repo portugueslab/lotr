{
 "cells": [
  {
   "cell_type": "code",
   "execution_count": 1,
   "id": "c492cf01",
   "metadata": {},
   "outputs": [],
   "source": [
    "%matplotlib widget"
   ]
  },
  {
   "cell_type": "code",
   "execution_count": 2,
   "id": "b8eb67e8",
   "metadata": {},
   "outputs": [],
   "source": [
    "from pathlib import Path\n",
    "from split_dataset import SplitDataset\n",
    "from skimage import io\n",
    "\n",
    "import numpy as np\n",
    "from scipy.stats import zscore\n",
    "from bouter.utilities import fast_pearson\n",
    "\n",
    "import matplotlib.pyplot as plt\n",
    "from matplotlib.gridspec import GridSpecFromSubplotSpec"
   ]
  },
  {
   "cell_type": "code",
   "execution_count": 3,
   "id": "1a63646a",
   "metadata": {},
   "outputs": [],
   "source": [
    "path = Path(r'C:\\Users\\You\\Documents\\test')"
   ]
  },
  {
   "cell_type": "markdown",
   "id": "2ca651c0",
   "metadata": {},
   "source": [
    "### plot origial"
   ]
  },
  {
   "cell_type": "code",
   "execution_count": 4,
   "id": "ac64e16f",
   "metadata": {},
   "outputs": [
    {
     "data": {
      "application/vnd.jupyter.widget-view+json": {
       "model_id": "2c0c276fa2da4cad908383087485c10c",
       "version_major": 2,
       "version_minor": 0
      },
      "text/plain": [
       "Canvas(toolbar=Toolbar(toolitems=[('Home', 'Reset original view', 'home', 'home'), ('Back', 'Back to previous …"
      ]
     },
     "metadata": {},
     "output_type": "display_data"
    },
    {
     "name": "stderr",
     "output_type": "stream",
     "text": [
      "C:\\Users\\You\\miniconda3\\envs\\rplab\\lib\\site-packages\\ipykernel_launcher.py:42: RuntimeWarning: Mean of empty slice\n",
      "C:\\Users\\You\\miniconda3\\envs\\rplab\\lib\\site-packages\\ipykernel_launcher.py:85: RuntimeWarning: Mean of empty slice\n"
     ]
    },
    {
     "data": {
      "text/plain": [
       "[Text(0.5, 1.0, 'pooled')]"
      ]
     },
     "execution_count": 4,
     "metadata": {},
     "output_type": "execute_result"
    }
   ],
   "source": [
    "aligned_ds = SplitDataset(path/\"aligned\")\n",
    "mask_all = io.imread(path/\"mask.tif\", plugin=\"tifffile\")\n",
    "\n",
    "n_bin_x, n_bin_y = 20, 10\n",
    "pooled_mx = np.full((aligned_ds.shape[1], n_bin_x*2-1, n_bin_y*2-1), np.nan)\n",
    "x_pooled = np.full((aligned_ds.shape[1], n_bin_x*2-1), np.nan)\n",
    "y_pooled = np.full((aligned_ds.shape[1], n_bin_y*2-1), np.nan)\n",
    "\n",
    "fig, ax = plt.subplots(3,4, figsize=(8,6), constrained_layout=True)\n",
    "fig.suptitle('original each')\n",
    "for plane in range(aligned_ds.shape[1]):\n",
    "    aligned = aligned_ds[:,plane,:,:]\n",
    "    mask = mask_all[plane,:,:]\n",
    "    px_mask = np.argwhere(mask>=1)\n",
    "    px_str = [str(x0)+str(y0) for x0, y0 in px_mask]\n",
    "    \n",
    "    x_loc = np.unique(px_mask[:,0])\n",
    "    y_loc = np.unique(px_mask[:,1])\n",
    "    x_bins = np.digitize(x_loc, np.linspace(x_loc.min(), x_loc.max(), n_bin_x)) - 1\n",
    "    y_bins = np.digitize(y_loc, np.linspace(y_loc.min(), y_loc.max(), n_bin_y)) - 1\n",
    "    \n",
    "    traces = np.full((aligned.shape[0], n_bin_x, n_bin_y), np.nan)\n",
    "    for x in range(n_bin_x):\n",
    "        for y in range(n_bin_y):\n",
    "            px_here = np.array([(x0, y0) for x0 in x_loc[x_bins==x] for y0 in y_loc[y_bins==y]])\n",
    "            px_here_str = [str(x0)+str(y0) for x0, y0 in px_here]\n",
    "            px_here = px_here[np.isin(px_here_str, px_str)]\n",
    "            if len(px_here) > 0:\n",
    "                traces[:, x, y] = np.nanmean(aligned[:, px_here[:,0], px_here[:,1]], axis=-1)\n",
    "    traces = zscore(traces, axis=0, nan_policy='omit')\n",
    "            \n",
    "    mx = np.full((n_bin_x*n_bin_y, n_bin_x*2-1, n_bin_y*2-1), np.nan)\n",
    "    for x0 in range(n_bin_x):\n",
    "        for y0 in range(n_bin_y):\n",
    "            this = traces[:, x0, y0]\n",
    "            if not np.isnan(this).all():\n",
    "                for x in range(n_bin_x):\n",
    "                    for y in range(n_bin_y):\n",
    "                        that = traces[:, x, y]\n",
    "                        if not np.isnan(that).all():\n",
    "                            mx[x0*n_bin_y+y0, x-x0+n_bin_x-1, y-y0+n_bin_y-1] = fast_pearson(this, that)\n",
    "    mx = np.nanmean(mx, axis=0)\n",
    "    pooled_mx[plane,:,:] = mx\n",
    "    \n",
    "    x_traces = np.full((aligned.shape[0], n_bin_x), np.nan)\n",
    "    for x in range(n_bin_x):\n",
    "        px_here = np.array([(x0, y0) for x0 in x_loc[x_bins==x] for y0 in y_loc])\n",
    "        px_here_str = [str(x0)+str(y0) for x0, y0 in px_here]\n",
    "        px_here = px_here[np.isin(px_here_str, px_str)]\n",
    "        if len(px_here) > 0:\n",
    "            x_traces[:, x] = np.nanmean(aligned[:, px_here[:,0], px_here[:,1]], axis=-1)\n",
    "    x_traces = zscore(x_traces, axis=0, nan_policy='omit')\n",
    "    x_mx = np.full((n_bin_x, n_bin_x*2-1), np.nan)\n",
    "    for x0 in range(n_bin_x):\n",
    "        this = x_traces[:, x0]\n",
    "        if not np.isnan(this).all():\n",
    "            for x in range(n_bin_x):\n",
    "                that = x_traces[:, x]\n",
    "                if not np.isnan(that).all():\n",
    "                    x_mx[x0, x-x0+n_bin_x-1] = fast_pearson(this, that)\n",
    "    x_mx = np.nanmean(x_mx, axis=0)\n",
    "    x_pooled[plane,:] = x_mx\n",
    "\n",
    "    y_traces = np.full((aligned.shape[0], n_bin_y), np.nan)\n",
    "    for y in range(n_bin_y):\n",
    "        px_here = np.array([(x0, y0) for x0 in x_loc for y0 in y_loc[y_bins==y]])\n",
    "        px_here_str = [str(x0)+str(y0) for x0, y0 in px_here]\n",
    "        px_here = px_here[np.isin(px_here_str, px_str)]\n",
    "        if len(px_here) > 0:\n",
    "            y_traces[:, y] = np.nanmean(aligned[:, px_here[:,0], px_here[:,1]], axis=-1)\n",
    "    y_traces = zscore(y_traces, axis=0, nan_policy='omit')\n",
    "    y_mx = np.full((n_bin_y, n_bin_y*2-1), np.nan)\n",
    "    for y0 in range(n_bin_y):\n",
    "        this = y_traces[:, y0]\n",
    "        if not np.isnan(this).all():\n",
    "            for y in range(n_bin_y):\n",
    "                that = y_traces[:, y]\n",
    "                if not np.isnan(that).all():\n",
    "                    y_mx[y0, y-y0+n_bin_y-1] = fast_pearson(this, that)\n",
    "    y_mx = np.nanmean(y_mx, axis=0)\n",
    "    y_pooled[plane,:] = y_mx\n",
    "    \n",
    "    ax.flat[plane].matshow(mx.T, vmin=-0.6, vmax=0.6, cmap='coolwarm')\n",
    "    \n",
    "ax.flat[-1].matshow(np.nanmean(pooled_mx, axis=0).T, vmin=-0.6, vmax=0.6, cmap='coolwarm')\n",
    "ax.flat[-1].set(title='pooled')"
   ]
  },
  {
   "cell_type": "code",
   "execution_count": 5,
   "id": "bc7ffb70",
   "metadata": {},
   "outputs": [
    {
     "data": {
      "application/vnd.jupyter.widget-view+json": {
       "model_id": "519cac693b59412e94da87459d44922a",
       "version_major": 2,
       "version_minor": 0
      },
      "text/plain": [
       "Canvas(toolbar=Toolbar(toolitems=[('Home', 'Reset original view', 'home', 'home'), ('Back', 'Back to previous …"
      ]
     },
     "metadata": {},
     "output_type": "display_data"
    },
    {
     "name": "stderr",
     "output_type": "stream",
     "text": [
      "C:\\Users\\You\\miniconda3\\envs\\rplab\\lib\\site-packages\\ipykernel_launcher.py:6: RuntimeWarning: Mean of empty slice\n",
      "  \n"
     ]
    },
    {
     "data": {
      "text/plain": [
       "(-1.0505809372285675, 0.062199681799916036, -0.9, 18.9)"
      ]
     },
     "execution_count": 5,
     "metadata": {},
     "output_type": "execute_result"
    }
   ],
   "source": [
    "fig = plt.figure(figsize=(6,4), tight_layout=True)\n",
    "fig.suptitle(\"original\")\n",
    "gs = fig.add_gridspec(2, 2, width_ratios=[3,10], height_ratios=[3,10], wspace=0, hspace=0)\n",
    "\n",
    "ax = fig.add_subplot(gs[1,1])\n",
    "ax.matshow(np.nanmean(pooled_mx, axis=0).T, vmin=-0.5, vmax=0.5, cmap='coolwarm')\n",
    "ax.yaxis.set_ticks_position('right')\n",
    "ax.xaxis.set_ticks_position('bottom')\n",
    "ax.set(\n",
    "    xticks=range(2*n_bin_x-1), xticklabels=np.linspace(-n_bin_x+1, n_bin_x-1, 2*n_bin_x-1, dtype='int'),\n",
    "    yticks=range(2*n_bin_y-1), yticklabels=np.linspace(-n_bin_y+1, n_bin_y-1, 2*n_bin_y-1, dtype='int')\n",
    ")\n",
    "\n",
    "ax = fig.add_subplot(gs[0,1])\n",
    "for i in range(len(x_pooled)):\n",
    "    ax.plot(x_pooled[i,:], alpha=0.3)\n",
    "ax.plot(np.nanmean(x_pooled, axis=0), c='k')\n",
    "ax.axis('off')\n",
    "\n",
    "ax = fig.add_subplot(gs[1,0])\n",
    "for i in range(y_pooled.shape[0]):\n",
    "    ax.plot(-y_pooled[i,:], range(y_pooled.shape[1]), alpha=0.3)\n",
    "ax.plot(-np.nanmean(y_pooled, axis=0), range(y_pooled.shape[1]), c='k')\n",
    "ax.axis('off')"
   ]
  },
  {
   "cell_type": "markdown",
   "id": "599ae4d7",
   "metadata": {},
   "source": [
    "### plot aligned"
   ]
  },
  {
   "cell_type": "code",
   "execution_count": 6,
   "id": "0da1f6d0",
   "metadata": {},
   "outputs": [
    {
     "data": {
      "application/vnd.jupyter.widget-view+json": {
       "model_id": "6e68e4667aae4b77bcc70400b8df54b1",
       "version_major": 2,
       "version_minor": 0
      },
      "text/plain": [
       "Canvas(toolbar=Toolbar(toolitems=[('Home', 'Reset original view', 'home', 'home'), ('Back', 'Back to previous …"
      ]
     },
     "metadata": {},
     "output_type": "display_data"
    },
    {
     "name": "stderr",
     "output_type": "stream",
     "text": [
      "C:\\Users\\You\\miniconda3\\envs\\rplab\\lib\\site-packages\\ipykernel_launcher.py:42: RuntimeWarning: Mean of empty slice\n",
      "C:\\Users\\You\\miniconda3\\envs\\rplab\\lib\\site-packages\\ipykernel_launcher.py:85: RuntimeWarning: Mean of empty slice\n"
     ]
    },
    {
     "data": {
      "text/plain": [
       "[Text(0.5, 1.0, 'pooled')]"
      ]
     },
     "execution_count": 6,
     "metadata": {},
     "output_type": "execute_result"
    }
   ],
   "source": [
    "aligned_ds = SplitDataset(path/\"rotated\")\n",
    "mask_all = io.imread(path/\"mask_rotated.tif\", plugin=\"tifffile\")\n",
    "\n",
    "n_bin_x, n_bin_y = 20, 10\n",
    "pooled_mx = np.full((aligned_ds.shape[1], n_bin_x*2-1, n_bin_y*2-1), np.nan)\n",
    "x_pooled = np.full((aligned_ds.shape[1], n_bin_x*2-1), np.nan)\n",
    "y_pooled = np.full((aligned_ds.shape[1], n_bin_y*2-1), np.nan)\n",
    "\n",
    "fig, ax = plt.subplots(3,4, figsize=(8,6), constrained_layout=True)\n",
    "fig.suptitle('rotated each')\n",
    "for plane in range(aligned_ds.shape[1]):\n",
    "    aligned = aligned_ds[:,plane,:,:]\n",
    "    mask = mask_all[plane,:,:]\n",
    "    px_mask = np.argwhere(mask>=1)\n",
    "    px_str = [str(x0)+str(y0) for x0, y0 in px_mask]\n",
    "    \n",
    "    x_loc = np.unique(px_mask[:,0])\n",
    "    y_loc = np.unique(px_mask[:,1])\n",
    "    x_bins = np.digitize(x_loc, np.linspace(x_loc.min(), x_loc.max(), n_bin_x)) - 1\n",
    "    y_bins = np.digitize(y_loc, np.linspace(y_loc.min(), y_loc.max(), n_bin_y)) - 1\n",
    "    \n",
    "    traces = np.full((aligned.shape[0], n_bin_x, n_bin_y), np.nan)\n",
    "    for x in range(n_bin_x):\n",
    "        for y in range(n_bin_y):\n",
    "            px_here = np.array([(x0, y0) for x0 in x_loc[x_bins==x] for y0 in y_loc[y_bins==y]])\n",
    "            px_here_str = [str(x0)+str(y0) for x0, y0 in px_here]\n",
    "            px_here = px_here[np.isin(px_here_str, px_str)]\n",
    "            if len(px_here) > 0:\n",
    "                traces[:, x, y] = np.nanmean(aligned[:, px_here[:,0], px_here[:,1]], axis=-1)\n",
    "    traces = zscore(traces, axis=0, nan_policy='omit')\n",
    "            \n",
    "    mx = np.full((n_bin_x*n_bin_y, n_bin_x*2-1, n_bin_y*2-1), np.nan)\n",
    "    for x0 in range(n_bin_x):\n",
    "        for y0 in range(n_bin_y):\n",
    "            this = traces[:, x0, y0]\n",
    "            if not np.isnan(this).all():\n",
    "                for x in range(n_bin_x):\n",
    "                    for y in range(n_bin_y):\n",
    "                        that = traces[:, x, y]\n",
    "                        if not np.isnan(that).all():\n",
    "                            mx[x0*n_bin_y+y0, x-x0+n_bin_x-1, y-y0+n_bin_y-1] = fast_pearson(this, that)\n",
    "    mx = np.nanmean(mx, axis=0)\n",
    "    pooled_mx[plane,:,:] = mx\n",
    "    \n",
    "    x_traces = np.full((aligned.shape[0], n_bin_x), np.nan)\n",
    "    for x in range(n_bin_x):\n",
    "        px_here = np.array([(x0, y0) for x0 in x_loc[x_bins==x] for y0 in y_loc])\n",
    "        px_here_str = [str(x0)+str(y0) for x0, y0 in px_here]\n",
    "        px_here = px_here[np.isin(px_here_str, px_str)]\n",
    "        if len(px_here) > 0:\n",
    "            x_traces[:, x] = np.nanmean(aligned[:, px_here[:,0], px_here[:,1]], axis=-1)\n",
    "    x_traces = zscore(x_traces, axis=0, nan_policy='omit')\n",
    "    x_mx = np.full((n_bin_x, n_bin_x*2-1), np.nan)\n",
    "    for x0 in range(n_bin_x):\n",
    "        this = x_traces[:, x0]\n",
    "        if not np.isnan(this).all():\n",
    "            for x in range(n_bin_x):\n",
    "                that = x_traces[:, x]\n",
    "                if not np.isnan(that).all():\n",
    "                    x_mx[x0, x-x0+n_bin_x-1] = fast_pearson(this, that)\n",
    "    x_mx = np.nanmean(x_mx, axis=0)\n",
    "    x_pooled[plane,:] = x_mx\n",
    "\n",
    "    y_traces = np.full((aligned.shape[0], n_bin_y), np.nan)\n",
    "    for y in range(n_bin_y):\n",
    "        px_here = np.array([(x0, y0) for x0 in x_loc for y0 in y_loc[y_bins==y]])\n",
    "        px_here_str = [str(x0)+str(y0) for x0, y0 in px_here]\n",
    "        px_here = px_here[np.isin(px_here_str, px_str)]\n",
    "        if len(px_here) > 0:\n",
    "            y_traces[:, y] = np.nanmean(aligned[:, px_here[:,0], px_here[:,1]], axis=-1)\n",
    "    y_traces = zscore(y_traces, axis=0, nan_policy='omit')\n",
    "    y_mx = np.full((n_bin_y, n_bin_y*2-1), np.nan)\n",
    "    for y0 in range(n_bin_y):\n",
    "        this = y_traces[:, y0]\n",
    "        if not np.isnan(this).all():\n",
    "            for y in range(n_bin_y):\n",
    "                that = y_traces[:, y]\n",
    "                if not np.isnan(that).all():\n",
    "                    y_mx[y0, y-y0+n_bin_y-1] = fast_pearson(this, that)\n",
    "    y_mx = np.nanmean(y_mx, axis=0)\n",
    "    y_pooled[plane,:] = y_mx\n",
    "    \n",
    "    ax.flat[plane].matshow(mx.T, vmin=-0.6, vmax=0.6, cmap='coolwarm')\n",
    "    \n",
    "ax.flat[-1].matshow(np.nanmean(pooled_mx, axis=0).T, vmin=-0.6, vmax=0.6, cmap='coolwarm')\n",
    "ax.flat[-1].set(title='pooled')"
   ]
  },
  {
   "cell_type": "code",
   "execution_count": 7,
   "id": "51ca0bd0",
   "metadata": {},
   "outputs": [
    {
     "data": {
      "application/vnd.jupyter.widget-view+json": {
       "model_id": "23ef1ff52d6d4eca9f07371d2796b76e",
       "version_major": 2,
       "version_minor": 0
      },
      "text/plain": [
       "Canvas(toolbar=Toolbar(toolitems=[('Home', 'Reset original view', 'home', 'home'), ('Back', 'Back to previous …"
      ]
     },
     "metadata": {},
     "output_type": "display_data"
    },
    {
     "name": "stderr",
     "output_type": "stream",
     "text": [
      "C:\\Users\\You\\miniconda3\\envs\\rplab\\lib\\site-packages\\ipykernel_launcher.py:6: RuntimeWarning: Mean of empty slice\n",
      "  \n"
     ]
    },
    {
     "data": {
      "text/plain": [
       "(-1.0517259064463733, 0.08624403537383869, -0.9, 18.9)"
      ]
     },
     "execution_count": 7,
     "metadata": {},
     "output_type": "execute_result"
    }
   ],
   "source": [
    "fig = plt.figure(figsize=(6,4), tight_layout=True)\n",
    "fig.suptitle(\"rotated\")\n",
    "gs = fig.add_gridspec(2, 2, width_ratios=[3,10], height_ratios=[3,10], wspace=0, hspace=0)\n",
    "\n",
    "ax = fig.add_subplot(gs[1,1])\n",
    "ax.matshow(np.nanmean(pooled_mx, axis=0).T, vmin=-0.5, vmax=0.5, cmap='coolwarm')\n",
    "ax.yaxis.set_ticks_position('right')\n",
    "ax.xaxis.set_ticks_position('bottom')\n",
    "ax.set(\n",
    "    xticks=range(2*n_bin_x-1), xticklabels=np.linspace(-n_bin_x+1, n_bin_x-1, 2*n_bin_x-1, dtype='int'),\n",
    "    yticks=range(2*n_bin_y-1), yticklabels=np.linspace(-n_bin_y+1, n_bin_y-1, 2*n_bin_y-1, dtype='int')\n",
    ")\n",
    "\n",
    "ax = fig.add_subplot(gs[0,1])\n",
    "for i in range(len(x_pooled)):\n",
    "    ax.plot(x_pooled[i,:], alpha=0.3)\n",
    "ax.plot(np.nanmean(x_pooled, axis=0), c='k')\n",
    "ax.axis('off')\n",
    "\n",
    "ax = fig.add_subplot(gs[1,0])\n",
    "for i in range(y_pooled.shape[0]):\n",
    "    ax.plot(-y_pooled[i,:], range(y_pooled.shape[1]), alpha=0.3)\n",
    "ax.plot(-np.nanmean(y_pooled, axis=0), range(y_pooled.shape[1]), c='k')\n",
    "ax.axis('off')"
   ]
  },
  {
   "cell_type": "code",
   "execution_count": null,
   "id": "a659a279-65c0-4a82-8284-6b46ffaa946b",
   "metadata": {},
   "outputs": [],
   "source": []
  }
 ],
 "metadata": {
  "kernelspec": {
   "display_name": "Python 3",
   "language": "python",
   "name": "python3"
  },
  "language_info": {
   "codemirror_mode": {
    "name": "ipython",
    "version": 3
   },
   "file_extension": ".py",
   "mimetype": "text/x-python",
   "name": "python",
   "nbconvert_exporter": "python",
   "pygments_lexer": "ipython3",
   "version": "3.7.10"
  }
 },
 "nbformat": 4,
 "nbformat_minor": 5
}

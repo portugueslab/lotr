{
 "cells": [
  {
   "cell_type": "code",
   "execution_count": 1,
   "metadata": {},
   "outputs": [
    {
     "ename": "ModuleNotFoundError",
     "evalue": "No module named 'split_dataset'",
     "output_type": "error",
     "traceback": [
      "\u001b[0;31m---------------------------------------------------------------------------\u001b[0m",
      "\u001b[0;31mModuleNotFoundError\u001b[0m                       Traceback (most recent call last)",
      "Input \u001b[0;32mIn [1]\u001b[0m, in \u001b[0;36m<cell line: 5>\u001b[0;34m()\u001b[0m\n\u001b[1;32m      3\u001b[0m \u001b[38;5;28;01mimport\u001b[39;00m \u001b[38;5;21;01mflammkuchen\u001b[39;00m \u001b[38;5;28;01mas\u001b[39;00m \u001b[38;5;21;01mfl\u001b[39;00m\n\u001b[1;32m      4\u001b[0m \u001b[38;5;28;01mfrom\u001b[39;00m \u001b[38;5;21;01mskimage\u001b[39;00m \u001b[38;5;28;01mimport\u001b[39;00m io\n\u001b[0;32m----> 5\u001b[0m \u001b[38;5;28;01mfrom\u001b[39;00m \u001b[38;5;21;01msplit_dataset\u001b[39;00m \u001b[38;5;28;01mimport\u001b[39;00m SplitDataset\n\u001b[1;32m      6\u001b[0m \u001b[38;5;28;01mimport\u001b[39;00m \u001b[38;5;21;01mnumpy\u001b[39;00m \u001b[38;5;28;01mas\u001b[39;00m \u001b[38;5;21;01mnp\u001b[39;00m\n\u001b[1;32m      7\u001b[0m \u001b[38;5;28;01mfrom\u001b[39;00m \u001b[38;5;21;01mfimpy\u001b[39;00m\u001b[38;5;21;01m.\u001b[39;00m\u001b[38;5;21;01mpipeline\u001b[39;00m\u001b[38;5;21;01m.\u001b[39;00m\u001b[38;5;21;01malignment\u001b[39;00m \u001b[38;5;28;01mimport\u001b[39;00m align_2p_volume\n",
      "\u001b[0;31mModuleNotFoundError\u001b[0m: No module named 'split_dataset'"
     ]
    }
   ],
   "source": [
    "import shutil\n",
    "from pathlib import Path\n",
    "import flammkuchen as fl\n",
    "from skimage import io\n",
    "from split_dataset import SplitDataset\n",
    "import numpy as np\n",
    "from fimpy.pipeline.alignment import align_2p_volume\n",
    "from fimpy.pipeline.general import make_anatomy\n",
    "from scipy.ndimage import affine_transform\n",
    "\n",
    "from lotr import DATASET_LOCATION\n",
    "\n",
    "def transl_mx(shift):\n",
    "    return np.array([[1,0,shift[0]], [0,1,shift[1]], [0,0,1]])\n",
    "\n",
    "def rot_mx(theta):\n",
    "    return np.array([[np.cos(theta),-np.sin(theta),0], [np.sin(theta),np.cos(theta),0], [0,0,1]])"
   ]
  },
  {
   "cell_type": "code",
   "execution_count": 2,
   "metadata": {},
   "outputs": [
    {
     "ename": "NameError",
     "evalue": "name 'DATASET_LOCATION' is not defined",
     "output_type": "error",
     "traceback": [
      "\u001b[0;31m---------------------------------------------------------------------------\u001b[0m",
      "\u001b[0;31mNameError\u001b[0m                                 Traceback (most recent call last)",
      "Input \u001b[0;32mIn [2]\u001b[0m, in \u001b[0;36m<cell line: 1>\u001b[0;34m()\u001b[0m\n\u001b[0;32m----> 1\u001b[0m path \u001b[38;5;241m=\u001b[39m \u001b[43mDATASET_LOCATION\u001b[49m\u001b[38;5;241m.\u001b[39mparent \u001b[38;5;241m/\u001b[39m \u001b[38;5;124m\"\u001b[39m\u001b[38;5;124m2p_corr\u001b[39m\u001b[38;5;124m\"\u001b[39m\n",
      "\u001b[0;31mNameError\u001b[0m: name 'DATASET_LOCATION' is not defined"
     ]
    }
   ],
   "source": [
    "path = DATASET_LOCATION.parent / \"2p_corr\"# Path(r'\\\\Funes\\Shared\\experiments\\E0071_lotr\\2p_corr')"
   ]
  },
  {
   "cell_type": "code",
   "execution_count": null,
   "metadata": {},
   "outputs": [],
   "source": [
    "src = SplitDataset(path/'original')\n",
    "aligned = align_2p_volume(src, across_planes=False, n_jobs=3)"
   ]
  },
  {
   "cell_type": "code",
   "execution_count": null,
   "metadata": {},
   "outputs": [],
   "source": [
    "src = SplitDataset(path/'original')\n",
    "aligned = sorted(list((path/'aligned').glob('*.h5')))\n",
    "rot_theta = fl.load(path/'rot_theta.h5')\n",
    "output_dir = path/\"rotated\"\n",
    "output_dir.mkdir()\n",
    "shutil.copy(path/\"aligned/stack_metadata.json\", output_dir/\"stack_metadata.json\")\n",
    "\n",
    "for plane in range(src.shape[1]):\n",
    "    theta = rot_theta[plane]\n",
    "    if theta == 0:\n",
    "        shutil.copy(path/\"aligned/{:04d}.h5\".format(plane), output_dir/\"{:04d}.h5\".format(plane))\n",
    "    else:\n",
    "        data = src[:, plane:plane+1, :, :]\n",
    "        shifts = fl.load(aligned[plane])['shifts']\n",
    "        rotate = rot_mx(theta * np.pi/180)\n",
    "        transformed = np.empty(data.shape)\n",
    "        for i in range(data.shape[0]):\n",
    "            shift = shifts[i,0,:]\n",
    "            if np.any(shift > 15):\n",
    "                transformed[i,0,:,:] = 0\n",
    "            else:\n",
    "                this = data[i,0,:,:]\n",
    "                affine = transl_mx((data.shape[-1]//2,)*2) @ rotate @ transl_mx(shift - data.shape[-1]//2)\n",
    "                transformed[i,0,:,:] = affine_transform(this, affine)\n",
    "        fl.save(output_dir/\"{:04d}.h5\".format(plane), dict(stack_4D=transformed), compression=\"blosc\")"
   ]
  },
  {
   "cell_type": "code",
   "execution_count": null,
   "metadata": {},
   "outputs": [],
   "source": [
    "rotated = SplitDataset(output_dir)\n",
    "make_anatomy(rotated, n_jobs=1)"
   ]
  },
  {
   "cell_type": "code",
   "execution_count": null,
   "metadata": {},
   "outputs": [],
   "source": [
    "mask = io.imread(path/\"mask.tif\", plugin='tifffile')\n",
    "transformed = np.empty(mask.shape)\n",
    "rot_theta = fl.load(path/\"rot_theta.h5\")\n",
    "for plane in range(mask.shape[0]):\n",
    "    this = mask[plane,:,:]\n",
    "    theta = rot_theta[plane]\n",
    "    if theta == 0:\n",
    "        transformed[plane,:,:] = this\n",
    "    else:\n",
    "        rotate = rot_mx(theta * np.pi/180)\n",
    "        affine = transl_mx((mask.shape[-1]//2,)*2) @ rotate @ transl_mx((-mask.shape[-1]//2,)*2)\n",
    "        transformed[plane,:,:] = affine_transform(this, affine)\n",
    "io.imsave(path/\"mask_rotated.tif\", transformed.astype(\"int8\"), plugin='tifffile')"
   ]
  },
  {
   "cell_type": "code",
   "execution_count": null,
   "metadata": {},
   "outputs": [],
   "source": []
  }
 ],
 "metadata": {
  "kernelspec": {
   "display_name": "rplab",
   "language": "python",
   "name": "rplab"
  },
  "language_info": {
   "codemirror_mode": {
    "name": "ipython",
    "version": 3
   },
   "file_extension": ".py",
   "mimetype": "text/x-python",
   "name": "python",
   "nbconvert_exporter": "python",
   "pygments_lexer": "ipython3",
   "version": "3.8.8"
  }
 },
 "nbformat": 4,
 "nbformat_minor": 4
}

{
 "cells": [
  {
   "cell_type": "code",
   "execution_count": 1,
   "metadata": {},
   "outputs": [],
   "source": [
    "%matplotlib widget"
   ]
  },
  {
   "cell_type": "code",
   "execution_count": 2,
   "metadata": {},
   "outputs": [],
   "source": [
    "from pathlib import Path\n",
    "from split_dataset import SplitDataset\n",
    "from skimage import io\n",
    "import numpy as np\n",
    "from scipy.stats import zscore\n",
    "from bouter.utilities import fast_pearson\n",
    "import matplotlib.pyplot as plt\n",
    "from matplotlib.colors import hex2color\n",
    "from lotr.plotting import add_anatomy_scalebar, add_cbar"
   ]
  },
  {
   "cell_type": "code",
   "execution_count": 3,
   "metadata": {},
   "outputs": [],
   "source": [
    "path = Path(r\"C:\\Users\\You\\Documents\\test\")\n",
    "\n",
    "aligned_ds = SplitDataset(path/\"rotated\")\n",
    "anatomy_ds = SplitDataset(path/\"anatomy\")\n",
    "mask_all = io.imread(path/\"mask_rotated.tif\", plugin=\"tifffile\")"
   ]
  },
  {
   "cell_type": "code",
   "execution_count": 4,
   "metadata": {},
   "outputs": [],
   "source": [
    "plane = 6\n",
    "bin_px = 10\n",
    "crop = slice(20,-20)\n",
    "\n",
    "aligned = aligned_ds[:,plane,crop,crop]\n",
    "anatomy = anatomy_ds[plane,crop,crop]\n",
    "mask = mask_all[plane,crop,crop]\n",
    "\n",
    "px_masked = np.argwhere(mask>=1)\n",
    "px_str = [str(x0)+str(y0) for x0, y0 in px_masked]\n",
    "x_loc = np.unique(px_masked[:,0])\n",
    "y_loc = np.unique(px_masked[:,1])\n",
    "x_bins = np.digitize(x_loc, np.arange(x_loc.min(), x_loc.max()+1, bin_px)) - 1\n",
    "y_bins = np.digitize(y_loc, np.arange(y_loc.min(), y_loc.max()+1, bin_px)) - 1\n",
    "n_bin_x = x_bins.max() + 1\n",
    "n_bin_y = y_bins.max() + 1\n",
    "\n",
    "traces = np.full((aligned.shape[0], n_bin_x*n_bin_y), np.nan)\n",
    "roi_img = np.full(anatomy.shape, np.nan)\n",
    "for x in range(n_bin_x):\n",
    "    for y in range(n_bin_y):\n",
    "        px_here = np.array([(x0, y0) for x0 in x_loc[x_bins==x] for y0 in y_loc[y_bins==y]])\n",
    "        px_here_str = [str(x0)+str(y0) for x0, y0 in px_here]\n",
    "        px_here = px_here[np.isin(px_here_str, px_str)]\n",
    "        if len(px_here) > 0:\n",
    "            traces[:, x*n_bin_y+y] = np.nanmean(aligned[:, px_here[:,0], px_here[:,1]], axis=-1)\n",
    "            roi_img[px_here[:,0], px_here[:,1]] = x*n_bin_y+y\n",
    "traces = zscore(traces, axis=0, nan_policy='omit')"
   ]
  },
  {
   "cell_type": "code",
   "execution_count": 5,
   "metadata": {},
   "outputs": [
    {
     "data": {
      "application/vnd.jupyter.widget-view+json": {
       "model_id": "47c6e50f8dc54d63aeebbcfb0ae76efa",
       "version_major": 2,
       "version_minor": 0
      },
      "text/plain": [
       "Canvas(toolbar=Toolbar(toolitems=[('Home', 'Reset original view', 'home', 'home'), ('Back', 'Back to previous …"
      ]
     },
     "metadata": {},
     "output_type": "display_data"
    },
    {
     "data": {
      "text/plain": [
       "<matplotlib.colorbar.Colorbar at 0x21c312bc908>"
      ]
     },
     "execution_count": 5,
     "metadata": {},
     "output_type": "execute_result"
    }
   ],
   "source": [
    "px_size = 0.35\n",
    "selected_bins = [105, 135, 175]\n",
    "vmax = np.percentile(anatomy, 99)\n",
    "extent = (0, px_size*anatomy.shape[-1],)*2\n",
    "\n",
    "fig, ax = plt.subplots(3,2, figsize=(6,9))\n",
    "\n",
    "for i, this_bin in enumerate(selected_bins):\n",
    "    this = traces[:,this_bin]\n",
    "    corr_img = roi_img.copy()\n",
    "    for b in range(traces.shape[1]):\n",
    "        that = traces[:,b]\n",
    "        if not np.isnan(that).all():\n",
    "            corr_img[corr_img==b] = fast_pearson(this, that)\n",
    "    bin_img = np.zeros(roi_img.shape + (4,))\n",
    "    bin_img[roi_img==this_bin, :] = hex2color(\"#1b9e77\") + (1,)\n",
    "    ax[i,0].imshow(anatomy.T, cmap=\"gray_r\", vmax=vmax, extent=extent, origin=\"upper\")\n",
    "    ax[i,0].imshow(bin_img.transpose(1,0,2), extent=extent, origin=\"upper\")\n",
    "    ax[i,1].imshow(anatomy.T, cmap=\"gray_r\", vmax=vmax, extent=extent, origin=\"upper\")\n",
    "    im = ax[i,1].imshow(corr_img.T, cmap=\"RdBu_r\", vmax=1, vmin=-1, extent=extent, origin=\"upper\")\n",
    "\n",
    "for a in ax.flat:\n",
    "    a.axis(\"off\")\n",
    "    \n",
    "add_anatomy_scalebar(ax[i,0], pos=[0,0], length=40, fontsize=8)\n",
    "add_cbar(im, ax[i,1], inset_loc=(1.1, 0.05, 0.05, 0.15), ticks=(-1,1))"
   ]
  },
  {
   "cell_type": "code",
   "execution_count": 6,
   "metadata": {},
   "outputs": [],
   "source": [
    "plt.savefig(path/\"Fig5c.pdf\")"
   ]
  },
  {
   "cell_type": "code",
   "execution_count": null,
   "metadata": {},
   "outputs": [],
   "source": []
  }
 ],
 "metadata": {
  "kernelspec": {
   "display_name": "Python 3 (ipykernel)",
   "language": "python",
   "name": "python3"
  },
  "language_info": {
   "codemirror_mode": {
    "name": "ipython",
    "version": 3
   },
   "file_extension": ".py",
   "mimetype": "text/x-python",
   "name": "python",
   "nbconvert_exporter": "python",
   "pygments_lexer": "ipython3",
   "version": "3.9.13"
  }
 },
 "nbformat": 4,
 "nbformat_minor": 4
}

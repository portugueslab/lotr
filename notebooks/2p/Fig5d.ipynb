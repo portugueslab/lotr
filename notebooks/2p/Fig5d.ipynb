{
 "cells": [
  {
   "cell_type": "code",
   "execution_count": 1,
   "metadata": {},
   "outputs": [],
   "source": [
    "%matplotlib widget"
   ]
  },
  {
   "cell_type": "code",
   "execution_count": 2,
   "metadata": {},
   "outputs": [],
   "source": [
    "from pathlib import Path\n",
    "from split_dataset import SplitDataset\n",
    "from skimage import io\n",
    "import numpy as np\n",
    "from scipy.stats import zscore\n",
    "from bouter.utilities import fast_corrcoef\n",
    "import matplotlib.pyplot as plt\n",
    "from matplotlib.gridspec import GridSpecFromSubplotSpec\n",
    "from lotr.plotting import add_cbar"
   ]
  },
  {
   "cell_type": "code",
   "execution_count": 3,
   "metadata": {},
   "outputs": [],
   "source": [
    "path = Path(r'C:\\Users\\You\\Documents\\test')\n",
    "\n",
    "aligned_ds = SplitDataset(path/\"rotated\")\n",
    "mask_all = io.imread(path/\"mask_rotated.tif\", plugin=\"tifffile\")"
   ]
  },
  {
   "cell_type": "code",
   "execution_count": 4,
   "metadata": {},
   "outputs": [
    {
     "name": "stderr",
     "output_type": "stream",
     "text": [
      "C:\\Users\\You\\miniconda3\\envs\\rplab\\lib\\site-packages\\ipykernel_launcher.py:39: RuntimeWarning: Mean of empty slice\n"
     ]
    }
   ],
   "source": [
    "bin_px = 10\n",
    "\n",
    "pooled = []\n",
    "x_pooled = []\n",
    "y_pooled = []\n",
    "\n",
    "for plane in range(aligned_ds.shape[1]):\n",
    "    aligned = aligned_ds[:,plane,:,:]\n",
    "    mask = mask_all[plane,:,:]\n",
    "    \n",
    "    px_mask = np.argwhere(mask>=1)\n",
    "    px_str = [str(x0)+str(y0) for x0, y0 in px_mask]\n",
    "    x_loc = np.unique(px_mask[:,0])\n",
    "    y_loc = np.unique(px_mask[:,1])\n",
    "    x_bins = np.digitize(x_loc, np.arange(x_loc.min(), x_loc.max()+1, bin_px)) - 1\n",
    "    y_bins = np.digitize(y_loc, np.arange(y_loc.min(), y_loc.max()+1, bin_px)) - 1\n",
    "    n_bin_x = x_bins.max() + 1\n",
    "    n_bin_y = y_bins.max() + 1\n",
    "    \n",
    "    traces = np.full((aligned.shape[0], n_bin_x*n_bin_y), np.nan)\n",
    "    for x in range(n_bin_x):\n",
    "        for y in range(n_bin_y):\n",
    "            px_here = np.array([(x0, y0) for x0 in x_loc[x_bins==x] for y0 in y_loc[y_bins==y]])\n",
    "            px_here_str = [str(x0)+str(y0) for x0, y0 in px_here]\n",
    "            px_here = px_here[np.isin(px_here_str, px_str)]\n",
    "            if len(px_here) > 0:\n",
    "                traces[:, x*n_bin_y+y] = np.nanmean(aligned[:, px_here[:,0], px_here[:,1]], axis=-1)\n",
    "    traces = zscore(traces, axis=0, nan_policy='omit')\n",
    "    cor = fast_corrcoef(traces.T)\n",
    "    mx = np.full((n_bin_x*n_bin_y, n_bin_x*2-1, n_bin_y*2-1), np.nan)\n",
    "    for i in range(len(cor)):\n",
    "        if not np.isnan(cor[i,np.arange(len(cor))!=i]).all():\n",
    "            x0 = i//n_bin_y\n",
    "            y0 = i%n_bin_y\n",
    "            for j in range(len(cor)):\n",
    "                x = j//n_bin_y\n",
    "                y = j%n_bin_y\n",
    "                mx[x0*n_bin_y+y0, x-x0+n_bin_x-1, y-y0+n_bin_y-1] = cor[i,j]\n",
    "    pooled.append(np.nanmean(mx, axis=0))\n",
    "    \n",
    "    traces = np.full((aligned.shape[0], n_bin_x), np.nan)\n",
    "    for x in range(n_bin_x):\n",
    "        px_here = np.array([(x0, y0) for x0 in x_loc[x_bins==x] for y0 in y_loc])\n",
    "        px_here_str = [str(x0)+str(y0) for x0, y0 in px_here]\n",
    "        px_here = px_here[np.isin(px_here_str, px_str)]\n",
    "        if len(px_here) > 0:\n",
    "            traces[:, x] = np.nanmean(aligned[:, px_here[:,0], px_here[:,1]], axis=-1)\n",
    "    traces = zscore(traces, axis=0, nan_policy='omit')\n",
    "    cor = fast_corrcoef(traces.T)\n",
    "    mx = np.full((n_bin_x, n_bin_x*2-1), np.nan)\n",
    "    for i0 in range(len(cor)):\n",
    "        for i in range(len(cor)):\n",
    "            mx[i0, i-i0+n_bin_x-1] = cor[i0,i]\n",
    "    x_pooled.append(np.nanmean(mx, axis=0))\n",
    "\n",
    "    traces = np.full((aligned.shape[0], n_bin_y), np.nan)\n",
    "    for y in range(n_bin_y):\n",
    "        px_here = np.array([(x0, y0) for x0 in x_loc for y0 in y_loc[y_bins==y]])\n",
    "        px_here_str = [str(x0)+str(y0) for x0, y0 in px_here]\n",
    "        px_here = px_here[np.isin(px_here_str, px_str)]\n",
    "        if len(px_here) > 0:\n",
    "            traces[:, y] = np.nanmean(aligned[:, px_here[:,0], px_here[:,1]], axis=-1)\n",
    "    traces = zscore(traces, axis=0, nan_policy='omit')\n",
    "    cor = fast_corrcoef(traces.T)\n",
    "    mx = np.full((n_bin_y, n_bin_y*2-1), np.nan)\n",
    "    for i0 in range(len(cor)):\n",
    "        for i in range(len(cor)):\n",
    "            mx[i0, i-i0+n_bin_y-1] = cor[i0,i]\n",
    "    y_pooled.append(np.nanmean(mx, axis=0))"
   ]
  },
  {
   "cell_type": "code",
   "execution_count": 5,
   "metadata": {},
   "outputs": [],
   "source": [
    "x_size = np.array([m.shape[0] for m in pooled]).max()\n",
    "y_size = np.array([m.shape[1] for m in pooled]).max()\n",
    "\n",
    "pooled_pad = np.full((len(pooled), x_size, y_size), np.nan)\n",
    "for i, m in enumerate(pooled):\n",
    "    x_diff = x_size-m.shape[0]\n",
    "    y_diff = y_size-m.shape[1]\n",
    "    pooled_pad[i,:,:] = np.pad(m, ((x_diff//2, x_diff//2), (y_diff//2, y_diff//2)), mode='constant', constant_values=np.nan)\n",
    "    \n",
    "x_pooled_pad = np.full((len(pooled), x_size), np.nan)\n",
    "for i, m in enumerate(x_pooled):\n",
    "    diff = x_size-m.shape[0]\n",
    "    x_pooled_pad[i,:] = np.pad(m, diff//2, mode='constant', constant_values=np.nan)\n",
    "    \n",
    "y_pooled_pad = np.full((len(pooled), y_size), np.nan)\n",
    "for i, m in enumerate(y_pooled):\n",
    "    diff = y_size-m.shape[0]\n",
    "    y_pooled_pad[i,:] = np.pad(m, diff//2, mode='constant', constant_values=np.nan)"
   ]
  },
  {
   "cell_type": "code",
   "execution_count": 6,
   "metadata": {},
   "outputs": [
    {
     "name": "stderr",
     "output_type": "stream",
     "text": [
      "C:\\Users\\You\\miniconda3\\envs\\rplab\\lib\\site-packages\\ipykernel_launcher.py:4: RuntimeWarning: Mean of empty slice\n",
      "  after removing the cwd from sys.path.\n"
     ]
    },
    {
     "data": {
      "application/vnd.jupyter.widget-view+json": {
       "model_id": "ee98eb276413406aa685449074855d4f",
       "version_major": 2,
       "version_minor": 0
      },
      "text/plain": [
       "Canvas(toolbar=Toolbar(toolitems=[('Home', 'Reset original view', 'home', 'home'), ('Back', 'Back to previous …"
      ]
     },
     "metadata": {},
     "output_type": "display_data"
    },
    {
     "data": {
      "text/plain": [
       "(-0.06296659402031904, 1.0506174568581104, -0.2, 20.2)"
      ]
     },
     "execution_count": 6,
     "metadata": {},
     "output_type": "execute_result"
    }
   ],
   "source": [
    "px_size = 0.35\n",
    "x_ext = (x_size//2)*bin_px*px_size\n",
    "y_ext = (y_size//2)*bin_px*px_size\n",
    "mx = np.nanmean(pooled_pad, axis=0)\n",
    "lim = np.ceil(np.maximum(np.nanmax(mx[mx!=1]), abs(np.nanmin(mx)))*10)/10\n",
    "\n",
    "fig = plt.figure(figsize=(6, 3))\n",
    "gs = fig.add_gridspec(2, 2, width_ratios=[11.5,1.5], height_ratios=[3,10], wspace=0, hspace=0)\n",
    "\n",
    "ax = fig.add_subplot(gs[1,0])\n",
    "im = ax.imshow(mx.T, vmin=-lim, vmax=lim, extent=(-x_ext, x_ext, -y_ext, y_ext), cmap='RdBu_r', origin=\"upper\")\n",
    "ax.xaxis.set(ticks_position='bottom')\n",
    "ax.tick_params(labelsize=6)\n",
    "ax.set(aspect=\"equal\", xticks=np.linspace(-60, 60, 5), yticks=np.linspace(-30, 30, 3), xlabel=\"frontal axis [μm]\", ylabel=\"sagittal axis [μm]\")\n",
    "mx_bbox = ax.get_position()\n",
    "add_cbar(im, ax, inset_loc=(1.1, -0.1, 0.02, 0.15), ticks=(-lim,lim))\n",
    "\n",
    "ax = fig.add_subplot(gs[0,0])\n",
    "bbox = ax.get_position()\n",
    "for i in range(len(x_pooled_pad)):\n",
    "    ax.plot(x_pooled_pad[i,:], color=\"gray\", alpha=0.2)\n",
    "ax.plot(np.nanmean(x_pooled_pad, axis=0), c='k')\n",
    "ax.margins(x=0.01)\n",
    "ax.set(position=[mx_bbox.x0, mx_bbox.y0+mx_bbox.height, mx_bbox.width, bbox.height])\n",
    "ax.axis('off')\n",
    "\n",
    "ax = fig.add_subplot(gs[1,1])\n",
    "bbox = ax.get_position()\n",
    "for i in range(len(y_pooled_pad)):\n",
    "    ax.plot(y_pooled_pad[i,:], range(y_size), color=\"gray\", alpha=0.2)\n",
    "ax.plot(np.nanmean(y_pooled_pad, axis=0), range(y_size), c='k')\n",
    "ax.margins(y=0.01)\n",
    "ax.set(position=[mx_bbox.x0+mx_bbox.width, mx_bbox.y0, bbox.width, mx_bbox.height])\n",
    "ax.axis('off')"
   ]
  },
  {
   "cell_type": "code",
   "execution_count": 7,
   "metadata": {},
   "outputs": [],
   "source": [
    "plt.savefig(path/\"Fig5d.pdf\")"
   ]
  },
  {
   "cell_type": "code",
   "execution_count": null,
   "metadata": {},
   "outputs": [],
   "source": []
  }
 ],
 "metadata": {
  "kernelspec": {
   "display_name": "Python 3 (ipykernel)",
   "language": "python",
   "name": "python3"
  },
  "language_info": {
   "codemirror_mode": {
    "name": "ipython",
    "version": 3
   },
   "file_extension": ".py",
   "mimetype": "text/x-python",
   "name": "python",
   "nbconvert_exporter": "python",
   "pygments_lexer": "ipython3",
   "version": "3.9.13"
  }
 },
 "nbformat": 4,
 "nbformat_minor": 4
}

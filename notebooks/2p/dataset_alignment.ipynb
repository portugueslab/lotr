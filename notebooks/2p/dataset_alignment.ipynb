{
 "cells": [
  {
   "cell_type": "code",
   "execution_count": 1,
   "metadata": {},
   "outputs": [],
   "source": [
    "import shutil\n",
    "from pathlib import Path\n",
    "import flammkuchen as fl\n",
    "from skimage import io\n",
    "from split_dataset import SplitDataset\n",
    "import numpy as np\n",
    "from fimpy.pipeline.alignment import align_2p_volume\n",
    "from fimpy.pipeline.general import make_anatomy\n",
    "from scipy.ndimage import affine_transform\n",
    "\n",
    "def transl_mx(shift):\n",
    "    return np.array([[1,0,shift[0]], [0,1,shift[1]], [0,0,1]])\n",
    "\n",
    "def rot_mx(theta):\n",
    "    return np.array([[np.cos(theta),-np.sin(theta),0], [np.sin(theta),np.cos(theta),0], [0,0,1]])"
   ]
  },
  {
   "cell_type": "code",
   "execution_count": 2,
   "metadata": {},
   "outputs": [],
   "source": [
    "path = Path(r'C:\\Users\\You\\Documents\\test')"
   ]
  },
  {
   "cell_type": "code",
   "execution_count": 3,
   "metadata": {},
   "outputs": [
    {
     "name": "stdout",
     "output_type": "stream",
     "text": [
      "Calculating filtered reference\n",
      "Aligning individual planes...\n"
     ]
    }
   ],
   "source": [
    "src = SplitDataset(path/'original')\n",
    "aligned = align_2p_volume(src, across_planes=False, n_jobs=3)"
   ]
  },
  {
   "cell_type": "code",
   "execution_count": 4,
   "metadata": {},
   "outputs": [],
   "source": [
    "src = SplitDataset(path/'original')\n",
    "aligned = sorted(list((path/'aligned').glob('*.h5')))\n",
    "rot_theta = fl.load(path/'rot_theta.h5')\n",
    "output_dir = path/\"rotated\"\n",
    "output_dir.mkdir()\n",
    "shutil.copy(path/\"aligned/stack_metadata.json\", output_dir/\"stack_metadata.json\")\n",
    "\n",
    "for plane in range(src.shape[1]):\n",
    "    theta = rot_theta[plane]\n",
    "    if theta == 0:\n",
    "        shutil.copy(path/\"aligned/{:04d}.h5\".format(plane), output_dir/\"{:04d}.h5\".format(plane))\n",
    "    else:\n",
    "        data = src[:, plane:plane+1, :, :]\n",
    "        shifts = fl.load(aligned[plane])['shifts']\n",
    "        rotate = rot_mx(theta * np.pi/180)\n",
    "        transformed = np.empty(data.shape)\n",
    "        for i in range(data.shape[0]): \n",
    "            this = data[i,0,:,:]\n",
    "            shift = shifts[i,0,:]\n",
    "            affine = transl_mx((data.shape[-1]//2,)*2) @ (rotate @ transl_mx(shift - data.shape[-1]//2))\n",
    "            transformed[i,0,:,:] = affine_transform(this, affine)\n",
    "        fl.save(output_dir/\"{:04d}.h5\".format(plane), dict(stack_4D=transformed), compression=\"blosc\")"
   ]
  },
  {
   "cell_type": "code",
   "execution_count": 5,
   "metadata": {},
   "outputs": [
    {
     "data": {
      "text/plain": [
       "<split_dataset.split_dataset.SplitDataset at 0x1d7ec06b708>"
      ]
     },
     "execution_count": 5,
     "metadata": {},
     "output_type": "execute_result"
    }
   ],
   "source": [
    "rotated = SplitDataset(output_dir)\n",
    "make_anatomy(rotated, n_jobs=1)"
   ]
  },
  {
   "cell_type": "code",
   "execution_count": 6,
   "metadata": {},
   "outputs": [],
   "source": [
    "mask = io.imread(path/\"mask.tif\", plugin='tifffile')\n",
    "transformed = np.empty(mask.shape)\n",
    "rot_theta = fl.load(path/\"rot_theta.h5\")\n",
    "for plane in range(mask.shape[0]):\n",
    "    this = mask[plane,:,:]\n",
    "    theta = rot_theta[plane]\n",
    "    if theta == 0:\n",
    "        transformed[plane,:,:] = this\n",
    "    else:\n",
    "        rotate = rot_mx(theta * np.pi/180)\n",
    "        affine = transl_mx((mask.shape[-1]//2,)*2) @ (rotate @ transl_mx((-mask.shape[-1]//2,)*2))\n",
    "        transformed[plane,:,:] = affine_transform(this, affine)\n",
    "io.imsave(path/\"mask_rotated.tif\", transformed.astype(\"float32\"), plugin='tifffile')"
   ]
  },
  {
   "cell_type": "code",
   "execution_count": null,
   "metadata": {},
   "outputs": [],
   "source": []
  }
 ],
 "metadata": {
  "kernelspec": {
   "display_name": "Python 3",
   "language": "python",
   "name": "python3"
  },
  "language_info": {
   "codemirror_mode": {
    "name": "ipython",
    "version": 3
   },
   "file_extension": ".py",
   "mimetype": "text/x-python",
   "name": "python",
   "nbconvert_exporter": "python",
   "pygments_lexer": "ipython3",
   "version": "3.7.10"
  }
 },
 "nbformat": 4,
 "nbformat_minor": 4
}

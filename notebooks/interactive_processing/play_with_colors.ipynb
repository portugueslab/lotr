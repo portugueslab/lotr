{
 "cells": [
  {
   "cell_type": "code",
   "execution_count": null,
   "id": "d6402747-2a22-4c6a-a588-f884b12769be",
   "metadata": {},
   "outputs": [],
   "source": [
    "import numpy as np\n",
    "from matplotlib import pyplot as plt\n",
    "from scipy.signal import medfilt\n",
    "from sklearn.decomposition import PCA\n",
    "from tqdm import tqdm\n",
    "\n",
    "%matplotlib widget"
   ]
  },
  {
   "cell_type": "code",
   "execution_count": null,
   "id": "a2b79042-ebae-425a-8aa8-a9ffd685e5f9",
   "metadata": {},
   "outputs": [],
   "source": [
    "rand_data = np.random.randn(50, 2000)\n",
    "for i in tqdm(range(rand_data.shape[1])):\n",
    "    rand_data[:, i] = medfilt(rand_data[:, i], 15)"
   ]
  },
  {
   "cell_type": "code",
   "execution_count": null,
   "id": "b72b6f88-10e3-456d-b148-98c251522ef1",
   "metadata": {},
   "outputs": [],
   "source": [
    "corrmat = np.corrcoef(rand_data.T)  # .min()"
   ]
  },
  {
   "cell_type": "code",
   "execution_count": null,
   "id": "9c1caff1-f6ce-4677-9b36-31db7c733081",
   "metadata": {},
   "outputs": [],
   "source": [
    "filt = np.argwhere(corrmat.min(1) < -0.65).flatten()"
   ]
  },
  {
   "cell_type": "code",
   "execution_count": null,
   "id": "860d6baf-1a47-469d-a50b-30b53c5c22bc",
   "metadata": {},
   "outputs": [],
   "source": [
    "pca = PCA(n_components=5)\n",
    "pca.fit(rand_data[:, filt].T)\n",
    "pca_decom = pca.transform(rand_data[:, filt].T)"
   ]
  },
  {
   "cell_type": "code",
   "execution_count": null,
   "id": "06604e60-f3b5-4016-8b5f-1bda7029021c",
   "metadata": {},
   "outputs": [],
   "source": [
    "plt.figure()\n",
    "plt.scatter(pca_decom[:, 0], pca_decom[:, 1])"
   ]
  },
  {
   "cell_type": "code",
   "execution_count": null,
   "id": "2c4450de-6c12-45ae-839a-e55c2e608bd4",
   "metadata": {},
   "outputs": [],
   "source": [
    "import colorspacious\n",
    "\n",
    "pca_proj = np.random.randn(1000, 2)  # fake roi projections\n",
    "\n",
    "angles = np.angle(pca_proj[:, 0] + 1j * pca_proj[:, 1])  # roi angles\n",
    "amplitudes = np.absolute(\n",
    "    pca_proj[:, 0] + 1j * pca_proj[:, 1]\n",
    ")  # roi distance from center"
   ]
  },
  {
   "cell_type": "code",
   "execution_count": null,
   "id": "b8f0cb44-3658-4bf4-8cae-86ed9e3ca30d",
   "metadata": {},
   "outputs": [],
   "source": [
    "hueshift = (0,)  # rotate to rotate color wheel\n",
    "amp_percentile = (90,)  # percentile at which to reach saturation\n",
    "maxsat = (50,)  # maximum saturation reached\n",
    "lightness_min = (90,)  #  minimum lightness reached\n",
    "lightness_delta = (-80,)  # maximum lightness at center\n",
    "\n",
    "output_lch = np.empty((len(angles), 3))\n",
    "maxamp = np.percentile(amplitudes, amp_percentile)\n",
    "\n",
    "output_lch[:, 0] = (\n",
    "    lightness_min + (np.clip(amplitudes / maxamp, 0, 1)) * lightness_delta\n",
    ")\n",
    "output_lch[:, 1] = (np.clip(amplitudes / maxamp, 0, 1)) * maxsat\n",
    "output_lch[:, 2] = (angles + hueshift) * 180 / np.pi\n",
    "\n",
    "output_rgb = np.clip(colorspacious.cspace_convert(output_lch, \"JCh\", \"sRGB1\"), 0, 1)"
   ]
  },
  {
   "cell_type": "code",
   "execution_count": null,
   "id": "624b5dcb-26fa-415a-9c7a-a88acea11e3e",
   "metadata": {},
   "outputs": [],
   "source": [
    "plt.figure(figsize=(3, 3))\n",
    "plt.scatter(pca_proj[:, 0], pca_proj[:, 1], c=output_rgb)"
   ]
  },
  {
   "cell_type": "code",
   "execution_count": null,
   "id": "32777189-84a6-44e6-9ebb-2259741a2905",
   "metadata": {},
   "outputs": [],
   "source": [
    "output_lch[0, :]"
   ]
  },
  {
   "cell_type": "code",
   "execution_count": null,
   "id": "2d80552c-4729-4203-b241-afa01ae311be",
   "metadata": {},
   "outputs": [],
   "source": []
  }
 ],
 "metadata": {
  "kernelspec": {
   "display_name": "rplab",
   "language": "python",
   "name": "rplab"
  },
  "language_info": {
   "codemirror_mode": {
    "name": "ipython",
    "version": 3
   },
   "file_extension": ".py",
   "mimetype": "text/x-python",
   "name": "python",
   "nbconvert_exporter": "python",
   "pygments_lexer": "ipython3"
  }
 },
 "nbformat": 4,
 "nbformat_minor": 5
}

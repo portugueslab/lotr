{
 "cells": [
  {
   "cell_type": "code",
   "execution_count": null,
   "metadata": {},
   "outputs": [],
   "source": [
    "from matplotlib import pyplot as plt\n",
    "import numpy as np\n",
    "import tables\n",
    "import flammkuchen as fl\n",
    "from pathlib import Path\n",
    "from tqdm import tqdm\n",
    "from scipy.ndimage import morphology\n",
    "from fimpylab.utils.suite2p_conv import export_suite2p_data"
   ]
  },
  {
   "cell_type": "code",
   "execution_count": null,
   "metadata": {},
   "outputs": [],
   "source": [
    "master_path = Path(r\"\\\\FUNES\\Shared\\experiments\\E0040_motions_cardinal\\batch210805\")\n",
    "paths_list = list(master_path.glob(\"*_f*/suite2p/combined\"))\n",
    "unexported = [f for f in paths_list if not (f.parent.parent / \"data_from_suite2p_unfiltered.h5\").exists()]\n",
    "print(len(unexported))\n",
    "for f in unexported:\n",
    "    print(f)"
   ]
  },
  {
   "cell_type": "code",
   "execution_count": null,
   "metadata": {},
   "outputs": [],
   "source": [
    "# unexported = paths_list  # reexport all\n",
    "\n",
    "for path in tqdm(unexported):\n",
    "    export_suite2p_data(path, path.parent.parent / \"data_from_suite2p_unfiltered.h5\", include_all_rois=True)"
   ]
  }
 ],
 "metadata": {
  "kernelspec": {
   "display_name": "rplab",
   "language": "python",
   "name": "rplab"
  },
  "language_info": {
   "codemirror_mode": {
    "name": "ipython",
    "version": 3
   },
   "file_extension": ".py",
   "mimetype": "text/x-python",
   "name": "python",
   "nbconvert_exporter": "python",
   "pygments_lexer": "ipython3"
  }
 },
 "nbformat": 4,
 "nbformat_minor": 4
}

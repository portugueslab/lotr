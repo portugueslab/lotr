{
 "cells": [
  {
   "cell_type": "code",
   "execution_count": null,
   "id": "7f0cc27c",
   "metadata": {},
   "outputs": [],
   "source": [
    "%matplotlib widget\n",
    "\n",
    "from pathlib import Path\n",
    "import numpy as np\n",
    "import flammkuchen as fl\n",
    "import pandas as pd\n",
    "from scipy.signal import medfilt\n",
    "\n",
    "from fimpylab import LightsheetExperiment\n",
    "\n",
    "from matplotlib import  pyplot as plt\n",
    "import seaborn as sns\n",
    "from tqdm import tqdm\n",
    "sns.set(style=\"ticks\", palette=\"deep\")\n",
    "cols = sns.color_palette()\n",
    "import ipywidgets as widgets\n",
    "\n",
    "from lotr.utils import zscore\n",
    "from lotr.data_loading import preprocess_traces\n",
    "from lotr.pca import pca_and_phase, get_fictive_trajectory, fictive_trajectory_and_fit, fit_phase_neurons, \\\n",
    "    qap_sorting_and_phase\n",
    "from circle_fit import hyper_fit"
   ]
  },
  {
   "cell_type": "code",
   "execution_count": null,
   "id": "45212bc3",
   "metadata": {},
   "outputs": [],
   "source": [
    "plt.close(\"all\")\n",
    "path = Path(\"/Users/luigipetrucco/Desktop/batch_210908/no/210908_f1b_cwccw\")\n",
    "traces = fl.load(path / \"filtered_traces.h5\", \"/detr\")\n",
    "\n",
    "reg_df = fl.load(path / \"motor_regressors.h5\")\n",
    "cc_motor = reg_df[\"all_bias_abs\"].values\n",
    "cc_motor_integr = reg_df[\"all_bias_abs_dfdt\"].values\n",
    "coords = fl.load(path / \"data_from_suite2p_unfiltered.h5\", \"/coords\")\n",
    "anat = fl.load(path / \"data_from_suite2p_unfiltered.h5\", \"/anatomy_stack\")\n",
    "traces[np.isnan(traces)] = 0\n",
    "\n",
    "df = fl.load(path / \"bouts_df.h5\")# exp.get_bout_properties()\n",
    "exp = LightsheetExperiment(path)\n",
    "fn = int(exp.fn)\n",
    "beh_df = exp.behavior_log\n",
    "\n",
    "t_start = 150\n",
    "time_slices_dict = dict(clol=(t_start*fn, 8000), cwccw=(t_start*fn, traces.shape[0] // 2))\n",
    "t_lims = time_slices_dict[path.name.split(\"_\")[-1]]\n",
    "t_slice = slice(*t_lims)"
   ]
  },
  {
   "cell_type": "code",
   "execution_count": null,
   "id": "5f68b00b",
   "metadata": {},
   "outputs": [],
   "source": [
    "suite2p_idxs = np.array(fl.load(path / \"data_from_suite2p_unfiltered.h5\", \"/suite2p_idxs\"))"
   ]
  },
  {
   "cell_type": "code",
   "execution_count": null,
   "id": "f815ee68",
   "metadata": {},
   "outputs": [],
   "source": [
    "np.argwhere(suite2p_idxs == 428)"
   ]
  },
  {
   "cell_type": "code",
   "execution_count": null,
   "id": "af13f439",
   "metadata": {},
   "outputs": [],
   "source": [
    "diff = np.concatenate([medfilt(np.diff(traces[:, suite2p_idxs == 428].flatten()), 51)*100, [0]])"
   ]
  },
  {
   "cell_type": "code",
   "execution_count": null,
   "id": "516c7a78",
   "metadata": {},
   "outputs": [],
   "source": [
    "#cc = np.corrcoef(np.concatenate([diff[:, np.newaxis], traces], 1).T)\n",
    "np.fill_diagonal(cc, np.nan)"
   ]
  },
  {
   "cell_type": "code",
   "execution_count": null,
   "id": "a5ee6c8b",
   "metadata": {},
   "outputs": [],
   "source": [
    "plt.figure(figsize=(4, 2))\n",
    "cc_wnd = 400\n",
    "i_array = np.arange(t_slice.start, t_slice.stop, cc_wnd*fn)\n",
    "cc_mats = np.zeros((traces.shape[1], traces.shape[1], len(i_array)))\n",
    "\n",
    "for n, i in enumerate(i_array):\n",
    "    cc_mats[:, :, n] = np.corrcoef(traces[i:i + cc_wnd*fn, :].T)\n",
    "corr_mat = np.nanmean(cc_mats, 2)\n",
    "prev_mat = corr_mat.copy()\n",
    "plt.hist(corr_mat.flatten(), np.arange(-1, 1, 0.05), alpha=0.5, lw=0)\n",
    "\n",
    "n_pairs = 50\n",
    "selected = []\n",
    "incl_cc = []\n",
    "for n in range(n_pairs):\n",
    "    pair = np.unravel_index(np.nanargmin(corr_mat), corr_mat.shape)\n",
    "    selected.append(pair)\n",
    "    incl_cc.append(corr_mat[pair[0], pair[1]])\n",
    "    for p in pair:\n",
    "        corr_mat[p, :] = np.nan\n",
    "        corr_mat[:, p] = np.nan\n",
    "# np.array((selected))\n",
    "\n",
    "plt.hist(corr_mat.flatten(), np.arange(-1, 1, 0.05), alpha=0.5, lw=0)\n",
    "plt.yscale(\"log\")"
   ]
  },
  {
   "cell_type": "code",
   "execution_count": null,
   "id": "df263e98",
   "metadata": {},
   "outputs": [],
   "source": [
    "pairs = []"
   ]
  },
  {
   "cell_type": "code",
   "execution_count": null,
   "id": "80a6856c",
   "metadata": {},
   "outputs": [],
   "source": [
    "corr_mat"
   ]
  },
  {
   "cell_type": "code",
   "execution_count": null,
   "id": "816c261a",
   "metadata": {},
   "outputs": [],
   "source": [
    "2, 12, 20, 22, 23"
   ]
  },
  {
   "cell_type": "code",
   "execution_count": null,
   "id": "61d4bb33",
   "metadata": {},
   "outputs": [],
   "source": [
    "plt.figure(figsize=(8, 3))\n",
    "plt.plot(traces[:, 428])\n",
    "i = 0\n",
    "plt.plot(traces[:, selected[i][0]])\n",
    "plt.plot(traces[:, selected[i][1]])\n",
    "#plt.plot(diff)\n",
    "# plt.plot(traces[:, np.nanargmin(corr_mat[:, 428])])\n",
    "plt.xlim(0, 2000)"
   ]
  },
  {
   "cell_type": "code",
   "execution_count": null,
   "id": "839a80b0",
   "metadata": {},
   "outputs": [],
   "source": [
    "selected_comb = []\n",
    "[selected_comb.extend(selected[i]) for i in range(50)]# [0, 2, 12, 20, 22, 23]]\n",
    "a=0"
   ]
  },
  {
   "cell_type": "code",
   "execution_count": null,
   "id": "e68786a6",
   "metadata": {},
   "outputs": [],
   "source": [
    "selected_comb"
   ]
  },
  {
   "cell_type": "code",
   "execution_count": null,
   "id": "4fb252ce",
   "metadata": {},
   "outputs": [],
   "source": [
    "# plt.close(\"all\")\n",
    "pcaed, phase = pca_and_phase(traces[:4000, selected_comb], traces[:4000, selected_comb])\n",
    "mot_t_slice = slice(traces.shape[0] // 2, traces.shape[0])\n",
    "f, axs = plt.subplots(1, 1, figsize=(5., 5.), sharex=True, sharey=True)\n",
    "# plt.subplot(1,2,1)\n",
    "phase = np.angle((pcaed[:, 0]) + 1j * (pcaed[:, 1]))\n",
    "axs.plot(pcaed[:, 0], pcaed[:, 1], \n",
    "         c=(0.6,)*3, lw=0.5, zorder=-100) # , c=phase, cmap=\"twilight\", lw=3)\n",
    "axs.scatter(pcaed[:, 0], pcaed[:, 1], \n",
    "                 c=phase, lw=0.5, s=5, cmap=\"twilight\",) \n",
    "axs.axes.set_aspect(\"equal\")"
   ]
  },
  {
   "cell_type": "code",
   "execution_count": null,
   "id": "01238eb6",
   "metadata": {},
   "outputs": [],
   "source": []
  }
 ],
 "metadata": {
  "kernelspec": {
   "display_name": "rplab",
   "language": "python",
   "name": "rplab"
  },
  "language_info": {
   "codemirror_mode": {
    "name": "ipython",
    "version": 3
   },
   "file_extension": ".py",
   "mimetype": "text/x-python",
   "name": "python",
   "nbconvert_exporter": "python",
   "pygments_lexer": "ipython3"
  }
 },
 "nbformat": 4,
 "nbformat_minor": 5
}

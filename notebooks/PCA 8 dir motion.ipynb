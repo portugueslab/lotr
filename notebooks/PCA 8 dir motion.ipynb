{
 "cells": [
  {
   "cell_type": "code",
   "execution_count": 1,
   "metadata": {},
   "outputs": [],
   "source": [
    "%matplotlib widget"
   ]
  },
  {
   "cell_type": "code",
   "execution_count": 2,
   "metadata": {},
   "outputs": [],
   "source": [
    "from fimpylab import LightsheetExperiment"
   ]
  },
  {
   "cell_type": "code",
   "execution_count": 11,
   "metadata": {},
   "outputs": [],
   "source": [
    "from pathlib import Path\n",
    "import numpy as np\n",
    "from matplotlib import  pyplot as plt\n",
    "import flammkuchen as fl\n",
    "import pandas as pd\n",
    "\n",
    "from fimpylab import autoload_experiment\n",
    "\n",
    "import pandas as pd\n",
    "\n",
    "import seaborn as sns\n",
    "from tqdm import tqdm\n",
    "sns.set(style=\"ticks\", palette=\"deep\")\n",
    "cols = sns.color_palette()\n",
    "import ipywidgets as widgets\n",
    "\n",
    "plt.rcParams['figure.constrained_layout.use'] = True\n",
    "plt.rcParams['font.family'] = 'sans-serif'\n",
    "plt.rcParams['font.sans-serif'] = ['Libertinus Sans']\n",
    "\n",
    "# %autoreload\n",
    "from lotr.utils import zscore\n",
    "from lotr.data_loading import preprocess_traces\n",
    "from lotr.pca import pca_and_phase, get_fictive_trajectory, \\\n",
    "    fictive_trajectory_and_fit, qap_sorting_and_phase, fit_phase_neurons\n"
   ]
  },
  {
   "cell_type": "code",
   "execution_count": 4,
   "metadata": {},
   "outputs": [],
   "source": [
    "plt.close(\"all\")\n",
    "# path = Path(\"/Users/luigipetrucco/Desktop/source_data_batch1/210729_f6_cwccwck\")\n",
    "path = Path(\"/Users/luigipetrucco/Desktop/hagar_data/210810_f0\")\n",
    "traces = fl.load(path / \"filtered_traces.h5\", \"/detr\")\n",
    "\n",
    "reg_df = fl.load(path / \"motor_regressors.h5\")\n",
    "cc_motor = reg_df[\"all_bias_abs\"].values\n",
    "cc_motor_integr = reg_df[\"all_bias_abs_dfdt\"].values\n",
    "\n",
    "df = fl.load(path / \"bouts_df.h5\")# exp.get_bout_properties()\n",
    "exp = LightsheetExperiment(path)\n",
    "fn = int(exp.fn)\n",
    "beh_df = exp.behavior_log"
   ]
  },
  {
   "cell_type": "code",
   "execution_count": 24,
   "metadata": {},
   "outputs": [],
   "source": [
    "selected = fl.load(path / \"selected.h5\")\n",
    "\n",
    "stim_start = traces.shape[0] // 2\n",
    "t_lims = (100 * fn, stim_start)\n",
    "t_slice = slice(*t_lims)\n",
    "\n",
    "pcaed, phase = pca_and_phase(traces[t_slice, selected], traces[:, selected])"
   ]
  },
  {
   "cell_type": "code",
   "execution_count": 25,
   "metadata": {},
   "outputs": [
    {
     "data": {
      "application/vnd.jupyter.widget-view+json": {
       "model_id": "afc86f9361964a2d9b24296598a7be16",
       "version_major": 2,
       "version_minor": 0
      },
      "text/plain": [
       "Canvas(toolbar=Toolbar(toolitems=[('Home', 'Reset original view', 'home', 'home'), ('Back', 'Back to previous …"
      ]
     },
     "metadata": {},
     "output_type": "display_data"
    }
   ],
   "source": [
    "# plt.close(\"all\")\n",
    "mot_t_slice = slice(stim_start, traces.shape[0])\n",
    "f, axs = plt.subplots(1, 3, figsize=(7., 3.), sharex=True, sharey=True)\n",
    "# plt.subplot(1,2,1)\n",
    "# phase = np.angle((pcaed[:, 0]) + 1j * (pcaed[:, 1]))\n",
    "axs[0].plot(pcaed[t_slice, 0], pcaed[t_slice, 1], \n",
    "         c=(0.6,)*3, lw=0.5, zorder=-100) # , c=phase, cmap=\"twilight\", lw=3)\n",
    "axs[0].scatter(pcaed[t_slice, 0], pcaed[t_slice, 1], \n",
    "                 c=phase[t_slice], lw=0.5, s=5, cmap=\"twilight\",) \n",
    "\n",
    "axs[1].plot(pcaed[mot_t_slice, 0], pcaed[mot_t_slice, 1], \n",
    "         c=(0.6,)*3, lw=0.5, zorder=-100) # , c=phase, cmap=\"twilight\", lw=3)\n",
    "axs[1].scatter(pcaed[mot_t_slice, 0], pcaed[mot_t_slice, 1], \n",
    "                 c=phase[mot_t_slice], lw=0.5, s=5, cmap=\"twilight\",) \n",
    "\n",
    "axs[2].plot(pcaed[:, 0], pcaed[:, 1], \n",
    "         c=(0.6,)*3, lw=0.5, zorder=-100) # , c=phase, cmap=\"twilight\", lw=3)\n",
    "axs[2].scatter(pcaed[:, 0], pcaed[:, 1], \n",
    "                 c=phase[:], lw=0.5, s=5, cmap=\"twilight\",) \n",
    "sns.despine()"
   ]
  },
  {
   "cell_type": "code",
   "execution_count": 22,
   "metadata": {},
   "outputs": [
    {
     "name": "stderr",
     "output_type": "stream",
     "text": [
      "100%|██████████| 391/391 [00:00<00:00, 519.81it/s]\n"
     ]
    }
   ],
   "source": [
    "phases_neuron, _ = fit_phase_neurons(traces[t_slice, selected], phase[t_slice])\n",
    "perm = np.argsort(phases_neuron)"
   ]
  },
  {
   "cell_type": "code",
   "execution_count": 23,
   "metadata": {},
   "outputs": [],
   "source": [
    "from bouter.utilities import reliability"
   ]
  },
  {
   "cell_type": "code",
   "execution_count": 14,
   "metadata": {},
   "outputs": [],
   "source": [
    "def reshape_for_reliability(traces, n_reps):\n",
    "    n_rep_pts = traces.shape[0] // n_reps\n",
    "    return np.swapaxes(traces.reshape(n_reps, n_rep_pts, -1), 0, 1)\n",
    "    \n",
    "\n",
    "def reliability_from_traces(traces, n_reps):\n",
    "    \"\"\"Crop traces and returns reliability scores, assuming\n",
    "    that the traces consist of consecutive blocks of a stimulus\n",
    "    presented n_reps times.\n",
    "    \"\"\"\n",
    "    resh = reshape_for_reliability(traces, n_reps)\n",
    "    return reliability(resh)"
   ]
  },
  {
   "cell_type": "code",
   "execution_count": 36,
   "metadata": {},
   "outputs": [],
   "source": [
    "rels = reliability_from_traces(traces[stim_start:, :], 4)\n",
    "reshaped = reshape_for_reliability(traces[stim_start:, :], 4)\n",
    "\n",
    "stim_sel = np.argwhere(rels > 0.6)[:, 0]"
   ]
  },
  {
   "cell_type": "code",
   "execution_count": 28,
   "metadata": {},
   "outputs": [
    {
     "data": {
      "application/vnd.jupyter.widget-view+json": {
       "model_id": "81d59d4f55b34a869c3fae6cf365743e",
       "version_major": 2,
       "version_minor": 0
      },
      "text/plain": [
       "Canvas(toolbar=Toolbar(toolitems=[('Home', 'Reset original view', 'home', 'home'), ('Back', 'Back to previous …"
      ]
     },
     "metadata": {},
     "output_type": "display_data"
    },
    {
     "data": {
      "text/plain": [
       "[<matplotlib.lines.Line2D at 0x7fc72d63c8b0>,\n",
       " <matplotlib.lines.Line2D at 0x7fc72d63c760>,\n",
       " <matplotlib.lines.Line2D at 0x7fc72d63c9a0>,\n",
       " <matplotlib.lines.Line2D at 0x7fc72d63cfa0>]"
      ]
     },
     "execution_count": 28,
     "metadata": {},
     "output_type": "execute_result"
    }
   ],
   "source": [
    "plt.close(\"all\")\n",
    "plt.figure(figsize=(4, 2))\n",
    "plt.plot(reshaped[:, :, np.argsort(rels)[-1]])"
   ]
  },
  {
   "cell_type": "code",
   "execution_count": 43,
   "metadata": {},
   "outputs": [
    {
     "data": {
      "application/vnd.jupyter.widget-view+json": {
       "model_id": "4b29db688a4342deb83c1d4d1bb50ec8",
       "version_major": 2,
       "version_minor": 0
      },
      "text/plain": [
       "Canvas(toolbar=Toolbar(toolitems=[('Home', 'Reset original view', 'home', 'home'), ('Back', 'Back to previous …"
      ]
     },
     "metadata": {},
     "output_type": "display_data"
    },
    {
     "data": {
      "text/plain": [
       "<matplotlib.legend.Legend at 0x7fc72cd92f10>"
      ]
     },
     "execution_count": 43,
     "metadata": {},
     "output_type": "execute_result"
    }
   ],
   "source": [
    "plt.figure(figsize=(4, 3))\n",
    "plt.hist(rels, np.arange(0, 1, 0.04), lw=0, alpha=0.4, density=True, label=\"all ROIs\")\n",
    "plt.hist(rels[selected], np.arange(0, 1, 0.04), lw=0, alpha=0.4, density=True, label=\"ring\")\n",
    "plt.ylabel(\"Count\")\n",
    "plt.xlabel(\"Reliability\")\n",
    "plt.show()\n",
    "sns.despine()\n",
    "plt.legend()"
   ]
  },
  {
   "cell_type": "code",
   "execution_count": 30,
   "metadata": {},
   "outputs": [],
   "source": [
    "coords = fl.load(path / \"data_from_suite2p_unfiltered.h5\", \"/coords\")"
   ]
  },
  {
   "cell_type": "code",
   "execution_count": 37,
   "metadata": {},
   "outputs": [
    {
     "data": {
      "application/vnd.jupyter.widget-view+json": {
       "model_id": "cd2eb63d9e1c4c3e92e079fd5b5e9ea4",
       "version_major": 2,
       "version_minor": 0
      },
      "text/plain": [
       "Canvas(toolbar=Toolbar(toolitems=[('Home', 'Reset original view', 'home', 'home'), ('Back', 'Back to previous …"
      ]
     },
     "metadata": {},
     "output_type": "display_data"
    },
    {
     "name": "stderr",
     "output_type": "stream",
     "text": [
      "*c* argument looks like a single numeric RGB or RGBA sequence, which should be avoided as value-mapping will have precedence in case its length matches with *x* & *y*.  Please use the *color* keyword-argument or provide a 2D array with a single row if you intend to specify the same RGB or RGBA value for all points.\n"
     ]
    },
    {
     "data": {
      "text/plain": [
       "(-11.227083333333333,\n",
       " 245.54652777777778,\n",
       " -11.62717105263158,\n",
       " 306.1179605263158)"
      ]
     },
     "execution_count": 37,
     "metadata": {},
     "output_type": "execute_result"
    }
   ],
   "source": [
    "plt.figure(figsize=(4, 4))\n",
    "plt.scatter(coords[:, 1], coords[:, 2], c=(0.9,)*3)\n",
    "#plt.scatter(coords[stim_sel, 1], coords[stim_sel, 2],  \n",
    "#            c=np.linspace(-np.pi, np.pi, perm_stim.max()+1)[np.argsort(perm_stim)] , cmap=\"twilight\")\n",
    "#plt.scatter(coords[stim_sel, 1], coords[stim_sel, 2],  \n",
    "#            c=rels[stim_sel], cmap=\"viridis\")\n",
    "plt.scatter(coords[selected, 1], coords[selected, 2],  \n",
    "            facecolors='none', edgecolors=cols[3], lw=0.5)\n",
    "plt.scatter(coords[selected, 1], coords[selected, 2],  \n",
    "            c=np.linspace(-np.pi, np.pi, perm.max()+1)[np.argsort(perm)] , cmap=\"twilight\")\n",
    "plt.axis(\"equal\")\n",
    "plt.axis(\"off\")"
   ]
  },
  {
   "cell_type": "code",
   "execution_count": 41,
   "metadata": {},
   "outputs": [
    {
     "data": {
      "application/vnd.jupyter.widget-view+json": {
       "model_id": "9350f0bacba6467c8585aaf2d535635f",
       "version_major": 2,
       "version_minor": 0
      },
      "text/plain": [
       "Canvas(toolbar=Toolbar(toolitems=[('Home', 'Reset original view', 'home', 'home'), ('Back', 'Back to previous …"
      ]
     },
     "metadata": {},
     "output_type": "display_data"
    },
    {
     "name": "stderr",
     "output_type": "stream",
     "text": [
      "*c* argument looks like a single numeric RGB or RGBA sequence, which should be avoided as value-mapping will have precedence in case its length matches with *x* & *y*.  Please use the *color* keyword-argument or provide a 2D array with a single row if you intend to specify the same RGB or RGBA value for all points.\n"
     ]
    },
    {
     "data": {
      "text/plain": [
       "(-11.227083333333333,\n",
       " 245.54652777777778,\n",
       " -14.415714285714285,\n",
       " 302.72999999999996)"
      ]
     },
     "execution_count": 41,
     "metadata": {},
     "output_type": "execute_result"
    }
   ],
   "source": [
    "plt.figure(figsize=(4, 4))\n",
    "plt.scatter(coords[:, 1], coords[:, 0]*10, c=(0.9,)*3)\n",
    "plt.scatter(coords[stim_sel, 1], coords[stim_sel, 2],  \n",
    "            c=rels[stim_sel], cmap=\"viridis\")\n",
    "#plt.scatter(coords[stim_sel, 1], coords[stim_sel, 0]*10,  \n",
    "#            c=rels[stim_sel], cmap=\"viridis\")\n",
    "plt.scatter(coords[selected, 1], coords[selected, 2],  \n",
    "            facecolors='none', edgecolors=cols[3], lw=0.5)\n",
    "#plt.scatter(coords[selected, 1], coords[selected, 2],  \n",
    "#            c=np.linspace(-np.pi, np.pi, perm.max()+1)[np.argsort(perm)] , cmap=\"twilight\")\n",
    "plt.axis(\"equal\")\n",
    "plt.axis(\"off\")"
   ]
  },
  {
   "cell_type": "code",
   "execution_count": 42,
   "metadata": {},
   "outputs": [
    {
     "data": {
      "application/vnd.jupyter.widget-view+json": {
       "model_id": "efb0be0d75624506b6441870b24d0293",
       "version_major": 2,
       "version_minor": 0
      },
      "text/plain": [
       "Canvas(toolbar=Toolbar(toolitems=[('Home', 'Reset original view', 'home', 'home'), ('Back', 'Back to previous …"
      ]
     },
     "metadata": {},
     "output_type": "display_data"
    },
    {
     "data": {
      "text/plain": [
       "<matplotlib.image.AxesImage at 0x7fc72c8e2520>"
      ]
     },
     "execution_count": 42,
     "metadata": {},
     "output_type": "execute_result"
    }
   ],
   "source": [
    " perm_stim, com_phase = qap_sorting_and_phase(traces[:, stim_sel], t_lims=(5100, 10200))\n",
    "\n",
    "plt.figure(figsize=(7, 3))\n",
    "plt.subplot(121)\n",
    "plt.imshow(np.corrcoef(traces[5100:, stim_sel].T)[perm_stim, :][:, perm_stim], \n",
    "           vmax=1, vmin=-1, cmap=\"RdBu_r\")\n",
    "\n",
    "plt.subplot(122)\n",
    "plt.imshow(traces[:, stim_sel[perm_stim]].T, cmap=\"gray_r\", aspect=\"auto\", vmin=-2, vmax=3)"
   ]
  },
  {
   "cell_type": "code",
   "execution_count": null,
   "metadata": {},
   "outputs": [],
   "source": []
  },
  {
   "cell_type": "code",
   "execution_count": null,
   "metadata": {},
   "outputs": [],
   "source": []
  },
  {
   "cell_type": "code",
   "execution_count": null,
   "metadata": {},
   "outputs": [],
   "source": []
  },
  {
   "cell_type": "code",
   "execution_count": null,
   "metadata": {},
   "outputs": [],
   "source": []
  }
 ],
 "metadata": {
  "kernelspec": {
   "display_name": "rplab",
   "language": "python",
   "name": "rplab"
  },
  "language_info": {
   "codemirror_mode": {
    "name": "ipython",
    "version": 3
   },
   "file_extension": ".py",
   "mimetype": "text/x-python",
   "name": "python",
   "nbconvert_exporter": "python",
   "pygments_lexer": "ipython3",
   "version": "3.8.3"
  }
 },
 "nbformat": 4,
 "nbformat_minor": 4
}

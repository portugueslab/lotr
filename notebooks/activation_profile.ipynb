{
 "cells": [
  {
   "cell_type": "markdown",
   "id": "995a70f9",
   "metadata": {},
   "source": [
    "## Network activation profile\n",
    "\n",
    "Here we calculate the average shape of the network activation profile.\n",
    "\n",
    "#### TODO\n",
    " - [ ] Write explanation figures\n",
    " - [ ] Solve fitting issue for excluded fish"
   ]
  },
  {
   "cell_type": "code",
   "execution_count": null,
   "id": "b72e59af",
   "metadata": {},
   "outputs": [],
   "source": [
    "%matplotlib widget\n",
    "from pathlib import Path\n",
    "from tqdm import tqdm\n",
    "import pandas as pd\n",
    "import numpy as np\n",
    "from matplotlib import pyplot as plt\n",
    "import flammkuchen as fl\n",
    "\n",
    "import seaborn as sns\n",
    "sns.set(style=\"ticks\", palette=\"deep\")\n",
    "cols = sns.color_palette()\n",
    "\n",
    "from lotr import LotrExperiment, DATASET_LOCATION\n",
    "from bouter.utilities import crop\n",
    "\n",
    "from lotr.plotting import add_cbar, color_plot, despine\n",
    "from lotr.pca import pca_and_phase, fit_phase_neurons\n",
    "from lotr.utils import zscore, interpolate\n",
    "\n",
    "from tqdm import tqdm"
   ]
  },
  {
   "cell_type": "code",
   "execution_count": null,
   "id": "e3f05f57",
   "metadata": {},
   "outputs": [],
   "source": [
    "master_path = Path(DATASET_LOCATION)\n",
    "file_list = sorted([f.parent for f in master_path.glob(\"*/*[0-9]_f*/selected.h5\")])"
   ]
  },
  {
   "cell_type": "code",
   "execution_count": null,
   "id": "a132dcb8",
   "metadata": {},
   "outputs": [],
   "source": [
    "PHASE_BINS_S = 10\n",
    "\n",
    "all_profiles = []\n",
    "all_phases = []\n",
    "for path in tqdm(file_list):\n",
    "    exp = LotrExperiment(path)\n",
    "    n_pts, n_cells = exp.n_pts, exp.n_rois\n",
    "    n_sel = len(exp.hdn_indexes)\n",
    "\n",
    "    # Compute network phase with the usual fit of the ring over PCA space:\n",
    "    pcaed, phase, _, _ = pca_and_phase(exp.traces[exp.pca_t_slice, exp.hdn_indexes], \n",
    "                                    exp.traces[:, exp.hdn_indexes])\n",
    "\n",
    "    # Compute preferred phase of each neuron:\n",
    "    neuron_phases, _ = fit_phase_neurons(exp.traces[:, exp.hdn_indexes], phase, disable_bar=True)\n",
    "\n",
    "    # Find sorting over neurons according to phases...\n",
    "    sort = np.argsort(neuron_phases)\n",
    "    # ...and apply it to sort the traces:\n",
    "    sorted_traces = exp.traces[:, exp.hdn_indexes[sort]]\n",
    "    \n",
    "    # From phase array, compute amount of shift in number of neurons units:\n",
    "    phase_bins = np.round(((phase / (2*np.pi)) + 0.5)*(n_sel - 1)).astype(np.int)\n",
    "\n",
    "    # Shift every timepoint column of the traces matrix by an amount speficied by the phase:\n",
    "    shifted = np.zeros((n_pts, n_sel))\n",
    "    for i in range(n_pts):\n",
    "        shifted[i, :] = np.roll(exp.traces[i, exp.hdn_indexes[sort]], phase_bins[i])   \n",
    "    \n",
    "    # Bin in small temporal chunks of PHASE_BINS_S seconds:\n",
    "    bin_wnd = int(PHASE_BINS_S * exp.fn)  # binning window, in timepoints units\n",
    "    shifted_all_binned = np.array([shifted[i*bin_wnd:(i+1)*bin_wnd, :].mean(0) \n",
    "                                    for i in range(n_pts // bin_wnd)])\n",
    "    \n",
    "    all_profiles.append(shifted_all_binned)\n",
    "    all_phases.append(neuron_phases)"
   ]
  },
  {
   "cell_type": "code",
   "execution_count": null,
   "id": "cd228374",
   "metadata": {},
   "outputs": [],
   "source": [
    "[print(file_list[i]) for i in [28, 26, 14, 2, 6, 19, 23, 25]]"
   ]
  },
  {
   "cell_type": "code",
   "execution_count": null,
   "id": "053fb0aa",
   "metadata": {},
   "outputs": [],
   "source": [
    "# bad = [28, 26, 14, 2, 6, 19, 23, 25] # [3, 17, 33, 36, 38, 19]\n",
    "\n",
    "all_mean_profiles = [np.mean(p, 0) for p in all_profiles]\n",
    "\n",
    "all_interpd = []\n",
    "new_x = np.arange(0, 1, 0.01)\n",
    "\n",
    "fig, axs = plt.subplots(2, 1, constrained_layout=True, figsize=(4, 5), sharex=True)\n",
    "\n",
    "all_interpd\n",
    "for i, p in enumerate(all_profiles):\n",
    "    med_p = np.mean(p, 0)\n",
    "    std_p = np.std(p, 0)\n",
    "    n_rois = len(med_p)\n",
    "    roll_pts =  -np.argmax(med_p) + n_rois// 4\n",
    "    circ_perm_mn = np.roll(med_p, roll_pts)\n",
    "    circ_perm_std = np.roll(std_p, roll_pts)\n",
    "\n",
    "    x = np.arange(n_rois) / n_rois\n",
    "    interp_mn = interpolate(x, circ_perm_mn, new_x)\n",
    "    interp_std = interpolate(x, circ_perm_std, new_x)\n",
    "\n",
    "    axs[1].fill_between(new_x, interp_mn-interp_std, \n",
    "                        interp_mn+interp_std, lw=0, alpha=0.1)\n",
    "    axs[1].plot(new_x, interp_mn)\n",
    "\n",
    "    all_interpd.append(interp_mn)\n",
    "\n",
    "axs[1].axvline(0.5, lw=1., c=(0.2,)*3)\n",
    "axs[1].set(xlabel=\"Norm. network position\", ylabel=\"mean dF\")\n",
    "axs[0].imshow(all_interpd, aspect=\"auto\", extent=[0, 1, len(all_interpd), 0], )\n",
    "axs[0].set(ylabel=\"Fish n.\")\n",
    "\n",
    "plt.tight_layout()"
   ]
  },
  {
   "cell_type": "code",
   "execution_count": null,
   "id": "a5128dda",
   "metadata": {},
   "outputs": [],
   "source": []
  }
 ],
 "metadata": {
  "kernelspec": {
   "display_name": "rplab",
   "language": "python",
   "name": "rplab"
  },
  "language_info": {
   "codemirror_mode": {
    "name": "ipython",
    "version": 3
   },
   "file_extension": ".py",
   "mimetype": "text/x-python",
   "name": "python",
   "nbconvert_exporter": "python",
   "pygments_lexer": "ipython3"
  }
 },
 "nbformat": 4,
 "nbformat_minor": 5
}

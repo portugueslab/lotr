{
 "cells": [
  {
   "cell_type": "code",
   "execution_count": null,
   "id": "35000b87",
   "metadata": {},
   "outputs": [],
   "source": [
    "%matplotlib widget\n",
    "from pathlib import Path\n",
    "from tqdm import tqdm\n",
    "import pandas as pd\n",
    "import numpy as np\n",
    "from matplotlib import pyplot as plt\n",
    "import flammkuchen as fl\n",
    "\n",
    "import seaborn as sns\n",
    "sns.set(style=\"ticks\", palette=\"deep\")\n",
    "cols = sns.color_palette()\n",
    "\n",
    "from lotr.experiment_class import LotrExperiment\n",
    "from bouter.utilities import crop\n",
    "\n",
    "from lotr.plotting import add_cbar, color_plot, despine, add_scalebar\n",
    "from lotr.pca import get_fictive_trajectory, pca_and_phase, \\\n",
    "                     linear_regression, fit_phase_neurons\n",
    "from lotr.utils import zscore, interpolate, reduce_to_pi, linear_regression, get_rot_matrix\n",
    "\n",
    "from tqdm import tqdm"
   ]
  },
  {
   "cell_type": "code",
   "execution_count": null,
   "id": "8a191469",
   "metadata": {},
   "outputs": [],
   "source": [
    "master_path = Path(\"/Users/luigipetrucco/Desktop/all_source_data/full_ring\")\n",
    "file_list = [f.parent for f in master_path.glob(\"*/*[0-9]_f*/selected.h5\")]"
   ]
  },
  {
   "cell_type": "code",
   "execution_count": null,
   "id": "a9f03950",
   "metadata": {},
   "outputs": [],
   "source": [
    "from lotr.pca import pca_and_phase\n",
    "\n",
    "fig, axs_good = plt.subplots(2, 2, figsize=(8., 6.))\n",
    "fig2, axs_shuf = plt.subplots(2, 2, figsize=(8., 6.))\n",
    "for f in file_list[:1]:\n",
    "    exp = LotrExperiment(f)\n",
    "    for axs, shuf_f in zip([axs_good, axs_shuf], \n",
    "                         [lambda x: x, np.random.shuffle]):\n",
    "        traces = exp.traces \n",
    "        hdn_indexes = exp.hdn_indexes\n",
    "        t_slice = exp.pca_t_slice\n",
    "        sequence = np.arange(len(hdn_indexes))\n",
    "        shuf_f(sequence)\n",
    "\n",
    "        pcaed, phase, pca, hf_c = pca_and_phase(traces[t_slice, hdn_indexes].T)\n",
    "\n",
    "        coords = exp.coords[exp.hdn_indexes, :][sequence, :]\n",
    "\n",
    "        de_meaned_coords = coords - np.mean(coords, axis=0)\n",
    "        norm_coords = coords - np.percentile(coords, 2, axis=0)\n",
    "        norm_coords[norm_coords < 0] = 0\n",
    "        norm_coords = (norm_coords / np.sum(norm_coords, 0)) # * 2 - 1\n",
    "        norm_coords = norm_coords - np.mean(norm_coords, 0)\n",
    "\n",
    "        centered_pcs = pcaed[:, :2] - hf_c[:2]\n",
    "\n",
    "        # Replace the following operation over the three coords using einsum:\n",
    "        avg_vect = np.sum(centered_pcs.T*norm_coords[:, 1], 1)\n",
    "        avg_angle = np.angle(avg_vect[0] + 1j * avg_vect[1])\n",
    "        avg_vects = np.einsum('ij,ik->jk', centered_pcs, norm_coords)\n",
    "        avg_angles = np.angle(avg_vects[0, :] + 1j * avg_vects[1, :])\n",
    "        mean_angle = np.angle(np.sum(np.cos(avg_angles[1:])) + 1j * np.sum(np.sin(avg_angles[1:])))\n",
    "\n",
    "        invert_mat = np.array([[1, 0], [0, -np.sign(reduce_to_pi(avg_angles[2] - avg_angles[1]))]])\n",
    "\n",
    "        rotated_pcs = (get_rot_mat(3*np.pi/4) @ invert_mat @ get_rot_mat(- mean_angle) @ centered_pcs.T).T\n",
    "\n",
    "        rotated_phase = np.angle(rotated_pcs[:, 0] + 1j * rotated_pcs[:, 1])\n",
    "        ax = axs[0]\n",
    "\n",
    "        axs[0, 0].scatter(rotated_pcs[:, 0], rotated_pcs[:, 1], \n",
    "                     c=np.angle(norm_coords[:, 1] + 1j * norm_coords[:, 2]), s=8,\n",
    "                          lw=0, alpha=0.8, cmap=\"twilight\") \n",
    "        axs[0, 0].axis(\"equal\")\n",
    "\n",
    "        axs[0, 1].scatter(de_meaned_coords[:, 1], de_meaned_coords[:, 2], \n",
    "                     c=rotated_phase, s=8, lw=0, alpha=0.8,\n",
    "                   cmap=\"twilight\") \n",
    "        axs[0, 1].axis(\"equal\")\n",
    "\n",
    "        axs[1, 0].scatter(rotated_phase, de_meaned_coords[:, 1], c=\"k\", s=5, alpha=0.3, lw=0) \n",
    "        axs[1, 1].scatter(rotated_phase, de_meaned_coords[:, 2], c=\"k\", s=5, alpha=0.3, lw=0) \n"
   ]
  },
  {
   "cell_type": "code",
   "execution_count": null,
   "id": "41c0c292",
   "metadata": {},
   "outputs": [],
   "source": [
    "for axs in [axs_good, axs_shuf]:\n",
    "    add_scalebar(axs[0, 0], xlabel=\"PC1\", ylabel=\"PC2\")\n",
    "    add_scalebar(axs[0, 1], xlabel=\"lef.-rig.\", ylabel=\"pos.-ant.\")"
   ]
  },
  {
   "cell_type": "code",
   "execution_count": null,
   "id": "1617d55b",
   "metadata": {},
   "outputs": [],
   "source": [
    "ax = axs_shuf[0, 0]"
   ]
  },
  {
   "cell_type": "code",
   "execution_count": null,
   "id": "90ca70fc",
   "metadata": {},
   "outputs": [],
   "source": [
    "add_scalebar(axs[0, 1], xlabel=\"lef.-rig.\", ylabel=\"pos.-ant.\")"
   ]
  },
  {
   "cell_type": "code",
   "execution_count": null,
   "id": "d39bf63d",
   "metadata": {},
   "outputs": [],
   "source": [
    "add_scalebar(axs[0, 1], xlabel=\"lef.-rig.\", ylabel=\"pos.-ant.\")"
   ]
  },
  {
   "cell_type": "code",
   "execution_count": null,
   "id": "e15ef469",
   "metadata": {},
   "outputs": [],
   "source": [
    "ax.yaxis.get_ticklocs()[1] - ax.yaxis.get_ticklocs()[0]"
   ]
  },
  {
   "cell_type": "code",
   "execution_count": null,
   "id": "20f31a01",
   "metadata": {},
   "outputs": [],
   "source": [
    "b_len = 3\n",
    "bar_pos_x, bar_pos_y = pcaed[:, :2].min(0) - b_len \n",
    "pc_ax.plot([bar_pos_x, bar_pos_x, bar_pos_x+b_len], \n",
    "          [bar_pos_y+b_len, bar_pos_y, bar_pos_y], lw=0.5, c=(0.3,)*3)\n",
    "pc_ax.text(bar_pos_x, bar_pos_y + b_len/2, \"PC2\", ha=\"right\", va=\"center\", \n",
    "           rotation='vertical', fontsize=8)\n",
    "pc_ax.text(bar_pos_x + b_len/2, bar_pos_y, \"PC1\", ha=\"center\", va=\"top\", fontsize=8)\n",
    "pc_ax.axis(\"off\")"
   ]
  },
  {
   "cell_type": "code",
   "execution_count": null,
   "id": "6ec04a00",
   "metadata": {},
   "outputs": [],
   "source": [
    "\n",
    "\n",
    "f, ax = plt.subplots(1, 1, figsize=(9,3))\n",
    "ax.plot(np.arange(100)/ 50, np.random.randn(100))\n",
    "\n",
    "add_scalebar(ax, y_len=2, x_units=\"s\")"
   ]
  },
  {
   "cell_type": "code",
   "execution_count": null,
   "id": "aa49f039",
   "metadata": {},
   "outputs": [],
   "source": [
    "for ax, pcs in zip([axs, [centered_pcs, rotated_pcs]]):\n",
    "    print(ax)"
   ]
  },
  {
   "cell_type": "code",
   "execution_count": null,
   "id": "89b5b067",
   "metadata": {},
   "outputs": [],
   "source": []
  },
  {
   "cell_type": "code",
   "execution_count": null,
   "id": "b7db6dc0",
   "metadata": {},
   "outputs": [],
   "source": [
    "fig, ax = plt.subplots(1, 1, figsize=(3., 3.))\n",
    "\n",
    "    ax.scatter(centered_pcs[:, 0], centered_pcs[:, 1], \n",
    "                 c=np.angle(norm_coords[:, 1] + 1j * norm_coords[:, 2]), cmap=\"twilight\") \n",
    "    ax.plot([0, np.cos(avg_angles[1]) * hf_c[2]], \n",
    "            [0, np.sin(avg_angles[1]) * hf_c[2]]) \n",
    "    ax.plot([0, np.cos(avg_angles[2]) * hf_c[2]], \n",
    "            [0, np.sin(avg_angles[2]) * hf_c[2]]) \n",
    "    \n",
    "    mean_angle = np.angle(np.sum(np.cos(avg_angles[1:])) + 1j * np.sum(np.sin(avg_angles[1:])))\n",
    "    ax.plot([0, np.cos(mean_angle) * hf_c[2]], \n",
    "            [0, np.sin(mean_angle) * hf_c[2]]) \n",
    "    ax.set_title(f\"{f.name} - {reduce_to_pi(avg_angles[2] - avg_angles[1])}\")\n",
    "    plt.axis(\"equal\")"
   ]
  },
  {
   "cell_type": "code",
   "execution_count": null,
   "id": "5f42b82c",
   "metadata": {},
   "outputs": [],
   "source": [
    "plt.figure(figsize=(3, 3))"
   ]
  },
  {
   "cell_type": "code",
   "execution_count": null,
   "id": "4ef128b3",
   "metadata": {},
   "outputs": [],
   "source": []
  },
  {
   "cell_type": "code",
   "execution_count": null,
   "id": "a1a1f2fa",
   "metadata": {},
   "outputs": [],
   "source": []
  },
  {
   "cell_type": "code",
   "execution_count": null,
   "id": "5f429670",
   "metadata": {},
   "outputs": [],
   "source": []
  }
 ],
 "metadata": {
  "kernelspec": {
   "display_name": "rplab",
   "language": "python",
   "name": "rplab"
  },
  "language_info": {
   "codemirror_mode": {
    "name": "ipython",
    "version": 3
   },
   "file_extension": ".py",
   "mimetype": "text/x-python",
   "name": "python",
   "nbconvert_exporter": "python",
   "pygments_lexer": "ipython3"
  }
 },
 "nbformat": 4,
 "nbformat_minor": 5
}

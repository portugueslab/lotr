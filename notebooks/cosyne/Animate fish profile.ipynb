{
 "cells": [
  {
   "cell_type": "markdown",
   "id": "golden-brass",
   "metadata": {},
   "source": [
    "# The aHB circuit tracks fictive trajectories\n",
    "\n",
    "We have seen in the previous notebooks that the aHB integrator could be capabable of keep track of past motion over a significant amount of time. In this notebook, we will see how much it can keep track of past trajectories over significant amounts of time."
   ]
  },
  {
   "cell_type": "markdown",
   "id": "opponent-whale",
   "metadata": {},
   "source": [
    "## A first look at cumulative directional motion and network phase"
   ]
  },
  {
   "cell_type": "code",
   "execution_count": null,
   "id": "weighted-connection",
   "metadata": {},
   "outputs": [],
   "source": [
    "%matplotlib widget\n",
    "from pathlib import Path\n",
    "\n",
    "import lotr.plotting as pltltr\n",
    "import numpy as np\n",
    "import pandas as pd\n",
    "from bouter.utilities import crop\n",
    "from lotr import A_FISH, LotrExperiment, dataset_folders\n",
    "from lotr.behavior import get_bouts_props_array\n",
    "from lotr.default_vals import REGRESSOR_TAU_S\n",
    "from lotr.result_logging import ResultsLogger\n",
    "from lotr.utils import convolve_with_tau, linear_regression, nan_phase_jumps\n",
    "from matplotlib import pyplot as plt\n",
    "from scipy.stats import pearsonr, spearmanr, wilcoxon\n",
    "from tqdm import tqdm\n",
    "\n",
    "logger = ResultsLogger()\n",
    "\n",
    "COLS = pltltr.COLS"
   ]
  },
  {
   "cell_type": "code",
   "execution_count": null,
   "id": "extensive-gibson",
   "metadata": {},
   "outputs": [],
   "source": [
    "# First, get the unwrapped phase:\n",
    "exp = LotrExperiment(A_FISH)\n",
    "network_phase = np.unwrap(exp.network_phase)\n",
    "\n",
    "# Now, let's find a way of reconstruct past motion of the fish.\n",
    "# We will start with a vector of zeros that has ones at timepoints\n",
    "# where the fish swam:\n",
    "theta_turned = get_bouts_props_array(\n",
    "    exp.n_pts, exp.bouts_df, selection=\"all\", value=\"bias\",\n",
    ")\n",
    "\n",
    "# Fictive heading will be the cumulative sum of this array:\n",
    "fictive_head = np.cumsum(theta_turned)\n",
    "\n",
    "# Finally, we smooth this array with a kernel that matches the slower dynamics\n",
    "# of the neuron (results are not much affected by this)\n",
    "fictive_head = convolve_with_tau(np.cumsum(theta_turned), REGRESSOR_TAU_S * exp.fn)"
   ]
  },
  {
   "cell_type": "code",
   "execution_count": null,
   "id": "remarkable-travel",
   "metadata": {},
   "outputs": [],
   "source": [
    "f, axs = plt.subplots(\n",
    "    3, 1, figsize=(6.0, 3), sharex=True, gridspec_kw=(dict(bottom=0.12))\n",
    ")\n",
    "lw = 1\n",
    "\n",
    "labels = [\"Tail angle\", \"Angle turned (dθ)\", \"Fict. heading (θ)\"]\n",
    "col_seq = [COLS[\"beh\"], pltltr.shift_lum(COLS[\"th_plot\"], 0.4), COLS[\"th_plot\"]]\n",
    "for i, (x, y) in enumerate(\n",
    "    [\n",
    "        (exp.behavior_log[\"t\"], exp.behavior_log[\"tail_sum\"]),\n",
    "        (exp.time_arr, theta_turned),\n",
    "        (exp.time_arr, fictive_head),\n",
    "    ]\n",
    "):\n",
    "    axs[i].plot(\n",
    "        x, y, lw=lw, c=col_seq[i], label=labels[i], rasterized=i == 0\n",
    "    )  # rasterize for exporting\n",
    "    axs[i].legend(\n",
    "        loc=2, bbox_to_anchor=(0.8, 0.95), labelcolor=\"linecolor\", handlelength=0.0\n",
    "    )\n",
    "\n",
    "axs[0].set(**pltltr.get_pi_labels(1, ax=\"y\"))\n",
    "axs[1].set(**pltltr.get_pi_labels(0.5, ax=\"y\"), ylim=(-1.8, 1.8))\n",
    "axs[2].set(xlabel=\"Time (s)\", **pltltr.get_pi_labels(coefs=(0, -5, -10, -15), ax=\"y\"))\n",
    "\n",
    "[pltltr.despine(ax) for ax in axs.flatten()]\n",
    "plt.show()\n",
    "pltltr.savefig(\"fictive_traj_computation\", folder=\"S7\")"
   ]
  },
  {
   "cell_type": "markdown",
   "id": "baking-financing",
   "metadata": {},
   "source": [
    "Now, how does the network phase look, compared with the fictive heading?"
   ]
  },
  {
   "cell_type": "code",
   "execution_count": null,
   "id": "fitted-footwear",
   "metadata": {},
   "outputs": [],
   "source": [
    "t_off_s, t_dur_s = 150, 400\n",
    "\n",
    "f, ax = plt.subplots(\n",
    "    1, 1, figsize=(4, 1.5), gridspec_kw=(dict(bottom=0.25, right=0.85))\n",
    ")\n",
    "twin_ax = ax.twinx()\n",
    "ax.plot(\n",
    "    exp.time_arr, fictive_head, c=COLS[\"th_plot\"],\n",
    ")\n",
    "twin_ax.plot(\n",
    "    exp.time_arr, np.unwrap(exp.network_phase), c=COLS[\"ph_plot\"],\n",
    ")\n",
    "ax.set_ylabel(\"Fict. heading (θ)\", c=COLS[\"th_plot\"])\n",
    "ax.set(xlabel=\"Times (s)\", **pltltr.get_pi_labels(coefs=(0, -5, -10, -15, -20), ax=\"y\"))\n",
    "twin_ax.set_ylabel(\"Network phase (ϕ)\", c=COLS[\"ph_plot\"])\n",
    "twin_ax.set(**pltltr.get_pi_labels(coefs=(0, 2, 4, 6), ax=\"y\"))\n",
    "ax.set(ylim=(2, -65))\n",
    "# rho, pval = spearmanr(fictive_head, np.unwrap(exp.network_phase))\n",
    "# ax.text(1200, -np.pi, \"$ρ_r=\" + f\"{rho:0.3f}\" + \"$\" + pltltr.get_pval_stars(pval))\n",
    "[pltltr.despine(a, [\"top\"]) for a in [ax, twin_ax]]\n",
    "ax.axvspan(t_off_s, t_off_s + t_dur_s, lw=0, fc=\".9\", zorder=-100)\n",
    "pltltr.savefig(\"fictive_traj_phase_onefish\")"
   ]
  },
  {
   "cell_type": "code",
   "execution_count": null,
   "id": "bda701fa-d4b6-4322-a656-b0a7ac47d8a0",
   "metadata": {},
   "outputs": [],
   "source": [
    "fish"
   ]
  },
  {
   "cell_type": "code",
   "execution_count": null,
   "id": "43adc380-9891-49fc-bae0-ef134eeb94d9",
   "metadata": {},
   "outputs": [],
   "source": [
    "f, ax = plt.subplots(figsize=(6, 6))\n",
    "fish = pltltr.add_fish(ax, angle=0.0)\n",
    "ax.set(xlim=(-0.6, 0.6), ylim=(-1, 0.2))\n",
    "ax.axis(\"off\")"
   ]
  },
  {
   "cell_type": "code",
   "execution_count": null,
   "id": "a0f4ea49-a333-4e0c-9f68-235aeb0edfb5",
   "metadata": {},
   "outputs": [],
   "source": [
    "import imageio\n",
    "\n",
    "im = imageio.imread(\n",
    "    \"/Users/luigipetrucco/Desktop/Screenshot 2022-03-13 at 10.51.10.png\"\n",
    ")"
   ]
  },
  {
   "cell_type": "code",
   "execution_count": null,
   "id": "57384b86-6142-473f-be33-eb0276ff0128",
   "metadata": {},
   "outputs": [],
   "source": [
    "dwn = 1\n",
    "imsel = im[::dwn, ::dwn, 0]\n",
    "contour = pltltr.projection_contours(imsel - imsel.min(), smooth_wnd=15)[0]\n",
    "contour = contour - np.array([140, 207])\n",
    "contour = contour[:, ::-1]\n",
    "contour[:, 1] *= -1\n",
    "contour /= 900"
   ]
  },
  {
   "cell_type": "code",
   "execution_count": null,
   "id": "fe0f8301-6471-4eba-961e-9495d83ffaa9",
   "metadata": {},
   "outputs": [],
   "source": [
    "np.save(\"/Users/luigipetrucco/Desktop/fish_contour.npy\", contour)"
   ]
  },
  {
   "cell_type": "code",
   "execution_count": null,
   "id": "07b9c42e-5c53-4666-84a8-bb9a113318d0",
   "metadata": {},
   "outputs": [],
   "source": [
    "def rot_coords(contour, alpha):\n",
    "    return (\n",
    "        np.array([[np.cos(alpha), np.sin(alpha)], [-np.sin(alpha), np.cos(alpha)]])\n",
    "        @ contour.T\n",
    "    ).T"
   ]
  },
  {
   "cell_type": "code",
   "execution_count": null,
   "id": "0952d3c1-367c-48b8-b569-68814bb58dc0",
   "metadata": {},
   "outputs": [],
   "source": [
    "plt.figure()\n",
    "rot_contour = rot_coords(contour, np.pi / 4)\n",
    "(fish,) = plt.fill(rot_contour[:, 0], rot_contour[:, 1])\n",
    "plt.axis(\"equal\")"
   ]
  },
  {
   "cell_type": "code",
   "execution_count": null,
   "id": "5f14d352-f7f3-4666-a18a-6bae7ddb7ecc",
   "metadata": {},
   "outputs": [],
   "source": [
    "fish.set_xy(contour)"
   ]
  },
  {
   "cell_type": "code",
   "execution_count": null,
   "id": "d9f216d3-ad85-4f2b-afb0-1fe4f8100c77",
   "metadata": {},
   "outputs": [],
   "source": []
  }
 ],
 "metadata": {
  "kernelspec": {
   "display_name": "rplab",
   "language": "python",
   "name": "rplab"
  },
  "language_info": {
   "codemirror_mode": {
    "name": "ipython",
    "version": 3
   },
   "file_extension": ".py",
   "mimetype": "text/x-python",
   "name": "python",
   "nbconvert_exporter": "python",
   "pygments_lexer": "ipython3"
  }
 },
 "nbformat": 4,
 "nbformat_minor": 5
}

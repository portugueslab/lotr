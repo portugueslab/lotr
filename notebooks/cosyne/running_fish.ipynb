{
 "cells": [
  {
   "cell_type": "code",
   "execution_count": null,
   "id": "ca0ca623-7a66-47c1-94f8-d71da02cd404",
   "metadata": {},
   "outputs": [],
   "source": [
    "%matplotlib widget\n",
    "from pathlib import Path\n",
    "\n",
    "import flammkuchen as fl\n",
    "import numpy as np\n",
    "from lotr import plotting as pltltr\n",
    "from matplotlib import pyplot as plt\n",
    "\n",
    "\n",
    "def rot_coords(contour, alpha):\n",
    "    return (\n",
    "        np.array([[np.cos(alpha), np.sin(alpha)], [-np.sin(alpha), np.cos(alpha)]])\n",
    "        @ contour.T\n",
    "    ).T"
   ]
  },
  {
   "cell_type": "code",
   "execution_count": null,
   "id": "10895de1-86b4-4691-8946-b58ebca5c654",
   "metadata": {},
   "outputs": [],
   "source": [
    "data_path = Path(\n",
    "    \"/Volumes/Shared/experiments/virtual_gradients_experiments/freely_swim_Ruben/data_for_movie.h5\"\n",
    ")\n",
    "data = fl.load(data_path)\n",
    "\n",
    "sm = 100  # smoothing factor\n",
    "s = 22000  # start in pts\n",
    "d = 20000  # duration in pts\n",
    "\n",
    "coords = np.array(\n",
    "    [data[\"f0_x\"].rolling(sm).mean().values, data[\"f0_y\"].rolling(sm).mean().values]\n",
    ").T\n",
    "\n",
    "diff = coords[1:, :] - coords[:-1, :]\n",
    "angle = np.arctan2(diff[:, 0], diff[:, 1])\n",
    "\n",
    "coords = coords[s : s + d, :]\n",
    "angle = angle[s : s + d]"
   ]
  },
  {
   "cell_type": "code",
   "execution_count": null,
   "id": "d126237e-43e7-465e-82ff-4b877d2f7057",
   "metadata": {},
   "outputs": [],
   "source": [
    "size = 10\n",
    "arrow = np.array([(0, 0), (1, 0), (0.5, 1.75), (0, 0)]) * 10\n",
    "xlim = coords[:, 0].min() - size, coords[:, 0].max() + size\n",
    "ylim = coords[:, 1].min() - size, coords[:, 1].max() + size\n",
    "\n",
    "t = 0\n",
    "f, ax = plt.subplots(\n",
    "    1,\n",
    "    2,\n",
    "    figsize=(6, 2),\n",
    "    gridspec_kw=dict(wspace=0, left=0, right=1, top=1, bottom=0, width_ratios=[2, 1]),\n",
    ")\n",
    "\n",
    "arrow_pts = rot_coords(arrow, angle[t]) + coords[t, :]\n",
    "ax[0].fill(arrow_pts[:, 0], arrow_pts[:, 1], lw=0, fc=\".2\")\n",
    "ax[0].plot(coords[:, 0], coords[:, 1], lw=1)\n",
    "ax[0].set(xlim=xlim, ylim=ylim)\n",
    "\n",
    "cell_angles = np.arange(-np.pi, np.pi, 2 * np.pi / 10)\n",
    "\n",
    "l = 1.7\n",
    "distances = (\n",
    "    np.maximum(\n",
    "        (\n",
    "            np.cos(angle[t]) * np.cos(cell_angles)\n",
    "            + np.sin(angle[t]) * np.sin(cell_angles)\n",
    "        ),\n",
    "        0,\n",
    "    )\n",
    "    ** 4\n",
    ")\n",
    "cells_plot = ax[1].scatter(np.sin(cell_angles), np.cos(cell_angles), c=distances, s=300)\n",
    "for a in cell_angles:\n",
    "    plt.arrow(\n",
    "        np.sin(a),\n",
    "        np.cos(a),\n",
    "        np.sin(a) / 2.5,\n",
    "        np.cos(a) / 2.5,\n",
    "        width=0.05,\n",
    "        zorder=-100,\n",
    "        lw=0,\n",
    "        fc=\".3\",\n",
    "    )\n",
    "ax[1].set(xlim=(-l, l), ylim=(-l, l))"
   ]
  },
  {
   "cell_type": "code",
   "execution_count": null,
   "id": "871de577-f102-4400-860f-7f10d693f3b2",
   "metadata": {},
   "outputs": [],
   "source": [
    "cells_plot"
   ]
  },
  {
   "cell_type": "code",
   "execution_count": null,
   "id": "9712c7d2-f0c6-48bd-8eeb-5ebcc5d797e4",
   "metadata": {},
   "outputs": [],
   "source": [
    "cells_plot.set_array(-cell_angles)"
   ]
  },
  {
   "cell_type": "code",
   "execution_count": null,
   "id": "7b08eafa-bdae-4973-bec0-71f83855570f",
   "metadata": {},
   "outputs": [],
   "source": [
    "dir(cells_plot)"
   ]
  },
  {
   "cell_type": "code",
   "execution_count": null,
   "id": "10a10d10-85a8-4e33-b931-cb186f62330b",
   "metadata": {},
   "outputs": [],
   "source": []
  }
 ],
 "metadata": {
  "kernelspec": {
   "display_name": "rplab",
   "language": "python",
   "name": "rplab"
  },
  "language_info": {
   "codemirror_mode": {
    "name": "ipython",
    "version": 3
   },
   "file_extension": ".py",
   "mimetype": "text/x-python",
   "name": "python",
   "nbconvert_exporter": "python",
   "pygments_lexer": "ipython3"
  }
 },
 "nbformat": 4,
 "nbformat_minor": 5
}

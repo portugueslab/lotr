{
 "cells": [
  {
   "cell_type": "code",
   "execution_count": null,
   "id": "632e359d",
   "metadata": {},
   "outputs": [],
   "source": [
    "%matplotlib widget\n",
    "from pathlib import Path\n",
    "from tqdm import tqdm\n",
    "import pandas as pd\n",
    "import numpy as np\n",
    "from matplotlib import pyplot as plt\n",
    "\n",
    "from lotr.experiment_class import LotrExperiment\n",
    "from bouter.utilities import crop"
   ]
  },
  {
   "cell_type": "code",
   "execution_count": null,
   "id": "bd1fbdf1",
   "metadata": {},
   "outputs": [],
   "source": [
    "master_path = Path(\"/Users/luigipetrucco/Desktop/all_source_data/full_ring\")\n",
    "file_list = list(master_path.glob(\"*/*[0-9]_f*\"))"
   ]
  },
  {
   "cell_type": "code",
   "execution_count": null,
   "id": "5cf8498c",
   "metadata": {},
   "outputs": [],
   "source": [
    "path = master_path / \"210314_f1\" / \"210314_f1_natmov\"\n",
    "exp = LotrExperiment(path)"
   ]
  },
  {
   "cell_type": "code",
   "execution_count": null,
   "id": "9c06c350",
   "metadata": {},
   "outputs": [],
   "source": [
    "traces = exp.traces\n",
    "bouts_df = exp.bouts_df\n",
    "regr_df = exp.motor_regressors\n",
    "\n",
    "THR = 0.0\n",
    "OFF = 0.4\n",
    "directions = \"lf\", \"rt\"\n",
    "bout_sel = dict(rt=(regr_df[\"right_1\"] > (regr_df[\"left_1\"] + OFF)) & (regr_df[\"right_1\"] > THR),\n",
    "                lf=(regr_df[\"left_1\"] > (regr_df[\"right_1\"] + OFF))  & (regr_df[\"left_1\"] > THR))"
   ]
  },
  {
   "cell_type": "code",
   "execution_count": null,
   "id": "25dfa1da",
   "metadata": {},
   "outputs": [],
   "source": [
    "f, axs = plt.subplots(1,2, figsize=(8, 3))\n",
    "\n",
    "for i, coords in enumerate([[regr_df[\"right_1\"], regr_df[\"left_1\"]],\n",
    "                           [exp.coords[:, 1], exp.coords[:, 2]]]):\n",
    "    axs[i].scatter(coords[0], coords[1], c=(0.6,)*3)\n",
    "\n",
    "    for k, sel in bout_sel.items():\n",
    "        axs[i].scatter(coords[0][sel], coords[1][sel])\n",
    "    axs[i].axis(\"equal\")\n",
    "\n",
    "\n",
    "axs[0].plot([0, 0.5], [0, 0.5], \"k\")"
   ]
  },
  {
   "cell_type": "code",
   "execution_count": null,
   "id": "38ca0ce9",
   "metadata": {},
   "outputs": [],
   "source": [
    "pre_wnd_s = 10\n",
    "post_wnd_s = 20\n",
    "\n",
    "traces_resps = dict()\n",
    "for direction in directions:\n",
    "    idx = exp.bouts_df.loc[exp.bouts_df[\"direction\"] == direction, \"idx_imaging\"]\n",
    "    cropped = crop(exp.traces, idx, \n",
    "                        pre_int=int(pre_wnd_s * exp.fn), post_int=int(post_wnd_s * exp.fn))\n",
    "    cropped = np.nanmean(cropped, 1)\n",
    "    \n",
    "    cropped = cropped - np.nanmean(cropped[:int(pre_wnd_s * exp.fn), :], 0)\n",
    "    \n",
    "    traces_resps[direction] = cropped"
   ]
  },
  {
   "cell_type": "code",
   "execution_count": null,
   "id": "80954d9f",
   "metadata": {},
   "outputs": [],
   "source": [
    "sortings = {sel:np.argsort(traces_resps[d][50:80, bout_sel[sel]].mean(0)) \n",
    "            for d, sel in zip(directions, directions[::-1])}"
   ]
  },
  {
   "cell_type": "code",
   "execution_count": null,
   "id": "d130e308",
   "metadata": {},
   "outputs": [],
   "source": [
    "f, axs = plt.subplots(2, 2, figsize=(8, 3))\n",
    "for i, d in enumerate(directions):\n",
    "    for j, sel in enumerate(directions):\n",
    "        axs[j, i].imshow(traces_resps[d][:, bout_sel[sel]][:, sortings[sel]].T)"
   ]
  },
  {
   "cell_type": "code",
   "execution_count": null,
   "id": "927b38a7",
   "metadata": {},
   "outputs": [],
   "source": [
    "f, axs = plt.subplots(1, 2, figsize=(8, 3))\n",
    "for i, (d, sel) in enumerate(zip(directions, directions[::-1])):\n",
    "    axs[i].scatter(exp.coords[:, 1], exp.coords[:, 2],\n",
    "                  c=(0.6,)*3)\n",
    "    axs[i].scatter(exp.coords[bout_sel[d], 1], exp.coords[bout_sel[d], 2],\n",
    "                  c=traces_resps[d][50:80, bout_sel[d]].mean(0))\n",
    "    \n",
    "    axs[i].axis(\"equal\")"
   ]
  },
  {
   "cell_type": "code",
   "execution_count": null,
   "id": "f8c87ba4",
   "metadata": {},
   "outputs": [],
   "source": []
  }
 ],
 "metadata": {
  "kernelspec": {
   "display_name": "rplab",
   "language": "python",
   "name": "rplab"
  },
  "language_info": {
   "codemirror_mode": {
    "name": "ipython",
    "version": 3
   },
   "file_extension": ".py",
   "mimetype": "text/x-python",
   "name": "python",
   "nbconvert_exporter": "python",
   "pygments_lexer": "ipython3"
  }
 },
 "nbformat": 4,
 "nbformat_minor": 5
}

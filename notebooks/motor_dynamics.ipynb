{
 "cells": [
  {
   "cell_type": "code",
   "execution_count": null,
   "id": "c097455a",
   "metadata": {},
   "outputs": [],
   "source": [
    "%matplotlib widget\n",
    "from pathlib import Path\n",
    "from tqdm import tqdm\n",
    "import pandas as pd\n",
    "import numpy as np\n",
    "from matplotlib import pyplot as plt\n",
    "\n",
    "from lotr.experiment_class import LotrExperiment\n",
    "from bouter.utilities import crop"
   ]
  },
  {
   "cell_type": "code",
   "execution_count": null,
   "id": "5d0d7294",
   "metadata": {},
   "outputs": [],
   "source": [
    "master_path = Path(\"/Users/luigipetrucco/Desktop/all_source_data/full_ring\")\n",
    "file_list = list(master_path.glob(\"*/*[0-9]_f*\"))"
   ]
  },
  {
   "cell_type": "code",
   "execution_count": null,
   "id": "25c6777c",
   "metadata": {},
   "outputs": [],
   "source": [
    "path = master_path / \"210314_f1\" / \"210314_f1_natmov\"\n",
    "exp = LotrExperiment(path)"
   ]
  },
  {
   "cell_type": "code",
   "execution_count": null,
   "id": "158614a5",
   "metadata": {},
   "outputs": [],
   "source": [
    "bouts_df = exp.bouts_df\n",
    "regr_df = exp.motor_regressors\n",
    "\n",
    "THR = 0.4\n",
    "OFF = 0.45\n",
    "directions = \"lf\", \"rt\"\n",
    "bout_sel = dict(rt=(regr_df[\"right_1\"] > (regr_df[\"left_1\"] + OFF)) & (regr_df[\"right_1\"] > THR),\n",
    "                lf=(regr_df[\"left_1\"] > (regr_df[\"right_1\"] + OFF))  & (regr_df[\"left_1\"] > THR))"
   ]
  },
  {
   "cell_type": "code",
   "execution_count": null,
   "id": "12667a6f",
   "metadata": {},
   "outputs": [],
   "source": [
    "f, axs = plt.subplots(1,2, figsize=(6, 3))\n",
    "s = 15\n",
    "for i, coords in enumerate([[regr_df[\"right_1\"], regr_df[\"left_1\"]],\n",
    "                           [exp.coords[:, 1], exp.coords[:, 2]]]):\n",
    "    axs[i].scatter(coords[0], coords[1], c=(0.8,)*3, s=s)\n",
    "    axs[i].scatter(coords[0][exp.hdn_indexes], coords[1][exp.hdn_indexes], fc=(0.8,)*3, ec=(0.3,)*3,\n",
    "                  lw=0.5, s=s)\n",
    "\n",
    "    for k, sel in bout_sel.items():\n",
    "        axs[i].scatter(coords[0][sel], coords[1][sel], s=s)\n",
    "    axs[i].axis(\"equal\")\n",
    "\n",
    "\n",
    "axs[0].plot([0, 0.5], [0, 0.5], \"k\", lw=0.5)\n",
    "axs[0].set(xlabel=\"Left bouts c.c.\", ylabel=\"Right bouts c.c.\")\n",
    "axs[1].axis(\"off\")\n",
    "plt.tight_layout()"
   ]
  },
  {
   "cell_type": "code",
   "execution_count": null,
   "id": "3d76434a",
   "metadata": {},
   "outputs": [],
   "source": [
    "exp.hdn_indexes"
   ]
  },
  {
   "cell_type": "code",
   "execution_count": null,
   "id": "c3b5c0f4",
   "metadata": {},
   "outputs": [],
   "source": [
    "pre_wnd_s = 10\n",
    "post_wnd_s = 20\n",
    "\n",
    "traces_resps = dict()\n",
    "for direction in directions:\n",
    "    idx = exp.bouts_df.loc[exp.bouts_df[\"direction\"] == direction, \"idx_imaging\"]\n",
    "    cropped = crop(exp.raw_traces, idx, \n",
    "                        pre_int=int(pre_wnd_s * exp.fn), post_int=int(post_wnd_s * exp.fn))\n",
    "    cropped = np.nanmean(cropped, 1)\n",
    "    \n",
    "    cropped = cropped - np.nanmean(cropped[:int(pre_wnd_s * exp.fn), :], 0)\n",
    "    \n",
    "    traces_resps[direction] = cropped"
   ]
  },
  {
   "cell_type": "code",
   "execution_count": null,
   "id": "9e246983",
   "metadata": {},
   "outputs": [],
   "source": [
    "sortings = {sel:np.argsort(traces_resps[d][50:80, bout_sel[sel]].mean(0)) \n",
    "            for d, sel in zip(directions, directions[::-1])}"
   ]
  },
  {
   "cell_type": "code",
   "execution_count": null,
   "id": "8ba21d01",
   "metadata": {},
   "outputs": [],
   "source": [
    "f, axs = plt.subplots(2, 2, figsize=(8, 3))\n",
    "for i, d in enumerate(directions):\n",
    "    for j, sel in enumerate(directions):\n",
    "        axs[j, i].plot(traces_resps[d][:, bout_sel[sel]][:, sortings[sel]])"
   ]
  },
  {
   "cell_type": "code",
   "execution_count": null,
   "id": "57317567",
   "metadata": {},
   "outputs": [],
   "source": [
    "f, axs = plt.subplots(1, 2, figsize=(8, 3))\n",
    "for i, (d, sel) in enumerate(zip(directions, directions[::-1])):\n",
    "    axs[i].scatter(exp.coords[:, 1], exp.coords[:, 2],\n",
    "                  c=(0.6,)*3)\n",
    "    axs[i].scatter(exp.coords[bout_sel[d], 1], exp.coords[bout_sel[d], 2],\n",
    "                  c=traces_resps[d][80:100, bout_sel[d]].mean(0))\n",
    "    \n",
    "    axs[i].axis(\"equal\")"
   ]
  },
  {
   "cell_type": "code",
   "execution_count": null,
   "id": "5b500d60",
   "metadata": {},
   "outputs": [],
   "source": [
    "from lotr.pca import pca_and_phase"
   ]
  },
  {
   "cell_type": "code",
   "execution_count": null,
   "id": "6a1ca7ae",
   "metadata": {},
   "outputs": [],
   "source": [
    "pcaed, phase, _ = pca_and_phase(exp.raw_traces[:, bout_sel[\"lf\"] | bout_sel[\"rt\"]])"
   ]
  },
  {
   "cell_type": "code",
   "execution_count": null,
   "id": "137488da",
   "metadata": {},
   "outputs": [],
   "source": [
    "plt.figure()\n",
    "plt.plot(pcaed[:, 0], pcaed[:, 1])"
   ]
  },
  {
   "cell_type": "code",
   "execution_count": null,
   "id": "7fee2d3d",
   "metadata": {},
   "outputs": [],
   "source": []
  }
 ],
 "metadata": {
  "kernelspec": {
   "display_name": "rplab",
   "language": "python",
   "name": "rplab"
  },
  "language_info": {
   "codemirror_mode": {
    "name": "ipython",
    "version": 3
   },
   "file_extension": ".py",
   "mimetype": "text/x-python",
   "name": "python",
   "nbconvert_exporter": "python",
   "pygments_lexer": "ipython3"
  }
 },
 "nbformat": 4,
 "nbformat_minor": 5
}

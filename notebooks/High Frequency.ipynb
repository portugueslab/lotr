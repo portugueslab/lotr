{
 "cells": [
  {
   "cell_type": "code",
   "execution_count": 144,
   "id": "16ed2135",
   "metadata": {},
   "outputs": [],
   "source": [
    "%matplotlib widget"
   ]
  },
  {
   "cell_type": "code",
   "execution_count": 145,
   "id": "f3dded74",
   "metadata": {},
   "outputs": [],
   "source": [
    "from matplotlib import pyplot as plt\n",
    "import numpy as np\n",
    "from scipy.signal import welch\n",
    "\n",
    "from pathlib import Path\n",
    "import flammkuchen as fl\n",
    "from fimpylab import LightsheetExperiment"
   ]
  },
  {
   "cell_type": "code",
   "execution_count": 170,
   "id": "e81acbae",
   "metadata": {},
   "outputs": [],
   "source": [
    "path = Path(\"/Users/luigipetrucco/Desktop/batch_210922/210923_f6_gainmod\")\n",
    "exp = LightsheetExperiment(path)\n",
    "fn = int(exp.fs_imaging)\n",
    "df = exp.behavior_log"
   ]
  },
  {
   "cell_type": "code",
   "execution_count": 171,
   "id": "da3af193",
   "metadata": {},
   "outputs": [],
   "source": [
    "traces_raw = fl.load(path / \"data_from_suite2p_unfiltered.h5\", \"/traces\").T"
   ]
  },
  {
   "cell_type": "code",
   "execution_count": 172,
   "id": "7bd4d6a2",
   "metadata": {},
   "outputs": [],
   "source": [
    "f, s = welch(traces_raw, fs=fn, window='hann', nperseg=500, noverlap=None, \n",
    "        nfft=None, detrend='linear', return_onesided=True, scaling='density', \n",
    "             axis=0, average='mean')\n",
    "\n",
    "f = f[2:]\n",
    "s = s[2:, :]\n",
    "\n",
    "max_freq = 0.2\n",
    "s = s[f < max_freq, :]\n",
    "f = f[f < max_freq]\n",
    "\n",
    "mn = 1 / f\n",
    "norm = (s.T / mn).T\n",
    "norm = norm - norm.mean(0)"
   ]
  },
  {
   "cell_type": "code",
   "execution_count": 173,
   "id": "5aa0eb8e",
   "metadata": {},
   "outputs": [
    {
     "data": {
      "application/vnd.jupyter.widget-view+json": {
       "model_id": "8d49d6bca6b149c88441236758f4e5ee",
       "version_major": 2,
       "version_minor": 0
      },
      "text/plain": [
       "Canvas(toolbar=Toolbar(toolitems=[('Home', 'Reset original view', 'home', 'home'), ('Back', 'Back to previous …"
      ]
     },
     "metadata": {},
     "output_type": "display_data"
    }
   ],
   "source": [
    "plt.figure()\n",
    "plt.plot(norm[:, :])\n",
    "# plt.loglog(p, , \"k\", lw=3)\n",
    "# plt.xlim(0, 0.5)\n",
    "plt.show()"
   ]
  },
  {
   "cell_type": "code",
   "execution_count": 165,
   "id": "8f460acf",
   "metadata": {},
   "outputs": [],
   "source": [
    "sorted_on_first = np.argsort(-norm[3, :])\n",
    "# sorted_on_second = np.argsort(-norm[8, :])"
   ]
  },
  {
   "cell_type": "code",
   "execution_count": 169,
   "id": "97c8ed82",
   "metadata": {},
   "outputs": [
    {
     "data": {
      "application/vnd.jupyter.widget-view+json": {
       "model_id": "744f7a1bba7c40ccb5eb8a04e9d2255d",
       "version_major": 2,
       "version_minor": 0
      },
      "text/plain": [
       "Canvas(toolbar=Toolbar(toolitems=[('Home', 'Reset original view', 'home', 'home'), ('Back', 'Back to previous …"
      ]
     },
     "metadata": {},
     "output_type": "display_data"
    },
    {
     "data": {
      "text/plain": [
       "[<matplotlib.lines.Line2D at 0x7f8d4ff93ac0>]"
      ]
     },
     "execution_count": 169,
     "metadata": {},
     "output_type": "execute_result"
    }
   ],
   "source": [
    "i = 0\n",
    "plt.figure(figsize=(8, 2))\n",
    "t_img = np.arange(traces_raw.shape[0]) / fn\n",
    "plt.plot(t_img, traces_raw[:, sorted_on_second[0]])\n",
    "#plt.plot(t_img, traces_raw[:, sorted_on_second[4]])\n",
    "plt.plot(t_img, traces_raw[:, sorted_on_second[4]])\n",
    "\n",
    "\n",
    "plt.plot(df.t, df.tail_sum)\n",
    "\n",
    "# plt.xlim(2000, 4000)"
   ]
  },
  {
   "cell_type": "code",
   "execution_count": null,
   "id": "7e164473",
   "metadata": {},
   "outputs": [],
   "source": []
  }
 ],
 "metadata": {
  "kernelspec": {
   "display_name": "rplab",
   "language": "python",
   "name": "rplab"
  },
  "language_info": {
   "codemirror_mode": {
    "name": "ipython",
    "version": 3
   },
   "file_extension": ".py",
   "mimetype": "text/x-python",
   "name": "python",
   "nbconvert_exporter": "python",
   "pygments_lexer": "ipython3",
   "version": "3.8.3"
  }
 },
 "nbformat": 4,
 "nbformat_minor": 5
}

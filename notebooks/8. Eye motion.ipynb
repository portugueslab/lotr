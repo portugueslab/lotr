{
 "cells": [
  {
   "cell_type": "code",
   "execution_count": null,
   "metadata": {},
   "outputs": [],
   "source": [
    "%matplotlib widget\n",
    "import flammkuchen as fl\n",
    "import lotr.plotting as pltltr\n",
    "import numpy as np\n",
    "import pandas as pd\n",
    "from lotr import DATASET_LOCATION, LotrExperiment, dataset_folders\n",
    "from lotr.data_preprocessing.dlc_tracking import export_dlc_behavior\n",
    "from lotr.utils import convolve_with_tau, interpolate, nan_phase_jumps, zscore\n",
    "from matplotlib import pyplot as plt\n",
    "from sklearn.linear_model import LinearRegression\n",
    "from sklearn.metrics import r2_score\n",
    "from tqdm import tqdm\n",
    "\n",
    "COLS = pltltr.COLS"
   ]
  },
  {
   "cell_type": "code",
   "execution_count": null,
   "metadata": {},
   "outputs": [],
   "source": [
    "from lotr import DATASET_LOCATION\n",
    "\n",
    "fish_with_eyes = [f.parent for f in DATASET_LOCATION.glob(\"*/*/behavior_from_dlc.h5\")]\n",
    "fish_with_eyes"
   ]
  },
  {
   "cell_type": "code",
   "execution_count": null,
   "metadata": {},
   "outputs": [],
   "source": [
    "def _process_reg(reg):\n",
    "    reg = convolve_with_tau(reg, int(TAU_S * exp.fs))\n",
    "    return zscore(reg)\n",
    "\n",
    "\n",
    "def draw_train_test(n_pts, wnd):\n",
    "    indexes = np.arange(n_pts - wnd, dtype=np.float)\n",
    "\n",
    "    # Draw beginning of training window:\n",
    "    train_i_start = np.random.randint(0, n_pts - wnd)\n",
    "    train_i_end = train_i_start + wnd\n",
    "\n",
    "    # Exclude training window from possible choiches:\n",
    "    indexes[train_i_start:train_i_end] = np.nan\n",
    "    # Exclude beginning and end if we are to close to limits:\n",
    "    if train_i_start < wnd:\n",
    "        indexes[:train_i_start] = np.nan\n",
    "    if n_pts - train_i_end < wnd:\n",
    "        indexes[train_i_end:] = np.nan\n",
    "\n",
    "    indexes = indexes[~np.isnan(indexes)]  # .astype(np.int)\n",
    "    test_i_start = int(np.random.choice(indexes))\n",
    "\n",
    "    return slice(train_i_start, train_i_end), slice(test_i_start, test_i_start + wnd)"
   ]
  },
  {
   "cell_type": "code",
   "execution_count": null,
   "metadata": {},
   "outputs": [],
   "source": [
    "TAU_S = 5\n",
    "WND = 300\n",
    "results_df = []\n",
    "for path in tqdm(fish_with_eyes):\n",
    "    exp = LotrExperiment(path)\n",
    "    dlc_df = fl.load(path / \"behavior_from_dlc.h5\", \"/data\")\n",
    "\n",
    "    fictive_head = exp.fictive_heading\n",
    "    phase = exp.network_phase\n",
    "\n",
    "    eyes_arr = dlc_df[\"rt_eye_medfilt\"] + dlc_df[\"lf_eye_medfilt\"]\n",
    "    interp_eye = interpolate(dlc_df[\"t\"], eyes_arr, exp.time_arr)\n",
    "\n",
    "    data_diff_df = pd.DataFrame(\n",
    "        dict(\n",
    "            phase=_process_reg(np.diff(np.unwrap(phase))),\n",
    "            mov_regr=_process_reg(np.diff(fictive_head)),\n",
    "            eye_pos_regr=_process_reg(interp_eye[1:]),\n",
    "            eye_vel_regr=_process_reg(np.diff(interp_eye)),\n",
    "        )\n",
    "    )\n",
    "    data_df = pd.DataFrame(\n",
    "        dict(\n",
    "            phase=np.unwrap(phase),\n",
    "            mov_regr=_process_reg(fictive_head),\n",
    "            eye_pos_regr=_process_reg(interp_eye),\n",
    "        )\n",
    "    )\n",
    "\n",
    "    to_fit = data_diff_df\n",
    "    for tofit, tofit_lab in zip([data_diff_df, data_df], [\"diffdata\", \"data\"]):\n",
    "        # all_coefs = []\n",
    "        for _ in range(500):\n",
    "            train, test = draw_train_test(len(phase), WND * exp.fs)\n",
    "\n",
    "            regr = LinearRegression()\n",
    "            regr.fit(\n",
    "                to_fit[[\"mov_regr\", \"eye_pos_regr\"]].values[train, :],\n",
    "                to_fit[\"phase\"].values[train],\n",
    "            )\n",
    "            pred_fit = regr.predict(\n",
    "                to_fit[[\"mov_regr\", \"eye_pos_regr\"]].values[train, :]\n",
    "            )\n",
    "            prediction = regr.predict(\n",
    "                to_fit[[\"mov_regr\", \"eye_pos_regr\"]].values[test, :]\n",
    "            )\n",
    "\n",
    "            # pred_r2 = r2_score(prediction, to_fit[\"phase\"][test])\n",
    "            # train_r2 = r2_score(pred_fit, to_fit[\"phase\"][train])\n",
    "\n",
    "            train_corrs = np.stack(\n",
    "                [\n",
    "                    to_fit[\"phase\"][train],\n",
    "                    pred_fit,\n",
    "                    to_fit[\"mov_regr\"][train] * regr.coef_[0],\n",
    "                    to_fit[\"eye_pos_regr\"][train] * regr.coef_[1],\n",
    "                ]\n",
    "            )\n",
    "\n",
    "            test_corrs = np.stack(\n",
    "                [\n",
    "                    to_fit[\"phase\"][test],\n",
    "                    prediction,\n",
    "                    to_fit[\"mov_regr\"][test] * regr.coef_[0],\n",
    "                    to_fit[\"eye_pos_regr\"][test] * regr.coef_[1],\n",
    "                ]\n",
    "            )\n",
    "            for t, tname in zip([train_corrs, test_corrs], [\"train\", \"test\"]):\n",
    "                res_df = {\n",
    "                    k: val\n",
    "                    for k, val in zip(\n",
    "                        [\"both\", \"tail\", \"eye\"], np.corrcoef(train_corrs)[0, 1:]\n",
    "                    )\n",
    "                }\n",
    "                res_df[\"batch\"] = tname\n",
    "                res_df[\"data\"] = tofit_lab\n",
    "                res_df[\"fid\"] = path.name\n",
    "\n",
    "                results_df.append(res_df)\n",
    "            # all_coefs.append(\n",
    "            #    np.stack([np.corrcoef(train_corrs)[0, 1:], np.corrcoef(test_corrs)[0, 1:]])\n",
    "            # )\n",
    "results_df = pd.DataFrame(results_df)"
   ]
  },
  {
   "cell_type": "code",
   "execution_count": null,
   "metadata": {},
   "outputs": [],
   "source": [
    "def _to_float(df):\n",
    "    df.iloc[:, :].values = df.iloc[:, :].values.astype(np.float)\n",
    "\n",
    "\n",
    "sel = (results_df[\"batch\"] == \"test\") & (results_df[\"data\"] == \"diffdata\")\n",
    "\n",
    "# for fid in results_df[\"fid\"].unique():\n",
    "#    selfid = sel & (results_df[\"fid\"] == fid)\n",
    "# results_df[sel].groupby(\"fid\").quantile((.25, .5, .75))\n",
    "quantiles_df = (\n",
    "    results_df.loc[sel, [\"both\", \"tail\", \"eye\", \"fid\"]]\n",
    "    .groupby(\"fid\")\n",
    "    .quantile((0.25, 0.5, 0.75))\n",
    ")"
   ]
  },
  {
   "cell_type": "code",
   "execution_count": null,
   "metadata": {},
   "outputs": [],
   "source": [
    "quantiles_df.xs(path.name, level=\"fid\")"
   ]
  },
  {
   "cell_type": "code",
   "execution_count": null,
   "metadata": {},
   "outputs": [],
   "source": [
    "f, ax = plt.subplots(\n",
    "    figsize=(2.2, 1.5), gridspec_kw=dict(left=0.2, bottom=0.15, top=0.8)\n",
    ")\n",
    "for i, path in enumerate(fish_with_eyes):\n",
    "    pltltr.tick_with_bars(\n",
    "        quantiles_df.xs(path.name, level=\"fid\"),\n",
    "        cols=[COLS[\"fish_cols\"][i],] * 3,\n",
    "        xdisperse=0.25,\n",
    "    )\n",
    "    plt.plot([np.nan], c=COLS[\"fish_cols\"][i], label=f\"fish {i}\")\n",
    "    # plt.plot(quantiles_df.xs(path.name, level=\"fid\")[0.5].values)\n",
    "ax.set(\n",
    "    ylabel=\"Fit correlation (cross-val)\",\n",
    "    xticks=[0, 1, 2],\n",
    "    xticklabels=[\"eyes+tail\", \"tail\", \"eyes\"],\n",
    "    ylim=(0, 0.8),\n",
    ")\n",
    "ax.legend(loc=2, bbox_to_anchor=(0.7, 1.3), fontsize=6)\n",
    "pltltr.despine(ax)\n",
    "\n",
    "pltltr.savefig(\"eye_tail_correlations\")"
   ]
  },
  {
   "cell_type": "code",
   "execution_count": null,
   "metadata": {},
   "outputs": [],
   "source": [
    "path = fish_with_eyes[1]\n",
    "exp = LotrExperiment(path)\n",
    "dlc_df = fl.load(path / \"behavior_from_dlc.h5\", \"/data\")\n",
    "\n",
    "fictive_head = exp.fictive_heading\n",
    "phase = exp.network_phase\n",
    "\n",
    "eyes_arr = dlc_df[\"rt_eye_medfilt\"] + dlc_df[\"lf_eye_medfilt\"]\n",
    "interp_eye = interpolate(dlc_df[\"t\"], eyes_arr, exp.time_arr)\n",
    "\n",
    "data_diff_df = pd.DataFrame(\n",
    "    dict(\n",
    "        phase=_process_reg(np.diff(np.unwrap(phase))),\n",
    "        mov_regr=_process_reg(np.diff(fictive_head)),\n",
    "        eye_pos_regr=_process_reg(interp_eye[1:]),\n",
    "        eye_vel_regr=_process_reg(np.diff(interp_eye)),\n",
    "    )\n",
    ")\n",
    "data_df = pd.DataFrame(\n",
    "    dict(\n",
    "        phase=np.unwrap(phase),\n",
    "        mov_regr=_process_reg(fictive_head),\n",
    "        eye_pos_regr=_process_reg(interp_eye),\n",
    "    )\n",
    ")"
   ]
  },
  {
   "cell_type": "code",
   "execution_count": null,
   "metadata": {},
   "outputs": [],
   "source": [
    "exp.time_arr[-1]"
   ]
  },
  {
   "cell_type": "code",
   "execution_count": null,
   "metadata": {},
   "outputs": [],
   "source": [
    "dir(ax)"
   ]
  },
  {
   "cell_type": "code",
   "execution_count": null,
   "metadata": {},
   "outputs": [],
   "source": [
    "t_slice_s = (1300, 2160)\n",
    "f, ax = plt.subplots(figsize=(3, 2), gridspec_kw=dict(left=0.2, bottom=0.2, right=0.99))\n",
    "lw = 1\n",
    "\n",
    "t_slice = slice(*[t * exp.fs for t in t_slice_s])\n",
    "t_arr = np.arange(t_slice.stop-t_slice.start) / exp.fs\n",
    "ax.plot(t_arr,\n",
    "    -zscore(np.unwrap(phase[t_slice])), c=COLS[\"ph_plot\"], lw=lw, label=\"Network phase\"\n",
    ")\n",
    "ax.plot(t_arr,zscore(fictive_head[t_slice]), c=COLS[\"th_plot\"], lw=lw, label=\"Heading\")\n",
    "# twin_ax = ax.twinx()\n",
    "ax.plot(t_arr,zscore(interp_eye[t_slice]) / 3 - 3, lw=lw, c=\"darkgreen\", label=\"Eyes (mean)\")\n",
    "ax.set(xlabel=\"Time (s)\")\n",
    "pltltr.despine(ax, [\"left\", \"top\", \"right\"])\n",
    "ax.legend(loc=2, bbox_to_anchor=(0.0, 1.1), fontsize=6)\n",
    "pltltr.savefig(\"eye_tail_traces\")"
   ]
  },
  {
   "cell_type": "code",
   "execution_count": null,
   "metadata": {},
   "outputs": [],
   "source": []
  },
  {
   "cell_type": "code",
   "execution_count": null,
   "metadata": {},
   "outputs": [],
   "source": []
  },
  {
   "cell_type": "code",
   "execution_count": null,
   "metadata": {},
   "outputs": [],
   "source": [
    "all_coefs.shape"
   ]
  },
  {
   "cell_type": "code",
   "execution_count": null,
   "metadata": {},
   "outputs": [],
   "source": [
    "b = np.arange(-1, 1, 0.05)\n",
    "plt.figure()\n",
    "for i in range(3):\n",
    "    plt.hist(all_coefs[:, 0, i], b, alpha=0.3)"
   ]
  },
  {
   "cell_type": "code",
   "execution_count": null,
   "metadata": {},
   "outputs": [],
   "source": []
  },
  {
   "cell_type": "code",
   "execution_count": null,
   "metadata": {},
   "outputs": [],
   "source": []
  },
  {
   "cell_type": "code",
   "execution_count": null,
   "metadata": {},
   "outputs": [],
   "source": [
    "f, axs = plt.subplots(2, 1, figsize=(6, 4))\n",
    "axs[0].plot(\n",
    "    to_fit[[\"mov_regr\", \"eye_pos_regr\"]].values[train, :] * regr.coef_ + regr.intercept_\n",
    ")\n",
    "axs[0].plot(pred_fit)\n",
    "axs[0].plot(to_fit[\"phase\"][train].values)\n",
    "axs[0].set_title(f\"{train_r2:3.3f}, ({regr.coef_})\")\n",
    "\n",
    "axs[1].plot(\n",
    "    to_fit[[\"mov_regr\", \"eye_pos_regr\"]].values[test, :] * regr.coef_ + regr.intercept_\n",
    ")\n",
    "axs[1].plot(prediction)\n",
    "axs[1].plot(to_fit[\"phase\"][test].values)\n",
    "axs[1].set_title(f\"{pred_r2:3.3f}, ({regr.coef_})\")\n",
    "\n",
    "plt.tight_layout()"
   ]
  },
  {
   "cell_type": "markdown",
   "metadata": {},
   "source": [
    "dir(regr)"
   ]
  },
  {
   "cell_type": "code",
   "execution_count": null,
   "metadata": {},
   "outputs": [],
   "source": [
    "plt.figure()\n",
    "plt.plot(prediction)\n",
    "plt.plot(data_df[\"phase\"][train].values)\n",
    "plt.plot(data_df.loc[:, [\"mov_regr\", \"eye_pos_regr\"]].values[train, :])"
   ]
  },
  {
   "cell_type": "code",
   "execution_count": null,
   "metadata": {},
   "outputs": [],
   "source": []
  },
  {
   "cell_type": "code",
   "execution_count": null,
   "metadata": {},
   "outputs": [],
   "source": [
    "f, axs = plt.subplots(figsize=(5, 5))\n",
    "axs.scatter(\n",
    "    data_df[\"eye_pos_regr\"],\n",
    "    data_df[\"mov_regr\"],\n",
    "    c=data_df[\"phase\"],\n",
    "    cmap=\"RdBu_r\",\n",
    "    s=5,\n",
    ")"
   ]
  },
  {
   "cell_type": "code",
   "execution_count": null,
   "metadata": {},
   "outputs": [],
   "source": [
    "f, axs = plt.subplots(2, 2, figsize=(5, 5))\n",
    "axs[0, 0].scatter(\n",
    "    phase_diff, mov_regr, c=eye_pos_regr, vmin=-1.5, vmax=1.5, cmap=\"RdBu_r\", s=5\n",
    ")\n",
    "axs[0, 1].scatter(\n",
    "    phase_diff, mov_regr, c=eye_vel_regr, vmin=-1.5, vmax=1.5, cmap=\"RdBu_r\", s=5\n",
    ")\n",
    "axs[1, 0].scatter(phase_diff, eye_pos_regr, c=mov_regr, cmap=\"RdBu_r\", s=5)\n",
    "axs[1, 1].scatter(phase_diff, eye_vel_regr, c=mov_regr, cmap=\"RdBu_r\", s=5)"
   ]
  },
  {
   "cell_type": "code",
   "execution_count": null,
   "metadata": {},
   "outputs": [],
   "source": [
    "plt.figure()\n",
    "plt.plot(zscore(mov_regr))\n",
    "plt.plot(zscore(eye_pos_regr))\n",
    "plt.plot(zscore(eye_vel_regr))\n",
    "# plt.plot(zscore(phase_diff))"
   ]
  },
  {
   "cell_type": "code",
   "execution_count": null,
   "metadata": {},
   "outputs": [],
   "source": [
    "plt.figure()\n",
    "plt.plot(exp.time_arr[1:], interp_eye)\n",
    "plt.plot(dlc_df[\"t\"], eyes_arr)"
   ]
  },
  {
   "cell_type": "code",
   "execution_count": null,
   "metadata": {},
   "outputs": [],
   "source": []
  }
 ],
 "metadata": {
  "kernelspec": {
   "display_name": "rplab",
   "language": "python",
   "name": "rplab"
  },
  "language_info": {
   "codemirror_mode": {
    "name": "ipython",
    "version": 3
   },
   "file_extension": ".py",
   "mimetype": "text/x-python",
   "name": "python",
   "nbconvert_exporter": "python",
   "pygments_lexer": "ipython3"
  }
 },
 "nbformat": 4,
 "nbformat_minor": 4
}

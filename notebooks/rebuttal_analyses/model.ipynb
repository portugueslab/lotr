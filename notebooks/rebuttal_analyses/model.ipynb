{
 "cells": [
  {
   "cell_type": "code",
   "execution_count": null,
   "id": "e0262f6d-a357-4389-adb8-c95921b1bd4a",
   "metadata": {},
   "outputs": [],
   "source": [
    "%matplotlib widget"
   ]
  },
  {
   "cell_type": "code",
   "execution_count": null,
   "id": "a614b7dd-62f1-48cf-acf8-89fbe7a04247",
   "metadata": {},
   "outputs": [],
   "source": [
    "import numpy as np\n",
    "import matplotlib.pyplot as plt\n",
    "import math"
   ]
  },
  {
   "cell_type": "code",
   "execution_count": null,
   "id": "d5bac22a-a017-4120-b18c-71a510b4db32",
   "metadata": {},
   "outputs": [],
   "source": [
    "\n",
    "angles=np.zeros(100)\n",
    "\n",
    "for i in range(100):\n",
    "    angles[i]=2*math.pi*i/100\n",
    "\n",
    "W=np.zeros((100,100))\n",
    "\n",
    "width=30\n",
    "\n",
    "for i in range(1):\n",
    "    for j in range(100):\n",
    "        if abs(j-50)<width:\n",
    "            W[i,j]=math.cos(abs(j-50)*math.pi/(width*2))\n",
    "            \n",
    "for i in range(99):\n",
    "    W[i+1,1:100]=W[i,0:99]\n",
    "    W[i+1,0]=W[i,99]\n",
    "\n",
    "W=W/np.sum(W)  \n",
    "    \n",
    "W=-W\n",
    "\n",
    "plt.figure()\n",
    "plt.imshow(W)\n",
    "plt.show()"
   ]
  },
  {
   "cell_type": "code",
   "execution_count": null,
   "id": "76f2ac9e-1f3b-4e95-82ac-084a16643d5f",
   "metadata": {},
   "outputs": [],
   "source": [
    "\n"
   ]
  },
  {
   "cell_type": "code",
   "execution_count": null,
   "id": "4afe7b70-c456-4af7-9e4a-0a5c7f2d457e",
   "metadata": {},
   "outputs": [],
   "source": [
    "neurons=np.zeros((100,2000))\n",
    "for i in range(100):\n",
    "    neurons[i,0]=1\n",
    "for j in range(10):\n",
    "    neurons[25+j,0]=neurons[25+j,0]+math.cos(abs(j-5)*math.pi/10)*100\n",
    "plt.figure()\n",
    "plt.plot(neurons[:,0])\n",
    "plt.ylabel('Activity at time=0')\n",
    "plt.xlabel('Neuron number')\n",
    "plt.show()"
   ]
  },
  {
   "cell_type": "markdown",
   "id": "afb36f00-826f-48dc-b978-c153a48fabde",
   "metadata": {},
   "source": [
    "Let us assume that all the neurons are either intrinsically active or receive global excitation (number 5 below). The the width of the bump is always $\\pi$, regardless of the weight matrix width. "
   ]
  },
  {
   "cell_type": "code",
   "execution_count": null,
   "id": "426f3fb3-eb0b-45d3-8f65-34f1b02edb69",
   "metadata": {},
   "outputs": [],
   "source": [
    "time=np.zeros(neurons.shape[1])\n",
    "neurons[:,0]=500*neurons[:,0]/np.sum(neurons[:,0])\n",
    "for t in range(1999):\n",
    "    time[t+1]=time[t]+1\n",
    "    for i in range(100):\n",
    "        neurons[i,t+1]=neurons[i,t]+20*np.sum(neurons[:,t]*W[i,:])+1\n",
    "        if t==500 and (i>55 and i<75):\n",
    "            neurons[i,t+1]=neurons[i,t]+50\n",
    "        if t==1000 and (i>80 and i<100):\n",
    "            neurons[i,t+1]=neurons[i,t]+50\n",
    "        if t==1200 and (i>10 and i<30):\n",
    "            neurons[i,t+1]=neurons[i,t]+50\n",
    "        if t==1400 and (i>80 and i<100):\n",
    "            neurons[i,t+1]=neurons[i,t]+50\n",
    "        if neurons[i,t+1]<0:\n",
    "            neurons[i,t+1]=0\n",
    "    neurons[:,t+1]=500*neurons[:,t+1]/np.sum(neurons[:,t+1])\n",
    "\n",
    "plt.figure()\n",
    "plt.subplot(3,1,1)\n",
    "plt.imshow(neurons[:,:])\n",
    "plt.subplot(3,1,2)\n",
    "\n",
    "for i in range(10):\n",
    "    plt.plot(neurons[:,200*i],c=[i/10,0,0])\n",
    "\n",
    "plt.subplot(3,1,3)\n",
    "plt.plot(time,np.argmax(neurons, axis=0))\n",
    "plt.ylim([0,100])\n",
    "plt.show()\n",
    "    "
   ]
  },
  {
   "cell_type": "code",
   "execution_count": null,
   "id": "28f8acc2-29fd-48ea-82a7-b1e5148bfaa9",
   "metadata": {},
   "outputs": [],
   "source": [
    "plt.figure()\n",
    "final=2000\n",
    "for i in range(10):\n",
    "    plt.plot(neurons[:,int(i*(final/10))],c=[i/10,0,0])\n",
    "plt.show()"
   ]
  },
  {
   "cell_type": "code",
   "execution_count": null,
   "id": "1590a17e-2e9f-45a4-84d8-18dc148780ed",
   "metadata": {},
   "outputs": [],
   "source": [
    "plt.figure()\n",
    "plt.plot(neurons[:,1900])\n",
    "plt.show()\n",
    "print(np.argmax(neurons, axis=0))"
   ]
  },
  {
   "cell_type": "code",
   "execution_count": null,
   "id": "36d2e45d-fa7e-4917-bd24-074470fdbf4e",
   "metadata": {},
   "outputs": [],
   "source": [
    "time=np.zeros(neurons.shape[1])\n",
    "for t in range(1999):\n",
    "    time[t+1]=time[t]+1\n",
    "    for i in range(100):\n",
    "        neurons[i,t+1]=neurons[i,t]+10*np.sum(neurons[:,t]*W[i,:])+0\n",
    "        # if t==400 and (i>55 and i<75):\n",
    "        #     neurons[i,t+1]=neurons[i,t]+5000\n",
    "        # if t==800 and (i>5 and i<15):\n",
    "        #     neurons[i,t+1]=neurons[i,t]+10000\n",
    "        if neurons[i,t+1]<0:\n",
    "            neurons[i,t+1]=0\n",
    "        #neurons[:,t+1]=100*neurons[:,t+1]/np.sum(neurons[:,t+1])\n",
    "\n",
    "plt.figure()\n",
    "plt.subplot(3,1,1)\n",
    "plt.imshow(neurons[:,:])\n",
    "plt.subplot(3,1,2)\n",
    "for i in range(5):\n",
    "    plt.plot(neurons[:,400*i],c=[i/5,0,0])\n",
    "\n",
    "plt.subplot(3,1,3)\n",
    "plt.plot(time,np.argmax(neurons, axis=0))\n",
    "plt.ylim([0,100])\n",
    "plt.show()\n",
    "    "
   ]
  },
  {
   "cell_type": "code",
   "execution_count": null,
   "id": "2126c375-3e1a-424c-ad83-2403c463fec5",
   "metadata": {},
   "outputs": [],
   "source": [
    "plt.close('all')"
   ]
  },
  {
   "cell_type": "code",
   "execution_count": null,
   "id": "e91006f8-8bd6-436e-a867-3c39134f9b52",
   "metadata": {},
   "outputs": [],
   "source": [
    "np.shape(neurons[:,t])"
   ]
  },
  {
   "cell_type": "code",
   "execution_count": null,
   "id": "dbdd572f-021f-4269-970c-16f8e24974ef",
   "metadata": {},
   "outputs": [],
   "source": [
    "neurons[:,10]"
   ]
  },
  {
   "cell_type": "code",
   "execution_count": null,
   "id": "999191e8-9bba-40e7-b87e-440d05226ee7",
   "metadata": {},
   "outputs": [],
   "source": [
    "neurons[:,0]*W[i,:]"
   ]
  },
  {
   "cell_type": "code",
   "execution_count": null,
   "id": "ff8e4496-cdf5-4a9e-9b18-8452faa4fd82",
   "metadata": {},
   "outputs": [],
   "source": [
    "i"
   ]
  },
  {
   "cell_type": "code",
   "execution_count": null,
   "id": "63e4e1a4-a13c-4b3b-aaf6-f016e0f0914e",
   "metadata": {},
   "outputs": [],
   "source": [
    "t"
   ]
  },
  {
   "cell_type": "code",
   "execution_count": null,
   "id": "219ced7c-2b91-47cb-bd4d-243c9a85c0eb",
   "metadata": {},
   "outputs": [],
   "source": []
  }
 ],
 "metadata": {
  "kernelspec": {
   "display_name": "Python 3 (ipykernel)",
   "language": "python",
   "name": "python3"
  },
  "language_info": {
   "codemirror_mode": {
    "name": "ipython",
    "version": 3
   },
   "file_extension": ".py",
   "mimetype": "text/x-python",
   "name": "python",
   "nbconvert_exporter": "python",
   "pygments_lexer": "ipython3"
  }
 },
 "nbformat": 4,
 "nbformat_minor": 5
}

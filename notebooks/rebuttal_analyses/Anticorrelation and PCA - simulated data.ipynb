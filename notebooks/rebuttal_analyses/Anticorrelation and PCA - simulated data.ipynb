{
 "cells": [
  {
   "cell_type": "code",
   "execution_count": null,
   "id": "6944aecb-2674-47b7-a806-6abc4b37b754",
   "metadata": {},
   "outputs": [],
   "source": [
    "%matplotlib widget\n",
    "import numpy as np\n",
    "from matplotlib import pyplot as plt\n",
    "from sklearn.decomposition import PCA"
   ]
  },
  {
   "cell_type": "markdown",
   "id": "c3bac48c-d525-4300-b3ba-2766f1bf9506",
   "metadata": {},
   "source": [
    "## Random activity"
   ]
  },
  {
   "cell_type": "code",
   "execution_count": null,
   "id": "c7a54319-9138-4508-98f0-91bdecc0d6d2",
   "metadata": {},
   "outputs": [],
   "source": [
    "tlen = 10000\n",
    "tau = 20\n",
    "n_evts = 200\n",
    "n_neurons = 400\n",
    "avg_amp = 1\n",
    "noise_amp = 0.1\n",
    "perc = 10"
   ]
  },
  {
   "cell_type": "code",
   "execution_count": null,
   "id": "42b71cae-66c0-4ad5-afb9-03122da097a4",
   "metadata": {},
   "outputs": [],
   "source": [
    "random_events_group1 = np.random.randint(0, tlen, n_evts)\n",
    "\n",
    "traces = np.zeros((tlen, n_neurons))\n",
    "avg_amp = 1\n",
    "noise_amp = 0.5\n",
    "for n, events_subgroup in enumerate(\n",
    "    [random_events_group1[: n_evts // 2], random_events_group1[n_evts // 2 :]]\n",
    "):\n",
    "    for i in range(n_neurons // 4):\n",
    "        for off_i, off_amp in zip([0, n_neurons // 4], [-avg_amp, avg_amp]):\n",
    "            traces[:, i + off_i + n * n_neurons // 2] += (\n",
    "                np.random.randn(tlen) * noise_amp\n",
    "            )\n",
    "\n",
    "exp_base = np.arange(100)\n",
    "ker = np.exp(-exp_base / (tau * 10))\n",
    "# traces = np.convolve(traces, ker, axis=0)\n",
    "traces = np.apply_along_axis(\n",
    "    lambda m: np.convolve(m, ker, mode=\"full\"), axis=0, arr=traces\n",
    ")[:tlen, :]\n",
    "\n",
    "cc_min = np.min(np.corrcoef(traces.T), axis=0)\n",
    "selected = cc_min < np.percentile(cc_min, perc)\n",
    "pca = PCA(n_components=5).fit(traces[:, selected].T)\n",
    "pcaed = pca.transform(traces.T)\n",
    "\n",
    "f, axs = plt.subplots(\n",
    "    1, 2, figsize=(6, 2), gridspec_kw=dict(width_ratios=[1, 0.6]), tight_layout=True\n",
    ")\n",
    "axs[0].plot(traces[:1000, selected])\n",
    "axs[0].set(xlabel=\"pseudotime\", ylabel=\"dF/F\")\n",
    "axs[1].scatter(pcaed[:, 0], pcaed[:, 1], s=10)\n",
    "axs[1].scatter(pcaed[selected, 0], pcaed[selected, 1], s=10)\n",
    "axs[1].set(xlabel=\"PC1\", ylabel=\"PC2\")"
   ]
  },
  {
   "cell_type": "markdown",
   "id": "4022d95d-b91d-4480-86eb-a11276aa3e38",
   "metadata": {},
   "source": [
    "## One source of anticorrelation"
   ]
  },
  {
   "cell_type": "code",
   "execution_count": null,
   "id": "d89d5a12-91af-43b7-a6dc-6f774d1041a8",
   "metadata": {},
   "outputs": [],
   "source": [
    "random_events_group1 = np.random.randint(0, tlen, n_evts)\n",
    "\n",
    "traces = np.zeros((tlen, n_neurons))\n",
    "\n",
    "for i in range(n_neurons // 2):\n",
    "    for off_i, off_amp in zip([0, n_neurons // 2], [-avg_amp, avg_amp]):\n",
    "        traces[random_events_group1, i + off_i] = (\n",
    "            np.random.randn(len(random_events_group1)) + off_amp\n",
    "        )\n",
    "        traces[:, i + off_i] += np.random.randn(tlen) * noise_amp\n",
    "\n",
    "exp_base = np.arange(100)\n",
    "ker = np.exp(-exp_base / tau)\n",
    "# traces = np.convolve(traces, ker, axis=0)\n",
    "traces = np.apply_along_axis(\n",
    "    lambda m: np.convolve(m, ker, mode=\"full\"), axis=0, arr=traces\n",
    ")[:tlen, :]\n",
    "\n",
    "cc_min = np.min(np.corrcoef(traces.T), axis=0)\n",
    "selected = cc_min < np.percentile(cc_min, perc)\n",
    "pca = PCA(n_components=5).fit(traces[:, selected].T)\n",
    "pcaed = pca.transform(traces.T)\n",
    "\n",
    "f, axs = plt.subplots(\n",
    "    1, 2, figsize=(6, 2), gridspec_kw=dict(width_ratios=[1, 0.6]), tight_layout=True\n",
    ")\n",
    "axs[0].plot(traces[:1000, selected])\n",
    "axs[0].set(xlabel=\"pseudotime\", ylabel=\"dF/F\")\n",
    "axs[1].scatter(pcaed[:, 0], pcaed[:, 1], s=10)\n",
    "axs[1].scatter(pcaed[selected, 0], pcaed[selected, 1], s=10)\n",
    "axs[1].set(xlabel=\"PC1\", ylabel=\"PC2\")"
   ]
  },
  {
   "cell_type": "markdown",
   "id": "45afbb32-067a-4ccd-9cc2-b2bd0f86af33",
   "metadata": {},
   "source": [
    "## Two independent sources of anticorrelation"
   ]
  },
  {
   "cell_type": "code",
   "execution_count": null,
   "id": "0902d7d2-2adc-4c3a-9287-c93d9c8d8e82",
   "metadata": {},
   "outputs": [],
   "source": [
    "random_events_group1 = np.random.randint(0, tlen, n_evts)\n",
    "\n",
    "traces = np.zeros((tlen, n_neurons))\n",
    "avg_amp = 1\n",
    "noise_amp = 0.2\n",
    "for n, events_subgroup in enumerate(\n",
    "    [random_events_group1[: n_evts // 2], random_events_group1[n_evts // 2 :]]\n",
    "):\n",
    "    for i in range(n_neurons // 4):\n",
    "        for off_i, off_amp in zip([0, n_neurons // 4], [-avg_amp, avg_amp]):\n",
    "\n",
    "            traces[events_subgroup, i + off_i + n * n_neurons // 2] = (\n",
    "                np.random.randn(len(events_subgroup)) + off_amp\n",
    "            )\n",
    "            traces[:, i + off_i + n * n_neurons // 2] += (\n",
    "                np.random.randn(tlen) * noise_amp\n",
    "            )\n",
    "\n",
    "exp_base = np.arange(100)\n",
    "ker = np.exp(-exp_base / tau)\n",
    "# traces = np.convolve(traces, ker, axis=0)\n",
    "traces = np.apply_along_axis(\n",
    "    lambda m: np.convolve(m, ker, mode=\"full\"), axis=0, arr=traces\n",
    ")[:tlen, :]\n",
    "\n",
    "cc_min = np.min(np.corrcoef(traces.T), axis=0)\n",
    "selected = cc_min < np.percentile(cc_min, perc)\n",
    "pca = PCA(n_components=5).fit(traces[:, selected].T)\n",
    "pcaed = pca.transform(traces.T)\n",
    "\n",
    "f, axs = plt.subplots(\n",
    "    1, 2, figsize=(6, 2), gridspec_kw=dict(width_ratios=[1, 0.6]), tight_layout=True\n",
    ")\n",
    "axs[0].plot(traces[:1000, selected])\n",
    "axs[0].set(xlabel=\"pseudotime\", ylabel=\"dF/F\")\n",
    "axs[1].scatter(pcaed[:, 0], pcaed[:, 1], s=10)\n",
    "axs[1].scatter(pcaed[selected, 0], pcaed[selected, 1], s=10)\n",
    "axs[1].set(xlabel=\"PC1\", ylabel=\"PC2\")"
   ]
  }
 ],
 "metadata": {
  "kernelspec": {
   "display_name": "rplab",
   "language": "python",
   "name": "rplab"
  },
  "language_info": {
   "codemirror_mode": {
    "name": "ipython",
    "version": 3
   },
   "file_extension": ".py",
   "mimetype": "text/x-python",
   "name": "python",
   "nbconvert_exporter": "python",
   "pygments_lexer": "ipython3"
  }
 },
 "nbformat": 4,
 "nbformat_minor": 5
}

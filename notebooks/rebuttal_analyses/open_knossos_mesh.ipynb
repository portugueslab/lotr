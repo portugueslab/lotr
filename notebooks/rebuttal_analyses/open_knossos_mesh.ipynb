{
 "cells": [
  {
   "cell_type": "code",
   "execution_count": null,
   "id": "bb85f1f3-d06f-49db-aec3-3f5a5b2bbe0f",
   "metadata": {},
   "outputs": [],
   "source": [
    "from pathlib import Path\n",
    "\n",
    "import meshio as mio\n",
    "import trimesh\n",
    "from lotr.em.transformations import em2ipnref\n",
    "from matplotlib import pyplot as plt\n",
    "from vedo import Mesh, write"
   ]
  },
  {
   "cell_type": "code",
   "execution_count": null,
   "id": "7ea145b9-f0a6-4b63-b20f-c04f04ead9d1",
   "metadata": {},
   "outputs": [],
   "source": [
    "p = Path(r\"/Users/luigipetrucco/Downloads/cell2.ply\")\n",
    "mesh = mio.read(p)\n",
    "pt_reshaped = mesh.points[:, [0, 1, 2]] / (14, 14, 25)\n",
    "points = em2ipnref(pt_reshaped)\n",
    "\n",
    "modmesh = mesh.copy()\n",
    "modmesh.points = points\n",
    "mio.write(p.parent / (p.stem + \".obj\"), modmesh)"
   ]
  },
  {
   "cell_type": "code",
   "execution_count": null,
   "id": "87919fdd-dfbb-43a8-a95a-ef72a09ef258",
   "metadata": {},
   "outputs": [],
   "source": []
  },
  {
   "cell_type": "code",
   "execution_count": null,
   "id": "264c16e8-a5b1-42b5-8523-71daa3e072f4",
   "metadata": {},
   "outputs": [],
   "source": []
  },
  {
   "cell_type": "code",
   "execution_count": null,
   "id": "77cdcfd5-4498-439f-8872-d322c1d7d677",
   "metadata": {},
   "outputs": [],
   "source": [
    "f, axs = plt.subplots(1, 3, figsize=(18, 6))\n",
    "axs[0].scatter(points[:, 0], points[:, 1], s=1)\n",
    "axs[0].axis(\"equal\")\n",
    "\n",
    "axs[1].scatter(points[:, 0], points[:, 2], s=1)\n",
    "axs[1].axis(\"equal\")\n",
    "\n",
    "axs[2].scatter(points[:, 1], points[:, 2], s=1)\n",
    "axs[2].axis(\"equal\")"
   ]
  },
  {
   "cell_type": "code",
   "execution_count": null,
   "id": "53477708-23f4-4f89-ba7f-fccb0f2cf316",
   "metadata": {},
   "outputs": [],
   "source": [
    "from lotr.em.loading import neuron_from_xml"
   ]
  },
  {
   "cell_type": "code",
   "execution_count": null,
   "id": "b3f729a0-9a73-4464-83ea-f293b992fd63",
   "metadata": {},
   "outputs": [],
   "source": [
    "synapses = neuron_from_xml(\n",
    "    \"/Users/luigipetrucco/Desktop/cell1_synapse_locations/annotation.xml\"\n",
    ")"
   ]
  },
  {
   "cell_type": "code",
   "execution_count": null,
   "id": "c71e4c56-e1aa-448d-964a-cd43cf064c4e",
   "metadata": {},
   "outputs": [],
   "source": [
    "import xml.etree.ElementTree as et\n",
    "\n",
    "from lotr.em.core import EmNeuron\n",
    "\n",
    "path = \"/Users/luigipetrucco/Desktop/cell1_synapse_locations/annotation.xml\"\n",
    "xtree = et.parse(path)\n",
    "node = xtree.getroot()\n",
    "synapses = []\n",
    "for n in list(node):  # ugly loop\n",
    "    if n.tag == \"thing\":\n",
    "        synapses.append(EmNeuron(n))"
   ]
  },
  {
   "cell_type": "code",
   "execution_count": null,
   "id": "f278456a-a0f0-4614-879d-a2d9031b2710",
   "metadata": {},
   "outputs": [],
   "source": [
    "len(synapses)"
   ]
  },
  {
   "cell_type": "code",
   "execution_count": null,
   "id": "a05b8c20-552c-4fac-a8b4-8774d8e13fc2",
   "metadata": {},
   "outputs": [],
   "source": [
    "np.save(\n",
    "    \"/Users/luigipetrucco/synapses_post.npy\", synapses[0].coords_ipn,\n",
    ")\n",
    "np.save(\n",
    "    \"/Users/luigipetrucco/synapses_pre.npy\", synapses[1].coords_ipn,\n",
    ")"
   ]
  },
  {
   "cell_type": "code",
   "execution_count": null,
   "id": "65fa8f50-a1e1-4387-a6a6-4c40eff9def2",
   "metadata": {},
   "outputs": [],
   "source": [
    "modmesh = mesh.copy()\n",
    "modmesh.points = points\n",
    "mio.write(p.parent / (p.stem + \".obj\"), modmesh)"
   ]
  },
  {
   "cell_type": "code",
   "execution_count": null,
   "id": "7ce36481-744b-4a89-9d42-ab9711ec6ca8",
   "metadata": {},
   "outputs": [],
   "source": [
    "p.parent / (p.stem + \".obj\")"
   ]
  },
  {
   "cell_type": "code",
   "execution_count": null,
   "id": "6be7fecf-46e8-400e-9678-dd385c9791c5",
   "metadata": {},
   "outputs": [],
   "source": [
    "mio.write(p.parent / (p.stem + \".stl\"), mesh)"
   ]
  },
  {
   "cell_type": "code",
   "execution_count": null,
   "id": "48195228-0044-42a5-806c-a37314799439",
   "metadata": {},
   "outputs": [],
   "source": [
    "trim = trimesh.load(p)\n",
    "from lotr.em.transformations import em2ipnref\n",
    "\n",
    "trim.vertices = em2ipnref(trim.vertices)"
   ]
  },
  {
   "cell_type": "code",
   "execution_count": null,
   "id": "687c6522-9dd8-4aea-9ffd-40610266adc4",
   "metadata": {},
   "outputs": [],
   "source": [
    "trim.fix_normals()"
   ]
  },
  {
   "cell_type": "code",
   "execution_count": null,
   "id": "afacccaf-621d-46f3-8145-ef742ffde773",
   "metadata": {},
   "outputs": [],
   "source": [
    "from trimesh.repair import broken_faces\n",
    "\n",
    "bf = broken_faces(trim)"
   ]
  },
  {
   "cell_type": "code",
   "execution_count": null,
   "id": "56d36426-b09d-4143-b372-bdb7f437582d",
   "metadata": {},
   "outputs": [],
   "source": [
    "bf.shape"
   ]
  },
  {
   "cell_type": "code",
   "execution_count": null,
   "id": "f4093034-2297-49b7-88c7-503b8229e66d",
   "metadata": {},
   "outputs": [],
   "source": [
    "from trimesh.exchange.export import export_obj\n",
    "\n",
    "export_obj(trim, p.parent / (p.stem + \"fixed.obj\"))"
   ]
  },
  {
   "cell_type": "code",
   "execution_count": null,
   "id": "018f9b81-a44f-4f5c-b377-a5f8c0461514",
   "metadata": {},
   "outputs": [],
   "source": []
  },
  {
   "cell_type": "code",
   "execution_count": null,
   "id": "9e3306e0-d3cc-4d59-870d-ff609627222d",
   "metadata": {},
   "outputs": [],
   "source": []
  },
  {
   "cell_type": "code",
   "execution_count": null,
   "id": "d682363f-e05e-44b9-adfe-123794ecae6b",
   "metadata": {},
   "outputs": [],
   "source": [
    "m = Mesh([trim.vertices, trim.faces])"
   ]
  },
  {
   "cell_type": "code",
   "execution_count": null,
   "id": "6a6edf8b-cbeb-4b38-b3ef-57943c333c2f",
   "metadata": {},
   "outputs": [],
   "source": [
    "decimated = m.decimate(0.0001, method=\"pro\")"
   ]
  },
  {
   "cell_type": "code",
   "execution_count": null,
   "id": "60fe9e8f-0777-4854-b639-5f674b8d1307",
   "metadata": {},
   "outputs": [],
   "source": [
    "trim_decimated = decimated.to_trimesh()\n",
    "trim_decimated.vertices.shape"
   ]
  },
  {
   "cell_type": "code",
   "execution_count": null,
   "id": "2ee3da96-654c-49fc-80ea-ac85ccf7f651",
   "metadata": {},
   "outputs": [],
   "source": [
    "write(decimated, str(p.parent / (p.stem + \"dec.obj\")))"
   ]
  },
  {
   "cell_type": "code",
   "execution_count": null,
   "id": "00e5b575-e1a1-4c7f-85a4-628c643eb338",
   "metadata": {},
   "outputs": [],
   "source": [
    "import numpy as np\n",
    "\n",
    "spikes = np.cumsum(np.random.rand(1000000))"
   ]
  },
  {
   "cell_type": "code",
   "execution_count": null,
   "id": "236af7f5-0e6b-4d7e-a083-2567c401ff0d",
   "metadata": {},
   "outputs": [],
   "source": [
    "spikes.max()"
   ]
  },
  {
   "cell_type": "code",
   "execution_count": null,
   "id": "c85e3336-594e-4e80-8747-0aa7a77f6d46",
   "metadata": {},
   "outputs": [],
   "source": [
    "t_start = 1000\n",
    "t_end = 2000"
   ]
  },
  {
   "cell_type": "code",
   "execution_count": null,
   "id": "57310409-8ab3-4b6f-b69f-a07d1827796e",
   "metadata": {},
   "outputs": [],
   "source": [
    "%%timeit\n",
    "find_first(spikes, 1000)"
   ]
  },
  {
   "cell_type": "code",
   "execution_count": null,
   "id": "ade4d00d-84b4-40db-8fff-e070298164e4",
   "metadata": {},
   "outputs": [],
   "source": [
    "import numpy as np\n",
    "\n",
    "coords = np.load(r\"C:\\Users\\portugueslab\\Downloads\\synapses_post.npy\")\n",
    "\n",
    "for coord in coords[1:]:\n",
    "    # Create light datablock\n",
    "    light_data = bpy.data.lights.new(name=\"my-light-data\", type=\"POINT\")\n",
    "    light_data.energy = 10\n",
    "    # Create new object, pas the light data\n",
    "    light_object = bpy.data.objects.new(name=\"my-light\", object_data=light_data)\n",
    "    # Link object to collection in context\n",
    "    bpy.context.collection.objects.link(light_object)\n",
    "    # Change light position\n",
    "    coord = coord[[0, 2, 1]] / 10\n",
    "    coord[1] = -coord[1]\n",
    "    light_object.location = coord"
   ]
  },
  {
   "cell_type": "code",
   "execution_count": null,
   "id": "ea9affac-3868-45c6-bc83-60dcf2897da4",
   "metadata": {},
   "outputs": [],
   "source": [
    "from lotr.plotting import COLS"
   ]
  },
  {
   "cell_type": "code",
   "execution_count": null,
   "id": "06e35499-ae3a-4d9c-b24c-167b8c53605f",
   "metadata": {},
   "outputs": [],
   "source": [
    "COLS[\"qualitative\"]"
   ]
  },
  {
   "cell_type": "code",
   "execution_count": null,
   "id": "9f162d08-7c92-4234-ae51-ee67f3912e8e",
   "metadata": {},
   "outputs": [],
   "source": [
    "np.array([199, 22, 24]) / 255"
   ]
  },
  {
   "cell_type": "markdown",
   "id": "bc8c1bc5-8dcc-4b70-845c-39e5f93546f7",
   "metadata": {},
   "source": [
    "from pathlib import Path\n",
    "\n",
    "import numpy as np\n",
    "\n",
    "bpy.context.scene.render.engine = \"BLENDER_EEVEE\"\n",
    "bpy.context.scene.eevee.use_bloom = True\n",
    "# add material\n",
    "for name, col in (\n",
    "    [\"pre\", \"post\"],\n",
    "    [, ],\n",
    "):"
   ]
  },
  {
   "cell_type": "code",
   "execution_count": null,
   "id": "d6e31ebf-c09f-4e28-b2b7-b1a116099f14",
   "metadata": {},
   "outputs": [],
   "source": []
  },
  {
   "cell_type": "code",
   "execution_count": null,
   "id": "14750dc2-56ec-4b5d-a140-cf1f9eeacc60",
   "metadata": {},
   "outputs": [],
   "source": [
    "col_dict = dict(\n",
    "    pre=(0.10588235, 0.61960784, 0.46666667), post=(0.78039216, 0.08627451, 0.09411765)\n",
    ")\n",
    "radius = 0.015\n",
    "alpha = 0.8\n",
    "emission_strength = 5.0\n",
    "\n",
    "name = \"post\"\n",
    "col = col_dict[name]\n",
    "f = f\"synapses_{name}.npy\"\n",
    "coords = np.load(Path(r\"C:\\Users\\portugueslab\\Downloads\") / f)\n",
    "mat_name = name\n",
    "mat = bpy.data.materials.get(name)\n",
    "if mat is None:\n",
    "    # create material\n",
    "    mat = bpy.data.materials.new(name=name)\n",
    "# bpy.data.materials[-1].name = mat_name\n",
    "mat.use_nodes = True\n",
    "mat.node_tree.nodes.new(\"ShaderNodeEmission\")\n",
    "mat.node_tree.nodes[\"Emission\"].inputs[\"Color\"].default_value = col + (alpha,)\n",
    "mat.node_tree.nodes[\"Emission\"].inputs[\"Strength\"].default_value = emission_strength\n",
    "mat.node_tree.nodes.new(\"ShaderNodeOutputMaterial\")\n",
    "links = mat.node_tree.links\n",
    "links.new(\n",
    "    mat.node_tree.nodes[\"Emission\"].outputs[0],\n",
    "    mat.node_tree.nodes[\"Material Output\"].inputs[0],\n",
    ")\n",
    "# add sphere\n",
    "for coord in coords:\n",
    "    coord = coord[[0, 2, 1]] / 10\n",
    "    coord[1] = -coord[1]\n",
    "    bpy.ops.mesh.primitive_uv_sphere_add(location=coord, radius=radius)\n",
    "    bpy.ops.object.material_slot_add()\n",
    "    # mat = bpy.data.materials.get(mat_name)\n",
    "    ob = bpy.context.active_object\n",
    "    ob.data.materials[0] = mat\n",
    "\n",
    "name = \"pre\"\n",
    "col = col_dict[name]\n",
    "f = f\"synapses_{name}.npy\"\n",
    "coords = np.load(Path(r\"C:\\Users\\portugueslab\\Downloads\") / f)\n",
    "mat_name = name\n",
    "mat = bpy.data.materials.get(name)\n",
    "if mat is None:\n",
    "    # create material\n",
    "    mat = bpy.data.materials.new(name=name)\n",
    "# bpy.data.materials[-1].name = mat_name\n",
    "mat.use_nodes = True\n",
    "mat.node_tree.nodes.new(\"ShaderNodeEmission\")\n",
    "mat.node_tree.nodes[\"Emission\"].inputs[\"Color\"].default_value = col + (alpha,)\n",
    "mat.node_tree.nodes[\"Emission\"].inputs[\"Strength\"].default_value = emission_strength\n",
    "mat.node_tree.nodes.new(\"ShaderNodeOutputMaterial\")\n",
    "links = mat.node_tree.links\n",
    "links.new(\n",
    "    mat.node_tree.nodes[\"Emission\"].outputs[0],\n",
    "    mat.node_tree.nodes[\"Material Output\"].inputs[0],\n",
    ")\n",
    "# add sphere\n",
    "for coord in coords:\n",
    "    coord = coord[[0, 2, 1]] / 10\n",
    "    coord[1] = -coord[1]\n",
    "    bpy.ops.mesh.primitive_uv_sphere_add(location=coord, radius=radius)\n",
    "    bpy.ops.object.material_slot_add()\n",
    "    mat = bpy.data.materials.get(mat_name)\n",
    "    ob = bpy.context.active_object\n",
    "    ob.data.materials[0] = mat"
   ]
  }
 ],
 "metadata": {
  "kernelspec": {
   "display_name": "Python [conda env:test_bgatlasgen]",
   "language": "python",
   "name": "conda-env-test_bgatlasgen-py"
  },
  "language_info": {
   "codemirror_mode": {
    "name": "ipython",
    "version": 3
   },
   "file_extension": ".py",
   "mimetype": "text/x-python",
   "name": "python",
   "nbconvert_exporter": "python",
   "pygments_lexer": "ipython3"
  }
 },
 "nbformat": 4,
 "nbformat_minor": 5
}

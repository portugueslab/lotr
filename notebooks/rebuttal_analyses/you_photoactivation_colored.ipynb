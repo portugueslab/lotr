{
 "cells": [
  {
   "cell_type": "code",
   "execution_count": null,
   "id": "7042a4d5-e91d-4e4a-8883-84bdbca40e4d",
   "metadata": {},
   "outputs": [],
   "source": [
    "%matplotlib widget"
   ]
  },
  {
   "cell_type": "code",
   "execution_count": null,
   "id": "f907d54a-048b-4708-903a-466544bd24a7",
   "metadata": {},
   "outputs": [],
   "source": [
    "import numpy as np\n",
    "from lotr import plotting as pltltr\n",
    "from matplotlib import pyplot as plt\n",
    "from tifffile import imread\n",
    "\n",
    "COLS = pltltr.COLS"
   ]
  },
  {
   "cell_type": "code",
   "execution_count": null,
   "id": "b63b3642-4e75-4f38-b097-ad9227800b94",
   "metadata": {},
   "outputs": [],
   "source": [
    "stack = imread(\"/Volumes/Shared/confocal/dIPN_quarter.tif\")"
   ]
  },
  {
   "cell_type": "code",
   "execution_count": null,
   "id": "53ad5ba1-2545-4cf9-b2cf-fde96ff1f14c",
   "metadata": {},
   "outputs": [],
   "source": [
    "stack.shape"
   ]
  },
  {
   "cell_type": "code",
   "execution_count": null,
   "id": "fb00d472-db17-479b-974a-a536929d2756",
   "metadata": {},
   "outputs": [],
   "source": [
    "plt.figure()\n",
    "plt.imshow(stack[100, 0, :, :])"
   ]
  },
  {
   "cell_type": "code",
   "execution_count": null,
   "id": "331fde16-3f5d-4b80-b0c5-a28fa5a3dcc7",
   "metadata": {},
   "outputs": [],
   "source": [
    "ph_cols = COLS[\"phase\"](np.arange(-np.pi, np.pi, np.pi / 2))"
   ]
  },
  {
   "cell_type": "code",
   "execution_count": null,
   "id": "e1d444ce-2829-4d2e-8d47-363f0e8b1277",
   "metadata": {},
   "outputs": [],
   "source": [
    "import colorspacious\n",
    "\n",
    "\n",
    "def JCh_to_RGB255(x):\n",
    "    output = np.clip(colorspacious.cspace_convert(x, \"JCh\", \"sRGB1\"), 0, 1)\n",
    "    return (output * 255).astype(np.uint8)\n",
    "\n",
    "\n",
    "def color_img(\n",
    "    amp,\n",
    "    angle,\n",
    "    hueshift=0,\n",
    "    amp_percentile=80,\n",
    "    maxsat=50,\n",
    "    lightness_min=100,\n",
    "    lightness_delta=-40,\n",
    "):\n",
    "    output_lch = np.empty(amp.shape + (3,))\n",
    "    maxamp = np.percentile(amp, amp_percentile)\n",
    "\n",
    "    output_lch[:, :, 0] = (\n",
    "        lightness_min + (np.clip(amp / maxamp, 0, 1)) * lightness_delta\n",
    "    )\n",
    "    output_lch[:, :, 1] = (np.clip(amp / maxamp, 0, 1)) * maxsat\n",
    "    output_lch[:, :, 2] = (angle + hueshift) * 180 / np.pi\n",
    "\n",
    "    return JCh_to_RGB255(output_lch)"
   ]
  },
  {
   "cell_type": "code",
   "execution_count": null,
   "id": "10a8690f-9b41-4165-a49b-a632bf985414",
   "metadata": {},
   "outputs": [],
   "source": []
  },
  {
   "cell_type": "code",
   "execution_count": null,
   "id": "a5ed3157-cc1f-47d6-97dc-b0653e505c29",
   "metadata": {},
   "outputs": [],
   "source": [
    "plt.close(\"all\")"
   ]
  },
  {
   "cell_type": "code",
   "execution_count": null,
   "id": "693816a3-33ac-41ce-bc46-2ea96ccb1f99",
   "metadata": {},
   "outputs": [],
   "source": [
    "img = stack[p[0] : p[1], i, y_crop[0] : y_crop[1], x_crop[0] : x_crop[1]].mean(0)\n",
    "c_img = color_img(img, np.full(img.shape, 0), amp_percentile=99.0, lightness_delta=-40)\n",
    "plt.figure()\n",
    "plt.imshow(c_img)"
   ]
  },
  {
   "cell_type": "code",
   "execution_count": null,
   "id": "da592767-e1b7-4049-91c3-113ca3fb2c5d",
   "metadata": {},
   "outputs": [],
   "source": [
    "f, axs = plt.subplots(5, 2, figsize=(6, 10))\n",
    "x_crop = (300, 500)\n",
    "y_crop = (500, 600)\n",
    "planes = [(160, 180), (100, 130)]\n",
    "\n",
    "all_c_ipn = []\n",
    "all_c_ahb = []\n",
    "for i in range(4):\n",
    "    for j, p in enumerate(planes):\n",
    "        img = stack[p[0] : p[1], i, y_crop[0] : y_crop[1], x_crop[0] : x_crop[1]].mean(\n",
    "            0\n",
    "        )\n",
    "        c_img = color_img(\n",
    "            img,\n",
    "            np.full(img.shape, -np.pi + np.pi / 2 * i),\n",
    "            amp_percentile=99.5,\n",
    "            lightness_delta=-80,\n",
    "        )\n",
    "        [all_c_ipn, all_c_ahb][j].append(img)\n",
    "        axs[i, j].imshow(c_img, origin=\"upper\")\n",
    "\n",
    "all_c_ipn = np.array(all_c_ipn)\n",
    "all_c_ahb = np.array(all_c_ahb)"
   ]
  },
  {
   "cell_type": "code",
   "execution_count": null,
   "id": "9c9c87eb-2b7c-49e0-a8bc-facdce2e3ea0",
   "metadata": {},
   "outputs": [],
   "source": [
    "def get_normalized_colored(stack):\n",
    "    norm = np.array(\n",
    "        [stack[c, :, :] - np.percentile(stack[c, :, :], 1) for c in range(4)]\n",
    "    )\n",
    "    amp = norm.max((0))\n",
    "    angle = np.arctan2(\n",
    "        np.mean([norm[0, :, :], -norm[2, :, :]], axis=0),\n",
    "        np.mean([norm[1, :, :], -norm[3, :, :]], axis=0),\n",
    "    )\n",
    "    return color_img(amp, angle, amp_percentile=99.0, lightness_delta=-80,)"
   ]
  },
  {
   "cell_type": "code",
   "execution_count": null,
   "id": "05d0be0a-7ab8-4675-9ea4-5325bd704d43",
   "metadata": {},
   "outputs": [],
   "source": [
    "f, axs = plt.subplots(1, 2, figsize=(6, 2))\n",
    "axs[0].imshow(get_normalized_colored(all_c_ipn), origin=\"upper\")\n",
    "axs[1].imshow(get_normalized_colored(all_c_ahb), origin=\"upper\")"
   ]
  },
  {
   "cell_type": "code",
   "execution_count": null,
   "id": "d714fc98-58a5-41cd-82e9-aa21ee476da2",
   "metadata": {},
   "outputs": [],
   "source": [
    "sum_ipn = ((all_c_ipn * 0.25).sum(0)).astype(int)\n",
    "sum_ipn[sum_ipn > 255] = 255\n",
    "\n",
    "plt.figure()\n",
    "plt.imshow(sum_ipn)"
   ]
  },
  {
   "cell_type": "code",
   "execution_count": null,
   "id": "ea8d86cd-cb7d-439b-9bc2-cbcc97a58776",
   "metadata": {},
   "outputs": [],
   "source": []
  },
  {
   "cell_type": "code",
   "execution_count": null,
   "id": "9a0d1da0-3a9f-4ea4-8a65-d30c17928c30",
   "metadata": {},
   "outputs": [],
   "source": []
  }
 ],
 "metadata": {
  "kernelspec": {
   "display_name": "rplab",
   "language": "python",
   "name": "rplab"
  },
  "language_info": {
   "codemirror_mode": {
    "name": "ipython",
    "version": 3
   },
   "file_extension": ".py",
   "mimetype": "text/x-python",
   "name": "python",
   "nbconvert_exporter": "python",
   "pygments_lexer": "ipython3"
  }
 },
 "nbformat": 4,
 "nbformat_minor": 5
}

{
 "cells": [
  {
   "cell_type": "code",
   "execution_count": null,
   "id": "7f2d39bb-959a-4063-8208-eef1af54cd9b",
   "metadata": {},
   "outputs": [],
   "source": [
    "%matplotlib widget\n",
    "\n",
    "import numpy as np\n",
    "from lotr import DATASET_LOCATION\n",
    "from lotr import plotting as pltltr\n",
    "from matplotlib import pyplot as plt\n",
    "from tifffile import imread\n",
    "\n",
    "COLS = pltltr.COLS"
   ]
  },
  {
   "cell_type": "code",
   "execution_count": null,
   "id": "058594b9-44fa-44b3-9d7e-31ad0a55819f",
   "metadata": {},
   "outputs": [],
   "source": [
    "DATASET_LOCATION"
   ]
  },
  {
   "cell_type": "code",
   "execution_count": null,
   "id": "29ddbe50-f89e-4c5d-8638-50ac2b8c00c6",
   "metadata": {},
   "outputs": [],
   "source": [
    "isynapses_file = DATASET_LOCATION.parent / \"anatomy\" / \"reconstruction\" / \"synapses.xml\"\n",
    "\n",
    "import xml.etree.ElementTree as et\n",
    "\n",
    "from lotr.em.core import EmNeuron\n",
    "from lotr.em.loading import load_skeletons_from_zip\n",
    "\n",
    "path = \"/Users/luigipetrucco/Desktop/cell1_synapse_locations/annotation.xml\"\n",
    "xtree = et.parse(path)\n",
    "node = xtree.getroot()\n",
    "synapses = []\n",
    "for n in list(node):  # ugly loop\n",
    "    if n.tag == \"thing\":\n",
    "        synapses.append(EmNeuron(n))\n",
    "\n",
    "# Load the EM and mirror neurons on one side:\n",
    "em_path = DATASET_LOCATION.parent / \"anatomy\" / \"all_ahb.k.zip\"\n",
    "\n",
    "neurons_list = load_skeletons_from_zip(em_path)\n",
    "\n",
    "for n in neurons_list:\n",
    "    n.mirror_right = True\n",
    "\n",
    "# Select neurons with projections internal to the dIPN:\n",
    "sel_neurons = [\n",
    "    n\n",
    "    for n in neurons_list\n",
    "    if (\"bilat\" in n.comments or \"bilatdend\" in n.comments)\n",
    "    and not \"proj\" in n.comments\n",
    "    and \"dipn\" in n.comments.split(\"_\")\n",
    "]\n",
    "\n",
    "neurons_list_not_mirr = load_skeletons_from_zip(em_path)\n",
    "\n",
    "# Select neurons with projections internal to the dIPN:\n",
    "sel_neurons_not_mirr = [\n",
    "    n\n",
    "    for n in neurons_list_not_mirr\n",
    "    if (\"bilat\" in n.comments or \"bilatdend\" in n.comments)\n",
    "    and not \"proj\" in n.comments\n",
    "    and \"dipn\" in n.comments.split(\"_\")\n",
    "]"
   ]
  },
  {
   "cell_type": "code",
   "execution_count": null,
   "id": "a78cd1a9-6c1c-4a0d-b9f1-cbf4ac935e68",
   "metadata": {},
   "outputs": [],
   "source": [
    "from bg_atlasapi.core import Atlas\n",
    "\n",
    "atlas = Atlas(DATASET_LOCATION.parent / \"anatomy\" / \"ipn_zfish_0.5um_v1.8\")\n",
    "\n",
    "#  Specify axes limits over all dimensions:\n",
    "bs = dict(frontal=(30, 180), vertical=(-4, 170), sagittal=(-50, 120))\n",
    "\n",
    "plotter = pltltr.AtlasPlotter(\n",
    "    atlas=atlas,\n",
    "    structures=[\"ipn\", \"dipn\"],\n",
    "    mask_slices=dict(frontal=slice(0, 120)),\n",
    "    bounds_dict=dict(\n",
    "        frontal=[bs[\"vertical\"], bs[\"frontal\"]],\n",
    "        horizontal=[bs[\"sagittal\"], bs[\"frontal\"]],\n",
    "        sagittal=[bs[\"vertical\"], bs[\"sagittal\"]],\n",
    "    ),\n",
    ")"
   ]
  },
  {
   "cell_type": "code",
   "execution_count": null,
   "id": "a71074f0-bec4-4ef7-a142-eda3dc6cd006",
   "metadata": {},
   "outputs": [],
   "source": [
    "sel_neuron_id = \"c008\"\n",
    "\n",
    "neuron = [n for n in sel_neurons if n.id == sel_neuron_id][0]\n",
    "\n",
    "lw = 0.8\n",
    "f, axs = plotter.generate_projection_plots()\n",
    "main_c = \".5\"  # COLS[\"qualitative\"][i % len(COLS[\"qualitative\"])]\n",
    "plotter.plot_neurons(\n",
    "    axs,\n",
    "    neuron,\n",
    "    select=\"dendrites\",\n",
    "    c=pltltr.shift_lum(main_c, -0.05),\n",
    "    lw=lw,\n",
    "    soma_s=30,\n",
    "    label=\"__nolegend__\",\n",
    ")\n",
    "plotter.plot_neurons(\n",
    "    axs,\n",
    "    neuron,\n",
    "    select=\"axon\",\n",
    "    c=pltltr.shift_lum(main_c, 0.2),\n",
    "    lw=lw,\n",
    "    soma_s=0,\n",
    "    rasterized=True,\n",
    "    label=\"__nolegend__\",\n",
    ")\n",
    "\n",
    "for syn, lab, c in zip(\n",
    "    synapses, [\"presyn. terminals\", \"postsyn. terminals\"], [\"C2\", \"C6\"]\n",
    "):\n",
    "    plotter.axs_scatterplot(\n",
    "        axs, syn.coords_ipn, color=c, s=1, label=\"__nolabel__\", zorder=100\n",
    "    )\n",
    "    plotter.axs_scatterplot(\n",
    "        axs, np.ones((1, 3)) * 1000, color=c, s=20, label=lab, zorder=100\n",
    "    )\n",
    "\n",
    "axs[1].set_title(neuron.id)\n",
    "axs[1].legend(handlelength=0.0)"
   ]
  },
  {
   "cell_type": "code",
   "execution_count": null,
   "id": "ed6e066e-943e-414e-8c28-97b18b945c75",
   "metadata": {},
   "outputs": [],
   "source": [
    "pltltr.savefig(\"synapses_plot\", folder=\"S11b\")"
   ]
  },
  {
   "cell_type": "code",
   "execution_count": null,
   "id": "b254a32d-8897-492b-90ae-6e1ea5d88ee2",
   "metadata": {},
   "outputs": [],
   "source": []
  }
 ],
 "metadata": {
  "kernelspec": {
   "display_name": "rplab",
   "language": "python",
   "name": "rplab"
  },
  "language_info": {
   "codemirror_mode": {
    "name": "ipython",
    "version": 3
   },
   "file_extension": ".py",
   "mimetype": "text/x-python",
   "name": "python",
   "nbconvert_exporter": "python",
   "pygments_lexer": "ipython3"
  }
 },
 "nbformat": 4,
 "nbformat_minor": 5
}

{
 "cells": [
  {
   "cell_type": "markdown",
   "id": "f711a53b-09fe-4e28-8d75-643455635f6c",
   "metadata": {},
   "source": [
    "# Synapses plots\n",
    "\n",
    "Generate plots to show the distribution of pre- and post-synaptic terminals in an example annotated neuron."
   ]
  },
  {
   "cell_type": "code",
   "execution_count": null,
   "id": "7f2d39bb-959a-4063-8208-eef1af54cd9b",
   "metadata": {},
   "outputs": [],
   "source": [
    "%matplotlib widget\n",
    "\n",
    "import numpy as np\n",
    "from lotr import DATASET_LOCATION\n",
    "from lotr import plotting as pltltr\n",
    "from matplotlib import pyplot as plt\n",
    "from tifffile import imread\n",
    "\n",
    "COLS = pltltr.COLS"
   ]
  },
  {
   "cell_type": "code",
   "execution_count": null,
   "id": "29ddbe50-f89e-4c5d-8638-50ac2b8c00c6",
   "metadata": {},
   "outputs": [],
   "source": [
    "isynapses_file = DATASET_LOCATION / \"anatomy\" / \"em_reconstructions\" / \"synapses.xml\"\n",
    "\n",
    "import xml.etree.ElementTree as et\n",
    "\n",
    "from lotr.em.core import EmNeuron\n",
    "from lotr.em.loading import load_skeletons_from_zip\n",
    "\n",
    "path = str(isynapses_file )\n",
    "xtree = et.parse(path)\n",
    "node = xtree.getroot()\n",
    "synapses = []\n",
    "for n in list(node):  # ugly loop\n",
    "    if n.tag == \"thing\":\n",
    "        synapses.append(EmNeuron(n))\n",
    "\n",
    "# Load the EM and mirror neurons on one side:\n",
    "em_path = DATASET_LOCATION / \"anatomy\" / \"em_reconstructions\" / \"aHB_dIPN.k.zip\"\n",
    "\n",
    "neurons_list = load_skeletons_from_zip(em_path)\n",
    "sel_neuron_id = \"c008\"\n",
    "\n",
    "neuron = [n for n in neurons_list if n.id == sel_neuron_id][0]"
   ]
  },
  {
   "cell_type": "code",
   "execution_count": null,
   "id": "a78cd1a9-6c1c-4a0d-b9f1-cbf4ac935e68",
   "metadata": {},
   "outputs": [],
   "source": [
    "from bg_atlasapi.core import Atlas\n",
    "\n",
    "atlas = Atlas(DATASET_LOCATION / \"anatomy\" / \"ipn_zfish_0.5um_v1.8\")\n",
    "\n",
    "#  Specify axes limits over all dimensions:\n",
    "bs = dict(frontal=(30, 180), vertical=(-4, 170), sagittal=(-50, 120))\n",
    "\n",
    "plotter = pltltr.AtlasPlotter(\n",
    "    atlas=atlas,\n",
    "    structures=[\"ipn\", \"dipn\"],\n",
    "    mask_slices=dict(frontal=slice(0, 120)),\n",
    "    bounds_dict=dict(\n",
    "        frontal=[bs[\"vertical\"], bs[\"frontal\"]],\n",
    "        horizontal=[bs[\"sagittal\"], bs[\"frontal\"]],\n",
    "        sagittal=[bs[\"vertical\"], bs[\"sagittal\"]],\n",
    "    ),\n",
    ")"
   ]
  },
  {
   "cell_type": "code",
   "execution_count": null,
   "id": "a71074f0-bec4-4ef7-a142-eda3dc6cd006",
   "metadata": {},
   "outputs": [],
   "source": [
    "lw = 0.8\n",
    "f, axs = plotter.generate_projection_plots()\n",
    "main_c = \".5\" \n",
    "\n",
    "# Plot axon and dendrites in two different colors:\n",
    "for select, shift in zip([\"dendrites\", \"axon\"], [-0.05, 0.2]):\n",
    "    plotter.plot_neurons(\n",
    "        axs,\n",
    "        neuron,\n",
    "        select=select,\n",
    "        c=pltltr.shift_lum(main_c, shift),\n",
    "        lw=lw,\n",
    "        soma_s=30 if select==\"dendrites\" else 0,\n",
    "        label=\"__nolegend__\",\n",
    "    )\n",
    "\n",
    "# scatterplot of synapses in different colors::\n",
    "for syn, lab, col in zip(\n",
    "    synapses, [\"presyn. terminals\", \"postsyn. terminals\"], [\"C2\", \"C6\"]\n",
    "):\n",
    "    plotter.axs_scatterplot(\n",
    "        axs, syn.coords_ipn, color=col, s=1, label=\"__nolabel__\", zorder=100\n",
    "    )\n",
    "    plotter.axs_scatterplot(\n",
    "        axs, np.ones((1, 3)) * 1000, color=col, s=20, label=lab, zorder=100\n",
    "    )  # dummy for legend\n",
    "\n",
    "axs[1].set_title(neuron.id)\n",
    "axs[1].legend(handlelength=0.0)"
   ]
  },
  {
   "cell_type": "code",
   "execution_count": null,
   "id": "ed6e066e-943e-414e-8c28-97b18b945c75",
   "metadata": {},
   "outputs": [],
   "source": [
    "pltltr.savefig(\"synapses_plot\", folder=\"S11b\")"
   ]
  },
  {
   "cell_type": "code",
   "execution_count": null,
   "id": "b254a32d-8897-492b-90ae-6e1ea5d88ee2",
   "metadata": {},
   "outputs": [],
   "source": []
  }
 ],
 "metadata": {
  "kernelspec": {
   "display_name": "rplab",
   "language": "python",
   "name": "rplab"
  },
  "language_info": {
   "codemirror_mode": {
    "name": "ipython",
    "version": 3
   },
   "file_extension": ".py",
   "mimetype": "text/x-python",
   "name": "python",
   "nbconvert_exporter": "python",
   "pygments_lexer": "ipython3"
  }
 },
 "nbformat": 4,
 "nbformat_minor": 5
}

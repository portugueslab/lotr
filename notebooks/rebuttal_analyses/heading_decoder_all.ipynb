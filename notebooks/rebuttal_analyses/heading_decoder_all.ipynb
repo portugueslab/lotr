{
 "cells": [
  {
   "cell_type": "code",
   "execution_count": null,
   "id": "b45c47ce-5a03-4f38-975a-3415838eacb8",
   "metadata": {},
   "outputs": [],
   "source": [
    "%matplotlib widget\n",
    "\n",
    "import numpy as np\n",
    "import matplotlib.pyplot as plt\n",
    "import flammkuchen as fl"
   ]
  },
  {
   "cell_type": "code",
   "execution_count": null,
   "id": "7d9878b4-85d8-4f84-a78f-c22a1da23a20",
   "metadata": {},
   "outputs": [],
   "source": []
  },
  {
   "cell_type": "code",
   "execution_count": null,
   "id": "4b50a8e5-22e3-4c73-9b8a-59b3aae63410",
   "metadata": {},
   "outputs": [],
   "source": [
    "\n"
   ]
  },
  {
   "cell_type": "code",
   "execution_count": null,
   "id": "9f43f377-3a9d-4c0b-98f7-631834becfe5",
   "metadata": {},
   "outputs": [],
   "source": []
  },
  {
   "cell_type": "code",
   "execution_count": null,
   "id": "70c3388b-41ff-40fd-b30c-1e4093edc54a",
   "metadata": {},
   "outputs": [],
   "source": [
    "data_df= fl.load(\"events_df.h5\")"
   ]
  },
  {
   "cell_type": "code",
   "execution_count": null,
   "id": "d6211e08-bb33-4543-a5dd-36ddb641b620",
   "metadata": {},
   "outputs": [],
   "source": [
    "data_df.shape"
   ]
  },
  {
   "cell_type": "code",
   "execution_count": null,
   "id": "b9ef0f77-e2b3-4596-8fc9-2fe94d0cf332",
   "metadata": {},
   "outputs": [],
   "source": [
    "data_df.keys()"
   ]
  },
  {
   "cell_type": "code",
   "execution_count": null,
   "id": "38575423-6c10-44b1-9a23-0f2316c0947f",
   "metadata": {},
   "outputs": [],
   "source": [
    "for fid in data_df[\"fid\"].unique():\n",
    "    fish_df = data_df[data_df[\"fid\"]==fid]\n",
    "    #print(fish_df[\"fid\"])\n"
   ]
  },
  {
   "cell_type": "code",
   "execution_count": null,
   "id": "02d39293-ca64-4ed6-a6f0-6b9b074f9a79",
   "metadata": {},
   "outputs": [],
   "source": [
    "all_ids=data_df[\"fid\"].unique()"
   ]
  },
  {
   "cell_type": "code",
   "execution_count": null,
   "id": "1977629a-0416-4fb2-8e5d-b6a86f03c762",
   "metadata": {},
   "outputs": [],
   "source": [
    "print(all_ids)"
   ]
  },
  {
   "cell_type": "raw",
   "id": "fc014a04-a05d-4749-8cfd-e7f008388f6a",
   "metadata": {},
   "source": []
  },
  {
   "cell_type": "code",
   "execution_count": null,
   "id": "425f9aba-bc80-48e1-a83f-626f0fde3f9a",
   "metadata": {},
   "outputs": [],
   "source": [
    "fish_df.shape[0]"
   ]
  },
  {
   "cell_type": "code",
   "execution_count": null,
   "id": "879cf559-87d7-431d-8ada-4425f52aab62",
   "metadata": {},
   "outputs": [],
   "source": [
    "A=np.zeros((31,1000))\n",
    "B=np.zeros((31,1000))\n",
    "C=np.zeros((31,1000))\n",
    "D=np.zeros((31,1000))\n",
    "\n",
    "counter=0\n",
    "\n",
    "fig2=plt.figure()\n",
    "\n",
    "for k in range(all_ids.shape[0]):\n",
    "    \n",
    "    fish_df = data_df[data_df[\"fid\"]==all_ids[k]]\n",
    "    print([k,all_ids[k]])\n",
    "\n",
    "    dphaseN=np.zeros(fish_df.shape[0])\n",
    "    biasN=np.zeros(fish_df.shape[0])\n",
    "    for ii in range(fish_df.shape[0]):\n",
    "        i=counter+ii\n",
    "        if np.isnan(fish_df[\"bias\"][i]):\n",
    "            dphaseN[ii]=fish_df[\"Δphase\"][i]\n",
    "            biasN[ii]=fish_df[\"bias\"][i]\n",
    "    biasN=np.delete(biasN,np.where(dphaseN==0))\n",
    "    dphaseN=np.delete(dphaseN,np.where(dphaseN==0))\n",
    "\n",
    "    dphaseL=np.zeros(fish_df.shape[0])\n",
    "    biasL=np.zeros(fish_df.shape[0])\n",
    "    for ii in range(fish_df.shape[0]):\n",
    "        i=counter+ii\n",
    "        if fish_df[\"bias\"][i]<-0.239:\n",
    "            dphaseL[ii]=fish_df[\"Δphase\"][i]\n",
    "            biasL[ii]=fish_df[\"bias\"][i]\n",
    "    biasL=np.delete(biasL,np.where(dphaseL==0))\n",
    "    dphaseL=np.delete(dphaseL,np.where(dphaseL==0))\n",
    "\n",
    "    dphaseR=np.zeros(fish_df.shape[0])\n",
    "    biasR=np.zeros(fish_df.shape[0])\n",
    "    for ii in range(fish_df.shape[0]):\n",
    "        i=counter+ii\n",
    "        if fish_df[\"bias\"][i]>0.239:\n",
    "            dphaseR[ii]=fish_df[\"Δphase\"][i]\n",
    "            biasR[ii]=fish_df[\"bias\"][i]\n",
    "    biasR=np.delete(biasR,np.where(dphaseR==0))\n",
    "    dphaseR=np.delete(dphaseR,np.where(dphaseR==0))\n",
    "\n",
    "    dphaseF=np.zeros(fish_df.shape[0])\n",
    "    biasF=np.zeros(fish_df.shape[0])\n",
    "    for ii in range(fish_df.shape[0]):\n",
    "        i=counter+ii\n",
    "        if fish_df[\"bias\"][i]<0.239 and fish_df[\"bias\"][i]>-0.239:\n",
    "            dphaseF[ii]=fish_df[\"Δphase\"][i]        \n",
    "            biasF[ii]=fish_df[\"bias\"][i]\n",
    "    biasF=np.delete(biasF,np.where(dphaseF==0))\n",
    "    dphaseF=np.delete(dphaseF,np.where(dphaseF==0))\n",
    "\n",
    "    for j in range(1000):\n",
    "        this_angle=-np.pi+2*np.pi*(j/1000)\n",
    "        A[k,j]=np.sum(dphaseL<this_angle)/dphaseL.shape[0]\n",
    "        B[k,j]=np.sum(dphaseR<this_angle)/dphaseR.shape[0]\n",
    "        C[k,j]=np.sum(dphaseF<this_angle)/dphaseF.shape[0]\n",
    "        D[k,j]=np.sum(dphaseN<this_angle)/dphaseN.shape[0]\n",
    "\n",
    "    counter=counter+fish_df.shape[0]\n",
    "    \n",
    "    plt.subplot(4,8,k+1)\n",
    "    weights = np.ones_like(dphaseN) / len(dphaseN)\n",
    "    plt.hist(dphaseN,10,fc=(0,0,0,0),edgecolor='red',weights=weights)\n",
    "    weights = np.ones_like(dphaseF) / len(dphaseF)\n",
    "    plt.hist(dphaseF,10,fc=(0,0,0,0),edgecolor='black',weights=weights)\n",
    "\n",
    "plt.show()\n"
   ]
  },
  {
   "cell_type": "code",
   "execution_count": null,
   "id": "2fe9a605-8040-45eb-8845-520b5636dee6",
   "metadata": {},
   "outputs": [],
   "source": [
    "fig2.savefig(\"hists3_bF_rN.pdf\")"
   ]
  },
  {
   "cell_type": "code",
   "execution_count": null,
   "id": "b318600d-8d9a-4c30-9492-f47badb02525",
   "metadata": {},
   "outputs": [],
   "source": [
    "fig3=plt.figure()\n",
    "plt.plot(C[1,:],D[1,:],'k',linewidth=0.2)\n",
    "plt.show()\n"
   ]
  },
  {
   "cell_type": "code",
   "execution_count": null,
   "id": "ce043c81-83d8-4c1c-a100-c24596ef97c8",
   "metadata": {},
   "outputs": [],
   "source": [
    "fig3.savefig(\"roc_sample3.pdf\")"
   ]
  },
  {
   "cell_type": "code",
   "execution_count": null,
   "id": "4c801c35-5bda-45cc-82af-31eaa7519d9e",
   "metadata": {},
   "outputs": [],
   "source": [
    "fig=plt.figure()\n",
    "\n",
    "As=np.copy(A)\n",
    "for i in range(A.shape[1]):\n",
    "    As[:,i]=sorted(A[:,i])\n",
    "Bs=np.copy(B)\n",
    "for i in range(B.shape[1]):\n",
    "    Bs[:,i]=sorted(B[:,i])\n",
    "Cs=np.copy(C)\n",
    "for i in range(A.shape[1]):\n",
    "    Cs[:,i]=sorted(C[:,i])\n",
    "Ds=np.copy(D)\n",
    "for i in range(A.shape[1]):\n",
    "    Ds[:,i]=sorted(D[:,i])\n",
    "    \n",
    "\n",
    "plt.subplot(331)\n",
    "for i in range(all_ids.shape[0]):\n",
    "    plt.plot(A[i,:],B[i,:],'k',linewidth=0.2)\n",
    "#plt.plot(np.nanmean(A,axis=0),np.nanmean(B,axis=0),'r')\n",
    "plt.plot(np.nanmedian(A,axis=0),np.nanmedian(B,axis=0),'r',linewidth=2)\n",
    "\n",
    "\n",
    "plt.subplot(332)\n",
    "for i in range(all_ids.shape[0]):\n",
    "    plt.plot(A[i,:],C[i,:],'k',linewidth=0.2)\n",
    "#plt.plot(np.nanmean(A,axis=0),np.nanmean(C,axis=0),'r')\n",
    "plt.plot(np.nanmedian(A,axis=0),np.nanmedian(C,axis=0),'r',linewidth=2)\n",
    "\n",
    "plt.subplot(333)\n",
    "for i in range(all_ids.shape[0]):\n",
    "    plt.plot(A[i,:],D[i,:],'k',linewidth=0.2)\n",
    "#plt.plot(np.nanmean(A,axis=0),np.nanmean(D,axis=0),'r')\n",
    "plt.plot(np.nanmedian(A,axis=0),np.nanmedian(D,axis=0),'r',linewidth=2)\n",
    "\n",
    "plt.subplot(335)\n",
    "for i in range(all_ids.shape[0]):\n",
    "    plt.plot(B[i,:],C[i,:],'k',linewidth=0.2)\n",
    "#plt.plot(np.nanmean(B,axis=0),np.nanmean(C,axis=0),'r')\n",
    "plt.plot(np.nanmedian(B,axis=0),np.nanmedian(C,axis=0),'r',linewidth=2)\n",
    "\n",
    "plt.subplot(336)\n",
    "for i in range(all_ids.shape[0]):\n",
    "    plt.plot(B[i,:],D[i,:],'k',linewidth=0.2)\n",
    "#plt.plot(np.nanmean(B,axis=0),np.nanmean(D,axis=0),'r')\n",
    "plt.plot(np.nanmedian(B,axis=0),np.nanmedian(D,axis=0),'r',linewidth=2)\n",
    "\n",
    "plt.subplot(339)\n",
    "for i in range(all_ids.shape[0]):\n",
    "    plt.plot(C[i,:],D[i,:],'k',linewidth=0.2)\n",
    "#plt.plot(np.nanmean(C,axis=0),np.nanmean(D,axis=0),'r')\n",
    "plt.plot(np.nanmedian(C,axis=0),np.nanmedian(D,axis=0),'r',linewidth=2)\n",
    "\n",
    "plt.show()"
   ]
  },
  {
   "cell_type": "code",
   "execution_count": null,
   "id": "c7817176-cf4f-48e1-9fca-8609ff2fe09a",
   "metadata": {},
   "outputs": [],
   "source": [
    "fig.savefig(\"ROCs.pdf\")"
   ]
  },
  {
   "cell_type": "code",
   "execution_count": null,
   "id": "68e7d0a3-a946-4ed0-b23b-3fe154d06a71",
   "metadata": {},
   "outputs": [],
   "source": [
    "As=np.copy(A)\n",
    "for i in range(A.shape[1]):\n",
    "    As[:,i]=sorted(A[:,i])\n",
    "    "
   ]
  },
  {
   "cell_type": "code",
   "execution_count": null,
   "id": "233e1d42-57c1-4df7-9a96-aff88bcc38c7",
   "metadata": {},
   "outputs": [],
   "source": []
  },
  {
   "cell_type": "markdown",
   "id": "c86d9951-a6b7-4629-be03-f076d537f804",
   "metadata": {},
   "source": [
    "Let us build an ROC curve: x-axis FPR and y-axis is TPR. So we move the angle from $-\\pi$ to $+\\pi$ and figure this curve out"
   ]
  },
  {
   "cell_type": "code",
   "execution_count": null,
   "id": "8903df03-42c3-467d-b0a8-49ddf8b34458",
   "metadata": {},
   "outputs": [],
   "source": [
    "A=np.zeros(1000)\n",
    "B=np.zeros(1000)\n",
    "C=np.zeros(1000)\n",
    "D=np.zeros(1000)\n",
    "\n",
    "for i in range(1000):\n",
    "    this_angle=-np.pi+2*np.pi*(i/1000)\n",
    "    A[i]=np.sum(dphaseL<this_angle)/dphaseL.shape[0]\n",
    "    B[i]=np.sum(dphaseR<this_angle)/dphaseR.shape[0]\n",
    "    C[i]=np.sum(dphaseF<this_angle)/dphaseF.shape[0]\n",
    "    D[i]=np.sum(dphaseN<this_angle)/dphaseN.shape[0]\n",
    "    \n",
    "plt.figure()\n",
    "plt.subplot(441)\n",
    "plt.plot(A,A)\n",
    "plt.subplot(442)\n",
    "plt.plot(A,B)\n",
    "plt.subplot(443)\n",
    "plt.plot(A,C)\n",
    "plt.subplot(444)\n",
    "plt.plot(A,D)\n",
    "plt.subplot(445)\n",
    "plt.plot(B,A)\n",
    "plt.subplot(446)\n",
    "plt.plot(B,B)\n",
    "plt.subplot(447)\n",
    "plt.plot(B,C)\n",
    "plt.subplot(448)\n",
    "plt.plot(B,D)\n",
    "plt.subplot(449)\n",
    "plt.plot(C,A)\n",
    "plt.subplot(4,4,10)\n",
    "plt.plot(C,B)\n",
    "plt.subplot(4,4,11)\n",
    "plt.plot(C,C)\n",
    "plt.subplot(4,4,12)\n",
    "plt.plot(C,D)\n",
    "plt.subplot(4,4,13)\n",
    "plt.plot(D,A)\n",
    "plt.subplot(4,4,14)\n",
    "plt.plot(D,B)\n",
    "plt.subplot(4,4,15)\n",
    "plt.plot(D,C)\n",
    "plt.subplot(4,4,16)\n",
    "plt.plot(D,D)\n",
    "plt.show()"
   ]
  },
  {
   "cell_type": "code",
   "execution_count": null,
   "id": "a0eea041-6605-40a4-b6e1-bd6fbbf5c1c2",
   "metadata": {},
   "outputs": [],
   "source": [
    "i=900\n",
    "this_angle=-np.pi+2*np.pi*(i/1000)\n",
    "print(this_angle)\n",
    "A=np.zeros(1000)\n",
    "B=np.zeros(1000)\n"
   ]
  },
  {
   "cell_type": "code",
   "execution_count": null,
   "id": "106475f3-cb74-40e4-b41e-0a399b87025b",
   "metadata": {},
   "outputs": [],
   "source": [
    "\n",
    "A[i]=np.sum(dphaseL<this_angle)/dphaseL.shape[0]\n",
    "B[i]=np.sum(dphaseR<this angle)/dphaseR.shape[0]plt.figure()\n",
    "plt.plot(A)\n",
    "plt.show"
   ]
  },
  {
   "cell_type": "code",
   "execution_count": null,
   "id": "3d456dbc-45f6-466d-beaa-40170d579db8",
   "metadata": {},
   "outputs": [],
   "source": []
  },
  {
   "cell_type": "code",
   "execution_count": null,
   "id": "599428bd-0f59-4e78-aff0-4ca38355b24f",
   "metadata": {},
   "outputs": [],
   "source": [
    "plt.figure()\n",
    "plt.hist(dphaseL,density=True)\n",
    "plt.hist(dphaseR,density=True)\n",
    "plt.show()"
   ]
  },
  {
   "cell_type": "code",
   "execution_count": null,
   "id": "6c5e44b1-f375-40dc-8732-1683591e68af",
   "metadata": {},
   "outputs": [],
   "source": [
    "\n"
   ]
  },
  {
   "cell_type": "code",
   "execution_count": null,
   "id": "daf90e4c-30bb-41fb-9afd-cac3a6e13d1e",
   "metadata": {},
   "outputs": [],
   "source": [
    "counts, bins = np.histogram(dphaseL)\n",
    "plt.figure()\n",
    "plt.plot(bins[:-1],counts/np.sum(counts),'r')\n",
    "counts, bins = np.histogram(dphaseR)\n",
    "plt.plot(bins[:-1],counts/np.sum(counts),'b')\n",
    "counts, bins = np.histogram(dphaseF)\n",
    "plt.plot(bins[:-1],counts/np.sum(counts),'g')\n",
    "counts, bins = np.histogram(dphaseN)\n",
    "plt.plot(bins[:-1],counts/np.sum(counts),'k')\n",
    "plt.show()"
   ]
  },
  {
   "cell_type": "code",
   "execution_count": null,
   "id": "ad16fe5e-d55c-49d7-92e6-849d10da0961",
   "metadata": {},
   "outputs": [],
   "source": [
    "import scipy.stats as stats\n"
   ]
  },
  {
   "cell_type": "code",
   "execution_count": null,
   "id": "00687508-f905-4567-ace2-8c71e44a9ca6",
   "metadata": {},
   "outputs": [],
   "source": [
    "stats.ttest_ind(dphaseF, dphaseL, equal_var=False, nan_policy='propagate', permutations=0, random_state=None, alternative='two-sided', trim=0)"
   ]
  },
  {
   "cell_type": "code",
   "execution_count": null,
   "id": "4412b6e5-bcb5-4679-b9ce-850a5a376889",
   "metadata": {},
   "outputs": [],
   "source": [
    "np.sum(counts)"
   ]
  },
  {
   "cell_type": "code",
   "execution_count": null,
   "id": "c0ff2454-41f1-475a-952a-cd4d190c66da",
   "metadata": {},
   "outputs": [],
   "source": [
    "bins.shape"
   ]
  },
  {
   "cell_type": "code",
   "execution_count": null,
   "id": "f1e92807-c750-4a4a-9d4d-d5937cd96550",
   "metadata": {},
   "outputs": [],
   "source": [
    "(counts/np.sum(counts))"
   ]
  },
  {
   "cell_type": "code",
   "execution_count": null,
   "id": "5419e4f3-5286-4658-ad2d-5b56c6fafaf6",
   "metadata": {},
   "outputs": [],
   "source": []
  },
  {
   "cell_type": "code",
   "execution_count": null,
   "id": "98bb6b87-1eb8-411c-9eb0-33b7c4601d4d",
   "metadata": {},
   "outputs": [],
   "source": [
    "print(np.array(h5['data/block0_values']))"
   ]
  },
  {
   "cell_type": "code",
   "execution_count": null,
   "id": "a65b9429-cb31-45cf-b197-a384a00d5862",
   "metadata": {},
   "outputs": [],
   "source": []
  }
 ],
 "metadata": {
  "kernelspec": {
   "display_name": "Python 3 (ipykernel)",
   "language": "python",
   "name": "python3"
  },
  "language_info": {
   "codemirror_mode": {
    "name": "ipython",
    "version": 3
   },
   "file_extension": ".py",
   "mimetype": "text/x-python",
   "name": "python",
   "nbconvert_exporter": "python",
   "pygments_lexer": "ipython3"
  }
 },
 "nbformat": 4,
 "nbformat_minor": 5
}

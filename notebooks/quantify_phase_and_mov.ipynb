{
 "cells": [
  {
   "cell_type": "code",
   "execution_count": null,
   "id": "35393105",
   "metadata": {},
   "outputs": [],
   "source": [
    "%matplotlib widget"
   ]
  },
  {
   "cell_type": "code",
   "execution_count": null,
   "id": "a8bc9ae4",
   "metadata": {},
   "outputs": [],
   "source": [
    "%matplotlib widget\n",
    "from pathlib import Path\n",
    "import numpy as np\n",
    "import pandas as pd\n",
    "from matplotlib import pyplot as plt\n",
    "import matplotlib.gridspec as gridspec\n",
    "from scipy.optimize import curve_fit\n",
    "\n",
    "from lotr import LotrExperiment, DATASET_LOCATION\n",
    "\n",
    "from lotr.plotting import despine, add_scalebar, get_circle_xy, color_stack, add_cbar, dark_col\n",
    "from lotr.pca import pca_and_phase\n",
    "from lotr.utils import reduce_to_pi, get_rot_matrix, get_vect_angle"
   ]
  },
  {
   "cell_type": "code",
   "execution_count": null,
   "id": "84650a9f",
   "metadata": {},
   "outputs": [],
   "source": [
    "# List all experiments\n",
    "master_path = Path(DATASET_LOCATION)\n",
    "file_list = [f.parent for f in master_path.glob(\"*/*[0-9]_f*/selected.h5\")]"
   ]
  },
  {
   "cell_type": "code",
   "execution_count": null,
   "id": "a2f6062a",
   "metadata": {},
   "outputs": [],
   "source": [
    "path = master_path / \"210314_f1\" / \"210314_f1_natmov\"# \"210926_f0\" / \"210926_f0_gainmod\" \n",
    "exp = LotrExperiment(path)\n",
    "\n",
    "# Compute PCA in time and fit circle:\n",
    "traces = exp.traces[exp.pca_t_slice, exp.hdn_indexes]\n",
    "pcaed_t, phase_t, pca_t, circle_params_t = pca_and_phase(traces.T)\n",
    "\n",
    "# Center PCs on center of the fit circle:\n",
    "centered_pcs = pcaed_t[:, :2] - circle_params_t[:2]\n",
    "\n",
    "# Compute PCA in population dim\n",
    "pcaed, phase, pca, circle_params = pca_and_phase(traces)\n",
    "\n",
    "# Compute preferred phase of each neuron:\n",
    "neuron_phases, _ = fit_phase_neurons(exp.traces[:, exp.hdn_indexes], phase, disable_bar=True)"
   ]
  },
  {
   "cell_type": "code",
   "execution_count": null,
   "id": "ad1f530f",
   "metadata": {},
   "outputs": [],
   "source": [
    "pca_t.components_[:2, :] == pcaed"
   ]
  },
  {
   "cell_type": "code",
   "execution_count": null,
   "id": "4bcde52e",
   "metadata": {},
   "outputs": [],
   "source": [
    "plt.figure()\n",
    "plt.subplot(121)\n",
    "# plt.plot(pcaed[:, 0], pcaed[:, 1])\n",
    "plt.plot(pcaed[:, 0], pca_t.components_[0, :])\n",
    "plt.subplot(122)\n",
    "plt.plot(pcaed[:, 1], pca_t.components_[1, :])\n",
    "#plt.plot(pca_t.components_[0, :], pca_t.components_[1, :])"
   ]
  },
  {
   "cell_type": "code",
   "execution_count": null,
   "id": "90d226d5",
   "metadata": {},
   "outputs": [],
   "source": []
  }
 ],
 "metadata": {
  "kernelspec": {
   "display_name": "rplab",
   "language": "python",
   "name": "rplab"
  },
  "language_info": {
   "codemirror_mode": {
    "name": "ipython",
    "version": 3
   },
   "file_extension": ".py",
   "mimetype": "text/x-python",
   "name": "python",
   "nbconvert_exporter": "python",
   "pygments_lexer": "ipython3"
  }
 },
 "nbformat": 4,
 "nbformat_minor": 5
}

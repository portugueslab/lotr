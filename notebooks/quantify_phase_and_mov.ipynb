{
 "cells": [
  {
   "cell_type": "code",
   "execution_count": null,
   "id": "958a173c",
   "metadata": {},
   "outputs": [],
   "source": [
    "%matplotlib widget"
   ]
  },
  {
   "cell_type": "code",
   "execution_count": null,
   "id": "c1adc80a",
   "metadata": {},
   "outputs": [],
   "source": [
    "%matplotlib widget\n",
    "from pathlib import Path\n",
    "import numpy as np\n",
    "import pandas as pd\n",
    "from matplotlib import pyplot as plt\n",
    "# import matplotlib.gridspec as gridspec\n",
    "# from scipy.optimize import curve_fit\n",
    "\n",
    "from lotr import LotrExperiment, DATASET_LOCATION\n",
    "\n",
    "# from lotr.plotting import despine, add_scalebar, get_circle_xy, color_stack, add_cbar, dark_col\n",
    "from lotr.pca import pca_and_phase, fit_phase_neurons\n",
    "# from lotr.utils import reduce_to_pi, get_rot_matrix, get_vect_angle"
   ]
  },
  {
   "cell_type": "code",
   "execution_count": null,
   "id": "40fd4c45",
   "metadata": {},
   "outputs": [],
   "source": [
    "# List all experiments\n",
    "master_path = Path(DATASET_LOCATION)\n",
    "file_list = [f.parent for f in master_path.glob(\"*/*[0-9]_f*/selected.h5\")]"
   ]
  },
  {
   "cell_type": "code",
   "execution_count": null,
   "id": "55569298",
   "metadata": {},
   "outputs": [],
   "source": [
    "path = master_path / \"210314_f1\" / \"210314_f1_natmov\"# \"210926_f0\" / \"210926_f0_gainmod\" \n",
    "exp = LotrExperiment(path)\n",
    "\n",
    "# Compute PCA in time and fit circle:\n",
    "traces = exp.traces[exp.pca_t_slice, exp.hdn_indexes]\n",
    "pcaed_t, phase_t, pca_t, circle_params_t = pca_and_phase(traces.T)\n",
    "\n",
    "# Center PCs on center of the fit circle:\n",
    "centered_pcs = pcaed_t[:, :2] - circle_params_t[:2]\n",
    "\n",
    "# Compute PCA in population dim\n",
    "pcaed, phase, pca, circle_params = pca_and_phase(traces)\n",
    "\n",
    "# Compute preferred phase of each neuron:\n",
    "neuron_phases, _ = fit_phase_neurons(traces, phase, disable_bar=True)\n",
    "\n",
    "coords = exp.coords[exp.hdn_indexes, :][sequence, :]  # shuffle if necessary\n",
    "centered_coords, w_coords = get_normalized_coords(coords)\n",
    "\n",
    "# rotate pcs:\n",
    "rotated_pcs = reorient_pcs(centered_pcs, w_coords)\n",
    "\n",
    "# We can now calculate a phase for each neuron from their position in this rotated space:\n",
    "rotated_pc_phase = np.angle(rotated_pcs[:, 0] + 1j * rotated_pcs[:, 1])\n",
    "\n",
    "# And, for plotting, computing an \"anatomical phase\", aka position around the anatomy:\n",
    "anatomical_phase = np.angle(-centered_coords[:, 1] + 1j * centered_coords[:, 2]) "
   ]
  },
  {
   "cell_type": "code",
   "execution_count": null,
   "id": "1118d08f",
   "metadata": {},
   "outputs": [],
   "source": []
  },
  {
   "cell_type": "code",
   "execution_count": null,
   "id": "f6c82932",
   "metadata": {},
   "outputs": [],
   "source": [
    "from inspect import getmembers, isfunction, getsource\n",
    "# internal_module = __import__(\"lotr\")\n",
    "\n",
    "print_source(fit_phase_neurons)\n",
    "# getsource(internal_functions[\"pca_and_phase\"])"
   ]
  },
  {
   "cell_type": "code",
   "execution_count": null,
   "id": "9656fc62",
   "metadata": {},
   "outputs": [],
   "source": [
    "internal_module"
   ]
  },
  {
   "cell_type": "code",
   "execution_count": null,
   "id": "3278121c",
   "metadata": {},
   "outputs": [],
   "source": [
    "internal_functions"
   ]
  },
  {
   "cell_type": "code",
   "execution_count": null,
   "id": "c38a7d83",
   "metadata": {},
   "outputs": [],
   "source": [
    "import lotr\n",
    "print_source(\"lotr.pca\", \"pca_and_phase\")"
   ]
  },
  {
   "cell_type": "code",
   "execution_count": null,
   "id": "7f2df3d9",
   "metadata": {},
   "outputs": [],
   "source": [
    "pca_t.components_[:2, :] == pcaed"
   ]
  },
  {
   "cell_type": "code",
   "execution_count": null,
   "id": "989ae74a",
   "metadata": {},
   "outputs": [],
   "source": [
    "plt.figure()\n",
    "plt.subplot(121)\n",
    "# plt.plot(pcaed[:, 0], pcaed[:, 1])\n",
    "plt.plot(pcaed[:, 0], pca_t.components_[0, :])\n",
    "plt.subplot(122)\n",
    "plt.plot(pcaed[:, 1], pca_t.components_[1, :])\n",
    "#plt.plot(pca_t.components_[0, :], pca_t.components_[1, :])"
   ]
  },
  {
   "cell_type": "code",
   "execution_count": null,
   "id": "48d7a46c",
   "metadata": {},
   "outputs": [],
   "source": []
  }
 ],
 "metadata": {
  "kernelspec": {
   "display_name": "rplab",
   "language": "python",
   "name": "rplab"
  },
  "language_info": {
   "codemirror_mode": {
    "name": "ipython",
    "version": 3
   },
   "file_extension": ".py",
   "mimetype": "text/x-python",
   "name": "python",
   "nbconvert_exporter": "python",
   "pygments_lexer": "ipython3"
  }
 },
 "nbformat": 4,
 "nbformat_minor": 5
}

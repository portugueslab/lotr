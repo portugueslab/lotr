{
 "cells": [
  {
   "cell_type": "markdown",
   "id": "cc9ba817-b740-4853-a9fa-895e1dc5c887",
   "metadata": {},
   "source": [
    "# Phase dynamics and visual feedback\n",
    "\n",
    "In this notebook, we will build upon the previous quantifications on the relationship between phase and directional swimming and see whether visual feedback is necessary / involved in the rotation of the network."
   ]
  },
  {
   "cell_type": "code",
   "execution_count": null,
   "id": "66536f18-ec42-4371-bb6e-c94e4851c977",
   "metadata": {},
   "outputs": [],
   "source": [
    "from scipy.stats import wilcoxon\n",
    "from tqdm import tqdm"
   ]
  },
  {
   "cell_type": "code",
   "execution_count": null,
   "id": "7f50eec7",
   "metadata": {
    "collapsed": false,
    "jupyter": {
     "outputs_hidden": false
    },
    "pycharm": {
     "name": "#%%\n"
    }
   },
   "outputs": [],
   "source": [
    "%matplotlib widget\n",
    "\n",
    "import numpy as np\n",
    "import pandas as pd\n",
    "from matplotlib import pyplot as plt\n",
    "from scipy.stats import wilcoxon\n",
    "from tqdm import tqdm\n",
    "\n",
    "import lotr.plotting as pltltr\n",
    "from lotr import A_FISH, FIGURES_LOCATION, LotrExperiment, dataset_folders\n",
    "from lotr.behavior import get_fictive_heading\n",
    "from lotr.result_logging import ResultsLogger\n",
    "from lotr.utils import crop, interpolate, linear_regression, resample_matrix\n",
    "\n",
    "logger = ResultsLogger()\n",
    "\n",
    "COLS = pltltr.COLS"
   ]
  },
  {
   "cell_type": "markdown",
   "id": "feae80a9",
   "metadata": {
    "pycharm": {
     "name": "#%% md\n"
    }
   },
   "source": [
    "## Load stimulus information\n",
    "\n",
    "We will use the `LotrExperiment.stim_trials_df` method to load from each experiment a dictionary describing the sequence of stimuli and the concatenate all of them in a single dataframe.\n",
    "The `all_stim_conds` will contain a `condition` column that can be one of the following:\n",
    " - **`darkness`**: black screen, fish swimming in the darkness\n",
    " - **`closed_loop`**: fish experiences visual feedback when moving. This consists in a pink noise pattern that, every time the fish performa a bout, rotates proportionally to the laterality index for the bout (with inverted sign), and translates backward up with an average speed of approx. 10 mm/s. In the gainmod experiments, a gain factor that changes the amount of rotation  induced by each directional bout is alternated between 0.5 (**low gain**), 1.0 (**normal gain**), 2.0 (**high gain**), -1 (**inverted motion**).\n",
    " - **`natural_mot`**: pink noise that is translated/rotated independently of the fish motion in ways similar to what the fish would experience swimming over the pattern - a sort of playback of a closed loop experiment. This stimulus induces very small responses in visual directional motion/rotation cells as every movement is very brief.\n",
    " - **`directional_mot`**: pink noise that moves in 8 equally spaced directions on the plane below the fish in periods of 10s, spaced by pause periods of 10s where the pattern is static. As the fish is mostly moving during directional motion, for the sake of this quantification for now all bouts during both the motion and the static times are pooled in the \"directional_mot\" condition # TODO maybe split them"
   ]
  },
  {
   "cell_type": "code",
   "execution_count": null,
   "id": "8e372539",
   "metadata": {
    "collapsed": false,
    "jupyter": {
     "outputs_hidden": false
    },
    "pycharm": {
     "name": "#%%\n"
    }
   },
   "outputs": [],
   "source": [
    "all_stim_logs = [LotrExperiment(path).stim_trials_df for path in tqdm(dataset_folders)]\n",
    "all_stim_conds = pd.concat(all_stim_logs, ignore_index=True, sort=True)"
   ]
  },
  {
   "cell_type": "markdown",
   "id": "09367611",
   "metadata": {
    "pycharm": {
     "name": "#%% md\n"
    }
   },
   "source": [
    "### Visualize all experiment types\n",
    "\n",
    "Let's have a quick look at all the experiment types:"
   ]
  },
  {
   "cell_type": "code",
   "execution_count": null,
   "id": "ce6f6b6e",
   "metadata": {
    "collapsed": false,
    "jupyter": {
     "outputs_hidden": false
    },
    "pycharm": {
     "name": "#%%\n"
    }
   },
   "outputs": [],
   "source": [
    "def plot_exp_condition(exp_stim_df, ax=None, alpha=0.3, **kwargs):\n",
    "    \"\"\"Plot experiment conditions as vertical ranges on some axes.\n",
    "\n",
    "    Parameters\n",
    "    ----------\n",
    "    exp_stim_df : pd.DataFrame\n",
    "        Dataframe containing the \"t_start\", \"t_stop\" and \"condition\" entries.\n",
    "    ax : plt.Axis (optional)\n",
    "        Axis over which to plot, by default current.\n",
    "    alpha : float (optional)\n",
    "        Transparency (default=0.3).\n",
    "    kwargs : dict\n",
    "        Additional arguments for plt.axvspan function.\n",
    "\n",
    "    Returns\n",
    "    -------\n",
    "    list\n",
    "        All the vspan function outputs.\n",
    "\n",
    "    \"\"\"\n",
    "    stim_colors = COLS[\"stim_conditions\"]\n",
    "    if ax is None:\n",
    "        ax = plt.gca()\n",
    "\n",
    "    vspan = list()\n",
    "    for i in exp_stim_df.index:\n",
    "        t_s, t_e = [exp_stim_df.loc[i, k] for k in [\"t_start\", \"t_stop\"]]\n",
    "        if exp_stim_df.loc[i, \"condition\"] == \"closed_loop\":\n",
    "            col = stim_colors[\"closed_loop\"][exp_stim_df.loc[i, \"gain_theta\"]]\n",
    "        else:\n",
    "            col = stim_colors[exp_stim_df.loc[i, \"condition\"]]\n",
    "        vspan.append(ax.axvspan(t_s, t_e, fc=col, lw=0, alpha=alpha, **kwargs))\n",
    "\n",
    "    return vspan"
   ]
  },
  {
   "cell_type": "code",
   "execution_count": null,
   "id": "5428b72e",
   "metadata": {
    "collapsed": false,
    "jupyter": {
     "outputs_hidden": false
    },
    "pycharm": {
     "name": "#%%\n"
    }
   },
   "outputs": [],
   "source": [
    "qualitative = COLS[\"qualitative\"]\n",
    "cl = COLS[\"sides\"][\"lf\"]  # qualitative[1]\n",
    "ol = qualitative[3]\n",
    "COLS[\"stim_conditions\"] = {\n",
    "    \"darkness\": \".5\",\n",
    "    \"natural_motion\": ol,\n",
    "    \"directional_motion\": [0.62, 0.29, 0.63],\n",
    "    \"closed_loop\": {\n",
    "        0.5: pltltr.shift_lum(cl, -0.15),\n",
    "        1: pltltr.shift_lum(cl, 0),\n",
    "        2: pltltr.shift_lum(cl, +0.15),\n",
    "        -1: pltltr.shift_lum(ol, -0.15),\n",
    "    },\n",
    "}"
   ]
  },
  {
   "cell_type": "code",
   "execution_count": null,
   "id": "7256210d",
   "metadata": {
    "collapsed": false,
    "jupyter": {
     "outputs_hidden": false
    },
    "pycharm": {
     "name": "#%%\n"
    }
   },
   "outputs": [],
   "source": [
    "all_exp_types = all_stim_conds.exp_type.unique()\n",
    "\n",
    "f, axs = plt.subplots(\n",
    "    len(all_exp_types) + 1,\n",
    "    1,\n",
    "    figsize=(5, 4),\n",
    "    gridspec_kw=dict(top=0.8, right=0.8, hspace=2),\n",
    ")\n",
    "for i, exp_type in enumerate(all_exp_types):\n",
    "    # Get an example fish for the experiment:\n",
    "    fids = all_stim_conds.loc[all_stim_conds[\"exp_type\"] == exp_type, \"fid\"].unique()\n",
    "    fid = fids[0]\n",
    "\n",
    "    # Plot with custom lotr function:\n",
    "    pltltr.plot_exp_condition(\n",
    "        all_stim_conds[all_stim_conds[\"fid\"] == fid], ax=axs[i], alpha=1\n",
    "    )\n",
    "\n",
    "    axs[i].set(title=f\"n={len(fids)}\", xlim=(0.0, 2500))\n",
    "\n",
    "for ax in axs[:-1]:\n",
    "    pltltr.despine(ax, \"all\")\n",
    "pltltr.despine(axs[-1], [\"left\", \"top\", \"right\"])\n",
    "\n",
    "axs[-1].set(xlabel=\"Time (s)\", xlim=(0.0, 2500))\n",
    "\n",
    "ax = f.add_axes((0.75, 0.95, 0.2, 0.2))\n",
    "ax.axis(\"off\")\n",
    "v_space = -0.17\n",
    "v_o, h_o = 0, 0.01\n",
    "\n",
    "for text, item in COLS[\"stim_conditions\"].items():\n",
    "    lab = \" \".join(text.split(\"_\")).capitalize()\n",
    "    if text != \"closed_loop\":\n",
    "        ax.text(h_o, v_o, lab, c=item, weight=\"bold\", fontsize=8)\n",
    "        v_o += v_space\n",
    "    else:\n",
    "        for g, col in item.items():\n",
    "            ax.text(h_o, v_o, f\"{lab} (gain {g})\", c=col, weight=\"bold\", fontsize=8)\n",
    "            v_o += v_space\n",
    "\n",
    "pltltr.savefig(\"experiment_types\",folder=\"S8b\")\n",
    "# plt.savefig(\"/Users/luigipetrucco/Desktop/experiment_types_new.pdf\")"
   ]
  },
  {
   "cell_type": "markdown",
   "id": "175dabcc",
   "metadata": {
    "pycharm": {
     "name": "#%% md\n"
    }
   },
   "source": [
    "## Bout-induced phase changes w/ and w/o visual feedback \n",
    "\n",
    "First of all, we crop phase shifts and cumulative theta turned around all bouts as we did in the previous notebook. Then, for every bout we will add a label specifying what was the ongoing stimulus at its onset time:"
   ]
  },
  {
   "cell_type": "code",
   "execution_count": null,
   "id": "fe7d6b21",
   "metadata": {
    "collapsed": false,
    "jupyter": {
     "outputs_hidden": false
    },
    "pycharm": {
     "name": "#%%\n"
    }
   },
   "outputs": [],
   "source": [
    "from lotr.analysis.shift_cropping import crop_shifts_all_dataset\n",
    "from lotr.default_vals import (\n",
    "    DEFAULT_FN,\n",
    "    POST_BOUT_WND_S,\n",
    "    PRE_BOUT_WND_S,\n",
    "    WND_DELTA_PHASE_S,\n",
    ")\n",
    "\n",
    "(\n",
    "    all_phase_cropped,\n",
    "    all_head_cropped,\n",
    "    all_stim_cropped,\n",
    "    events_df,\n",
    "    time_arr,\n",
    ") = crop_shifts_all_dataset(crop_stimulus=True)\n",
    "\n",
    "# TODO: fix this misnaming in actual preprocessing\n",
    "events_df.loc[events_df[\"fid\"] == \"210601_f0_2d_vr_eyes\", \"fid\"] = \"210601_f0_2dvr_eyes\"\n",
    "\n",
    "# add label for condition and gain to every bout:\n",
    "events_df[\"condition\"] = \"-\"\n",
    "events_df[\"gain\"] = np.nan\n",
    "\n",
    "for i in tqdm(events_df.index):\n",
    "    sel_trial = (\n",
    "        (all_stim_conds[\"t_start\"] < events_df.loc[i, \"t_start\"])\n",
    "        & (all_stim_conds[\"t_stop\"] > events_df.loc[i, \"t_start\"])\n",
    "        & (all_stim_conds[\"fid\"] == events_df.loc[i, \"fid\"])\n",
    "    )\n",
    "    events_df.loc[i, \"condition\"] = all_stim_conds.loc[sel_trial, \"condition\"].values\n",
    "    events_df.loc[i, \"exp_type\"] = all_stim_conds.loc[sel_trial, \"exp_type\"].values\n",
    "\n",
    "    if events_df.loc[i, \"condition\"] == \"closed_loop\":\n",
    "        events_df.loc[i, \"gain_theta\"] = all_stim_conds.loc[\n",
    "            sel_trial, \"gain_theta\"\n",
    "        ].values\n",
    "\n",
    "# Calculate amount of shift around each motor event:\n",
    "wnd_pts = (PRE_BOUT_WND_S + WND_DELTA_PHASE_S) * DEFAULT_FN\n",
    "events_df[\"delta_phase\"] = np.nanmean(all_phase_cropped[slice(*wnd_pts), :], 0)\n",
    "events_df[\"delta_head\"] = np.nanmean(all_head_cropped[slice(*wnd_pts), :], 0)"
   ]
  },
  {
   "cell_type": "markdown",
   "id": "687ffcc4",
   "metadata": {
    "pycharm": {
     "name": "#%% md\n"
    }
   },
   "source": [
    "### Effects of gain modulation\n",
    "\n",
    "Now, for `gainmod` experiments, we can calculate whether gain has an effect on peri-event heading-to-phase correlation"
   ]
  },
  {
   "cell_type": "code",
   "execution_count": null,
   "id": "46dadc9d",
   "metadata": {
    "collapsed": false,
    "jupyter": {
     "outputs_hidden": false
    },
    "pycharm": {
     "name": "#%%\n"
    }
   },
   "outputs": [],
   "source": [
    "gains = [0.5, 1, 2, -1]  # fix sequence for consistency\n",
    "\n",
    "# select gainmod stimuli:\n",
    "gainmod_df = events_df[events_df[\"exp_type\"] == \"gainmod\"]\n",
    "gain_results_df = []\n",
    "\n",
    "if len(gainmod_df) > 0:\n",
    "    for fid in gainmod_df[\"fid\"].unique():\n",
    "        gdict = dict(fid=fid)\n",
    "        for g in gains:\n",
    "            sel_df = events_df[\n",
    "                (events_df[\"gain_theta\"] == g) & (events_df[\"fid\"] == fid)\n",
    "            ]\n",
    "            _, corr = linear_regression(sel_df[\"delta_phase\"], sel_df[\"delta_head\"])\n",
    "\n",
    "            gdict[g] = corr\n",
    "            # results_df.append({\"gain\": g, \"fid\": fid, \"corr\": corr})\n",
    "        gain_results_df.append(gdict)\n",
    "\n",
    "    gain_results_df = pd.DataFrame(gain_results_df).set_index(\"fid\")"
   ]
  },
  {
   "cell_type": "code",
   "execution_count": null,
   "id": "8ff441bd",
   "metadata": {
    "collapsed": false,
    "jupyter": {
     "outputs_hidden": false
    },
    "pycharm": {
     "name": "#%%\n"
    }
   },
   "outputs": [],
   "source": [
    "if len(gainmod_df) > 0:\n",
    "    cols = [c for _, c in COLS[\"stim_conditions\"][\"closed_loop\"].items()]\n",
    "\n",
    "    f, ax = plt.subplots(figsize=(2.0, 2), gridspec_kw=dict(left=0.2, bottom=0.2))\n",
    "    pltltr.tick_with_bars(\n",
    "        gain_results_df, cols=cols, lw=1.5, s=0.08,\n",
    "    )\n",
    "    plt.plot(gain_results_df.values.T, lw=1, c=\".8\")\n",
    "    ax.set(\n",
    "        ylabel=(r\"Δhead Δphase $\\alpha$\"),\n",
    "        xlabel=\"Gain\",\n",
    "        xticks=[0, 1, 2, 3],\n",
    "        xticklabels=[0.5, 1, 2, -1],\n",
    "        xlim=(-0.3, 3.3),\n",
    "        ylim=(-4, 1),\n",
    "    )\n",
    "    pltltr.despine(ax)\n",
    "\n",
    "    # run all possible pair-wise tests:\n",
    "    all_res = []\n",
    "    for i in range(len(gains)):\n",
    "        for j in range(i + 1, len(gains)):\n",
    "            test_res = wilcoxon(*[gain_results_df[k] for k in [gains[i], gains[j]]])\n",
    "            print(f\"{gains[i]} vs. {gains[j]}: p={test_res.pvalue}\")\n",
    "            all_res.append(test_res.pvalue)\n",
    "\n",
    "    ax.text(\n",
    "        1.5,\n",
    "        0.5,\n",
    "        pltltr.get_pval_stars(min(all_res)) + \" on all comparisons\",\n",
    "        ha=\"center\",\n",
    "    )\n",
    "\n",
    "    pltltr.savefig(\"different_gains_comparison\")"
   ]
  },
  {
   "cell_type": "code",
   "execution_count": null,
   "id": "11441120",
   "metadata": {
    "collapsed": false,
    "jupyter": {
     "outputs_hidden": false
    },
    "pycharm": {
     "name": "#%%\n"
    }
   },
   "outputs": [],
   "source": [
    "gains"
   ]
  },
  {
   "cell_type": "code",
   "execution_count": null,
   "id": "d7bcd98b",
   "metadata": {
    "collapsed": false,
    "jupyter": {
     "outputs_hidden": false
    },
    "pycharm": {
     "name": "#%%\n"
    }
   },
   "outputs": [],
   "source": [
    "all_res"
   ]
  },
  {
   "cell_type": "code",
   "execution_count": null,
   "id": "4a890dcf",
   "metadata": {
    "collapsed": false,
    "jupyter": {
     "outputs_hidden": false
    },
    "pycharm": {
     "name": "#%%\n"
    }
   },
   "outputs": [],
   "source": [
    "f, axs = plt.subplots(3, 2, figsize=(8, 3), gridspec_kw=dict(wspace=0.35, hspace=0.4))\n",
    "\n",
    "axs_flat = axs.flatten()\n",
    "results_df = []\n",
    "for i, fid in tqdm(enumerate(gainmod_df[\"fid\"].unique())):\n",
    "    path = [d for d in dataset_folders if d.name == fid][0]\n",
    "    exp = LotrExperiment(path)\n",
    "    phase = np.unwrap(exp.network_phase)\n",
    "\n",
    "    fictive_head = exp.fictive_heading\n",
    "\n",
    "    ax = axs_flat[i]\n",
    "    pltltr.plot_exp_condition(\n",
    "        all_stim_conds[all_stim_conds[\"fid\"] == fid], ax=ax, alpha=0.2\n",
    "    )\n",
    "    twin_ax = ax.twinx()\n",
    "    ax.plot(exp.time_arr, fictive_head, c=COLS[\"th_plot\"], label=\"Estimated heading\")\n",
    "    ax.plot([], [], c=COLS[\"ph_plot\"], label=\"Network phase\")\n",
    "    twin_ax.plot(\n",
    "        exp.time_arr, np.unwrap(exp.network_phase), c=COLS[\"ph_plot\"],\n",
    "    )\n",
    "    ax.set_title(exp.exp_code, fontsize=6, loc=\"left\")\n",
    "    lims = twin_ax.get_ylim()\n",
    "    twin_ax.set_ylim((lims[1], lims[0]))\n",
    "    pltltr.add_scalebar(\n",
    "        ax, xlen=500, xpos=100, ylen=0, disable_axis=False, xlabel=\"\", ylabel=\"\"\n",
    "    )\n",
    "\n",
    "    [pltltr.despine(a, [\"top\", \"bottom\"]) for a in [ax, twin_ax]]\n",
    "    for a, col in zip([ax, twin_ax], [COLS[\"th_plot\"], COLS[\"ph_plot\"]]):\n",
    "        [t.set_color(col) for t in a.yaxis.get_ticklines()]\n",
    "        [t.set_color(col) for t in a.yaxis.get_ticklabels()]\n",
    "# ax.axvspan(t_off_s, t_off_s + t_dur_s, lw=0, fc=\".9\", zorder=-100)\n",
    "\n",
    "[pltltr.despine(axs_flat[j], \"all\") for j in range(i + 1, len(axs_flat))]\n",
    "\n",
    "\n",
    "axs[0, -1].legend(\n",
    "    loc=2, bbox_to_anchor=(0.55, 1.7), labelcolor=\"linecolor\", handlelength=0.0\n",
    ")\n",
    "\n",
    "ax_lab = f.add_axes((0.1, 0.02, 0.4, 0.05))\n",
    "for i, (g, col) in enumerate(COLS[\"stim_conditions\"][\"closed_loop\"].items()):\n",
    "    ax_lab.text(i * 0.25, 0, f\"Gain {g}\", c=col, weight=\"bold\", fontsize=8)\n",
    "ax_lab.set(xlim=(-0.1, 1.1), ylim=(-0.1, 1))\n",
    "ax_lab.axis(\"off\")\n",
    "\n",
    "pltltr.savefig(\"gains_comparison\", folder=\"S8\")"
   ]
  },
  {
   "cell_type": "code",
   "execution_count": null,
   "id": "8901ce94",
   "metadata": {
    "collapsed": false,
    "jupyter": {
     "outputs_hidden": false
    },
    "pycharm": {
     "name": "#%%\n"
    }
   },
   "outputs": [],
   "source": [
    "for g in gain_results_df.columns:\n",
    "    logger.add_entry(\n",
    "        f\"slope_gain{g}\",\n",
    "        gain_results_df[g],\n",
    "        fids=list(gain_results_df.index),\n",
    "        moment=\"median\",\n",
    "    )"
   ]
  },
  {
   "cell_type": "markdown",
   "id": "e0176377",
   "metadata": {
    "pycharm": {
     "name": "#%% md\n"
    }
   },
   "source": [
    "There seem to be no effect of the gain!"
   ]
  },
  {
   "cell_type": "markdown",
   "id": "a2cad665",
   "metadata": {
    "pycharm": {
     "name": "#%% md\n"
    }
   },
   "source": [
    "### Effects of closed- vs. open-loop stimuli"
   ]
  },
  {
   "cell_type": "code",
   "execution_count": null,
   "id": "0e196655",
   "metadata": {
    "collapsed": false,
    "jupyter": {
     "outputs_hidden": false
    },
    "pycharm": {
     "name": "#%%\n"
    }
   },
   "outputs": [],
   "source": [
    "# Select fish that have closed loop:\n",
    "# included_fish = events_df.loc[events_df[\"condition\"] == \"closed_loop\", \"fid\"].unique()\n",
    "included_fish = events_df.loc[events_df[\"exp_type\"] == \"clol\", \"fid\"].unique()\n",
    "\n",
    "\n",
    "clol_results_df = []\n",
    "for fid in included_fish:\n",
    "    gdict = dict()\n",
    "    for cl_sel, k in zip(\n",
    "        [\n",
    "            (events_df[\"condition\"] == \"closed_loop\"),\n",
    "            (events_df[\"condition\"] != \"closed_loop\"),\n",
    "        ],\n",
    "        [\"cl\", \"ol\"],\n",
    "    ):\n",
    "        sel_df = events_df[cl_sel & (events_df[\"fid\"] == fid)]\n",
    "        if len(sel_df) > 10:\n",
    "            _, corr = linear_regression(sel_df[\"delta_phase\"], sel_df[\"delta_head\"])\n",
    "        else:\n",
    "            corr = np.nan\n",
    "        gdict[k] = corr\n",
    "        gdict[\"fid\"] = fid\n",
    "\n",
    "    clol_results_df.append(gdict)\n",
    "clol_results_df = pd.DataFrame(clol_results_df).dropna()\n",
    "\n",
    "clol_results_df = clol_results_df.set_index(\"fid\")"
   ]
  },
  {
   "cell_type": "code",
   "execution_count": null,
   "id": "f092fce2",
   "metadata": {
    "collapsed": false,
    "jupyter": {
     "outputs_hidden": false
    },
    "pycharm": {
     "name": "#%%\n"
    }
   },
   "outputs": [],
   "source": [
    "if len(clol_results_df) > 0:\n",
    "    cols = [\n",
    "        COLS[\"stim_conditions\"][\"closed_loop\"][1],\n",
    "        COLS[\"stim_conditions\"][\"natural_motion\"],\n",
    "    ]\n",
    "\n",
    "    f, ax = plt.subplots(figsize=(1.5, 2), gridspec_kw=dict(left=0.5, bottom=0.2))\n",
    "    pltltr.tick_with_bars(\n",
    "        clol_results_df, cols=cols, lw=1.5,\n",
    "    )\n",
    "    plt.plot(clol_results_df.values.T, lw=1, c=\".8\")\n",
    "    ax.set(\n",
    "        ylabel=(r\"Δhead Δphase $\\alpha$\"),\n",
    "        xticks=[0, 1],\n",
    "        xticklabels=[\"closed \\nloop\", \"open \\nloop\"],\n",
    "        xlim=(-0.3, 1.3),\n",
    "        ylim=(-4, 1),\n",
    "    )\n",
    "    test_res = wilcoxon(*[clol_results_df[k] for k in [\"cl\", \"ol\"]])\n",
    "    ax.text(0.5, 0.5, pltltr.get_pval_stars(test_res), ha=\"center\")\n",
    "    pltltr.despine(ax)\n",
    "\n",
    "    pltltr.savefig(\"cl_ol_comparison\")"
   ]
  },
  {
   "cell_type": "markdown",
   "id": "cd226837",
   "metadata": {
    "pycharm": {
     "name": "#%% md\n"
    }
   },
   "source": [
    "Also closed vs. open loop does not really seem to have any effect!"
   ]
  },
  {
   "cell_type": "code",
   "execution_count": null,
   "id": "d2dbca68",
   "metadata": {
    "collapsed": false,
    "jupyter": {
     "outputs_hidden": false
    },
    "pycharm": {
     "name": "#%%\n"
    }
   },
   "outputs": [],
   "source": [
    "f, axs = plt.subplots(4, 2, figsize=(8, 4), gridspec_kw=dict(wspace=0.35, hspace=0.4))\n",
    "\n",
    "axs_flat = axs.flatten()\n",
    "results_df = []\n",
    "for i, fid in tqdm(enumerate(included_fish)):\n",
    "    path = [d for d in dataset_folders if d.name == fid][0]\n",
    "    exp = LotrExperiment(path)\n",
    "    phase = np.unwrap(exp.network_phase)\n",
    "\n",
    "    fictive_head = exp.fictive_heading\n",
    "\n",
    "    ax = axs_flat[i]\n",
    "    pltltr.plot_exp_condition(\n",
    "        all_stim_conds[all_stim_conds[\"fid\"] == fid], ax=ax, alpha=0.2\n",
    "    )\n",
    "    twin_ax = ax.twinx()\n",
    "    ax.plot(exp.time_arr, fictive_head, c=COLS[\"th_plot\"], label=\"Estimated heading\")\n",
    "    ax.plot([], [], c=COLS[\"ph_plot\"], label=\"Network phase\")\n",
    "    twin_ax.plot(\n",
    "        exp.time_arr, np.unwrap(exp.network_phase), c=COLS[\"ph_plot\"],\n",
    "    )\n",
    "    ax.set_title(exp.exp_code, fontsize=6, loc=\"left\")\n",
    "    lims = twin_ax.get_ylim()\n",
    "    twin_ax.set_ylim((lims[1], lims[0]))\n",
    "    pltltr.add_scalebar(\n",
    "        ax, xlen=500, xpos=100, ylen=0, disable_axis=False, xlabel=\"\", ylabel=\"\"\n",
    "    )\n",
    "\n",
    "    [pltltr.despine(a, [\"top\", \"bottom\"]) for a in [ax, twin_ax]]\n",
    "    for a, col in zip([ax, twin_ax], [COLS[\"th_plot\"], COLS[\"ph_plot\"]]):\n",
    "        [t.set_color(col) for t in a.yaxis.get_ticklines()]\n",
    "        [t.set_color(col) for t in a.yaxis.get_ticklabels()]\n",
    "# ax.axvspan(t_off_s, t_off_s + t_dur_s, lw=0, fc=\".9\", zorder=-100)\n",
    "\n",
    "[pltltr.despine(axs_flat[j], \"all\") for j in range(i + 1, len(axs_flat))]\n",
    "\n",
    "axs[0, -1].legend(\n",
    "    loc=2, bbox_to_anchor=(0.55, 1.7), labelcolor=\"linecolor\", handlelength=0.0\n",
    ")\n",
    "\n",
    "ax_lab = f.add_axes((0.1, 0.07, 0.4, 0.05))\n",
    "for i, (lab, col) in enumerate(\n",
    "    zip(\n",
    "        [\"Closed loop\", \"Open loop\"],\n",
    "        [\n",
    "            COLS[\"stim_conditions\"][\"closed_loop\"][1],\n",
    "            COLS[\"stim_conditions\"][\"natural_motion\"],\n",
    "        ],\n",
    "    )\n",
    "):\n",
    "    ax_lab.text(i * 0.25, 0, lab, weight=\"bold\", fontsize=8, c=col)\n",
    "ax_lab.set(xlim=(-0.1, 0.8), ylim=(-0.1, 1))\n",
    "ax_lab.axis(\"off\")\n",
    "\n",
    "pltltr.savefig(\"cl_ol_comparison\", folder=\"S8\")"
   ]
  },
  {
   "cell_type": "code",
   "execution_count": null,
   "id": "6e0f3894",
   "metadata": {
    "collapsed": false,
    "jupyter": {
     "outputs_hidden": false
    },
    "pycharm": {
     "name": "#%%\n"
    }
   },
   "outputs": [],
   "source": [
    "for c in clol_results_df.columns:\n",
    "    logger.add_entry(\n",
    "        f\"slope_{c}\", clol_results_df[c], list(clol_results_df.index), moment=\"median\"\n",
    "    )"
   ]
  },
  {
   "cell_type": "markdown",
   "id": "f938e65a",
   "metadata": {
    "pycharm": {
     "name": "#%% md\n"
    }
   },
   "source": [
    "# Phase bout-triggered averages in closed loop experiments"
   ]
  },
  {
   "cell_type": "code",
   "execution_count": null,
   "id": "0b8db78e",
   "metadata": {
    "collapsed": false,
    "jupyter": {
     "outputs_hidden": false
    },
    "pycharm": {
     "name": "#%%\n"
    }
   },
   "outputs": [],
   "source": [
    "if all_stim_cropped is not None:\n",
    "    included_fish = events_df.loc[events_df[\"exp_type\"] == \"gainmod\", \"fid\"].unique()\n",
    "    # clol_results_df = []\n",
    "\n",
    "    f, axs = plt.subplots(1, 3, figsize=(9, 3), gridspec_kw=dict(right=0.8))\n",
    "\n",
    "    for d in [\"fw\", \"lf\", \"rt\"]:\n",
    "        for gain, lum_c in zip(\n",
    "            [0.5, 1, 2, -1],\n",
    "            [pltltr.shift_lum(COLS[\"sides\"][d], s) for s in [0, 0.2, 0.4]]\n",
    "            + [np.array(COLS[\"sides\"][d])[[2, 0, 1]],],\n",
    "        ):\n",
    "            avgs = [[], [], []]\n",
    "            for fid in included_fish:\n",
    "                sel_df = events_df[\n",
    "                    (events_df[\"gain_theta\"] == gain)\n",
    "                    & (events_df[\"direction\"] == d)\n",
    "                    & (events_df[\"fid\"] == fid)\n",
    "                ]\n",
    "                # plt.plot(np.nanmean(all_phase_cropped[:, sel_df.index], 1), c=COLS[\"sides\"][d], lw=0.5)\n",
    "                # avgs.append(np.nanmean(all_phase_cropped[:, sel_df.index], 1))\n",
    "                # if len()\n",
    "                if len(sel_df) > 5:\n",
    "                    for i, to_crop in enumerate(\n",
    "                        [all_phase_cropped, -all_head_cropped, all_stim_cropped]\n",
    "                    ):\n",
    "                        avgs[i].append(np.nanmedian(to_crop[:, sel_df.index], 1))\n",
    "                        # avgs = np.nanmean(\n",
    "                        #    to_crop[:, sel_df.index], 1\n",
    "                        # np.nanmean(np.array(avgs), 0)\n",
    "\n",
    "            for i, (ax, title) in enumerate(zip(axs, [\"phase\", \"heading\", \"stim\"])):\n",
    "                ax.plot(\n",
    "                    np.nanmean(avgs[i], 0), c=lum_c, lw=2, label=f\"gain {gain}, dir {d}\"\n",
    "                )\n",
    "                pltltr.despine(ax)\n",
    "                ax.set_title(title)\n",
    "\n",
    "            axs[2].legend(loc=2, bbox_to_anchor=(1, 1))"
   ]
  },
  {
   "cell_type": "code",
   "execution_count": null,
   "id": "c82759c5",
   "metadata": {
    "collapsed": false,
    "jupyter": {
     "outputs_hidden": false
    },
    "pycharm": {
     "name": "#%%\n"
    }
   },
   "outputs": [],
   "source": [
    "if all_stim_cropped is not None:\n",
    "    included_fish = events_df.loc[events_df[\"exp_type\"] == \"gainmod\", \"fid\"].unique()\n",
    "    # clol_results_df = []\n",
    "    plt.figure()\n",
    "    for d in [\"fw\", \"lf\", \"rt\"]:\n",
    "        for gain in [0.5, 1, 2, -1]:\n",
    "            avgs = []\n",
    "            for fid in included_fish:\n",
    "                sel_df = events_df[\n",
    "                    (events_df[\"gain_theta\"] == gain)\n",
    "                    & (events_df[\"direction\"] == d)\n",
    "                    & (events_df[\"fid\"] == fid)\n",
    "                ]\n",
    "                # plt.plot(np.nanmean(all_phase_cropped[:, sel_df.index], 1), c=COLS[\"sides\"][d], lw=0.5)\n",
    "                avgs.append(np.nanmean(all_head_cropped[:, sel_df.index], 1))\n",
    "\n",
    "            avgs = np.nanmean(np.array(avgs), 0)\n",
    "            plt.plot(avgs, c=COLS[\"sides\"][d], lw=2)"
   ]
  },
  {
   "cell_type": "code",
   "execution_count": null,
   "id": "b2934fe4",
   "metadata": {
    "collapsed": false,
    "jupyter": {
     "outputs_hidden": false
    },
    "pycharm": {
     "name": "#%%\n"
    }
   },
   "outputs": [],
   "source": [
    "if all_stim_cropped is not None:\n",
    "    included_fish = events_df.loc[events_df[\"exp_type\"] == \"gainmod\", \"fid\"].unique()\n",
    "    # clol_results_df = []\n",
    "    plt.figure()\n",
    "    for d in [\"fw\", \"lf\", \"rt\"]:\n",
    "        for gain in [0.5, 1, 2, -1]:\n",
    "            avgs = []\n",
    "            for fid in included_fish:\n",
    "                sel_df = events_df[\n",
    "                    (events_df[\"gain_theta\"] == gain)\n",
    "                    & (events_df[\"direction\"] == d)\n",
    "                    & (events_df[\"fid\"] == fid)\n",
    "                ]\n",
    "                # plt.plot(np.nanmean(all_phase_cropped[:, sel_df.index], 1), c=COLS[\"sides\"][d], lw=0.5)\n",
    "                avgs.append(np.nanmean(all_phase_cropped[:, sel_df.index], 1))\n",
    "\n",
    "            avgs = np.nanmean(np.array(avgs), 0)\n",
    "            plt.plot(avgs, c=COLS[\"sides\"][d], lw=2)"
   ]
  },
  {
   "cell_type": "code",
   "execution_count": null,
   "id": "5b97112d",
   "metadata": {
    "collapsed": false,
    "jupyter": {
     "outputs_hidden": false
    },
    "pycharm": {
     "name": "#%%\n"
    }
   },
   "outputs": [],
   "source": [
    "plt.plot(avgs.T)\n",
    "plt.show()"
   ]
  },
  {
   "cell_type": "code",
   "execution_count": null,
   "id": "4e37f90b",
   "metadata": {
    "collapsed": false,
    "jupyter": {
     "outputs_hidden": false
    },
    "pycharm": {
     "name": "#%%\n"
    }
   },
   "outputs": [],
   "source": []
  },
  {
   "cell_type": "code",
   "execution_count": null,
   "id": "a9012bf8-e9d4-4e18-84f1-c4aea110d79d",
   "metadata": {},
   "outputs": [],
   "source": [
    "f, axs = plt.subplots(4, 2, figsize=(8, 4), gridspec_kw=dict(wspace=0.35, hspace=0.4))\n",
    "\n",
    "axs_flat = axs.flatten()\n",
    "results_df = []\n",
    "for i, fid in tqdm(enumerate(included_fish)):\n",
    "    path = [d for d in dataset_folders if d.name == fid][0]\n",
    "    exp = LotrExperiment(path)\n",
    "    phase = np.unwrap(exp.network_phase)\n",
    "\n",
    "    fictive_head = exp.fictive_heading\n",
    "\n",
    "    ax = axs_flat[i]\n",
    "    pltltr.plot_exp_condition(\n",
    "        all_stim_conds[all_stim_conds[\"fid\"] == fid], ax=ax, alpha=0.2\n",
    "    )\n",
    "    twin_ax = ax.twinx()\n",
    "    ax.plot(exp.time_arr, fictive_head, c=COLS[\"th_plot\"], label=\"Estimated heading\")\n",
    "    ax.plot([], [], c=COLS[\"ph_plot\"], label=\"Network phase\")\n",
    "    twin_ax.plot(\n",
    "        exp.time_arr, np.unwrap(exp.network_phase), c=COLS[\"ph_plot\"],\n",
    "    )\n",
    "    ax.set_title(exp.exp_code, fontsize=6, loc=\"left\")\n",
    "    lims = twin_ax.get_ylim()\n",
    "    twin_ax.set_ylim((lims[1], lims[0]))\n",
    "    pltltr.add_scalebar(\n",
    "        ax, xlen=500, xpos=100, ylen=0, disable_axis=False, xlabel=\"\", ylabel=\"\"\n",
    "    )\n",
    "\n",
    "    [pltltr.despine(a, [\"top\", \"bottom\"]) for a in [ax, twin_ax]]\n",
    "    for a, col in zip([ax, twin_ax], [COLS[\"th_plot\"], COLS[\"ph_plot\"]]):\n",
    "        [t.set_color(col) for t in a.yaxis.get_ticklines()]\n",
    "        [t.set_color(col) for t in a.yaxis.get_ticklabels()]\n",
    "# ax.axvspan(t_off_s, t_off_s + t_dur_s, lw=0, fc=\".9\", zorder=-100)\n",
    "\n",
    "[pltltr.despine(axs_flat[j], \"all\") for j in range(i + 1, len(axs_flat))]\n",
    "\n",
    "axs[0, -1].legend(\n",
    "    loc=2, bbox_to_anchor=(0.55, 1.7), labelcolor=\"linecolor\", handlelength=0.0\n",
    ")\n",
    "\n",
    "ax_lab = f.add_axes((0.1, 0.07, 0.4, 0.05))\n",
    "for i, (lab, col) in enumerate(\n",
    "    zip(\n",
    "        [\"Closed loop\", \"Open loop\"],\n",
    "        [\n",
    "            COLS[\"stim_conditions\"][\"closed_loop\"][1],\n",
    "            COLS[\"stim_conditions\"][\"natural_motion\"],\n",
    "        ],\n",
    "    )\n",
    "):\n",
    "    ax_lab.text(i * 0.25, 0, lab, weight=\"bold\", fontsize=8, c=col)\n",
    "ax_lab.set(xlim=(-0.1, 0.8), ylim=(-0.1, 1))\n",
    "ax_lab.axis(\"off\")\n",
    "\n",
    "pltltr.savefig(\"cl_ol_comparison\", folder=\"S8\")"
   ]
  },
  {
   "cell_type": "code",
   "execution_count": null,
   "id": "0182fca6-44c8-47c7-a73e-7ca802498740",
   "metadata": {},
   "outputs": [],
   "source": [
    "for c in clol_results_df.columns:\n",
    "    logger.add_entry(\n",
    "        f\"slope_{c}\", clol_results_df[c], list(clol_results_df.index), moment=\"median\"\n",
    "    )"
   ]
  },
  {
   "cell_type": "markdown",
   "id": "83b3e51d-dfc7-444f-9dcd-b167db333e2f",
   "metadata": {},
   "source": [
    "# Phase bout-triggered averages in closed loop experiments"
   ]
  },
  {
   "cell_type": "code",
   "execution_count": null,
   "id": "6e18dcad-3913-40fd-8674-5f0a16469484",
   "metadata": {},
   "outputs": [],
   "source": [
    "if all_stim_cropped is not None:\n",
    "    included_fish = events_df.loc[events_df[\"exp_type\"] == \"gainmod\", \"fid\"].unique()\n",
    "    # clol_results_df = []\n",
    "\n",
    "    f, axs = plt.subplots(1, 3, figsize=(9, 3), gridspec_kw=dict(right=0.8))\n",
    "\n",
    "    for d in [\"fw\", \"lf\", \"rt\"]:\n",
    "        for gain, lum_c in zip(\n",
    "            [0.5, 1, 2, -1],\n",
    "            [pltltr.shift_lum(COLS[\"sides\"][d], s) for s in [0, 0.2, 0.4]]\n",
    "            + [np.array(COLS[\"sides\"][d])[[2, 0, 1]],],\n",
    "        ):\n",
    "            avgs = [[], [], []]\n",
    "            for fid in included_fish:\n",
    "                sel_df = events_df[\n",
    "                    (events_df[\"gain_theta\"] == gain)\n",
    "                    & (events_df[\"direction\"] == d)\n",
    "                    & (events_df[\"fid\"] == fid)\n",
    "                ]\n",
    "                # plt.plot(np.nanmean(all_phase_cropped[:, sel_df.index], 1), c=COLS[\"sides\"][d], lw=0.5)\n",
    "                # avgs.append(np.nanmean(all_phase_cropped[:, sel_df.index], 1))\n",
    "                # if len()\n",
    "                if len(sel_df) > 5:\n",
    "                    for i, to_crop in enumerate(\n",
    "                        [all_phase_cropped, -all_head_cropped, all_stim_cropped]\n",
    "                    ):\n",
    "                        avgs[i].append(np.nanmedian(to_crop[:, sel_df.index], 1))\n",
    "                        # avgs = np.nanmean(\n",
    "                        #    to_crop[:, sel_df.index], 1\n",
    "                        # np.nanmean(np.array(avgs), 0)\n",
    "\n",
    "            for i, (ax, title) in enumerate(zip(axs, [\"phase\", \"heading\", \"stim\"])):\n",
    "                ax.plot(\n",
    "                    np.nanmean(avgs[i], 0), c=lum_c, lw=2, label=f\"gain {gain}, dir {d}\"\n",
    "                )\n",
    "                pltltr.despine(ax)\n",
    "                ax.set_title(title)\n",
    "\n",
    "            axs[2].legend(loc=2, bbox_to_anchor=(1, 1))"
   ]
  },
  {
   "cell_type": "code",
   "execution_count": null,
   "id": "a5f04f76-a879-4fd8-8b97-73c53abdd944",
   "metadata": {},
   "outputs": [],
   "source": [
    "if all_stim_cropped is not None:\n",
    "    included_fish = events_df.loc[events_df[\"exp_type\"] == \"gainmod\", \"fid\"].unique()\n",
    "    # clol_results_df = []\n",
    "    plt.figure()\n",
    "    for d in [\"fw\", \"lf\", \"rt\"]:\n",
    "        for gain in [0.5, 1, 2, -1]:\n",
    "            avgs = []\n",
    "            for fid in included_fish:\n",
    "                sel_df = events_df[\n",
    "                    (events_df[\"gain_theta\"] == gain)\n",
    "                    & (events_df[\"direction\"] == d)\n",
    "                    & (events_df[\"fid\"] == fid)\n",
    "                ]\n",
    "                # plt.plot(np.nanmean(all_phase_cropped[:, sel_df.index], 1), c=COLS[\"sides\"][d], lw=0.5)\n",
    "                avgs.append(np.nanmean(all_head_cropped[:, sel_df.index], 1))\n",
    "\n",
    "            avgs = np.nanmean(np.array(avgs), 0)\n",
    "            plt.plot(avgs, c=COLS[\"sides\"][d], lw=2)"
   ]
  },
  {
   "cell_type": "code",
   "execution_count": null,
   "id": "e1f943ef-76f3-4181-a1e5-3dfe5240ce94",
   "metadata": {},
   "outputs": [],
   "source": [
    "if all_stim_cropped is not None:\n",
    "    included_fish = events_df.loc[events_df[\"exp_type\"] == \"gainmod\", \"fid\"].unique()\n",
    "    # clol_results_df = []\n",
    "    plt.figure()\n",
    "    for d in [\"fw\", \"lf\", \"rt\"]:\n",
    "        for gain in [0.5, 1, 2, -1]:\n",
    "            avgs = []\n",
    "            for fid in included_fish:\n",
    "                sel_df = events_df[\n",
    "                    (events_df[\"gain_theta\"] == gain)\n",
    "                    & (events_df[\"direction\"] == d)\n",
    "                    & (events_df[\"fid\"] == fid)\n",
    "                ]\n",
    "                # plt.plot(np.nanmean(all_phase_cropped[:, sel_df.index], 1), c=COLS[\"sides\"][d], lw=0.5)\n",
    "                avgs.append(np.nanmean(all_phase_cropped[:, sel_df.index], 1))\n",
    "\n",
    "            avgs = np.nanmean(np.array(avgs), 0)\n",
    "            plt.plot(avgs, c=COLS[\"sides\"][d], lw=2)"
   ]
  },
  {
   "cell_type": "code",
   "execution_count": null,
   "id": "cfe7f321-3679-46c2-b80b-79c03b148b04",
   "metadata": {},
   "outputs": [],
   "source": [
    "plt.plot(avgs.T)\n",
    "plt.show()"
   ]
  },
  {
   "cell_type": "code",
   "execution_count": null,
   "id": "e02b1f21-1cd0-4486-a097-b29ac86b4b57",
   "metadata": {},
   "outputs": [],
   "source": []
  }
 ],
 "metadata": {
  "kernelspec": {
   "display_name": "rplab",
   "language": "python",
   "name": "rplab"
  },
  "language_info": {
   "codemirror_mode": {
    "name": "ipython",
    "version": 3
   },
   "file_extension": ".py",
   "mimetype": "text/x-python",
   "name": "python",
   "nbconvert_exporter": "python",
   "pygments_lexer": "ipython3",
   "version": "3.8.8"
  }
 },
 "nbformat": 4,
 "nbformat_minor": 5
}

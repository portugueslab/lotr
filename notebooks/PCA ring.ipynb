{
 "cells": [
  {
   "cell_type": "code",
   "execution_count": null,
   "id": "b90b3317",
   "metadata": {},
   "outputs": [],
   "source": [
    "%matplotlib widget\n",
    "from pathlib import Path\n",
    "from tqdm import tqdm\n",
    "import pandas as pd\n",
    "import numpy as np\n",
    "\n",
    "from lotr.experiment_class import LotrExperiment"
   ]
  },
  {
   "cell_type": "code",
   "execution_count": null,
   "id": "1534cd4e",
   "metadata": {},
   "outputs": [],
   "source": [
    "master_path = Path(\"/Users/luigipetrucco/Desktop/all_source_data/full_ring\")\n",
    "file_list = list(master_path.glob(\"*/*[0-9]_f*\"))"
   ]
  },
  {
   "cell_type": "code",
   "execution_count": null,
   "id": "4866ea22",
   "metadata": {},
   "outputs": [],
   "source": [
    "exp = LotrExperiment(\"/Users/luigipetrucco/Desktop/all_source_data/full_ring/210805_f3/210805_f3_cwccw\")"
   ]
  },
  {
   "cell_type": "code",
   "execution_count": null,
   "id": "9f8a69ff",
   "metadata": {},
   "outputs": [],
   "source": [
    "[s[\"name\"] for s in exp[\"stimulus\"][\"log\"]]"
   ]
  },
  {
   "cell_type": "code",
   "execution_count": null,
   "id": "2c35e01a",
   "metadata": {},
   "outputs": [],
   "source": []
  },
  {
   "cell_type": "code",
   "execution_count": null,
   "id": "b23181f0",
   "metadata": {},
   "outputs": [],
   "source": []
  },
  {
   "cell_type": "code",
   "execution_count": null,
   "id": "6f0b3bd5",
   "metadata": {},
   "outputs": [],
   "source": []
  }
 ],
 "metadata": {
  "kernelspec": {
   "display_name": "rplab",
   "language": "python",
   "name": "rplab"
  },
  "language_info": {
   "codemirror_mode": {
    "name": "ipython",
    "version": 3
   },
   "file_extension": ".py",
   "mimetype": "text/x-python",
   "name": "python",
   "nbconvert_exporter": "python",
   "pygments_lexer": "ipython3"
  }
 },
 "nbformat": 4,
 "nbformat_minor": 5
}

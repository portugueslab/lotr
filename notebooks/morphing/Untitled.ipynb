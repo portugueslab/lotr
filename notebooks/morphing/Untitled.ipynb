{
 "cells": [
  {
   "cell_type": "code",
   "execution_count": null,
   "id": "9e85da98-7b87-4f10-975c-1da8d926c87e",
   "metadata": {},
   "outputs": [],
   "source": [
    "# Refine IPN reference\n",
    "\n",
    "from pathlib import Path\n",
    "\n",
    "import numpy as np\n",
    "from scipy.ndimage import rotate\n",
    "from tifffile import imread, imwrite\n",
    "from tqdm import tqdm"
   ]
  },
  {
   "cell_type": "code",
   "execution_count": null,
   "id": "83f77a8a-0494-4f87-9a64-7d988319d7a7",
   "metadata": {},
   "outputs": [],
   "source": [
    "ref_folder = Path(\n",
    "    \"/Users/luigipetrucco/Google Drive/data/all_source_data/anatomy/ipn_zfish_0.5_um_v1.6\"\n",
    ")"
   ]
  },
  {
   "cell_type": "code",
   "execution_count": null,
   "id": "a69bc756-90a7-435f-92d9-94f9a9025c22",
   "metadata": {},
   "outputs": [],
   "source": [
    "for file in tqdm(list(ref_folder.glob(\"*.tiff\"))):\n",
    "    if file.stem != \"annotation\" and file.stem != \"gad1b_gal4\":\n",
    "        imwrite(file, rotate(imread(file), -1.5, reshape=False, axes=(1, 2), order=3))"
   ]
  },
  {
   "cell_type": "code",
   "execution_count": null,
   "id": "bd64ad2d-8c94-4ddb-8e13-803416ba45fb",
   "metadata": {},
   "outputs": [],
   "source": [
    "for file in tqdm(list(ref_folder.glob(\"*.tiff\"))):\n",
    "    if file.stem == \"annotation\":\n",
    "        imwrite(file, rotate(imread(file), -3, reshape=False, axes=(1, 2), order=0))"
   ]
  },
  {
   "cell_type": "code",
   "execution_count": null,
   "id": "969b883a-5ec7-4897-8455-c0df65de8b85",
   "metadata": {},
   "outputs": [],
   "source": [
    "rotate(imread(file), -3, reshape=False, axes=(1, 2), order=0)"
   ]
  },
  {
   "cell_type": "code",
   "execution_count": null,
   "id": "7d18260c-1f2c-46ee-86b9-b04bc781ba8b",
   "metadata": {},
   "outputs": [],
   "source": []
  }
 ],
 "metadata": {
  "kernelspec": {
   "display_name": "rplab",
   "language": "python",
   "name": "rplab"
  },
  "language_info": {
   "codemirror_mode": {
    "name": "ipython",
    "version": 3
   },
   "file_extension": ".py",
   "mimetype": "text/x-python",
   "name": "python",
   "nbconvert_exporter": "python",
   "pygments_lexer": "ipython3"
  }
 },
 "nbformat": 4,
 "nbformat_minor": 5
}

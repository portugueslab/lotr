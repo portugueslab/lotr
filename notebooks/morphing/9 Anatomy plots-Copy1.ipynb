{
 "cells": [
  {
   "cell_type": "markdown",
   "id": "81a14bf7-d3d9-4810-94bb-9fc3e41ba04b",
   "metadata": {},
   "source": [
    "# Anatomy of ring and motor-related neurons in the hindbrain"
   ]
  },
  {
   "cell_type": "code",
   "execution_count": null,
   "id": "19004331-d41d-439e-a63a-810a2cae7e23",
   "metadata": {},
   "outputs": [],
   "source": [
    "%matplotlib widget\n",
    "# %gui qt\n",
    "from pathlib import Path\n",
    "from shutil import copy\n",
    "\n",
    "import flammkuchen as fl\n",
    "import napari\n",
    "import numpy as np\n",
    "import pandas as pd\n",
    "from lotr import LotrExperiment, dataset_folders\n",
    "from matplotlib import pyplot as plt\n",
    "from tqdm import tqdm"
   ]
  },
  {
   "cell_type": "code",
   "execution_count": null,
   "id": "17383367-ace3-4beb-9fc4-74fe29d35dd6",
   "metadata": {},
   "outputs": [],
   "source": [
    "i = 0\n",
    "all_centroids = dict()"
   ]
  },
  {
   "cell_type": "code",
   "execution_count": null,
   "id": "922a14a4-cb2e-4040-b260-b3236a70fc9a",
   "metadata": {},
   "outputs": [],
   "source": []
  },
  {
   "cell_type": "code",
   "execution_count": null,
   "id": "dcef1363-de19-4e6b-b997-f7811b7b4219",
   "metadata": {},
   "outputs": [],
   "source": []
  },
  {
   "cell_type": "code",
   "execution_count": null,
   "id": "cff4898c-97cb-42ea-870f-dfae8c60cc13",
   "metadata": {},
   "outputs": [],
   "source": [
    "path = dataset_folders[i]\n",
    "# for path in dataset_folders[:2]:\n",
    "exp = LotrExperiment(path)\n",
    "v = napari.Viewer()\n",
    "anatomy_stack = exp.anatomy_stack\n",
    "roi_stack = exp.rois_stack + 1\n",
    "\n",
    "v.add_image(anatomy_stack, contrast_limits=(0, 30))\n",
    "v.add_labels(roi_stack)\n",
    "pts = v.add_points([], ndim=3)"
   ]
  },
  {
   "cell_type": "code",
   "execution_count": null,
   "id": "ed007a74-6368-4a34-b670-8eedb7500f1e",
   "metadata": {},
   "outputs": [],
   "source": [
    "all_centroids[path.name] = pts.data\n",
    "i += 1\n",
    "v.close()"
   ]
  },
  {
   "cell_type": "code",
   "execution_count": null,
   "id": "add86f4d-7994-4f55-a04e-a68e6788194a",
   "metadata": {},
   "outputs": [],
   "source": [
    "all_centroids"
   ]
  },
  {
   "cell_type": "code",
   "execution_count": null,
   "id": "b1c428af-4c6c-4479-9bcf-09c8d7c38cfd",
   "metadata": {},
   "outputs": [],
   "source": [
    "fl.save(\"/Users/luigipetrucco/Desktop/centroids.h5\", all_centroids)"
   ]
  },
  {
   "cell_type": "code",
   "execution_count": null,
   "id": "aada0396-dd56-486f-af30-ecb7d65b72c2",
   "metadata": {},
   "outputs": [],
   "source": []
  },
  {
   "cell_type": "code",
   "execution_count": null,
   "id": "d3eb7528-1724-4d79-bebe-7d33f59875e3",
   "metadata": {},
   "outputs": [],
   "source": [
    "for path, (name, vals) in zip(dataset_folders, all_centroids.items()):\n",
    "    assert path.name == name\n",
    "\n",
    "    with open(path / \"centroid.txt\", \"w\") as f:\n",
    "        f.writelines([f\"{vals[0, i]}\\n\" for i in [0, 2, 1]])"
   ]
  },
  {
   "cell_type": "code",
   "execution_count": null,
   "id": "54fa63a1-f9bc-43a5-9d4a-a4ec4e817f73",
   "metadata": {},
   "outputs": [],
   "source": [
    "data_df = []\n",
    "for path in tqdm(dataset_folders):\n",
    "    exp = LotrExperiment(path)\n",
    "    coords = exp.coords_um\n",
    "    cent_coords = exp.morphed_coords_um\n",
    "\n",
    "    data_dict = {f\"c{i}\": coords[:, i] for i in range(3)}\n",
    "    data_dict.update({f\"centered{i}\": cent_coords[:, i] for i in range(3)})\n",
    "    data_dict[\"fid\"] = path.name\n",
    "\n",
    "    data_df.append(pd.DataFrame(data_dict))\n",
    "\n",
    "data_df = pd.concat(data_df, ignore_index=1)"
   ]
  },
  {
   "cell_type": "code",
   "execution_count": null,
   "id": "1cabce65-4904-4b0d-87e1-9e60287ac6a8",
   "metadata": {},
   "outputs": [],
   "source": [
    "f, axs = plt.subplots(1, 2, figsize=(7, 3))\n",
    "axs[0].scatter(\n",
    "    data_df[\"c1\"], data_df[\"c2\"], lw=0, s=5, alpha=0.03, color=(0.3,) * 3,\n",
    ")\n",
    "axs[1].scatter(\n",
    "    data_df[\"c1\"], -data_df[\"c0\"] * 10, lw=0, s=5, alpha=0.03, color=(0.3,) * 3,\n",
    ")\n",
    "for i in range(2):\n",
    "    # axs[i].set_title(k)\n",
    "    axs[i].axis(\"equal\")\n",
    "    axs[i].axis(\"off\")"
   ]
  },
  {
   "cell_type": "code",
   "execution_count": null,
   "id": "aa9e7d40-f57c-4fec-8b3e-4088aa8bff4f",
   "metadata": {},
   "outputs": [],
   "source": []
  }
 ],
 "metadata": {
  "kernelspec": {
   "display_name": "rplab",
   "language": "python",
   "name": "rplab"
  },
  "language_info": {
   "codemirror_mode": {
    "name": "ipython",
    "version": 3
   },
   "file_extension": ".py",
   "mimetype": "text/x-python",
   "name": "python",
   "nbconvert_exporter": "python",
   "pygments_lexer": "ipython3"
  }
 },
 "nbformat": 4,
 "nbformat_minor": 5
}

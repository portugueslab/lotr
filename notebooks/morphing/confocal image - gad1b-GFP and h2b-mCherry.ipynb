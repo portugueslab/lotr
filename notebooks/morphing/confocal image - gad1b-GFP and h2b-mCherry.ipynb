{
 "cells": [
  {
   "cell_type": "markdown",
   "id": "internal-carry",
   "metadata": {},
   "source": [
    "This notebook generates a nice anatomy figure of the gad1b line on top of huc:h2b-mCherry"
   ]
  },
  {
   "cell_type": "code",
   "execution_count": null,
   "id": "injured-uniform",
   "metadata": {},
   "outputs": [],
   "source": [
    "%matplotlib widget"
   ]
  },
  {
   "cell_type": "code",
   "execution_count": null,
   "id": "necessary-panic",
   "metadata": {},
   "outputs": [],
   "source": [
    "from pathlib import Path\n",
    "\n",
    "import matplotlib.pyplot as plt\n",
    "import nrrd\n",
    "import numpy as np\n",
    "import tifffile as tiff\n",
    "from PIL import Image, ImageDraw\n",
    "from scipy.stats import zscore\n",
    "from skimage import exposure"
   ]
  },
  {
   "cell_type": "code",
   "execution_count": null,
   "id": "perceived-program",
   "metadata": {},
   "outputs": [],
   "source": [
    "# Loading confocal stacks of onr of the fish\n",
    "# master = Path(r\"\\\\Funes\\Shared\\experiments\\E0038_confocal\\v004_ipn_reference\\211108_h2b-mcherry_gad1b-gfp\\f2\")\n",
    "master = Path(\n",
    "    \"/Volumes/Shared/experiments/E0038_confocal/v004_ipn_reference/211108_h2b-mcherry_gad1b-gfp/f2\"\n",
    ")\n",
    "anatomy_h2b = tiff.imread(list(master.glob(\"*C1-Experiment*\"))[0])\n",
    "anatomy_gad1b = tiff.imread(list(master.glob(\"*C2-Experiment*\"))[0])"
   ]
  },
  {
   "cell_type": "markdown",
   "id": "ancient-russia",
   "metadata": {},
   "source": [
    "### Creating an unprocessed figure of the stacks"
   ]
  },
  {
   "cell_type": "code",
   "execution_count": null,
   "id": "medical-tongue",
   "metadata": {},
   "outputs": [],
   "source": [
    "fig_anatomy, ax_anatomy = plt.subplots(\n",
    "    1, 2, figsize=(6, 5), gridspec_kw={\"width_ratios\": [4, 1]}\n",
    ")\n",
    "fig_anatomy.tight_layout()\n",
    "\n",
    "\n",
    "tmp_view = np.nanmean(anatomy_h2b, axis=0)\n",
    "ax_anatomy[0].imshow(tmp_view, cmap=\"gray_r\", vmin=5, vmax=80, extent=[0, 100, 0, 100])\n",
    "ax_anatomy[0].axis(\"off\")\n",
    "\n",
    "tmp_view = np.nanmean(anatomy_gad1b, axis=0)\n",
    "ax_anatomy[0].imshow(\n",
    "    tmp_view, cmap=\"Blues\", alpha=0.5, vmin=0, vmax=20, extent=[0, 100, 0, 100]\n",
    ")\n",
    "\n",
    "tmp_view = np.nanmean(anatomy_h2b, axis=2).T\n",
    "ax_anatomy[1].imshow(tmp_view, cmap=\"gray_r\", vmin=5, vmax=80, extent=[0, 25, 0, 100])\n",
    "ax_anatomy[1].axis(\"off\")\n",
    "\n",
    "tmp_view = np.nanmean(anatomy_gad1b, axis=2).T\n",
    "ax_anatomy[1].imshow(\n",
    "    tmp_view, cmap=\"Blues\", alpha=0.5, vmin=0, vmax=20, extent=[0, 25, 0, 100]\n",
    ")\n",
    "fig_anatomy.tight_layout()\n",
    "plt.show()\n",
    "file_name = \"anatomy_figure.jpg\"\n",
    "fig_anatomy.savefig(str(master / file_name))"
   ]
  },
  {
   "cell_type": "markdown",
   "id": "corporate-intranet",
   "metadata": {},
   "source": [
    "### Creating a zscored masked image of the stack"
   ]
  },
  {
   "cell_type": "code",
   "execution_count": null,
   "id": "sustainable-morgan",
   "metadata": {},
   "outputs": [],
   "source": [
    "# creating a mask (masking out the eyes):\n",
    "num_planes, nx, ny = np.shape(anatomy_gad1b)\n",
    "img = Image.new(\"L\", [nx, ny], 0)\n",
    "x1 = 300\n",
    "y2 = 650\n",
    "y1 = 400\n",
    "x2 = 300\n",
    "ImageDraw.Draw(img).polygon(\n",
    "    [\n",
    "        (x1, 0),\n",
    "        (x1, y1),\n",
    "        (0, y2),\n",
    "        (0, 700),\n",
    "        (x2, 1024),\n",
    "        (1024 - x2, 1024),\n",
    "        (1024, 700),\n",
    "        (1024, y2),\n",
    "        (1024 - x1, y1),\n",
    "        (1024 - x1, 0),\n",
    "    ],\n",
    "    outline=1,\n",
    "    fill=1,\n",
    ")\n",
    "mask = np.array(img)\n",
    "print(np.shape(mask))"
   ]
  },
  {
   "cell_type": "code",
   "execution_count": null,
   "id": "tribal-commodity",
   "metadata": {},
   "outputs": [],
   "source": [
    "gad1b_norm = np.zeros_like(anatomy_gad1b, dtype=float)\n",
    "for i in range(num_planes):\n",
    "    tmp_plane = zscore(anatomy_gad1b[i])\n",
    "    tmp_plane *= mask\n",
    "    gad1b_norm[i] = tmp_plane"
   ]
  },
  {
   "cell_type": "code",
   "execution_count": null,
   "id": "remarkable-ecology",
   "metadata": {},
   "outputs": [],
   "source": [
    "fig_anatomy, ax_anatomy = plt.subplots(\n",
    "    1, 2, figsize=(6, 5), gridspec_kw={\"width_ratios\": [4, 1]}\n",
    ")\n",
    "fig_anatomy.tight_layout()\n",
    "\n",
    "\n",
    "tmp_view = np.nanmean(anatomy_h2b, axis=0)\n",
    "ax_anatomy[0].imshow(tmp_view, cmap=\"gray_r\", vmin=5, vmax=80, extent=[0, 100, 0, 100])\n",
    "ax_anatomy[0].axis(\"off\")\n",
    "\n",
    "tmp_view = np.nanmean(gad1b_norm, axis=0)\n",
    "ax_anatomy[0].imshow(\n",
    "    tmp_view, cmap=\"Blues\", alpha=0.5, vmin=0, vmax=1.0, extent=[0, 100, 0, 100]\n",
    ")\n",
    "\n",
    "tmp_view = np.nanmean(anatomy_h2b, axis=2).T\n",
    "ax_anatomy[1].imshow(tmp_view, cmap=\"gray_r\", vmin=5, vmax=80, extent=[0, 25, 0, 100])\n",
    "ax_anatomy[1].axis(\"off\")\n",
    "\n",
    "tmp_view = np.nanmean(gad1b_norm, axis=2).T\n",
    "ax_anatomy[1].imshow(\n",
    "    tmp_view, cmap=\"Blues\", alpha=0.5, vmin=0, vmax=1.0, extent=[0, 25, 0, 100]\n",
    ")\n",
    "fig_anatomy.tight_layout()\n",
    "plt.show()\n",
    "file_name = \"anatomy_figure_zscore_masked.jpg\"\n",
    "fig_anatomy.savefig(str(master / file_name))"
   ]
  },
  {
   "cell_type": "markdown",
   "id": "wanted-strip",
   "metadata": {},
   "source": [
    "### Creating a masked image of the stack (adjusting gamma)"
   ]
  },
  {
   "cell_type": "code",
   "execution_count": null,
   "id": "frequent-toner",
   "metadata": {},
   "outputs": [],
   "source": [
    "gad1b_norm2 = np.copy(anatomy_gad1b)\n",
    "for i in range(num_planes):\n",
    "    tmp_plane = anatomy_ga1b[i]\n",
    "    gad1b_norm2[i] = exposure.adjust_gamma(tmp_plane, 1.5)\n",
    "    gad1b_norm2[i] *= mask"
   ]
  },
  {
   "cell_type": "code",
   "execution_count": null,
   "id": "military-doctrine",
   "metadata": {},
   "outputs": [],
   "source": [
    "fig_anatomy, ax_anatomy = plt.subplots(\n",
    "    1, 2, figsize=(6, 5), gridspec_kw={\"width_ratios\": [4, 1]}\n",
    ")\n",
    "fig_anatomy.tight_layout()\n",
    "\n",
    "\n",
    "tmp_view = np.nanmean(anatomy_h2b, axis=0)\n",
    "ax_anatomy[0].imshow(tmp_view, cmap=\"gray_r\", vmin=5, vmax=80, extent=[0, 100, 0, 100])\n",
    "ax_anatomy[0].axis(\"off\")\n",
    "\n",
    "tmp_view = np.nanmean(gad1b_norm2, axis=0)\n",
    "ax_anatomy[0].imshow(\n",
    "    tmp_view, cmap=\"Blues\", alpha=0.5, vmin=0, vmax=2.0, extent=[0, 100, 0, 100]\n",
    ")\n",
    "\n",
    "tmp_view = np.nanmean(anatomy_h2b, axis=2).T\n",
    "ax_anatomy[1].imshow(tmp_view, cmap=\"gray_r\", vmin=5, vmax=80, extent=[0, 25, 0, 100])\n",
    "ax_anatomy[1].axis(\"off\")\n",
    "\n",
    "tmp_view = np.nanmean(gad1b_norm2, axis=2).T\n",
    "ax_anatomy[1].imshow(\n",
    "    tmp_view, cmap=\"Blues\", alpha=0.5, vmin=0, vmax=2.0, extent=[0, 25, 0, 100]\n",
    ")\n",
    "fig_anatomy.tight_layout()\n",
    "plt.show()\n",
    "file_name = \"anatomy_figure_zscore_masked2.jpg\"\n",
    "fig_anatomy.savefig(str(master / file_name))"
   ]
  },
  {
   "cell_type": "code",
   "execution_count": null,
   "id": "neutral-guest",
   "metadata": {},
   "outputs": [],
   "source": []
  }
 ],
 "metadata": {
  "kernelspec": {
   "display_name": "Python 3 (ipykernel)",
   "language": "python",
   "name": "python3"
  },
  "language_info": {
   "codemirror_mode": {
    "name": "ipython",
    "version": 3
   },
   "file_extension": ".py",
   "mimetype": "text/x-python",
   "name": "python",
   "nbconvert_exporter": "python",
   "pygments_lexer": "ipython3"
  }
 },
 "nbformat": 4,
 "nbformat_minor": 5
}

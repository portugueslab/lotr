{
 "cells": [
  {
   "cell_type": "code",
   "execution_count": null,
   "id": "liquid-small",
   "metadata": {},
   "outputs": [],
   "source": [
    "import numpy as np\n",
    "import nrrd\n",
    "import tifffile as tiff\n",
    "from pathlib import Path\n",
    "import flammkuchen as fl\n",
    "import os.path"
   ]
  },
  {
   "cell_type": "code",
   "execution_count": null,
   "id": "joined-classification",
   "metadata": {},
   "outputs": [],
   "source": [
    "master =  Path(r\"\\\\Funes\\Shared\\experiments\\E0071_lotr\\full_ring\")"
   ]
  },
  {
   "cell_type": "code",
   "execution_count": null,
   "id": "duplicate-separation",
   "metadata": {},
   "outputs": [],
   "source": [
    "# find suite2p files: \n",
    "files_path = list(master.glob(\"*_f*/**/data_from_suite2p_unfiltered.h5\"))"
   ]
  },
  {
   "cell_type": "code",
   "execution_count": null,
   "id": "bulgarian-duration",
   "metadata": {},
   "outputs": [],
   "source": [
    "# For a single fish\n",
    "suite2p_file = fl.load(files_path[0])\n",
    "anatomy = suite2p_file['anatomy_stack']\n",
    "dir_path = os.path.dirname(str(files_path[0]))\n",
    "file_name = Path(dir_path) / 'anatomy_suite2p.tiff'\n",
    "tiff.imsave(file_name, anatomy)\n",
    "file_name = Path(dir_path) / 'anatomy_suite2p.nrrd'\n",
    "nrrd.write(str(file_name), anatomy, index_order='C')"
   ]
  },
  {
   "cell_type": "code",
   "execution_count": null,
   "id": "legendary-czech",
   "metadata": {},
   "outputs": [],
   "source": [
    "# For all fish in master \n",
    "for f in files_path:\n",
    "    print(f)\n",
    "    suite2p_file = fl.load(f)\n",
    "    anatomy = suite2p_file['anatomy_stack']\n",
    "    dir_path = os.path.dirname(str(f))\n",
    "    file_name = Path(dir_path) / 'anatomy_suite2p.tiff'\n",
    "    tiff.imsave(file_name, anatomy)\n",
    "    file_name = Path(dir_path) / 'anatomy_suite2p.nrrd'\n",
    "    nrrd.write(str(file_name), anatomy, index_order='C')"
   ]
  },
  {
   "cell_type": "code",
   "execution_count": null,
   "id": "frank-surfing",
   "metadata": {},
   "outputs": [],
   "source": []
  },
  {
   "cell_type": "code",
   "execution_count": null,
   "id": "dirty-services",
   "metadata": {},
   "outputs": [],
   "source": []
  }
 ],
 "metadata": {
  "kernelspec": {
   "display_name": "Python 3",
   "language": "python",
   "name": "python3"
  },
  "language_info": {
   "codemirror_mode": {
    "name": "ipython",
    "version": 3
   },
   "file_extension": ".py",
   "mimetype": "text/x-python",
   "name": "python",
   "nbconvert_exporter": "python",
   "pygments_lexer": "ipython3",
   "version": "3.7.10"
  }
 },
 "nbformat": 4,
 "nbformat_minor": 5
}

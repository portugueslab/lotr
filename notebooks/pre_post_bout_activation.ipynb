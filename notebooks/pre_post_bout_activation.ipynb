{
 "cells": [
  {
   "cell_type": "code",
   "execution_count": null,
   "id": "f437c228",
   "metadata": {},
   "outputs": [],
   "source": [
    "%matplotlib widget"
   ]
  },
  {
   "cell_type": "code",
   "execution_count": null,
   "id": "5bdf3a9b",
   "metadata": {},
   "outputs": [],
   "source": [
    "import numpy as np\n",
    "from scipy.ndimage import gaussian_filter\n",
    "from mpl_toolkits.axes_grid1.inset_locator import inset_axes\n",
    "import seaborn as sns\n",
    "#sns.set(palette=\"deep\")\n",
    "#cols = sns.color_palette()\n",
    "cols = [[0.        , 0.62352941, 0.88627451],\n",
    "        [0.83529412, 0.36470588, 0.28235294]]\n",
    "from pathlib import Path\n",
    "\n",
    "from matplotlib import pyplot as plt\n",
    "from matplotlib import gridspec\n",
    "\n",
    "from lotr import LotrExperiment, DATASET_LOCATION\n",
    "from lotr.pca import pca_and_phase\n",
    "from lotr.plotting import color_stack, despine, add_scalebar, plot_arrow, add_cbar\n",
    "\n",
    "def color_by_activation(roi_stack, exp, idx):\n",
    "    activations = np.full(exp.n_rois, np.nan)\n",
    "    activations[exp.hdn_indexes] = exp.traces[idx, exp.hdn_indexes]\n",
    "    return color_stack(fixed_rois, activations, color_scheme=\"Greens\")"
   ]
  },
  {
   "cell_type": "code",
   "execution_count": null,
   "id": "c20e6d39",
   "metadata": {},
   "outputs": [],
   "source": [
    "# List all experiments\n",
    "master_path = Path(DATASET_LOCATION)\n",
    "\n",
    "path = master_path / \"210314_f1\" / \"210314_f1_natmov\"# \"210926_f0\" / \"210926_f0_gainmod\" \n",
    "\n",
    "exp = LotrExperiment(path)\n",
    "anatomy = exp.anatomy_stack\n",
    "rois_stack = exp.rois_stack\n",
    "\n",
    "pcaed, phase, pca, circle_params = pca_and_phase(exp.traces[:, exp.hdn_indexes])"
   ]
  },
  {
   "cell_type": "code",
   "execution_count": null,
   "id": "65f2ab74",
   "metadata": {},
   "outputs": [],
   "source": [
    "fixed_rois = exp.rois_stack.copy()\n",
    "sizes = np.array([np.sum(fixed_rois==i) for i in exp.hdn_indexes])\n",
    "\n",
    "for i, s in zip(exp.hdn_indexes, sizes):\n",
    "    if s > 300:\n",
    "        fixed_rois[fixed_rois==i] = -1\n",
    "        fixed_rois[fixed_rois==i] = -1"
   ]
  },
  {
   "cell_type": "code",
   "execution_count": null,
   "id": "f800c497",
   "metadata": {},
   "outputs": [],
   "source": [
    "50/0.6"
   ]
  },
  {
   "cell_type": "code",
   "execution_count": null,
   "id": "dfb40fd5",
   "metadata": {},
   "outputs": [],
   "source": [
    "bouts_idxs = dict(rt=[1165, 1010], lf=[3490, 280])\n",
    "\n",
    "t_timepts = 3\n",
    "step = 25\n",
    "\n",
    "fig = plt.figure(figsize=(8, 6))  # plt.subplots(2, 4, figsize=(8, 6))\n",
    "gs = gridspec.GridSpec(5, 4, figure=fig)\n",
    "pca_axs = [fig.add_subplot(gs[:2, i]) for i in range(4)]\n",
    "img_axs = [fig.add_subplot(gs[2:, i]) for i in range(4)]\n",
    "beh_axs = [inset_axes(ax, width=\"100%\", height=\"100%\",\n",
    "                   bbox_to_anchor=(0.3, -0.1, .7, .3),\n",
    "                   bbox_transform=ax.transAxes, loc=2, borderpad=0)for ax in pca_axs]\n",
    "cbar_ax = inset_axes(img_axs[-1], width=\"100%\", height=\"100%\",\n",
    "                   bbox_to_anchor=(.9, 0.05, .05, .15),\n",
    "                   bbox_transform=img_axs[-1].transAxes, loc=2, borderpad=0)\n",
    "\n",
    "y_crop = (260, 80)\n",
    "pca_t_sl = slice(0, 4000)\n",
    "\n",
    "for i in range(2):\n",
    "    for j, side in enumerate([\"rt\", \"lf\"]):\n",
    "        i_col = i*2+j\n",
    "        start_idx = bouts_idxs[side][i]\n",
    "        pca_ax, beh_ax, img_ax = pca_axs[i_col], beh_axs[i_col], img_axs[i_col]\n",
    "        pca_ax.set_title(dict(rt=\"Right bouts\", lf=\"Left bouts\")[side], fontsize=8)\n",
    "        \n",
    "        # PCA plot\n",
    "        # Plot gray:\n",
    "        pca_ax.plot(pcaed[pca_t_sl, 0], -pcaed[pca_t_sl, 1], lw=1, c=(0.9,)*3)\n",
    "            \n",
    "        # Plot segment in color:\n",
    "        pca_seg = pcaed[start_idx: start_idx + step*t_timepts, :].copy()\n",
    "        pca_seg[:, 1] = -pca_seg[:, 1]  # invert one axis to match anatomy\n",
    "        plot_arrow(pca_seg, ax=pca_ax, col=cols[j], s=8)\n",
    "        \n",
    "        pca_ax.axis(\"equal\")\n",
    "        \n",
    "        \n",
    "        \n",
    "        # Behavior plot:\n",
    "        seg = (exp.behavior_log.t > (start_idx / exp.fn)) & \\\n",
    "                    (exp.behavior_log.t < (start_idx + step*t_timepts) / exp.fn)\n",
    "        \n",
    "        # Downsample to reduce number of plot points - maybe rasterize in the future\n",
    "        beh_ax.plot(exp.behavior_log[seg].t[::3], \n",
    "                    exp.behavior_log[seg].tail_sum[::3], lw=1, c=(0.4,)*3)\n",
    "        \n",
    "        beh_ax.set(ylim=(-np.pi, np.pi))\n",
    "        \n",
    "        \n",
    "        xlabel_bh, ylabel_bh = (None, None) if i + j == 0 else (\"\", \"\")\n",
    " \n",
    "        add_scalebar(ax=beh_ax, xlen=3, ylen=2, ypos=-1.5, xlabel=xlabel_bh, ylabel=ylabel_bh,\n",
    "                     xunits=\"s\", yunits=\"rad\", text_params=dict(fontsize=7))\n",
    "        \n",
    "          \n",
    "        # Plot ROI maps:\n",
    "        colored = []\n",
    "        for i_t in range(t_timepts):\n",
    "            idx = start_idx + i_t*step\n",
    "            colored.append(color_by_activation(fixed_rois, exp, idx)[:, :, y_crop[0]:y_crop[1]:-1, :])\n",
    "        stacked = np.concatenate(colored, axis=2)\n",
    "        \n",
    "        im_plot = img_ax.imshow(stacked.max(0).swapaxes(0, 1), aspect=\"equal\", cmap=\"Greens\")\n",
    "        y_span = y_crop[0] - y_crop[1]\n",
    "        \n",
    "        if i + j == 0:\n",
    "            [img_ax.text(-10, i*y_span-10, f\"t={int(i*step/exp.fn)} s\", fontsize=8) \n",
    "                 for i in range(t_timepts)]\n",
    "        \n",
    "        \n",
    "        [despine(ax, \"all\") for ax in [pca_ax, img_ax, beh_ax]]\n",
    "        \n",
    "        if i_col == 0:\n",
    "            add_scalebar(ax=pca_ax, xlen=7, ylen=7, xlabel=\"PC1\", \n",
    "                     ylabel=\"PC2\", text_params=dict(fontsize=8))\n",
    "            add_scalebar(ax=img_ax, ylen=-83, xlen=83, ypos=y_span*3-20, xpos=20,\n",
    "                         xlabel=\"lf.-rt.\", ylabel=\"post.-ant.\",\n",
    "                     text_params=dict(fontsize=8))\n",
    "        elif i_col == 3:\n",
    "            cbar = add_cbar(cbar_ax, im_plot, ticks=[], ticklabels=[])\n",
    "            cbar.set_label(\"ΔF (Z sc.)\", fontsize=8)\n",
    "\n",
    "            \n",
    "fig.savefig(\"/Users/luigipetrucco/Desktop/network_evolution.pdf\")"
   ]
  },
  {
   "cell_type": "code",
   "execution_count": null,
   "id": "1e1cf3d7",
   "metadata": {},
   "outputs": [],
   "source": [
    "cbar.set_label(\"ΔF (Z sc.)\")"
   ]
  },
  {
   "cell_type": "code",
   "execution_count": null,
   "id": "726d1244",
   "metadata": {},
   "outputs": [],
   "source": [
    "plt.figure()\n",
    "plt.imshow(colored[0])"
   ]
  },
  {
   "cell_type": "code",
   "execution_count": null,
   "id": "0eb427c8",
   "metadata": {},
   "outputs": [],
   "source": [
    "colored[0].shape"
   ]
  },
  {
   "cell_type": "code",
   "execution_count": null,
   "id": "41792ad6",
   "metadata": {},
   "outputs": [],
   "source": [
    "color_by_activation(fixed_rois, exp, idx)[:, :, 250:80:-1, :].shape"
   ]
  },
  {
   "cell_type": "code",
   "execution_count": null,
   "id": "dbbd90a6",
   "metadata": {},
   "outputs": [],
   "source": [
    "7/11"
   ]
  },
  {
   "cell_type": "code",
   "execution_count": null,
   "id": "4573f364",
   "metadata": {},
   "outputs": [],
   "source": []
  }
 ],
 "metadata": {
  "kernelspec": {
   "display_name": "rplab",
   "language": "python",
   "name": "rplab"
  },
  "language_info": {
   "codemirror_mode": {
    "name": "ipython",
    "version": 3
   },
   "file_extension": ".py",
   "mimetype": "text/x-python",
   "name": "python",
   "nbconvert_exporter": "python",
   "pygments_lexer": "ipython3"
  }
 },
 "nbformat": 4,
 "nbformat_minor": 5
}

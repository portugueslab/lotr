{
 "cells": [
  {
   "cell_type": "code",
   "execution_count": null,
   "id": "c82c9bba",
   "metadata": {},
   "outputs": [],
   "source": [
    "%matplotlib widget"
   ]
  },
  {
   "cell_type": "code",
   "execution_count": null,
   "id": "4f4bb19c",
   "metadata": {},
   "outputs": [],
   "source": [
    "np.array([[0,159,226],\n",
    "[213,93,72]])/255"
   ]
  },
  {
   "cell_type": "code",
   "execution_count": null,
   "id": "6e94fd1c",
   "metadata": {},
   "outputs": [],
   "source": [
    "import numpy as np\n",
    "from scipy.ndimage import gaussian_filter\n",
    "from mpl_toolkits.axes_grid1.inset_locator import inset_axes\n",
    "import seaborn as sns\n",
    "#sns.set(palette=\"deep\")\n",
    "#cols = sns.color_palette()\n",
    "cols = [[0.        , 0.62352941, 0.88627451],\n",
    "        [0.83529412, 0.36470588, 0.28235294]]\n",
    "from pathlib import Path\n",
    "\n",
    "from matplotlib import pyplot as plt\n",
    "\n",
    "from lotr import LotrExperiment, DATASET_LOCATION\n",
    "from lotr.pca import pca_and_phase\n",
    "from lotr.plotting import color_stack, despine, add_scalebar\n",
    "\n",
    "def color_by_activation(roi_stack, exp, idx):\n",
    "    activations = np.full(exp.n_rois, np.nan)\n",
    "    activations[exp.hdn_indexes] = exp.traces[idx, exp.hdn_indexes]\n",
    "    return color_stack(fixed_rois, activations, color_scheme=\"Greens\")"
   ]
  },
  {
   "cell_type": "code",
   "execution_count": null,
   "id": "6df5743e",
   "metadata": {},
   "outputs": [],
   "source": [
    "# List all experiments\n",
    "master_path = Path(DATASET_LOCATION)\n",
    "\n",
    "path = master_path / \"210314_f1\" / \"210314_f1_natmov\"# \"210926_f0\" / \"210926_f0_gainmod\" \n",
    "\n",
    "exp = LotrExperiment(path)\n",
    "anatomy = exp.anatomy_stack\n",
    "rois_stack = exp.rois_stack\n",
    "\n",
    "pcaed, phase, pca, circle_params = pca_and_phase(exp.traces[:, exp.hdn_indexes])"
   ]
  },
  {
   "cell_type": "code",
   "execution_count": null,
   "id": "71675f38",
   "metadata": {},
   "outputs": [],
   "source": [
    "plt.figure(figsize=(8, 3))\n",
    "plt.plot(np.arange(exp.n_pts), exp.traces[:, exp.hdn_indexes])\n",
    "plt.plot(exp.behavior_log.t*exp.fn, exp.behavior_log.tail_sum + 7)\n",
    "plt.plot(np.unwrap(phase))"
   ]
  },
  {
   "cell_type": "code",
   "execution_count": null,
   "id": "b21242bb",
   "metadata": {},
   "outputs": [],
   "source": [
    "fixed_rois = exp.rois_stack.copy()\n",
    "sizes = np.array([np.sum(fixed_rois==i) for i in exp.hdn_indexes])\n",
    "\n",
    "for i, s in zip(exp.hdn_indexes, sizes):\n",
    "    if s > 300:\n",
    "        fixed_rois[fixed_rois==i] = -1\n",
    "        fixed_rois[fixed_rois==i] = -1"
   ]
  },
  {
   "cell_type": "code",
   "execution_count": null,
   "id": "382cbb41",
   "metadata": {},
   "outputs": [],
   "source": []
  },
  {
   "cell_type": "code",
   "execution_count": null,
   "id": "0a537f71",
   "metadata": {},
   "outputs": [],
   "source": [
    "def plot_arrow(seg, ax=None, col=\"b\", alpha=1, s=10, lw=1):\n",
    "    ax.plot(seg[:, 0], seg[:, 1], lw=lw, c=col, alpha=alpha)\n",
    "    ax.scatter(seg[0, 0], seg[0, 1], zorder=100, s=s, color=col, alpha=alpha, lw=0)\n",
    "    \n",
    "    ax.arrow(seg[-2, 0], seg[-2, 1], (seg[-1, 0] - seg[-2, 0]), (seg[-1, 1] - seg[-2, 1]),  \n",
    "                 head_width=1, head_length=1.2, lw=lw, ec=col, fc=col, \n",
    "             zorder=100, alpha=alpha)"
   ]
  },
  {
   "cell_type": "code",
   "execution_count": null,
   "id": "bd370df7",
   "metadata": {},
   "outputs": [],
   "source": [
    "bouts_idxs = dict(rt=[1165, 1010], lf=[3480, 280])\n",
    "\n",
    "t_timepts = 4\n",
    "f, pca_axs = plt.subplots(1, 4, figsize=(9, 2))\n",
    "step = 20\n",
    "\n",
    "pca_t_sl = slice(None, 4000)\n",
    "for i in range(2):\n",
    "    for j, side in enumerate([\"rt\", \"lf\"]):\n",
    "        \n",
    "add_scalebar(ax=pca_axs[0], xlen=7, ylen=7, xlabel=\"PC1\", ylabel=\"PC2\")"
   ]
  },
  {
   "cell_type": "code",
   "execution_count": null,
   "id": "12634c9d",
   "metadata": {},
   "outputs": [],
   "source": [
    "gs = gridspec.GridSpec(4, 6, figure=fig)\n",
    "axs_scat = [fig.add_subplot(gs[1:, :3]), fig.add_subplot(gs[1:, 3:])]\n",
    "axs_comp = [fig.add_subplot(gs[0, 1:3]), fig.add_subplot(gs[0, 4:])]"
   ]
  },
  {
   "cell_type": "code",
   "execution_count": null,
   "id": "06e604b1",
   "metadata": {},
   "outputs": [],
   "source": [
    "pca_axs.shape"
   ]
  },
  {
   "cell_type": "code",
   "execution_count": null,
   "id": "4a336719",
   "metadata": {},
   "outputs": [],
   "source": [
    "[i*2+j] "
   ]
  },
  {
   "cell_type": "code",
   "execution_count": null,
   "id": "8dfcc194",
   "metadata": {},
   "outputs": [],
   "source": [
    "bouts_idxs = dict(rt=[1165, 1010], lf=[3480, 280])\n",
    "\n",
    "t_timepts = 3\n",
    "step = 25\n",
    "\n",
    "f, axs_all = plt.subplots(2, 4, figsize=(8, 6))\n",
    "pca_axs = axs_all[0, :]\n",
    "\n",
    "y_crop = (250, 80)# slice()\n",
    "for i in range(2):\n",
    "# for i_col, start_idx in enumerate([1200, 3450, 1020, 270]):#8300, 270]):  #1020\n",
    "    for j, side in enumerate([\"rt\", \"lf\"]):\n",
    "        ax = pca_axs[i*2+j]       \n",
    "        ax.plot(pcaed[pca_t_sl, 0], -pcaed[pca_t_sl, 1], lw=1, c=(0.9,)*3)\n",
    "        ax.axis(\"equal\")\n",
    "            \n",
    "        start_idx = bouts_idxs[side][i]\n",
    "        seg = pcaed[start_idx: start_idx + step*t_timepts, :].copy()\n",
    "        seg[:, 1] = -seg[:, 1]\n",
    "        plot_arrow(seg, ax=ax, col=cols[j], s=8)\n",
    "        despine(ax, \"all\")\n",
    "        \n",
    "        i_col = i*2+j\n",
    "        start_idx = bouts_idxs[side][i]\n",
    "        seg = (exp.behavior_log.t > (start_idx / exp.fn)) & \\\n",
    "                    (exp.behavior_log.t < (start_idx + step*t_timepts) / exp.fn)\n",
    "        \n",
    "        beh_ax = inset_axes(ax, width=\"100%\", height=\"100%\",\n",
    "                   bbox_to_anchor=(0.3, -0.1, .8, .3),\n",
    "                   bbox_transform=ax.transAxes, loc=2, borderpad=0)\n",
    "        \n",
    "        beh_ax.plot(exp.behavior_log[seg].t[::3], \n",
    "                    exp.behavior_log[seg].tail_sum[::3], lw=1, c=(0.4,)*3)\n",
    "        \n",
    "        add_scalebar(ax=beh_ax, xlen=3, ylen=2, ypos=-1.5,\n",
    "                     xunits=\"s\", yunits=\"rad\", text_params=dict(fontsize=7))\n",
    "        despine(beh_ax, \"all\")\n",
    "        beh_ax.set(ylim=(-np.pi, np.pi))\n",
    "        \n",
    "        for d in range(2):\n",
    "            despine(axs_all[d, i_col], \"all\")\n",
    "        \n",
    "        axs = axs_all[1, i_col]        \n",
    "        \n",
    "        colored = []\n",
    "        for i_t in range(t_timepts):\n",
    "            idx = start_idx + i_t*step\n",
    "            colored.append(color_by_activation(fixed_rois, exp, idx)[:, :, y_crop[0]:y_crop[1]:-1, :])\n",
    "        stacked = np.concatenate(colored, axis=2)\n",
    "        axs.imshow(stacked.max(0).swapaxes(0, 1), aspect=\"equal\")\n",
    "        [axs.text(0, i, \"a\") for i in ]\n",
    "        axs.set_ylabel(idx)\n",
    "        despine(axs, \"all\")\n",
    "            \n",
    "add_scalebar(ax=axs_all[0, 0], xlen=7, ylen=7, xlabel=\"PC1\", ylabel=\"PC2\", text_params=dict(fontsize=8))"
   ]
  },
  {
   "cell_type": "code",
   "execution_count": null,
   "id": "21445793",
   "metadata": {},
   "outputs": [],
   "source": [
    "plt.figure()\n",
    "plt.imshow(colored[0])"
   ]
  },
  {
   "cell_type": "code",
   "execution_count": null,
   "id": "36e0e230",
   "metadata": {},
   "outputs": [],
   "source": [
    "colored[0].shape"
   ]
  },
  {
   "cell_type": "code",
   "execution_count": null,
   "id": "e7518894",
   "metadata": {},
   "outputs": [],
   "source": [
    "color_by_activation(fixed_rois, exp, idx)[:, :, 250:80:-1, :].shape"
   ]
  },
  {
   "cell_type": "code",
   "execution_count": null,
   "id": "14dfda57",
   "metadata": {},
   "outputs": [],
   "source": []
  }
 ],
 "metadata": {
  "kernelspec": {
   "display_name": "rplab",
   "language": "python",
   "name": "rplab"
  },
  "language_info": {
   "codemirror_mode": {
    "name": "ipython",
    "version": 3
   },
   "file_extension": ".py",
   "mimetype": "text/x-python",
   "name": "python",
   "nbconvert_exporter": "python",
   "pygments_lexer": "ipython3"
  }
 },
 "nbformat": 4,
 "nbformat_minor": 5
}

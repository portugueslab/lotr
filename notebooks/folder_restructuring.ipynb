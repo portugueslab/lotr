{
 "cells": [
  {
   "cell_type": "code",
   "execution_count": null,
   "id": "293405a0",
   "metadata": {},
   "outputs": [],
   "source": [
    "from pathlib import Path\n",
    "import re\n",
    "from shutil import copy\n",
    "\n",
    "from lotr.file_utils import mirror_fish_folder\n",
    "from tqdm import tqdm"
   ]
  },
  {
   "cell_type": "code",
   "execution_count": null,
   "id": "c271b0de",
   "metadata": {},
   "outputs": [],
   "source": [
    "master_source = Path(r\"\\\\FUNES\\Shared\\experiments\\E0040_motions_cardinal\")\n",
    "dest_master_folder = Path(r\"\\\\FUNES\\Shared\\experiments\\E0071_lotr\")"
   ]
  },
  {
   "cell_type": "code",
   "execution_count": null,
   "id": "bffb0805",
   "metadata": {},
   "outputs": [],
   "source": [
    "all_folders_tomove = [f for f in master_source.glob(\"*/*[0-9]_f[0-9]*\") if f.is_dir()]"
   ]
  },
  {
   "cell_type": "code",
   "execution_count": null,
   "id": "3427ddef",
   "metadata": {},
   "outputs": [],
   "source": [
    "\n",
    "\n",
    "for f in tqdm(all_folders_tomove):\n",
    "    fid = \"\".join(re.split(r\"(\\d+)\", f.name.split(\"_\")[1])[:2])  # take only actuall fish id of date and fish number\n",
    "    date = f.name.split(\"_\")[0]\n",
    "    parent_dest_name = dest_master_folder / f\"{date}_{fid}\"\n",
    "    parent_dest_name.mkdir(exist_ok=True)\n",
    "    \n",
    "    dest_name = parent_dest_name / f.name\n",
    "    dest_name.mkdir(exist_ok=True)\n",
    "    \n",
    "    mirror_fish_folder(\n",
    "            f, dest_name,\n",
    "            file_patterns=[\n",
    "                    \"*behavior_log*\",\n",
    "                    \"*stimulus_log*\",\n",
    "                    \"*metadata.json\",\n",
    "                    \"data_from_suite2p_unfiltered.h5\",\n",
    "                    \"*video.mp4\",\n",
    "                    \"*video_times.hdf5\",\n",
    "                    \"*img.png\",\n",
    "                    \"*select*\"\n",
    "                ]\n",
    "        )"
   ]
  },
  {
   "cell_type": "code",
   "execution_count": null,
   "id": "d3022b08",
   "metadata": {},
   "outputs": [],
   "source": [
    "for f in tqdm(all_folders_tomove):\n",
    "    fid = \"\".join(re.split(r\"(\\d+)\", f.name.split(\"_\")[1])[:2])  # take only actuall fish id of date and fish number\n",
    "    date = f.name.split(\"_\")[0]\n",
    "    parent_dest_name = dest_master_folder / f\"{date}_{fid}\"\n",
    "    \n",
    "    print(parent_dest_name)"
   ]
  },
  {
   "cell_type": "code",
   "execution_count": null,
   "id": "a3adb699",
   "metadata": {},
   "outputs": [],
   "source": []
  }
 ],
 "metadata": {
  "kernelspec": {
   "display_name": "rplab",
   "language": "python",
   "name": "rplab"
  },
  "language_info": {
   "codemirror_mode": {
    "name": "ipython",
    "version": 3
   },
   "file_extension": ".py",
   "mimetype": "text/x-python",
   "name": "python",
   "nbconvert_exporter": "python",
   "pygments_lexer": "ipython3",
   "version": "3.7.10"
  }
 },
 "nbformat": 4,
 "nbformat_minor": 5
}
